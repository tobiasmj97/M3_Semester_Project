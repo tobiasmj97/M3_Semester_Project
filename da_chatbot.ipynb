{
 "cells": [
  {
   "cell_type": "markdown",
   "metadata": {},
   "source": [
    "# Customer Service Chatbot Application"
   ]
  },
  {
   "cell_type": "code",
   "execution_count": 1,
   "metadata": {},
   "outputs": [],
   "source": [
    "!pip install gradio --q\n",
    "!pip install typing_extensions --q"
   ]
  },
  {
   "cell_type": "code",
   "execution_count": 2,
   "metadata": {},
   "outputs": [
    {
     "name": "stdout",
     "output_type": "stream",
     "text": [
      "\u001b[38;5;2m✔ Download and installation successful\u001b[0m\n",
      "You can now load the package via spacy.load('da_core_news_md')\n"
     ]
    }
   ],
   "source": [
    "!spacy download da_core_news_md --q"
   ]
  },
  {
   "cell_type": "markdown",
   "metadata": {},
   "source": [
    "## Import liberaries and conversation file"
   ]
  },
  {
   "cell_type": "code",
   "execution_count": 3,
   "metadata": {},
   "outputs": [
    {
     "name": "stderr",
     "output_type": "stream",
     "text": [
      "/Users/tobiasmjensen/anaconda3/envs/bds-chatbot/lib/python3.11/site-packages/tqdm/auto.py:21: TqdmWarning: IProgress not found. Please update jupyter and ipywidgets. See https://ipywidgets.readthedocs.io/en/stable/user_install.html\n",
      "  from .autonotebook import tqdm as notebook_tqdm\n"
     ]
    }
   ],
   "source": [
    "import pandas as pd  # Data manipulation and analysis library\n",
    "import numpy as np  # Numerical computing library\n",
    "import matplotlib.pyplot as plt  # Plotting library\n",
    "import seaborn as sns  # Data visualization library based on matplotlib\n",
    "import gradio as gr  # UI toolkit for creating interactive web interfaces\n",
    "\n",
    "# Utils for various functionalities\n",
    "import json  # JSON encoding and decoding\n",
    "import requests  # HTTP library for making requests\n",
    "import random  # Random number generation\n",
    "import time  # Time-related functions\n",
    "from collections import Counter  # Data structure for counting hashable objects\n",
    "\n",
    "# spaCy library for NLP\n",
    "import spacy  # NLP library for language preprocessing\n",
    "nlp = spacy.load('da_core_news_md')  # Loading Danish language module\n",
    "\n",
    "# Modelling\n",
    "from sklearn.model_selection import train_test_split  # Splitting data into train and test sets\n",
    "from imblearn.pipeline import Pipeline, make_pipeline  # Pipeline creation for data processing\n",
    "from sklearn.feature_extraction.text import TfidfVectorizer  # Text to sparse matrix transformation\n",
    "from sklearn.linear_model import LogisticRegression  # Logistic Regression model\n",
    "\n",
    "# Machine Learning models\n",
    "from sklearn.ensemble import RandomForestClassifier  # Random Forest Classifier\n",
    "from sklearn.neighbors import KNeighborsClassifier  # K-Nearest Neighbors Classifier\n",
    "from nltk.classify.scikitlearn import SklearnClassifier  # NLTK's SklearnClassifier wrapper\n",
    "from sklearn.naive_bayes import MultinomialNB  # Multinomial Naive Bayes Classifier\n",
    "from sklearn import svm  # Support Vector Machines Classifier\n",
    "from sklearn.svm import SVC  # Support Vector Classifier\n",
    "from xgboost.sklearn import XGBClassifier  # XGBoost Classifier\n",
    "from sklearn.tree import DecisionTreeClassifier  # Decision Tree Classifier\n",
    "\n",
    "# Hyperparameter tuning\n",
    "from sklearn.model_selection import GridSearchCV  # Grid Search for hyperparameter tuning\n",
    "\n",
    "# Evaluation metrics\n",
    "from sklearn.metrics import confusion_matrix, ConfusionMatrixDisplay  # Confusion Matrix visualization\n",
    "from sklearn.metrics import classification_report, confusion_matrix, accuracy_score  # Classification report and accuracy score\n",
    "from sklearn.metrics import accuracy_score, precision_score, recall_score, f1_score\n",
    "\n",
    "# For controlling warnings in the code\n",
    "import warnings\n",
    "from sklearn.exceptions import ConvergenceWarning  # Warning related to convergence during model fitting"
   ]
  },
  {
   "cell_type": "code",
   "execution_count": 4,
   "metadata": {},
   "outputs": [],
   "source": [
    "# We will call the below code to ignore all selected warnings in the code for getting more clearn outputs\n",
    "warnings.filterwarnings(\"ignore\", category=FutureWarning)\n",
    "warnings.filterwarnings(\"ignore\", category=ConvergenceWarning)\n",
    "warnings.filterwarnings(\"ignore\", category=UserWarning)\n",
    "warnings.filterwarnings(\"ignore\", category=RuntimeWarning)"
   ]
  },
  {
   "cell_type": "code",
   "execution_count": 5,
   "metadata": {},
   "outputs": [],
   "source": [
    "# stream file from remote online (original/manual FAQ data)\n",
    "original_data = requests.get('https://raw.githubusercontent.com/tobiasmj97/M3_Semester_Project/main/data/convo_snt_chatbot.json')\n",
    "original_json_data = json.loads(original_data.text)"
   ]
  },
  {
   "cell_type": "code",
   "execution_count": 6,
   "metadata": {},
   "outputs": [],
   "source": [
    "# stream file from remote online (synthetic data from chatGPT 4)\n",
    "synthetic_data = requests.get('https://raw.githubusercontent.com/tobiasmj97/M3_Semester_Project/main/data/revised_synthetic_data.json')\n",
    "synthetic_json_data = json.loads(synthetic_data.text)"
   ]
  },
  {
   "cell_type": "markdown",
   "metadata": {},
   "source": [
    "# Data description and understanding"
   ]
  },
  {
   "cell_type": "code",
   "execution_count": 7,
   "metadata": {},
   "outputs": [
    {
     "data": {
      "text/plain": [
       "[{'tag': 'hilsen',\n",
       "  'patterns': ['Hej', 'Halløj', 'Goddag', 'God dag'],\n",
       "  'responses': ['Hej 😊',\n",
       "   'Hej, hvad kan jeg hjælpe med?',\n",
       "   'Hej, hvordan kan jeg hjælpe?']},\n",
       " {'tag': 'svar',\n",
       "  'patterns': ['Går det godt?'],\n",
       "  'responses': ['Det går godt. Hvad med dig?']}]"
      ]
     },
     "execution_count": 7,
     "metadata": {},
     "output_type": "execute_result"
    }
   ],
   "source": [
    "# Retrieving the first two elements from the 'intents' data within the original JSON data\n",
    "original_json_data['intents'][:2]"
   ]
  },
  {
   "cell_type": "code",
   "execution_count": 8,
   "metadata": {},
   "outputs": [],
   "source": [
    "# Reformating data and reformatting into useable data\n",
    "original_data= []\n",
    "\n",
    "for i in original_json_data['intents']:\n",
    "  l = len(i['patterns'])\n",
    "  tuples = list(zip(i['patterns'], l*[i['tag']]))\n",
    "  original_data.extend(tuples)"
   ]
  },
  {
   "cell_type": "code",
   "execution_count": 9,
   "metadata": {},
   "outputs": [
    {
     "data": {
      "text/html": [
       "<div>\n",
       "<style scoped>\n",
       "    .dataframe tbody tr th:only-of-type {\n",
       "        vertical-align: middle;\n",
       "    }\n",
       "\n",
       "    .dataframe tbody tr th {\n",
       "        vertical-align: top;\n",
       "    }\n",
       "\n",
       "    .dataframe thead th {\n",
       "        text-align: right;\n",
       "    }\n",
       "</style>\n",
       "<table border=\"1\" class=\"dataframe\">\n",
       "  <thead>\n",
       "    <tr style=\"text-align: right;\">\n",
       "      <th></th>\n",
       "      <th>txt</th>\n",
       "      <th>label</th>\n",
       "    </tr>\n",
       "  </thead>\n",
       "  <tbody>\n",
       "    <tr>\n",
       "      <th>0</th>\n",
       "      <td>Hej</td>\n",
       "      <td>hilsen</td>\n",
       "    </tr>\n",
       "    <tr>\n",
       "      <th>1</th>\n",
       "      <td>Halløj</td>\n",
       "      <td>hilsen</td>\n",
       "    </tr>\n",
       "    <tr>\n",
       "      <th>2</th>\n",
       "      <td>Goddag</td>\n",
       "      <td>hilsen</td>\n",
       "    </tr>\n",
       "    <tr>\n",
       "      <th>3</th>\n",
       "      <td>God dag</td>\n",
       "      <td>hilsen</td>\n",
       "    </tr>\n",
       "    <tr>\n",
       "      <th>4</th>\n",
       "      <td>Går det godt?</td>\n",
       "      <td>svar</td>\n",
       "    </tr>\n",
       "  </tbody>\n",
       "</table>\n",
       "</div>"
      ],
      "text/plain": [
       "             txt   label\n",
       "0            Hej  hilsen\n",
       "1         Halløj  hilsen\n",
       "2         Goddag  hilsen\n",
       "3        God dag  hilsen\n",
       "4  Går det godt?    svar"
      ]
     },
     "execution_count": 9,
     "metadata": {},
     "output_type": "execute_result"
    }
   ],
   "source": [
    "# Created a pandas DataFrame from our original data\n",
    "df_original = pd.DataFrame(original_data, columns=['txt','label'])\n",
    "df_original.head()"
   ]
  },
  {
   "cell_type": "code",
   "execution_count": 10,
   "metadata": {},
   "outputs": [
    {
     "data": {
      "text/plain": [
       "(167, 2)"
      ]
     },
     "execution_count": 10,
     "metadata": {},
     "output_type": "execute_result"
    }
   ],
   "source": [
    "df_original.shape"
   ]
  },
  {
   "cell_type": "code",
   "execution_count": 11,
   "metadata": {},
   "outputs": [],
   "source": [
    "# Reformating data and reformatting into useable data\n",
    "synthetic_data = []\n",
    "\n",
    "for i in synthetic_json_data['intents']:\n",
    "  l = len(i['patterns'])\n",
    "  tuples = list(zip(i['patterns'], l*[i['tag']]))\n",
    "  synthetic_data.extend(tuples)"
   ]
  },
  {
   "cell_type": "code",
   "execution_count": 12,
   "metadata": {},
   "outputs": [
    {
     "data": {
      "text/html": [
       "<div>\n",
       "<style scoped>\n",
       "    .dataframe tbody tr th:only-of-type {\n",
       "        vertical-align: middle;\n",
       "    }\n",
       "\n",
       "    .dataframe tbody tr th {\n",
       "        vertical-align: top;\n",
       "    }\n",
       "\n",
       "    .dataframe thead th {\n",
       "        text-align: right;\n",
       "    }\n",
       "</style>\n",
       "<table border=\"1\" class=\"dataframe\">\n",
       "  <thead>\n",
       "    <tr style=\"text-align: right;\">\n",
       "      <th></th>\n",
       "      <th>txt</th>\n",
       "      <th>label</th>\n",
       "    </tr>\n",
       "  </thead>\n",
       "  <tbody>\n",
       "    <tr>\n",
       "      <th>0</th>\n",
       "      <td>Hejsa</td>\n",
       "      <td>hilsen</td>\n",
       "    </tr>\n",
       "    <tr>\n",
       "      <th>1</th>\n",
       "      <td>Godmorgen</td>\n",
       "      <td>hilsen</td>\n",
       "    </tr>\n",
       "    <tr>\n",
       "      <th>2</th>\n",
       "      <td>Hej der</td>\n",
       "      <td>hilsen</td>\n",
       "    </tr>\n",
       "    <tr>\n",
       "      <th>3</th>\n",
       "      <td>Goddag til dig</td>\n",
       "      <td>hilsen</td>\n",
       "    </tr>\n",
       "    <tr>\n",
       "      <th>4</th>\n",
       "      <td>Alt vel?</td>\n",
       "      <td>svar</td>\n",
       "    </tr>\n",
       "  </tbody>\n",
       "</table>\n",
       "</div>"
      ],
      "text/plain": [
       "              txt   label\n",
       "0           Hejsa  hilsen\n",
       "1       Godmorgen  hilsen\n",
       "2         Hej der  hilsen\n",
       "3  Goddag til dig  hilsen\n",
       "4        Alt vel?    svar"
      ]
     },
     "execution_count": 12,
     "metadata": {},
     "output_type": "execute_result"
    }
   ],
   "source": [
    "# Created a pandas DataFrame from our synthetic data\n",
    "df_synthetic = pd.DataFrame(synthetic_data, columns=['txt','label'])\n",
    "df_synthetic.head()"
   ]
  },
  {
   "cell_type": "code",
   "execution_count": 13,
   "metadata": {},
   "outputs": [
    {
     "data": {
      "text/plain": [
       "(98, 2)"
      ]
     },
     "execution_count": 13,
     "metadata": {},
     "output_type": "execute_result"
    }
   ],
   "source": [
    "df_synthetic.shape"
   ]
  },
  {
   "cell_type": "markdown",
   "metadata": {},
   "source": [
    "# Merge data"
   ]
  },
  {
   "cell_type": "code",
   "execution_count": 14,
   "metadata": {},
   "outputs": [],
   "source": [
    "# Concatenate along the rows (axis=0)\n",
    "merged_df = pd.concat([df_original, df_synthetic], axis=0, ignore_index=True)"
   ]
  },
  {
   "cell_type": "code",
   "execution_count": 15,
   "metadata": {},
   "outputs": [
    {
     "data": {
      "text/plain": [
       "(265, 2)"
      ]
     },
     "execution_count": 15,
     "metadata": {},
     "output_type": "execute_result"
    }
   ],
   "source": [
    "# Retrieving the dimensions (rows, columns)\n",
    "merged_df.shape"
   ]
  },
  {
   "cell_type": "code",
   "execution_count": 16,
   "metadata": {},
   "outputs": [
    {
     "data": {
      "text/plain": [
       "'hilsen'"
      ]
     },
     "execution_count": 16,
     "metadata": {},
     "output_type": "execute_result"
    }
   ],
   "source": [
    "# Accessing the value in the 'label' column at index 170 in the DataFrame merged_df\n",
    "merged_df['label'][170]"
   ]
  },
  {
   "cell_type": "markdown",
   "metadata": {},
   "source": [
    "# Exploratory data analysis / EDA"
   ]
  },
  {
   "cell_type": "markdown",
   "metadata": {},
   "source": [
    "## Overview of data / Description of the data"
   ]
  },
  {
   "cell_type": "code",
   "execution_count": 17,
   "metadata": {},
   "outputs": [
    {
     "data": {
      "text/plain": [
       "167"
      ]
     },
     "execution_count": 17,
     "metadata": {},
     "output_type": "execute_result"
    }
   ],
   "source": [
    "# How many questions do we have?\n",
    "df_original['txt'].count()"
   ]
  },
  {
   "cell_type": "code",
   "execution_count": 18,
   "metadata": {},
   "outputs": [
    {
     "data": {
      "text/plain": [
       "46"
      ]
     },
     "execution_count": 18,
     "metadata": {},
     "output_type": "execute_result"
    }
   ],
   "source": [
    "# Count number of unique labels\n",
    "df_original[\"label\"].nunique()   "
   ]
  },
  {
   "cell_type": "code",
   "execution_count": 19,
   "metadata": {},
   "outputs": [
    {
     "data": {
      "text/plain": [
       "label\n",
       "Sådan indtaster du din rabatkode eller dit gavekort    6\n",
       "Bestilling i butik                                     5\n",
       "reklamation                                            5\n",
       "Refundering                                            5\n",
       "moms                                                   5\n",
       "hilsen                                                 4\n",
       "Ordrenummer ved returnering                            4\n",
       "Told- og importgebyr                                   4\n",
       "Ombytning eller returnering af gave købt i butik       4\n",
       "Returnering af produkter fra forskellige ordrer        4\n",
       "Name: count, dtype: int64"
      ]
     },
     "execution_count": 19,
     "metadata": {},
     "output_type": "execute_result"
    }
   ],
   "source": [
    "# Value counts for each labels\n",
    "df_original[\"label\"].value_counts()[:10]"
   ]
  },
  {
   "cell_type": "code",
   "execution_count": 20,
   "metadata": {},
   "outputs": [
    {
     "name": "stdout",
     "output_type": "stream",
     "text": [
      "Minimum sentence length :  3\n",
      "Maximum  sentence length :  65\n",
      "Average sentence length :  32.32335329341317\n",
      "Median sentence length :  31.0\n",
      "Mode :  0    29\n",
      "Name: txt, dtype: int64\n"
     ]
    }
   ],
   "source": [
    "# Statistics for the sentences\n",
    "print(\"Minimum sentence length : \", df_original['txt'].str.len().min())\n",
    "print(\"Maximum  sentence length : \", df_original['txt'].str.len().max())\n",
    "print(\"Average sentence length : \", df_original['txt'].str.len().mean())\n",
    "print(\"Median sentence length : \", df_original['txt'].str.len().median())\n",
    "print(\"Mode : \", df_original['txt'].str.len().mode())"
   ]
  },
  {
   "cell_type": "markdown",
   "metadata": {},
   "source": [
    "## EDA on pattern attribute"
   ]
  },
  {
   "cell_type": "code",
   "execution_count": 21,
   "metadata": {},
   "outputs": [
    {
     "data": {
      "image/png": "[encoded data removed]",
      "text/plain": [
       "<Figure size 640x480 with 1 Axes>"
      ]
     },
     "metadata": {},
     "output_type": "display_data"
    }
   ],
   "source": [
    "# Making a histogram for the question and the length of the question\n",
    "df_original['txt'].str.len().hist()\n",
    "\n",
    "# Adding axis titles\n",
    "plt.xlabel('Length of Sentences')\n",
    "plt.ylabel('Frequency')\n",
    "\n",
    "# Adding plot title\n",
    "plt.title('Character Length of Sentence')\n",
    "\n",
    "# Display the plot\n",
    "plt.grid(False)\n",
    "plt.show()"
   ]
  },
  {
   "cell_type": "code",
   "execution_count": 22,
   "metadata": {},
   "outputs": [],
   "source": [
    "text = df_original['txt']"
   ]
  },
  {
   "cell_type": "code",
   "execution_count": 23,
   "metadata": {},
   "outputs": [
    {
     "data": {
      "image/png": "[encoded data removed]",
      "text/plain": [
       "<Figure size 640x480 with 1 Axes>"
      ]
     },
     "metadata": {},
     "output_type": "display_data"
    }
   ],
   "source": [
    "# making a function for average word length in each sentence\n",
    "# average word length in each questions sentence\n",
    "\n",
    "text.str.split().\\\n",
    "    apply(lambda x : [len(i) for i in x]). \\\n",
    "    map(lambda x: np.mean(x)).\\\n",
    "    hist()\n",
    "\n",
    "# Adding axis titles\n",
    "plt.xlabel('Average word length')\n",
    "plt.ylabel('Frequency')\n",
    "\n",
    "# Adding plot title\n",
    "plt.title('Average word length in questions')\n",
    "\n",
    "# Display the plot\n",
    "plt.grid(False)\n",
    "plt.show()"
   ]
  },
  {
   "cell_type": "markdown",
   "metadata": {},
   "source": [
    "### Make additional attributes"
   ]
  },
  {
   "cell_type": "code",
   "execution_count": 24,
   "metadata": {},
   "outputs": [],
   "source": [
    "# Length of questions\n",
    "df_original['Length_txt'] = df_original['txt'].str.len()"
   ]
  },
  {
   "cell_type": "code",
   "execution_count": 25,
   "metadata": {},
   "outputs": [],
   "source": [
    "# count of words for questions\n",
    "def word_count(review):\n",
    "    review_list = review.split()\n",
    "    return len(review_list)\n",
    "\n",
    "df_original['Word_count'] = df_original['txt'].apply(word_count)"
   ]
  },
  {
   "cell_type": "code",
   "execution_count": 26,
   "metadata": {},
   "outputs": [],
   "source": [
    "# mean word length for each question\n",
    "df_original['mean_word_length'] = df_original['txt'].map(lambda rev: np.mean([len(word) for word in rev.split()]))"
   ]
  },
  {
   "cell_type": "code",
   "execution_count": 27,
   "metadata": {},
   "outputs": [],
   "source": [
    "def count_characters(sentence):\n",
    "    return len(sentence)\n",
    "\n",
    "# mean sentence length \n",
    "df_original['mean_sent_length'] = df_original['txt'].apply(lambda x: count_characters(x))"
   ]
  },
  {
   "cell_type": "code",
   "execution_count": 28,
   "metadata": {},
   "outputs": [
    {
     "data": {
      "text/html": [
       "<div>\n",
       "<style scoped>\n",
       "    .dataframe tbody tr th:only-of-type {\n",
       "        vertical-align: middle;\n",
       "    }\n",
       "\n",
       "    .dataframe tbody tr th {\n",
       "        vertical-align: top;\n",
       "    }\n",
       "\n",
       "    .dataframe thead th {\n",
       "        text-align: right;\n",
       "    }\n",
       "</style>\n",
       "<table border=\"1\" class=\"dataframe\">\n",
       "  <thead>\n",
       "    <tr style=\"text-align: right;\">\n",
       "      <th></th>\n",
       "      <th>txt</th>\n",
       "      <th>label</th>\n",
       "      <th>Length_txt</th>\n",
       "      <th>Word_count</th>\n",
       "      <th>mean_word_length</th>\n",
       "      <th>mean_sent_length</th>\n",
       "    </tr>\n",
       "  </thead>\n",
       "  <tbody>\n",
       "    <tr>\n",
       "      <th>0</th>\n",
       "      <td>Hej</td>\n",
       "      <td>hilsen</td>\n",
       "      <td>3</td>\n",
       "      <td>1</td>\n",
       "      <td>3.000000</td>\n",
       "      <td>3</td>\n",
       "    </tr>\n",
       "    <tr>\n",
       "      <th>1</th>\n",
       "      <td>Halløj</td>\n",
       "      <td>hilsen</td>\n",
       "      <td>6</td>\n",
       "      <td>1</td>\n",
       "      <td>6.000000</td>\n",
       "      <td>6</td>\n",
       "    </tr>\n",
       "    <tr>\n",
       "      <th>2</th>\n",
       "      <td>Goddag</td>\n",
       "      <td>hilsen</td>\n",
       "      <td>6</td>\n",
       "      <td>1</td>\n",
       "      <td>6.000000</td>\n",
       "      <td>6</td>\n",
       "    </tr>\n",
       "    <tr>\n",
       "      <th>3</th>\n",
       "      <td>God dag</td>\n",
       "      <td>hilsen</td>\n",
       "      <td>7</td>\n",
       "      <td>2</td>\n",
       "      <td>3.000000</td>\n",
       "      <td>7</td>\n",
       "    </tr>\n",
       "    <tr>\n",
       "      <th>4</th>\n",
       "      <td>Går det godt?</td>\n",
       "      <td>svar</td>\n",
       "      <td>13</td>\n",
       "      <td>3</td>\n",
       "      <td>3.666667</td>\n",
       "      <td>13</td>\n",
       "    </tr>\n",
       "  </tbody>\n",
       "</table>\n",
       "</div>"
      ],
      "text/plain": [
       "             txt   label  Length_txt  Word_count  mean_word_length  \\\n",
       "0            Hej  hilsen           3           1          3.000000   \n",
       "1         Halløj  hilsen           6           1          6.000000   \n",
       "2         Goddag  hilsen           6           1          6.000000   \n",
       "3        God dag  hilsen           7           2          3.000000   \n",
       "4  Går det godt?    svar          13           3          3.666667   \n",
       "\n",
       "   mean_sent_length  \n",
       "0                 3  \n",
       "1                 6  \n",
       "2                 6  \n",
       "3                 7  \n",
       "4                13  "
      ]
     },
     "execution_count": 28,
     "metadata": {},
     "output_type": "execute_result"
    }
   ],
   "source": [
    "# show all the new attributes\n",
    "df_original.head()"
   ]
  },
  {
   "cell_type": "code",
   "execution_count": 29,
   "metadata": {},
   "outputs": [
    {
     "name": "stdout",
     "output_type": "stream",
     "text": [
      "Minimum word count :  1\n",
      "Maximum  word count :  12\n",
      "Average word count :  5.2155688622754495\n",
      "Median word count :  5.0\n",
      "Mode :  0    5\n",
      "Name: Word_count, dtype: int64\n"
     ]
    }
   ],
   "source": [
    "# Statistics for the sentences\n",
    "print(\"Minimum word count : \", df_original['Word_count'].min())\n",
    "print(\"Maximum  word count : \", df_original['Word_count'].max())\n",
    "print(\"Average word count : \", df_original['Word_count'].mean())\n",
    "print(\"Median word count : \", df_original['Word_count'].median())\n",
    "print(\"Mode : \", df_original['Word_count'].mode())"
   ]
  },
  {
   "cell_type": "code",
   "execution_count": 30,
   "metadata": {},
   "outputs": [
    {
     "data": {
      "image/png": "[encoded data removed]",
      "text/plain": [
       "<Figure size 640x480 with 1 Axes>"
      ]
     },
     "metadata": {},
     "output_type": "display_data"
    }
   ],
   "source": [
    "# make a historgram for word count\n",
    "df_original['Word_count'].hist()\n",
    "\n",
    "# Adding axis titles\n",
    "plt.xlabel('Word Count')\n",
    "plt.ylabel('Frequency')\n",
    "\n",
    "# Adding plot title\n",
    "plt.title('Word Count Histogram')\n",
    "\n",
    "# Display the plot\n",
    "plt.grid(False)\n",
    "plt.show()"
   ]
  },
  {
   "cell_type": "code",
   "execution_count": 31,
   "metadata": {},
   "outputs": [
    {
     "data": {
      "image/png": "[encoded data removed]",
      "text/plain": [
       "<Figure size 640x480 with 1 Axes>"
      ]
     },
     "metadata": {},
     "output_type": "display_data"
    }
   ],
   "source": [
    "# box plot for word count and length of questions\n",
    "sns.boxplot(data=df_original, x=\"Word_count\", y=\"Length_txt\")\n",
    "\n",
    "# Adding axis titles\n",
    "plt.xlabel('Word Count')\n",
    "plt.ylabel('Length')\n",
    "\n",
    "# Adding plot title\n",
    "plt.title('Boxplot of Word Count and text length')\n",
    "\n",
    "# Display the plot\n",
    "plt.grid(False)\n",
    "plt.show()\n"
   ]
  },
  {
   "cell_type": "markdown",
   "metadata": {},
   "source": [
    "## EDA on stop words and most frequent words"
   ]
  },
  {
   "cell_type": "code",
   "execution_count": 32,
   "metadata": {},
   "outputs": [],
   "source": [
    "# setting the text to df_original['txt']\n",
    "text = df_original['txt']\n",
    "\n",
    "# Creating a list of stopwords using spaCy's default stop words\n",
    "stopwords = list(nlp.Defaults.stop_words)"
   ]
  },
  {
   "cell_type": "code",
   "execution_count": 33,
   "metadata": {},
   "outputs": [
    {
     "data": {
      "text/plain": [
       "<BarContainer object of 10 artists>"
      ]
     },
     "execution_count": 33,
     "metadata": {},
     "output_type": "execute_result"
    },
    {
     "data": {
      "image/png": "[encoded data removed]",
      "text/plain": [
       "<Figure size 640x480 with 1 Axes>"
      ]
     },
     "metadata": {},
     "output_type": "display_data"
    }
   ],
   "source": [
    "# Splitting the 'text' into words and creating a corpus (a flat list of all words)\n",
    "new = text.str.split()\n",
    "new = new.values.tolist()\n",
    "corpus = [word for sublist in new for word in sublist]\n",
    "\n",
    "# Counting the occurrences of stopwords in the corpus using a defaultdict\n",
    "from collections import defaultdict\n",
    "dic = defaultdict(int)\n",
    "for word in corpus:\n",
    "    if word in stopwords:\n",
    "        dic[word] += 1\n",
    "\n",
    "# Selecting the top 10 most frequent stopwords\n",
    "top = sorted(dic.items(), key=lambda x: x[1], reverse=True)[:10]\n",
    "x, y = zip(*top)\n",
    "\n",
    "# Adding axis titles\n",
    "plt.xlabel('Stopwords')\n",
    "plt.ylabel('Frequency')\n",
    "\n",
    "# Adding plot title\n",
    "plt.title('Top 10 stopwords barchart')\n",
    "\n",
    "# Display the plot\n",
    "plt.grid(False)\n",
    "plt.bar(x, y)"
   ]
  },
  {
   "cell_type": "code",
   "execution_count": 34,
   "metadata": {},
   "outputs": [
    {
     "data": {
      "text/plain": [
       "[('jeg', 58),\n",
       " ('i', 23),\n",
       " ('min', 18),\n",
       " ('er', 16),\n",
       " ('med', 13),\n",
       " ('en', 12),\n",
       " ('til', 11),\n",
       " ('på', 11),\n",
       " ('fra', 10),\n",
       " ('af', 10)]"
      ]
     },
     "execution_count": 34,
     "metadata": {},
     "output_type": "execute_result"
    }
   ],
   "source": [
    "# Splitting the 'text' into words and creating a corpus (a flat list of all words)\n",
    "new = text.str.split()  # Splitting the text into individual words\n",
    "new = new.values.tolist()  # Converting the split words to a list\n",
    "corpus = [word for sublist in new for word in sublist]  # Creating a flat list of words\n",
    "\n",
    "from collections import defaultdict\n",
    "# Initializing a dictionary to store word frequencies\n",
    "dic = defaultdict(int)\n",
    "\n",
    "# Counting the occurrences of words in the corpus that are present in the stopwords list\n",
    "for word in corpus:\n",
    "    if word in stopwords:\n",
    "        dic[word] += 1\n",
    "\n",
    "# Selecting the top 10 most frequent stopwords based on their counts\n",
    "top = sorted(dic.items(), key=lambda x: x[1], reverse=True)[:10]\n",
    "\n",
    "# display top 10 most frequent stopwords\n",
    "top"
   ]
  },
  {
   "cell_type": "code",
   "execution_count": 35,
   "metadata": {},
   "outputs": [
    {
     "data": {
      "text/plain": [
       "<Axes: title={'center': 'Top non-stopwords barchart'}, xlabel='Frequency', ylabel='Stopwords'>"
      ]
     },
     "execution_count": 35,
     "metadata": {},
     "output_type": "execute_result"
    },
    {
     "data": {
      "image/png": "[encoded data removed]",
      "text/plain": [
       "<Figure size 640x480 with 1 Axes>"
      ]
     },
     "metadata": {},
     "output_type": "display_data"
    }
   ],
   "source": [
    "# Splitting the 'text' into words and creating a corpus (a flat list of all words)\n",
    "new = text.str.split()  # Splitting the text into individual words\n",
    "new = new.values.tolist()  # Converting the split words to a list\n",
    "corpus = [word for sublist in new for word in sublist]  # Creating a flat list of words\n",
    "\n",
    "# Counting the occurrences of each word in the corpus\n",
    "counter = Counter(corpus)\n",
    "most = counter.most_common()  # Extracting the most common words and their counts\n",
    "\n",
    "x, y = [], []\n",
    "# Extracting the top 40 most common non-stopwords for visualization\n",
    "for word, count in most[:40]:\n",
    "    if word not in stopwords:  # Checking if the word is not a stopword\n",
    "        x.append(word)  # Storing the word\n",
    "        y.append(count)  # Storing its count\n",
    "\n",
    "# Adding axis titles\n",
    "plt.xlabel('Frequency')\n",
    "plt.ylabel('Stopwords')\n",
    "\n",
    "# Adding plot title\n",
    "plt.title('Top non-stopwords barchart')\n",
    "\n",
    "# Display the plot\n",
    "plt.grid(False)\n",
    "sns.barplot(x=y, y=x)"
   ]
  },
  {
   "cell_type": "code",
   "execution_count": 36,
   "metadata": {},
   "outputs": [
    {
     "data": {
      "text/plain": [
       "[('Hvordan', 43),\n",
       " ('Kan', 21),\n",
       " ('Jeg', 13),\n",
       " ('ordre', 11),\n",
       " ('Hvad', 11),\n",
       " ('produkt', 10),\n",
       " ('produkter', 8),\n",
       " ('ordre?', 8),\n",
       " ('modtaget', 7),\n",
       " ('butik', 6)]"
      ]
     },
     "execution_count": 36,
     "metadata": {},
     "output_type": "execute_result"
    }
   ],
   "source": [
    "# Splitting the 'text' into words and creating a corpus (a flat list of all words)\n",
    "new = text.str.split()  # Splitting the text into individual words\n",
    "new = new.values.tolist()  # Converting the split words to a list\n",
    "corpus = [word for sublist in new for word in sublist]  # Creating a flat list of words\n",
    "\n",
    "# Counting the occurrences of each word in the corpus\n",
    "counter = Counter(corpus)\n",
    "most = counter.most_common()  # Extracting the most common words and their counts\n",
    "\n",
    "# Selecting the top 10 most common non-stopwords\n",
    "top_non_stopwords = [(word, count) for word, count in most if word not in stopwords][:10]\n",
    "\n",
    "# display top 10 most common non-stopwords\n",
    "top_non_stopwords"
   ]
  },
  {
   "cell_type": "markdown",
   "metadata": {},
   "source": [
    "# Data cleaning and preparation"
   ]
  },
  {
   "cell_type": "markdown",
   "metadata": {},
   "source": [
    "## Text Preprocessing"
   ]
  },
  {
   "cell_type": "code",
   "execution_count": 37,
   "metadata": {},
   "outputs": [],
   "source": [
    "def text_prepro(texts):\n",
    "    \"\"\"\n",
    "    Takes in a list/iterable of texts\n",
    "    Lowercases and normalizes text\n",
    "    \"\"\"\n",
    "\n",
    "    clean_container = []  # Container to store cleaned texts\n",
    "\n",
    "    # Loop through each text in the list/iterable\n",
    "    for text in nlp.pipe(texts, disable=[\"parser\", \"ner\"]):  # Using spaCy for text processing\n",
    "\n",
    "        # Extracting lemmatized lowercase tokens without numbers or punctuation\n",
    "        txt = [token.lemma_.lower() for token in text\n",
    "               if token.is_alpha  # Remove numbers\n",
    "               and not token.is_punct]  # Remove punctuation\n",
    "\n",
    "        clean_container.append(\" \".join(txt))  # Joining the cleaned tokens back into text\n",
    "\n",
    "    return clean_container  # Returning the cleaned texts in a list"
   ]
  },
  {
   "cell_type": "code",
   "execution_count": 38,
   "metadata": {},
   "outputs": [
    {
     "data": {
      "text/plain": [
       "(300,)"
      ]
     },
     "execution_count": 38,
     "metadata": {},
     "output_type": "execute_result"
    }
   ],
   "source": [
    "# Using spaCy's NLP pipeline to process the text at index 15 in the 'txt' column of the DataFrame\n",
    "# Extracting the vector representation and retrieving its shape\n",
    "nlp(df_original['txt'][15]).vector.shape"
   ]
  },
  {
   "cell_type": "code",
   "execution_count": 39,
   "metadata": {},
   "outputs": [
    {
     "data": {
      "text/plain": [
       "'Hvordan bestiller jeg produkter fra butikken?'"
      ]
     },
     "execution_count": 39,
     "metadata": {},
     "output_type": "execute_result"
    }
   ],
   "source": [
    "# Accessing the text data at index 15 in the 'txt' column of the DataFrame df_original\n",
    "df_original['txt'][15]"
   ]
  },
  {
   "cell_type": "markdown",
   "metadata": {},
   "source": [
    "# Model building"
   ]
  },
  {
   "cell_type": "code",
   "execution_count": 40,
   "metadata": {},
   "outputs": [],
   "source": [
    "# Applying text preprocessing function to create a new column 'txt_p' in the original and synthetic dataframes\n",
    "df_original['txt_p'] = text_prepro(df_original['txt'])\n",
    "df_synthetic['txt_p'] = text_prepro(df_synthetic['txt'])"
   ]
  },
  {
   "cell_type": "code",
   "execution_count": 41,
   "metadata": {},
   "outputs": [
    {
     "data": {
      "text/html": [
       "<div>\n",
       "<style scoped>\n",
       "    .dataframe tbody tr th:only-of-type {\n",
       "        vertical-align: middle;\n",
       "    }\n",
       "\n",
       "    .dataframe tbody tr th {\n",
       "        vertical-align: top;\n",
       "    }\n",
       "\n",
       "    .dataframe thead th {\n",
       "        text-align: right;\n",
       "    }\n",
       "</style>\n",
       "<table border=\"1\" class=\"dataframe\">\n",
       "  <thead>\n",
       "    <tr style=\"text-align: right;\">\n",
       "      <th></th>\n",
       "      <th>txt</th>\n",
       "      <th>label</th>\n",
       "      <th>Length_txt</th>\n",
       "      <th>Word_count</th>\n",
       "      <th>mean_word_length</th>\n",
       "      <th>mean_sent_length</th>\n",
       "      <th>txt_p</th>\n",
       "    </tr>\n",
       "  </thead>\n",
       "  <tbody>\n",
       "    <tr>\n",
       "      <th>0</th>\n",
       "      <td>Hej</td>\n",
       "      <td>hilsen</td>\n",
       "      <td>3</td>\n",
       "      <td>1</td>\n",
       "      <td>3.000000</td>\n",
       "      <td>3</td>\n",
       "      <td>hej</td>\n",
       "    </tr>\n",
       "    <tr>\n",
       "      <th>1</th>\n",
       "      <td>Halløj</td>\n",
       "      <td>hilsen</td>\n",
       "      <td>6</td>\n",
       "      <td>1</td>\n",
       "      <td>6.000000</td>\n",
       "      <td>6</td>\n",
       "      <td>halløj</td>\n",
       "    </tr>\n",
       "    <tr>\n",
       "      <th>2</th>\n",
       "      <td>Goddag</td>\n",
       "      <td>hilsen</td>\n",
       "      <td>6</td>\n",
       "      <td>1</td>\n",
       "      <td>6.000000</td>\n",
       "      <td>6</td>\n",
       "      <td>goddag</td>\n",
       "    </tr>\n",
       "    <tr>\n",
       "      <th>3</th>\n",
       "      <td>God dag</td>\n",
       "      <td>hilsen</td>\n",
       "      <td>7</td>\n",
       "      <td>2</td>\n",
       "      <td>3.000000</td>\n",
       "      <td>7</td>\n",
       "      <td>god dag</td>\n",
       "    </tr>\n",
       "    <tr>\n",
       "      <th>4</th>\n",
       "      <td>Går det godt?</td>\n",
       "      <td>svar</td>\n",
       "      <td>13</td>\n",
       "      <td>3</td>\n",
       "      <td>3.666667</td>\n",
       "      <td>13</td>\n",
       "      <td>gå det godt</td>\n",
       "    </tr>\n",
       "  </tbody>\n",
       "</table>\n",
       "</div>"
      ],
      "text/plain": [
       "             txt   label  Length_txt  Word_count  mean_word_length  \\\n",
       "0            Hej  hilsen           3           1          3.000000   \n",
       "1         Halløj  hilsen           6           1          6.000000   \n",
       "2         Goddag  hilsen           6           1          6.000000   \n",
       "3        God dag  hilsen           7           2          3.000000   \n",
       "4  Går det godt?    svar          13           3          3.666667   \n",
       "\n",
       "   mean_sent_length        txt_p  \n",
       "0                 3          hej  \n",
       "1                 6       halløj  \n",
       "2                 6       goddag  \n",
       "3                 7      god dag  \n",
       "4                13  gå det godt  "
      ]
     },
     "execution_count": 41,
     "metadata": {},
     "output_type": "execute_result"
    }
   ],
   "source": [
    "df_original.head()"
   ]
  },
  {
   "cell_type": "code",
   "execution_count": 42,
   "metadata": {},
   "outputs": [
    {
     "data": {
      "text/html": [
       "<div>\n",
       "<style scoped>\n",
       "    .dataframe tbody tr th:only-of-type {\n",
       "        vertical-align: middle;\n",
       "    }\n",
       "\n",
       "    .dataframe tbody tr th {\n",
       "        vertical-align: top;\n",
       "    }\n",
       "\n",
       "    .dataframe thead th {\n",
       "        text-align: right;\n",
       "    }\n",
       "</style>\n",
       "<table border=\"1\" class=\"dataframe\">\n",
       "  <thead>\n",
       "    <tr style=\"text-align: right;\">\n",
       "      <th></th>\n",
       "      <th>txt</th>\n",
       "      <th>label</th>\n",
       "      <th>txt_p</th>\n",
       "    </tr>\n",
       "  </thead>\n",
       "  <tbody>\n",
       "    <tr>\n",
       "      <th>0</th>\n",
       "      <td>Hejsa</td>\n",
       "      <td>hilsen</td>\n",
       "      <td>hejsa</td>\n",
       "    </tr>\n",
       "    <tr>\n",
       "      <th>1</th>\n",
       "      <td>Godmorgen</td>\n",
       "      <td>hilsen</td>\n",
       "      <td>godmorgen</td>\n",
       "    </tr>\n",
       "    <tr>\n",
       "      <th>2</th>\n",
       "      <td>Hej der</td>\n",
       "      <td>hilsen</td>\n",
       "      <td>hej der</td>\n",
       "    </tr>\n",
       "    <tr>\n",
       "      <th>3</th>\n",
       "      <td>Goddag til dig</td>\n",
       "      <td>hilsen</td>\n",
       "      <td>goddag til du</td>\n",
       "    </tr>\n",
       "    <tr>\n",
       "      <th>4</th>\n",
       "      <td>Alt vel?</td>\n",
       "      <td>svar</td>\n",
       "      <td>al vel</td>\n",
       "    </tr>\n",
       "  </tbody>\n",
       "</table>\n",
       "</div>"
      ],
      "text/plain": [
       "              txt   label          txt_p\n",
       "0           Hejsa  hilsen          hejsa\n",
       "1       Godmorgen  hilsen      godmorgen\n",
       "2         Hej der  hilsen        hej der\n",
       "3  Goddag til dig  hilsen  goddag til du\n",
       "4        Alt vel?    svar         al vel"
      ]
     },
     "execution_count": 42,
     "metadata": {},
     "output_type": "execute_result"
    }
   ],
   "source": [
    "df_synthetic.head()"
   ]
  },
  {
   "cell_type": "code",
   "execution_count": 43,
   "metadata": {},
   "outputs": [],
   "source": [
    "# Splitting the data into training and test sets for modeling\n",
    "# Features (X) are the preprocessed text ('txt_p'), labels (y) are from the 'label' column\n",
    "# Using 80% of the data for training and 20% for testing, and setting a random seed for reproducibility\n",
    "X = df_original['txt_p']\n",
    "y = df_original['label']\n",
    "X_train, X_test, y_train, y_test = train_test_split(X, y, test_size=0.2, random_state=42)"
   ]
  },
  {
   "cell_type": "markdown",
   "metadata": {},
   "source": [
    "## Merged data split"
   ]
  },
  {
   "cell_type": "code",
   "execution_count": 44,
   "metadata": {},
   "outputs": [],
   "source": [
    "# Applying text preprocessing function to create a new column 'txt_p' in the merged dataframe\n",
    "merged_df['txt_p'] = text_prepro(merged_df['txt'])"
   ]
  },
  {
   "cell_type": "code",
   "execution_count": 45,
   "metadata": {},
   "outputs": [
    {
     "data": {
      "text/html": [
       "<div>\n",
       "<style scoped>\n",
       "    .dataframe tbody tr th:only-of-type {\n",
       "        vertical-align: middle;\n",
       "    }\n",
       "\n",
       "    .dataframe tbody tr th {\n",
       "        vertical-align: top;\n",
       "    }\n",
       "\n",
       "    .dataframe thead th {\n",
       "        text-align: right;\n",
       "    }\n",
       "</style>\n",
       "<table border=\"1\" class=\"dataframe\">\n",
       "  <thead>\n",
       "    <tr style=\"text-align: right;\">\n",
       "      <th></th>\n",
       "      <th>txt</th>\n",
       "      <th>label</th>\n",
       "      <th>txt_p</th>\n",
       "    </tr>\n",
       "  </thead>\n",
       "  <tbody>\n",
       "    <tr>\n",
       "      <th>0</th>\n",
       "      <td>Hej</td>\n",
       "      <td>hilsen</td>\n",
       "      <td>hej</td>\n",
       "    </tr>\n",
       "    <tr>\n",
       "      <th>1</th>\n",
       "      <td>Halløj</td>\n",
       "      <td>hilsen</td>\n",
       "      <td>halløj</td>\n",
       "    </tr>\n",
       "    <tr>\n",
       "      <th>2</th>\n",
       "      <td>Goddag</td>\n",
       "      <td>hilsen</td>\n",
       "      <td>goddag</td>\n",
       "    </tr>\n",
       "    <tr>\n",
       "      <th>3</th>\n",
       "      <td>God dag</td>\n",
       "      <td>hilsen</td>\n",
       "      <td>god dag</td>\n",
       "    </tr>\n",
       "    <tr>\n",
       "      <th>4</th>\n",
       "      <td>Går det godt?</td>\n",
       "      <td>svar</td>\n",
       "      <td>gå det godt</td>\n",
       "    </tr>\n",
       "  </tbody>\n",
       "</table>\n",
       "</div>"
      ],
      "text/plain": [
       "             txt   label        txt_p\n",
       "0            Hej  hilsen          hej\n",
       "1         Halløj  hilsen       halløj\n",
       "2         Goddag  hilsen       goddag\n",
       "3        God dag  hilsen      god dag\n",
       "4  Går det godt?    svar  gå det godt"
      ]
     },
     "execution_count": 45,
     "metadata": {},
     "output_type": "execute_result"
    }
   ],
   "source": [
    "merged_df.head()"
   ]
  },
  {
   "cell_type": "code",
   "execution_count": 46,
   "metadata": {},
   "outputs": [],
   "source": [
    "# Splitting the merged data into training and test sets for modeling\n",
    "# Features (X_merged) are the preprocessed text ('txt_p'), labels (y_merged) are from the 'label' column\n",
    "# Using 80% of the data for training and 20% for testing, and setting a random seed for reproducibility\n",
    "X_merged = merged_df['txt_p']\n",
    "y_merged = merged_df['label']\n",
    "X_train_merged, X_test_merged, y_train_merged, y_test_merged = train_test_split(X_merged, y_merged, test_size=0.2, random_state=42)"
   ]
  },
  {
   "cell_type": "markdown",
   "metadata": {},
   "source": [
    "## Synthetic data"
   ]
  },
  {
   "cell_type": "code",
   "execution_count": 47,
   "metadata": {},
   "outputs": [],
   "source": [
    "# Creating validation data for synthetic data\n",
    "# Features (X_val) are the preprocessed text ('txt_p') from the synthetic dataframe\n",
    "# Labels (y_val) are from the 'label' column in the synthetic dataframe\n",
    "X_val = df_synthetic['txt_p']\n",
    "y_val = df_synthetic['label']"
   ]
  },
  {
   "cell_type": "markdown",
   "metadata": {},
   "source": [
    "# Model training"
   ]
  },
  {
   "cell_type": "markdown",
   "metadata": {},
   "source": [
    "## Word2Vec Models (W2V)"
   ]
  },
  {
   "cell_type": "code",
   "execution_count": 48,
   "metadata": {},
   "outputs": [],
   "source": [
    "# Generating word vectors for the texts in the training and test sets separately and stacking them into matrices\n",
    "# Looping through each text in X_train, processing them through spaCy's pipeline to get word vectors,\n",
    "# and stacking these vectors into a matrix\n",
    "\n",
    "# For the original data\n",
    "X_train_W2V = np.vstack([txt.vector for txt in nlp.pipe(X_train, disable=[\"parser\", \"ner\"])])  # Word vectors for training set\n",
    "X_test_W2V = np.vstack([txt.vector for txt in nlp.pipe(X_test, disable=[\"parser\", \"ner\"])])  # Word vectors for test set\n",
    "\n",
    "# For the merged data\n",
    "X_train_merged_W2V = np.vstack([txt.vector for txt in nlp.pipe(X_train_merged, disable=[\"parser\", \"ner\"])])  # Word vectors for training set of merged data\n",
    "X_test_merged_W2V = np.vstack([txt.vector for txt in nlp.pipe(X_test_merged, disable=[\"parser\", \"ner\"])])  # Word vectors for test set of merged data"
   ]
  },
  {
   "cell_type": "markdown",
   "metadata": {},
   "source": [
    "### W2V + Multinomial LogisticRegression"
   ]
  },
  {
   "cell_type": "markdown",
   "metadata": {},
   "source": [
    "### TF-IDF + LogisticRegression"
   ]
  },
  {
   "cell_type": "code",
   "execution_count": 49,
   "metadata": {},
   "outputs": [],
   "source": [
    "# Creating a Logistic Regression model for multi-class classification\n",
    "model_w2v_lr = LogisticRegression(multi_class='multinomial')\n",
    "model_w2v_lr_merged = LogisticRegression(multi_class='multinomial')"
   ]
  },
  {
   "cell_type": "code",
   "execution_count": 50,
   "metadata": {},
   "outputs": [
    {
     "data": {
      "text/html": [
       "<style>#sk-container-id-1 {color: black;}#sk-container-id-1 pre{padding: 0;}#sk-container-id-1 div.sk-toggleable {background-color: white;}#sk-container-id-1 label.sk-toggleable__label {cursor: pointer;display: block;width: 100%;margin-bottom: 0;padding: 0.3em;box-sizing: border-box;text-align: center;}#sk-container-id-1 label.sk-toggleable__label-arrow:before {content: \"▸\";float: left;margin-right: 0.25em;color: #696969;}#sk-container-id-1 label.sk-toggleable__label-arrow:hover:before {color: black;}#sk-container-id-1 div.sk-estimator:hover label.sk-toggleable__label-arrow:before {color: black;}#sk-container-id-1 div.sk-toggleable__content {max-height: 0;max-width: 0;overflow: hidden;text-align: left;background-color: #f0f8ff;}#sk-container-id-1 div.sk-toggleable__content pre {margin: 0.2em;color: black;border-radius: 0.25em;background-color: #f0f8ff;}#sk-container-id-1 input.sk-toggleable__control:checked~div.sk-toggleable__content {max-height: 200px;max-width: 100%;overflow: auto;}#sk-container-id-1 input.sk-toggleable__control:checked~label.sk-toggleable__label-arrow:before {content: \"▾\";}#sk-container-id-1 div.sk-estimator input.sk-toggleable__control:checked~label.sk-toggleable__label {background-color: #d4ebff;}#sk-container-id-1 div.sk-label input.sk-toggleable__control:checked~label.sk-toggleable__label {background-color: #d4ebff;}#sk-container-id-1 input.sk-hidden--visually {border: 0;clip: rect(1px 1px 1px 1px);clip: rect(1px, 1px, 1px, 1px);height: 1px;margin: -1px;overflow: hidden;padding: 0;position: absolute;width: 1px;}#sk-container-id-1 div.sk-estimator {font-family: monospace;background-color: #f0f8ff;border: 1px dotted black;border-radius: 0.25em;box-sizing: border-box;margin-bottom: 0.5em;}#sk-container-id-1 div.sk-estimator:hover {background-color: #d4ebff;}#sk-container-id-1 div.sk-parallel-item::after {content: \"\";width: 100%;border-bottom: 1px solid gray;flex-grow: 1;}#sk-container-id-1 div.sk-label:hover label.sk-toggleable__label {background-color: #d4ebff;}#sk-container-id-1 div.sk-serial::before {content: \"\";position: absolute;border-left: 1px solid gray;box-sizing: border-box;top: 0;bottom: 0;left: 50%;z-index: 0;}#sk-container-id-1 div.sk-serial {display: flex;flex-direction: column;align-items: center;background-color: white;padding-right: 0.2em;padding-left: 0.2em;position: relative;}#sk-container-id-1 div.sk-item {position: relative;z-index: 1;}#sk-container-id-1 div.sk-parallel {display: flex;align-items: stretch;justify-content: center;background-color: white;position: relative;}#sk-container-id-1 div.sk-item::before, #sk-container-id-1 div.sk-parallel-item::before {content: \"\";position: absolute;border-left: 1px solid gray;box-sizing: border-box;top: 0;bottom: 0;left: 50%;z-index: -1;}#sk-container-id-1 div.sk-parallel-item {display: flex;flex-direction: column;z-index: 1;position: relative;background-color: white;}#sk-container-id-1 div.sk-parallel-item:first-child::after {align-self: flex-end;width: 50%;}#sk-container-id-1 div.sk-parallel-item:last-child::after {align-self: flex-start;width: 50%;}#sk-container-id-1 div.sk-parallel-item:only-child::after {width: 0;}#sk-container-id-1 div.sk-dashed-wrapped {border: 1px dashed gray;margin: 0 0.4em 0.5em 0.4em;box-sizing: border-box;padding-bottom: 0.4em;background-color: white;}#sk-container-id-1 div.sk-label label {font-family: monospace;font-weight: bold;display: inline-block;line-height: 1.2em;}#sk-container-id-1 div.sk-label-container {text-align: center;}#sk-container-id-1 div.sk-container {/* jupyter's `normalize.less` sets `[hidden] { display: none; }` but bootstrap.min.css set `[hidden] { display: none !important; }` so we also need the `!important` here to be able to override the default hidden behavior on the sphinx rendered scikit-learn.org. See: https://github.com/scikit-learn/scikit-learn/issues/21755 */display: inline-block !important;position: relative;}#sk-container-id-1 div.sk-text-repr-fallback {display: none;}</style><div id=\"sk-container-id-1\" class=\"sk-top-container\"><div class=\"sk-text-repr-fallback\"><pre>LogisticRegression(multi_class=&#x27;multinomial&#x27;)</pre><b>In a Jupyter environment, please rerun this cell to show the HTML representation or trust the notebook. <br />On GitHub, the HTML representation is unable to render, please try loading this page with nbviewer.org.</b></div><div class=\"sk-container\" hidden><div class=\"sk-item\"><div class=\"sk-estimator sk-toggleable\"><input class=\"sk-toggleable__control sk-hidden--visually\" id=\"sk-estimator-id-1\" type=\"checkbox\" checked><label for=\"sk-estimator-id-1\" class=\"sk-toggleable__label sk-toggleable__label-arrow\">LogisticRegression</label><div class=\"sk-toggleable__content\"><pre>LogisticRegression(multi_class=&#x27;multinomial&#x27;)</pre></div></div></div></div></div>"
      ],
      "text/plain": [
       "LogisticRegression(multi_class='multinomial')"
      ]
     },
     "execution_count": 50,
     "metadata": {},
     "output_type": "execute_result"
    }
   ],
   "source": [
    "# Fitting the Logistic Regression model on the training data with word vectors\n",
    "model_w2v_lr.fit(X_train_W2V, y_train)\n",
    "\n",
    "# Fitting the merged Logistic Regression model on the training data with word vectors\n",
    "model_w2v_lr_merged.fit(X_train_merged_W2V, y_train_merged)"
   ]
  },
  {
   "cell_type": "code",
   "execution_count": 51,
   "metadata": {},
   "outputs": [],
   "source": [
    "# Predicting labels for the training set using the trained Logistic Regression model\n",
    "y_pred_train = model_w2v_lr.predict(X_train_W2V)\n",
    "\n",
    "# Predicting labels for the test set using the trained Logistic Regression model\n",
    "y_pred_test = model_w2v_lr.predict(X_test_W2V)\n",
    "\n",
    "# Predicting labels for the merged training set using the trained Logistic Regression model\n",
    "y_pred_train_merged = model_w2v_lr_merged.predict(X_train_merged_W2V)\n",
    "\n",
    "# Predicting labels for the merged test set using the trained Logistic Regression model\n",
    "y_pred_test_merged = model_w2v_lr_merged.predict(X_test_merged_W2V)"
   ]
  },
  {
   "cell_type": "code",
   "execution_count": 52,
   "metadata": {},
   "outputs": [
    {
     "name": "stdout",
     "output_type": "stream",
     "text": [
      "classification_report train original\n",
      "                                                              precision    recall  f1-score   support\n",
      "\n",
      "                                          Afhentning i butik       1.00      1.00      1.00         4\n",
      "                                        Annullering af ordre       1.00      1.00      1.00         4\n",
      "                                          Bestilling i butik       1.00      1.00      1.00         2\n",
      "                                         Betaling med Klarna       1.00      1.00      1.00         4\n",
      "                                         Betalingsmuligheder       1.00      1.00      1.00         2\n",
      "                                     Defekt produkt modtaget       1.00      1.00      1.00         4\n",
      "                                                     Erhverv       1.00      1.00      1.00         3\n",
      "                                    Forkert produkt modtaget       1.00      1.00      1.00         4\n",
      "                                                    Gavekort       1.00      1.00      1.00         2\n",
      "       Hvor kan man købe produkter fra Shaping New Tomorrow?       1.00      1.00      1.00         4\n",
      "                       Hvornår modtager jeg min refundering?       1.00      1.00      1.00         4\n",
      "Kan jeg få besked, når en udsolgt vare kommer på lager igen?       1.00      1.00      1.00         2\n",
      "                                        Levering i weekenden       1.00      1.00      1.00         3\n",
      "                                      Leveringsinformationer       0.80      1.00      0.89         4\n",
      "                                         Leveringsmuligheder       1.00      1.00      1.00         3\n",
      "                           Leveringsmuligheder - DHL Express       1.00      1.00      1.00         1\n",
      "                         Leveringsmuligheder - GLS Pakkeshop       1.00      1.00      1.00         2\n",
      "                    Leveringsmuligheder - GLS Privatlevering       1.00      1.00      1.00         2\n",
      "                               Leveringstid bestilling butik       1.00      1.00      1.00         1\n",
      "                                                      Lynlås       1.00      1.00      1.00         3\n",
      "                             Manglende produkter i min ordre       1.00      1.00      1.00         3\n",
      "            Ombytning eller returnering af gave købt i butik       1.00      1.00      1.00         3\n",
      "             Ombytning eller returnering af gave købt online       1.00      1.00      1.00         3\n",
      "                              Ordrebekræftelse ikke modtaget       1.00      1.00      1.00         3\n",
      "                                 Ordrenummer ved returnering       1.00      1.00      1.00         2\n",
      "                                                 Refundering       1.00      1.00      1.00         5\n",
      "                         Returnering af bestilling fra butik       1.00      1.00      1.00         1\n",
      "             Returnering af produkter fra forskellige ordrer       1.00      1.00      1.00         4\n",
      "                     Returnering fra fysisk butik til online       1.00      1.00      1.00         2\n",
      "                                              Spor min ordre       1.00      1.00      1.00         4\n",
      "         Sådan indtaster du din rabatkode eller dit gavekort       1.00      1.00      1.00         6\n",
      "                                        Told- og importgebyr       1.00      1.00      1.00         2\n",
      "                                        Vaske- og Care Guide       1.00      0.67      0.80         3\n",
      "                                                   baglommer       1.00      1.00      1.00         1\n",
      "                                                      farvel       0.75      1.00      0.86         3\n",
      "                                                      hilsen       1.00      0.75      0.86         4\n",
      "                                                        moms       1.00      1.00      1.00         3\n",
      "                                         regular og slim fit       1.00      1.00      1.00         3\n",
      "                                                 reklamation       1.00      1.00      1.00         5\n",
      "                                              skrædderpriser       1.00      1.00      1.00         3\n",
      "                                                   store lår       1.00      1.00      1.00         4\n",
      "                                            størrelsesguides       1.00      1.00      1.00         3\n",
      "                                                        svar       1.00      1.00      1.00         1\n",
      "                                                         tak       1.00      1.00      1.00         3\n",
      "                                            Ændring af ordre       1.00      1.00      1.00         1\n",
      "\n",
      "                                                    accuracy                           0.98       133\n",
      "                                                   macro avg       0.99      0.99      0.99       133\n",
      "                                                weighted avg       0.99      0.98      0.98       133\n",
      "\n"
     ]
    }
   ],
   "source": [
    "# Printing the classification report for predictions on the original training set\n",
    "print(\"classification_report train original\")\n",
    "print(classification_report(y_train, y_pred_train))"
   ]
  },
  {
   "cell_type": "code",
   "execution_count": 53,
   "metadata": {},
   "outputs": [
    {
     "name": "stdout",
     "output_type": "stream",
     "text": [
      "classification_report test original\n",
      "                                                              precision    recall  f1-score   support\n",
      "\n",
      "                                        Annullering af ordre       0.00      0.00      0.00         0\n",
      "                                          Bestilling i butik       1.00      0.67      0.80         3\n",
      "                                         Betaling med Klarna       0.00      0.00      0.00         0\n",
      "                                         Betalingsmuligheder       0.00      0.00      0.00         1\n",
      "                                     Defekt produkt modtaget       0.00      0.00      0.00         0\n",
      "                                                     Erhverv       0.50      1.00      0.67         1\n",
      "                                                    Gavekort       0.00      0.00      0.00         1\n",
      "Kan jeg få besked, når en udsolgt vare kommer på lager igen?       1.00      1.00      1.00         1\n",
      "                                        Levering i weekenden       1.00      1.00      1.00         1\n",
      "                                      Leveringsinformationer       0.00      0.00      0.00         0\n",
      "                                         Leveringsmuligheder       0.50      1.00      0.67         1\n",
      "                           Leveringsmuligheder - DHL Express       0.00      0.00      0.00         1\n",
      "                           Leveringsmuligheder - GLS Erhverv       0.00      0.00      0.00         2\n",
      "                         Leveringsmuligheder - GLS Pakkeshop       0.00      0.00      0.00         0\n",
      "                    Leveringsmuligheder - GLS Privatlevering       0.00      0.00      0.00         0\n",
      "                             Manglende produkter i min ordre       0.00      0.00      0.00         1\n",
      "            Ombytning eller returnering af gave købt i butik       0.00      0.00      0.00         1\n",
      "             Ombytning eller returnering af gave købt online       0.50      1.00      0.67         1\n",
      "                              Ordrebekræftelse ikke modtaget       1.00      1.00      1.00         1\n",
      "                                 Ordrenummer ved returnering       1.00      0.50      0.67         2\n",
      "                         Returnering af bestilling fra butik       0.00      0.00      0.00         2\n",
      "             Returnering af produkter fra forskellige ordrer       0.00      0.00      0.00         0\n",
      "                     Returnering fra fysisk butik til online       0.50      1.00      0.67         2\n",
      "         Sådan indtaster du din rabatkode eller dit gavekort       0.00      0.00      0.00         0\n",
      "                                        Told- og importgebyr       0.00      0.00      0.00         2\n",
      "                                        Vaske- og Care Guide       1.00      1.00      1.00         1\n",
      "                                                   baglommer       1.00      0.50      0.67         2\n",
      "                                                        moms       1.00      0.50      0.67         2\n",
      "                                                 reklamation       0.00      0.00      0.00         0\n",
      "                                              skrædderpriser       0.00      0.00      0.00         1\n",
      "                                                         tak       0.00      0.00      0.00         1\n",
      "                                            Ændring af ordre       0.00      0.00      0.00         3\n",
      "\n",
      "                                                    accuracy                           0.41        34\n",
      "                                                   macro avg       0.31      0.32      0.30        34\n",
      "                                                weighted avg       0.46      0.41      0.40        34\n",
      "\n"
     ]
    }
   ],
   "source": [
    "# Printing the classification report for predictions on the original test set\n",
    "print(\"classification_report test original\")\n",
    "print(classification_report(y_test, y_pred_test))"
   ]
  },
  {
   "cell_type": "code",
   "execution_count": 54,
   "metadata": {},
   "outputs": [
    {
     "name": "stdout",
     "output_type": "stream",
     "text": [
      "classification_report train merged\n",
      "                                                              precision    recall  f1-score   support\n",
      "\n",
      "                                          Afhentning i butik       1.00      0.86      0.92         7\n",
      "                                        Annullering af ordre       1.00      1.00      1.00         7\n",
      "                                          Bestilling i butik       1.00      1.00      1.00         7\n",
      "                                         Betaling med Klarna       1.00      1.00      1.00         3\n",
      "                                         Betalingsmuligheder       1.00      1.00      1.00         3\n",
      "                                     Defekt produkt modtaget       1.00      1.00      1.00         7\n",
      "                                                     Erhverv       1.00      1.00      1.00         4\n",
      "                                    Forkert produkt modtaget       1.00      1.00      1.00         8\n",
      "                                                    Gavekort       1.00      1.00      1.00         3\n",
      "       Hvor kan man købe produkter fra Shaping New Tomorrow?       1.00      1.00      1.00         4\n",
      "                       Hvornår modtager jeg min refundering?       1.00      1.00      1.00         5\n",
      "Kan jeg få besked, når en udsolgt vare kommer på lager igen?       1.00      1.00      1.00         2\n",
      "                                        Levering i weekenden       0.71      1.00      0.83         5\n",
      "                                      Leveringsinformationer       1.00      0.80      0.89         5\n",
      "                                         Leveringsmuligheder       1.00      1.00      1.00         8\n",
      "                           Leveringsmuligheder - DHL Express       1.00      1.00      1.00         3\n",
      "                           Leveringsmuligheder - GLS Erhverv       0.80      1.00      0.89         4\n",
      "                         Leveringsmuligheder - GLS Pakkeshop       1.00      1.00      1.00         4\n",
      "                    Leveringsmuligheder - GLS Privatlevering       1.00      0.75      0.86         4\n",
      "                               Leveringstid bestilling butik       1.00      1.00      1.00         2\n",
      "                                                      Lynlås       1.00      1.00      1.00         3\n",
      "                             Manglende produkter i min ordre       1.00      1.00      1.00         6\n",
      "            Ombytning eller returnering af gave købt i butik       1.00      1.00      1.00         6\n",
      "             Ombytning eller returnering af gave købt online       1.00      1.00      1.00         4\n",
      "                              Ordrebekræftelse ikke modtaget       1.00      1.00      1.00         7\n",
      "                                 Ordrenummer ved returnering       1.00      1.00      1.00         3\n",
      "                                                 Refundering       1.00      1.00      1.00         9\n",
      "                         Returnering af bestilling fra butik       1.00      1.00      1.00         4\n",
      "             Returnering af produkter fra forskellige ordrer       1.00      1.00      1.00         7\n",
      "                     Returnering fra fysisk butik til online       1.00      1.00      1.00         3\n",
      "                                              Spor min ordre       1.00      1.00      1.00         7\n",
      "         Sådan indtaster du din rabatkode eller dit gavekort       1.00      1.00      1.00         2\n",
      "                                        Told- og importgebyr       1.00      1.00      1.00         6\n",
      "                                        Vaske- og Care Guide       1.00      1.00      1.00         3\n",
      "                                                   baglommer       1.00      1.00      1.00         3\n",
      "                                                      farvel       0.80      1.00      0.89         4\n",
      "                                                      hilsen       1.00      0.88      0.93         8\n",
      "                                                        moms       1.00      1.00      1.00         5\n",
      "                                         regular og slim fit       1.00      1.00      1.00         2\n",
      "                                                 reklamation       1.00      1.00      1.00         4\n",
      "                                              skrædderpriser       1.00      1.00      1.00         4\n",
      "                                                   store lår       1.00      1.00      1.00         3\n",
      "                                            størrelsesguides       1.00      1.00      1.00         1\n",
      "                                                        svar       1.00      1.00      1.00         2\n",
      "                                                         tak       1.00      1.00      1.00         5\n",
      "                                            Ændring af ordre       1.00      1.00      1.00         6\n",
      "\n",
      "                                                    accuracy                           0.98       212\n",
      "                                                   macro avg       0.99      0.98      0.98       212\n",
      "                                                weighted avg       0.99      0.98      0.98       212\n",
      "\n"
     ]
    }
   ],
   "source": [
    "# Printing the classification report for predictions on the merged training set\n",
    "print(\"classification_report train merged\")\n",
    "print(classification_report(y_train_merged, y_pred_train_merged))"
   ]
  },
  {
   "cell_type": "code",
   "execution_count": 55,
   "metadata": {},
   "outputs": [
    {
     "name": "stdout",
     "output_type": "stream",
     "text": [
      "classification_report test merged\n",
      "                                                              precision    recall  f1-score   support\n",
      "\n",
      "                                          Afhentning i butik       0.00      0.00      0.00         1\n",
      "                                        Annullering af ordre       1.00      1.00      1.00         1\n",
      "                                          Bestilling i butik       0.50      0.33      0.40         3\n",
      "                                         Betaling med Klarna       1.00      1.00      1.00         1\n",
      "                                     Defekt produkt modtaget       1.00      1.00      1.00         1\n",
      "                                                     Erhverv       0.00      0.00      0.00         0\n",
      "                                                    Gavekort       0.00      0.00      0.00         0\n",
      "                       Hvornår modtager jeg min refundering?       0.67      0.67      0.67         3\n",
      "Kan jeg få besked, når en udsolgt vare kommer på lager igen?       0.50      1.00      0.67         1\n",
      "                                        Levering i weekenden       0.75      1.00      0.86         3\n",
      "                                      Leveringsinformationer       0.00      0.00      0.00         3\n",
      "                                         Leveringsmuligheder       0.00      0.00      0.00         0\n",
      "                           Leveringsmuligheder - DHL Express       0.00      0.00      0.00         1\n",
      "                    Leveringsmuligheder - GLS Privatlevering       0.00      0.00      0.00         0\n",
      "                             Manglende produkter i min ordre       1.00      1.00      1.00         2\n",
      "            Ombytning eller returnering af gave købt i butik       0.50      0.50      0.50         2\n",
      "             Ombytning eller returnering af gave købt online       0.75      0.75      0.75         4\n",
      "                              Ordrebekræftelse ikke modtaget       0.50      1.00      0.67         1\n",
      "                                 Ordrenummer ved returnering       1.00      1.00      1.00         1\n",
      "                                                 Refundering       0.50      1.00      0.67         1\n",
      "                         Returnering af bestilling fra butik       1.00      1.00      1.00         2\n",
      "             Returnering af produkter fra forskellige ordrer       0.50      1.00      0.67         1\n",
      "                     Returnering fra fysisk butik til online       1.00      1.00      1.00         1\n",
      "                                              Spor min ordre       1.00      1.00      1.00         1\n",
      "         Sådan indtaster du din rabatkode eller dit gavekort       1.00      0.75      0.86         4\n",
      "                                        Told- og importgebyr       1.00      0.50      0.67         2\n",
      "                                        Vaske- og Care Guide       0.00      0.00      0.00         1\n",
      "                                                      farvel       1.00      0.50      0.67         2\n",
      "                                                      hilsen       0.00      0.00      0.00         0\n",
      "                                                        moms       0.00      0.00      0.00         0\n",
      "                                         regular og slim fit       1.00      1.00      1.00         1\n",
      "                                                 reklamation       0.00      0.00      0.00         1\n",
      "                                              skrædderpriser       0.00      0.00      0.00         0\n",
      "                                                   store lår       1.00      1.00      1.00         1\n",
      "                                            størrelsesguides       0.00      0.00      0.00         2\n",
      "                                                         tak       1.00      0.67      0.80         3\n",
      "                                            Ændring af ordre       1.00      1.00      1.00         2\n",
      "\n",
      "                                                    accuracy                           0.66        53\n",
      "                                                   macro avg       0.55      0.56      0.54        53\n",
      "                                                weighted avg       0.69      0.66      0.66        53\n",
      "\n"
     ]
    }
   ],
   "source": [
    "# Printing the classification report for predictions on the merged test set\n",
    "print(\"classification_report test merged\")\n",
    "print(classification_report(y_test_merged, y_pred_test_merged))"
   ]
  },
  {
   "cell_type": "code",
   "execution_count": 56,
   "metadata": {},
   "outputs": [
    {
     "name": "stdout",
     "output_type": "stream",
     "text": [
      "Accuracy Score for for train: 0.98496\n",
      "Accuracy Score for for test: 0.41176\n",
      "Accuracy Score for train merged: 0.98113\n",
      "Accuracy Score for test merged: 0.66038\n",
      "Precision Score for for train: 0.98835\n",
      "Precision Score for for test: 0.45588\n",
      "Precision Score for train merged: 0.98571\n",
      "Precision Score for test merged: 0.69340\n",
      "Recall Score for for train: 0.98496\n",
      "Recall Score for for test: 0.41176\n",
      "Recall Score for train merged: 0.98113\n",
      "Recall Score for test merged: 0.66038\n",
      "F1 Score for for train: 0.98463\n",
      "F1 Score for for test: 0.40392\n",
      "F1 Score for train merged: 0.98150\n",
      "F1 Score for test merged: 0.65912\n"
     ]
    }
   ],
   "source": [
    "# Calculating and printing the accuracy score for the original training set\n",
    "print('Accuracy Score for for train: %.5f'%accuracy_score(y_train, y_pred_train))\n",
    "\n",
    "# Calculating and printing the accuracy score for the original test set\n",
    "print('Accuracy Score for for test: %.5f'%accuracy_score(y_test, y_pred_test))\n",
    "\n",
    "# Calculating and printing the accuracy score for the merged training set\n",
    "print('Accuracy Score for train merged: %.5f'%accuracy_score(y_train_merged, y_pred_train_merged))\n",
    "\n",
    "# Calculating and printing the accuracy score for the merged test set\n",
    "print('Accuracy Score for test merged: %.5f'%accuracy_score(y_test_merged, y_pred_test_merged))\n",
    "\n",
    "# Calculating and printing the precision score for the original training set\n",
    "print('Precision Score for for train: %.5f'%precision_score(y_train, y_pred_train, average='weighted'))\n",
    "\n",
    "# Calculating and printing the precision score for the original test set\n",
    "print('Precision Score for for test: %.5f'%precision_score(y_test, y_pred_test, average='weighted'))\n",
    "\n",
    "# Calculating and printing the precision score for the merged training set\n",
    "print('Precision Score for train merged: %.5f'%precision_score(y_train_merged, y_pred_train_merged, average='weighted'))\n",
    "\n",
    "# Calculating and printing the precision score for the merged test set\n",
    "print('Precision Score for test merged: %.5f'%precision_score(y_test_merged, y_pred_test_merged, average='weighted'))\n",
    "\n",
    "# Calculating and printing the recall score for the original training set\n",
    "print('Recall Score for for train: %.5f'%recall_score(y_train, y_pred_train, average='weighted'))\n",
    "\n",
    "# Calculating and printing the recall score for the original test set\n",
    "print('Recall Score for for test: %.5f'%recall_score(y_test, y_pred_test, average='weighted'))\n",
    "\n",
    "# Calculating and printing the recall score for the merged training set\n",
    "print('Recall Score for train merged: %.5f'%recall_score(y_train_merged, y_pred_train_merged, average='weighted'))\n",
    "\n",
    "# Calculating and printing the recall score for the merged test set\n",
    "print('Recall Score for test merged: %.5f'%recall_score(y_test_merged, y_pred_test_merged, average='weighted'))\n",
    "\n",
    "# Calculating and printing the f1 score for the original training set\n",
    "print('F1 Score for for train: %.5f'%f1_score(y_train, y_pred_train, average='weighted'))\n",
    "\n",
    "# Calculating and printing the f1 score for the original test set\n",
    "print('F1 Score for for test: %.5f'%f1_score(y_test, y_pred_test, average='weighted'))\n",
    "\n",
    "# Calculating and printing the f1 score for the merged training set\n",
    "print('F1 Score for train merged: %.5f'%f1_score(y_train_merged, y_pred_train_merged, average='weighted'))\n",
    "\n",
    "# Calculating and printing the f1 score for the merged test set\n",
    "print('F1 Score for test merged: %.5f'%f1_score(y_test_merged, y_pred_test_merged, average='weighted'))"
   ]
  },
  {
   "cell_type": "code",
   "execution_count": 57,
   "metadata": {},
   "outputs": [],
   "source": [
    "model_w2v_lr_scores = {\n",
    "    'Train Accuracy (Original)': accuracy_score(y_train, y_pred_train),\n",
    "    'Test Accuracy (Original)': accuracy_score(y_test, y_pred_test),\n",
    "    'Train Accuracy (Merged)': accuracy_score(y_train_merged, y_pred_train_merged),\n",
    "    'Test Accuracy (Merged)': accuracy_score(y_test_merged, y_pred_test_merged),\n",
    "\n",
    "    'Train Precision (Original)': precision_score(y_train, y_pred_train, average='weighted'),\n",
    "    'Test Precision (Original)': precision_score(y_test, y_pred_test, average='weighted'),\n",
    "    'Train Precision (Merged)': precision_score(y_train_merged, y_pred_train_merged, average='weighted'),\n",
    "    'Test Precision (Merged)': precision_score(y_test_merged, y_pred_test_merged, average='weighted'),\n",
    "\n",
    "    'Train Recall (Original)': recall_score(y_train, y_pred_train, average='weighted'),\n",
    "    'Test Recall (Original)': recall_score(y_test, y_pred_test, average='weighted'),\n",
    "    'Train Recall (Merged)': recall_score(y_train_merged, y_pred_train_merged, average='weighted'),\n",
    "    'Test Recall (Merged)': recall_score(y_test_merged, y_pred_test_merged, average='weighted'),\n",
    "\n",
    "    'Train F1 Score (Original)': f1_score(y_train, y_pred_train, average='weighted'),\n",
    "    'Test F1 Score (Original)': f1_score(y_test, y_pred_test, average='weighted'),\n",
    "    'Train F1 Score (Merged)': f1_score(y_train_merged, y_pred_train_merged, average='weighted'),\n",
    "    'Test F1 Score (Merged)': f1_score(y_test_merged, y_pred_test_merged, average='weighted')\n",
    "}"
   ]
  },
  {
   "cell_type": "markdown",
   "metadata": {},
   "source": [
    "### W2V + Support Vector Machine (SVM)"
   ]
  },
  {
   "cell_type": "code",
   "execution_count": 58,
   "metadata": {},
   "outputs": [],
   "source": [
    "# Creating a Support Vector Machine (SVM) model for classification\n",
    "model_w2v_svm = svm.SVC()\n",
    "model_w2v_svm_merged = svm.SVC()"
   ]
  },
  {
   "cell_type": "code",
   "execution_count": 59,
   "metadata": {},
   "outputs": [
    {
     "data": {
      "text/html": [
       "<style>#sk-container-id-2 {color: black;}#sk-container-id-2 pre{padding: 0;}#sk-container-id-2 div.sk-toggleable {background-color: white;}#sk-container-id-2 label.sk-toggleable__label {cursor: pointer;display: block;width: 100%;margin-bottom: 0;padding: 0.3em;box-sizing: border-box;text-align: center;}#sk-container-id-2 label.sk-toggleable__label-arrow:before {content: \"▸\";float: left;margin-right: 0.25em;color: #696969;}#sk-container-id-2 label.sk-toggleable__label-arrow:hover:before {color: black;}#sk-container-id-2 div.sk-estimator:hover label.sk-toggleable__label-arrow:before {color: black;}#sk-container-id-2 div.sk-toggleable__content {max-height: 0;max-width: 0;overflow: hidden;text-align: left;background-color: #f0f8ff;}#sk-container-id-2 div.sk-toggleable__content pre {margin: 0.2em;color: black;border-radius: 0.25em;background-color: #f0f8ff;}#sk-container-id-2 input.sk-toggleable__control:checked~div.sk-toggleable__content {max-height: 200px;max-width: 100%;overflow: auto;}#sk-container-id-2 input.sk-toggleable__control:checked~label.sk-toggleable__label-arrow:before {content: \"▾\";}#sk-container-id-2 div.sk-estimator input.sk-toggleable__control:checked~label.sk-toggleable__label {background-color: #d4ebff;}#sk-container-id-2 div.sk-label input.sk-toggleable__control:checked~label.sk-toggleable__label {background-color: #d4ebff;}#sk-container-id-2 input.sk-hidden--visually {border: 0;clip: rect(1px 1px 1px 1px);clip: rect(1px, 1px, 1px, 1px);height: 1px;margin: -1px;overflow: hidden;padding: 0;position: absolute;width: 1px;}#sk-container-id-2 div.sk-estimator {font-family: monospace;background-color: #f0f8ff;border: 1px dotted black;border-radius: 0.25em;box-sizing: border-box;margin-bottom: 0.5em;}#sk-container-id-2 div.sk-estimator:hover {background-color: #d4ebff;}#sk-container-id-2 div.sk-parallel-item::after {content: \"\";width: 100%;border-bottom: 1px solid gray;flex-grow: 1;}#sk-container-id-2 div.sk-label:hover label.sk-toggleable__label {background-color: #d4ebff;}#sk-container-id-2 div.sk-serial::before {content: \"\";position: absolute;border-left: 1px solid gray;box-sizing: border-box;top: 0;bottom: 0;left: 50%;z-index: 0;}#sk-container-id-2 div.sk-serial {display: flex;flex-direction: column;align-items: center;background-color: white;padding-right: 0.2em;padding-left: 0.2em;position: relative;}#sk-container-id-2 div.sk-item {position: relative;z-index: 1;}#sk-container-id-2 div.sk-parallel {display: flex;align-items: stretch;justify-content: center;background-color: white;position: relative;}#sk-container-id-2 div.sk-item::before, #sk-container-id-2 div.sk-parallel-item::before {content: \"\";position: absolute;border-left: 1px solid gray;box-sizing: border-box;top: 0;bottom: 0;left: 50%;z-index: -1;}#sk-container-id-2 div.sk-parallel-item {display: flex;flex-direction: column;z-index: 1;position: relative;background-color: white;}#sk-container-id-2 div.sk-parallel-item:first-child::after {align-self: flex-end;width: 50%;}#sk-container-id-2 div.sk-parallel-item:last-child::after {align-self: flex-start;width: 50%;}#sk-container-id-2 div.sk-parallel-item:only-child::after {width: 0;}#sk-container-id-2 div.sk-dashed-wrapped {border: 1px dashed gray;margin: 0 0.4em 0.5em 0.4em;box-sizing: border-box;padding-bottom: 0.4em;background-color: white;}#sk-container-id-2 div.sk-label label {font-family: monospace;font-weight: bold;display: inline-block;line-height: 1.2em;}#sk-container-id-2 div.sk-label-container {text-align: center;}#sk-container-id-2 div.sk-container {/* jupyter's `normalize.less` sets `[hidden] { display: none; }` but bootstrap.min.css set `[hidden] { display: none !important; }` so we also need the `!important` here to be able to override the default hidden behavior on the sphinx rendered scikit-learn.org. See: https://github.com/scikit-learn/scikit-learn/issues/21755 */display: inline-block !important;position: relative;}#sk-container-id-2 div.sk-text-repr-fallback {display: none;}</style><div id=\"sk-container-id-2\" class=\"sk-top-container\"><div class=\"sk-text-repr-fallback\"><pre>SVC()</pre><b>In a Jupyter environment, please rerun this cell to show the HTML representation or trust the notebook. <br />On GitHub, the HTML representation is unable to render, please try loading this page with nbviewer.org.</b></div><div class=\"sk-container\" hidden><div class=\"sk-item\"><div class=\"sk-estimator sk-toggleable\"><input class=\"sk-toggleable__control sk-hidden--visually\" id=\"sk-estimator-id-2\" type=\"checkbox\" checked><label for=\"sk-estimator-id-2\" class=\"sk-toggleable__label sk-toggleable__label-arrow\">SVC</label><div class=\"sk-toggleable__content\"><pre>SVC()</pre></div></div></div></div></div>"
      ],
      "text/plain": [
       "SVC()"
      ]
     },
     "execution_count": 59,
     "metadata": {},
     "output_type": "execute_result"
    }
   ],
   "source": [
    "# Fitting the SVM model using the word vector features and training labels\n",
    "model_w2v_svm.fit(X_train_W2V, y_train)\n",
    "\n",
    "# Fitting the merged SVM model using the word vector features and training labels\n",
    "model_w2v_svm_merged.fit(X_train_merged_W2V, y_train_merged)"
   ]
  },
  {
   "cell_type": "code",
   "execution_count": 60,
   "metadata": {},
   "outputs": [],
   "source": [
    "# Predicting labels for the training set using the trained SVM model\n",
    "y_pred_train = model_w2v_svm.predict(X_train_W2V)\n",
    "\n",
    "# Predicting labels for the test set using the trained SVM model\n",
    "y_pred_test = model_w2v_svm.predict(X_test_W2V)\n",
    "\n",
    "# Predicting labels for the merged training set using the trained SVM model\n",
    "y_pred_train_merged = model_w2v_svm_merged.predict(X_train_merged_W2V)\n",
    "\n",
    "# Predicting labels for the merged test set using the trained SVM model\n",
    "y_pred_test_merged = model_w2v_svm_merged.predict(X_test_merged_W2V)"
   ]
  },
  {
   "cell_type": "code",
   "execution_count": 61,
   "metadata": {},
   "outputs": [
    {
     "name": "stdout",
     "output_type": "stream",
     "text": [
      "classification_report train original\n",
      "                                                              precision    recall  f1-score   support\n",
      "\n",
      "                                          Afhentning i butik       0.40      1.00      0.57         4\n",
      "                                        Annullering af ordre       0.00      0.00      0.00         4\n",
      "                                          Bestilling i butik       0.00      0.00      0.00         2\n",
      "                                         Betaling med Klarna       0.80      1.00      0.89         4\n",
      "                                         Betalingsmuligheder       0.00      0.00      0.00         2\n",
      "                                     Defekt produkt modtaget       1.00      0.50      0.67         4\n",
      "                                                     Erhverv       1.00      1.00      1.00         3\n",
      "                                    Forkert produkt modtaget       0.67      1.00      0.80         4\n",
      "                                                    Gavekort       0.00      0.00      0.00         2\n",
      "       Hvor kan man købe produkter fra Shaping New Tomorrow?       1.00      1.00      1.00         4\n",
      "                       Hvornår modtager jeg min refundering?       0.50      0.25      0.33         4\n",
      "Kan jeg få besked, når en udsolgt vare kommer på lager igen?       0.00      0.00      0.00         2\n",
      "                                        Levering i weekenden       0.00      0.00      0.00         3\n",
      "                                      Leveringsinformationer       0.67      1.00      0.80         4\n",
      "                                         Leveringsmuligheder       0.00      0.00      0.00         3\n",
      "                           Leveringsmuligheder - DHL Express       0.00      0.00      0.00         1\n",
      "                         Leveringsmuligheder - GLS Pakkeshop       1.00      0.50      0.67         2\n",
      "                    Leveringsmuligheder - GLS Privatlevering       1.00      0.50      0.67         2\n",
      "                               Leveringstid bestilling butik       0.00      0.00      0.00         1\n",
      "                                                      Lynlås       1.00      1.00      1.00         3\n",
      "                             Manglende produkter i min ordre       1.00      1.00      1.00         3\n",
      "            Ombytning eller returnering af gave købt i butik       0.00      0.00      0.00         3\n",
      "             Ombytning eller returnering af gave købt online       1.00      0.67      0.80         3\n",
      "                              Ordrebekræftelse ikke modtaget       0.00      0.00      0.00         3\n",
      "                                 Ordrenummer ved returnering       0.00      0.00      0.00         2\n",
      "                                                 Refundering       0.38      1.00      0.56         5\n",
      "                         Returnering af bestilling fra butik       0.00      0.00      0.00         1\n",
      "             Returnering af produkter fra forskellige ordrer       0.67      1.00      0.80         4\n",
      "                     Returnering fra fysisk butik til online       0.00      0.00      0.00         2\n",
      "                                              Spor min ordre       0.44      1.00      0.62         4\n",
      "         Sådan indtaster du din rabatkode eller dit gavekort       0.27      1.00      0.43         6\n",
      "                                        Told- og importgebyr       0.00      0.00      0.00         2\n",
      "                                        Vaske- og Care Guide       0.00      0.00      0.00         3\n",
      "                                                   baglommer       0.00      0.00      0.00         1\n",
      "                                                      farvel       0.75      1.00      0.86         3\n",
      "                                                      hilsen       1.00      0.75      0.86         4\n",
      "                                                        moms       1.00      0.33      0.50         3\n",
      "                                         regular og slim fit       1.00      1.00      1.00         3\n",
      "                                                 reklamation       0.27      0.80      0.40         5\n",
      "                                              skrædderpriser       0.00      0.00      0.00         3\n",
      "                                                   store lår       0.80      1.00      0.89         4\n",
      "                                            størrelsesguides       0.00      0.00      0.00         3\n",
      "                                                        svar       1.00      1.00      1.00         1\n",
      "                                                         tak       1.00      1.00      1.00         3\n",
      "                                            Ændring af ordre       0.00      0.00      0.00         1\n",
      "\n",
      "                                                    accuracy                           0.58       133\n",
      "                                                   macro avg       0.44      0.47      0.42       133\n",
      "                                                weighted avg       0.49      0.58      0.49       133\n",
      "\n"
     ]
    }
   ],
   "source": [
    "# Printing the classification report for predictions on the original training set\n",
    "print(\"classification_report train original\")\n",
    "print(classification_report(y_train, y_pred_train))"
   ]
  },
  {
   "cell_type": "code",
   "execution_count": 62,
   "metadata": {},
   "outputs": [
    {
     "name": "stdout",
     "output_type": "stream",
     "text": [
      "classification_report test original\n",
      "                                                              precision    recall  f1-score   support\n",
      "\n",
      "                                          Afhentning i butik       0.00      0.00      0.00         0\n",
      "                                          Bestilling i butik       0.00      0.00      0.00         3\n",
      "                                         Betaling med Klarna       0.00      0.00      0.00         0\n",
      "                                         Betalingsmuligheder       0.00      0.00      0.00         1\n",
      "                                                     Erhverv       1.00      1.00      1.00         1\n",
      "                                                    Gavekort       0.00      0.00      0.00         1\n",
      "                       Hvornår modtager jeg min refundering?       0.00      0.00      0.00         0\n",
      "Kan jeg få besked, når en udsolgt vare kommer på lager igen?       0.00      0.00      0.00         1\n",
      "                                        Levering i weekenden       0.00      0.00      0.00         1\n",
      "                                         Leveringsmuligheder       0.00      0.00      0.00         1\n",
      "                           Leveringsmuligheder - DHL Express       0.00      0.00      0.00         1\n",
      "                           Leveringsmuligheder - GLS Erhverv       0.00      0.00      0.00         2\n",
      "                    Leveringsmuligheder - GLS Privatlevering       0.00      0.00      0.00         0\n",
      "                             Manglende produkter i min ordre       0.00      0.00      0.00         1\n",
      "            Ombytning eller returnering af gave købt i butik       0.00      0.00      0.00         1\n",
      "             Ombytning eller returnering af gave købt online       1.00      1.00      1.00         1\n",
      "                              Ordrebekræftelse ikke modtaget       0.00      0.00      0.00         1\n",
      "                                 Ordrenummer ved returnering       0.00      0.00      0.00         2\n",
      "                                                 Refundering       0.00      0.00      0.00         0\n",
      "                         Returnering af bestilling fra butik       0.00      0.00      0.00         2\n",
      "             Returnering af produkter fra forskellige ordrer       0.00      0.00      0.00         0\n",
      "                     Returnering fra fysisk butik til online       0.00      0.00      0.00         2\n",
      "                                              Spor min ordre       0.00      0.00      0.00         0\n",
      "         Sådan indtaster du din rabatkode eller dit gavekort       0.00      0.00      0.00         0\n",
      "                                        Told- og importgebyr       0.00      0.00      0.00         2\n",
      "                                        Vaske- og Care Guide       0.00      0.00      0.00         1\n",
      "                                                   baglommer       0.00      0.00      0.00         2\n",
      "                                                        moms       1.00      0.50      0.67         2\n",
      "                                                 reklamation       0.00      0.00      0.00         0\n",
      "                                              skrædderpriser       0.00      0.00      0.00         1\n",
      "                                                   store lår       0.00      0.00      0.00         0\n",
      "                                                         tak       0.00      0.00      0.00         1\n",
      "                                            Ændring af ordre       0.00      0.00      0.00         3\n",
      "\n",
      "                                                    accuracy                           0.09        34\n",
      "                                                   macro avg       0.09      0.08      0.08        34\n",
      "                                                weighted avg       0.12      0.09      0.10        34\n",
      "\n"
     ]
    }
   ],
   "source": [
    "# Printing the classification report for predictions on the original test set\n",
    "print(\"classification_report test original\")\n",
    "print(classification_report(y_test, y_pred_test))"
   ]
  },
  {
   "cell_type": "code",
   "execution_count": 63,
   "metadata": {},
   "outputs": [
    {
     "name": "stdout",
     "output_type": "stream",
     "text": [
      "classification_report train merged\n",
      "                                                              precision    recall  f1-score   support\n",
      "\n",
      "                                          Afhentning i butik       0.40      0.86      0.55         7\n",
      "                                        Annullering af ordre       0.62      0.71      0.67         7\n",
      "                                          Bestilling i butik       0.54      1.00      0.70         7\n",
      "                                         Betaling med Klarna       1.00      0.33      0.50         3\n",
      "                                         Betalingsmuligheder       0.00      0.00      0.00         3\n",
      "                                     Defekt produkt modtaget       0.21      0.43      0.29         7\n",
      "                                                     Erhverv       1.00      1.00      1.00         4\n",
      "                                    Forkert produkt modtaget       0.47      1.00      0.64         8\n",
      "                                                    Gavekort       0.00      0.00      0.00         3\n",
      "       Hvor kan man købe produkter fra Shaping New Tomorrow?       1.00      1.00      1.00         4\n",
      "                       Hvornår modtager jeg min refundering?       1.00      0.20      0.33         5\n",
      "Kan jeg få besked, når en udsolgt vare kommer på lager igen?       0.00      0.00      0.00         2\n",
      "                                        Levering i weekenden       1.00      0.20      0.33         5\n",
      "                                      Leveringsinformationer       0.75      0.60      0.67         5\n",
      "                                         Leveringsmuligheder       0.50      0.88      0.64         8\n",
      "                           Leveringsmuligheder - DHL Express       1.00      0.67      0.80         3\n",
      "                           Leveringsmuligheder - GLS Erhverv       1.00      0.50      0.67         4\n",
      "                         Leveringsmuligheder - GLS Pakkeshop       1.00      0.50      0.67         4\n",
      "                    Leveringsmuligheder - GLS Privatlevering       0.50      0.75      0.60         4\n",
      "                               Leveringstid bestilling butik       0.00      0.00      0.00         2\n",
      "                                                      Lynlås       1.00      1.00      1.00         3\n",
      "                             Manglende produkter i min ordre       0.62      0.83      0.71         6\n",
      "            Ombytning eller returnering af gave købt i butik       0.75      0.50      0.60         6\n",
      "             Ombytning eller returnering af gave købt online       1.00      0.25      0.40         4\n",
      "                              Ordrebekræftelse ikke modtaget       0.70      1.00      0.82         7\n",
      "                                 Ordrenummer ved returnering       0.00      0.00      0.00         3\n",
      "                                                 Refundering       0.47      1.00      0.64         9\n",
      "                         Returnering af bestilling fra butik       0.00      0.00      0.00         4\n",
      "             Returnering af produkter fra forskellige ordrer       0.47      1.00      0.64         7\n",
      "                     Returnering fra fysisk butik til online       0.00      0.00      0.00         3\n",
      "                                              Spor min ordre       0.50      1.00      0.67         7\n",
      "         Sådan indtaster du din rabatkode eller dit gavekort       0.00      0.00      0.00         2\n",
      "                                        Told- og importgebyr       1.00      0.50      0.67         6\n",
      "                                        Vaske- og Care Guide       0.00      0.00      0.00         3\n",
      "                                                   baglommer       0.00      0.00      0.00         3\n",
      "                                                      farvel       0.80      1.00      0.89         4\n",
      "                                                      hilsen       1.00      0.88      0.93         8\n",
      "                                                        moms       0.83      1.00      0.91         5\n",
      "                                         regular og slim fit       0.00      0.00      0.00         2\n",
      "                                                 reklamation       0.00      0.00      0.00         4\n",
      "                                              skrædderpriser       0.00      0.00      0.00         4\n",
      "                                                   store lår       1.00      0.67      0.80         3\n",
      "                                            størrelsesguides       0.00      0.00      0.00         1\n",
      "                                                        svar       1.00      1.00      1.00         2\n",
      "                                                         tak       1.00      1.00      1.00         5\n",
      "                                            Ændring af ordre       0.00      0.00      0.00         6\n",
      "\n",
      "                                                    accuracy                           0.61       212\n",
      "                                                   macro avg       0.52      0.51      0.47       212\n",
      "                                                weighted avg       0.57      0.61      0.54       212\n",
      "\n"
     ]
    }
   ],
   "source": [
    "# Printing the classification report for predictions on the merged training set\n",
    "print(\"classification_report train merged\")\n",
    "print(classification_report(y_train_merged, y_pred_train_merged))"
   ]
  },
  {
   "cell_type": "code",
   "execution_count": 64,
   "metadata": {},
   "outputs": [
    {
     "name": "stdout",
     "output_type": "stream",
     "text": [
      "classification_report test merged\n",
      "                                                              precision    recall  f1-score   support\n",
      "\n",
      "                                          Afhentning i butik       0.14      1.00      0.25         1\n",
      "                                        Annullering af ordre       0.00      0.00      0.00         1\n",
      "                                          Bestilling i butik       0.50      0.33      0.40         3\n",
      "                                         Betaling med Klarna       0.00      0.00      0.00         1\n",
      "                                     Defekt produkt modtaget       0.25      1.00      0.40         1\n",
      "                                    Forkert produkt modtaget       0.00      0.00      0.00         0\n",
      "                       Hvornår modtager jeg min refundering?       0.00      0.00      0.00         3\n",
      "Kan jeg få besked, når en udsolgt vare kommer på lager igen?       0.00      0.00      0.00         1\n",
      "                                        Levering i weekenden       0.00      0.00      0.00         3\n",
      "                                      Leveringsinformationer       1.00      0.33      0.50         3\n",
      "                                         Leveringsmuligheder       0.00      0.00      0.00         0\n",
      "                           Leveringsmuligheder - DHL Express       0.00      0.00      0.00         1\n",
      "                             Manglende produkter i min ordre       1.00      1.00      1.00         2\n",
      "            Ombytning eller returnering af gave købt i butik       0.33      0.50      0.40         2\n",
      "             Ombytning eller returnering af gave købt online       0.00      0.00      0.00         4\n",
      "                              Ordrebekræftelse ikke modtaget       0.00      0.00      0.00         1\n",
      "                                 Ordrenummer ved returnering       0.00      0.00      0.00         1\n",
      "                                                 Refundering       0.17      1.00      0.29         1\n",
      "                         Returnering af bestilling fra butik       0.00      0.00      0.00         2\n",
      "             Returnering af produkter fra forskellige ordrer       0.14      1.00      0.25         1\n",
      "                     Returnering fra fysisk butik til online       0.00      0.00      0.00         1\n",
      "                                              Spor min ordre       0.00      0.00      0.00         1\n",
      "         Sådan indtaster du din rabatkode eller dit gavekort       0.00      0.00      0.00         4\n",
      "                                        Told- og importgebyr       0.00      0.00      0.00         2\n",
      "                                        Vaske- og Care Guide       0.00      0.00      0.00         1\n",
      "                                                      farvel       0.00      0.00      0.00         2\n",
      "                                                      hilsen       0.00      0.00      0.00         0\n",
      "                                                        moms       0.00      0.00      0.00         0\n",
      "                                         regular og slim fit       0.00      0.00      0.00         1\n",
      "                                                 reklamation       0.00      0.00      0.00         1\n",
      "                                                   store lår       0.00      0.00      0.00         1\n",
      "                                            størrelsesguides       0.00      0.00      0.00         2\n",
      "                                                         tak       1.00      0.67      0.80         3\n",
      "                                            Ændring af ordre       0.00      0.00      0.00         2\n",
      "\n",
      "                                                    accuracy                           0.21        53\n",
      "                                                   macro avg       0.13      0.20      0.13        53\n",
      "                                                weighted avg       0.21      0.21      0.17        53\n",
      "\n"
     ]
    }
   ],
   "source": [
    "# Printing the classification report for predictions on the merged test set\n",
    "print(\"classification_report test merged\")\n",
    "print(classification_report(y_test_merged, y_pred_test_merged))"
   ]
  },
  {
   "cell_type": "code",
   "execution_count": 65,
   "metadata": {},
   "outputs": [
    {
     "name": "stdout",
     "output_type": "stream",
     "text": [
      "Accuracy Score for for train: 0.57895\n",
      "Accuracy Score for for test: 0.08824\n",
      "Accuracy Score for train merged: 0.60849\n",
      "Accuracy Score for test merged: 0.20755\n",
      "Precision Score for for train: 0.48812\n",
      "Precision Score for for test: 0.11765\n",
      "Precision Score for train merged: 0.56842\n",
      "Precision Score for test merged: 0.20508\n",
      "Recall Score for for train: 0.57895\n",
      "Recall Score for for test: 0.08824\n",
      "Recall Score for train merged: 0.60849\n",
      "Recall Score for test merged: 0.20755\n",
      "F1 Score for for train: 0.49154\n",
      "F1 Score for for test: 0.09804\n",
      "F1 Score for train merged: 0.53783\n",
      "F1 Score for test merged: 0.17143\n"
     ]
    }
   ],
   "source": [
    "# Calculating and printing the accuracy score for the original training set\n",
    "print('Accuracy Score for for train: %.5f'%accuracy_score(y_train, y_pred_train))\n",
    "\n",
    "# Calculating and printing the accuracy score for the original test set\n",
    "print('Accuracy Score for for test: %.5f'%accuracy_score(y_test, y_pred_test))\n",
    "\n",
    "# Calculating and printing the accuracy score for the merged training set\n",
    "print('Accuracy Score for train merged: %.5f'%accuracy_score(y_train_merged, y_pred_train_merged))\n",
    "\n",
    "# Calculating and printing the accuracy score for the merged test set\n",
    "print('Accuracy Score for test merged: %.5f'%accuracy_score(y_test_merged, y_pred_test_merged))\n",
    "\n",
    "# Calculating and printing the precision score for the original training set\n",
    "print('Precision Score for for train: %.5f'%precision_score(y_train, y_pred_train, average='weighted'))\n",
    "\n",
    "# Calculating and printing the precision score for the original test set\n",
    "print('Precision Score for for test: %.5f'%precision_score(y_test, y_pred_test, average='weighted'))\n",
    "\n",
    "# Calculating and printing the precision score for the merged training set\n",
    "print('Precision Score for train merged: %.5f'%precision_score(y_train_merged, y_pred_train_merged, average='weighted'))\n",
    "\n",
    "# Calculating and printing the precision score for the merged test set\n",
    "print('Precision Score for test merged: %.5f'%precision_score(y_test_merged, y_pred_test_merged, average='weighted'))\n",
    "\n",
    "# Calculating and printing the recall score for the original training set\n",
    "print('Recall Score for for train: %.5f'%recall_score(y_train, y_pred_train, average='weighted'))\n",
    "\n",
    "# Calculating and printing the recall score for the original test set\n",
    "print('Recall Score for for test: %.5f'%recall_score(y_test, y_pred_test, average='weighted'))\n",
    "\n",
    "# Calculating and printing the recall score for the merged training set\n",
    "print('Recall Score for train merged: %.5f'%recall_score(y_train_merged, y_pred_train_merged, average='weighted'))\n",
    "\n",
    "# Calculating and printing the recall score for the merged test set\n",
    "print('Recall Score for test merged: %.5f'%recall_score(y_test_merged, y_pred_test_merged, average='weighted'))\n",
    "\n",
    "# Calculating and printing the f1 score for the original training set\n",
    "print('F1 Score for for train: %.5f'%f1_score(y_train, y_pred_train, average='weighted'))\n",
    "\n",
    "# Calculating and printing the f1 score for the original test set\n",
    "print('F1 Score for for test: %.5f'%f1_score(y_test, y_pred_test, average='weighted'))\n",
    "\n",
    "# Calculating and printing the f1 score for the merged training set\n",
    "print('F1 Score for train merged: %.5f'%f1_score(y_train_merged, y_pred_train_merged, average='weighted'))\n",
    "\n",
    "# Calculating and printing the f1 score for the merged test set\n",
    "print('F1 Score for test merged: %.5f'%f1_score(y_test_merged, y_pred_test_merged, average='weighted'))"
   ]
  },
  {
   "cell_type": "code",
   "execution_count": 66,
   "metadata": {},
   "outputs": [],
   "source": [
    "model_w2v_svm_scores = {\n",
    "    'Train Accuracy (Original)': accuracy_score(y_train, y_pred_train),\n",
    "    'Test Accuracy (Original)': accuracy_score(y_test, y_pred_test),\n",
    "    'Train Accuracy (Merged)': accuracy_score(y_train_merged, y_pred_train_merged),\n",
    "    'Test Accuracy (Merged)': accuracy_score(y_test_merged, y_pred_test_merged),\n",
    "\n",
    "    'Train Precision (Original)': precision_score(y_train, y_pred_train, average='weighted'),\n",
    "    'Test Precision (Original)': precision_score(y_test, y_pred_test, average='weighted'),\n",
    "    'Train Precision (Merged)': precision_score(y_train_merged, y_pred_train_merged, average='weighted'),\n",
    "    'Test Precision (Merged)': precision_score(y_test_merged, y_pred_test_merged, average='weighted'),\n",
    "\n",
    "    'Train Recall (Original)': recall_score(y_train, y_pred_train, average='weighted'),\n",
    "    'Test Recall (Original)': recall_score(y_test, y_pred_test, average='weighted'),\n",
    "    'Train Recall (Merged)': recall_score(y_train_merged, y_pred_train_merged, average='weighted'),\n",
    "    'Test Recall (Merged)': recall_score(y_test_merged, y_pred_test_merged, average='weighted'),\n",
    "\n",
    "    'Train F1 Score (Original)': f1_score(y_train, y_pred_train, average='weighted'),\n",
    "    'Test F1 Score (Original)': f1_score(y_test, y_pred_test, average='weighted'),\n",
    "    'Train F1 Score (Merged)': f1_score(y_train_merged, y_pred_train_merged, average='weighted'),\n",
    "    'Test F1 Score (Merged)': f1_score(y_test_merged, y_pred_test_merged, average='weighted')\n",
    "}"
   ]
  },
  {
   "cell_type": "markdown",
   "metadata": {},
   "source": [
    "### W2V + W2V + K-Nearest Neighbors (KNN)"
   ]
  },
  {
   "cell_type": "code",
   "execution_count": 67,
   "metadata": {},
   "outputs": [],
   "source": [
    "# Creating a K-Nearest Neighbors (KNN) model for classification\n",
    "model_w2v_knn = KNeighborsClassifier()\n",
    "model_w2v_knn_merged = KNeighborsClassifier()"
   ]
  },
  {
   "cell_type": "code",
   "execution_count": 68,
   "metadata": {},
   "outputs": [
    {
     "data": {
      "text/html": [
       "<style>#sk-container-id-3 {color: black;}#sk-container-id-3 pre{padding: 0;}#sk-container-id-3 div.sk-toggleable {background-color: white;}#sk-container-id-3 label.sk-toggleable__label {cursor: pointer;display: block;width: 100%;margin-bottom: 0;padding: 0.3em;box-sizing: border-box;text-align: center;}#sk-container-id-3 label.sk-toggleable__label-arrow:before {content: \"▸\";float: left;margin-right: 0.25em;color: #696969;}#sk-container-id-3 label.sk-toggleable__label-arrow:hover:before {color: black;}#sk-container-id-3 div.sk-estimator:hover label.sk-toggleable__label-arrow:before {color: black;}#sk-container-id-3 div.sk-toggleable__content {max-height: 0;max-width: 0;overflow: hidden;text-align: left;background-color: #f0f8ff;}#sk-container-id-3 div.sk-toggleable__content pre {margin: 0.2em;color: black;border-radius: 0.25em;background-color: #f0f8ff;}#sk-container-id-3 input.sk-toggleable__control:checked~div.sk-toggleable__content {max-height: 200px;max-width: 100%;overflow: auto;}#sk-container-id-3 input.sk-toggleable__control:checked~label.sk-toggleable__label-arrow:before {content: \"▾\";}#sk-container-id-3 div.sk-estimator input.sk-toggleable__control:checked~label.sk-toggleable__label {background-color: #d4ebff;}#sk-container-id-3 div.sk-label input.sk-toggleable__control:checked~label.sk-toggleable__label {background-color: #d4ebff;}#sk-container-id-3 input.sk-hidden--visually {border: 0;clip: rect(1px 1px 1px 1px);clip: rect(1px, 1px, 1px, 1px);height: 1px;margin: -1px;overflow: hidden;padding: 0;position: absolute;width: 1px;}#sk-container-id-3 div.sk-estimator {font-family: monospace;background-color: #f0f8ff;border: 1px dotted black;border-radius: 0.25em;box-sizing: border-box;margin-bottom: 0.5em;}#sk-container-id-3 div.sk-estimator:hover {background-color: #d4ebff;}#sk-container-id-3 div.sk-parallel-item::after {content: \"\";width: 100%;border-bottom: 1px solid gray;flex-grow: 1;}#sk-container-id-3 div.sk-label:hover label.sk-toggleable__label {background-color: #d4ebff;}#sk-container-id-3 div.sk-serial::before {content: \"\";position: absolute;border-left: 1px solid gray;box-sizing: border-box;top: 0;bottom: 0;left: 50%;z-index: 0;}#sk-container-id-3 div.sk-serial {display: flex;flex-direction: column;align-items: center;background-color: white;padding-right: 0.2em;padding-left: 0.2em;position: relative;}#sk-container-id-3 div.sk-item {position: relative;z-index: 1;}#sk-container-id-3 div.sk-parallel {display: flex;align-items: stretch;justify-content: center;background-color: white;position: relative;}#sk-container-id-3 div.sk-item::before, #sk-container-id-3 div.sk-parallel-item::before {content: \"\";position: absolute;border-left: 1px solid gray;box-sizing: border-box;top: 0;bottom: 0;left: 50%;z-index: -1;}#sk-container-id-3 div.sk-parallel-item {display: flex;flex-direction: column;z-index: 1;position: relative;background-color: white;}#sk-container-id-3 div.sk-parallel-item:first-child::after {align-self: flex-end;width: 50%;}#sk-container-id-3 div.sk-parallel-item:last-child::after {align-self: flex-start;width: 50%;}#sk-container-id-3 div.sk-parallel-item:only-child::after {width: 0;}#sk-container-id-3 div.sk-dashed-wrapped {border: 1px dashed gray;margin: 0 0.4em 0.5em 0.4em;box-sizing: border-box;padding-bottom: 0.4em;background-color: white;}#sk-container-id-3 div.sk-label label {font-family: monospace;font-weight: bold;display: inline-block;line-height: 1.2em;}#sk-container-id-3 div.sk-label-container {text-align: center;}#sk-container-id-3 div.sk-container {/* jupyter's `normalize.less` sets `[hidden] { display: none; }` but bootstrap.min.css set `[hidden] { display: none !important; }` so we also need the `!important` here to be able to override the default hidden behavior on the sphinx rendered scikit-learn.org. See: https://github.com/scikit-learn/scikit-learn/issues/21755 */display: inline-block !important;position: relative;}#sk-container-id-3 div.sk-text-repr-fallback {display: none;}</style><div id=\"sk-container-id-3\" class=\"sk-top-container\"><div class=\"sk-text-repr-fallback\"><pre>KNeighborsClassifier()</pre><b>In a Jupyter environment, please rerun this cell to show the HTML representation or trust the notebook. <br />On GitHub, the HTML representation is unable to render, please try loading this page with nbviewer.org.</b></div><div class=\"sk-container\" hidden><div class=\"sk-item\"><div class=\"sk-estimator sk-toggleable\"><input class=\"sk-toggleable__control sk-hidden--visually\" id=\"sk-estimator-id-3\" type=\"checkbox\" checked><label for=\"sk-estimator-id-3\" class=\"sk-toggleable__label sk-toggleable__label-arrow\">KNeighborsClassifier</label><div class=\"sk-toggleable__content\"><pre>KNeighborsClassifier()</pre></div></div></div></div></div>"
      ],
      "text/plain": [
       "KNeighborsClassifier()"
      ]
     },
     "execution_count": 68,
     "metadata": {},
     "output_type": "execute_result"
    }
   ],
   "source": [
    "# Fitting the K-Nearest Neighbors (KNN) model using the word vector features and training labels\n",
    "model_w2v_knn.fit(X_train_W2V, y_train)\n",
    "\n",
    "# Fitting the merged K-Nearest Neighbors (KNN) model using the word vector features and training labels\n",
    "model_w2v_knn_merged.fit(X_train_merged_W2V, y_train_merged)"
   ]
  },
  {
   "cell_type": "code",
   "execution_count": 69,
   "metadata": {},
   "outputs": [],
   "source": [
    "# Predicting labels for the training set using the trained KNN model\n",
    "y_pred_train = model_w2v_knn.predict(X_train_W2V)\n",
    "\n",
    "# Predicting labels for the test set using the trained KNN model\n",
    "y_pred_test = model_w2v_knn.predict(X_test_W2V)\n",
    "\n",
    "# Predicting labels for the merged training set using the trained KNN model\n",
    "y_pred_train_merged = model_w2v_knn_merged.predict(X_train_merged_W2V)\n",
    "\n",
    "# Predicting labels for the merged test set using the trained KNN model\n",
    "y_pred_test_merged = model_w2v_knn_merged.predict(X_test_merged_W2V)"
   ]
  },
  {
   "cell_type": "code",
   "execution_count": 70,
   "metadata": {},
   "outputs": [
    {
     "name": "stdout",
     "output_type": "stream",
     "text": [
      "classification_report train original\n",
      "                                                              precision    recall  f1-score   support\n",
      "\n",
      "                                          Afhentning i butik       0.38      0.75      0.50         4\n",
      "                                        Annullering af ordre       0.38      0.75      0.50         4\n",
      "                                          Bestilling i butik       0.33      1.00      0.50         2\n",
      "                                         Betaling med Klarna       0.50      0.50      0.50         4\n",
      "                                         Betalingsmuligheder       0.00      0.00      0.00         2\n",
      "                                     Defekt produkt modtaget       0.43      0.75      0.55         4\n",
      "                                                     Erhverv       1.00      1.00      1.00         3\n",
      "                                    Forkert produkt modtaget       0.36      1.00      0.53         4\n",
      "                                                    Gavekort       0.50      1.00      0.67         2\n",
      "       Hvor kan man købe produkter fra Shaping New Tomorrow?       0.57      1.00      0.73         4\n",
      "                       Hvornår modtager jeg min refundering?       0.33      0.25      0.29         4\n",
      "Kan jeg få besked, når en udsolgt vare kommer på lager igen?       0.67      1.00      0.80         2\n",
      "                                        Levering i weekenden       1.00      0.33      0.50         3\n",
      "                                      Leveringsinformationer       0.50      0.50      0.50         4\n",
      "                                         Leveringsmuligheder       0.00      0.00      0.00         3\n",
      "                           Leveringsmuligheder - DHL Express       0.00      0.00      0.00         1\n",
      "                         Leveringsmuligheder - GLS Pakkeshop       0.50      0.50      0.50         2\n",
      "                    Leveringsmuligheder - GLS Privatlevering       0.00      0.00      0.00         2\n",
      "                               Leveringstid bestilling butik       0.00      0.00      0.00         1\n",
      "                                                      Lynlås       0.50      0.33      0.40         3\n",
      "                             Manglende produkter i min ordre       0.75      1.00      0.86         3\n",
      "            Ombytning eller returnering af gave købt i butik       0.67      0.67      0.67         3\n",
      "             Ombytning eller returnering af gave købt online       0.00      0.00      0.00         3\n",
      "                              Ordrebekræftelse ikke modtaget       0.50      0.33      0.40         3\n",
      "                                 Ordrenummer ved returnering       0.00      0.00      0.00         2\n",
      "                                                 Refundering       0.50      0.20      0.29         5\n",
      "                         Returnering af bestilling fra butik       0.00      0.00      0.00         1\n",
      "             Returnering af produkter fra forskellige ordrer       0.27      0.75      0.40         4\n",
      "                     Returnering fra fysisk butik til online       0.00      0.00      0.00         2\n",
      "                                              Spor min ordre       1.00      0.25      0.40         4\n",
      "         Sådan indtaster du din rabatkode eller dit gavekort       0.60      1.00      0.75         6\n",
      "                                        Told- og importgebyr       0.00      0.00      0.00         2\n",
      "                                        Vaske- og Care Guide       1.00      0.33      0.50         3\n",
      "                                                   baglommer       0.00      0.00      0.00         1\n",
      "                                                      farvel       0.75      1.00      0.86         3\n",
      "                                                      hilsen       1.00      0.25      0.40         4\n",
      "                                                        moms       1.00      0.67      0.80         3\n",
      "                                         regular og slim fit       0.60      1.00      0.75         3\n",
      "                                                 reklamation       0.00      0.00      0.00         5\n",
      "                                              skrædderpriser       0.00      0.00      0.00         3\n",
      "                                                   store lår       0.75      0.75      0.75         4\n",
      "                                            størrelsesguides       0.50      0.33      0.40         3\n",
      "                                                        svar       0.00      0.00      0.00         1\n",
      "                                                         tak       1.00      1.00      1.00         3\n",
      "                                            Ændring af ordre       0.00      0.00      0.00         1\n",
      "\n",
      "                                                    accuracy                           0.51       133\n",
      "                                                   macro avg       0.42      0.45      0.39       133\n",
      "                                                weighted avg       0.48      0.51      0.45       133\n",
      "\n"
     ]
    }
   ],
   "source": [
    "# Printing the classification report for predictions on the original training set\n",
    "print(\"classification_report train original\")\n",
    "print(classification_report(y_train, y_pred_train))"
   ]
  },
  {
   "cell_type": "code",
   "execution_count": 71,
   "metadata": {},
   "outputs": [
    {
     "name": "stdout",
     "output_type": "stream",
     "text": [
      "classification_report test original\n",
      "                                                              precision    recall  f1-score   support\n",
      "\n",
      "                                          Afhentning i butik       0.00      0.00      0.00         0\n",
      "                                        Annullering af ordre       0.00      0.00      0.00         0\n",
      "                                          Bestilling i butik       0.67      0.67      0.67         3\n",
      "                                         Betaling med Klarna       0.00      0.00      0.00         0\n",
      "                                         Betalingsmuligheder       0.00      0.00      0.00         1\n",
      "                                     Defekt produkt modtaget       0.00      0.00      0.00         0\n",
      "                                                     Erhverv       0.50      1.00      0.67         1\n",
      "                                    Forkert produkt modtaget       0.00      0.00      0.00         0\n",
      "                                                    Gavekort       0.00      0.00      0.00         1\n",
      "       Hvor kan man købe produkter fra Shaping New Tomorrow?       0.00      0.00      0.00         0\n",
      "                       Hvornår modtager jeg min refundering?       0.00      0.00      0.00         0\n",
      "Kan jeg få besked, når en udsolgt vare kommer på lager igen?       1.00      1.00      1.00         1\n",
      "                                        Levering i weekenden       1.00      1.00      1.00         1\n",
      "                                      Leveringsinformationer       0.00      0.00      0.00         0\n",
      "                                         Leveringsmuligheder       0.00      0.00      0.00         1\n",
      "                           Leveringsmuligheder - DHL Express       0.00      0.00      0.00         1\n",
      "                           Leveringsmuligheder - GLS Erhverv       0.00      0.00      0.00         2\n",
      "                         Leveringsmuligheder - GLS Pakkeshop       0.00      0.00      0.00         0\n",
      "                    Leveringsmuligheder - GLS Privatlevering       0.00      0.00      0.00         0\n",
      "                             Manglende produkter i min ordre       0.00      0.00      0.00         1\n",
      "            Ombytning eller returnering af gave købt i butik       0.00      0.00      0.00         1\n",
      "             Ombytning eller returnering af gave købt online       1.00      1.00      1.00         1\n",
      "                              Ordrebekræftelse ikke modtaget       0.00      0.00      0.00         1\n",
      "                                 Ordrenummer ved returnering       0.00      0.00      0.00         2\n",
      "                         Returnering af bestilling fra butik       0.00      0.00      0.00         2\n",
      "             Returnering af produkter fra forskellige ordrer       0.00      0.00      0.00         0\n",
      "                     Returnering fra fysisk butik til online       0.00      0.00      0.00         2\n",
      "                                              Spor min ordre       0.00      0.00      0.00         0\n",
      "         Sådan indtaster du din rabatkode eller dit gavekort       0.00      0.00      0.00         0\n",
      "                                        Told- og importgebyr       0.00      0.00      0.00         2\n",
      "                                        Vaske- og Care Guide       0.00      0.00      0.00         1\n",
      "                                                   baglommer       0.00      0.00      0.00         2\n",
      "                                                        moms       1.00      0.50      0.67         2\n",
      "                                              skrædderpriser       0.00      0.00      0.00         1\n",
      "                                                         tak       0.00      0.00      0.00         1\n",
      "                                            Ændring af ordre       0.00      0.00      0.00         3\n",
      "\n",
      "                                                    accuracy                           0.21        34\n",
      "                                                   macro avg       0.14      0.14      0.14        34\n",
      "                                                weighted avg       0.22      0.21      0.21        34\n",
      "\n"
     ]
    }
   ],
   "source": [
    "# Printing the classification report for predictions on the original test set\n",
    "print(\"classification_report test original\")\n",
    "print(classification_report(y_test, y_pred_test))"
   ]
  },
  {
   "cell_type": "code",
   "execution_count": 72,
   "metadata": {},
   "outputs": [
    {
     "name": "stdout",
     "output_type": "stream",
     "text": [
      "classification_report train merged\n",
      "                                                              precision    recall  f1-score   support\n",
      "\n",
      "                                          Afhentning i butik       0.30      1.00      0.47         7\n",
      "                                        Annullering af ordre       0.36      0.57      0.44         7\n",
      "                                          Bestilling i butik       0.33      0.86      0.48         7\n",
      "                                         Betaling med Klarna       0.25      0.33      0.29         3\n",
      "                                         Betalingsmuligheder       0.00      0.00      0.00         3\n",
      "                                     Defekt produkt modtaget       0.31      0.57      0.40         7\n",
      "                                                     Erhverv       1.00      1.00      1.00         4\n",
      "                                    Forkert produkt modtaget       0.39      0.88      0.54         8\n",
      "                                                    Gavekort       0.33      0.67      0.44         3\n",
      "       Hvor kan man købe produkter fra Shaping New Tomorrow?       0.80      1.00      0.89         4\n",
      "                       Hvornår modtager jeg min refundering?       0.33      0.20      0.25         5\n",
      "Kan jeg få besked, når en udsolgt vare kommer på lager igen?       0.50      0.50      0.50         2\n",
      "                                        Levering i weekenden       1.00      0.20      0.33         5\n",
      "                                      Leveringsinformationer       0.60      0.60      0.60         5\n",
      "                                         Leveringsmuligheder       0.50      0.12      0.20         8\n",
      "                           Leveringsmuligheder - DHL Express       1.00      1.00      1.00         3\n",
      "                           Leveringsmuligheder - GLS Erhverv       0.25      0.25      0.25         4\n",
      "                         Leveringsmuligheder - GLS Pakkeshop       0.75      0.75      0.75         4\n",
      "                    Leveringsmuligheder - GLS Privatlevering       0.00      0.00      0.00         4\n",
      "                               Leveringstid bestilling butik       0.67      1.00      0.80         2\n",
      "                                                      Lynlås       0.50      0.33      0.40         3\n",
      "                             Manglende produkter i min ordre       0.80      0.67      0.73         6\n",
      "            Ombytning eller returnering af gave købt i butik       0.50      0.50      0.50         6\n",
      "             Ombytning eller returnering af gave købt online       0.50      0.50      0.50         4\n",
      "                              Ordrebekræftelse ikke modtaget       1.00      0.43      0.60         7\n",
      "                                 Ordrenummer ved returnering       1.00      0.67      0.80         3\n",
      "                                                 Refundering       0.44      0.44      0.44         9\n",
      "                         Returnering af bestilling fra butik       0.00      0.00      0.00         4\n",
      "             Returnering af produkter fra forskellige ordrer       0.67      0.86      0.75         7\n",
      "                     Returnering fra fysisk butik til online       0.67      0.67      0.67         3\n",
      "                                              Spor min ordre       0.62      0.71      0.67         7\n",
      "         Sådan indtaster du din rabatkode eller dit gavekort       0.00      0.00      0.00         2\n",
      "                                        Told- og importgebyr       1.00      0.50      0.67         6\n",
      "                                        Vaske- og Care Guide       0.00      0.00      0.00         3\n",
      "                                                   baglommer       0.67      0.67      0.67         3\n",
      "                                                      farvel       0.67      0.50      0.57         4\n",
      "                                                      hilsen       1.00      0.25      0.40         8\n",
      "                                                        moms       0.56      1.00      0.71         5\n",
      "                                         regular og slim fit       0.67      1.00      0.80         2\n",
      "                                                 reklamation       0.00      0.00      0.00         4\n",
      "                                              skrædderpriser       0.00      0.00      0.00         4\n",
      "                                                   store lår       0.67      0.67      0.67         3\n",
      "                                            størrelsesguides       0.00      0.00      0.00         1\n",
      "                                                        svar       0.00      0.00      0.00         2\n",
      "                                                         tak       1.00      0.80      0.89         5\n",
      "                                            Ændring af ordre       0.00      0.00      0.00         6\n",
      "\n",
      "                                                    accuracy                           0.51       212\n",
      "                                                   macro avg       0.49      0.49      0.46       212\n",
      "                                                weighted avg       0.52      0.51      0.47       212\n",
      "\n"
     ]
    }
   ],
   "source": [
    "# Printing the classification report for predictions on the merged training set\n",
    "print(\"classification_report train merged\")\n",
    "print(classification_report(y_train_merged, y_pred_train_merged))"
   ]
  },
  {
   "cell_type": "code",
   "execution_count": 73,
   "metadata": {},
   "outputs": [
    {
     "name": "stdout",
     "output_type": "stream",
     "text": [
      "classification_report test merged\n",
      "                                                              precision    recall  f1-score   support\n",
      "\n",
      "                                          Afhentning i butik       0.00      0.00      0.00         1\n",
      "                                        Annullering af ordre       0.33      1.00      0.50         1\n",
      "                                          Bestilling i butik       0.29      0.67      0.40         3\n",
      "                                         Betaling med Klarna       0.00      0.00      0.00         1\n",
      "                                         Betalingsmuligheder       0.00      0.00      0.00         0\n",
      "                                     Defekt produkt modtaget       0.50      1.00      0.67         1\n",
      "                                                     Erhverv       0.00      0.00      0.00         0\n",
      "                                    Forkert produkt modtaget       0.00      0.00      0.00         0\n",
      "                                                    Gavekort       0.00      0.00      0.00         0\n",
      "                       Hvornår modtager jeg min refundering?       0.00      0.00      0.00         3\n",
      "Kan jeg få besked, når en udsolgt vare kommer på lager igen?       1.00      1.00      1.00         1\n",
      "                                        Levering i weekenden       0.00      0.00      0.00         3\n",
      "                                      Leveringsinformationer       0.00      0.00      0.00         3\n",
      "                           Leveringsmuligheder - DHL Express       0.00      0.00      0.00         1\n",
      "                           Leveringsmuligheder - GLS Erhverv       0.00      0.00      0.00         0\n",
      "                             Manglende produkter i min ordre       1.00      1.00      1.00         2\n",
      "            Ombytning eller returnering af gave købt i butik       0.50      1.00      0.67         2\n",
      "             Ombytning eller returnering af gave købt online       0.00      0.00      0.00         4\n",
      "                              Ordrebekræftelse ikke modtaget       0.00      0.00      0.00         1\n",
      "                                 Ordrenummer ved returnering       0.00      0.00      0.00         1\n",
      "                                                 Refundering       0.00      0.00      0.00         1\n",
      "                         Returnering af bestilling fra butik       1.00      1.00      1.00         2\n",
      "             Returnering af produkter fra forskellige ordrer       0.14      1.00      0.25         1\n",
      "                     Returnering fra fysisk butik til online       0.00      0.00      0.00         1\n",
      "                                              Spor min ordre       0.00      0.00      0.00         1\n",
      "         Sådan indtaster du din rabatkode eller dit gavekort       0.00      0.00      0.00         4\n",
      "                                        Told- og importgebyr       0.00      0.00      0.00         2\n",
      "                                        Vaske- og Care Guide       0.00      0.00      0.00         1\n",
      "                                                      farvel       0.00      0.00      0.00         2\n",
      "                                         regular og slim fit       0.50      1.00      0.67         1\n",
      "                                                 reklamation       0.00      0.00      0.00         1\n",
      "                                              skrædderpriser       0.00      0.00      0.00         0\n",
      "                                                   store lår       0.00      0.00      0.00         1\n",
      "                                            størrelsesguides       0.00      0.00      0.00         2\n",
      "                                                         tak       1.00      0.67      0.80         3\n",
      "                                            Ændring af ordre       0.50      0.50      0.50         2\n",
      "\n",
      "                                                    accuracy                           0.30        53\n",
      "                                                   macro avg       0.19      0.27      0.21        53\n",
      "                                                weighted avg       0.23      0.30      0.25        53\n",
      "\n"
     ]
    }
   ],
   "source": [
    "# Printing the classification report for predictions on the merged test set\n",
    "print(\"classification_report test merged\")\n",
    "print(classification_report(y_test_merged, y_pred_test_merged))"
   ]
  },
  {
   "cell_type": "code",
   "execution_count": 74,
   "metadata": {},
   "outputs": [
    {
     "name": "stdout",
     "output_type": "stream",
     "text": [
      "Accuracy Score for for train: 0.51128\n",
      "Accuracy Score for for test: 0.20588\n",
      "Accuracy Score for train merged: 0.51415\n",
      "Accuracy Score for test merged: 0.30189\n",
      "Precision Score for for train: 0.47954\n",
      "Precision Score for for test: 0.22059\n",
      "Precision Score for train merged: 0.52049\n",
      "Precision Score for test merged: 0.23270\n",
      "Recall Score for for train: 0.51128\n",
      "Recall Score for for test: 0.20588\n",
      "Recall Score for train merged: 0.51415\n",
      "Recall Score for test merged: 0.30189\n",
      "F1 Score for for train: 0.44678\n",
      "F1 Score for for test: 0.20588\n",
      "F1 Score for train merged: 0.47118\n",
      "F1 Score for test merged: 0.24560\n"
     ]
    }
   ],
   "source": [
    "# Calculating and printing the accuracy score for the original training set\n",
    "print('Accuracy Score for for train: %.5f'%accuracy_score(y_train, y_pred_train))\n",
    "\n",
    "# Calculating and printing the accuracy score for the original test set\n",
    "print('Accuracy Score for for test: %.5f'%accuracy_score(y_test, y_pred_test))\n",
    "\n",
    "# Calculating and printing the accuracy score for the merged training set\n",
    "print('Accuracy Score for train merged: %.5f'%accuracy_score(y_train_merged, y_pred_train_merged))\n",
    "\n",
    "# Calculating and printing the accuracy score for the merged test set\n",
    "print('Accuracy Score for test merged: %.5f'%accuracy_score(y_test_merged, y_pred_test_merged))\n",
    "\n",
    "# Calculating and printing the precision score for the original training set\n",
    "print('Precision Score for for train: %.5f'%precision_score(y_train, y_pred_train, average='weighted'))\n",
    "\n",
    "# Calculating and printing the precision score for the original test set\n",
    "print('Precision Score for for test: %.5f'%precision_score(y_test, y_pred_test, average='weighted'))\n",
    "\n",
    "# Calculating and printing the precision score for the merged training set\n",
    "print('Precision Score for train merged: %.5f'%precision_score(y_train_merged, y_pred_train_merged, average='weighted'))\n",
    "\n",
    "# Calculating and printing the precision score for the merged test set\n",
    "print('Precision Score for test merged: %.5f'%precision_score(y_test_merged, y_pred_test_merged, average='weighted'))\n",
    "\n",
    "# Calculating and printing the recall score for the original training set\n",
    "print('Recall Score for for train: %.5f'%recall_score(y_train, y_pred_train, average='weighted'))\n",
    "\n",
    "# Calculating and printing the recall score for the original test set\n",
    "print('Recall Score for for test: %.5f'%recall_score(y_test, y_pred_test, average='weighted'))\n",
    "\n",
    "# Calculating and printing the recall score for the merged training set\n",
    "print('Recall Score for train merged: %.5f'%recall_score(y_train_merged, y_pred_train_merged, average='weighted'))\n",
    "\n",
    "# Calculating and printing the recall score for the merged test set\n",
    "print('Recall Score for test merged: %.5f'%recall_score(y_test_merged, y_pred_test_merged, average='weighted'))\n",
    "\n",
    "# Calculating and printing the f1 score for the original training set\n",
    "print('F1 Score for for train: %.5f'%f1_score(y_train, y_pred_train, average='weighted'))\n",
    "\n",
    "# Calculating and printing the f1 score for the original test set\n",
    "print('F1 Score for for test: %.5f'%f1_score(y_test, y_pred_test, average='weighted'))\n",
    "\n",
    "# Calculating and printing the f1 score for the merged training set\n",
    "print('F1 Score for train merged: %.5f'%f1_score(y_train_merged, y_pred_train_merged, average='weighted'))\n",
    "\n",
    "# Calculating and printing the f1 score for the merged test set\n",
    "print('F1 Score for test merged: %.5f'%f1_score(y_test_merged, y_pred_test_merged, average='weighted'))"
   ]
  },
  {
   "cell_type": "code",
   "execution_count": 75,
   "metadata": {},
   "outputs": [],
   "source": [
    "model_w2v_knn_scores = {\n",
    "    'Train Accuracy (Original)': accuracy_score(y_train, y_pred_train),\n",
    "    'Test Accuracy (Original)': accuracy_score(y_test, y_pred_test),\n",
    "    'Train Accuracy (Merged)': accuracy_score(y_train_merged, y_pred_train_merged),\n",
    "    'Test Accuracy (Merged)': accuracy_score(y_test_merged, y_pred_test_merged),\n",
    "\n",
    "    'Train Precision (Original)': precision_score(y_train, y_pred_train, average='weighted'),\n",
    "    'Test Precision (Original)': precision_score(y_test, y_pred_test, average='weighted'),\n",
    "    'Train Precision (Merged)': precision_score(y_train_merged, y_pred_train_merged, average='weighted'),\n",
    "    'Test Precision (Merged)': precision_score(y_test_merged, y_pred_test_merged, average='weighted'),\n",
    "\n",
    "    'Train Recall (Original)': recall_score(y_train, y_pred_train, average='weighted'),\n",
    "    'Test Recall (Original)': recall_score(y_test, y_pred_test, average='weighted'),\n",
    "    'Train Recall (Merged)': recall_score(y_train_merged, y_pred_train_merged, average='weighted'),\n",
    "    'Test Recall (Merged)': recall_score(y_test_merged, y_pred_test_merged, average='weighted'),\n",
    "\n",
    "    'Train F1 Score (Original)': f1_score(y_train, y_pred_train, average='weighted'),\n",
    "    'Test F1 Score (Original)': f1_score(y_test, y_pred_test, average='weighted'),\n",
    "    'Train F1 Score (Merged)': f1_score(y_train_merged, y_pred_train_merged, average='weighted'),\n",
    "    'Test F1 Score (Merged)': f1_score(y_test_merged, y_pred_test_merged, average='weighted')\n",
    "}"
   ]
  },
  {
   "cell_type": "markdown",
   "metadata": {},
   "source": [
    "### W2V + Random Forrest"
   ]
  },
  {
   "cell_type": "code",
   "execution_count": 76,
   "metadata": {},
   "outputs": [],
   "source": [
    "# Creating a Random Forest model for classification\n",
    "model_w2v_rf = RandomForestClassifier()\n",
    "model_w2v_rf_merged = RandomForestClassifier()"
   ]
  },
  {
   "cell_type": "code",
   "execution_count": 77,
   "metadata": {},
   "outputs": [
    {
     "data": {
      "text/html": [
       "<style>#sk-container-id-4 {color: black;}#sk-container-id-4 pre{padding: 0;}#sk-container-id-4 div.sk-toggleable {background-color: white;}#sk-container-id-4 label.sk-toggleable__label {cursor: pointer;display: block;width: 100%;margin-bottom: 0;padding: 0.3em;box-sizing: border-box;text-align: center;}#sk-container-id-4 label.sk-toggleable__label-arrow:before {content: \"▸\";float: left;margin-right: 0.25em;color: #696969;}#sk-container-id-4 label.sk-toggleable__label-arrow:hover:before {color: black;}#sk-container-id-4 div.sk-estimator:hover label.sk-toggleable__label-arrow:before {color: black;}#sk-container-id-4 div.sk-toggleable__content {max-height: 0;max-width: 0;overflow: hidden;text-align: left;background-color: #f0f8ff;}#sk-container-id-4 div.sk-toggleable__content pre {margin: 0.2em;color: black;border-radius: 0.25em;background-color: #f0f8ff;}#sk-container-id-4 input.sk-toggleable__control:checked~div.sk-toggleable__content {max-height: 200px;max-width: 100%;overflow: auto;}#sk-container-id-4 input.sk-toggleable__control:checked~label.sk-toggleable__label-arrow:before {content: \"▾\";}#sk-container-id-4 div.sk-estimator input.sk-toggleable__control:checked~label.sk-toggleable__label {background-color: #d4ebff;}#sk-container-id-4 div.sk-label input.sk-toggleable__control:checked~label.sk-toggleable__label {background-color: #d4ebff;}#sk-container-id-4 input.sk-hidden--visually {border: 0;clip: rect(1px 1px 1px 1px);clip: rect(1px, 1px, 1px, 1px);height: 1px;margin: -1px;overflow: hidden;padding: 0;position: absolute;width: 1px;}#sk-container-id-4 div.sk-estimator {font-family: monospace;background-color: #f0f8ff;border: 1px dotted black;border-radius: 0.25em;box-sizing: border-box;margin-bottom: 0.5em;}#sk-container-id-4 div.sk-estimator:hover {background-color: #d4ebff;}#sk-container-id-4 div.sk-parallel-item::after {content: \"\";width: 100%;border-bottom: 1px solid gray;flex-grow: 1;}#sk-container-id-4 div.sk-label:hover label.sk-toggleable__label {background-color: #d4ebff;}#sk-container-id-4 div.sk-serial::before {content: \"\";position: absolute;border-left: 1px solid gray;box-sizing: border-box;top: 0;bottom: 0;left: 50%;z-index: 0;}#sk-container-id-4 div.sk-serial {display: flex;flex-direction: column;align-items: center;background-color: white;padding-right: 0.2em;padding-left: 0.2em;position: relative;}#sk-container-id-4 div.sk-item {position: relative;z-index: 1;}#sk-container-id-4 div.sk-parallel {display: flex;align-items: stretch;justify-content: center;background-color: white;position: relative;}#sk-container-id-4 div.sk-item::before, #sk-container-id-4 div.sk-parallel-item::before {content: \"\";position: absolute;border-left: 1px solid gray;box-sizing: border-box;top: 0;bottom: 0;left: 50%;z-index: -1;}#sk-container-id-4 div.sk-parallel-item {display: flex;flex-direction: column;z-index: 1;position: relative;background-color: white;}#sk-container-id-4 div.sk-parallel-item:first-child::after {align-self: flex-end;width: 50%;}#sk-container-id-4 div.sk-parallel-item:last-child::after {align-self: flex-start;width: 50%;}#sk-container-id-4 div.sk-parallel-item:only-child::after {width: 0;}#sk-container-id-4 div.sk-dashed-wrapped {border: 1px dashed gray;margin: 0 0.4em 0.5em 0.4em;box-sizing: border-box;padding-bottom: 0.4em;background-color: white;}#sk-container-id-4 div.sk-label label {font-family: monospace;font-weight: bold;display: inline-block;line-height: 1.2em;}#sk-container-id-4 div.sk-label-container {text-align: center;}#sk-container-id-4 div.sk-container {/* jupyter's `normalize.less` sets `[hidden] { display: none; }` but bootstrap.min.css set `[hidden] { display: none !important; }` so we also need the `!important` here to be able to override the default hidden behavior on the sphinx rendered scikit-learn.org. See: https://github.com/scikit-learn/scikit-learn/issues/21755 */display: inline-block !important;position: relative;}#sk-container-id-4 div.sk-text-repr-fallback {display: none;}</style><div id=\"sk-container-id-4\" class=\"sk-top-container\"><div class=\"sk-text-repr-fallback\"><pre>RandomForestClassifier()</pre><b>In a Jupyter environment, please rerun this cell to show the HTML representation or trust the notebook. <br />On GitHub, the HTML representation is unable to render, please try loading this page with nbviewer.org.</b></div><div class=\"sk-container\" hidden><div class=\"sk-item\"><div class=\"sk-estimator sk-toggleable\"><input class=\"sk-toggleable__control sk-hidden--visually\" id=\"sk-estimator-id-4\" type=\"checkbox\" checked><label for=\"sk-estimator-id-4\" class=\"sk-toggleable__label sk-toggleable__label-arrow\">RandomForestClassifier</label><div class=\"sk-toggleable__content\"><pre>RandomForestClassifier()</pre></div></div></div></div></div>"
      ],
      "text/plain": [
       "RandomForestClassifier()"
      ]
     },
     "execution_count": 77,
     "metadata": {},
     "output_type": "execute_result"
    }
   ],
   "source": [
    "# Fitting the Random Forest model using the word vector features and training labels\n",
    "model_w2v_rf.fit(X_train_W2V, y_train)\n",
    "\n",
    "# Fitting the merged Random Forest model using the word vector features and training labels\n",
    "model_w2v_rf_merged.fit(X_train_merged_W2V, y_train_merged)"
   ]
  },
  {
   "cell_type": "code",
   "execution_count": 78,
   "metadata": {},
   "outputs": [],
   "source": [
    "# Predicting labels for the training set using the trained Random Forest model\n",
    "y_pred_train = model_w2v_rf.predict(X_train_W2V)\n",
    "\n",
    "# Predicting labels for the test set using the trained Random Forest model\n",
    "y_pred_test = model_w2v_rf.predict(X_test_W2V)\n",
    "\n",
    "# Predicting labels for the merged training set using the trained Random Forest model\n",
    "y_pred_train_merged = model_w2v_rf_merged.predict(X_train_merged_W2V)\n",
    "\n",
    "# Predicting labels for the merged test set using the trained Random Forest model\n",
    "y_pred_test_merged = model_w2v_rf_merged.predict(X_test_merged_W2V)"
   ]
  },
  {
   "cell_type": "code",
   "execution_count": 79,
   "metadata": {},
   "outputs": [
    {
     "name": "stdout",
     "output_type": "stream",
     "text": [
      "classification_report train original\n",
      "                                                              precision    recall  f1-score   support\n",
      "\n",
      "                                          Afhentning i butik       1.00      1.00      1.00         4\n",
      "                                        Annullering af ordre       1.00      1.00      1.00         4\n",
      "                                          Bestilling i butik       1.00      1.00      1.00         2\n",
      "                                         Betaling med Klarna       1.00      1.00      1.00         4\n",
      "                                         Betalingsmuligheder       1.00      1.00      1.00         2\n",
      "                                     Defekt produkt modtaget       1.00      1.00      1.00         4\n",
      "                                                     Erhverv       1.00      1.00      1.00         3\n",
      "                                    Forkert produkt modtaget       1.00      1.00      1.00         4\n",
      "                                                    Gavekort       1.00      1.00      1.00         2\n",
      "       Hvor kan man købe produkter fra Shaping New Tomorrow?       1.00      1.00      1.00         4\n",
      "                       Hvornår modtager jeg min refundering?       1.00      1.00      1.00         4\n",
      "Kan jeg få besked, når en udsolgt vare kommer på lager igen?       1.00      1.00      1.00         2\n",
      "                                        Levering i weekenden       1.00      1.00      1.00         3\n",
      "                                      Leveringsinformationer       0.80      1.00      0.89         4\n",
      "                                         Leveringsmuligheder       1.00      1.00      1.00         3\n",
      "                           Leveringsmuligheder - DHL Express       1.00      1.00      1.00         1\n",
      "                         Leveringsmuligheder - GLS Pakkeshop       1.00      1.00      1.00         2\n",
      "                    Leveringsmuligheder - GLS Privatlevering       1.00      1.00      1.00         2\n",
      "                               Leveringstid bestilling butik       1.00      1.00      1.00         1\n",
      "                                                      Lynlås       1.00      1.00      1.00         3\n",
      "                             Manglende produkter i min ordre       1.00      1.00      1.00         3\n",
      "            Ombytning eller returnering af gave købt i butik       1.00      1.00      1.00         3\n",
      "             Ombytning eller returnering af gave købt online       1.00      1.00      1.00         3\n",
      "                              Ordrebekræftelse ikke modtaget       1.00      1.00      1.00         3\n",
      "                                 Ordrenummer ved returnering       1.00      1.00      1.00         2\n",
      "                                                 Refundering       1.00      1.00      1.00         5\n",
      "                         Returnering af bestilling fra butik       1.00      1.00      1.00         1\n",
      "             Returnering af produkter fra forskellige ordrer       1.00      1.00      1.00         4\n",
      "                     Returnering fra fysisk butik til online       1.00      1.00      1.00         2\n",
      "                                              Spor min ordre       1.00      1.00      1.00         4\n",
      "         Sådan indtaster du din rabatkode eller dit gavekort       1.00      1.00      1.00         6\n",
      "                                        Told- og importgebyr       1.00      1.00      1.00         2\n",
      "                                        Vaske- og Care Guide       1.00      0.67      0.80         3\n",
      "                                                   baglommer       1.00      1.00      1.00         1\n",
      "                                                      farvel       0.75      1.00      0.86         3\n",
      "                                                      hilsen       1.00      0.75      0.86         4\n",
      "                                                        moms       1.00      1.00      1.00         3\n",
      "                                         regular og slim fit       1.00      1.00      1.00         3\n",
      "                                                 reklamation       1.00      1.00      1.00         5\n",
      "                                              skrædderpriser       1.00      1.00      1.00         3\n",
      "                                                   store lår       1.00      1.00      1.00         4\n",
      "                                            størrelsesguides       1.00      1.00      1.00         3\n",
      "                                                        svar       1.00      1.00      1.00         1\n",
      "                                                         tak       1.00      1.00      1.00         3\n",
      "                                            Ændring af ordre       1.00      1.00      1.00         1\n",
      "\n",
      "                                                    accuracy                           0.98       133\n",
      "                                                   macro avg       0.99      0.99      0.99       133\n",
      "                                                weighted avg       0.99      0.98      0.98       133\n",
      "\n"
     ]
    }
   ],
   "source": [
    "# Printing the classification report for predictions on the original training set\n",
    "print(\"classification_report train original\")\n",
    "print(classification_report(y_train, y_pred_train))"
   ]
  },
  {
   "cell_type": "code",
   "execution_count": 80,
   "metadata": {},
   "outputs": [
    {
     "name": "stdout",
     "output_type": "stream",
     "text": [
      "classification_report test original\n",
      "                                                              precision    recall  f1-score   support\n",
      "\n",
      "                                        Annullering af ordre       0.00      0.00      0.00         0\n",
      "                                          Bestilling i butik       1.00      0.33      0.50         3\n",
      "                                         Betaling med Klarna       0.00      0.00      0.00         0\n",
      "                                         Betalingsmuligheder       0.00      0.00      0.00         1\n",
      "                                     Defekt produkt modtaget       0.00      0.00      0.00         0\n",
      "                                                     Erhverv       1.00      1.00      1.00         1\n",
      "                                                    Gavekort       0.00      0.00      0.00         1\n",
      "       Hvor kan man købe produkter fra Shaping New Tomorrow?       0.00      0.00      0.00         0\n",
      "                       Hvornår modtager jeg min refundering?       0.00      0.00      0.00         0\n",
      "Kan jeg få besked, når en udsolgt vare kommer på lager igen?       1.00      1.00      1.00         1\n",
      "                                        Levering i weekenden       0.50      1.00      0.67         1\n",
      "                                      Leveringsinformationer       0.00      0.00      0.00         0\n",
      "                                         Leveringsmuligheder       0.00      0.00      0.00         1\n",
      "                           Leveringsmuligheder - DHL Express       0.00      0.00      0.00         1\n",
      "                           Leveringsmuligheder - GLS Erhverv       0.00      0.00      0.00         2\n",
      "                         Leveringsmuligheder - GLS Pakkeshop       0.00      0.00      0.00         0\n",
      "                    Leveringsmuligheder - GLS Privatlevering       0.00      0.00      0.00         0\n",
      "                             Manglende produkter i min ordre       0.00      0.00      0.00         1\n",
      "            Ombytning eller returnering af gave købt i butik       0.00      0.00      0.00         1\n",
      "             Ombytning eller returnering af gave købt online       0.50      1.00      0.67         1\n",
      "                              Ordrebekræftelse ikke modtaget       0.00      0.00      0.00         1\n",
      "                                 Ordrenummer ved returnering       1.00      0.50      0.67         2\n",
      "                                                 Refundering       0.00      0.00      0.00         0\n",
      "                         Returnering af bestilling fra butik       0.00      0.00      0.00         2\n",
      "             Returnering af produkter fra forskellige ordrer       0.00      0.00      0.00         0\n",
      "                     Returnering fra fysisk butik til online       0.67      1.00      0.80         2\n",
      "                                              Spor min ordre       0.00      0.00      0.00         0\n",
      "         Sådan indtaster du din rabatkode eller dit gavekort       0.00      0.00      0.00         0\n",
      "                                        Told- og importgebyr       0.00      0.00      0.00         2\n",
      "                                        Vaske- og Care Guide       0.00      0.00      0.00         1\n",
      "                                                   baglommer       0.00      0.00      0.00         2\n",
      "                                                        moms       1.00      0.50      0.67         2\n",
      "                                              skrædderpriser       0.00      0.00      0.00         1\n",
      "                                                   store lår       0.00      0.00      0.00         0\n",
      "                                                         tak       1.00      1.00      1.00         1\n",
      "                                            Ændring af ordre       0.00      0.00      0.00         3\n",
      "\n",
      "                                                    accuracy                           0.29        34\n",
      "                                                   macro avg       0.21      0.20      0.19        34\n",
      "                                                weighted avg       0.36      0.29      0.30        34\n",
      "\n"
     ]
    }
   ],
   "source": [
    "# Printing the classification report for predictions on the original test set\n",
    "print(\"classification_report test original\")\n",
    "print(classification_report(y_test, y_pred_test))"
   ]
  },
  {
   "cell_type": "code",
   "execution_count": 81,
   "metadata": {},
   "outputs": [
    {
     "name": "stdout",
     "output_type": "stream",
     "text": [
      "classification_report train merged\n",
      "                                                              precision    recall  f1-score   support\n",
      "\n",
      "                                          Afhentning i butik       1.00      0.86      0.92         7\n",
      "                                        Annullering af ordre       1.00      1.00      1.00         7\n",
      "                                          Bestilling i butik       1.00      1.00      1.00         7\n",
      "                                         Betaling med Klarna       1.00      1.00      1.00         3\n",
      "                                         Betalingsmuligheder       1.00      1.00      1.00         3\n",
      "                                     Defekt produkt modtaget       1.00      1.00      1.00         7\n",
      "                                                     Erhverv       1.00      1.00      1.00         4\n",
      "                                    Forkert produkt modtaget       1.00      1.00      1.00         8\n",
      "                                                    Gavekort       1.00      1.00      1.00         3\n",
      "       Hvor kan man købe produkter fra Shaping New Tomorrow?       1.00      1.00      1.00         4\n",
      "                       Hvornår modtager jeg min refundering?       1.00      1.00      1.00         5\n",
      "Kan jeg få besked, når en udsolgt vare kommer på lager igen?       1.00      1.00      1.00         2\n",
      "                                        Levering i weekenden       0.71      1.00      0.83         5\n",
      "                                      Leveringsinformationer       1.00      0.80      0.89         5\n",
      "                                         Leveringsmuligheder       1.00      1.00      1.00         8\n",
      "                           Leveringsmuligheder - DHL Express       1.00      1.00      1.00         3\n",
      "                           Leveringsmuligheder - GLS Erhverv       1.00      0.75      0.86         4\n",
      "                         Leveringsmuligheder - GLS Pakkeshop       1.00      1.00      1.00         4\n",
      "                    Leveringsmuligheder - GLS Privatlevering       0.80      1.00      0.89         4\n",
      "                               Leveringstid bestilling butik       1.00      1.00      1.00         2\n",
      "                                                      Lynlås       1.00      1.00      1.00         3\n",
      "                             Manglende produkter i min ordre       1.00      1.00      1.00         6\n",
      "            Ombytning eller returnering af gave købt i butik       1.00      1.00      1.00         6\n",
      "             Ombytning eller returnering af gave købt online       1.00      1.00      1.00         4\n",
      "                              Ordrebekræftelse ikke modtaget       1.00      1.00      1.00         7\n",
      "                                 Ordrenummer ved returnering       1.00      1.00      1.00         3\n",
      "                                                 Refundering       1.00      1.00      1.00         9\n",
      "                         Returnering af bestilling fra butik       1.00      1.00      1.00         4\n",
      "             Returnering af produkter fra forskellige ordrer       1.00      1.00      1.00         7\n",
      "                     Returnering fra fysisk butik til online       1.00      1.00      1.00         3\n",
      "                                              Spor min ordre       1.00      1.00      1.00         7\n",
      "         Sådan indtaster du din rabatkode eller dit gavekort       1.00      1.00      1.00         2\n",
      "                                        Told- og importgebyr       1.00      1.00      1.00         6\n",
      "                                        Vaske- og Care Guide       1.00      1.00      1.00         3\n",
      "                                                   baglommer       1.00      1.00      1.00         3\n",
      "                                                      farvel       0.80      1.00      0.89         4\n",
      "                                                      hilsen       1.00      0.88      0.93         8\n",
      "                                                        moms       1.00      1.00      1.00         5\n",
      "                                         regular og slim fit       1.00      1.00      1.00         2\n",
      "                                                 reklamation       1.00      1.00      1.00         4\n",
      "                                              skrædderpriser       1.00      1.00      1.00         4\n",
      "                                                   store lår       1.00      1.00      1.00         3\n",
      "                                            størrelsesguides       1.00      1.00      1.00         1\n",
      "                                                        svar       1.00      1.00      1.00         2\n",
      "                                                         tak       1.00      1.00      1.00         5\n",
      "                                            Ændring af ordre       1.00      1.00      1.00         6\n",
      "\n",
      "                                                    accuracy                           0.98       212\n",
      "                                                   macro avg       0.99      0.98      0.98       212\n",
      "                                                weighted avg       0.99      0.98      0.98       212\n",
      "\n"
     ]
    }
   ],
   "source": [
    "# Printing the classification report for predictions on the merged training set\n",
    "print(\"classification_report train merged\")\n",
    "print(classification_report(y_train_merged, y_pred_train_merged))"
   ]
  },
  {
   "cell_type": "code",
   "execution_count": 82,
   "metadata": {},
   "outputs": [
    {
     "name": "stdout",
     "output_type": "stream",
     "text": [
      "classification_report test merged\n",
      "                                                              precision    recall  f1-score   support\n",
      "\n",
      "                                          Afhentning i butik       0.00      0.00      0.00         1\n",
      "                                        Annullering af ordre       0.50      1.00      0.67         1\n",
      "                                          Bestilling i butik       1.00      0.33      0.50         3\n",
      "                                         Betaling med Klarna       0.00      0.00      0.00         1\n",
      "                                     Defekt produkt modtaget       1.00      1.00      1.00         1\n",
      "                                                     Erhverv       0.00      0.00      0.00         0\n",
      "                       Hvornår modtager jeg min refundering?       0.00      0.00      0.00         3\n",
      "Kan jeg få besked, når en udsolgt vare kommer på lager igen?       0.50      1.00      0.67         1\n",
      "                                        Levering i weekenden       1.00      0.67      0.80         3\n",
      "                                      Leveringsinformationer       1.00      0.33      0.50         3\n",
      "                                         Leveringsmuligheder       0.00      0.00      0.00         0\n",
      "                           Leveringsmuligheder - DHL Express       0.00      0.00      0.00         1\n",
      "                    Leveringsmuligheder - GLS Privatlevering       0.00      0.00      0.00         0\n",
      "                             Manglende produkter i min ordre       1.00      1.00      1.00         2\n",
      "            Ombytning eller returnering af gave købt i butik       0.40      1.00      0.57         2\n",
      "             Ombytning eller returnering af gave købt online       1.00      0.50      0.67         4\n",
      "                              Ordrebekræftelse ikke modtaget       0.00      0.00      0.00         1\n",
      "                                 Ordrenummer ved returnering       0.00      0.00      0.00         1\n",
      "                                                 Refundering       0.00      0.00      0.00         1\n",
      "                         Returnering af bestilling fra butik       1.00      1.00      1.00         2\n",
      "             Returnering af produkter fra forskellige ordrer       0.33      1.00      0.50         1\n",
      "                     Returnering fra fysisk butik til online       0.50      1.00      0.67         1\n",
      "                                              Spor min ordre       0.00      0.00      0.00         1\n",
      "         Sådan indtaster du din rabatkode eller dit gavekort       1.00      0.50      0.67         4\n",
      "                                        Told- og importgebyr       0.00      0.00      0.00         2\n",
      "                                        Vaske- og Care Guide       0.50      1.00      0.67         1\n",
      "                                                      farvel       1.00      0.50      0.67         2\n",
      "                                                      hilsen       0.00      0.00      0.00         0\n",
      "                                                        moms       0.00      0.00      0.00         0\n",
      "                                         regular og slim fit       1.00      1.00      1.00         1\n",
      "                                                 reklamation       0.00      0.00      0.00         1\n",
      "                                              skrædderpriser       0.00      0.00      0.00         0\n",
      "                                                   store lår       1.00      1.00      1.00         1\n",
      "                                            størrelsesguides       0.00      0.00      0.00         2\n",
      "                                                         tak       1.00      0.67      0.80         3\n",
      "                                            Ændring af ordre       1.00      1.00      1.00         2\n",
      "\n",
      "                                                    accuracy                           0.51        53\n",
      "                                                   macro avg       0.44      0.43      0.40        53\n",
      "                                                weighted avg       0.64      0.51      0.52        53\n",
      "\n"
     ]
    }
   ],
   "source": [
    "# Printing the classification report for predictions on the merged test set\n",
    "print(\"classification_report test merged\")\n",
    "print(classification_report(y_test_merged, y_pred_test_merged))"
   ]
  },
  {
   "cell_type": "code",
   "execution_count": 83,
   "metadata": {},
   "outputs": [
    {
     "name": "stdout",
     "output_type": "stream",
     "text": [
      "Accuracy Score for for train: 0.98496\n",
      "Accuracy Score for for test: 0.29412\n",
      "Accuracy Score for train merged: 0.98113\n",
      "Accuracy Score for test merged: 0.50943\n",
      "Precision Score for for train: 0.98835\n",
      "Precision Score for for test: 0.36275\n",
      "Precision Score for train merged: 0.98571\n",
      "Precision Score for test merged: 0.64403\n",
      "Recall Score for for train: 0.98496\n",
      "Recall Score for for test: 0.29412\n",
      "Recall Score for train merged: 0.98113\n",
      "Recall Score for test merged: 0.50943\n",
      "F1 Score for for train: 0.98463\n",
      "F1 Score for for test: 0.29706\n",
      "F1 Score for train merged: 0.98150\n",
      "F1 Score for test merged: 0.52408\n"
     ]
    }
   ],
   "source": [
    "# Calculating and printing the accuracy score for the original training set\n",
    "print('Accuracy Score for for train: %.5f'%accuracy_score(y_train, y_pred_train))\n",
    "\n",
    "# Calculating and printing the accuracy score for the original test set\n",
    "print('Accuracy Score for for test: %.5f'%accuracy_score(y_test, y_pred_test))\n",
    "\n",
    "# Calculating and printing the accuracy score for the merged training set\n",
    "print('Accuracy Score for train merged: %.5f'%accuracy_score(y_train_merged, y_pred_train_merged))\n",
    "\n",
    "# Calculating and printing the accuracy score for the merged test set\n",
    "print('Accuracy Score for test merged: %.5f'%accuracy_score(y_test_merged, y_pred_test_merged))\n",
    "\n",
    "# Calculating and printing the precision score for the original training set\n",
    "print('Precision Score for for train: %.5f'%precision_score(y_train, y_pred_train, average='weighted'))\n",
    "\n",
    "# Calculating and printing the precision score for the original test set\n",
    "print('Precision Score for for test: %.5f'%precision_score(y_test, y_pred_test, average='weighted'))\n",
    "\n",
    "# Calculating and printing the precision score for the merged training set\n",
    "print('Precision Score for train merged: %.5f'%precision_score(y_train_merged, y_pred_train_merged, average='weighted'))\n",
    "\n",
    "# Calculating and printing the precision score for the merged test set\n",
    "print('Precision Score for test merged: %.5f'%precision_score(y_test_merged, y_pred_test_merged, average='weighted'))\n",
    "\n",
    "# Calculating and printing the recall score for the original training set\n",
    "print('Recall Score for for train: %.5f'%recall_score(y_train, y_pred_train, average='weighted'))\n",
    "\n",
    "# Calculating and printing the recall score for the original test set\n",
    "print('Recall Score for for test: %.5f'%recall_score(y_test, y_pred_test, average='weighted'))\n",
    "\n",
    "# Calculating and printing the recall score for the merged training set\n",
    "print('Recall Score for train merged: %.5f'%recall_score(y_train_merged, y_pred_train_merged, average='weighted'))\n",
    "\n",
    "# Calculating and printing the recall score for the merged test set\n",
    "print('Recall Score for test merged: %.5f'%recall_score(y_test_merged, y_pred_test_merged, average='weighted'))\n",
    "\n",
    "# Calculating and printing the f1 score for the original training set\n",
    "print('F1 Score for for train: %.5f'%f1_score(y_train, y_pred_train, average='weighted'))\n",
    "\n",
    "# Calculating and printing the f1 score for the original test set\n",
    "print('F1 Score for for test: %.5f'%f1_score(y_test, y_pred_test, average='weighted'))\n",
    "\n",
    "# Calculating and printing the f1 score for the merged training set\n",
    "print('F1 Score for train merged: %.5f'%f1_score(y_train_merged, y_pred_train_merged, average='weighted'))\n",
    "\n",
    "# Calculating and printing the f1 score for the merged test set\n",
    "print('F1 Score for test merged: %.5f'%f1_score(y_test_merged, y_pred_test_merged, average='weighted'))"
   ]
  },
  {
   "cell_type": "code",
   "execution_count": 84,
   "metadata": {},
   "outputs": [],
   "source": [
    "model_w2v_rf_scores = {\n",
    "    'Train Accuracy (Original)': accuracy_score(y_train, y_pred_train),\n",
    "    'Test Accuracy (Original)': accuracy_score(y_test, y_pred_test),\n",
    "    'Train Accuracy (Merged)': accuracy_score(y_train_merged, y_pred_train_merged),\n",
    "    'Test Accuracy (Merged)': accuracy_score(y_test_merged, y_pred_test_merged),\n",
    "\n",
    "    'Train Precision (Original)': precision_score(y_train, y_pred_train, average='weighted'),\n",
    "    'Test Precision (Original)': precision_score(y_test, y_pred_test, average='weighted'),\n",
    "    'Train Precision (Merged)': precision_score(y_train_merged, y_pred_train_merged, average='weighted'),\n",
    "    'Test Precision (Merged)': precision_score(y_test_merged, y_pred_test_merged, average='weighted'),\n",
    "\n",
    "    'Train Recall (Original)': recall_score(y_train, y_pred_train, average='weighted'),\n",
    "    'Test Recall (Original)': recall_score(y_test, y_pred_test, average='weighted'),\n",
    "    'Train Recall (Merged)': recall_score(y_train_merged, y_pred_train_merged, average='weighted'),\n",
    "    'Test Recall (Merged)': recall_score(y_test_merged, y_pred_test_merged, average='weighted'),\n",
    "\n",
    "    'Train F1 Score (Original)': f1_score(y_train, y_pred_train, average='weighted'),\n",
    "    'Test F1 Score (Original)': f1_score(y_test, y_pred_test, average='weighted'),\n",
    "    'Train F1 Score (Merged)': f1_score(y_train_merged, y_pred_train_merged, average='weighted'),\n",
    "    'Test F1 Score (Merged)': f1_score(y_test_merged, y_pred_test_merged, average='weighted')\n",
    "}"
   ]
  },
  {
   "cell_type": "markdown",
   "metadata": {},
   "source": [
    "## TF-IDF Models"
   ]
  },
  {
   "cell_type": "markdown",
   "metadata": {},
   "source": [
    "### TF-IDF + Multinomial LogisticRegression"
   ]
  },
  {
   "cell_type": "code",
   "execution_count": 85,
   "metadata": {},
   "outputs": [],
   "source": [
    "# Creating a pipeline with TF-IDF vectorizer and Logistic Regression classifier\n",
    "tfidf = TfidfVectorizer()  # Initializing TF-IDF vectorizer\n",
    "lr = LogisticRegression(multi_class='multinomial')  # Initializing Logistic Regression classifier\n",
    "\n",
    "# Creating a pipeline combining TF-IDF vectorizer and Logistic Regression\n",
    "model_tfidf_lr = make_pipeline(tfidf, lr)\n",
    "model_tfidf_lr_merged = make_pipeline(tfidf, lr)"
   ]
  },
  {
   "cell_type": "code",
   "execution_count": 86,
   "metadata": {},
   "outputs": [
    {
     "data": {
      "text/html": [
       "<style>#sk-container-id-5 {color: black;}#sk-container-id-5 pre{padding: 0;}#sk-container-id-5 div.sk-toggleable {background-color: white;}#sk-container-id-5 label.sk-toggleable__label {cursor: pointer;display: block;width: 100%;margin-bottom: 0;padding: 0.3em;box-sizing: border-box;text-align: center;}#sk-container-id-5 label.sk-toggleable__label-arrow:before {content: \"▸\";float: left;margin-right: 0.25em;color: #696969;}#sk-container-id-5 label.sk-toggleable__label-arrow:hover:before {color: black;}#sk-container-id-5 div.sk-estimator:hover label.sk-toggleable__label-arrow:before {color: black;}#sk-container-id-5 div.sk-toggleable__content {max-height: 0;max-width: 0;overflow: hidden;text-align: left;background-color: #f0f8ff;}#sk-container-id-5 div.sk-toggleable__content pre {margin: 0.2em;color: black;border-radius: 0.25em;background-color: #f0f8ff;}#sk-container-id-5 input.sk-toggleable__control:checked~div.sk-toggleable__content {max-height: 200px;max-width: 100%;overflow: auto;}#sk-container-id-5 input.sk-toggleable__control:checked~label.sk-toggleable__label-arrow:before {content: \"▾\";}#sk-container-id-5 div.sk-estimator input.sk-toggleable__control:checked~label.sk-toggleable__label {background-color: #d4ebff;}#sk-container-id-5 div.sk-label input.sk-toggleable__control:checked~label.sk-toggleable__label {background-color: #d4ebff;}#sk-container-id-5 input.sk-hidden--visually {border: 0;clip: rect(1px 1px 1px 1px);clip: rect(1px, 1px, 1px, 1px);height: 1px;margin: -1px;overflow: hidden;padding: 0;position: absolute;width: 1px;}#sk-container-id-5 div.sk-estimator {font-family: monospace;background-color: #f0f8ff;border: 1px dotted black;border-radius: 0.25em;box-sizing: border-box;margin-bottom: 0.5em;}#sk-container-id-5 div.sk-estimator:hover {background-color: #d4ebff;}#sk-container-id-5 div.sk-parallel-item::after {content: \"\";width: 100%;border-bottom: 1px solid gray;flex-grow: 1;}#sk-container-id-5 div.sk-label:hover label.sk-toggleable__label {background-color: #d4ebff;}#sk-container-id-5 div.sk-serial::before {content: \"\";position: absolute;border-left: 1px solid gray;box-sizing: border-box;top: 0;bottom: 0;left: 50%;z-index: 0;}#sk-container-id-5 div.sk-serial {display: flex;flex-direction: column;align-items: center;background-color: white;padding-right: 0.2em;padding-left: 0.2em;position: relative;}#sk-container-id-5 div.sk-item {position: relative;z-index: 1;}#sk-container-id-5 div.sk-parallel {display: flex;align-items: stretch;justify-content: center;background-color: white;position: relative;}#sk-container-id-5 div.sk-item::before, #sk-container-id-5 div.sk-parallel-item::before {content: \"\";position: absolute;border-left: 1px solid gray;box-sizing: border-box;top: 0;bottom: 0;left: 50%;z-index: -1;}#sk-container-id-5 div.sk-parallel-item {display: flex;flex-direction: column;z-index: 1;position: relative;background-color: white;}#sk-container-id-5 div.sk-parallel-item:first-child::after {align-self: flex-end;width: 50%;}#sk-container-id-5 div.sk-parallel-item:last-child::after {align-self: flex-start;width: 50%;}#sk-container-id-5 div.sk-parallel-item:only-child::after {width: 0;}#sk-container-id-5 div.sk-dashed-wrapped {border: 1px dashed gray;margin: 0 0.4em 0.5em 0.4em;box-sizing: border-box;padding-bottom: 0.4em;background-color: white;}#sk-container-id-5 div.sk-label label {font-family: monospace;font-weight: bold;display: inline-block;line-height: 1.2em;}#sk-container-id-5 div.sk-label-container {text-align: center;}#sk-container-id-5 div.sk-container {/* jupyter's `normalize.less` sets `[hidden] { display: none; }` but bootstrap.min.css set `[hidden] { display: none !important; }` so we also need the `!important` here to be able to override the default hidden behavior on the sphinx rendered scikit-learn.org. See: https://github.com/scikit-learn/scikit-learn/issues/21755 */display: inline-block !important;position: relative;}#sk-container-id-5 div.sk-text-repr-fallback {display: none;}</style><div id=\"sk-container-id-5\" class=\"sk-top-container\"><div class=\"sk-text-repr-fallback\"><pre>Pipeline(steps=[(&#x27;tfidfvectorizer&#x27;, TfidfVectorizer()),\n",
       "                (&#x27;logisticregression&#x27;,\n",
       "                 LogisticRegression(multi_class=&#x27;multinomial&#x27;))])</pre><b>In a Jupyter environment, please rerun this cell to show the HTML representation or trust the notebook. <br />On GitHub, the HTML representation is unable to render, please try loading this page with nbviewer.org.</b></div><div class=\"sk-container\" hidden><div class=\"sk-item sk-dashed-wrapped\"><div class=\"sk-label-container\"><div class=\"sk-label sk-toggleable\"><input class=\"sk-toggleable__control sk-hidden--visually\" id=\"sk-estimator-id-5\" type=\"checkbox\" ><label for=\"sk-estimator-id-5\" class=\"sk-toggleable__label sk-toggleable__label-arrow\">Pipeline</label><div class=\"sk-toggleable__content\"><pre>Pipeline(steps=[(&#x27;tfidfvectorizer&#x27;, TfidfVectorizer()),\n",
       "                (&#x27;logisticregression&#x27;,\n",
       "                 LogisticRegression(multi_class=&#x27;multinomial&#x27;))])</pre></div></div></div><div class=\"sk-serial\"><div class=\"sk-item\"><div class=\"sk-estimator sk-toggleable\"><input class=\"sk-toggleable__control sk-hidden--visually\" id=\"sk-estimator-id-6\" type=\"checkbox\" ><label for=\"sk-estimator-id-6\" class=\"sk-toggleable__label sk-toggleable__label-arrow\">TfidfVectorizer</label><div class=\"sk-toggleable__content\"><pre>TfidfVectorizer()</pre></div></div></div><div class=\"sk-item\"><div class=\"sk-estimator sk-toggleable\"><input class=\"sk-toggleable__control sk-hidden--visually\" id=\"sk-estimator-id-7\" type=\"checkbox\" ><label for=\"sk-estimator-id-7\" class=\"sk-toggleable__label sk-toggleable__label-arrow\">LogisticRegression</label><div class=\"sk-toggleable__content\"><pre>LogisticRegression(multi_class=&#x27;multinomial&#x27;)</pre></div></div></div></div></div></div></div>"
      ],
      "text/plain": [
       "Pipeline(steps=[('tfidfvectorizer', TfidfVectorizer()),\n",
       "                ('logisticregression',\n",
       "                 LogisticRegression(multi_class='multinomial'))])"
      ]
     },
     "execution_count": 86,
     "metadata": {},
     "output_type": "execute_result"
    }
   ],
   "source": [
    "# Fitting the TF-IDF and Logistic Regression model on the original training set\n",
    "model_tfidf_lr.fit(X_train, y_train)\n",
    "\n",
    "# Fitting the TF-IDF and Logistic Regression model on the merged training set\n",
    "model_tfidf_lr_merged.fit(X_train_merged, y_train_merged)"
   ]
  },
  {
   "cell_type": "code",
   "execution_count": 87,
   "metadata": {},
   "outputs": [],
   "source": [
    "# Making predictions using the trained TF-IDF and Logistic Regression model for the original training set\n",
    "y_pred_train = model_tfidf_lr.predict(X_train)\n",
    "\n",
    "# Making predictions using the trained TF-IDF and Logistic Regression model for the original test set\n",
    "y_pred_test = model_tfidf_lr.predict(X_test)\n",
    "\n",
    "# Making predictions using the trained TF-IDF and Logistic Regression model for the merged training set\n",
    "y_pred_train_merged = model_tfidf_lr_merged.predict(X_train_merged)\n",
    "\n",
    "# Making predictions using the trained TF-IDF and Logistic Regression model for the merged test set\n",
    "y_pred_test_merged = model_tfidf_lr_merged.predict(X_test_merged)"
   ]
  },
  {
   "cell_type": "code",
   "execution_count": 88,
   "metadata": {},
   "outputs": [
    {
     "name": "stdout",
     "output_type": "stream",
     "text": [
      "classification_report train original\n",
      "                                                              precision    recall  f1-score   support\n",
      "\n",
      "                                          Afhentning i butik       1.00      1.00      1.00         4\n",
      "                                        Annullering af ordre       1.00      1.00      1.00         4\n",
      "                                          Bestilling i butik       0.40      1.00      0.57         2\n",
      "                                         Betaling med Klarna       1.00      1.00      1.00         4\n",
      "                                         Betalingsmuligheder       0.00      0.00      0.00         2\n",
      "                                     Defekt produkt modtaget       0.67      1.00      0.80         4\n",
      "                                                     Erhverv       1.00      0.67      0.80         3\n",
      "                                    Forkert produkt modtaget       0.80      1.00      0.89         4\n",
      "                                                    Gavekort       0.67      1.00      0.80         2\n",
      "       Hvor kan man købe produkter fra Shaping New Tomorrow?       1.00      1.00      1.00         4\n",
      "                       Hvornår modtager jeg min refundering?       1.00      0.25      0.40         4\n",
      "Kan jeg få besked, når en udsolgt vare kommer på lager igen?       0.00      0.00      0.00         2\n",
      "                                        Levering i weekenden       1.00      0.67      0.80         3\n",
      "                                      Leveringsinformationer       1.00      0.50      0.67         4\n",
      "                                         Leveringsmuligheder       0.43      1.00      0.60         3\n",
      "                           Leveringsmuligheder - DHL Express       1.00      1.00      1.00         1\n",
      "                         Leveringsmuligheder - GLS Pakkeshop       1.00      1.00      1.00         2\n",
      "                    Leveringsmuligheder - GLS Privatlevering       1.00      1.00      1.00         2\n",
      "                               Leveringstid bestilling butik       0.00      0.00      0.00         1\n",
      "                                                      Lynlås       1.00      0.67      0.80         3\n",
      "                             Manglende produkter i min ordre       1.00      1.00      1.00         3\n",
      "            Ombytning eller returnering af gave købt i butik       0.50      1.00      0.67         3\n",
      "             Ombytning eller returnering af gave købt online       1.00      0.33      0.50         3\n",
      "                              Ordrebekræftelse ikke modtaget       1.00      1.00      1.00         3\n",
      "                                 Ordrenummer ved returnering       1.00      1.00      1.00         2\n",
      "                                                 Refundering       0.28      1.00      0.43         5\n",
      "                         Returnering af bestilling fra butik       1.00      1.00      1.00         1\n",
      "             Returnering af produkter fra forskellige ordrer       1.00      1.00      1.00         4\n",
      "                     Returnering fra fysisk butik til online       0.00      0.00      0.00         2\n",
      "                                              Spor min ordre       1.00      1.00      1.00         4\n",
      "         Sådan indtaster du din rabatkode eller dit gavekort       0.00      0.00      0.00         6\n",
      "                                        Told- og importgebyr       0.50      1.00      0.67         2\n",
      "                                        Vaske- og Care Guide       0.00      0.00      0.00         3\n",
      "                                                   baglommer       1.00      1.00      1.00         1\n",
      "                                                      farvel       0.75      1.00      0.86         3\n",
      "                                                      hilsen       0.44      1.00      0.62         4\n",
      "                                                        moms       1.00      1.00      1.00         3\n",
      "                                         regular og slim fit       1.00      1.00      1.00         3\n",
      "                                                 reklamation       1.00      0.20      0.33         5\n",
      "                                              skrædderpriser       1.00      0.67      0.80         3\n",
      "                                                   store lår       1.00      1.00      1.00         4\n",
      "                                            størrelsesguides       0.00      0.00      0.00         3\n",
      "                                                        svar       0.00      0.00      0.00         1\n",
      "                                                         tak       1.00      1.00      1.00         3\n",
      "                                            Ændring af ordre       1.00      1.00      1.00         1\n",
      "\n",
      "                                                    accuracy                           0.74       133\n",
      "                                                   macro avg       0.72      0.73      0.69       133\n",
      "                                                weighted avg       0.74      0.74      0.69       133\n",
      "\n"
     ]
    }
   ],
   "source": [
    "# Printing the classification report for predictions on the original training set\n",
    "print(\"classification_report train original\")\n",
    "print(classification_report(y_train, y_pred_train))"
   ]
  },
  {
   "cell_type": "code",
   "execution_count": 89,
   "metadata": {},
   "outputs": [
    {
     "name": "stdout",
     "output_type": "stream",
     "text": [
      "classification_report test original\n",
      "                                                              precision    recall  f1-score   support\n",
      "\n",
      "                                          Afhentning i butik       0.00      0.00      0.00         0\n",
      "                                          Bestilling i butik       1.00      1.00      1.00         3\n",
      "                                         Betalingsmuligheder       0.00      0.00      0.00         1\n",
      "                                                     Erhverv       1.00      1.00      1.00         1\n",
      "                                    Forkert produkt modtaget       0.00      0.00      0.00         0\n",
      "                                                    Gavekort       1.00      1.00      1.00         1\n",
      "Kan jeg få besked, når en udsolgt vare kommer på lager igen?       0.00      0.00      0.00         1\n",
      "                                        Levering i weekenden       1.00      1.00      1.00         1\n",
      "                                         Leveringsmuligheder       0.50      1.00      0.67         1\n",
      "                           Leveringsmuligheder - DHL Express       1.00      1.00      1.00         1\n",
      "                           Leveringsmuligheder - GLS Erhverv       1.00      1.00      1.00         2\n",
      "                             Manglende produkter i min ordre       1.00      1.00      1.00         1\n",
      "            Ombytning eller returnering af gave købt i butik       0.33      1.00      0.50         1\n",
      "             Ombytning eller returnering af gave købt online       0.00      0.00      0.00         1\n",
      "                              Ordrebekræftelse ikke modtaget       0.50      1.00      0.67         1\n",
      "                                 Ordrenummer ved returnering       1.00      1.00      1.00         2\n",
      "                                                 Refundering       0.00      0.00      0.00         0\n",
      "                         Returnering af bestilling fra butik       0.00      0.00      0.00         2\n",
      "             Returnering af produkter fra forskellige ordrer       0.00      0.00      0.00         0\n",
      "                     Returnering fra fysisk butik til online       0.00      0.00      0.00         2\n",
      "                                              Spor min ordre       0.00      0.00      0.00         0\n",
      "                                        Told- og importgebyr       1.00      1.00      1.00         2\n",
      "                                        Vaske- og Care Guide       0.00      0.00      0.00         1\n",
      "                                                   baglommer       0.00      0.00      0.00         2\n",
      "                                                        moms       1.00      1.00      1.00         2\n",
      "                                              skrædderpriser       1.00      1.00      1.00         1\n",
      "                                                         tak       1.00      1.00      1.00         1\n",
      "                                            Ændring af ordre       1.00      1.00      1.00         3\n",
      "\n",
      "                                                    accuracy                           0.71        34\n",
      "                                                   macro avg       0.51      0.57      0.53        34\n",
      "                                                weighted avg       0.66      0.71      0.67        34\n",
      "\n"
     ]
    }
   ],
   "source": [
    "# Printing the classification report for predictions on the original test set\n",
    "print(\"classification_report test original\")\n",
    "print(classification_report(y_test, y_pred_test))"
   ]
  },
  {
   "cell_type": "code",
   "execution_count": 90,
   "metadata": {},
   "outputs": [
    {
     "name": "stdout",
     "output_type": "stream",
     "text": [
      "classification_report train merged\n",
      "                                                              precision    recall  f1-score   support\n",
      "\n",
      "                                          Afhentning i butik       0.70      1.00      0.82         7\n",
      "                                        Annullering af ordre       1.00      1.00      1.00         7\n",
      "                                          Bestilling i butik       0.88      1.00      0.93         7\n",
      "                                         Betaling med Klarna       1.00      1.00      1.00         3\n",
      "                                         Betalingsmuligheder       0.00      0.00      0.00         3\n",
      "                                     Defekt produkt modtaget       0.78      1.00      0.88         7\n",
      "                                                     Erhverv       1.00      0.75      0.86         4\n",
      "                                    Forkert produkt modtaget       0.80      1.00      0.89         8\n",
      "                                                    Gavekort       1.00      1.00      1.00         3\n",
      "       Hvor kan man købe produkter fra Shaping New Tomorrow?       1.00      1.00      1.00         4\n",
      "                       Hvornår modtager jeg min refundering?       1.00      0.80      0.89         5\n",
      "Kan jeg få besked, når en udsolgt vare kommer på lager igen?       0.00      0.00      0.00         2\n",
      "                                        Levering i weekenden       1.00      1.00      1.00         5\n",
      "                                      Leveringsinformationer       1.00      1.00      1.00         5\n",
      "                                         Leveringsmuligheder       0.67      1.00      0.80         8\n",
      "                           Leveringsmuligheder - DHL Express       1.00      1.00      1.00         3\n",
      "                           Leveringsmuligheder - GLS Erhverv       1.00      1.00      1.00         4\n",
      "                         Leveringsmuligheder - GLS Pakkeshop       1.00      1.00      1.00         4\n",
      "                    Leveringsmuligheder - GLS Privatlevering       1.00      1.00      1.00         4\n",
      "                               Leveringstid bestilling butik       0.00      0.00      0.00         2\n",
      "                                                      Lynlås       1.00      0.67      0.80         3\n",
      "                             Manglende produkter i min ordre       1.00      1.00      1.00         6\n",
      "            Ombytning eller returnering af gave købt i butik       0.67      1.00      0.80         6\n",
      "             Ombytning eller returnering af gave købt online       1.00      0.75      0.86         4\n",
      "                              Ordrebekræftelse ikke modtaget       0.88      1.00      0.93         7\n",
      "                                 Ordrenummer ved returnering       1.00      1.00      1.00         3\n",
      "                                                 Refundering       0.56      1.00      0.72         9\n",
      "                         Returnering af bestilling fra butik       1.00      0.50      0.67         4\n",
      "             Returnering af produkter fra forskellige ordrer       1.00      1.00      1.00         7\n",
      "                     Returnering fra fysisk butik til online       0.00      0.00      0.00         3\n",
      "                                              Spor min ordre       0.88      1.00      0.93         7\n",
      "         Sådan indtaster du din rabatkode eller dit gavekort       0.00      0.00      0.00         2\n",
      "                                        Told- og importgebyr       0.86      1.00      0.92         6\n",
      "                                        Vaske- og Care Guide       0.00      0.00      0.00         3\n",
      "                                                   baglommer       1.00      0.33      0.50         3\n",
      "                                                      farvel       0.80      1.00      0.89         4\n",
      "                                                      hilsen       0.67      1.00      0.80         8\n",
      "                                                        moms       1.00      1.00      1.00         5\n",
      "                                         regular og slim fit       1.00      1.00      1.00         2\n",
      "                                                 reklamation       1.00      0.25      0.40         4\n",
      "                                              skrædderpriser       1.00      0.75      0.86         4\n",
      "                                                   store lår       1.00      1.00      1.00         3\n",
      "                                            størrelsesguides       0.00      0.00      0.00         1\n",
      "                                                        svar       0.00      0.00      0.00         2\n",
      "                                                         tak       1.00      1.00      1.00         5\n",
      "                                            Ændring af ordre       1.00      1.00      1.00         6\n",
      "\n",
      "                                                    accuracy                           0.86       212\n",
      "                                                   macro avg       0.76      0.76      0.74       212\n",
      "                                                weighted avg       0.82      0.86      0.82       212\n",
      "\n"
     ]
    }
   ],
   "source": [
    "# Printing the classification report for predictions on the merged training set\n",
    "print(\"classification_report train merged\")\n",
    "print(classification_report(y_train_merged, y_pred_train_merged))"
   ]
  },
  {
   "cell_type": "code",
   "execution_count": 91,
   "metadata": {},
   "outputs": [
    {
     "name": "stdout",
     "output_type": "stream",
     "text": [
      "classification_report test merged\n",
      "                                                              precision    recall  f1-score   support\n",
      "\n",
      "                                          Afhentning i butik       1.00      1.00      1.00         1\n",
      "                                        Annullering af ordre       0.50      1.00      0.67         1\n",
      "                                          Bestilling i butik       0.60      1.00      0.75         3\n",
      "                                         Betaling med Klarna       1.00      1.00      1.00         1\n",
      "                                     Defekt produkt modtaget       1.00      1.00      1.00         1\n",
      "                                                    Gavekort       0.00      0.00      0.00         0\n",
      "                       Hvornår modtager jeg min refundering?       0.00      0.00      0.00         3\n",
      "Kan jeg få besked, når en udsolgt vare kommer på lager igen?       0.00      0.00      0.00         1\n",
      "                                        Levering i weekenden       1.00      0.33      0.50         3\n",
      "                                      Leveringsinformationer       0.00      0.00      0.00         3\n",
      "                                         Leveringsmuligheder       0.00      0.00      0.00         0\n",
      "                           Leveringsmuligheder - DHL Express       1.00      1.00      1.00         1\n",
      "                             Manglende produkter i min ordre       1.00      1.00      1.00         2\n",
      "            Ombytning eller returnering af gave købt i butik       0.33      1.00      0.50         2\n",
      "             Ombytning eller returnering af gave købt online       0.00      0.00      0.00         4\n",
      "                              Ordrebekræftelse ikke modtaget       1.00      1.00      1.00         1\n",
      "                                 Ordrenummer ved returnering       1.00      1.00      1.00         1\n",
      "                                                 Refundering       0.10      1.00      0.18         1\n",
      "                         Returnering af bestilling fra butik       0.00      0.00      0.00         2\n",
      "             Returnering af produkter fra forskellige ordrer       0.25      1.00      0.40         1\n",
      "                     Returnering fra fysisk butik til online       0.00      0.00      0.00         1\n",
      "                                              Spor min ordre       1.00      1.00      1.00         1\n",
      "         Sådan indtaster du din rabatkode eller dit gavekort       0.00      0.00      0.00         4\n",
      "                                        Told- og importgebyr       0.67      1.00      0.80         2\n",
      "                                        Vaske- og Care Guide       0.00      0.00      0.00         1\n",
      "                                                      farvel       1.00      0.50      0.67         2\n",
      "                                                      hilsen       0.00      0.00      0.00         0\n",
      "                                         regular og slim fit       1.00      1.00      1.00         1\n",
      "                                                 reklamation       0.00      0.00      0.00         1\n",
      "                                                   store lår       1.00      1.00      1.00         1\n",
      "                                            størrelsesguides       0.00      0.00      0.00         2\n",
      "                                                         tak       1.00      1.00      1.00         3\n",
      "                                            Ændring af ordre       1.00      0.50      0.67         2\n",
      "\n",
      "                                                    accuracy                           0.51        53\n",
      "                                                   macro avg       0.50      0.56      0.49        53\n",
      "                                                weighted avg       0.48      0.51      0.46        53\n",
      "\n"
     ]
    }
   ],
   "source": [
    "# Printing the classification report for predictions on the merged test set\n",
    "print(\"classification_report test merged\")\n",
    "print(classification_report(y_test_merged, y_pred_test_merged))"
   ]
  },
  {
   "cell_type": "code",
   "execution_count": 92,
   "metadata": {},
   "outputs": [
    {
     "name": "stdout",
     "output_type": "stream",
     "text": [
      "Accuracy Score for for train: 0.73684\n",
      "Accuracy Score for for test: 0.70588\n",
      "Accuracy Score for train merged: 0.85849\n",
      "Accuracy Score for test merged: 0.50943\n",
      "Precision Score for for train: 0.73836\n",
      "Precision Score for for test: 0.65686\n",
      "Precision Score for train merged: 0.81694\n",
      "Precision Score for test merged: 0.48396\n",
      "Recall Score for for train: 0.73684\n",
      "Recall Score for for test: 0.70588\n",
      "Recall Score for train merged: 0.85849\n",
      "Recall Score for test merged: 0.50943\n",
      "F1 Score for for train: 0.69077\n",
      "F1 Score for for test: 0.67157\n",
      "F1 Score for train merged: 0.81921\n",
      "F1 Score for test merged: 0.45783\n"
     ]
    }
   ],
   "source": [
    "# Calculating and printing the accuracy score for the original training set\n",
    "print('Accuracy Score for for train: %.5f'%accuracy_score(y_train, y_pred_train))\n",
    "\n",
    "# Calculating and printing the accuracy score for the original test set\n",
    "print('Accuracy Score for for test: %.5f'%accuracy_score(y_test, y_pred_test))\n",
    "\n",
    "# Calculating and printing the accuracy score for the merged training set\n",
    "print('Accuracy Score for train merged: %.5f'%accuracy_score(y_train_merged, y_pred_train_merged))\n",
    "\n",
    "# Calculating and printing the accuracy score for the merged test set\n",
    "print('Accuracy Score for test merged: %.5f'%accuracy_score(y_test_merged, y_pred_test_merged))\n",
    "\n",
    "# Calculating and printing the precision score for the original training set\n",
    "print('Precision Score for for train: %.5f'%precision_score(y_train, y_pred_train, average='weighted'))\n",
    "\n",
    "# Calculating and printing the precision score for the original test set\n",
    "print('Precision Score for for test: %.5f'%precision_score(y_test, y_pred_test, average='weighted'))\n",
    "\n",
    "# Calculating and printing the precision score for the merged training set\n",
    "print('Precision Score for train merged: %.5f'%precision_score(y_train_merged, y_pred_train_merged, average='weighted'))\n",
    "\n",
    "# Calculating and printing the precision score for the merged test set\n",
    "print('Precision Score for test merged: %.5f'%precision_score(y_test_merged, y_pred_test_merged, average='weighted'))\n",
    "\n",
    "# Calculating and printing the recall score for the original training set\n",
    "print('Recall Score for for train: %.5f'%recall_score(y_train, y_pred_train, average='weighted'))\n",
    "\n",
    "# Calculating and printing the recall score for the original test set\n",
    "print('Recall Score for for test: %.5f'%recall_score(y_test, y_pred_test, average='weighted'))\n",
    "\n",
    "# Calculating and printing the recall score for the merged training set\n",
    "print('Recall Score for train merged: %.5f'%recall_score(y_train_merged, y_pred_train_merged, average='weighted'))\n",
    "\n",
    "# Calculating and printing the recall score for the merged test set\n",
    "print('Recall Score for test merged: %.5f'%recall_score(y_test_merged, y_pred_test_merged, average='weighted'))\n",
    "\n",
    "# Calculating and printing the f1 score for the original training set\n",
    "print('F1 Score for for train: %.5f'%f1_score(y_train, y_pred_train, average='weighted'))\n",
    "\n",
    "# Calculating and printing the f1 score for the original test set\n",
    "print('F1 Score for for test: %.5f'%f1_score(y_test, y_pred_test, average='weighted'))\n",
    "\n",
    "# Calculating and printing the f1 score for the merged training set\n",
    "print('F1 Score for train merged: %.5f'%f1_score(y_train_merged, y_pred_train_merged, average='weighted'))\n",
    "\n",
    "# Calculating and printing the f1 score for the merged test set\n",
    "print('F1 Score for test merged: %.5f'%f1_score(y_test_merged, y_pred_test_merged, average='weighted'))"
   ]
  },
  {
   "cell_type": "code",
   "execution_count": 93,
   "metadata": {},
   "outputs": [],
   "source": [
    "model_tfidf_lr_scores = {\n",
    "    'Train Accuracy (Original)': accuracy_score(y_train, y_pred_train),\n",
    "    'Test Accuracy (Original)': accuracy_score(y_test, y_pred_test),\n",
    "    'Train Accuracy (Merged)': accuracy_score(y_train_merged, y_pred_train_merged),\n",
    "    'Test Accuracy (Merged)': accuracy_score(y_test_merged, y_pred_test_merged),\n",
    "\n",
    "    'Train Precision (Original)': precision_score(y_train, y_pred_train, average='weighted'),\n",
    "    'Test Precision (Original)': precision_score(y_test, y_pred_test, average='weighted'),\n",
    "    'Train Precision (Merged)': precision_score(y_train_merged, y_pred_train_merged, average='weighted'),\n",
    "    'Test Precision (Merged)': precision_score(y_test_merged, y_pred_test_merged, average='weighted'),\n",
    "\n",
    "    'Train Recall (Original)': recall_score(y_train, y_pred_train, average='weighted'),\n",
    "    'Test Recall (Original)': recall_score(y_test, y_pred_test, average='weighted'),\n",
    "    'Train Recall (Merged)': recall_score(y_train_merged, y_pred_train_merged, average='weighted'),\n",
    "    'Test Recall (Merged)': recall_score(y_test_merged, y_pred_test_merged, average='weighted'),\n",
    "\n",
    "    'Train F1 Score (Original)': f1_score(y_train, y_pred_train, average='weighted'),\n",
    "    'Test F1 Score (Original)': f1_score(y_test, y_pred_test, average='weighted'),\n",
    "    'Train F1 Score (Merged)': f1_score(y_train_merged, y_pred_train_merged, average='weighted'),\n",
    "    'Test F1 Score (Merged)': f1_score(y_test_merged, y_pred_test_merged, average='weighted')\n",
    "}"
   ]
  },
  {
   "cell_type": "markdown",
   "metadata": {},
   "source": [
    "### TF-IDF + Support Vector Machine (SVM)"
   ]
  },
  {
   "cell_type": "code",
   "execution_count": 94,
   "metadata": {},
   "outputs": [],
   "source": [
    "# Creating a pipeline with TF-IDF vectorizer and Support Vector Machine (SVM) classifier\n",
    "tfidf = TfidfVectorizer()  # Initializing TF-IDF vectorizer\n",
    "svm_svc = svm.SVC()  # Initializing Support Vector Machine (SVM) classifier\n",
    "\n",
    "# Creating a pipeline combining TF-IDF vectorizer and SVM classifier\n",
    "model_tfidf_svm = make_pipeline(tfidf, svm_svc)\n",
    "model_tfidf_svm_merged = make_pipeline(tfidf, svm_svc)"
   ]
  },
  {
   "cell_type": "code",
   "execution_count": 95,
   "metadata": {},
   "outputs": [
    {
     "data": {
      "text/html": [
       "<style>#sk-container-id-6 {color: black;}#sk-container-id-6 pre{padding: 0;}#sk-container-id-6 div.sk-toggleable {background-color: white;}#sk-container-id-6 label.sk-toggleable__label {cursor: pointer;display: block;width: 100%;margin-bottom: 0;padding: 0.3em;box-sizing: border-box;text-align: center;}#sk-container-id-6 label.sk-toggleable__label-arrow:before {content: \"▸\";float: left;margin-right: 0.25em;color: #696969;}#sk-container-id-6 label.sk-toggleable__label-arrow:hover:before {color: black;}#sk-container-id-6 div.sk-estimator:hover label.sk-toggleable__label-arrow:before {color: black;}#sk-container-id-6 div.sk-toggleable__content {max-height: 0;max-width: 0;overflow: hidden;text-align: left;background-color: #f0f8ff;}#sk-container-id-6 div.sk-toggleable__content pre {margin: 0.2em;color: black;border-radius: 0.25em;background-color: #f0f8ff;}#sk-container-id-6 input.sk-toggleable__control:checked~div.sk-toggleable__content {max-height: 200px;max-width: 100%;overflow: auto;}#sk-container-id-6 input.sk-toggleable__control:checked~label.sk-toggleable__label-arrow:before {content: \"▾\";}#sk-container-id-6 div.sk-estimator input.sk-toggleable__control:checked~label.sk-toggleable__label {background-color: #d4ebff;}#sk-container-id-6 div.sk-label input.sk-toggleable__control:checked~label.sk-toggleable__label {background-color: #d4ebff;}#sk-container-id-6 input.sk-hidden--visually {border: 0;clip: rect(1px 1px 1px 1px);clip: rect(1px, 1px, 1px, 1px);height: 1px;margin: -1px;overflow: hidden;padding: 0;position: absolute;width: 1px;}#sk-container-id-6 div.sk-estimator {font-family: monospace;background-color: #f0f8ff;border: 1px dotted black;border-radius: 0.25em;box-sizing: border-box;margin-bottom: 0.5em;}#sk-container-id-6 div.sk-estimator:hover {background-color: #d4ebff;}#sk-container-id-6 div.sk-parallel-item::after {content: \"\";width: 100%;border-bottom: 1px solid gray;flex-grow: 1;}#sk-container-id-6 div.sk-label:hover label.sk-toggleable__label {background-color: #d4ebff;}#sk-container-id-6 div.sk-serial::before {content: \"\";position: absolute;border-left: 1px solid gray;box-sizing: border-box;top: 0;bottom: 0;left: 50%;z-index: 0;}#sk-container-id-6 div.sk-serial {display: flex;flex-direction: column;align-items: center;background-color: white;padding-right: 0.2em;padding-left: 0.2em;position: relative;}#sk-container-id-6 div.sk-item {position: relative;z-index: 1;}#sk-container-id-6 div.sk-parallel {display: flex;align-items: stretch;justify-content: center;background-color: white;position: relative;}#sk-container-id-6 div.sk-item::before, #sk-container-id-6 div.sk-parallel-item::before {content: \"\";position: absolute;border-left: 1px solid gray;box-sizing: border-box;top: 0;bottom: 0;left: 50%;z-index: -1;}#sk-container-id-6 div.sk-parallel-item {display: flex;flex-direction: column;z-index: 1;position: relative;background-color: white;}#sk-container-id-6 div.sk-parallel-item:first-child::after {align-self: flex-end;width: 50%;}#sk-container-id-6 div.sk-parallel-item:last-child::after {align-self: flex-start;width: 50%;}#sk-container-id-6 div.sk-parallel-item:only-child::after {width: 0;}#sk-container-id-6 div.sk-dashed-wrapped {border: 1px dashed gray;margin: 0 0.4em 0.5em 0.4em;box-sizing: border-box;padding-bottom: 0.4em;background-color: white;}#sk-container-id-6 div.sk-label label {font-family: monospace;font-weight: bold;display: inline-block;line-height: 1.2em;}#sk-container-id-6 div.sk-label-container {text-align: center;}#sk-container-id-6 div.sk-container {/* jupyter's `normalize.less` sets `[hidden] { display: none; }` but bootstrap.min.css set `[hidden] { display: none !important; }` so we also need the `!important` here to be able to override the default hidden behavior on the sphinx rendered scikit-learn.org. See: https://github.com/scikit-learn/scikit-learn/issues/21755 */display: inline-block !important;position: relative;}#sk-container-id-6 div.sk-text-repr-fallback {display: none;}</style><div id=\"sk-container-id-6\" class=\"sk-top-container\"><div class=\"sk-text-repr-fallback\"><pre>Pipeline(steps=[(&#x27;tfidfvectorizer&#x27;, TfidfVectorizer()), (&#x27;svc&#x27;, SVC())])</pre><b>In a Jupyter environment, please rerun this cell to show the HTML representation or trust the notebook. <br />On GitHub, the HTML representation is unable to render, please try loading this page with nbviewer.org.</b></div><div class=\"sk-container\" hidden><div class=\"sk-item sk-dashed-wrapped\"><div class=\"sk-label-container\"><div class=\"sk-label sk-toggleable\"><input class=\"sk-toggleable__control sk-hidden--visually\" id=\"sk-estimator-id-8\" type=\"checkbox\" ><label for=\"sk-estimator-id-8\" class=\"sk-toggleable__label sk-toggleable__label-arrow\">Pipeline</label><div class=\"sk-toggleable__content\"><pre>Pipeline(steps=[(&#x27;tfidfvectorizer&#x27;, TfidfVectorizer()), (&#x27;svc&#x27;, SVC())])</pre></div></div></div><div class=\"sk-serial\"><div class=\"sk-item\"><div class=\"sk-estimator sk-toggleable\"><input class=\"sk-toggleable__control sk-hidden--visually\" id=\"sk-estimator-id-9\" type=\"checkbox\" ><label for=\"sk-estimator-id-9\" class=\"sk-toggleable__label sk-toggleable__label-arrow\">TfidfVectorizer</label><div class=\"sk-toggleable__content\"><pre>TfidfVectorizer()</pre></div></div></div><div class=\"sk-item\"><div class=\"sk-estimator sk-toggleable\"><input class=\"sk-toggleable__control sk-hidden--visually\" id=\"sk-estimator-id-10\" type=\"checkbox\" ><label for=\"sk-estimator-id-10\" class=\"sk-toggleable__label sk-toggleable__label-arrow\">SVC</label><div class=\"sk-toggleable__content\"><pre>SVC()</pre></div></div></div></div></div></div></div>"
      ],
      "text/plain": [
       "Pipeline(steps=[('tfidfvectorizer', TfidfVectorizer()), ('svc', SVC())])"
      ]
     },
     "execution_count": 95,
     "metadata": {},
     "output_type": "execute_result"
    }
   ],
   "source": [
    "# Fitting the TF-IDF and SVM model on the original training set\n",
    "model_tfidf_svm.fit(X_train, y_train)\n",
    "\n",
    "# Fitting the TF-IDF and SVM model on the merged training set\n",
    "model_tfidf_svm_merged.fit(X_train_merged, y_train_merged)"
   ]
  },
  {
   "cell_type": "code",
   "execution_count": 96,
   "metadata": {},
   "outputs": [],
   "source": [
    "# Making predictions using the trained TF-IDF and SVM model for the original training set\n",
    "y_pred_train = model_tfidf_svm.predict(X_train)\n",
    "\n",
    "# Making predictions using the trained TF-IDF and SVM model for the original test set\n",
    "y_pred_test = model_tfidf_svm.predict(X_test)\n",
    "\n",
    "# Making predictions using the trained TF-IDF and SVM model for the merged training set\n",
    "y_pred_train_merged = model_tfidf_svm_merged.predict(X_train_merged)\n",
    "\n",
    "# Making predictions using the trained TF-IDF and SVM model for the merged test set\n",
    "y_pred_test_merged = model_tfidf_svm_merged.predict(X_test_merged)"
   ]
  },
  {
   "cell_type": "code",
   "execution_count": 97,
   "metadata": {},
   "outputs": [
    {
     "name": "stdout",
     "output_type": "stream",
     "text": [
      "classification_report train original\n",
      "                                                              precision    recall  f1-score   support\n",
      "\n",
      "                                          Afhentning i butik       1.00      1.00      1.00         4\n",
      "                                        Annullering af ordre       1.00      1.00      1.00         4\n",
      "                                          Bestilling i butik       0.67      1.00      0.80         2\n",
      "                                         Betaling med Klarna       1.00      1.00      1.00         4\n",
      "                                         Betalingsmuligheder       1.00      1.00      1.00         2\n",
      "                                     Defekt produkt modtaget       0.80      1.00      0.89         4\n",
      "                                                     Erhverv       1.00      1.00      1.00         3\n",
      "                                    Forkert produkt modtaget       1.00      1.00      1.00         4\n",
      "                                                    Gavekort       0.67      1.00      0.80         2\n",
      "       Hvor kan man købe produkter fra Shaping New Tomorrow?       1.00      1.00      1.00         4\n",
      "                       Hvornår modtager jeg min refundering?       1.00      0.50      0.67         4\n",
      "Kan jeg få besked, når en udsolgt vare kommer på lager igen?       1.00      0.50      0.67         2\n",
      "                                        Levering i weekenden       1.00      0.67      0.80         3\n",
      "                                      Leveringsinformationer       1.00      0.50      0.67         4\n",
      "                                         Leveringsmuligheder       0.25      1.00      0.40         3\n",
      "                           Leveringsmuligheder - DHL Express       1.00      1.00      1.00         1\n",
      "                         Leveringsmuligheder - GLS Pakkeshop       1.00      1.00      1.00         2\n",
      "                    Leveringsmuligheder - GLS Privatlevering       1.00      1.00      1.00         2\n",
      "                               Leveringstid bestilling butik       1.00      1.00      1.00         1\n",
      "                                                      Lynlås       1.00      1.00      1.00         3\n",
      "                             Manglende produkter i min ordre       1.00      1.00      1.00         3\n",
      "            Ombytning eller returnering af gave købt i butik       0.60      1.00      0.75         3\n",
      "             Ombytning eller returnering af gave købt online       1.00      0.33      0.50         3\n",
      "                              Ordrebekræftelse ikke modtaget       1.00      1.00      1.00         3\n",
      "                                 Ordrenummer ved returnering       1.00      1.00      1.00         2\n",
      "                                                 Refundering       0.56      1.00      0.71         5\n",
      "                         Returnering af bestilling fra butik       1.00      1.00      1.00         1\n",
      "             Returnering af produkter fra forskellige ordrer       1.00      1.00      1.00         4\n",
      "                     Returnering fra fysisk butik til online       1.00      1.00      1.00         2\n",
      "                                              Spor min ordre       1.00      1.00      1.00         4\n",
      "         Sådan indtaster du din rabatkode eller dit gavekort       1.00      0.50      0.67         6\n",
      "                                        Told- og importgebyr       1.00      1.00      1.00         2\n",
      "                                        Vaske- og Care Guide       1.00      0.67      0.80         3\n",
      "                                                   baglommer       1.00      1.00      1.00         1\n",
      "                                                      farvel       1.00      1.00      1.00         3\n",
      "                                                      hilsen       1.00      1.00      1.00         4\n",
      "                                                        moms       1.00      1.00      1.00         3\n",
      "                                         regular og slim fit       1.00      1.00      1.00         3\n",
      "                                                 reklamation       1.00      0.60      0.75         5\n",
      "                                              skrædderpriser       1.00      1.00      1.00         3\n",
      "                                                   store lår       1.00      1.00      1.00         4\n",
      "                                            størrelsesguides       0.00      0.00      0.00         3\n",
      "                                                        svar       0.00      0.00      0.00         1\n",
      "                                                         tak       1.00      1.00      1.00         3\n",
      "                                            Ændring af ordre       1.00      1.00      1.00         1\n",
      "\n",
      "                                                    accuracy                           0.86       133\n",
      "                                                   macro avg       0.90      0.87      0.86       133\n",
      "                                                weighted avg       0.91      0.86      0.86       133\n",
      "\n"
     ]
    }
   ],
   "source": [
    "# Printing the classification report for predictions on the original training set\n",
    "print(\"classification_report train original\")\n",
    "print(classification_report(y_train, y_pred_train))"
   ]
  },
  {
   "cell_type": "code",
   "execution_count": 98,
   "metadata": {},
   "outputs": [
    {
     "name": "stdout",
     "output_type": "stream",
     "text": [
      "classification_report test original\n",
      "                                                              precision    recall  f1-score   support\n",
      "\n",
      "                                          Afhentning i butik       0.00      0.00      0.00         0\n",
      "                                          Bestilling i butik       1.00      1.00      1.00         3\n",
      "                                         Betalingsmuligheder       1.00      1.00      1.00         1\n",
      "                                                     Erhverv       1.00      1.00      1.00         1\n",
      "                                                    Gavekort       1.00      1.00      1.00         1\n",
      "Kan jeg få besked, når en udsolgt vare kommer på lager igen?       1.00      1.00      1.00         1\n",
      "                                        Levering i weekenden       1.00      1.00      1.00         1\n",
      "                                         Leveringsmuligheder       0.25      1.00      0.40         1\n",
      "                           Leveringsmuligheder - DHL Express       1.00      1.00      1.00         1\n",
      "                           Leveringsmuligheder - GLS Erhverv       1.00      1.00      1.00         2\n",
      "                             Manglende produkter i min ordre       1.00      1.00      1.00         1\n",
      "            Ombytning eller returnering af gave købt i butik       0.33      1.00      0.50         1\n",
      "             Ombytning eller returnering af gave købt online       0.00      0.00      0.00         1\n",
      "                              Ordrebekræftelse ikke modtaget       1.00      1.00      1.00         1\n",
      "                                 Ordrenummer ved returnering       1.00      0.50      0.67         2\n",
      "                         Returnering af bestilling fra butik       0.00      0.00      0.00         2\n",
      "                     Returnering fra fysisk butik til online       1.00      0.50      0.67         2\n",
      "                                        Told- og importgebyr       1.00      1.00      1.00         2\n",
      "                                        Vaske- og Care Guide       1.00      1.00      1.00         1\n",
      "                                                   baglommer       1.00      1.00      1.00         2\n",
      "                                                        moms       1.00      1.00      1.00         2\n",
      "                                              skrædderpriser       1.00      1.00      1.00         1\n",
      "                                                         tak       0.00      0.00      0.00         1\n",
      "                                            Ændring af ordre       1.00      1.00      1.00         3\n",
      "\n",
      "                                                    accuracy                           0.82        34\n",
      "                                                   macro avg       0.77      0.79      0.76        34\n",
      "                                                weighted avg       0.84      0.82      0.81        34\n",
      "\n"
     ]
    }
   ],
   "source": [
    "# Printing the classification report for predictions on the original test set\n",
    "print(\"classification_report test original\")\n",
    "print(classification_report(y_test, y_pred_test))"
   ]
  },
  {
   "cell_type": "code",
   "execution_count": 99,
   "metadata": {},
   "outputs": [
    {
     "name": "stdout",
     "output_type": "stream",
     "text": [
      "classification_report train merged\n",
      "                                                              precision    recall  f1-score   support\n",
      "\n",
      "                                          Afhentning i butik       1.00      1.00      1.00         7\n",
      "                                        Annullering af ordre       1.00      1.00      1.00         7\n",
      "                                          Bestilling i butik       1.00      1.00      1.00         7\n",
      "                                         Betaling med Klarna       1.00      1.00      1.00         3\n",
      "                                         Betalingsmuligheder       1.00      1.00      1.00         3\n",
      "                                     Defekt produkt modtaget       0.88      1.00      0.93         7\n",
      "                                                     Erhverv       1.00      1.00      1.00         4\n",
      "                                    Forkert produkt modtaget       1.00      1.00      1.00         8\n",
      "                                                    Gavekort       1.00      1.00      1.00         3\n",
      "       Hvor kan man købe produkter fra Shaping New Tomorrow?       1.00      1.00      1.00         4\n",
      "                       Hvornår modtager jeg min refundering?       1.00      1.00      1.00         5\n",
      "Kan jeg få besked, når en udsolgt vare kommer på lager igen?       1.00      1.00      1.00         2\n",
      "                                        Levering i weekenden       1.00      1.00      1.00         5\n",
      "                                      Leveringsinformationer       1.00      1.00      1.00         5\n",
      "                                         Leveringsmuligheder       0.80      1.00      0.89         8\n",
      "                           Leveringsmuligheder - DHL Express       1.00      1.00      1.00         3\n",
      "                           Leveringsmuligheder - GLS Erhverv       1.00      1.00      1.00         4\n",
      "                         Leveringsmuligheder - GLS Pakkeshop       1.00      1.00      1.00         4\n",
      "                    Leveringsmuligheder - GLS Privatlevering       1.00      1.00      1.00         4\n",
      "                               Leveringstid bestilling butik       1.00      1.00      1.00         2\n",
      "                                                      Lynlås       1.00      1.00      1.00         3\n",
      "                             Manglende produkter i min ordre       1.00      1.00      1.00         6\n",
      "            Ombytning eller returnering af gave købt i butik       0.86      1.00      0.92         6\n",
      "             Ombytning eller returnering af gave købt online       1.00      1.00      1.00         4\n",
      "                              Ordrebekræftelse ikke modtaget       1.00      1.00      1.00         7\n",
      "                                 Ordrenummer ved returnering       1.00      1.00      1.00         3\n",
      "                                                 Refundering       1.00      1.00      1.00         9\n",
      "                         Returnering af bestilling fra butik       1.00      0.75      0.86         4\n",
      "             Returnering af produkter fra forskellige ordrer       1.00      1.00      1.00         7\n",
      "                     Returnering fra fysisk butik til online       1.00      1.00      1.00         3\n",
      "                                              Spor min ordre       1.00      1.00      1.00         7\n",
      "         Sådan indtaster du din rabatkode eller dit gavekort       1.00      1.00      1.00         2\n",
      "                                        Told- og importgebyr       1.00      1.00      1.00         6\n",
      "                                        Vaske- og Care Guide       1.00      1.00      1.00         3\n",
      "                                                   baglommer       1.00      1.00      1.00         3\n",
      "                                                      farvel       1.00      1.00      1.00         4\n",
      "                                                      hilsen       1.00      1.00      1.00         8\n",
      "                                                        moms       1.00      1.00      1.00         5\n",
      "                                         regular og slim fit       1.00      1.00      1.00         2\n",
      "                                                 reklamation       1.00      0.75      0.86         4\n",
      "                                              skrædderpriser       1.00      1.00      1.00         4\n",
      "                                                   store lår       1.00      1.00      1.00         3\n",
      "                                            størrelsesguides       0.00      0.00      0.00         1\n",
      "                                                        svar       1.00      0.50      0.67         2\n",
      "                                                         tak       1.00      1.00      1.00         5\n",
      "                                            Ændring af ordre       1.00      1.00      1.00         6\n",
      "\n",
      "                                                    accuracy                           0.98       212\n",
      "                                                   macro avg       0.97      0.96      0.96       212\n",
      "                                                weighted avg       0.98      0.98      0.98       212\n",
      "\n"
     ]
    }
   ],
   "source": [
    "# Printing the classification report for predictions on the merged training set\n",
    "print(\"classification_report train merged\")\n",
    "print(classification_report(y_train_merged, y_pred_train_merged))"
   ]
  },
  {
   "cell_type": "code",
   "execution_count": 100,
   "metadata": {},
   "outputs": [
    {
     "name": "stdout",
     "output_type": "stream",
     "text": [
      "classification_report test merged\n",
      "                                                              precision    recall  f1-score   support\n",
      "\n",
      "                                          Afhentning i butik       0.50      1.00      0.67         1\n",
      "                                        Annullering af ordre       0.50      1.00      0.67         1\n",
      "                                          Bestilling i butik       0.75      1.00      0.86         3\n",
      "                                         Betaling med Klarna       1.00      1.00      1.00         1\n",
      "                                     Defekt produkt modtaget       1.00      1.00      1.00         1\n",
      "                                                    Gavekort       0.00      0.00      0.00         0\n",
      "                       Hvornår modtager jeg min refundering?       0.00      0.00      0.00         3\n",
      "Kan jeg få besked, når en udsolgt vare kommer på lager igen?       0.00      0.00      0.00         1\n",
      "                                        Levering i weekenden       1.00      0.67      0.80         3\n",
      "                                      Leveringsinformationer       0.00      0.00      0.00         3\n",
      "                                         Leveringsmuligheder       0.00      0.00      0.00         0\n",
      "                           Leveringsmuligheder - DHL Express       1.00      1.00      1.00         1\n",
      "                             Manglende produkter i min ordre       1.00      1.00      1.00         2\n",
      "            Ombytning eller returnering af gave købt i butik       0.29      1.00      0.44         2\n",
      "             Ombytning eller returnering af gave købt online       0.00      0.00      0.00         4\n",
      "                              Ordrebekræftelse ikke modtaget       1.00      1.00      1.00         1\n",
      "                                 Ordrenummer ved returnering       0.00      0.00      0.00         1\n",
      "                                                 Refundering       0.17      1.00      0.29         1\n",
      "                         Returnering af bestilling fra butik       0.00      0.00      0.00         2\n",
      "             Returnering af produkter fra forskellige ordrer       1.00      1.00      1.00         1\n",
      "                     Returnering fra fysisk butik til online       0.00      0.00      0.00         1\n",
      "                                              Spor min ordre       1.00      1.00      1.00         1\n",
      "         Sådan indtaster du din rabatkode eller dit gavekort       1.00      0.25      0.40         4\n",
      "                                        Told- og importgebyr       1.00      1.00      1.00         2\n",
      "                                        Vaske- og Care Guide       0.00      0.00      0.00         1\n",
      "                                                      farvel       1.00      0.50      0.67         2\n",
      "                                         regular og slim fit       1.00      1.00      1.00         1\n",
      "                                                 reklamation       0.00      0.00      0.00         1\n",
      "                                                   store lår       1.00      1.00      1.00         1\n",
      "                                            størrelsesguides       0.00      0.00      0.00         2\n",
      "                                                         tak       1.00      0.67      0.80         3\n",
      "                                            Ændring af ordre       1.00      0.50      0.67         2\n",
      "\n",
      "                                                    accuracy                           0.51        53\n",
      "                                                   macro avg       0.54      0.55      0.51        53\n",
      "                                                weighted avg       0.57      0.51      0.49        53\n",
      "\n"
     ]
    }
   ],
   "source": [
    "# Printing the classification report for predictions on the merged test set\n",
    "print(\"classification_report test merged\")\n",
    "print(classification_report(y_test_merged, y_pred_test_merged))"
   ]
  },
  {
   "cell_type": "code",
   "execution_count": 101,
   "metadata": {},
   "outputs": [
    {
     "name": "stdout",
     "output_type": "stream",
     "text": [
      "Accuracy Score for for train: 0.86466\n",
      "Accuracy Score for for test: 0.82353\n",
      "Accuracy Score for train merged: 0.98113\n",
      "Accuracy Score for test merged: 0.50943\n",
      "Precision Score for for train: 0.91124\n",
      "Precision Score for for test: 0.84069\n",
      "Precision Score for train merged: 0.97957\n",
      "Precision Score for test merged: 0.56581\n",
      "Recall Score for for train: 0.86466\n",
      "Recall Score for for test: 0.82353\n",
      "Recall Score for train merged: 0.98113\n",
      "Recall Score for test merged: 0.50943\n",
      "F1 Score for for train: 0.86085\n",
      "F1 Score for for test: 0.81078\n",
      "F1 Score for train merged: 0.97818\n",
      "F1 Score for test merged: 0.49332\n"
     ]
    }
   ],
   "source": [
    "# Calculating and printing the accuracy score for the original training set\n",
    "print('Accuracy Score for for train: %.5f'%accuracy_score(y_train, y_pred_train))\n",
    "\n",
    "# Calculating and printing the accuracy score for the original test set\n",
    "print('Accuracy Score for for test: %.5f'%accuracy_score(y_test, y_pred_test))\n",
    "\n",
    "# Calculating and printing the accuracy score for the merged training set\n",
    "print('Accuracy Score for train merged: %.5f'%accuracy_score(y_train_merged, y_pred_train_merged))\n",
    "\n",
    "# Calculating and printing the accuracy score for the merged test set\n",
    "print('Accuracy Score for test merged: %.5f'%accuracy_score(y_test_merged, y_pred_test_merged))\n",
    "\n",
    "# Calculating and printing the precision score for the original training set\n",
    "print('Precision Score for for train: %.5f'%precision_score(y_train, y_pred_train, average='weighted'))\n",
    "\n",
    "# Calculating and printing the precision score for the original test set\n",
    "print('Precision Score for for test: %.5f'%precision_score(y_test, y_pred_test, average='weighted'))\n",
    "\n",
    "# Calculating and printing the precision score for the merged training set\n",
    "print('Precision Score for train merged: %.5f'%precision_score(y_train_merged, y_pred_train_merged, average='weighted'))\n",
    "\n",
    "# Calculating and printing the precision score for the merged test set\n",
    "print('Precision Score for test merged: %.5f'%precision_score(y_test_merged, y_pred_test_merged, average='weighted'))\n",
    "\n",
    "# Calculating and printing the recall score for the original training set\n",
    "print('Recall Score for for train: %.5f'%recall_score(y_train, y_pred_train, average='weighted'))\n",
    "\n",
    "# Calculating and printing the recall score for the original test set\n",
    "print('Recall Score for for test: %.5f'%recall_score(y_test, y_pred_test, average='weighted'))\n",
    "\n",
    "# Calculating and printing the recall score for the merged training set\n",
    "print('Recall Score for train merged: %.5f'%recall_score(y_train_merged, y_pred_train_merged, average='weighted'))\n",
    "\n",
    "# Calculating and printing the recall score for the merged test set\n",
    "print('Recall Score for test merged: %.5f'%recall_score(y_test_merged, y_pred_test_merged, average='weighted'))\n",
    "\n",
    "# Calculating and printing the f1 score for the original training set\n",
    "print('F1 Score for for train: %.5f'%f1_score(y_train, y_pred_train, average='weighted'))\n",
    "\n",
    "# Calculating and printing the f1 score for the original test set\n",
    "print('F1 Score for for test: %.5f'%f1_score(y_test, y_pred_test, average='weighted'))\n",
    "\n",
    "# Calculating and printing the f1 score for the merged training set\n",
    "print('F1 Score for train merged: %.5f'%f1_score(y_train_merged, y_pred_train_merged, average='weighted'))\n",
    "\n",
    "# Calculating and printing the f1 score for the merged test set\n",
    "print('F1 Score for test merged: %.5f'%f1_score(y_test_merged, y_pred_test_merged, average='weighted'))"
   ]
  },
  {
   "cell_type": "code",
   "execution_count": 102,
   "metadata": {},
   "outputs": [],
   "source": [
    "model_tfidf_svm_scores = {\n",
    "    'Train Accuracy (Original)': accuracy_score(y_train, y_pred_train),\n",
    "    'Test Accuracy (Original)': accuracy_score(y_test, y_pred_test),\n",
    "    'Train Accuracy (Merged)': accuracy_score(y_train_merged, y_pred_train_merged),\n",
    "    'Test Accuracy (Merged)': accuracy_score(y_test_merged, y_pred_test_merged),\n",
    "\n",
    "    'Train Precision (Original)': precision_score(y_train, y_pred_train, average='weighted'),\n",
    "    'Test Precision (Original)': precision_score(y_test, y_pred_test, average='weighted'),\n",
    "    'Train Precision (Merged)': precision_score(y_train_merged, y_pred_train_merged, average='weighted'),\n",
    "    'Test Precision (Merged)': precision_score(y_test_merged, y_pred_test_merged, average='weighted'),\n",
    "\n",
    "    'Train Recall (Original)': recall_score(y_train, y_pred_train, average='weighted'),\n",
    "    'Test Recall (Original)': recall_score(y_test, y_pred_test, average='weighted'),\n",
    "    'Train Recall (Merged)': recall_score(y_train_merged, y_pred_train_merged, average='weighted'),\n",
    "    'Test Recall (Merged)': recall_score(y_test_merged, y_pred_test_merged, average='weighted'),\n",
    "\n",
    "    'Train F1 Score (Original)': f1_score(y_train, y_pred_train, average='weighted'),\n",
    "    'Test F1 Score (Original)': f1_score(y_test, y_pred_test, average='weighted'),\n",
    "    'Train F1 Score (Merged)': f1_score(y_train_merged, y_pred_train_merged, average='weighted'),\n",
    "    'Test F1 Score (Merged)': f1_score(y_test_merged, y_pred_test_merged, average='weighted')\n",
    "}"
   ]
  },
  {
   "cell_type": "markdown",
   "metadata": {},
   "source": [
    "### TF-IDF + K-Nearest Neighbors (KNN)"
   ]
  },
  {
   "cell_type": "code",
   "execution_count": 103,
   "metadata": {},
   "outputs": [],
   "source": [
    "# Creating a pipeline with TF-IDF vectorizer and K-Nearest Neighbors (KNN) classifier\n",
    "tfidf = TfidfVectorizer()  # Initializing TF-IDF vectorizer\n",
    "knn = KNeighborsClassifier()  # Initializing K-Nearest Neighbors (KNN) classifier\n",
    "\n",
    "# Creating a pipeline combining TF-IDF vectorizer and KNN classifier\n",
    "model_tfidf_knn = make_pipeline(tfidf, knn)\n",
    "model_tfidf_knn_merged = make_pipeline(tfidf, knn)"
   ]
  },
  {
   "cell_type": "code",
   "execution_count": 104,
   "metadata": {},
   "outputs": [
    {
     "data": {
      "text/html": [
       "<style>#sk-container-id-7 {color: black;}#sk-container-id-7 pre{padding: 0;}#sk-container-id-7 div.sk-toggleable {background-color: white;}#sk-container-id-7 label.sk-toggleable__label {cursor: pointer;display: block;width: 100%;margin-bottom: 0;padding: 0.3em;box-sizing: border-box;text-align: center;}#sk-container-id-7 label.sk-toggleable__label-arrow:before {content: \"▸\";float: left;margin-right: 0.25em;color: #696969;}#sk-container-id-7 label.sk-toggleable__label-arrow:hover:before {color: black;}#sk-container-id-7 div.sk-estimator:hover label.sk-toggleable__label-arrow:before {color: black;}#sk-container-id-7 div.sk-toggleable__content {max-height: 0;max-width: 0;overflow: hidden;text-align: left;background-color: #f0f8ff;}#sk-container-id-7 div.sk-toggleable__content pre {margin: 0.2em;color: black;border-radius: 0.25em;background-color: #f0f8ff;}#sk-container-id-7 input.sk-toggleable__control:checked~div.sk-toggleable__content {max-height: 200px;max-width: 100%;overflow: auto;}#sk-container-id-7 input.sk-toggleable__control:checked~label.sk-toggleable__label-arrow:before {content: \"▾\";}#sk-container-id-7 div.sk-estimator input.sk-toggleable__control:checked~label.sk-toggleable__label {background-color: #d4ebff;}#sk-container-id-7 div.sk-label input.sk-toggleable__control:checked~label.sk-toggleable__label {background-color: #d4ebff;}#sk-container-id-7 input.sk-hidden--visually {border: 0;clip: rect(1px 1px 1px 1px);clip: rect(1px, 1px, 1px, 1px);height: 1px;margin: -1px;overflow: hidden;padding: 0;position: absolute;width: 1px;}#sk-container-id-7 div.sk-estimator {font-family: monospace;background-color: #f0f8ff;border: 1px dotted black;border-radius: 0.25em;box-sizing: border-box;margin-bottom: 0.5em;}#sk-container-id-7 div.sk-estimator:hover {background-color: #d4ebff;}#sk-container-id-7 div.sk-parallel-item::after {content: \"\";width: 100%;border-bottom: 1px solid gray;flex-grow: 1;}#sk-container-id-7 div.sk-label:hover label.sk-toggleable__label {background-color: #d4ebff;}#sk-container-id-7 div.sk-serial::before {content: \"\";position: absolute;border-left: 1px solid gray;box-sizing: border-box;top: 0;bottom: 0;left: 50%;z-index: 0;}#sk-container-id-7 div.sk-serial {display: flex;flex-direction: column;align-items: center;background-color: white;padding-right: 0.2em;padding-left: 0.2em;position: relative;}#sk-container-id-7 div.sk-item {position: relative;z-index: 1;}#sk-container-id-7 div.sk-parallel {display: flex;align-items: stretch;justify-content: center;background-color: white;position: relative;}#sk-container-id-7 div.sk-item::before, #sk-container-id-7 div.sk-parallel-item::before {content: \"\";position: absolute;border-left: 1px solid gray;box-sizing: border-box;top: 0;bottom: 0;left: 50%;z-index: -1;}#sk-container-id-7 div.sk-parallel-item {display: flex;flex-direction: column;z-index: 1;position: relative;background-color: white;}#sk-container-id-7 div.sk-parallel-item:first-child::after {align-self: flex-end;width: 50%;}#sk-container-id-7 div.sk-parallel-item:last-child::after {align-self: flex-start;width: 50%;}#sk-container-id-7 div.sk-parallel-item:only-child::after {width: 0;}#sk-container-id-7 div.sk-dashed-wrapped {border: 1px dashed gray;margin: 0 0.4em 0.5em 0.4em;box-sizing: border-box;padding-bottom: 0.4em;background-color: white;}#sk-container-id-7 div.sk-label label {font-family: monospace;font-weight: bold;display: inline-block;line-height: 1.2em;}#sk-container-id-7 div.sk-label-container {text-align: center;}#sk-container-id-7 div.sk-container {/* jupyter's `normalize.less` sets `[hidden] { display: none; }` but bootstrap.min.css set `[hidden] { display: none !important; }` so we also need the `!important` here to be able to override the default hidden behavior on the sphinx rendered scikit-learn.org. See: https://github.com/scikit-learn/scikit-learn/issues/21755 */display: inline-block !important;position: relative;}#sk-container-id-7 div.sk-text-repr-fallback {display: none;}</style><div id=\"sk-container-id-7\" class=\"sk-top-container\"><div class=\"sk-text-repr-fallback\"><pre>Pipeline(steps=[(&#x27;tfidfvectorizer&#x27;, TfidfVectorizer()),\n",
       "                (&#x27;kneighborsclassifier&#x27;, KNeighborsClassifier())])</pre><b>In a Jupyter environment, please rerun this cell to show the HTML representation or trust the notebook. <br />On GitHub, the HTML representation is unable to render, please try loading this page with nbviewer.org.</b></div><div class=\"sk-container\" hidden><div class=\"sk-item sk-dashed-wrapped\"><div class=\"sk-label-container\"><div class=\"sk-label sk-toggleable\"><input class=\"sk-toggleable__control sk-hidden--visually\" id=\"sk-estimator-id-11\" type=\"checkbox\" ><label for=\"sk-estimator-id-11\" class=\"sk-toggleable__label sk-toggleable__label-arrow\">Pipeline</label><div class=\"sk-toggleable__content\"><pre>Pipeline(steps=[(&#x27;tfidfvectorizer&#x27;, TfidfVectorizer()),\n",
       "                (&#x27;kneighborsclassifier&#x27;, KNeighborsClassifier())])</pre></div></div></div><div class=\"sk-serial\"><div class=\"sk-item\"><div class=\"sk-estimator sk-toggleable\"><input class=\"sk-toggleable__control sk-hidden--visually\" id=\"sk-estimator-id-12\" type=\"checkbox\" ><label for=\"sk-estimator-id-12\" class=\"sk-toggleable__label sk-toggleable__label-arrow\">TfidfVectorizer</label><div class=\"sk-toggleable__content\"><pre>TfidfVectorizer()</pre></div></div></div><div class=\"sk-item\"><div class=\"sk-estimator sk-toggleable\"><input class=\"sk-toggleable__control sk-hidden--visually\" id=\"sk-estimator-id-13\" type=\"checkbox\" ><label for=\"sk-estimator-id-13\" class=\"sk-toggleable__label sk-toggleable__label-arrow\">KNeighborsClassifier</label><div class=\"sk-toggleable__content\"><pre>KNeighborsClassifier()</pre></div></div></div></div></div></div></div>"
      ],
      "text/plain": [
       "Pipeline(steps=[('tfidfvectorizer', TfidfVectorizer()),\n",
       "                ('kneighborsclassifier', KNeighborsClassifier())])"
      ]
     },
     "execution_count": 104,
     "metadata": {},
     "output_type": "execute_result"
    }
   ],
   "source": [
    "# Fitting the TF-IDF and KNN model on the original training set\n",
    "model_tfidf_knn.fit(X_train, y_train)\n",
    "\n",
    "# Fitting the TF-IDF and KNN model on the merged training set\n",
    "model_tfidf_knn_merged.fit(X_train_merged, y_train_merged)"
   ]
  },
  {
   "cell_type": "code",
   "execution_count": 105,
   "metadata": {},
   "outputs": [],
   "source": [
    "# Making predictions using the trained TF-IDF and KNN model for the original training set\n",
    "y_pred_train = model_tfidf_knn.predict(X_train)\n",
    "\n",
    "# Making predictions using the trained TF-IDF and KNN model for the original test set\n",
    "y_pred_test = model_tfidf_knn.predict(X_test)\n",
    "\n",
    "# Making predictions using the trained TF-IDF and KNN model for the merged training set\n",
    "y_pred_train_merged = model_tfidf_knn_merged.predict(X_train_merged)\n",
    "\n",
    "# Making predictions using the trained TF-IDF and KNN model for the merged test set\n",
    "y_pred_test_merged = model_tfidf_knn_merged.predict(X_test_merged)"
   ]
  },
  {
   "cell_type": "code",
   "execution_count": 106,
   "metadata": {},
   "outputs": [
    {
     "name": "stdout",
     "output_type": "stream",
     "text": [
      "classification_report train original\n",
      "                                                              precision    recall  f1-score   support\n",
      "\n",
      "                                          Afhentning i butik       0.67      1.00      0.80         4\n",
      "                                        Annullering af ordre       0.57      1.00      0.73         4\n",
      "                                          Bestilling i butik       0.50      1.00      0.67         2\n",
      "                                         Betaling med Klarna       0.57      1.00      0.73         4\n",
      "                                         Betalingsmuligheder       0.00      0.00      0.00         2\n",
      "                                     Defekt produkt modtaget       0.80      1.00      0.89         4\n",
      "                                                     Erhverv       0.67      0.67      0.67         3\n",
      "                                    Forkert produkt modtaget       0.80      1.00      0.89         4\n",
      "                                                    Gavekort       0.33      1.00      0.50         2\n",
      "       Hvor kan man købe produkter fra Shaping New Tomorrow?       1.00      1.00      1.00         4\n",
      "                       Hvornår modtager jeg min refundering?       0.50      0.25      0.33         4\n",
      "Kan jeg få besked, når en udsolgt vare kommer på lager igen?       1.00      0.50      0.67         2\n",
      "                                        Levering i weekenden       0.60      1.00      0.75         3\n",
      "                                      Leveringsinformationer       1.00      0.25      0.40         4\n",
      "                                         Leveringsmuligheder       1.00      0.33      0.50         3\n",
      "                           Leveringsmuligheder - DHL Express       1.00      1.00      1.00         1\n",
      "                         Leveringsmuligheder - GLS Pakkeshop       1.00      1.00      1.00         2\n",
      "                    Leveringsmuligheder - GLS Privatlevering       1.00      1.00      1.00         2\n",
      "                               Leveringstid bestilling butik       1.00      1.00      1.00         1\n",
      "                                                      Lynlås       0.67      0.67      0.67         3\n",
      "                             Manglende produkter i min ordre       1.00      1.00      1.00         3\n",
      "            Ombytning eller returnering af gave købt i butik       0.43      1.00      0.60         3\n",
      "             Ombytning eller returnering af gave købt online       1.00      0.67      0.80         3\n",
      "                              Ordrebekræftelse ikke modtaget       0.75      1.00      0.86         3\n",
      "                                 Ordrenummer ved returnering       1.00      0.50      0.67         2\n",
      "                                                 Refundering       0.50      0.80      0.62         5\n",
      "                         Returnering af bestilling fra butik       0.00      0.00      0.00         1\n",
      "             Returnering af produkter fra forskellige ordrer       1.00      1.00      1.00         4\n",
      "                     Returnering fra fysisk butik til online       1.00      0.50      0.67         2\n",
      "                                              Spor min ordre       0.75      0.75      0.75         4\n",
      "         Sådan indtaster du din rabatkode eller dit gavekort       1.00      0.50      0.67         6\n",
      "                                        Told- og importgebyr       0.50      0.50      0.50         2\n",
      "                                        Vaske- og Care Guide       0.50      0.33      0.40         3\n",
      "                                                   baglommer       1.00      1.00      1.00         1\n",
      "                                                      farvel       1.00      0.67      0.80         3\n",
      "                                                      hilsen       1.00      0.50      0.67         4\n",
      "                                                        moms       1.00      1.00      1.00         3\n",
      "                                         regular og slim fit       1.00      1.00      1.00         3\n",
      "                                                 reklamation       1.00      0.20      0.33         5\n",
      "                                              skrædderpriser       0.25      0.33      0.29         3\n",
      "                                                   store lår       0.80      1.00      0.89         4\n",
      "                                            størrelsesguides       0.00      0.00      0.00         3\n",
      "                                                        svar       0.00      0.00      0.00         1\n",
      "                                                         tak       1.00      1.00      1.00         3\n",
      "                                            Ændring af ordre       0.50      1.00      0.67         1\n",
      "\n",
      "                                                    accuracy                           0.71       133\n",
      "                                                   macro avg       0.73      0.71      0.67       133\n",
      "                                                weighted avg       0.75      0.71      0.68       133\n",
      "\n"
     ]
    }
   ],
   "source": [
    "# Printing the classification report for predictions on the original training set\n",
    "print(\"classification_report train original\")\n",
    "print(classification_report(y_train, y_pred_train))"
   ]
  },
  {
   "cell_type": "code",
   "execution_count": 107,
   "metadata": {},
   "outputs": [
    {
     "name": "stdout",
     "output_type": "stream",
     "text": [
      "classification_report test original\n",
      "                                                              precision    recall  f1-score   support\n",
      "\n",
      "                                          Afhentning i butik       0.00      0.00      0.00         0\n",
      "                                        Annullering af ordre       0.00      0.00      0.00         0\n",
      "                                          Bestilling i butik       0.75      1.00      0.86         3\n",
      "                                         Betalingsmuligheder       0.00      0.00      0.00         1\n",
      "                                     Defekt produkt modtaget       0.00      0.00      0.00         0\n",
      "                                                     Erhverv       1.00      1.00      1.00         1\n",
      "                                                    Gavekort       1.00      1.00      1.00         1\n",
      "Kan jeg få besked, når en udsolgt vare kommer på lager igen?       1.00      1.00      1.00         1\n",
      "                                        Levering i weekenden       1.00      1.00      1.00         1\n",
      "                                         Leveringsmuligheder       0.00      0.00      0.00         1\n",
      "                           Leveringsmuligheder - DHL Express       1.00      1.00      1.00         1\n",
      "                           Leveringsmuligheder - GLS Erhverv       1.00      1.00      1.00         2\n",
      "                             Manglende produkter i min ordre       1.00      1.00      1.00         1\n",
      "            Ombytning eller returnering af gave købt i butik       0.33      1.00      0.50         1\n",
      "             Ombytning eller returnering af gave købt online       0.00      0.00      0.00         1\n",
      "                              Ordrebekræftelse ikke modtaget       0.33      1.00      0.50         1\n",
      "                                 Ordrenummer ved returnering       1.00      1.00      1.00         2\n",
      "                         Returnering af bestilling fra butik       1.00      0.50      0.67         2\n",
      "                     Returnering fra fysisk butik til online       1.00      0.50      0.67         2\n",
      "                                        Told- og importgebyr       1.00      0.50      0.67         2\n",
      "                                        Vaske- og Care Guide       0.00      0.00      0.00         1\n",
      "                                                   baglommer       1.00      0.50      0.67         2\n",
      "                                                        moms       1.00      1.00      1.00         2\n",
      "                                              skrædderpriser       0.00      0.00      0.00         1\n",
      "                                                         tak       1.00      1.00      1.00         1\n",
      "                                            Ændring af ordre       1.00      0.67      0.80         3\n",
      "\n",
      "                                                    accuracy                           0.71        34\n",
      "                                                   macro avg       0.63      0.60      0.59        34\n",
      "                                                weighted avg       0.79      0.71      0.71        34\n",
      "\n"
     ]
    }
   ],
   "source": [
    "# Printing the classification report for predictions on the original test set\n",
    "print(\"classification_report test original\")\n",
    "print(classification_report(y_test, y_pred_test))"
   ]
  },
  {
   "cell_type": "code",
   "execution_count": 108,
   "metadata": {},
   "outputs": [
    {
     "name": "stdout",
     "output_type": "stream",
     "text": [
      "classification_report train merged\n",
      "                                                              precision    recall  f1-score   support\n",
      "\n",
      "                                          Afhentning i butik       0.47      1.00      0.64         7\n",
      "                                        Annullering af ordre       0.47      1.00      0.64         7\n",
      "                                          Bestilling i butik       0.78      1.00      0.88         7\n",
      "                                         Betaling med Klarna       0.50      1.00      0.67         3\n",
      "                                         Betalingsmuligheder       0.00      0.00      0.00         3\n",
      "                                     Defekt produkt modtaget       0.75      0.86      0.80         7\n",
      "                                                     Erhverv       1.00      0.75      0.86         4\n",
      "                                    Forkert produkt modtaget       0.80      1.00      0.89         8\n",
      "                                                    Gavekort       0.75      1.00      0.86         3\n",
      "       Hvor kan man købe produkter fra Shaping New Tomorrow?       1.00      1.00      1.00         4\n",
      "                       Hvornår modtager jeg min refundering?       0.80      0.80      0.80         5\n",
      "Kan jeg få besked, når en udsolgt vare kommer på lager igen?       1.00      0.50      0.67         2\n",
      "                                        Levering i weekenden       0.62      1.00      0.77         5\n",
      "                                      Leveringsinformationer       1.00      0.80      0.89         5\n",
      "                                         Leveringsmuligheder       0.75      0.38      0.50         8\n",
      "                           Leveringsmuligheder - DHL Express       1.00      1.00      1.00         3\n",
      "                           Leveringsmuligheder - GLS Erhverv       1.00      1.00      1.00         4\n",
      "                         Leveringsmuligheder - GLS Pakkeshop       0.80      1.00      0.89         4\n",
      "                    Leveringsmuligheder - GLS Privatlevering       1.00      0.75      0.86         4\n",
      "                               Leveringstid bestilling butik       1.00      1.00      1.00         2\n",
      "                                                      Lynlås       0.67      0.67      0.67         3\n",
      "                             Manglende produkter i min ordre       1.00      1.00      1.00         6\n",
      "            Ombytning eller returnering af gave købt i butik       0.46      1.00      0.63         6\n",
      "             Ombytning eller returnering af gave købt online       1.00      0.50      0.67         4\n",
      "                              Ordrebekræftelse ikke modtaget       0.70      1.00      0.82         7\n",
      "                                 Ordrenummer ved returnering       1.00      0.67      0.80         3\n",
      "                                                 Refundering       0.80      0.89      0.84         9\n",
      "                         Returnering af bestilling fra butik       0.00      0.00      0.00         4\n",
      "             Returnering af produkter fra forskellige ordrer       1.00      1.00      1.00         7\n",
      "                     Returnering fra fysisk butik til online       1.00      0.67      0.80         3\n",
      "                                              Spor min ordre       0.67      0.57      0.62         7\n",
      "         Sådan indtaster du din rabatkode eller dit gavekort       1.00      1.00      1.00         2\n",
      "                                        Told- og importgebyr       0.60      0.50      0.55         6\n",
      "                                        Vaske- og Care Guide       0.00      0.00      0.00         3\n",
      "                                                   baglommer       1.00      0.67      0.80         3\n",
      "                                                      farvel       1.00      0.50      0.67         4\n",
      "                                                      hilsen       1.00      0.38      0.55         8\n",
      "                                                        moms       1.00      1.00      1.00         5\n",
      "                                         regular og slim fit       1.00      1.00      1.00         2\n",
      "                                                 reklamation       1.00      0.25      0.40         4\n",
      "                                              skrædderpriser       0.33      0.25      0.29         4\n",
      "                                                   store lår       1.00      1.00      1.00         3\n",
      "                                            størrelsesguides       0.00      0.00      0.00         1\n",
      "                                                        svar       0.00      0.00      0.00         2\n",
      "                                                         tak       1.00      0.80      0.89         5\n",
      "                                            Ændring af ordre       0.80      0.67      0.73         6\n",
      "\n",
      "                                                    accuracy                           0.75       212\n",
      "                                                   macro avg       0.75      0.71      0.70       212\n",
      "                                                weighted avg       0.76      0.75      0.72       212\n",
      "\n"
     ]
    }
   ],
   "source": [
    "# Printing the classification report for predictions on the merged training set\n",
    "print(\"classification_report train merged\")\n",
    "print(classification_report(y_train_merged, y_pred_train_merged))"
   ]
  },
  {
   "cell_type": "code",
   "execution_count": 109,
   "metadata": {},
   "outputs": [
    {
     "name": "stdout",
     "output_type": "stream",
     "text": [
      "classification_report test merged\n",
      "                                                              precision    recall  f1-score   support\n",
      "\n",
      "                                          Afhentning i butik       0.50      1.00      0.67         1\n",
      "                                        Annullering af ordre       0.33      1.00      0.50         1\n",
      "                                          Bestilling i butik       0.60      1.00      0.75         3\n",
      "                                         Betaling med Klarna       0.50      1.00      0.67         1\n",
      "                                     Defekt produkt modtaget       1.00      1.00      1.00         1\n",
      "                                                     Erhverv       0.00      0.00      0.00         0\n",
      "                                                    Gavekort       0.00      0.00      0.00         0\n",
      "       Hvor kan man købe produkter fra Shaping New Tomorrow?       0.00      0.00      0.00         0\n",
      "                       Hvornår modtager jeg min refundering?       0.00      0.00      0.00         3\n",
      "Kan jeg få besked, når en udsolgt vare kommer på lager igen?       1.00      1.00      1.00         1\n",
      "                                        Levering i weekenden       0.75      1.00      0.86         3\n",
      "                                      Leveringsinformationer       0.00      0.00      0.00         3\n",
      "                           Leveringsmuligheder - DHL Express       1.00      1.00      1.00         1\n",
      "                             Manglende produkter i min ordre       1.00      1.00      1.00         2\n",
      "            Ombytning eller returnering af gave købt i butik       0.33      1.00      0.50         2\n",
      "             Ombytning eller returnering af gave købt online       1.00      0.25      0.40         4\n",
      "                              Ordrebekræftelse ikke modtaget       1.00      1.00      1.00         1\n",
      "                                 Ordrenummer ved returnering       1.00      1.00      1.00         1\n",
      "                                                 Refundering       0.00      0.00      0.00         1\n",
      "                         Returnering af bestilling fra butik       1.00      0.50      0.67         2\n",
      "             Returnering af produkter fra forskellige ordrer       1.00      1.00      1.00         1\n",
      "                     Returnering fra fysisk butik til online       0.00      0.00      0.00         1\n",
      "                                              Spor min ordre       1.00      1.00      1.00         1\n",
      "         Sådan indtaster du din rabatkode eller dit gavekort       1.00      0.25      0.40         4\n",
      "                                        Told- og importgebyr       1.00      0.50      0.67         2\n",
      "                                        Vaske- og Care Guide       1.00      1.00      1.00         1\n",
      "                                                      farvel       0.00      0.00      0.00         2\n",
      "                                         regular og slim fit       1.00      1.00      1.00         1\n",
      "                                                 reklamation       0.00      0.00      0.00         1\n",
      "                                              skrædderpriser       0.00      0.00      0.00         0\n",
      "                                                   store lår       0.50      1.00      0.67         1\n",
      "                                            størrelsesguides       0.00      0.00      0.00         2\n",
      "                                                         tak       1.00      1.00      1.00         3\n",
      "                                            Ændring af ordre       1.00      1.00      1.00         2\n",
      "\n",
      "                                                    accuracy                           0.60        53\n",
      "                                                   macro avg       0.57      0.60      0.55        53\n",
      "                                                weighted avg       0.65      0.60      0.57        53\n",
      "\n"
     ]
    }
   ],
   "source": [
    "# Printing the classification report for predictions on the merged test set\n",
    "print(\"classification_report test merged\")\n",
    "print(classification_report(y_test_merged, y_pred_test_merged))"
   ]
  },
  {
   "cell_type": "code",
   "execution_count": 110,
   "metadata": {},
   "outputs": [
    {
     "name": "stdout",
     "output_type": "stream",
     "text": [
      "Accuracy Score for for train: 0.71429\n",
      "Accuracy Score for for test: 0.70588\n",
      "Accuracy Score for train merged: 0.75000\n",
      "Accuracy Score for test merged: 0.60377\n",
      "Precision Score for for train: 0.75256\n",
      "Precision Score for for test: 0.79167\n",
      "Precision Score for train merged: 0.76402\n",
      "Precision Score for test merged: 0.65189\n",
      "Recall Score for for train: 0.71429\n",
      "Recall Score for for test: 0.70588\n",
      "Recall Score for train merged: 0.75000\n",
      "Recall Score for test merged: 0.60377\n",
      "F1 Score for for train: 0.68426\n",
      "F1 Score for for test: 0.71485\n",
      "F1 Score for train merged: 0.72413\n",
      "F1 Score for test merged: 0.56959\n"
     ]
    }
   ],
   "source": [
    "# Calculating and printing the accuracy score for the original training set\n",
    "print('Accuracy Score for for train: %.5f'%accuracy_score(y_train, y_pred_train))\n",
    "\n",
    "# Calculating and printing the accuracy score for the original test set\n",
    "print('Accuracy Score for for test: %.5f'%accuracy_score(y_test, y_pred_test))\n",
    "\n",
    "# Calculating and printing the accuracy score for the merged training set\n",
    "print('Accuracy Score for train merged: %.5f'%accuracy_score(y_train_merged, y_pred_train_merged))\n",
    "\n",
    "# Calculating and printing the accuracy score for the merged test set\n",
    "print('Accuracy Score for test merged: %.5f'%accuracy_score(y_test_merged, y_pred_test_merged))\n",
    "\n",
    "# Calculating and printing the precision score for the original training set\n",
    "print('Precision Score for for train: %.5f'%precision_score(y_train, y_pred_train, average='weighted'))\n",
    "\n",
    "# Calculating and printing the precision score for the original test set\n",
    "print('Precision Score for for test: %.5f'%precision_score(y_test, y_pred_test, average='weighted'))\n",
    "\n",
    "# Calculating and printing the precision score for the merged training set\n",
    "print('Precision Score for train merged: %.5f'%precision_score(y_train_merged, y_pred_train_merged, average='weighted'))\n",
    "\n",
    "# Calculating and printing the precision score for the merged test set\n",
    "print('Precision Score for test merged: %.5f'%precision_score(y_test_merged, y_pred_test_merged, average='weighted'))\n",
    "\n",
    "# Calculating and printing the recall score for the original training set\n",
    "print('Recall Score for for train: %.5f'%recall_score(y_train, y_pred_train, average='weighted'))\n",
    "\n",
    "# Calculating and printing the recall score for the original test set\n",
    "print('Recall Score for for test: %.5f'%recall_score(y_test, y_pred_test, average='weighted'))\n",
    "\n",
    "# Calculating and printing the recall score for the merged training set\n",
    "print('Recall Score for train merged: %.5f'%recall_score(y_train_merged, y_pred_train_merged, average='weighted'))\n",
    "\n",
    "# Calculating and printing the recall score for the merged test set\n",
    "print('Recall Score for test merged: %.5f'%recall_score(y_test_merged, y_pred_test_merged, average='weighted'))\n",
    "\n",
    "# Calculating and printing the f1 score for the original training set\n",
    "print('F1 Score for for train: %.5f'%f1_score(y_train, y_pred_train, average='weighted'))\n",
    "\n",
    "# Calculating and printing the f1 score for the original test set\n",
    "print('F1 Score for for test: %.5f'%f1_score(y_test, y_pred_test, average='weighted'))\n",
    "\n",
    "# Calculating and printing the f1 score for the merged training set\n",
    "print('F1 Score for train merged: %.5f'%f1_score(y_train_merged, y_pred_train_merged, average='weighted'))\n",
    "\n",
    "# Calculating and printing the f1 score for the merged test set\n",
    "print('F1 Score for test merged: %.5f'%f1_score(y_test_merged, y_pred_test_merged, average='weighted'))"
   ]
  },
  {
   "cell_type": "code",
   "execution_count": 111,
   "metadata": {},
   "outputs": [],
   "source": [
    "model_tfidf_knn_scores = {\n",
    "    'Train Accuracy (Original)': accuracy_score(y_train, y_pred_train),\n",
    "    'Test Accuracy (Original)': accuracy_score(y_test, y_pred_test),\n",
    "    'Train Accuracy (Merged)': accuracy_score(y_train_merged, y_pred_train_merged),\n",
    "    'Test Accuracy (Merged)': accuracy_score(y_test_merged, y_pred_test_merged),\n",
    "\n",
    "    'Train Precision (Original)': precision_score(y_train, y_pred_train, average='weighted'),\n",
    "    'Test Precision (Original)': precision_score(y_test, y_pred_test, average='weighted'),\n",
    "    'Train Precision (Merged)': precision_score(y_train_merged, y_pred_train_merged, average='weighted'),\n",
    "    'Test Precision (Merged)': precision_score(y_test_merged, y_pred_test_merged, average='weighted'),\n",
    "\n",
    "    'Train Recall (Original)': recall_score(y_train, y_pred_train, average='weighted'),\n",
    "    'Test Recall (Original)': recall_score(y_test, y_pred_test, average='weighted'),\n",
    "    'Train Recall (Merged)': recall_score(y_train_merged, y_pred_train_merged, average='weighted'),\n",
    "    'Test Recall (Merged)': recall_score(y_test_merged, y_pred_test_merged, average='weighted'),\n",
    "\n",
    "    'Train F1 Score (Original)': f1_score(y_train, y_pred_train, average='weighted'),\n",
    "    'Test F1 Score (Original)': f1_score(y_test, y_pred_test, average='weighted'),\n",
    "    'Train F1 Score (Merged)': f1_score(y_train_merged, y_pred_train_merged, average='weighted'),\n",
    "    'Test F1 Score (Merged)': f1_score(y_test_merged, y_pred_test_merged, average='weighted')\n",
    "}"
   ]
  },
  {
   "cell_type": "markdown",
   "metadata": {},
   "source": [
    "### TF-IDF + Random Forest"
   ]
  },
  {
   "cell_type": "code",
   "execution_count": 112,
   "metadata": {},
   "outputs": [],
   "source": [
    "# Creating a pipeline with TF-IDF vectorizer and Random Forest classifier\n",
    "tfidf = TfidfVectorizer()  # Initializing TF-IDF vectorizer\n",
    "rf = RandomForestClassifier()  # Initializing Random Forest classifier\n",
    "\n",
    "# Creating a pipeline combining TF-IDF vectorizer and Random Forest classifier\n",
    "model_tfidf_rf = make_pipeline(tfidf, rf)\n",
    "model_tfidf_rf_merged = make_pipeline(tfidf, rf)"
   ]
  },
  {
   "cell_type": "code",
   "execution_count": 113,
   "metadata": {},
   "outputs": [
    {
     "data": {
      "text/html": [
       "<style>#sk-container-id-8 {color: black;}#sk-container-id-8 pre{padding: 0;}#sk-container-id-8 div.sk-toggleable {background-color: white;}#sk-container-id-8 label.sk-toggleable__label {cursor: pointer;display: block;width: 100%;margin-bottom: 0;padding: 0.3em;box-sizing: border-box;text-align: center;}#sk-container-id-8 label.sk-toggleable__label-arrow:before {content: \"▸\";float: left;margin-right: 0.25em;color: #696969;}#sk-container-id-8 label.sk-toggleable__label-arrow:hover:before {color: black;}#sk-container-id-8 div.sk-estimator:hover label.sk-toggleable__label-arrow:before {color: black;}#sk-container-id-8 div.sk-toggleable__content {max-height: 0;max-width: 0;overflow: hidden;text-align: left;background-color: #f0f8ff;}#sk-container-id-8 div.sk-toggleable__content pre {margin: 0.2em;color: black;border-radius: 0.25em;background-color: #f0f8ff;}#sk-container-id-8 input.sk-toggleable__control:checked~div.sk-toggleable__content {max-height: 200px;max-width: 100%;overflow: auto;}#sk-container-id-8 input.sk-toggleable__control:checked~label.sk-toggleable__label-arrow:before {content: \"▾\";}#sk-container-id-8 div.sk-estimator input.sk-toggleable__control:checked~label.sk-toggleable__label {background-color: #d4ebff;}#sk-container-id-8 div.sk-label input.sk-toggleable__control:checked~label.sk-toggleable__label {background-color: #d4ebff;}#sk-container-id-8 input.sk-hidden--visually {border: 0;clip: rect(1px 1px 1px 1px);clip: rect(1px, 1px, 1px, 1px);height: 1px;margin: -1px;overflow: hidden;padding: 0;position: absolute;width: 1px;}#sk-container-id-8 div.sk-estimator {font-family: monospace;background-color: #f0f8ff;border: 1px dotted black;border-radius: 0.25em;box-sizing: border-box;margin-bottom: 0.5em;}#sk-container-id-8 div.sk-estimator:hover {background-color: #d4ebff;}#sk-container-id-8 div.sk-parallel-item::after {content: \"\";width: 100%;border-bottom: 1px solid gray;flex-grow: 1;}#sk-container-id-8 div.sk-label:hover label.sk-toggleable__label {background-color: #d4ebff;}#sk-container-id-8 div.sk-serial::before {content: \"\";position: absolute;border-left: 1px solid gray;box-sizing: border-box;top: 0;bottom: 0;left: 50%;z-index: 0;}#sk-container-id-8 div.sk-serial {display: flex;flex-direction: column;align-items: center;background-color: white;padding-right: 0.2em;padding-left: 0.2em;position: relative;}#sk-container-id-8 div.sk-item {position: relative;z-index: 1;}#sk-container-id-8 div.sk-parallel {display: flex;align-items: stretch;justify-content: center;background-color: white;position: relative;}#sk-container-id-8 div.sk-item::before, #sk-container-id-8 div.sk-parallel-item::before {content: \"\";position: absolute;border-left: 1px solid gray;box-sizing: border-box;top: 0;bottom: 0;left: 50%;z-index: -1;}#sk-container-id-8 div.sk-parallel-item {display: flex;flex-direction: column;z-index: 1;position: relative;background-color: white;}#sk-container-id-8 div.sk-parallel-item:first-child::after {align-self: flex-end;width: 50%;}#sk-container-id-8 div.sk-parallel-item:last-child::after {align-self: flex-start;width: 50%;}#sk-container-id-8 div.sk-parallel-item:only-child::after {width: 0;}#sk-container-id-8 div.sk-dashed-wrapped {border: 1px dashed gray;margin: 0 0.4em 0.5em 0.4em;box-sizing: border-box;padding-bottom: 0.4em;background-color: white;}#sk-container-id-8 div.sk-label label {font-family: monospace;font-weight: bold;display: inline-block;line-height: 1.2em;}#sk-container-id-8 div.sk-label-container {text-align: center;}#sk-container-id-8 div.sk-container {/* jupyter's `normalize.less` sets `[hidden] { display: none; }` but bootstrap.min.css set `[hidden] { display: none !important; }` so we also need the `!important` here to be able to override the default hidden behavior on the sphinx rendered scikit-learn.org. See: https://github.com/scikit-learn/scikit-learn/issues/21755 */display: inline-block !important;position: relative;}#sk-container-id-8 div.sk-text-repr-fallback {display: none;}</style><div id=\"sk-container-id-8\" class=\"sk-top-container\"><div class=\"sk-text-repr-fallback\"><pre>Pipeline(steps=[(&#x27;tfidfvectorizer&#x27;, TfidfVectorizer()),\n",
       "                (&#x27;randomforestclassifier&#x27;, RandomForestClassifier())])</pre><b>In a Jupyter environment, please rerun this cell to show the HTML representation or trust the notebook. <br />On GitHub, the HTML representation is unable to render, please try loading this page with nbviewer.org.</b></div><div class=\"sk-container\" hidden><div class=\"sk-item sk-dashed-wrapped\"><div class=\"sk-label-container\"><div class=\"sk-label sk-toggleable\"><input class=\"sk-toggleable__control sk-hidden--visually\" id=\"sk-estimator-id-14\" type=\"checkbox\" ><label for=\"sk-estimator-id-14\" class=\"sk-toggleable__label sk-toggleable__label-arrow\">Pipeline</label><div class=\"sk-toggleable__content\"><pre>Pipeline(steps=[(&#x27;tfidfvectorizer&#x27;, TfidfVectorizer()),\n",
       "                (&#x27;randomforestclassifier&#x27;, RandomForestClassifier())])</pre></div></div></div><div class=\"sk-serial\"><div class=\"sk-item\"><div class=\"sk-estimator sk-toggleable\"><input class=\"sk-toggleable__control sk-hidden--visually\" id=\"sk-estimator-id-15\" type=\"checkbox\" ><label for=\"sk-estimator-id-15\" class=\"sk-toggleable__label sk-toggleable__label-arrow\">TfidfVectorizer</label><div class=\"sk-toggleable__content\"><pre>TfidfVectorizer()</pre></div></div></div><div class=\"sk-item\"><div class=\"sk-estimator sk-toggleable\"><input class=\"sk-toggleable__control sk-hidden--visually\" id=\"sk-estimator-id-16\" type=\"checkbox\" ><label for=\"sk-estimator-id-16\" class=\"sk-toggleable__label sk-toggleable__label-arrow\">RandomForestClassifier</label><div class=\"sk-toggleable__content\"><pre>RandomForestClassifier()</pre></div></div></div></div></div></div></div>"
      ],
      "text/plain": [
       "Pipeline(steps=[('tfidfvectorizer', TfidfVectorizer()),\n",
       "                ('randomforestclassifier', RandomForestClassifier())])"
      ]
     },
     "execution_count": 113,
     "metadata": {},
     "output_type": "execute_result"
    }
   ],
   "source": [
    "# Fitting the TF-IDF and Random Forest model on the original training set\n",
    "model_tfidf_rf.fit(X_train, y_train)\n",
    "\n",
    "# Fitting the TF-IDF and Random Forest model on the merged training set\n",
    "model_tfidf_rf_merged.fit(X_train_merged, y_train_merged)"
   ]
  },
  {
   "cell_type": "code",
   "execution_count": 114,
   "metadata": {},
   "outputs": [],
   "source": [
    "# Making predictions using the trained TF-IDF and Random Forest model for the original training set\n",
    "y_pred_train = model_tfidf_rf.predict(X_train)\n",
    "\n",
    "# Making predictions using the trained TF-IDF and Random Forest model for the original test set\n",
    "y_pred_test = model_tfidf_rf.predict(X_test)\n",
    "\n",
    "# Making predictions using the trained TF-IDF and Random Forest model for the merged training set\n",
    "y_pred_train_merged = model_tfidf_rf_merged.predict(X_train_merged)\n",
    "\n",
    "# Making predictions using the trained TF-IDF and Random Forest model for the merged test set\n",
    "y_pred_test_merged = model_tfidf_rf_merged.predict(X_test_merged)"
   ]
  },
  {
   "cell_type": "code",
   "execution_count": 115,
   "metadata": {},
   "outputs": [
    {
     "name": "stdout",
     "output_type": "stream",
     "text": [
      "classification_report train original\n",
      "                                                              precision    recall  f1-score   support\n",
      "\n",
      "                                          Afhentning i butik       1.00      1.00      1.00         4\n",
      "                                        Annullering af ordre       1.00      1.00      1.00         4\n",
      "                                          Bestilling i butik       1.00      1.00      1.00         2\n",
      "                                         Betaling med Klarna       1.00      1.00      1.00         4\n",
      "                                         Betalingsmuligheder       1.00      1.00      1.00         2\n",
      "                                     Defekt produkt modtaget       1.00      1.00      1.00         4\n",
      "                                                     Erhverv       1.00      1.00      1.00         3\n",
      "                                    Forkert produkt modtaget       1.00      1.00      1.00         4\n",
      "                                                    Gavekort       0.40      1.00      0.57         2\n",
      "       Hvor kan man købe produkter fra Shaping New Tomorrow?       1.00      1.00      1.00         4\n",
      "                       Hvornår modtager jeg min refundering?       1.00      0.50      0.67         4\n",
      "Kan jeg få besked, når en udsolgt vare kommer på lager igen?       1.00      1.00      1.00         2\n",
      "                                        Levering i weekenden       1.00      1.00      1.00         3\n",
      "                                      Leveringsinformationer       1.00      0.75      0.86         4\n",
      "                                         Leveringsmuligheder       1.00      1.00      1.00         3\n",
      "                           Leveringsmuligheder - DHL Express       1.00      1.00      1.00         1\n",
      "                         Leveringsmuligheder - GLS Pakkeshop       1.00      1.00      1.00         2\n",
      "                    Leveringsmuligheder - GLS Privatlevering       1.00      1.00      1.00         2\n",
      "                               Leveringstid bestilling butik       1.00      1.00      1.00         1\n",
      "                                                      Lynlås       1.00      1.00      1.00         3\n",
      "                             Manglende produkter i min ordre       1.00      1.00      1.00         3\n",
      "            Ombytning eller returnering af gave købt i butik       1.00      1.00      1.00         3\n",
      "             Ombytning eller returnering af gave købt online       1.00      1.00      1.00         3\n",
      "                              Ordrebekræftelse ikke modtaget       1.00      1.00      1.00         3\n",
      "                                 Ordrenummer ved returnering       1.00      1.00      1.00         2\n",
      "                                                 Refundering       0.71      1.00      0.83         5\n",
      "                         Returnering af bestilling fra butik       1.00      1.00      1.00         1\n",
      "             Returnering af produkter fra forskellige ordrer       1.00      1.00      1.00         4\n",
      "                     Returnering fra fysisk butik til online       1.00      1.00      1.00         2\n",
      "                                              Spor min ordre       1.00      1.00      1.00         4\n",
      "         Sådan indtaster du din rabatkode eller dit gavekort       1.00      0.50      0.67         6\n",
      "                                        Told- og importgebyr       1.00      1.00      1.00         2\n",
      "                                        Vaske- og Care Guide       0.67      0.67      0.67         3\n",
      "                                                   baglommer       1.00      1.00      1.00         1\n",
      "                                                      farvel       1.00      1.00      1.00         3\n",
      "                                                      hilsen       0.80      1.00      0.89         4\n",
      "                                                        moms       1.00      1.00      1.00         3\n",
      "                                         regular og slim fit       1.00      1.00      1.00         3\n",
      "                                                 reklamation       0.80      0.80      0.80         5\n",
      "                                              skrædderpriser       0.75      1.00      0.86         3\n",
      "                                                   store lår       0.80      1.00      0.89         4\n",
      "                                            størrelsesguides       1.00      0.33      0.50         3\n",
      "                                                        svar       1.00      1.00      1.00         1\n",
      "                                                         tak       1.00      1.00      1.00         3\n",
      "                                            Ændring af ordre       1.00      1.00      1.00         1\n",
      "\n",
      "                                                    accuracy                           0.92       133\n",
      "                                                   macro avg       0.95      0.95      0.94       133\n",
      "                                                weighted avg       0.95      0.92      0.92       133\n",
      "\n"
     ]
    }
   ],
   "source": [
    "# Printing the classification report for predictions on the original training set\n",
    "print(\"classification_report train original\")\n",
    "print(classification_report(y_train, y_pred_train))"
   ]
  },
  {
   "cell_type": "code",
   "execution_count": 116,
   "metadata": {},
   "outputs": [
    {
     "name": "stdout",
     "output_type": "stream",
     "text": [
      "classification_report test original\n",
      "                                                              precision    recall  f1-score   support\n",
      "\n",
      "                                        Annullering af ordre       0.00      0.00      0.00         0\n",
      "                                          Bestilling i butik       1.00      1.00      1.00         3\n",
      "                                         Betalingsmuligheder       1.00      1.00      1.00         1\n",
      "                                                     Erhverv       1.00      1.00      1.00         1\n",
      "                                                    Gavekort       1.00      1.00      1.00         1\n",
      "Kan jeg få besked, når en udsolgt vare kommer på lager igen?       1.00      1.00      1.00         1\n",
      "                                        Levering i weekenden       1.00      1.00      1.00         1\n",
      "                                         Leveringsmuligheder       1.00      1.00      1.00         1\n",
      "                           Leveringsmuligheder - DHL Express       1.00      1.00      1.00         1\n",
      "                           Leveringsmuligheder - GLS Erhverv       1.00      1.00      1.00         2\n",
      "                             Manglende produkter i min ordre       1.00      1.00      1.00         1\n",
      "            Ombytning eller returnering af gave købt i butik       0.50      1.00      0.67         1\n",
      "             Ombytning eller returnering af gave købt online       0.00      0.00      0.00         1\n",
      "                              Ordrebekræftelse ikke modtaget       1.00      1.00      1.00         1\n",
      "                                 Ordrenummer ved returnering       1.00      1.00      1.00         2\n",
      "                         Returnering af bestilling fra butik       1.00      1.00      1.00         2\n",
      "                     Returnering fra fysisk butik til online       1.00      1.00      1.00         2\n",
      "                                        Told- og importgebyr       1.00      1.00      1.00         2\n",
      "                                        Vaske- og Care Guide       1.00      1.00      1.00         1\n",
      "                                                   baglommer       1.00      1.00      1.00         2\n",
      "                                                        moms       1.00      1.00      1.00         2\n",
      "                                              skrædderpriser       1.00      1.00      1.00         1\n",
      "                                                         tak       1.00      1.00      1.00         1\n",
      "                                            Ændring af ordre       1.00      0.67      0.80         3\n",
      "\n",
      "                                                    accuracy                           0.94        34\n",
      "                                                   macro avg       0.90      0.90      0.89        34\n",
      "                                                weighted avg       0.96      0.94      0.94        34\n",
      "\n"
     ]
    }
   ],
   "source": [
    "# Printing the classification report for predictions on the original test set\n",
    "print(\"classification_report test original\")\n",
    "print(classification_report(y_test, y_pred_test))"
   ]
  },
  {
   "cell_type": "code",
   "execution_count": 117,
   "metadata": {},
   "outputs": [
    {
     "name": "stdout",
     "output_type": "stream",
     "text": [
      "classification_report train merged\n",
      "                                                              precision    recall  f1-score   support\n",
      "\n",
      "                                          Afhentning i butik       1.00      1.00      1.00         7\n",
      "                                        Annullering af ordre       1.00      1.00      1.00         7\n",
      "                                          Bestilling i butik       1.00      1.00      1.00         7\n",
      "                                         Betaling med Klarna       1.00      1.00      1.00         3\n",
      "                                         Betalingsmuligheder       1.00      1.00      1.00         3\n",
      "                                     Defekt produkt modtaget       1.00      1.00      1.00         7\n",
      "                                                     Erhverv       1.00      1.00      1.00         4\n",
      "                                    Forkert produkt modtaget       1.00      1.00      1.00         8\n",
      "                                                    Gavekort       1.00      1.00      1.00         3\n",
      "       Hvor kan man købe produkter fra Shaping New Tomorrow?       1.00      1.00      1.00         4\n",
      "                       Hvornår modtager jeg min refundering?       1.00      1.00      1.00         5\n",
      "Kan jeg få besked, når en udsolgt vare kommer på lager igen?       1.00      1.00      1.00         2\n",
      "                                        Levering i weekenden       1.00      1.00      1.00         5\n",
      "                                      Leveringsinformationer       1.00      1.00      1.00         5\n",
      "                                         Leveringsmuligheder       1.00      1.00      1.00         8\n",
      "                           Leveringsmuligheder - DHL Express       1.00      1.00      1.00         3\n",
      "                           Leveringsmuligheder - GLS Erhverv       1.00      1.00      1.00         4\n",
      "                         Leveringsmuligheder - GLS Pakkeshop       1.00      1.00      1.00         4\n",
      "                    Leveringsmuligheder - GLS Privatlevering       1.00      1.00      1.00         4\n",
      "                               Leveringstid bestilling butik       1.00      1.00      1.00         2\n",
      "                                                      Lynlås       1.00      1.00      1.00         3\n",
      "                             Manglende produkter i min ordre       1.00      1.00      1.00         6\n",
      "            Ombytning eller returnering af gave købt i butik       1.00      1.00      1.00         6\n",
      "             Ombytning eller returnering af gave købt online       1.00      1.00      1.00         4\n",
      "                              Ordrebekræftelse ikke modtaget       1.00      1.00      1.00         7\n",
      "                                 Ordrenummer ved returnering       1.00      1.00      1.00         3\n",
      "                                                 Refundering       1.00      1.00      1.00         9\n",
      "                         Returnering af bestilling fra butik       1.00      1.00      1.00         4\n",
      "             Returnering af produkter fra forskellige ordrer       1.00      1.00      1.00         7\n",
      "                     Returnering fra fysisk butik til online       1.00      1.00      1.00         3\n",
      "                                              Spor min ordre       1.00      1.00      1.00         7\n",
      "         Sådan indtaster du din rabatkode eller dit gavekort       1.00      1.00      1.00         2\n",
      "                                        Told- og importgebyr       1.00      1.00      1.00         6\n",
      "                                        Vaske- og Care Guide       1.00      1.00      1.00         3\n",
      "                                                   baglommer       1.00      1.00      1.00         3\n",
      "                                                      farvel       1.00      1.00      1.00         4\n",
      "                                                      hilsen       1.00      1.00      1.00         8\n",
      "                                                        moms       1.00      1.00      1.00         5\n",
      "                                         regular og slim fit       1.00      1.00      1.00         2\n",
      "                                                 reklamation       1.00      1.00      1.00         4\n",
      "                                              skrædderpriser       1.00      1.00      1.00         4\n",
      "                                                   store lår       1.00      1.00      1.00         3\n",
      "                                            størrelsesguides       1.00      1.00      1.00         1\n",
      "                                                        svar       1.00      1.00      1.00         2\n",
      "                                                         tak       1.00      1.00      1.00         5\n",
      "                                            Ændring af ordre       1.00      1.00      1.00         6\n",
      "\n",
      "                                                    accuracy                           1.00       212\n",
      "                                                   macro avg       1.00      1.00      1.00       212\n",
      "                                                weighted avg       1.00      1.00      1.00       212\n",
      "\n"
     ]
    }
   ],
   "source": [
    "# Printing the classification report for predictions on the merged training set\n",
    "print(\"classification_report train merged\")\n",
    "print(classification_report(y_train_merged, y_pred_train_merged))"
   ]
  },
  {
   "cell_type": "code",
   "execution_count": 118,
   "metadata": {},
   "outputs": [
    {
     "name": "stdout",
     "output_type": "stream",
     "text": [
      "classification_report test merged\n",
      "                                                              precision    recall  f1-score   support\n",
      "\n",
      "                                          Afhentning i butik       1.00      1.00      1.00         1\n",
      "                                        Annullering af ordre       0.33      1.00      0.50         1\n",
      "                                          Bestilling i butik       1.00      0.67      0.80         3\n",
      "                                         Betaling med Klarna       1.00      1.00      1.00         1\n",
      "                                     Defekt produkt modtaget       1.00      1.00      1.00         1\n",
      "                                                    Gavekort       0.00      0.00      0.00         0\n",
      "                       Hvornår modtager jeg min refundering?       0.00      0.00      0.00         3\n",
      "Kan jeg få besked, når en udsolgt vare kommer på lager igen?       1.00      1.00      1.00         1\n",
      "                                        Levering i weekenden       1.00      1.00      1.00         3\n",
      "                                      Leveringsinformationer       0.50      0.33      0.40         3\n",
      "                           Leveringsmuligheder - DHL Express       1.00      1.00      1.00         1\n",
      "                             Manglende produkter i min ordre       1.00      1.00      1.00         2\n",
      "            Ombytning eller returnering af gave købt i butik       0.50      1.00      0.67         2\n",
      "             Ombytning eller returnering af gave købt online       1.00      0.50      0.67         4\n",
      "                              Ordrebekræftelse ikke modtaget       1.00      1.00      1.00         1\n",
      "                                 Ordrenummer ved returnering       1.00      1.00      1.00         1\n",
      "                                                 Refundering       0.00      0.00      0.00         1\n",
      "                         Returnering af bestilling fra butik       1.00      1.00      1.00         2\n",
      "             Returnering af produkter fra forskellige ordrer       1.00      1.00      1.00         1\n",
      "                     Returnering fra fysisk butik til online       1.00      1.00      1.00         1\n",
      "                                              Spor min ordre       1.00      1.00      1.00         1\n",
      "         Sådan indtaster du din rabatkode eller dit gavekort       1.00      0.25      0.40         4\n",
      "                                        Told- og importgebyr       1.00      1.00      1.00         2\n",
      "                                        Vaske- og Care Guide       0.00      0.00      0.00         1\n",
      "                                                      farvel       1.00      0.50      0.67         2\n",
      "                                                      hilsen       0.00      0.00      0.00         0\n",
      "                                         regular og slim fit       1.00      1.00      1.00         1\n",
      "                                                 reklamation       0.00      0.00      0.00         1\n",
      "                                              skrædderpriser       0.00      0.00      0.00         0\n",
      "                                                   store lår       0.50      1.00      0.67         1\n",
      "                                            størrelsesguides       0.00      0.00      0.00         2\n",
      "                                                         tak       1.00      1.00      1.00         3\n",
      "                                            Ændring af ordre       0.00      0.00      0.00         2\n",
      "\n",
      "                                                    accuracy                           0.64        53\n",
      "                                                   macro avg       0.66      0.64      0.63        53\n",
      "                                                weighted avg       0.74      0.64      0.65        53\n",
      "\n"
     ]
    }
   ],
   "source": [
    "# Printing the classification report for predictions on the merged test set\n",
    "print(\"classification_report test merged\")\n",
    "print(classification_report(y_test_merged, y_pred_test_merged))"
   ]
  },
  {
   "cell_type": "code",
   "execution_count": 119,
   "metadata": {},
   "outputs": [
    {
     "name": "stdout",
     "output_type": "stream",
     "text": [
      "Accuracy Score for for train: 0.92481\n",
      "Accuracy Score for for test: 0.94118\n",
      "Accuracy Score for train merged: 1.00000\n",
      "Accuracy Score for test merged: 0.64151\n",
      "Precision Score for for train: 0.94753\n",
      "Precision Score for for test: 0.95588\n",
      "Precision Score for train merged: 1.00000\n",
      "Precision Score for test merged: 0.74214\n",
      "Recall Score for for train: 0.92481\n",
      "Recall Score for for test: 0.94118\n",
      "Recall Score for train merged: 1.00000\n",
      "Recall Score for test merged: 0.64151\n",
      "F1 Score for for train: 0.92171\n",
      "F1 Score for for test: 0.94314\n",
      "F1 Score for train merged: 1.00000\n",
      "F1 Score for test merged: 0.65472\n"
     ]
    }
   ],
   "source": [
    "# Calculating and printing the accuracy score for the original training set\n",
    "print('Accuracy Score for for train: %.5f'%accuracy_score(y_train, y_pred_train))\n",
    "\n",
    "# Calculating and printing the accuracy score for the original test set\n",
    "print('Accuracy Score for for test: %.5f'%accuracy_score(y_test, y_pred_test))\n",
    "\n",
    "# Calculating and printing the accuracy score for the merged training set\n",
    "print('Accuracy Score for train merged: %.5f'%accuracy_score(y_train_merged, y_pred_train_merged))\n",
    "\n",
    "# Calculating and printing the accuracy score for the merged test set\n",
    "print('Accuracy Score for test merged: %.5f'%accuracy_score(y_test_merged, y_pred_test_merged))\n",
    "\n",
    "# Calculating and printing the precision score for the original training set\n",
    "print('Precision Score for for train: %.5f'%precision_score(y_train, y_pred_train, average='weighted'))\n",
    "\n",
    "# Calculating and printing the precision score for the original test set\n",
    "print('Precision Score for for test: %.5f'%precision_score(y_test, y_pred_test, average='weighted'))\n",
    "\n",
    "# Calculating and printing the precision score for the merged training set\n",
    "print('Precision Score for train merged: %.5f'%precision_score(y_train_merged, y_pred_train_merged, average='weighted'))\n",
    "\n",
    "# Calculating and printing the precision score for the merged test set\n",
    "print('Precision Score for test merged: %.5f'%precision_score(y_test_merged, y_pred_test_merged, average='weighted'))\n",
    "\n",
    "# Calculating and printing the recall score for the original training set\n",
    "print('Recall Score for for train: %.5f'%recall_score(y_train, y_pred_train, average='weighted'))\n",
    "\n",
    "# Calculating and printing the recall score for the original test set\n",
    "print('Recall Score for for test: %.5f'%recall_score(y_test, y_pred_test, average='weighted'))\n",
    "\n",
    "# Calculating and printing the recall score for the merged training set\n",
    "print('Recall Score for train merged: %.5f'%recall_score(y_train_merged, y_pred_train_merged, average='weighted'))\n",
    "\n",
    "# Calculating and printing the recall score for the merged test set\n",
    "print('Recall Score for test merged: %.5f'%recall_score(y_test_merged, y_pred_test_merged, average='weighted'))\n",
    "\n",
    "# Calculating and printing the f1 score for the original training set\n",
    "print('F1 Score for for train: %.5f'%f1_score(y_train, y_pred_train, average='weighted'))\n",
    "\n",
    "# Calculating and printing the f1 score for the original test set\n",
    "print('F1 Score for for test: %.5f'%f1_score(y_test, y_pred_test, average='weighted'))\n",
    "\n",
    "# Calculating and printing the f1 score for the merged training set\n",
    "print('F1 Score for train merged: %.5f'%f1_score(y_train_merged, y_pred_train_merged, average='weighted'))\n",
    "\n",
    "# Calculating and printing the f1 score for the merged test set\n",
    "print('F1 Score for test merged: %.5f'%f1_score(y_test_merged, y_pred_test_merged, average='weighted'))"
   ]
  },
  {
   "cell_type": "code",
   "execution_count": 120,
   "metadata": {},
   "outputs": [],
   "source": [
    "model_tfidf_rf_scores = {\n",
    "    'Train Accuracy (Original)': accuracy_score(y_train, y_pred_train),\n",
    "    'Test Accuracy (Original)': accuracy_score(y_test, y_pred_test),\n",
    "    'Train Accuracy (Merged)': accuracy_score(y_train_merged, y_pred_train_merged),\n",
    "    'Test Accuracy (Merged)': accuracy_score(y_test_merged, y_pred_test_merged),\n",
    "\n",
    "    'Train Precision (Original)': precision_score(y_train, y_pred_train, average='weighted'),\n",
    "    'Test Precision (Original)': precision_score(y_test, y_pred_test, average='weighted'),\n",
    "    'Train Precision (Merged)': precision_score(y_train_merged, y_pred_train_merged, average='weighted'),\n",
    "    'Test Precision (Merged)': precision_score(y_test_merged, y_pred_test_merged, average='weighted'),\n",
    "\n",
    "    'Train Recall (Original)': recall_score(y_train, y_pred_train, average='weighted'),\n",
    "    'Test Recall (Original)': recall_score(y_test, y_pred_test, average='weighted'),\n",
    "    'Train Recall (Merged)': recall_score(y_train_merged, y_pred_train_merged, average='weighted'),\n",
    "    'Test Recall (Merged)': recall_score(y_test_merged, y_pred_test_merged, average='weighted'),\n",
    "\n",
    "    'Train F1 Score (Original)': f1_score(y_train, y_pred_train, average='weighted'),\n",
    "    'Test F1 Score (Original)': f1_score(y_test, y_pred_test, average='weighted'),\n",
    "    'Train F1 Score (Merged)': f1_score(y_train_merged, y_pred_train_merged, average='weighted'),\n",
    "    'Test F1 Score (Merged)': f1_score(y_test_merged, y_pred_test_merged, average='weighted')\n",
    "}"
   ]
  },
  {
   "cell_type": "markdown",
   "metadata": {},
   "source": [
    "# Hyperparameter Tuning"
   ]
  },
  {
   "cell_type": "markdown",
   "metadata": {},
   "source": [
    "## Word2Vec pipelines"
   ]
  },
  {
   "cell_type": "markdown",
   "metadata": {},
   "source": [
    "### Hyperparameter tuning Logistic Regression"
   ]
  },
  {
   "cell_type": "code",
   "execution_count": 121,
   "metadata": {},
   "outputs": [],
   "source": [
    "# Hyperparameters to tune for Logistic Regression \n",
    "params_w2v_lr = {\n",
    "    'penalty': ['l1', 'l2', 'elasticnet', 'none'],      # Regularization penalty (norm used in the penalization)\n",
    "    'C': [0.01, 0.1, 0.3, 0.5, 1.0],                    # Inverse of regularization strength; smaller values specify stronger regularization\n",
    "    'solver': ['lbfgs', 'newton-cg', 'sag', 'saga'],    # Optimization algorithms for logistic regression\n",
    "    'random_state': [42]                                # Random seed for reproducibility\n",
    "}"
   ]
  },
  {
   "cell_type": "code",
   "execution_count": 122,
   "metadata": {},
   "outputs": [],
   "source": [
    "# GridSearchCV instantiation for hyperparameter tuning on the original dataset\n",
    "model_w2v_lr_grid = GridSearchCV(estimator=model_w2v_lr, param_grid=params_w2v_lr)\n",
    "\n",
    "# GridSearchCV instantiation for hyperparameter tuning on the merged dataset\n",
    "model_w2v_lr_grid_merged = GridSearchCV(estimator=model_w2v_lr_merged, param_grid=params_w2v_lr)"
   ]
  },
  {
   "cell_type": "code",
   "execution_count": 123,
   "metadata": {},
   "outputs": [
    {
     "data": {
      "text/html": [
       "<style>#sk-container-id-9 {color: black;}#sk-container-id-9 pre{padding: 0;}#sk-container-id-9 div.sk-toggleable {background-color: white;}#sk-container-id-9 label.sk-toggleable__label {cursor: pointer;display: block;width: 100%;margin-bottom: 0;padding: 0.3em;box-sizing: border-box;text-align: center;}#sk-container-id-9 label.sk-toggleable__label-arrow:before {content: \"▸\";float: left;margin-right: 0.25em;color: #696969;}#sk-container-id-9 label.sk-toggleable__label-arrow:hover:before {color: black;}#sk-container-id-9 div.sk-estimator:hover label.sk-toggleable__label-arrow:before {color: black;}#sk-container-id-9 div.sk-toggleable__content {max-height: 0;max-width: 0;overflow: hidden;text-align: left;background-color: #f0f8ff;}#sk-container-id-9 div.sk-toggleable__content pre {margin: 0.2em;color: black;border-radius: 0.25em;background-color: #f0f8ff;}#sk-container-id-9 input.sk-toggleable__control:checked~div.sk-toggleable__content {max-height: 200px;max-width: 100%;overflow: auto;}#sk-container-id-9 input.sk-toggleable__control:checked~label.sk-toggleable__label-arrow:before {content: \"▾\";}#sk-container-id-9 div.sk-estimator input.sk-toggleable__control:checked~label.sk-toggleable__label {background-color: #d4ebff;}#sk-container-id-9 div.sk-label input.sk-toggleable__control:checked~label.sk-toggleable__label {background-color: #d4ebff;}#sk-container-id-9 input.sk-hidden--visually {border: 0;clip: rect(1px 1px 1px 1px);clip: rect(1px, 1px, 1px, 1px);height: 1px;margin: -1px;overflow: hidden;padding: 0;position: absolute;width: 1px;}#sk-container-id-9 div.sk-estimator {font-family: monospace;background-color: #f0f8ff;border: 1px dotted black;border-radius: 0.25em;box-sizing: border-box;margin-bottom: 0.5em;}#sk-container-id-9 div.sk-estimator:hover {background-color: #d4ebff;}#sk-container-id-9 div.sk-parallel-item::after {content: \"\";width: 100%;border-bottom: 1px solid gray;flex-grow: 1;}#sk-container-id-9 div.sk-label:hover label.sk-toggleable__label {background-color: #d4ebff;}#sk-container-id-9 div.sk-serial::before {content: \"\";position: absolute;border-left: 1px solid gray;box-sizing: border-box;top: 0;bottom: 0;left: 50%;z-index: 0;}#sk-container-id-9 div.sk-serial {display: flex;flex-direction: column;align-items: center;background-color: white;padding-right: 0.2em;padding-left: 0.2em;position: relative;}#sk-container-id-9 div.sk-item {position: relative;z-index: 1;}#sk-container-id-9 div.sk-parallel {display: flex;align-items: stretch;justify-content: center;background-color: white;position: relative;}#sk-container-id-9 div.sk-item::before, #sk-container-id-9 div.sk-parallel-item::before {content: \"\";position: absolute;border-left: 1px solid gray;box-sizing: border-box;top: 0;bottom: 0;left: 50%;z-index: -1;}#sk-container-id-9 div.sk-parallel-item {display: flex;flex-direction: column;z-index: 1;position: relative;background-color: white;}#sk-container-id-9 div.sk-parallel-item:first-child::after {align-self: flex-end;width: 50%;}#sk-container-id-9 div.sk-parallel-item:last-child::after {align-self: flex-start;width: 50%;}#sk-container-id-9 div.sk-parallel-item:only-child::after {width: 0;}#sk-container-id-9 div.sk-dashed-wrapped {border: 1px dashed gray;margin: 0 0.4em 0.5em 0.4em;box-sizing: border-box;padding-bottom: 0.4em;background-color: white;}#sk-container-id-9 div.sk-label label {font-family: monospace;font-weight: bold;display: inline-block;line-height: 1.2em;}#sk-container-id-9 div.sk-label-container {text-align: center;}#sk-container-id-9 div.sk-container {/* jupyter's `normalize.less` sets `[hidden] { display: none; }` but bootstrap.min.css set `[hidden] { display: none !important; }` so we also need the `!important` here to be able to override the default hidden behavior on the sphinx rendered scikit-learn.org. See: https://github.com/scikit-learn/scikit-learn/issues/21755 */display: inline-block !important;position: relative;}#sk-container-id-9 div.sk-text-repr-fallback {display: none;}</style><div id=\"sk-container-id-9\" class=\"sk-top-container\"><div class=\"sk-text-repr-fallback\"><pre>GridSearchCV(estimator=LogisticRegression(multi_class=&#x27;multinomial&#x27;),\n",
       "             param_grid={&#x27;C&#x27;: [0.01, 0.1, 0.3, 0.5, 1.0],\n",
       "                         &#x27;penalty&#x27;: [&#x27;l1&#x27;, &#x27;l2&#x27;, &#x27;elasticnet&#x27;, &#x27;none&#x27;],\n",
       "                         &#x27;random_state&#x27;: [42],\n",
       "                         &#x27;solver&#x27;: [&#x27;lbfgs&#x27;, &#x27;newton-cg&#x27;, &#x27;sag&#x27;, &#x27;saga&#x27;]})</pre><b>In a Jupyter environment, please rerun this cell to show the HTML representation or trust the notebook. <br />On GitHub, the HTML representation is unable to render, please try loading this page with nbviewer.org.</b></div><div class=\"sk-container\" hidden><div class=\"sk-item sk-dashed-wrapped\"><div class=\"sk-label-container\"><div class=\"sk-label sk-toggleable\"><input class=\"sk-toggleable__control sk-hidden--visually\" id=\"sk-estimator-id-17\" type=\"checkbox\" ><label for=\"sk-estimator-id-17\" class=\"sk-toggleable__label sk-toggleable__label-arrow\">GridSearchCV</label><div class=\"sk-toggleable__content\"><pre>GridSearchCV(estimator=LogisticRegression(multi_class=&#x27;multinomial&#x27;),\n",
       "             param_grid={&#x27;C&#x27;: [0.01, 0.1, 0.3, 0.5, 1.0],\n",
       "                         &#x27;penalty&#x27;: [&#x27;l1&#x27;, &#x27;l2&#x27;, &#x27;elasticnet&#x27;, &#x27;none&#x27;],\n",
       "                         &#x27;random_state&#x27;: [42],\n",
       "                         &#x27;solver&#x27;: [&#x27;lbfgs&#x27;, &#x27;newton-cg&#x27;, &#x27;sag&#x27;, &#x27;saga&#x27;]})</pre></div></div></div><div class=\"sk-parallel\"><div class=\"sk-parallel-item\"><div class=\"sk-item\"><div class=\"sk-label-container\"><div class=\"sk-label sk-toggleable\"><input class=\"sk-toggleable__control sk-hidden--visually\" id=\"sk-estimator-id-18\" type=\"checkbox\" ><label for=\"sk-estimator-id-18\" class=\"sk-toggleable__label sk-toggleable__label-arrow\">estimator: LogisticRegression</label><div class=\"sk-toggleable__content\"><pre>LogisticRegression(multi_class=&#x27;multinomial&#x27;)</pre></div></div></div><div class=\"sk-serial\"><div class=\"sk-item\"><div class=\"sk-estimator sk-toggleable\"><input class=\"sk-toggleable__control sk-hidden--visually\" id=\"sk-estimator-id-19\" type=\"checkbox\" ><label for=\"sk-estimator-id-19\" class=\"sk-toggleable__label sk-toggleable__label-arrow\">LogisticRegression</label><div class=\"sk-toggleable__content\"><pre>LogisticRegression(multi_class=&#x27;multinomial&#x27;)</pre></div></div></div></div></div></div></div></div></div></div>"
      ],
      "text/plain": [
       "GridSearchCV(estimator=LogisticRegression(multi_class='multinomial'),\n",
       "             param_grid={'C': [0.01, 0.1, 0.3, 0.5, 1.0],\n",
       "                         'penalty': ['l1', 'l2', 'elasticnet', 'none'],\n",
       "                         'random_state': [42],\n",
       "                         'solver': ['lbfgs', 'newton-cg', 'sag', 'saga']})"
      ]
     },
     "execution_count": 123,
     "metadata": {},
     "output_type": "execute_result"
    }
   ],
   "source": [
    "# Fitting the GridSearchCV for hyperparameter tuning on the original training set using Logistic Regression\n",
    "model_w2v_lr_grid.fit(X_train_W2V, y_train)\n",
    "\n",
    "# Fitting the GridSearchCV for hyperparameter tuning on the merged training set using Logistic Regression\n",
    "model_w2v_lr_grid_merged.fit(X_train_merged_W2V, y_train_merged)"
   ]
  },
  {
   "cell_type": "code",
   "execution_count": 124,
   "metadata": {},
   "outputs": [
    {
     "name": "stdout",
     "output_type": "stream",
     "text": [
      "Train Accuracy : 0.985\n",
      "Test Accuracy : 0.471\n",
      "Merged Train Accuracy : 0.981\n",
      "Merged Test Accuracy : 0.679\n",
      "Best Accuracy Through Grid Search : 0.541\n",
      "Merged Best Accuracy Through Grid Search : 0.541\n",
      "Best Parameters :  {'C': 0.01, 'penalty': 'none', 'random_state': 42, 'solver': 'newton-cg'}\n",
      "Merged Best Parameters :  {'C': 0.01, 'penalty': 'none', 'random_state': 42, 'solver': 'newton-cg'}\n"
     ]
    }
   ],
   "source": [
    "# Printing various accuracy scores and best parameters obtained from GridSearchCV for logistic regression\n",
    "\n",
    "# Training and Test accuracy for the best estimator found in the original dataset\n",
    "print('Train Accuracy : %.3f' % model_w2v_lr_grid.best_estimator_.score(X_train_W2V, y_train))\n",
    "print('Test Accuracy : %.3f' % model_w2v_lr_grid.best_estimator_.score(X_test_W2V, y_test))\n",
    "\n",
    "# Training and Test accuracy for the best estimator found in the merged dataset\n",
    "print('Merged Train Accuracy : %.3f' % model_w2v_lr_grid_merged.best_estimator_.score(X_train_merged_W2V, y_train_merged))\n",
    "print('Merged Test Accuracy : %.3f' % model_w2v_lr_grid_merged.best_estimator_.score(X_test_merged_W2V, y_test_merged))\n",
    "\n",
    "# Best accuracy found through GridSearchCV for the original dataset\n",
    "print('Best Accuracy Through Grid Search : %.3f' % model_w2v_lr_grid.best_score_)\n",
    "\n",
    "# Best accuracy found through GridSearchCV for the merged dataset\n",
    "print('Merged Best Accuracy Through Grid Search : %.3f' % model_w2v_lr_grid.best_score_)\n",
    "\n",
    "# Best hyperparameters found through GridSearchCV for the original dataset\n",
    "print('Best Parameters : ', model_w2v_lr_grid.best_params_)\n",
    "\n",
    "# Best hyperparameters found through GridSearchCV for the merged dataset\n",
    "print('Merged Best Parameters : ', model_w2v_lr_grid.best_params_)"
   ]
  },
  {
   "cell_type": "code",
   "execution_count": 125,
   "metadata": {},
   "outputs": [],
   "source": [
    "model_w2v_lr_tuning_scores = {\n",
    "    'Train Accuracy (Original)': model_w2v_lr_grid.best_estimator_.score(X_train_W2V, y_train),\n",
    "    'Test Accuracy (Original)': model_w2v_lr_grid.best_estimator_.score(X_test_W2V, y_test),\n",
    "    'Train Accuracy (Merged)': model_w2v_lr_grid_merged.best_estimator_.score(X_train_merged_W2V, y_train_merged),\n",
    "    'Test Accuracy (Merged)': model_w2v_lr_grid_merged.best_estimator_.score(X_test_merged_W2V, y_test_merged),\n",
    "\n",
    "    'Train Precision (Original)': precision_score(y_train, model_w2v_lr_grid.best_estimator_.predict(X_train_W2V), average='weighted'),\n",
    "    'Test Precision (Original)': precision_score(y_test, model_w2v_lr_grid.best_estimator_.predict(X_test_W2V), average='weighted'),\n",
    "    'Train Precision (Merged)': precision_score(y_train_merged, model_w2v_lr_grid_merged.best_estimator_.predict(X_train_merged_W2V), average='weighted'),\n",
    "    'Test Precision (Merged)': precision_score(y_test_merged, model_w2v_lr_grid_merged.best_estimator_.predict(X_test_merged_W2V), average='weighted'),\n",
    "\n",
    "    'Train Recall (Original)': recall_score(y_train, model_w2v_lr_grid.best_estimator_.predict(X_train_W2V), average='weighted'),\n",
    "    'Test Recall (Original)': recall_score(y_test, model_w2v_lr_grid.best_estimator_.predict(X_test_W2V), average='weighted'),\n",
    "    'Train Recall (Merged)': recall_score(y_train_merged, model_w2v_lr_grid_merged.best_estimator_.predict(X_train_merged_W2V), average='weighted'),\n",
    "    'Test Recall (Merged)': recall_score(y_test_merged, model_w2v_lr_grid_merged.best_estimator_.predict(X_test_merged_W2V), average='weighted'),\n",
    "\n",
    "    'Train F1 Score (Original)': f1_score(y_train, model_w2v_lr_grid.best_estimator_.predict(X_train_W2V), average='weighted'),\n",
    "    'Test F1 Score (Original)': f1_score(y_test, model_w2v_lr_grid.best_estimator_.predict(X_test_W2V), average='weighted'),\n",
    "    'Train F1 Score (Merged)': f1_score(y_train_merged, model_w2v_lr_grid_merged.best_estimator_.predict(X_train_merged_W2V), average='weighted'),\n",
    "    'Test F1 Score (Merged)': f1_score(y_test_merged, model_w2v_lr_grid_merged.best_estimator_.predict(X_test_merged_W2V), average='weighted')\n",
    "}\n"
   ]
  },
  {
   "cell_type": "code",
   "execution_count": 126,
   "metadata": {},
   "outputs": [
    {
     "data": {
      "text/html": [
       "<div>\n",
       "<style scoped>\n",
       "    .dataframe tbody tr th:only-of-type {\n",
       "        vertical-align: middle;\n",
       "    }\n",
       "\n",
       "    .dataframe tbody tr th {\n",
       "        vertical-align: top;\n",
       "    }\n",
       "\n",
       "    .dataframe thead th {\n",
       "        text-align: right;\n",
       "    }\n",
       "</style>\n",
       "<table border=\"1\" class=\"dataframe\">\n",
       "  <thead>\n",
       "    <tr style=\"text-align: right;\">\n",
       "      <th></th>\n",
       "      <th>W2V - Logistic Regression (Before)</th>\n",
       "      <th>W2V - Logistic Regression (After)</th>\n",
       "      <th>delta</th>\n",
       "    </tr>\n",
       "  </thead>\n",
       "  <tbody>\n",
       "    <tr>\n",
       "      <th>Train Accuracy (Original)</th>\n",
       "      <td>0.984962</td>\n",
       "      <td>0.984962</td>\n",
       "      <td>0.000000</td>\n",
       "    </tr>\n",
       "    <tr>\n",
       "      <th>Test Accuracy (Original)</th>\n",
       "      <td>0.411765</td>\n",
       "      <td>0.470588</td>\n",
       "      <td>0.058824</td>\n",
       "    </tr>\n",
       "    <tr>\n",
       "      <th>Train Accuracy (Merged)</th>\n",
       "      <td>0.981132</td>\n",
       "      <td>0.981132</td>\n",
       "      <td>0.000000</td>\n",
       "    </tr>\n",
       "    <tr>\n",
       "      <th>Test Accuracy (Merged)</th>\n",
       "      <td>0.660377</td>\n",
       "      <td>0.679245</td>\n",
       "      <td>0.018868</td>\n",
       "    </tr>\n",
       "    <tr>\n",
       "      <th>Train Precision (Original)</th>\n",
       "      <td>0.988346</td>\n",
       "      <td>0.988346</td>\n",
       "      <td>0.000000</td>\n",
       "    </tr>\n",
       "    <tr>\n",
       "      <th>Test Precision (Original)</th>\n",
       "      <td>0.455882</td>\n",
       "      <td>0.529412</td>\n",
       "      <td>0.073529</td>\n",
       "    </tr>\n",
       "    <tr>\n",
       "      <th>Train Precision (Merged)</th>\n",
       "      <td>0.985714</td>\n",
       "      <td>0.985714</td>\n",
       "      <td>0.000000</td>\n",
       "    </tr>\n",
       "    <tr>\n",
       "      <th>Test Precision (Merged)</th>\n",
       "      <td>0.693396</td>\n",
       "      <td>0.693396</td>\n",
       "      <td>0.000000</td>\n",
       "    </tr>\n",
       "    <tr>\n",
       "      <th>Train Recall (Original)</th>\n",
       "      <td>0.984962</td>\n",
       "      <td>0.984962</td>\n",
       "      <td>0.000000</td>\n",
       "    </tr>\n",
       "    <tr>\n",
       "      <th>Test Recall (Original)</th>\n",
       "      <td>0.411765</td>\n",
       "      <td>0.470588</td>\n",
       "      <td>0.058824</td>\n",
       "    </tr>\n",
       "    <tr>\n",
       "      <th>Train Recall (Merged)</th>\n",
       "      <td>0.981132</td>\n",
       "      <td>0.981132</td>\n",
       "      <td>0.000000</td>\n",
       "    </tr>\n",
       "    <tr>\n",
       "      <th>Test Recall (Merged)</th>\n",
       "      <td>0.660377</td>\n",
       "      <td>0.679245</td>\n",
       "      <td>0.018868</td>\n",
       "    </tr>\n",
       "    <tr>\n",
       "      <th>Train F1 Score (Original)</th>\n",
       "      <td>0.984628</td>\n",
       "      <td>0.984628</td>\n",
       "      <td>0.000000</td>\n",
       "    </tr>\n",
       "    <tr>\n",
       "      <th>Test F1 Score (Original)</th>\n",
       "      <td>0.403922</td>\n",
       "      <td>0.464706</td>\n",
       "      <td>0.060784</td>\n",
       "    </tr>\n",
       "    <tr>\n",
       "      <th>Train F1 Score (Merged)</th>\n",
       "      <td>0.981505</td>\n",
       "      <td>0.981505</td>\n",
       "      <td>0.000000</td>\n",
       "    </tr>\n",
       "    <tr>\n",
       "      <th>Test F1 Score (Merged)</th>\n",
       "      <td>0.659119</td>\n",
       "      <td>0.671698</td>\n",
       "      <td>0.012579</td>\n",
       "    </tr>\n",
       "  </tbody>\n",
       "</table>\n",
       "</div>"
      ],
      "text/plain": [
       "                            W2V - Logistic Regression (Before)  \\\n",
       "Train Accuracy (Original)                             0.984962   \n",
       "Test Accuracy (Original)                              0.411765   \n",
       "Train Accuracy (Merged)                               0.981132   \n",
       "Test Accuracy (Merged)                                0.660377   \n",
       "Train Precision (Original)                            0.988346   \n",
       "Test Precision (Original)                             0.455882   \n",
       "Train Precision (Merged)                              0.985714   \n",
       "Test Precision (Merged)                               0.693396   \n",
       "Train Recall (Original)                               0.984962   \n",
       "Test Recall (Original)                                0.411765   \n",
       "Train Recall (Merged)                                 0.981132   \n",
       "Test Recall (Merged)                                  0.660377   \n",
       "Train F1 Score (Original)                             0.984628   \n",
       "Test F1 Score (Original)                              0.403922   \n",
       "Train F1 Score (Merged)                               0.981505   \n",
       "Test F1 Score (Merged)                                0.659119   \n",
       "\n",
       "                            W2V - Logistic Regression (After)     delta  \n",
       "Train Accuracy (Original)                            0.984962  0.000000  \n",
       "Test Accuracy (Original)                             0.470588  0.058824  \n",
       "Train Accuracy (Merged)                              0.981132  0.000000  \n",
       "Test Accuracy (Merged)                               0.679245  0.018868  \n",
       "Train Precision (Original)                           0.988346  0.000000  \n",
       "Test Precision (Original)                            0.529412  0.073529  \n",
       "Train Precision (Merged)                             0.985714  0.000000  \n",
       "Test Precision (Merged)                              0.693396  0.000000  \n",
       "Train Recall (Original)                              0.984962  0.000000  \n",
       "Test Recall (Original)                               0.470588  0.058824  \n",
       "Train Recall (Merged)                                0.981132  0.000000  \n",
       "Test Recall (Merged)                                 0.679245  0.018868  \n",
       "Train F1 Score (Original)                            0.984628  0.000000  \n",
       "Test F1 Score (Original)                             0.464706  0.060784  \n",
       "Train F1 Score (Merged)                              0.981505  0.000000  \n",
       "Test F1 Score (Merged)                               0.671698  0.012579  "
      ]
     },
     "execution_count": 126,
     "metadata": {},
     "output_type": "execute_result"
    }
   ],
   "source": [
    "w2v_lr = pd.DataFrame(model_w2v_lr_scores, index=['W2V - Logistic Regression (Before)'])\n",
    "w2v_lr_tuning = pd.DataFrame(model_w2v_lr_tuning_scores, index=['W2V - Logistic Regression (After)'])\n",
    "\n",
    "w2v_lr_result = pd.concat([w2v_lr, w2v_lr_tuning]).T\n",
    "w2v_lr_result['delta'] = w2v_lr_result['W2V - Logistic Regression (After)'] - w2v_lr_result['W2V - Logistic Regression (Before)']\n",
    "\n",
    "w2v_lr_result"
   ]
  },
  {
   "cell_type": "markdown",
   "metadata": {},
   "source": [
    "### Hyperparameter tuning Support Vector Machine (SVM)"
   ]
  },
  {
   "cell_type": "code",
   "execution_count": 127,
   "metadata": {},
   "outputs": [],
   "source": [
    "# Hyperparameters to tune for Support Vector Machine (SVM)\n",
    "params_w2v_svm = {\n",
    "    'C': [1.0, 1.5, 2.0, 3.0],  # Regularization parameter\n",
    "    'kernel': ['linear', 'rbf', 'poly'],  # Kernel functions for SVM\n",
    "    'class_weight': [None, 'balanced'],  # Adjusting class weights\n",
    "    'random_state': [42]  # Random seed for reproducibility\n",
    "}"
   ]
  },
  {
   "cell_type": "code",
   "execution_count": 128,
   "metadata": {},
   "outputs": [],
   "source": [
    "# GridSearchCV instantiation for hyperparameter tuning on the original dataset using SVM\n",
    "model_w2v_svm_grid = GridSearchCV(estimator=model_w2v_svm, param_grid=params_w2v_svm)\n",
    "\n",
    "# GridSearchCV instantiation for hyperparameter tuning on the merged dataset using SVM\n",
    "model_w2v_svm_grid_merged = GridSearchCV(estimator=model_w2v_svm_merged, param_grid=params_w2v_svm)"
   ]
  },
  {
   "cell_type": "code",
   "execution_count": 129,
   "metadata": {},
   "outputs": [
    {
     "data": {
      "text/html": [
       "<style>#sk-container-id-10 {color: black;}#sk-container-id-10 pre{padding: 0;}#sk-container-id-10 div.sk-toggleable {background-color: white;}#sk-container-id-10 label.sk-toggleable__label {cursor: pointer;display: block;width: 100%;margin-bottom: 0;padding: 0.3em;box-sizing: border-box;text-align: center;}#sk-container-id-10 label.sk-toggleable__label-arrow:before {content: \"▸\";float: left;margin-right: 0.25em;color: #696969;}#sk-container-id-10 label.sk-toggleable__label-arrow:hover:before {color: black;}#sk-container-id-10 div.sk-estimator:hover label.sk-toggleable__label-arrow:before {color: black;}#sk-container-id-10 div.sk-toggleable__content {max-height: 0;max-width: 0;overflow: hidden;text-align: left;background-color: #f0f8ff;}#sk-container-id-10 div.sk-toggleable__content pre {margin: 0.2em;color: black;border-radius: 0.25em;background-color: #f0f8ff;}#sk-container-id-10 input.sk-toggleable__control:checked~div.sk-toggleable__content {max-height: 200px;max-width: 100%;overflow: auto;}#sk-container-id-10 input.sk-toggleable__control:checked~label.sk-toggleable__label-arrow:before {content: \"▾\";}#sk-container-id-10 div.sk-estimator input.sk-toggleable__control:checked~label.sk-toggleable__label {background-color: #d4ebff;}#sk-container-id-10 div.sk-label input.sk-toggleable__control:checked~label.sk-toggleable__label {background-color: #d4ebff;}#sk-container-id-10 input.sk-hidden--visually {border: 0;clip: rect(1px 1px 1px 1px);clip: rect(1px, 1px, 1px, 1px);height: 1px;margin: -1px;overflow: hidden;padding: 0;position: absolute;width: 1px;}#sk-container-id-10 div.sk-estimator {font-family: monospace;background-color: #f0f8ff;border: 1px dotted black;border-radius: 0.25em;box-sizing: border-box;margin-bottom: 0.5em;}#sk-container-id-10 div.sk-estimator:hover {background-color: #d4ebff;}#sk-container-id-10 div.sk-parallel-item::after {content: \"\";width: 100%;border-bottom: 1px solid gray;flex-grow: 1;}#sk-container-id-10 div.sk-label:hover label.sk-toggleable__label {background-color: #d4ebff;}#sk-container-id-10 div.sk-serial::before {content: \"\";position: absolute;border-left: 1px solid gray;box-sizing: border-box;top: 0;bottom: 0;left: 50%;z-index: 0;}#sk-container-id-10 div.sk-serial {display: flex;flex-direction: column;align-items: center;background-color: white;padding-right: 0.2em;padding-left: 0.2em;position: relative;}#sk-container-id-10 div.sk-item {position: relative;z-index: 1;}#sk-container-id-10 div.sk-parallel {display: flex;align-items: stretch;justify-content: center;background-color: white;position: relative;}#sk-container-id-10 div.sk-item::before, #sk-container-id-10 div.sk-parallel-item::before {content: \"\";position: absolute;border-left: 1px solid gray;box-sizing: border-box;top: 0;bottom: 0;left: 50%;z-index: -1;}#sk-container-id-10 div.sk-parallel-item {display: flex;flex-direction: column;z-index: 1;position: relative;background-color: white;}#sk-container-id-10 div.sk-parallel-item:first-child::after {align-self: flex-end;width: 50%;}#sk-container-id-10 div.sk-parallel-item:last-child::after {align-self: flex-start;width: 50%;}#sk-container-id-10 div.sk-parallel-item:only-child::after {width: 0;}#sk-container-id-10 div.sk-dashed-wrapped {border: 1px dashed gray;margin: 0 0.4em 0.5em 0.4em;box-sizing: border-box;padding-bottom: 0.4em;background-color: white;}#sk-container-id-10 div.sk-label label {font-family: monospace;font-weight: bold;display: inline-block;line-height: 1.2em;}#sk-container-id-10 div.sk-label-container {text-align: center;}#sk-container-id-10 div.sk-container {/* jupyter's `normalize.less` sets `[hidden] { display: none; }` but bootstrap.min.css set `[hidden] { display: none !important; }` so we also need the `!important` here to be able to override the default hidden behavior on the sphinx rendered scikit-learn.org. See: https://github.com/scikit-learn/scikit-learn/issues/21755 */display: inline-block !important;position: relative;}#sk-container-id-10 div.sk-text-repr-fallback {display: none;}</style><div id=\"sk-container-id-10\" class=\"sk-top-container\"><div class=\"sk-text-repr-fallback\"><pre>GridSearchCV(estimator=SVC(),\n",
       "             param_grid={&#x27;C&#x27;: [1.0, 1.5, 2.0, 3.0],\n",
       "                         &#x27;class_weight&#x27;: [None, &#x27;balanced&#x27;],\n",
       "                         &#x27;kernel&#x27;: [&#x27;linear&#x27;, &#x27;rbf&#x27;, &#x27;poly&#x27;],\n",
       "                         &#x27;random_state&#x27;: [42]})</pre><b>In a Jupyter environment, please rerun this cell to show the HTML representation or trust the notebook. <br />On GitHub, the HTML representation is unable to render, please try loading this page with nbviewer.org.</b></div><div class=\"sk-container\" hidden><div class=\"sk-item sk-dashed-wrapped\"><div class=\"sk-label-container\"><div class=\"sk-label sk-toggleable\"><input class=\"sk-toggleable__control sk-hidden--visually\" id=\"sk-estimator-id-20\" type=\"checkbox\" ><label for=\"sk-estimator-id-20\" class=\"sk-toggleable__label sk-toggleable__label-arrow\">GridSearchCV</label><div class=\"sk-toggleable__content\"><pre>GridSearchCV(estimator=SVC(),\n",
       "             param_grid={&#x27;C&#x27;: [1.0, 1.5, 2.0, 3.0],\n",
       "                         &#x27;class_weight&#x27;: [None, &#x27;balanced&#x27;],\n",
       "                         &#x27;kernel&#x27;: [&#x27;linear&#x27;, &#x27;rbf&#x27;, &#x27;poly&#x27;],\n",
       "                         &#x27;random_state&#x27;: [42]})</pre></div></div></div><div class=\"sk-parallel\"><div class=\"sk-parallel-item\"><div class=\"sk-item\"><div class=\"sk-label-container\"><div class=\"sk-label sk-toggleable\"><input class=\"sk-toggleable__control sk-hidden--visually\" id=\"sk-estimator-id-21\" type=\"checkbox\" ><label for=\"sk-estimator-id-21\" class=\"sk-toggleable__label sk-toggleable__label-arrow\">estimator: SVC</label><div class=\"sk-toggleable__content\"><pre>SVC()</pre></div></div></div><div class=\"sk-serial\"><div class=\"sk-item\"><div class=\"sk-estimator sk-toggleable\"><input class=\"sk-toggleable__control sk-hidden--visually\" id=\"sk-estimator-id-22\" type=\"checkbox\" ><label for=\"sk-estimator-id-22\" class=\"sk-toggleable__label sk-toggleable__label-arrow\">SVC</label><div class=\"sk-toggleable__content\"><pre>SVC()</pre></div></div></div></div></div></div></div></div></div></div>"
      ],
      "text/plain": [
       "GridSearchCV(estimator=SVC(),\n",
       "             param_grid={'C': [1.0, 1.5, 2.0, 3.0],\n",
       "                         'class_weight': [None, 'balanced'],\n",
       "                         'kernel': ['linear', 'rbf', 'poly'],\n",
       "                         'random_state': [42]})"
      ]
     },
     "execution_count": 129,
     "metadata": {},
     "output_type": "execute_result"
    }
   ],
   "source": [
    "# Fitting the GridSearchCV for hyperparameter tuning on the original training set using SVM\n",
    "model_w2v_svm_grid.fit(X_train_W2V, y_train)\n",
    "\n",
    "# Fitting the GridSearchCV for hyperparameter tuning on the merged training set using SVM\n",
    "model_w2v_svm_grid_merged.fit(X_train_merged_W2V, y_train_merged)"
   ]
  },
  {
   "cell_type": "code",
   "execution_count": 130,
   "metadata": {},
   "outputs": [
    {
     "name": "stdout",
     "output_type": "stream",
     "text": [
      "Train Accuracy : 0.985\n",
      "Test Accuracy : 0.382\n",
      "Merged Train Accuracy : 0.981\n",
      "Merged Test Accuracy : 0.660\n",
      "Best Accuracy Through Grid Search : 0.436\n",
      "Merged Best Accuracy Through Grid Search : 0.481\n",
      "Best Parameters :  {'C': 1.0, 'class_weight': 'balanced', 'kernel': 'linear', 'random_state': 42}\n",
      "Merged Best Parameters :  {'C': 1.0, 'class_weight': 'balanced', 'kernel': 'linear', 'random_state': 42}\n"
     ]
    }
   ],
   "source": [
    "# Printing various accuracy scores and best parameters obtained from GridSearchCV for Support Vector Machine (SVM)\n",
    "\n",
    "# Training and Test accuracy for the best estimator found in the original dataset\n",
    "print('Train Accuracy : %.3f' % model_w2v_svm_grid.best_estimator_.score(X_train_W2V, y_train))\n",
    "print('Test Accuracy : %.3f' % model_w2v_svm_grid.best_estimator_.score(X_test_W2V, y_test))\n",
    "\n",
    "# Training and Test accuracy for the best estimator found in the merged dataset\n",
    "print('Merged Train Accuracy : %.3f' % model_w2v_svm_grid_merged.best_estimator_.score(X_train_merged_W2V, y_train_merged))\n",
    "print('Merged Test Accuracy : %.3f' % model_w2v_svm_grid_merged.best_estimator_.score(X_test_merged_W2V, y_test_merged))\n",
    "\n",
    "# Best accuracy found through GridSearchCV for the original dataset\n",
    "print('Best Accuracy Through Grid Search : %.3f' % model_w2v_svm_grid.best_score_)\n",
    "\n",
    "# Best accuracy found through GridSearchCV for the merged dataset\n",
    "print('Merged Best Accuracy Through Grid Search : %.3f' % model_w2v_svm_grid_merged.best_score_)\n",
    "\n",
    "# Best hyperparameters found through GridSearchCV for the original dataset\n",
    "print('Best Parameters : ', model_w2v_svm_grid.best_params_)\n",
    "\n",
    "# Best hyperparameters found through GridSearchCV for the merged dataset\n",
    "print('Merged Best Parameters : ', model_w2v_svm_grid_merged.best_params_)"
   ]
  },
  {
   "cell_type": "code",
   "execution_count": 131,
   "metadata": {},
   "outputs": [],
   "source": [
    "model_w2v_svm_tuning_scores = {\n",
    "    'Train Accuracy (Original)': model_w2v_svm_grid.best_estimator_.score(X_train_W2V, y_train),\n",
    "    'Test Accuracy (Original)': model_w2v_svm_grid.best_estimator_.score(X_test_W2V, y_test),\n",
    "    'Train Accuracy (Merged)': model_w2v_svm_grid_merged.best_estimator_.score(X_train_merged_W2V, y_train_merged),\n",
    "    'Test Accuracy (Merged)': model_w2v_svm_grid_merged.best_estimator_.score(X_test_merged_W2V, y_test_merged),\n",
    "\n",
    "    'Train Precision (Original)': precision_score(y_train, model_w2v_svm_grid.best_estimator_.predict(X_train_W2V), average='weighted'),\n",
    "    'Test Precision (Original)': precision_score(y_test, model_w2v_svm_grid.best_estimator_.predict(X_test_W2V), average='weighted'),\n",
    "    'Train Precision (Merged)': precision_score(y_train_merged, model_w2v_svm_grid_merged.best_estimator_.predict(X_train_merged_W2V), average='weighted'),\n",
    "    'Test Precision (Merged)': precision_score(y_test_merged, model_w2v_svm_grid_merged.best_estimator_.predict(X_test_merged_W2V), average='weighted'),\n",
    "\n",
    "    'Train Recall (Original)': recall_score(y_train, model_w2v_svm_grid.best_estimator_.predict(X_train_W2V), average='weighted'),\n",
    "    'Test Recall (Original)': recall_score(y_test, model_w2v_svm_grid.best_estimator_.predict(X_test_W2V), average='weighted'),\n",
    "    'Train Recall (Merged)': recall_score(y_train_merged, model_w2v_svm_grid_merged.best_estimator_.predict(X_train_merged_W2V), average='weighted'),\n",
    "    'Test Recall (Merged)': recall_score(y_test_merged, model_w2v_svm_grid_merged.best_estimator_.predict(X_test_merged_W2V), average='weighted'),\n",
    "\n",
    "    'Train F1 Score (Original)': f1_score(y_train, model_w2v_svm_grid.best_estimator_.predict(X_train_W2V), average='weighted'),\n",
    "    'Test F1 Score (Original)': f1_score(y_test, model_w2v_svm_grid.best_estimator_.predict(X_test_W2V), average='weighted'),\n",
    "    'Train F1 Score (Merged)': f1_score(y_train_merged, model_w2v_svm_grid_merged.best_estimator_.predict(X_train_merged_W2V), average='weighted'),\n",
    "    'Test F1 Score (Merged)': f1_score(y_test_merged, model_w2v_svm_grid_merged.best_estimator_.predict(X_test_merged_W2V), average='weighted')\n",
    "}\n"
   ]
  },
  {
   "cell_type": "code",
   "execution_count": 132,
   "metadata": {},
   "outputs": [
    {
     "data": {
      "text/html": [
       "<div>\n",
       "<style scoped>\n",
       "    .dataframe tbody tr th:only-of-type {\n",
       "        vertical-align: middle;\n",
       "    }\n",
       "\n",
       "    .dataframe tbody tr th {\n",
       "        vertical-align: top;\n",
       "    }\n",
       "\n",
       "    .dataframe thead th {\n",
       "        text-align: right;\n",
       "    }\n",
       "</style>\n",
       "<table border=\"1\" class=\"dataframe\">\n",
       "  <thead>\n",
       "    <tr style=\"text-align: right;\">\n",
       "      <th></th>\n",
       "      <th>W2V - Support Vector Machine (SVM) (Before)</th>\n",
       "      <th>W2V - Support Vector Machine (SVM) (After)</th>\n",
       "      <th>delta</th>\n",
       "    </tr>\n",
       "  </thead>\n",
       "  <tbody>\n",
       "    <tr>\n",
       "      <th>Train Accuracy (Original)</th>\n",
       "      <td>0.578947</td>\n",
       "      <td>0.984962</td>\n",
       "      <td>0.406015</td>\n",
       "    </tr>\n",
       "    <tr>\n",
       "      <th>Test Accuracy (Original)</th>\n",
       "      <td>0.088235</td>\n",
       "      <td>0.382353</td>\n",
       "      <td>0.294118</td>\n",
       "    </tr>\n",
       "    <tr>\n",
       "      <th>Train Accuracy (Merged)</th>\n",
       "      <td>0.608491</td>\n",
       "      <td>0.981132</td>\n",
       "      <td>0.372642</td>\n",
       "    </tr>\n",
       "    <tr>\n",
       "      <th>Test Accuracy (Merged)</th>\n",
       "      <td>0.207547</td>\n",
       "      <td>0.660377</td>\n",
       "      <td>0.452830</td>\n",
       "    </tr>\n",
       "    <tr>\n",
       "      <th>Train Precision (Original)</th>\n",
       "      <td>0.488124</td>\n",
       "      <td>0.988722</td>\n",
       "      <td>0.500597</td>\n",
       "    </tr>\n",
       "    <tr>\n",
       "      <th>Test Precision (Original)</th>\n",
       "      <td>0.117647</td>\n",
       "      <td>0.411765</td>\n",
       "      <td>0.294118</td>\n",
       "    </tr>\n",
       "    <tr>\n",
       "      <th>Train Precision (Merged)</th>\n",
       "      <td>0.568422</td>\n",
       "      <td>0.985714</td>\n",
       "      <td>0.417292</td>\n",
       "    </tr>\n",
       "    <tr>\n",
       "      <th>Test Precision (Merged)</th>\n",
       "      <td>0.205076</td>\n",
       "      <td>0.768868</td>\n",
       "      <td>0.563792</td>\n",
       "    </tr>\n",
       "    <tr>\n",
       "      <th>Train Recall (Original)</th>\n",
       "      <td>0.578947</td>\n",
       "      <td>0.984962</td>\n",
       "      <td>0.406015</td>\n",
       "    </tr>\n",
       "    <tr>\n",
       "      <th>Test Recall (Original)</th>\n",
       "      <td>0.088235</td>\n",
       "      <td>0.382353</td>\n",
       "      <td>0.294118</td>\n",
       "    </tr>\n",
       "    <tr>\n",
       "      <th>Train Recall (Merged)</th>\n",
       "      <td>0.608491</td>\n",
       "      <td>0.981132</td>\n",
       "      <td>0.372642</td>\n",
       "    </tr>\n",
       "    <tr>\n",
       "      <th>Test Recall (Merged)</th>\n",
       "      <td>0.207547</td>\n",
       "      <td>0.660377</td>\n",
       "      <td>0.452830</td>\n",
       "    </tr>\n",
       "    <tr>\n",
       "      <th>Train F1 Score (Original)</th>\n",
       "      <td>0.491536</td>\n",
       "      <td>0.984962</td>\n",
       "      <td>0.493427</td>\n",
       "    </tr>\n",
       "    <tr>\n",
       "      <th>Test F1 Score (Original)</th>\n",
       "      <td>0.098039</td>\n",
       "      <td>0.376471</td>\n",
       "      <td>0.278431</td>\n",
       "    </tr>\n",
       "    <tr>\n",
       "      <th>Train F1 Score (Merged)</th>\n",
       "      <td>0.537834</td>\n",
       "      <td>0.981505</td>\n",
       "      <td>0.443671</td>\n",
       "    </tr>\n",
       "    <tr>\n",
       "      <th>Test F1 Score (Merged)</th>\n",
       "      <td>0.171429</td>\n",
       "      <td>0.691195</td>\n",
       "      <td>0.519766</td>\n",
       "    </tr>\n",
       "  </tbody>\n",
       "</table>\n",
       "</div>"
      ],
      "text/plain": [
       "                            W2V - Support Vector Machine (SVM) (Before)  \\\n",
       "Train Accuracy (Original)                                      0.578947   \n",
       "Test Accuracy (Original)                                       0.088235   \n",
       "Train Accuracy (Merged)                                        0.608491   \n",
       "Test Accuracy (Merged)                                         0.207547   \n",
       "Train Precision (Original)                                     0.488124   \n",
       "Test Precision (Original)                                      0.117647   \n",
       "Train Precision (Merged)                                       0.568422   \n",
       "Test Precision (Merged)                                        0.205076   \n",
       "Train Recall (Original)                                        0.578947   \n",
       "Test Recall (Original)                                         0.088235   \n",
       "Train Recall (Merged)                                          0.608491   \n",
       "Test Recall (Merged)                                           0.207547   \n",
       "Train F1 Score (Original)                                      0.491536   \n",
       "Test F1 Score (Original)                                       0.098039   \n",
       "Train F1 Score (Merged)                                        0.537834   \n",
       "Test F1 Score (Merged)                                         0.171429   \n",
       "\n",
       "                            W2V - Support Vector Machine (SVM) (After)  \\\n",
       "Train Accuracy (Original)                                     0.984962   \n",
       "Test Accuracy (Original)                                      0.382353   \n",
       "Train Accuracy (Merged)                                       0.981132   \n",
       "Test Accuracy (Merged)                                        0.660377   \n",
       "Train Precision (Original)                                    0.988722   \n",
       "Test Precision (Original)                                     0.411765   \n",
       "Train Precision (Merged)                                      0.985714   \n",
       "Test Precision (Merged)                                       0.768868   \n",
       "Train Recall (Original)                                       0.984962   \n",
       "Test Recall (Original)                                        0.382353   \n",
       "Train Recall (Merged)                                         0.981132   \n",
       "Test Recall (Merged)                                          0.660377   \n",
       "Train F1 Score (Original)                                     0.984962   \n",
       "Test F1 Score (Original)                                      0.376471   \n",
       "Train F1 Score (Merged)                                       0.981505   \n",
       "Test F1 Score (Merged)                                        0.691195   \n",
       "\n",
       "                               delta  \n",
       "Train Accuracy (Original)   0.406015  \n",
       "Test Accuracy (Original)    0.294118  \n",
       "Train Accuracy (Merged)     0.372642  \n",
       "Test Accuracy (Merged)      0.452830  \n",
       "Train Precision (Original)  0.500597  \n",
       "Test Precision (Original)   0.294118  \n",
       "Train Precision (Merged)    0.417292  \n",
       "Test Precision (Merged)     0.563792  \n",
       "Train Recall (Original)     0.406015  \n",
       "Test Recall (Original)      0.294118  \n",
       "Train Recall (Merged)       0.372642  \n",
       "Test Recall (Merged)        0.452830  \n",
       "Train F1 Score (Original)   0.493427  \n",
       "Test F1 Score (Original)    0.278431  \n",
       "Train F1 Score (Merged)     0.443671  \n",
       "Test F1 Score (Merged)      0.519766  "
      ]
     },
     "execution_count": 132,
     "metadata": {},
     "output_type": "execute_result"
    }
   ],
   "source": [
    "w2v_svm = pd.DataFrame(model_w2v_svm_scores, index=['W2V - Support Vector Machine (SVM) (Before)'])\n",
    "w2v_svm_tuning = pd.DataFrame(model_w2v_svm_tuning_scores, index=['W2V - Support Vector Machine (SVM) (After)'])\n",
    "\n",
    "w2v_svm_result = pd.concat([w2v_svm, w2v_svm_tuning]).T\n",
    "w2v_svm_result['delta'] = w2v_svm_result['W2V - Support Vector Machine (SVM) (After)'] - w2v_svm_result['W2V - Support Vector Machine (SVM) (Before)']\n",
    "\n",
    "w2v_svm_result"
   ]
  },
  {
   "cell_type": "markdown",
   "metadata": {},
   "source": [
    "### Hyperparameter tuning K-Nearest Neighbors (KNN)"
   ]
  },
  {
   "cell_type": "code",
   "execution_count": 133,
   "metadata": {},
   "outputs": [],
   "source": [
    "# Hyperparameters to tune for K-Nearest Neighbors (KNN)\n",
    "params_w2v_knn = {\n",
    "    'n_neighbors': [1, 2, 3],            # Number of neighbors to consider\n",
    "    'weights': ['uniform', 'distance'],  # Weight function used in prediction\n",
    "    'leaf_size': [1, 2, 3],              # Leaf size for tree-based algorithms\n",
    "    #'random_state': [42]                # Random seed for reproducibility\n",
    "}"
   ]
  },
  {
   "cell_type": "code",
   "execution_count": 134,
   "metadata": {},
   "outputs": [],
   "source": [
    "# GridSearchCV instantiation for hyperparameter tuning on the original dataset using K-Nearest Neighbors (KNN)\n",
    "model_w2v_knn_grid = GridSearchCV(estimator=model_w2v_knn, param_grid=params_w2v_knn)\n",
    "\n",
    "# GridSearchCV instantiation for hyperparameter tuning on the merged dataset using K-Nearest Neighbors (KNN)\n",
    "model_w2v_knn_grid_merged = GridSearchCV(estimator=model_w2v_knn_merged, param_grid=params_w2v_knn)"
   ]
  },
  {
   "cell_type": "code",
   "execution_count": 135,
   "metadata": {},
   "outputs": [
    {
     "data": {
      "text/html": [
       "<style>#sk-container-id-11 {color: black;}#sk-container-id-11 pre{padding: 0;}#sk-container-id-11 div.sk-toggleable {background-color: white;}#sk-container-id-11 label.sk-toggleable__label {cursor: pointer;display: block;width: 100%;margin-bottom: 0;padding: 0.3em;box-sizing: border-box;text-align: center;}#sk-container-id-11 label.sk-toggleable__label-arrow:before {content: \"▸\";float: left;margin-right: 0.25em;color: #696969;}#sk-container-id-11 label.sk-toggleable__label-arrow:hover:before {color: black;}#sk-container-id-11 div.sk-estimator:hover label.sk-toggleable__label-arrow:before {color: black;}#sk-container-id-11 div.sk-toggleable__content {max-height: 0;max-width: 0;overflow: hidden;text-align: left;background-color: #f0f8ff;}#sk-container-id-11 div.sk-toggleable__content pre {margin: 0.2em;color: black;border-radius: 0.25em;background-color: #f0f8ff;}#sk-container-id-11 input.sk-toggleable__control:checked~div.sk-toggleable__content {max-height: 200px;max-width: 100%;overflow: auto;}#sk-container-id-11 input.sk-toggleable__control:checked~label.sk-toggleable__label-arrow:before {content: \"▾\";}#sk-container-id-11 div.sk-estimator input.sk-toggleable__control:checked~label.sk-toggleable__label {background-color: #d4ebff;}#sk-container-id-11 div.sk-label input.sk-toggleable__control:checked~label.sk-toggleable__label {background-color: #d4ebff;}#sk-container-id-11 input.sk-hidden--visually {border: 0;clip: rect(1px 1px 1px 1px);clip: rect(1px, 1px, 1px, 1px);height: 1px;margin: -1px;overflow: hidden;padding: 0;position: absolute;width: 1px;}#sk-container-id-11 div.sk-estimator {font-family: monospace;background-color: #f0f8ff;border: 1px dotted black;border-radius: 0.25em;box-sizing: border-box;margin-bottom: 0.5em;}#sk-container-id-11 div.sk-estimator:hover {background-color: #d4ebff;}#sk-container-id-11 div.sk-parallel-item::after {content: \"\";width: 100%;border-bottom: 1px solid gray;flex-grow: 1;}#sk-container-id-11 div.sk-label:hover label.sk-toggleable__label {background-color: #d4ebff;}#sk-container-id-11 div.sk-serial::before {content: \"\";position: absolute;border-left: 1px solid gray;box-sizing: border-box;top: 0;bottom: 0;left: 50%;z-index: 0;}#sk-container-id-11 div.sk-serial {display: flex;flex-direction: column;align-items: center;background-color: white;padding-right: 0.2em;padding-left: 0.2em;position: relative;}#sk-container-id-11 div.sk-item {position: relative;z-index: 1;}#sk-container-id-11 div.sk-parallel {display: flex;align-items: stretch;justify-content: center;background-color: white;position: relative;}#sk-container-id-11 div.sk-item::before, #sk-container-id-11 div.sk-parallel-item::before {content: \"\";position: absolute;border-left: 1px solid gray;box-sizing: border-box;top: 0;bottom: 0;left: 50%;z-index: -1;}#sk-container-id-11 div.sk-parallel-item {display: flex;flex-direction: column;z-index: 1;position: relative;background-color: white;}#sk-container-id-11 div.sk-parallel-item:first-child::after {align-self: flex-end;width: 50%;}#sk-container-id-11 div.sk-parallel-item:last-child::after {align-self: flex-start;width: 50%;}#sk-container-id-11 div.sk-parallel-item:only-child::after {width: 0;}#sk-container-id-11 div.sk-dashed-wrapped {border: 1px dashed gray;margin: 0 0.4em 0.5em 0.4em;box-sizing: border-box;padding-bottom: 0.4em;background-color: white;}#sk-container-id-11 div.sk-label label {font-family: monospace;font-weight: bold;display: inline-block;line-height: 1.2em;}#sk-container-id-11 div.sk-label-container {text-align: center;}#sk-container-id-11 div.sk-container {/* jupyter's `normalize.less` sets `[hidden] { display: none; }` but bootstrap.min.css set `[hidden] { display: none !important; }` so we also need the `!important` here to be able to override the default hidden behavior on the sphinx rendered scikit-learn.org. See: https://github.com/scikit-learn/scikit-learn/issues/21755 */display: inline-block !important;position: relative;}#sk-container-id-11 div.sk-text-repr-fallback {display: none;}</style><div id=\"sk-container-id-11\" class=\"sk-top-container\"><div class=\"sk-text-repr-fallback\"><pre>GridSearchCV(estimator=KNeighborsClassifier(),\n",
       "             param_grid={&#x27;leaf_size&#x27;: [1, 2, 3], &#x27;n_neighbors&#x27;: [1, 2, 3],\n",
       "                         &#x27;weights&#x27;: [&#x27;uniform&#x27;, &#x27;distance&#x27;]})</pre><b>In a Jupyter environment, please rerun this cell to show the HTML representation or trust the notebook. <br />On GitHub, the HTML representation is unable to render, please try loading this page with nbviewer.org.</b></div><div class=\"sk-container\" hidden><div class=\"sk-item sk-dashed-wrapped\"><div class=\"sk-label-container\"><div class=\"sk-label sk-toggleable\"><input class=\"sk-toggleable__control sk-hidden--visually\" id=\"sk-estimator-id-23\" type=\"checkbox\" ><label for=\"sk-estimator-id-23\" class=\"sk-toggleable__label sk-toggleable__label-arrow\">GridSearchCV</label><div class=\"sk-toggleable__content\"><pre>GridSearchCV(estimator=KNeighborsClassifier(),\n",
       "             param_grid={&#x27;leaf_size&#x27;: [1, 2, 3], &#x27;n_neighbors&#x27;: [1, 2, 3],\n",
       "                         &#x27;weights&#x27;: [&#x27;uniform&#x27;, &#x27;distance&#x27;]})</pre></div></div></div><div class=\"sk-parallel\"><div class=\"sk-parallel-item\"><div class=\"sk-item\"><div class=\"sk-label-container\"><div class=\"sk-label sk-toggleable\"><input class=\"sk-toggleable__control sk-hidden--visually\" id=\"sk-estimator-id-24\" type=\"checkbox\" ><label for=\"sk-estimator-id-24\" class=\"sk-toggleable__label sk-toggleable__label-arrow\">estimator: KNeighborsClassifier</label><div class=\"sk-toggleable__content\"><pre>KNeighborsClassifier()</pre></div></div></div><div class=\"sk-serial\"><div class=\"sk-item\"><div class=\"sk-estimator sk-toggleable\"><input class=\"sk-toggleable__control sk-hidden--visually\" id=\"sk-estimator-id-25\" type=\"checkbox\" ><label for=\"sk-estimator-id-25\" class=\"sk-toggleable__label sk-toggleable__label-arrow\">KNeighborsClassifier</label><div class=\"sk-toggleable__content\"><pre>KNeighborsClassifier()</pre></div></div></div></div></div></div></div></div></div></div>"
      ],
      "text/plain": [
       "GridSearchCV(estimator=KNeighborsClassifier(),\n",
       "             param_grid={'leaf_size': [1, 2, 3], 'n_neighbors': [1, 2, 3],\n",
       "                         'weights': ['uniform', 'distance']})"
      ]
     },
     "execution_count": 135,
     "metadata": {},
     "output_type": "execute_result"
    }
   ],
   "source": [
    "# Fitting the GridSearchCV for hyperparameter tuning on the original training set using K-Nearest Neighbors (KNN)\n",
    "model_w2v_knn_grid.fit(X_train_W2V, y_train)\n",
    "\n",
    "# Fitting the GridSearchCV for hyperparameter tuning on the merged training set using K-Nearest Neighbors (KNN)\n",
    "model_w2v_knn_grid_merged.fit(X_train_merged_W2V, y_train_merged)"
   ]
  },
  {
   "cell_type": "code",
   "execution_count": 136,
   "metadata": {},
   "outputs": [
    {
     "name": "stdout",
     "output_type": "stream",
     "text": [
      "Train Accuracy : 0.985\n",
      "Test Accuracy : 0.294\n",
      "Merged Train Accuracy : 0.981\n",
      "Merged Test Accuracy : 0.528\n",
      "Best Accuracy Through Grid Search : 0.398\n",
      "Merged Best Accuracy Through Grid Search : 0.363\n",
      "Best Parameters :  {'leaf_size': 1, 'n_neighbors': 2, 'weights': 'distance'}\n",
      "Merged Best Parameters :  {'leaf_size': 1, 'n_neighbors': 2, 'weights': 'distance'}\n"
     ]
    }
   ],
   "source": [
    "# Printing various accuracy scores and best parameters obtained from GridSearchCV for K-Nearest Neighbors (KNN)\n",
    "\n",
    "# Training and Test accuracy for the best estimator found in the original dataset\n",
    "print('Train Accuracy : %.3f' % model_w2v_knn_grid.best_estimator_.score(X_train_W2V, y_train))\n",
    "print('Test Accuracy : %.3f' % model_w2v_knn_grid.best_estimator_.score(X_test_W2V, y_test))\n",
    "\n",
    "# Training and Test accuracy for the best estimator found in the merged dataset\n",
    "print('Merged Train Accuracy : %.3f' % model_w2v_knn_grid_merged.best_estimator_.score(X_train_merged_W2V, y_train_merged))\n",
    "print('Merged Test Accuracy : %.3f' % model_w2v_knn_grid_merged.best_estimator_.score(X_test_merged_W2V, y_test_merged))\n",
    "\n",
    "# Best accuracy found through GridSearchCV for the original dataset\n",
    "print('Best Accuracy Through Grid Search : %.3f' % model_w2v_knn_grid.best_score_)\n",
    "\n",
    "# Best accuracy found through GridSearchCV for the merged dataset\n",
    "print('Merged Best Accuracy Through Grid Search : %.3f' % model_w2v_knn_grid_merged.best_score_)\n",
    "\n",
    "# Best hyperparameters found through GridSearchCV for the original dataset\n",
    "print('Best Parameters : ', model_w2v_knn_grid.best_params_)\n",
    "\n",
    "# Best hyperparameters found through GridSearchCV for the merged dataset\n",
    "print('Merged Best Parameters : ', model_w2v_knn_grid_merged.best_params_)"
   ]
  },
  {
   "cell_type": "code",
   "execution_count": 137,
   "metadata": {},
   "outputs": [],
   "source": [
    "model_w2v_knn_tuning_scores = {\n",
    "    'Train Accuracy (Original)': model_w2v_knn_grid.best_estimator_.score(X_train_W2V, y_train),\n",
    "    'Test Accuracy (Original)': model_w2v_knn_grid.best_estimator_.score(X_test_W2V, y_test),\n",
    "    'Train Accuracy (Merged)': model_w2v_knn_grid_merged.best_estimator_.score(X_train_merged_W2V, y_train_merged),\n",
    "    'Test Accuracy (Merged)': model_w2v_knn_grid_merged.best_estimator_.score(X_test_merged_W2V, y_test_merged),\n",
    "\n",
    "    'Train Precision (Original)': precision_score(y_train, model_w2v_knn_grid.best_estimator_.predict(X_train_W2V), average='weighted'),\n",
    "    'Test Precision (Original)': precision_score(y_test, model_w2v_knn_grid.best_estimator_.predict(X_test_W2V), average='weighted'),\n",
    "    'Train Precision (Merged)': precision_score(y_train_merged, model_w2v_knn_grid_merged.best_estimator_.predict(X_train_merged_W2V), average='weighted'),\n",
    "    'Test Precision (Merged)': precision_score(y_test_merged, model_w2v_knn_grid_merged.best_estimator_.predict(X_test_merged_W2V), average='weighted'),\n",
    "\n",
    "    'Train Recall (Original)': recall_score(y_train, model_w2v_knn_grid.best_estimator_.predict(X_train_W2V), average='weighted'),\n",
    "    'Test Recall (Original)': recall_score(y_test, model_w2v_knn_grid.best_estimator_.predict(X_test_W2V), average='weighted'),\n",
    "    'Train Recall (Merged)': recall_score(y_train_merged, model_w2v_knn_grid_merged.best_estimator_.predict(X_train_merged_W2V), average='weighted'),\n",
    "    'Test Recall (Merged)': recall_score(y_test_merged, model_w2v_knn_grid_merged.best_estimator_.predict(X_test_merged_W2V), average='weighted'),\n",
    "\n",
    "    'Train F1 Score (Original)': f1_score(y_train, model_w2v_knn_grid.best_estimator_.predict(X_train_W2V), average='weighted'),\n",
    "    'Test F1 Score (Original)': f1_score(y_test, model_w2v_knn_grid.best_estimator_.predict(X_test_W2V), average='weighted'),\n",
    "    'Train F1 Score (Merged)': f1_score(y_train_merged, model_w2v_knn_grid_merged.best_estimator_.predict(X_train_merged_W2V), average='weighted'),\n",
    "    'Test F1 Score (Merged)': f1_score(y_test_merged, model_w2v_knn_grid_merged.best_estimator_.predict(X_test_merged_W2V), average='weighted')\n",
    "}\n"
   ]
  },
  {
   "cell_type": "code",
   "execution_count": 138,
   "metadata": {},
   "outputs": [
    {
     "data": {
      "text/html": [
       "<div>\n",
       "<style scoped>\n",
       "    .dataframe tbody tr th:only-of-type {\n",
       "        vertical-align: middle;\n",
       "    }\n",
       "\n",
       "    .dataframe tbody tr th {\n",
       "        vertical-align: top;\n",
       "    }\n",
       "\n",
       "    .dataframe thead th {\n",
       "        text-align: right;\n",
       "    }\n",
       "</style>\n",
       "<table border=\"1\" class=\"dataframe\">\n",
       "  <thead>\n",
       "    <tr style=\"text-align: right;\">\n",
       "      <th></th>\n",
       "      <th>W2V - K-Nearest Neighbors (KNN) (Before)</th>\n",
       "      <th>W2V - K-Nearest Neighbors (KNN) (After)</th>\n",
       "      <th>delta</th>\n",
       "    </tr>\n",
       "  </thead>\n",
       "  <tbody>\n",
       "    <tr>\n",
       "      <th>Train Accuracy (Original)</th>\n",
       "      <td>0.511278</td>\n",
       "      <td>0.984962</td>\n",
       "      <td>0.473684</td>\n",
       "    </tr>\n",
       "    <tr>\n",
       "      <th>Test Accuracy (Original)</th>\n",
       "      <td>0.205882</td>\n",
       "      <td>0.294118</td>\n",
       "      <td>0.088235</td>\n",
       "    </tr>\n",
       "    <tr>\n",
       "      <th>Train Accuracy (Merged)</th>\n",
       "      <td>0.514151</td>\n",
       "      <td>0.981132</td>\n",
       "      <td>0.466981</td>\n",
       "    </tr>\n",
       "    <tr>\n",
       "      <th>Test Accuracy (Merged)</th>\n",
       "      <td>0.301887</td>\n",
       "      <td>0.528302</td>\n",
       "      <td>0.226415</td>\n",
       "    </tr>\n",
       "    <tr>\n",
       "      <th>Train Precision (Original)</th>\n",
       "      <td>0.479540</td>\n",
       "      <td>0.988346</td>\n",
       "      <td>0.508806</td>\n",
       "    </tr>\n",
       "    <tr>\n",
       "      <th>Test Precision (Original)</th>\n",
       "      <td>0.220588</td>\n",
       "      <td>0.372549</td>\n",
       "      <td>0.151961</td>\n",
       "    </tr>\n",
       "    <tr>\n",
       "      <th>Train Precision (Merged)</th>\n",
       "      <td>0.520489</td>\n",
       "      <td>0.985115</td>\n",
       "      <td>0.464627</td>\n",
       "    </tr>\n",
       "    <tr>\n",
       "      <th>Test Precision (Merged)</th>\n",
       "      <td>0.232704</td>\n",
       "      <td>0.587736</td>\n",
       "      <td>0.355031</td>\n",
       "    </tr>\n",
       "    <tr>\n",
       "      <th>Train Recall (Original)</th>\n",
       "      <td>0.511278</td>\n",
       "      <td>0.984962</td>\n",
       "      <td>0.473684</td>\n",
       "    </tr>\n",
       "    <tr>\n",
       "      <th>Test Recall (Original)</th>\n",
       "      <td>0.205882</td>\n",
       "      <td>0.294118</td>\n",
       "      <td>0.088235</td>\n",
       "    </tr>\n",
       "    <tr>\n",
       "      <th>Train Recall (Merged)</th>\n",
       "      <td>0.514151</td>\n",
       "      <td>0.981132</td>\n",
       "      <td>0.466981</td>\n",
       "    </tr>\n",
       "    <tr>\n",
       "      <th>Test Recall (Merged)</th>\n",
       "      <td>0.301887</td>\n",
       "      <td>0.528302</td>\n",
       "      <td>0.226415</td>\n",
       "    </tr>\n",
       "    <tr>\n",
       "      <th>Train F1 Score (Original)</th>\n",
       "      <td>0.446781</td>\n",
       "      <td>0.984628</td>\n",
       "      <td>0.537847</td>\n",
       "    </tr>\n",
       "    <tr>\n",
       "      <th>Test F1 Score (Original)</th>\n",
       "      <td>0.205882</td>\n",
       "      <td>0.298039</td>\n",
       "      <td>0.092157</td>\n",
       "    </tr>\n",
       "    <tr>\n",
       "      <th>Train F1 Score (Merged)</th>\n",
       "      <td>0.471180</td>\n",
       "      <td>0.981228</td>\n",
       "      <td>0.510048</td>\n",
       "    </tr>\n",
       "    <tr>\n",
       "      <th>Test F1 Score (Merged)</th>\n",
       "      <td>0.245597</td>\n",
       "      <td>0.531447</td>\n",
       "      <td>0.285849</td>\n",
       "    </tr>\n",
       "  </tbody>\n",
       "</table>\n",
       "</div>"
      ],
      "text/plain": [
       "                            W2V - K-Nearest Neighbors (KNN) (Before)  \\\n",
       "Train Accuracy (Original)                                   0.511278   \n",
       "Test Accuracy (Original)                                    0.205882   \n",
       "Train Accuracy (Merged)                                     0.514151   \n",
       "Test Accuracy (Merged)                                      0.301887   \n",
       "Train Precision (Original)                                  0.479540   \n",
       "Test Precision (Original)                                   0.220588   \n",
       "Train Precision (Merged)                                    0.520489   \n",
       "Test Precision (Merged)                                     0.232704   \n",
       "Train Recall (Original)                                     0.511278   \n",
       "Test Recall (Original)                                      0.205882   \n",
       "Train Recall (Merged)                                       0.514151   \n",
       "Test Recall (Merged)                                        0.301887   \n",
       "Train F1 Score (Original)                                   0.446781   \n",
       "Test F1 Score (Original)                                    0.205882   \n",
       "Train F1 Score (Merged)                                     0.471180   \n",
       "Test F1 Score (Merged)                                      0.245597   \n",
       "\n",
       "                            W2V - K-Nearest Neighbors (KNN) (After)     delta  \n",
       "Train Accuracy (Original)                                  0.984962  0.473684  \n",
       "Test Accuracy (Original)                                   0.294118  0.088235  \n",
       "Train Accuracy (Merged)                                    0.981132  0.466981  \n",
       "Test Accuracy (Merged)                                     0.528302  0.226415  \n",
       "Train Precision (Original)                                 0.988346  0.508806  \n",
       "Test Precision (Original)                                  0.372549  0.151961  \n",
       "Train Precision (Merged)                                   0.985115  0.464627  \n",
       "Test Precision (Merged)                                    0.587736  0.355031  \n",
       "Train Recall (Original)                                    0.984962  0.473684  \n",
       "Test Recall (Original)                                     0.294118  0.088235  \n",
       "Train Recall (Merged)                                      0.981132  0.466981  \n",
       "Test Recall (Merged)                                       0.528302  0.226415  \n",
       "Train F1 Score (Original)                                  0.984628  0.537847  \n",
       "Test F1 Score (Original)                                   0.298039  0.092157  \n",
       "Train F1 Score (Merged)                                    0.981228  0.510048  \n",
       "Test F1 Score (Merged)                                     0.531447  0.285849  "
      ]
     },
     "execution_count": 138,
     "metadata": {},
     "output_type": "execute_result"
    }
   ],
   "source": [
    "w2v_knn = pd.DataFrame(model_w2v_knn_scores, index=['W2V - K-Nearest Neighbors (KNN) (Before)'])\n",
    "w2v_knn_tuning = pd.DataFrame(model_w2v_knn_tuning_scores, index=['W2V - K-Nearest Neighbors (KNN) (After)'])\n",
    "\n",
    "w2v_knn_result = pd.concat([w2v_knn, w2v_knn_tuning]).T\n",
    "w2v_knn_result['delta'] = w2v_knn_result['W2V - K-Nearest Neighbors (KNN) (After)'] - w2v_knn_result['W2V - K-Nearest Neighbors (KNN) (Before)']\n",
    "\n",
    "w2v_knn_result"
   ]
  },
  {
   "cell_type": "markdown",
   "metadata": {},
   "source": [
    "### Hyperparameter tuning Random Forests"
   ]
  },
  {
   "cell_type": "code",
   "execution_count": 139,
   "metadata": {},
   "outputs": [],
   "source": [
    "# Hyperparameters to tune for Random Forest\n",
    "params_v2w_rf = {\n",
    "    'n_estimators': [120, 130, 140, 150],           # Number of trees in the forest\n",
    "    'min_samples_split': [6, 7, 8, 9, 10],          # Minimum number of samples required to split an internal node\n",
    "    'max_features': ['auto', 'sqrt', 'log2'],       # Number of features to consider for the best split\n",
    "    'bootstrap': [True, False],                     # Whether to bootstrap samples\n",
    "    'random_state': [42]                            # Random seed for reproducibility\n",
    "}"
   ]
  },
  {
   "cell_type": "code",
   "execution_count": 140,
   "metadata": {},
   "outputs": [],
   "source": [
    "# GridSearchCV instantiation for hyperparameter tuning on the original dataset using Random Forest\n",
    "model_w2v_rf_grid = GridSearchCV(estimator=model_w2v_rf, param_grid=params_v2w_rf)\n",
    "\n",
    "# GridSearchCV instantiation for hyperparameter tuning on the merged dataset using Random Forest\n",
    "model_w2v_rf_grid_merged = GridSearchCV(estimator=model_w2v_rf_merged, param_grid=params_v2w_rf)"
   ]
  },
  {
   "cell_type": "code",
   "execution_count": 141,
   "metadata": {},
   "outputs": [
    {
     "data": {
      "text/html": [
       "<style>#sk-container-id-12 {color: black;}#sk-container-id-12 pre{padding: 0;}#sk-container-id-12 div.sk-toggleable {background-color: white;}#sk-container-id-12 label.sk-toggleable__label {cursor: pointer;display: block;width: 100%;margin-bottom: 0;padding: 0.3em;box-sizing: border-box;text-align: center;}#sk-container-id-12 label.sk-toggleable__label-arrow:before {content: \"▸\";float: left;margin-right: 0.25em;color: #696969;}#sk-container-id-12 label.sk-toggleable__label-arrow:hover:before {color: black;}#sk-container-id-12 div.sk-estimator:hover label.sk-toggleable__label-arrow:before {color: black;}#sk-container-id-12 div.sk-toggleable__content {max-height: 0;max-width: 0;overflow: hidden;text-align: left;background-color: #f0f8ff;}#sk-container-id-12 div.sk-toggleable__content pre {margin: 0.2em;color: black;border-radius: 0.25em;background-color: #f0f8ff;}#sk-container-id-12 input.sk-toggleable__control:checked~div.sk-toggleable__content {max-height: 200px;max-width: 100%;overflow: auto;}#sk-container-id-12 input.sk-toggleable__control:checked~label.sk-toggleable__label-arrow:before {content: \"▾\";}#sk-container-id-12 div.sk-estimator input.sk-toggleable__control:checked~label.sk-toggleable__label {background-color: #d4ebff;}#sk-container-id-12 div.sk-label input.sk-toggleable__control:checked~label.sk-toggleable__label {background-color: #d4ebff;}#sk-container-id-12 input.sk-hidden--visually {border: 0;clip: rect(1px 1px 1px 1px);clip: rect(1px, 1px, 1px, 1px);height: 1px;margin: -1px;overflow: hidden;padding: 0;position: absolute;width: 1px;}#sk-container-id-12 div.sk-estimator {font-family: monospace;background-color: #f0f8ff;border: 1px dotted black;border-radius: 0.25em;box-sizing: border-box;margin-bottom: 0.5em;}#sk-container-id-12 div.sk-estimator:hover {background-color: #d4ebff;}#sk-container-id-12 div.sk-parallel-item::after {content: \"\";width: 100%;border-bottom: 1px solid gray;flex-grow: 1;}#sk-container-id-12 div.sk-label:hover label.sk-toggleable__label {background-color: #d4ebff;}#sk-container-id-12 div.sk-serial::before {content: \"\";position: absolute;border-left: 1px solid gray;box-sizing: border-box;top: 0;bottom: 0;left: 50%;z-index: 0;}#sk-container-id-12 div.sk-serial {display: flex;flex-direction: column;align-items: center;background-color: white;padding-right: 0.2em;padding-left: 0.2em;position: relative;}#sk-container-id-12 div.sk-item {position: relative;z-index: 1;}#sk-container-id-12 div.sk-parallel {display: flex;align-items: stretch;justify-content: center;background-color: white;position: relative;}#sk-container-id-12 div.sk-item::before, #sk-container-id-12 div.sk-parallel-item::before {content: \"\";position: absolute;border-left: 1px solid gray;box-sizing: border-box;top: 0;bottom: 0;left: 50%;z-index: -1;}#sk-container-id-12 div.sk-parallel-item {display: flex;flex-direction: column;z-index: 1;position: relative;background-color: white;}#sk-container-id-12 div.sk-parallel-item:first-child::after {align-self: flex-end;width: 50%;}#sk-container-id-12 div.sk-parallel-item:last-child::after {align-self: flex-start;width: 50%;}#sk-container-id-12 div.sk-parallel-item:only-child::after {width: 0;}#sk-container-id-12 div.sk-dashed-wrapped {border: 1px dashed gray;margin: 0 0.4em 0.5em 0.4em;box-sizing: border-box;padding-bottom: 0.4em;background-color: white;}#sk-container-id-12 div.sk-label label {font-family: monospace;font-weight: bold;display: inline-block;line-height: 1.2em;}#sk-container-id-12 div.sk-label-container {text-align: center;}#sk-container-id-12 div.sk-container {/* jupyter's `normalize.less` sets `[hidden] { display: none; }` but bootstrap.min.css set `[hidden] { display: none !important; }` so we also need the `!important` here to be able to override the default hidden behavior on the sphinx rendered scikit-learn.org. See: https://github.com/scikit-learn/scikit-learn/issues/21755 */display: inline-block !important;position: relative;}#sk-container-id-12 div.sk-text-repr-fallback {display: none;}</style><div id=\"sk-container-id-12\" class=\"sk-top-container\"><div class=\"sk-text-repr-fallback\"><pre>GridSearchCV(estimator=RandomForestClassifier(),\n",
       "             param_grid={&#x27;bootstrap&#x27;: [True, False],\n",
       "                         &#x27;max_features&#x27;: [&#x27;auto&#x27;, &#x27;sqrt&#x27;, &#x27;log2&#x27;],\n",
       "                         &#x27;min_samples_split&#x27;: [6, 7, 8, 9, 10],\n",
       "                         &#x27;n_estimators&#x27;: [120, 130, 140, 150],\n",
       "                         &#x27;random_state&#x27;: [42]})</pre><b>In a Jupyter environment, please rerun this cell to show the HTML representation or trust the notebook. <br />On GitHub, the HTML representation is unable to render, please try loading this page with nbviewer.org.</b></div><div class=\"sk-container\" hidden><div class=\"sk-item sk-dashed-wrapped\"><div class=\"sk-label-container\"><div class=\"sk-label sk-toggleable\"><input class=\"sk-toggleable__control sk-hidden--visually\" id=\"sk-estimator-id-26\" type=\"checkbox\" ><label for=\"sk-estimator-id-26\" class=\"sk-toggleable__label sk-toggleable__label-arrow\">GridSearchCV</label><div class=\"sk-toggleable__content\"><pre>GridSearchCV(estimator=RandomForestClassifier(),\n",
       "             param_grid={&#x27;bootstrap&#x27;: [True, False],\n",
       "                         &#x27;max_features&#x27;: [&#x27;auto&#x27;, &#x27;sqrt&#x27;, &#x27;log2&#x27;],\n",
       "                         &#x27;min_samples_split&#x27;: [6, 7, 8, 9, 10],\n",
       "                         &#x27;n_estimators&#x27;: [120, 130, 140, 150],\n",
       "                         &#x27;random_state&#x27;: [42]})</pre></div></div></div><div class=\"sk-parallel\"><div class=\"sk-parallel-item\"><div class=\"sk-item\"><div class=\"sk-label-container\"><div class=\"sk-label sk-toggleable\"><input class=\"sk-toggleable__control sk-hidden--visually\" id=\"sk-estimator-id-27\" type=\"checkbox\" ><label for=\"sk-estimator-id-27\" class=\"sk-toggleable__label sk-toggleable__label-arrow\">estimator: RandomForestClassifier</label><div class=\"sk-toggleable__content\"><pre>RandomForestClassifier()</pre></div></div></div><div class=\"sk-serial\"><div class=\"sk-item\"><div class=\"sk-estimator sk-toggleable\"><input class=\"sk-toggleable__control sk-hidden--visually\" id=\"sk-estimator-id-28\" type=\"checkbox\" ><label for=\"sk-estimator-id-28\" class=\"sk-toggleable__label sk-toggleable__label-arrow\">RandomForestClassifier</label><div class=\"sk-toggleable__content\"><pre>RandomForestClassifier()</pre></div></div></div></div></div></div></div></div></div></div>"
      ],
      "text/plain": [
       "GridSearchCV(estimator=RandomForestClassifier(),\n",
       "             param_grid={'bootstrap': [True, False],\n",
       "                         'max_features': ['auto', 'sqrt', 'log2'],\n",
       "                         'min_samples_split': [6, 7, 8, 9, 10],\n",
       "                         'n_estimators': [120, 130, 140, 150],\n",
       "                         'random_state': [42]})"
      ]
     },
     "execution_count": 141,
     "metadata": {},
     "output_type": "execute_result"
    }
   ],
   "source": [
    "# Fitting the Random Forest model with GridSearchCV for hyperparameter tuning on the original dataset\n",
    "model_w2v_rf_grid.fit(X_train_W2V, y_train)\n",
    "\n",
    "# Fitting the Random Forest model with GridSearchCV for hyperparameter tuning on the merged dataset\n",
    "model_w2v_rf_grid_merged.fit(X_train_merged_W2V, y_train_merged)"
   ]
  },
  {
   "cell_type": "code",
   "execution_count": 142,
   "metadata": {},
   "outputs": [
    {
     "name": "stdout",
     "output_type": "stream",
     "text": [
      "Train Accuracy : 0.985\n",
      "Test Accuracy : 0.294\n",
      "Merged Train Accuracy : 0.981\n",
      "Merged Test Accuracy : 0.491\n",
      "Best Accuracy Through Grid Search : 0.368\n",
      "Merged Best Accuracy Through Grid Search : 0.400\n",
      "Best Parameters :  {'bootstrap': False, 'max_features': 'log2', 'min_samples_split': 6, 'n_estimators': 120, 'random_state': 42}\n",
      "Merged Best Parameters :  {'bootstrap': False, 'max_features': 'log2', 'min_samples_split': 7, 'n_estimators': 130, 'random_state': 42}\n"
     ]
    }
   ],
   "source": [
    "# Displaying the model accuracies and best parameters for Random Forest after GridSearchCV\n",
    "\n",
    "# Training and Test accuracy for the best estimator found in the original dataset\n",
    "print('Train Accuracy : %.3f' % model_w2v_rf_grid.best_estimator_.score(X_train_W2V, y_train))\n",
    "print('Test Accuracy : %.3f' % model_w2v_rf_grid.best_estimator_.score(X_test_W2V, y_test))\n",
    "\n",
    "# Training and Test accuracy for the best estimator found in the merged dataset\n",
    "print('Merged Train Accuracy : %.3f' % model_w2v_rf_grid_merged.best_estimator_.score(X_train_merged_W2V, y_train_merged))\n",
    "print('Merged Test Accuracy : %.3f' % model_w2v_rf_grid_merged.best_estimator_.score(X_test_merged_W2V, y_test_merged))\n",
    "\n",
    "# Best accuracy achieved through GridSearchCV on the original dataset\n",
    "print('Best Accuracy Through Grid Search : %.3f' % model_w2v_rf_grid.best_score_)\n",
    "\n",
    "# Best accuracy achieved through GridSearchCV on the merged dataset\n",
    "print('Merged Best Accuracy Through Grid Search : %.3f' % model_w2v_rf_grid_merged.best_score_)\n",
    "\n",
    "# Best parameters for the original dataset\n",
    "print('Best Parameters : ', model_w2v_rf_grid.best_params_)\n",
    "\n",
    "# Best parameters for the merged dataset\n",
    "print('Merged Best Parameters : ', model_w2v_rf_grid_merged.best_params_)\n"
   ]
  },
  {
   "cell_type": "code",
   "execution_count": 143,
   "metadata": {},
   "outputs": [],
   "source": [
    "model_w2v_rf_tuning_scores = {\n",
    "    'Train Accuracy (Original)': model_w2v_rf_grid.best_estimator_.score(X_train_W2V, y_train),\n",
    "    'Test Accuracy (Original)': model_w2v_rf_grid.best_estimator_.score(X_test_W2V, y_test),\n",
    "    'Train Accuracy (Merged)': model_w2v_rf_grid_merged.best_estimator_.score(X_train_merged_W2V, y_train_merged),\n",
    "    'Test Accuracy (Merged)': model_w2v_rf_grid_merged.best_estimator_.score(X_test_merged_W2V, y_test_merged),\n",
    "\n",
    "    'Train Precision (Original)': precision_score(y_train, model_w2v_rf_grid.best_estimator_.predict(X_train_W2V), average='weighted'),\n",
    "    'Test Precision (Original)': precision_score(y_test, model_w2v_rf_grid.best_estimator_.predict(X_test_W2V), average='weighted'),\n",
    "    'Train Precision (Merged)': precision_score(y_train_merged, model_w2v_rf_grid_merged.best_estimator_.predict(X_train_merged_W2V), average='weighted'),\n",
    "    'Test Precision (Merged)': precision_score(y_test_merged, model_w2v_rf_grid_merged.best_estimator_.predict(X_test_merged_W2V), average='weighted'),\n",
    "\n",
    "    'Train Recall (Original)': recall_score(y_train, model_w2v_rf_grid.best_estimator_.predict(X_train_W2V), average='weighted'),\n",
    "    'Test Recall (Original)': recall_score(y_test, model_w2v_rf_grid.best_estimator_.predict(X_test_W2V), average='weighted'),\n",
    "    'Train Recall (Merged)': recall_score(y_train_merged, model_w2v_rf_grid_merged.best_estimator_.predict(X_train_merged_W2V), average='weighted'),\n",
    "    'Test Recall (Merged)': recall_score(y_test_merged, model_w2v_rf_grid_merged.best_estimator_.predict(X_test_merged_W2V), average='weighted'),\n",
    "\n",
    "    'Train F1 Score (Original)': f1_score(y_train, model_w2v_rf_grid.best_estimator_.predict(X_train_W2V), average='weighted'),\n",
    "    'Test F1 Score (Original)': f1_score(y_test, model_w2v_rf_grid.best_estimator_.predict(X_test_W2V), average='weighted'),\n",
    "    'Train F1 Score (Merged)': f1_score(y_train_merged, model_w2v_rf_grid_merged.best_estimator_.predict(X_train_merged_W2V), average='weighted'),\n",
    "    'Test F1 Score (Merged)': f1_score(y_test_merged, model_w2v_rf_grid_merged.best_estimator_.predict(X_test_merged_W2V), average='weighted')\n",
    "}"
   ]
  },
  {
   "cell_type": "code",
   "execution_count": 144,
   "metadata": {},
   "outputs": [
    {
     "data": {
      "text/html": [
       "<div>\n",
       "<style scoped>\n",
       "    .dataframe tbody tr th:only-of-type {\n",
       "        vertical-align: middle;\n",
       "    }\n",
       "\n",
       "    .dataframe tbody tr th {\n",
       "        vertical-align: top;\n",
       "    }\n",
       "\n",
       "    .dataframe thead th {\n",
       "        text-align: right;\n",
       "    }\n",
       "</style>\n",
       "<table border=\"1\" class=\"dataframe\">\n",
       "  <thead>\n",
       "    <tr style=\"text-align: right;\">\n",
       "      <th></th>\n",
       "      <th>W2V - Random Forest (Before)</th>\n",
       "      <th>W2V - Random Forest (After)</th>\n",
       "      <th>delta</th>\n",
       "    </tr>\n",
       "  </thead>\n",
       "  <tbody>\n",
       "    <tr>\n",
       "      <th>Train Accuracy (Original)</th>\n",
       "      <td>0.984962</td>\n",
       "      <td>0.984962</td>\n",
       "      <td>0.000000</td>\n",
       "    </tr>\n",
       "    <tr>\n",
       "      <th>Test Accuracy (Original)</th>\n",
       "      <td>0.294118</td>\n",
       "      <td>0.294118</td>\n",
       "      <td>0.000000</td>\n",
       "    </tr>\n",
       "    <tr>\n",
       "      <th>Train Accuracy (Merged)</th>\n",
       "      <td>0.981132</td>\n",
       "      <td>0.981132</td>\n",
       "      <td>0.000000</td>\n",
       "    </tr>\n",
       "    <tr>\n",
       "      <th>Test Accuracy (Merged)</th>\n",
       "      <td>0.509434</td>\n",
       "      <td>0.490566</td>\n",
       "      <td>-0.018868</td>\n",
       "    </tr>\n",
       "    <tr>\n",
       "      <th>Train Precision (Original)</th>\n",
       "      <td>0.988346</td>\n",
       "      <td>0.988346</td>\n",
       "      <td>0.000000</td>\n",
       "    </tr>\n",
       "    <tr>\n",
       "      <th>Test Precision (Original)</th>\n",
       "      <td>0.362745</td>\n",
       "      <td>0.382353</td>\n",
       "      <td>0.019608</td>\n",
       "    </tr>\n",
       "    <tr>\n",
       "      <th>Train Precision (Merged)</th>\n",
       "      <td>0.985714</td>\n",
       "      <td>0.985714</td>\n",
       "      <td>0.000000</td>\n",
       "    </tr>\n",
       "    <tr>\n",
       "      <th>Test Precision (Merged)</th>\n",
       "      <td>0.644025</td>\n",
       "      <td>0.630503</td>\n",
       "      <td>-0.013522</td>\n",
       "    </tr>\n",
       "    <tr>\n",
       "      <th>Train Recall (Original)</th>\n",
       "      <td>0.984962</td>\n",
       "      <td>0.984962</td>\n",
       "      <td>0.000000</td>\n",
       "    </tr>\n",
       "    <tr>\n",
       "      <th>Test Recall (Original)</th>\n",
       "      <td>0.294118</td>\n",
       "      <td>0.294118</td>\n",
       "      <td>0.000000</td>\n",
       "    </tr>\n",
       "    <tr>\n",
       "      <th>Train Recall (Merged)</th>\n",
       "      <td>0.981132</td>\n",
       "      <td>0.981132</td>\n",
       "      <td>0.000000</td>\n",
       "    </tr>\n",
       "    <tr>\n",
       "      <th>Test Recall (Merged)</th>\n",
       "      <td>0.509434</td>\n",
       "      <td>0.490566</td>\n",
       "      <td>-0.018868</td>\n",
       "    </tr>\n",
       "    <tr>\n",
       "      <th>Train F1 Score (Original)</th>\n",
       "      <td>0.984628</td>\n",
       "      <td>0.984628</td>\n",
       "      <td>0.000000</td>\n",
       "    </tr>\n",
       "    <tr>\n",
       "      <th>Test F1 Score (Original)</th>\n",
       "      <td>0.297059</td>\n",
       "      <td>0.308824</td>\n",
       "      <td>0.011765</td>\n",
       "    </tr>\n",
       "    <tr>\n",
       "      <th>Train F1 Score (Merged)</th>\n",
       "      <td>0.981505</td>\n",
       "      <td>0.981505</td>\n",
       "      <td>0.000000</td>\n",
       "    </tr>\n",
       "    <tr>\n",
       "      <th>Test F1 Score (Merged)</th>\n",
       "      <td>0.524079</td>\n",
       "      <td>0.513387</td>\n",
       "      <td>-0.010692</td>\n",
       "    </tr>\n",
       "  </tbody>\n",
       "</table>\n",
       "</div>"
      ],
      "text/plain": [
       "                            W2V - Random Forest (Before)  \\\n",
       "Train Accuracy (Original)                       0.984962   \n",
       "Test Accuracy (Original)                        0.294118   \n",
       "Train Accuracy (Merged)                         0.981132   \n",
       "Test Accuracy (Merged)                          0.509434   \n",
       "Train Precision (Original)                      0.988346   \n",
       "Test Precision (Original)                       0.362745   \n",
       "Train Precision (Merged)                        0.985714   \n",
       "Test Precision (Merged)                         0.644025   \n",
       "Train Recall (Original)                         0.984962   \n",
       "Test Recall (Original)                          0.294118   \n",
       "Train Recall (Merged)                           0.981132   \n",
       "Test Recall (Merged)                            0.509434   \n",
       "Train F1 Score (Original)                       0.984628   \n",
       "Test F1 Score (Original)                        0.297059   \n",
       "Train F1 Score (Merged)                         0.981505   \n",
       "Test F1 Score (Merged)                          0.524079   \n",
       "\n",
       "                            W2V - Random Forest (After)     delta  \n",
       "Train Accuracy (Original)                      0.984962  0.000000  \n",
       "Test Accuracy (Original)                       0.294118  0.000000  \n",
       "Train Accuracy (Merged)                        0.981132  0.000000  \n",
       "Test Accuracy (Merged)                         0.490566 -0.018868  \n",
       "Train Precision (Original)                     0.988346  0.000000  \n",
       "Test Precision (Original)                      0.382353  0.019608  \n",
       "Train Precision (Merged)                       0.985714  0.000000  \n",
       "Test Precision (Merged)                        0.630503 -0.013522  \n",
       "Train Recall (Original)                        0.984962  0.000000  \n",
       "Test Recall (Original)                         0.294118  0.000000  \n",
       "Train Recall (Merged)                          0.981132  0.000000  \n",
       "Test Recall (Merged)                           0.490566 -0.018868  \n",
       "Train F1 Score (Original)                      0.984628  0.000000  \n",
       "Test F1 Score (Original)                       0.308824  0.011765  \n",
       "Train F1 Score (Merged)                        0.981505  0.000000  \n",
       "Test F1 Score (Merged)                         0.513387 -0.010692  "
      ]
     },
     "execution_count": 144,
     "metadata": {},
     "output_type": "execute_result"
    }
   ],
   "source": [
    "w2v_rf = pd.DataFrame(model_w2v_rf_scores, index=['W2V - Random Forest (Before)'])\n",
    "w2v_rf_tuning = pd.DataFrame(model_w2v_rf_tuning_scores, index=['W2V - Random Forest (After)'])\n",
    "\n",
    "w2v_rf_result = pd.concat([w2v_rf, w2v_rf_tuning]).T\n",
    "w2v_rf_result['delta'] = w2v_rf_result['W2V - Random Forest (After)'] - w2v_rf_result['W2V - Random Forest (Before)']\n",
    "\n",
    "w2v_rf_result"
   ]
  },
  {
   "cell_type": "markdown",
   "metadata": {},
   "source": [
    "## Hyperparameter Tuning TFIDF pipelines"
   ]
  },
  {
   "cell_type": "markdown",
   "metadata": {},
   "source": [
    "### Hyperparameter tuning Logistic Regression"
   ]
  },
  {
   "cell_type": "code",
   "execution_count": 145,
   "metadata": {},
   "outputs": [],
   "source": [
    "# Creating instances for TF-IDF Vectorizer and Logistic Regression\n",
    "tfidf = TfidfVectorizer()                               # Term Frequency-Inverse Document Frequency Vectorizer\n",
    "lr = LogisticRegression(multi_class='multinomial')      # Logistic Regression classifier"
   ]
  },
  {
   "cell_type": "code",
   "execution_count": 146,
   "metadata": {},
   "outputs": [],
   "source": [
    "# Creating a Pipeline for Logistic Regression with TF-IDF Vectorizer\n",
    "tuning_tfidf_lr = Pipeline([\n",
    "    ('tfidf', tfidf),   # TF-IDF Vectorizer as the first step in the pipeline\n",
    "    ('lr', lr)          # Logistic Regression as the second step in the pipeline\n",
    "])"
   ]
  },
  {
   "cell_type": "code",
   "execution_count": 147,
   "metadata": {},
   "outputs": [],
   "source": [
    "# Hyperparameters to tune for Logistic Regression within the Pipeline\n",
    "params_tfidf_lr = {\n",
    "    'lr__penalty': ['l1', 'l2', 'elasticnet', 'none'],  # Penalty term\n",
    "    'lr__C': [0.01, 0.1, 0.3, 0.5, 1.0],  # Regularization parameter\n",
    "    'lr__solver': ['lbfgs', 'newton-cg', 'sag', 'saga'],  # Solving algorithm for optimization\n",
    "    'lr__random_state': [42]  # Random seed for reproducibility\n",
    "}"
   ]
  },
  {
   "cell_type": "code",
   "execution_count": 148,
   "metadata": {},
   "outputs": [],
   "source": [
    "# GridSearchCV instantiation for hyperparameter tuning on the original dataset using Logistic Regression Pipeline\n",
    "model_tfidf_lr_grid = GridSearchCV(estimator=tuning_tfidf_lr, param_grid=params_tfidf_lr)\n",
    "\n",
    "# GridSearchCV instantiation for hyperparameter tuning on the merged dataset using Logistic Regression Pipeline\n",
    "model_tfidf_lr_grid_merged = GridSearchCV(estimator=tuning_tfidf_lr, param_grid=params_tfidf_lr)"
   ]
  },
  {
   "cell_type": "code",
   "execution_count": 149,
   "metadata": {},
   "outputs": [
    {
     "data": {
      "text/html": [
       "<style>#sk-container-id-13 {color: black;}#sk-container-id-13 pre{padding: 0;}#sk-container-id-13 div.sk-toggleable {background-color: white;}#sk-container-id-13 label.sk-toggleable__label {cursor: pointer;display: block;width: 100%;margin-bottom: 0;padding: 0.3em;box-sizing: border-box;text-align: center;}#sk-container-id-13 label.sk-toggleable__label-arrow:before {content: \"▸\";float: left;margin-right: 0.25em;color: #696969;}#sk-container-id-13 label.sk-toggleable__label-arrow:hover:before {color: black;}#sk-container-id-13 div.sk-estimator:hover label.sk-toggleable__label-arrow:before {color: black;}#sk-container-id-13 div.sk-toggleable__content {max-height: 0;max-width: 0;overflow: hidden;text-align: left;background-color: #f0f8ff;}#sk-container-id-13 div.sk-toggleable__content pre {margin: 0.2em;color: black;border-radius: 0.25em;background-color: #f0f8ff;}#sk-container-id-13 input.sk-toggleable__control:checked~div.sk-toggleable__content {max-height: 200px;max-width: 100%;overflow: auto;}#sk-container-id-13 input.sk-toggleable__control:checked~label.sk-toggleable__label-arrow:before {content: \"▾\";}#sk-container-id-13 div.sk-estimator input.sk-toggleable__control:checked~label.sk-toggleable__label {background-color: #d4ebff;}#sk-container-id-13 div.sk-label input.sk-toggleable__control:checked~label.sk-toggleable__label {background-color: #d4ebff;}#sk-container-id-13 input.sk-hidden--visually {border: 0;clip: rect(1px 1px 1px 1px);clip: rect(1px, 1px, 1px, 1px);height: 1px;margin: -1px;overflow: hidden;padding: 0;position: absolute;width: 1px;}#sk-container-id-13 div.sk-estimator {font-family: monospace;background-color: #f0f8ff;border: 1px dotted black;border-radius: 0.25em;box-sizing: border-box;margin-bottom: 0.5em;}#sk-container-id-13 div.sk-estimator:hover {background-color: #d4ebff;}#sk-container-id-13 div.sk-parallel-item::after {content: \"\";width: 100%;border-bottom: 1px solid gray;flex-grow: 1;}#sk-container-id-13 div.sk-label:hover label.sk-toggleable__label {background-color: #d4ebff;}#sk-container-id-13 div.sk-serial::before {content: \"\";position: absolute;border-left: 1px solid gray;box-sizing: border-box;top: 0;bottom: 0;left: 50%;z-index: 0;}#sk-container-id-13 div.sk-serial {display: flex;flex-direction: column;align-items: center;background-color: white;padding-right: 0.2em;padding-left: 0.2em;position: relative;}#sk-container-id-13 div.sk-item {position: relative;z-index: 1;}#sk-container-id-13 div.sk-parallel {display: flex;align-items: stretch;justify-content: center;background-color: white;position: relative;}#sk-container-id-13 div.sk-item::before, #sk-container-id-13 div.sk-parallel-item::before {content: \"\";position: absolute;border-left: 1px solid gray;box-sizing: border-box;top: 0;bottom: 0;left: 50%;z-index: -1;}#sk-container-id-13 div.sk-parallel-item {display: flex;flex-direction: column;z-index: 1;position: relative;background-color: white;}#sk-container-id-13 div.sk-parallel-item:first-child::after {align-self: flex-end;width: 50%;}#sk-container-id-13 div.sk-parallel-item:last-child::after {align-self: flex-start;width: 50%;}#sk-container-id-13 div.sk-parallel-item:only-child::after {width: 0;}#sk-container-id-13 div.sk-dashed-wrapped {border: 1px dashed gray;margin: 0 0.4em 0.5em 0.4em;box-sizing: border-box;padding-bottom: 0.4em;background-color: white;}#sk-container-id-13 div.sk-label label {font-family: monospace;font-weight: bold;display: inline-block;line-height: 1.2em;}#sk-container-id-13 div.sk-label-container {text-align: center;}#sk-container-id-13 div.sk-container {/* jupyter's `normalize.less` sets `[hidden] { display: none; }` but bootstrap.min.css set `[hidden] { display: none !important; }` so we also need the `!important` here to be able to override the default hidden behavior on the sphinx rendered scikit-learn.org. See: https://github.com/scikit-learn/scikit-learn/issues/21755 */display: inline-block !important;position: relative;}#sk-container-id-13 div.sk-text-repr-fallback {display: none;}</style><div id=\"sk-container-id-13\" class=\"sk-top-container\"><div class=\"sk-text-repr-fallback\"><pre>GridSearchCV(estimator=Pipeline(steps=[(&#x27;tfidf&#x27;, TfidfVectorizer()),\n",
       "                                       (&#x27;lr&#x27;,\n",
       "                                        LogisticRegression(multi_class=&#x27;multinomial&#x27;))]),\n",
       "             param_grid={&#x27;lr__C&#x27;: [0.01, 0.1, 0.3, 0.5, 1.0],\n",
       "                         &#x27;lr__penalty&#x27;: [&#x27;l1&#x27;, &#x27;l2&#x27;, &#x27;elasticnet&#x27;, &#x27;none&#x27;],\n",
       "                         &#x27;lr__random_state&#x27;: [42],\n",
       "                         &#x27;lr__solver&#x27;: [&#x27;lbfgs&#x27;, &#x27;newton-cg&#x27;, &#x27;sag&#x27;, &#x27;saga&#x27;]})</pre><b>In a Jupyter environment, please rerun this cell to show the HTML representation or trust the notebook. <br />On GitHub, the HTML representation is unable to render, please try loading this page with nbviewer.org.</b></div><div class=\"sk-container\" hidden><div class=\"sk-item sk-dashed-wrapped\"><div class=\"sk-label-container\"><div class=\"sk-label sk-toggleable\"><input class=\"sk-toggleable__control sk-hidden--visually\" id=\"sk-estimator-id-29\" type=\"checkbox\" ><label for=\"sk-estimator-id-29\" class=\"sk-toggleable__label sk-toggleable__label-arrow\">GridSearchCV</label><div class=\"sk-toggleable__content\"><pre>GridSearchCV(estimator=Pipeline(steps=[(&#x27;tfidf&#x27;, TfidfVectorizer()),\n",
       "                                       (&#x27;lr&#x27;,\n",
       "                                        LogisticRegression(multi_class=&#x27;multinomial&#x27;))]),\n",
       "             param_grid={&#x27;lr__C&#x27;: [0.01, 0.1, 0.3, 0.5, 1.0],\n",
       "                         &#x27;lr__penalty&#x27;: [&#x27;l1&#x27;, &#x27;l2&#x27;, &#x27;elasticnet&#x27;, &#x27;none&#x27;],\n",
       "                         &#x27;lr__random_state&#x27;: [42],\n",
       "                         &#x27;lr__solver&#x27;: [&#x27;lbfgs&#x27;, &#x27;newton-cg&#x27;, &#x27;sag&#x27;, &#x27;saga&#x27;]})</pre></div></div></div><div class=\"sk-parallel\"><div class=\"sk-parallel-item\"><div class=\"sk-item\"><div class=\"sk-label-container\"><div class=\"sk-label sk-toggleable\"><input class=\"sk-toggleable__control sk-hidden--visually\" id=\"sk-estimator-id-30\" type=\"checkbox\" ><label for=\"sk-estimator-id-30\" class=\"sk-toggleable__label sk-toggleable__label-arrow\">estimator: Pipeline</label><div class=\"sk-toggleable__content\"><pre>Pipeline(steps=[(&#x27;tfidf&#x27;, TfidfVectorizer()),\n",
       "                (&#x27;lr&#x27;, LogisticRegression(multi_class=&#x27;multinomial&#x27;))])</pre></div></div></div><div class=\"sk-serial\"><div class=\"sk-item\"><div class=\"sk-serial\"><div class=\"sk-item\"><div class=\"sk-estimator sk-toggleable\"><input class=\"sk-toggleable__control sk-hidden--visually\" id=\"sk-estimator-id-31\" type=\"checkbox\" ><label for=\"sk-estimator-id-31\" class=\"sk-toggleable__label sk-toggleable__label-arrow\">TfidfVectorizer</label><div class=\"sk-toggleable__content\"><pre>TfidfVectorizer()</pre></div></div></div><div class=\"sk-item\"><div class=\"sk-estimator sk-toggleable\"><input class=\"sk-toggleable__control sk-hidden--visually\" id=\"sk-estimator-id-32\" type=\"checkbox\" ><label for=\"sk-estimator-id-32\" class=\"sk-toggleable__label sk-toggleable__label-arrow\">LogisticRegression</label><div class=\"sk-toggleable__content\"><pre>LogisticRegression(multi_class=&#x27;multinomial&#x27;)</pre></div></div></div></div></div></div></div></div></div></div></div></div>"
      ],
      "text/plain": [
       "GridSearchCV(estimator=Pipeline(steps=[('tfidf', TfidfVectorizer()),\n",
       "                                       ('lr',\n",
       "                                        LogisticRegression(multi_class='multinomial'))]),\n",
       "             param_grid={'lr__C': [0.01, 0.1, 0.3, 0.5, 1.0],\n",
       "                         'lr__penalty': ['l1', 'l2', 'elasticnet', 'none'],\n",
       "                         'lr__random_state': [42],\n",
       "                         'lr__solver': ['lbfgs', 'newton-cg', 'sag', 'saga']})"
      ]
     },
     "execution_count": 149,
     "metadata": {},
     "output_type": "execute_result"
    }
   ],
   "source": [
    "# Fitting the Logistic Regression model with GridSearchCV for hyperparameter tuning on the original dataset\n",
    "model_tfidf_lr_grid.fit(X_train, y_train)\n",
    "\n",
    "# Fitting the Logistic Regression model with GridSearchCV for hyperparameter tuning on the merged dataset\n",
    "model_tfidf_lr_grid_merged.fit(X_train_merged, y_train_merged)"
   ]
  },
  {
   "cell_type": "code",
   "execution_count": 150,
   "metadata": {},
   "outputs": [
    {
     "name": "stdout",
     "output_type": "stream",
     "text": [
      "Train Accuracy : 1.000\n",
      "Test Accuracy : 0.529\n",
      "Merged Train Accuracy : 1.000\n",
      "Merged Test Accuracy : 0.774\n",
      "Best Accuracy Through Grid Search : 0.654\n",
      "Merged Best Accuracy Through Grid Search : 0.712\n",
      "Best Parameters :  {'lr__C': 0.01, 'lr__penalty': 'none', 'lr__random_state': 42, 'lr__solver': 'lbfgs'}\n",
      "Merged Best Parameters :  {'lr__C': 0.01, 'lr__penalty': 'none', 'lr__random_state': 42, 'lr__solver': 'sag'}\n"
     ]
    }
   ],
   "source": [
    "# Displaying the model accuracies and best parameters for Logistic Regression after GridSearchCV\n",
    "\n",
    "# Training and Test accuracy for the best estimator found in the original dataset\n",
    "print('Train Accuracy : %.3f'%model_tfidf_lr_grid.best_estimator_.score(X_train, y_train))\n",
    "print('Test Accuracy : %.3f'%model_tfidf_lr_grid.best_estimator_.score(X_test, y_test))\n",
    "\n",
    "# Training and Test accuracy for the best estimator found in the merged dataset\n",
    "print('Merged Train Accuracy : %.3f'%model_tfidf_lr_grid_merged.best_estimator_.score(X_train_merged, y_train_merged))\n",
    "print('Merged Test Accuracy : %.3f'%model_tfidf_lr_grid_merged.best_estimator_.score(X_test_merged, y_test_merged))\n",
    "\n",
    "# Best accuracy achieved through GridSearchCV on the original dataset\n",
    "print('Best Accuracy Through Grid Search : %.3f'%model_tfidf_lr_grid.best_score_)\n",
    "\n",
    "# Best accuracy achieved through GridSearchCV on the merged dataset\n",
    "print('Merged Best Accuracy Through Grid Search : %.3f'%model_tfidf_lr_grid_merged.best_score_)\n",
    "\n",
    "# Best parameters for the original dataset\n",
    "print('Best Parameters : ',model_tfidf_lr_grid.best_params_)\n",
    "\n",
    "# Best parameters for the merged dataset\n",
    "print('Merged Best Parameters : ',model_tfidf_lr_grid_merged.best_params_)"
   ]
  },
  {
   "cell_type": "code",
   "execution_count": 151,
   "metadata": {},
   "outputs": [],
   "source": [
    "model_tfidf_lr_tuning_scores = {\n",
    "    'Train Accuracy (Original)': model_tfidf_lr_grid.best_estimator_.score(X_train, y_train),\n",
    "    'Test Accuracy (Original)': model_tfidf_lr_grid.best_estimator_.score(X_test, y_test),\n",
    "    'Train Accuracy (Merged)': model_tfidf_lr_grid_merged.best_estimator_.score(X_train_merged, y_train_merged),\n",
    "    'Test Accuracy (Merged)': model_tfidf_lr_grid_merged.best_estimator_.score(X_test_merged, y_test_merged),\n",
    "\n",
    "    'Train Precision (Original)': precision_score(y_train, model_tfidf_lr_grid.best_estimator_.predict(X_train), average='weighted'),\n",
    "    'Test Precision (Original)': precision_score(y_test, model_tfidf_lr_grid.best_estimator_.predict(X_test), average='weighted'),\n",
    "    'Train Precision (Merged)': precision_score(y_train_merged, model_tfidf_lr_grid_merged.best_estimator_.predict(X_train_merged), average='weighted'),\n",
    "    'Test Precision (Merged)': precision_score(y_test_merged, model_tfidf_lr_grid_merged.best_estimator_.predict(X_test_merged), average='weighted'),\n",
    "\n",
    "    'Train Recall (Original)': recall_score(y_train, model_tfidf_lr_grid.best_estimator_.predict(X_train), average='weighted'),\n",
    "    'Test Recall (Original)': recall_score(y_test, model_tfidf_lr_grid.best_estimator_.predict(X_test), average='weighted'),\n",
    "    'Train Recall (Merged)': recall_score(y_train_merged, model_tfidf_lr_grid_merged.best_estimator_.predict(X_train_merged), average='weighted'),\n",
    "    'Test Recall (Merged)': recall_score(y_test_merged, model_tfidf_lr_grid_merged.best_estimator_.predict(X_test_merged), average='weighted'),\n",
    "\n",
    "    'Train F1 Score (Original)': f1_score(y_train, model_tfidf_lr_grid.best_estimator_.predict(X_train), average='weighted'),\n",
    "    'Test F1 Score (Original)': f1_score(y_test, model_tfidf_lr_grid.best_estimator_.predict(X_test), average='weighted'),\n",
    "    'Train F1 Score (Merged)': f1_score(y_train_merged, model_tfidf_lr_grid_merged.best_estimator_.predict(X_train_merged), average='weighted'),\n",
    "    'Test F1 Score (Merged)': f1_score(y_test_merged, model_tfidf_lr_grid_merged.best_estimator_.predict(X_test_merged), average='weighted')\n",
    "}"
   ]
  },
  {
   "cell_type": "code",
   "execution_count": 152,
   "metadata": {},
   "outputs": [
    {
     "data": {
      "text/html": [
       "<div>\n",
       "<style scoped>\n",
       "    .dataframe tbody tr th:only-of-type {\n",
       "        vertical-align: middle;\n",
       "    }\n",
       "\n",
       "    .dataframe tbody tr th {\n",
       "        vertical-align: top;\n",
       "    }\n",
       "\n",
       "    .dataframe thead th {\n",
       "        text-align: right;\n",
       "    }\n",
       "</style>\n",
       "<table border=\"1\" class=\"dataframe\">\n",
       "  <thead>\n",
       "    <tr style=\"text-align: right;\">\n",
       "      <th></th>\n",
       "      <th>TF-IDF - Logistic Regression (Before)</th>\n",
       "      <th>TF-IDF - Logistic Regression (After)</th>\n",
       "      <th>delta</th>\n",
       "    </tr>\n",
       "  </thead>\n",
       "  <tbody>\n",
       "    <tr>\n",
       "      <th>Train Accuracy (Original)</th>\n",
       "      <td>0.736842</td>\n",
       "      <td>1.000000</td>\n",
       "      <td>0.263158</td>\n",
       "    </tr>\n",
       "    <tr>\n",
       "      <th>Test Accuracy (Original)</th>\n",
       "      <td>0.705882</td>\n",
       "      <td>0.529412</td>\n",
       "      <td>-0.176471</td>\n",
       "    </tr>\n",
       "    <tr>\n",
       "      <th>Train Accuracy (Merged)</th>\n",
       "      <td>0.858491</td>\n",
       "      <td>1.000000</td>\n",
       "      <td>0.141509</td>\n",
       "    </tr>\n",
       "    <tr>\n",
       "      <th>Test Accuracy (Merged)</th>\n",
       "      <td>0.509434</td>\n",
       "      <td>0.773585</td>\n",
       "      <td>0.264151</td>\n",
       "    </tr>\n",
       "    <tr>\n",
       "      <th>Train Precision (Original)</th>\n",
       "      <td>0.738364</td>\n",
       "      <td>1.000000</td>\n",
       "      <td>0.261636</td>\n",
       "    </tr>\n",
       "    <tr>\n",
       "      <th>Test Precision (Original)</th>\n",
       "      <td>0.656863</td>\n",
       "      <td>0.691176</td>\n",
       "      <td>0.034314</td>\n",
       "    </tr>\n",
       "    <tr>\n",
       "      <th>Train Precision (Merged)</th>\n",
       "      <td>0.816941</td>\n",
       "      <td>1.000000</td>\n",
       "      <td>0.183059</td>\n",
       "    </tr>\n",
       "    <tr>\n",
       "      <th>Test Precision (Merged)</th>\n",
       "      <td>0.483962</td>\n",
       "      <td>0.861006</td>\n",
       "      <td>0.377044</td>\n",
       "    </tr>\n",
       "    <tr>\n",
       "      <th>Train Recall (Original)</th>\n",
       "      <td>0.736842</td>\n",
       "      <td>1.000000</td>\n",
       "      <td>0.263158</td>\n",
       "    </tr>\n",
       "    <tr>\n",
       "      <th>Test Recall (Original)</th>\n",
       "      <td>0.705882</td>\n",
       "      <td>0.529412</td>\n",
       "      <td>-0.176471</td>\n",
       "    </tr>\n",
       "    <tr>\n",
       "      <th>Train Recall (Merged)</th>\n",
       "      <td>0.858491</td>\n",
       "      <td>1.000000</td>\n",
       "      <td>0.141509</td>\n",
       "    </tr>\n",
       "    <tr>\n",
       "      <th>Test Recall (Merged)</th>\n",
       "      <td>0.509434</td>\n",
       "      <td>0.773585</td>\n",
       "      <td>0.264151</td>\n",
       "    </tr>\n",
       "    <tr>\n",
       "      <th>Train F1 Score (Original)</th>\n",
       "      <td>0.690767</td>\n",
       "      <td>1.000000</td>\n",
       "      <td>0.309233</td>\n",
       "    </tr>\n",
       "    <tr>\n",
       "      <th>Test F1 Score (Original)</th>\n",
       "      <td>0.671569</td>\n",
       "      <td>0.575490</td>\n",
       "      <td>-0.096078</td>\n",
       "    </tr>\n",
       "    <tr>\n",
       "      <th>Train F1 Score (Merged)</th>\n",
       "      <td>0.819206</td>\n",
       "      <td>1.000000</td>\n",
       "      <td>0.180794</td>\n",
       "    </tr>\n",
       "    <tr>\n",
       "      <th>Test F1 Score (Merged)</th>\n",
       "      <td>0.457833</td>\n",
       "      <td>0.777673</td>\n",
       "      <td>0.319840</td>\n",
       "    </tr>\n",
       "  </tbody>\n",
       "</table>\n",
       "</div>"
      ],
      "text/plain": [
       "                            TF-IDF - Logistic Regression (Before)  \\\n",
       "Train Accuracy (Original)                                0.736842   \n",
       "Test Accuracy (Original)                                 0.705882   \n",
       "Train Accuracy (Merged)                                  0.858491   \n",
       "Test Accuracy (Merged)                                   0.509434   \n",
       "Train Precision (Original)                               0.738364   \n",
       "Test Precision (Original)                                0.656863   \n",
       "Train Precision (Merged)                                 0.816941   \n",
       "Test Precision (Merged)                                  0.483962   \n",
       "Train Recall (Original)                                  0.736842   \n",
       "Test Recall (Original)                                   0.705882   \n",
       "Train Recall (Merged)                                    0.858491   \n",
       "Test Recall (Merged)                                     0.509434   \n",
       "Train F1 Score (Original)                                0.690767   \n",
       "Test F1 Score (Original)                                 0.671569   \n",
       "Train F1 Score (Merged)                                  0.819206   \n",
       "Test F1 Score (Merged)                                   0.457833   \n",
       "\n",
       "                            TF-IDF - Logistic Regression (After)     delta  \n",
       "Train Accuracy (Original)                               1.000000  0.263158  \n",
       "Test Accuracy (Original)                                0.529412 -0.176471  \n",
       "Train Accuracy (Merged)                                 1.000000  0.141509  \n",
       "Test Accuracy (Merged)                                  0.773585  0.264151  \n",
       "Train Precision (Original)                              1.000000  0.261636  \n",
       "Test Precision (Original)                               0.691176  0.034314  \n",
       "Train Precision (Merged)                                1.000000  0.183059  \n",
       "Test Precision (Merged)                                 0.861006  0.377044  \n",
       "Train Recall (Original)                                 1.000000  0.263158  \n",
       "Test Recall (Original)                                  0.529412 -0.176471  \n",
       "Train Recall (Merged)                                   1.000000  0.141509  \n",
       "Test Recall (Merged)                                    0.773585  0.264151  \n",
       "Train F1 Score (Original)                               1.000000  0.309233  \n",
       "Test F1 Score (Original)                                0.575490 -0.096078  \n",
       "Train F1 Score (Merged)                                 1.000000  0.180794  \n",
       "Test F1 Score (Merged)                                  0.777673  0.319840  "
      ]
     },
     "execution_count": 152,
     "metadata": {},
     "output_type": "execute_result"
    }
   ],
   "source": [
    "tfidf_lr = pd.DataFrame(model_tfidf_lr_scores, index=['TF-IDF - Logistic Regression (Before)'])\n",
    "tfidf_lr_tuning = pd.DataFrame(model_tfidf_lr_tuning_scores, index=['TF-IDF - Logistic Regression (After)'])\n",
    "\n",
    "tfidf_lr_result = pd.concat([tfidf_lr, tfidf_lr_tuning]).T\n",
    "tfidf_lr_result['delta'] = tfidf_lr_result['TF-IDF - Logistic Regression (After)'] - tfidf_lr_result['TF-IDF - Logistic Regression (Before)']\n",
    "\n",
    "tfidf_lr_result"
   ]
  },
  {
   "cell_type": "markdown",
   "metadata": {},
   "source": [
    "### Hyperparameter tuning Support Vector Machine (SVM)"
   ]
  },
  {
   "cell_type": "code",
   "execution_count": 153,
   "metadata": {},
   "outputs": [],
   "source": [
    "# Creating instances for TF-IDF Vectorizer and Logistic Regression\n",
    "tfidf = TfidfVectorizer() # Term Frequency-Inverse Document Frequency Vectorizer\n",
    "svm_svc = svm.SVC() # Support Vector Machine (SVM) "
   ]
  },
  {
   "cell_type": "code",
   "execution_count": 154,
   "metadata": {},
   "outputs": [],
   "source": [
    "# Creating a Pipeline for Support Vector Machine (SVM) with TF-IDF Vectorizer\n",
    "tuning_tfidf_svm = Pipeline([\n",
    "    ('tfidf', tfidf),     # TF-IDF Vectorizer as the first step in the pipeline\n",
    "    ('svm', svm_svc)      # Support Vector Machine as the second step in the pipeline\n",
    "])"
   ]
  },
  {
   "cell_type": "code",
   "execution_count": 155,
   "metadata": {},
   "outputs": [],
   "source": [
    "# Hyperparameters to tune for Support Vector Machine (SVM) within the Pipeline\n",
    "params_tfidf_svm = {\n",
    "    'svm__C': [1.0, 1.5, 2.0, 3.0],\n",
    "    'svm__kernel': ['linear', 'rbf', 'poly'],  # Different kernel functions\n",
    "    'svm__class_weight': [None, 'balanced'],  # Adjusting class weights\n",
    "    'svm__random_state': [42]\n",
    "}"
   ]
  },
  {
   "cell_type": "code",
   "execution_count": 156,
   "metadata": {},
   "outputs": [],
   "source": [
    "# GridSearchCV instantiation for hyperparameter tuning on the original dataset using SVM\n",
    "model_tfidf_svm_grid = GridSearchCV(estimator=tuning_tfidf_svm, param_grid=params_tfidf_svm)\n",
    "\n",
    "# GridSearchCV instantiation for hyperparameter tuning on the merged dataset using SVM\n",
    "model_tfidf_svm_grid_merged = GridSearchCV(estimator=tuning_tfidf_svm, param_grid=params_tfidf_svm)"
   ]
  },
  {
   "cell_type": "code",
   "execution_count": 157,
   "metadata": {},
   "outputs": [
    {
     "data": {
      "text/html": [
       "<style>#sk-container-id-14 {color: black;}#sk-container-id-14 pre{padding: 0;}#sk-container-id-14 div.sk-toggleable {background-color: white;}#sk-container-id-14 label.sk-toggleable__label {cursor: pointer;display: block;width: 100%;margin-bottom: 0;padding: 0.3em;box-sizing: border-box;text-align: center;}#sk-container-id-14 label.sk-toggleable__label-arrow:before {content: \"▸\";float: left;margin-right: 0.25em;color: #696969;}#sk-container-id-14 label.sk-toggleable__label-arrow:hover:before {color: black;}#sk-container-id-14 div.sk-estimator:hover label.sk-toggleable__label-arrow:before {color: black;}#sk-container-id-14 div.sk-toggleable__content {max-height: 0;max-width: 0;overflow: hidden;text-align: left;background-color: #f0f8ff;}#sk-container-id-14 div.sk-toggleable__content pre {margin: 0.2em;color: black;border-radius: 0.25em;background-color: #f0f8ff;}#sk-container-id-14 input.sk-toggleable__control:checked~div.sk-toggleable__content {max-height: 200px;max-width: 100%;overflow: auto;}#sk-container-id-14 input.sk-toggleable__control:checked~label.sk-toggleable__label-arrow:before {content: \"▾\";}#sk-container-id-14 div.sk-estimator input.sk-toggleable__control:checked~label.sk-toggleable__label {background-color: #d4ebff;}#sk-container-id-14 div.sk-label input.sk-toggleable__control:checked~label.sk-toggleable__label {background-color: #d4ebff;}#sk-container-id-14 input.sk-hidden--visually {border: 0;clip: rect(1px 1px 1px 1px);clip: rect(1px, 1px, 1px, 1px);height: 1px;margin: -1px;overflow: hidden;padding: 0;position: absolute;width: 1px;}#sk-container-id-14 div.sk-estimator {font-family: monospace;background-color: #f0f8ff;border: 1px dotted black;border-radius: 0.25em;box-sizing: border-box;margin-bottom: 0.5em;}#sk-container-id-14 div.sk-estimator:hover {background-color: #d4ebff;}#sk-container-id-14 div.sk-parallel-item::after {content: \"\";width: 100%;border-bottom: 1px solid gray;flex-grow: 1;}#sk-container-id-14 div.sk-label:hover label.sk-toggleable__label {background-color: #d4ebff;}#sk-container-id-14 div.sk-serial::before {content: \"\";position: absolute;border-left: 1px solid gray;box-sizing: border-box;top: 0;bottom: 0;left: 50%;z-index: 0;}#sk-container-id-14 div.sk-serial {display: flex;flex-direction: column;align-items: center;background-color: white;padding-right: 0.2em;padding-left: 0.2em;position: relative;}#sk-container-id-14 div.sk-item {position: relative;z-index: 1;}#sk-container-id-14 div.sk-parallel {display: flex;align-items: stretch;justify-content: center;background-color: white;position: relative;}#sk-container-id-14 div.sk-item::before, #sk-container-id-14 div.sk-parallel-item::before {content: \"\";position: absolute;border-left: 1px solid gray;box-sizing: border-box;top: 0;bottom: 0;left: 50%;z-index: -1;}#sk-container-id-14 div.sk-parallel-item {display: flex;flex-direction: column;z-index: 1;position: relative;background-color: white;}#sk-container-id-14 div.sk-parallel-item:first-child::after {align-self: flex-end;width: 50%;}#sk-container-id-14 div.sk-parallel-item:last-child::after {align-self: flex-start;width: 50%;}#sk-container-id-14 div.sk-parallel-item:only-child::after {width: 0;}#sk-container-id-14 div.sk-dashed-wrapped {border: 1px dashed gray;margin: 0 0.4em 0.5em 0.4em;box-sizing: border-box;padding-bottom: 0.4em;background-color: white;}#sk-container-id-14 div.sk-label label {font-family: monospace;font-weight: bold;display: inline-block;line-height: 1.2em;}#sk-container-id-14 div.sk-label-container {text-align: center;}#sk-container-id-14 div.sk-container {/* jupyter's `normalize.less` sets `[hidden] { display: none; }` but bootstrap.min.css set `[hidden] { display: none !important; }` so we also need the `!important` here to be able to override the default hidden behavior on the sphinx rendered scikit-learn.org. See: https://github.com/scikit-learn/scikit-learn/issues/21755 */display: inline-block !important;position: relative;}#sk-container-id-14 div.sk-text-repr-fallback {display: none;}</style><div id=\"sk-container-id-14\" class=\"sk-top-container\"><div class=\"sk-text-repr-fallback\"><pre>GridSearchCV(estimator=Pipeline(steps=[(&#x27;tfidf&#x27;, TfidfVectorizer()),\n",
       "                                       (&#x27;svm&#x27;, SVC())]),\n",
       "             param_grid={&#x27;svm__C&#x27;: [1.0, 1.5, 2.0, 3.0],\n",
       "                         &#x27;svm__class_weight&#x27;: [None, &#x27;balanced&#x27;],\n",
       "                         &#x27;svm__kernel&#x27;: [&#x27;linear&#x27;, &#x27;rbf&#x27;, &#x27;poly&#x27;],\n",
       "                         &#x27;svm__random_state&#x27;: [42]})</pre><b>In a Jupyter environment, please rerun this cell to show the HTML representation or trust the notebook. <br />On GitHub, the HTML representation is unable to render, please try loading this page with nbviewer.org.</b></div><div class=\"sk-container\" hidden><div class=\"sk-item sk-dashed-wrapped\"><div class=\"sk-label-container\"><div class=\"sk-label sk-toggleable\"><input class=\"sk-toggleable__control sk-hidden--visually\" id=\"sk-estimator-id-33\" type=\"checkbox\" ><label for=\"sk-estimator-id-33\" class=\"sk-toggleable__label sk-toggleable__label-arrow\">GridSearchCV</label><div class=\"sk-toggleable__content\"><pre>GridSearchCV(estimator=Pipeline(steps=[(&#x27;tfidf&#x27;, TfidfVectorizer()),\n",
       "                                       (&#x27;svm&#x27;, SVC())]),\n",
       "             param_grid={&#x27;svm__C&#x27;: [1.0, 1.5, 2.0, 3.0],\n",
       "                         &#x27;svm__class_weight&#x27;: [None, &#x27;balanced&#x27;],\n",
       "                         &#x27;svm__kernel&#x27;: [&#x27;linear&#x27;, &#x27;rbf&#x27;, &#x27;poly&#x27;],\n",
       "                         &#x27;svm__random_state&#x27;: [42]})</pre></div></div></div><div class=\"sk-parallel\"><div class=\"sk-parallel-item\"><div class=\"sk-item\"><div class=\"sk-label-container\"><div class=\"sk-label sk-toggleable\"><input class=\"sk-toggleable__control sk-hidden--visually\" id=\"sk-estimator-id-34\" type=\"checkbox\" ><label for=\"sk-estimator-id-34\" class=\"sk-toggleable__label sk-toggleable__label-arrow\">estimator: Pipeline</label><div class=\"sk-toggleable__content\"><pre>Pipeline(steps=[(&#x27;tfidf&#x27;, TfidfVectorizer()), (&#x27;svm&#x27;, SVC())])</pre></div></div></div><div class=\"sk-serial\"><div class=\"sk-item\"><div class=\"sk-serial\"><div class=\"sk-item\"><div class=\"sk-estimator sk-toggleable\"><input class=\"sk-toggleable__control sk-hidden--visually\" id=\"sk-estimator-id-35\" type=\"checkbox\" ><label for=\"sk-estimator-id-35\" class=\"sk-toggleable__label sk-toggleable__label-arrow\">TfidfVectorizer</label><div class=\"sk-toggleable__content\"><pre>TfidfVectorizer()</pre></div></div></div><div class=\"sk-item\"><div class=\"sk-estimator sk-toggleable\"><input class=\"sk-toggleable__control sk-hidden--visually\" id=\"sk-estimator-id-36\" type=\"checkbox\" ><label for=\"sk-estimator-id-36\" class=\"sk-toggleable__label sk-toggleable__label-arrow\">SVC</label><div class=\"sk-toggleable__content\"><pre>SVC()</pre></div></div></div></div></div></div></div></div></div></div></div></div>"
      ],
      "text/plain": [
       "GridSearchCV(estimator=Pipeline(steps=[('tfidf', TfidfVectorizer()),\n",
       "                                       ('svm', SVC())]),\n",
       "             param_grid={'svm__C': [1.0, 1.5, 2.0, 3.0],\n",
       "                         'svm__class_weight': [None, 'balanced'],\n",
       "                         'svm__kernel': ['linear', 'rbf', 'poly'],\n",
       "                         'svm__random_state': [42]})"
      ]
     },
     "execution_count": 157,
     "metadata": {},
     "output_type": "execute_result"
    }
   ],
   "source": [
    "# Fitting the SVM model with GridSearchCV for hyperparameter tuning on the original dataset\n",
    "model_tfidf_svm_grid.fit(X_train, y_train)\n",
    "\n",
    "# Fitting the SVM model with GridSearchCV for hyperparameter tuning on the merged dataset\n",
    "model_tfidf_svm_grid_merged.fit(X_train_merged, y_train_merged)"
   ]
  },
  {
   "cell_type": "code",
   "execution_count": 158,
   "metadata": {},
   "outputs": [
    {
     "name": "stdout",
     "output_type": "stream",
     "text": [
      "Train Accuracy : 0.985\n",
      "Test Accuracy : 0.559\n",
      "Merged Train Accuracy : 0.995\n",
      "Merged Test Accuracy : 0.755\n",
      "Best Accuracy Through Grid Search : 0.631\n",
      "Merged Best Accuracy Through Grid Search : 0.675\n",
      "Best Parameters :  {'svm__C': 1.0, 'svm__class_weight': 'balanced', 'svm__kernel': 'linear', 'svm__random_state': 42}\n",
      "Merged Best Parameters :  {'svm__C': 3.0, 'svm__class_weight': 'balanced', 'svm__kernel': 'linear', 'svm__random_state': 42}\n"
     ]
    }
   ],
   "source": [
    "# Displaying the model accuracies and best parameters for SVM after GridSearchCV\n",
    "\n",
    "# Training and Test accuracy for the best estimator found in the original dataset\n",
    "print('Train Accuracy : %.3f'%model_tfidf_svm_grid.best_estimator_.score(X_train, y_train))\n",
    "print('Test Accuracy : %.3f'%model_tfidf_svm_grid.best_estimator_.score(X_test, y_test))\n",
    "\n",
    "# Training and Test accuracy for the best estimator found in the merged dataset\n",
    "print('Merged Train Accuracy : %.3f'%model_tfidf_svm_grid_merged.best_estimator_.score(X_train_merged, y_train_merged))\n",
    "print('Merged Test Accuracy : %.3f'%model_tfidf_svm_grid_merged.best_estimator_.score(X_test_merged, y_test_merged))\n",
    "\n",
    "# Best accuracy achieved through GridSearchCV on the original dataset\n",
    "print('Best Accuracy Through Grid Search : %.3f'%model_tfidf_svm_grid.best_score_)\n",
    "\n",
    "# Best accuracy achieved through GridSearchCV on the merged dataset\n",
    "print('Merged Best Accuracy Through Grid Search : %.3f'%model_tfidf_svm_grid_merged.best_score_)\n",
    "\n",
    "# Best parameters for the original dataset\n",
    "print('Best Parameters : ',model_tfidf_svm_grid.best_params_)\n",
    "\n",
    "# Best parameters for the merged dataset\n",
    "print('Merged Best Parameters : ',model_tfidf_svm_grid_merged.best_params_)"
   ]
  },
  {
   "cell_type": "code",
   "execution_count": 159,
   "metadata": {},
   "outputs": [],
   "source": [
    "model_tfidf_svm_tuning_scores = {\n",
    "    'Train Accuracy (Original)': model_tfidf_svm_grid.best_estimator_.score(X_train, y_train),\n",
    "    'Test Accuracy (Original)': model_tfidf_svm_grid.best_estimator_.score(X_test, y_test),\n",
    "    'Train Accuracy (Merged)': model_tfidf_svm_grid_merged.best_estimator_.score(X_train_merged, y_train_merged),\n",
    "    'Test Accuracy (Merged)': model_tfidf_svm_grid_merged.best_estimator_.score(X_test_merged, y_test_merged),\n",
    "\n",
    "    'Train Precision (Original)': precision_score(y_train, model_tfidf_svm_grid.best_estimator_.predict(X_train), average='weighted'),\n",
    "    'Test Precision (Original)': precision_score(y_test, model_tfidf_svm_grid.best_estimator_.predict(X_test), average='weighted'),\n",
    "    'Train Precision (Merged)': precision_score(y_train_merged, model_tfidf_svm_grid_merged.best_estimator_.predict(X_train_merged), average='weighted'),\n",
    "    'Test Precision (Merged)': precision_score(y_test_merged, model_tfidf_svm_grid_merged.best_estimator_.predict(X_test_merged), average='weighted'),\n",
    "\n",
    "    'Train Recall (Original)': recall_score(y_train, model_tfidf_svm_grid.best_estimator_.predict(X_train), average='weighted'),\n",
    "    'Test Recall (Original)': recall_score(y_test, model_tfidf_svm_grid.best_estimator_.predict(X_test), average='weighted'),\n",
    "    'Train Recall (Merged)': recall_score(y_train_merged, model_tfidf_svm_grid_merged.best_estimator_.predict(X_train_merged), average='weighted'),\n",
    "    'Test Recall (Merged)': recall_score(y_test_merged, model_tfidf_svm_grid_merged.best_estimator_.predict(X_test_merged), average='weighted'),\n",
    "\n",
    "    'Train F1 Score (Original)': f1_score(y_train, model_tfidf_svm_grid.best_estimator_.predict(X_train), average='weighted'),\n",
    "    'Test F1 Score (Original)': f1_score(y_test, model_tfidf_svm_grid.best_estimator_.predict(X_test), average='weighted'),\n",
    "    'Train F1 Score (Merged)': f1_score(y_train_merged, model_tfidf_svm_grid_merged.best_estimator_.predict(X_train_merged), average='weighted'),\n",
    "    'Test F1 Score (Merged)': f1_score(y_test_merged, model_tfidf_svm_grid_merged.best_estimator_.predict(X_test_merged), average='weighted')\n",
    "}\n"
   ]
  },
  {
   "cell_type": "code",
   "execution_count": 160,
   "metadata": {},
   "outputs": [
    {
     "data": {
      "text/html": [
       "<div>\n",
       "<style scoped>\n",
       "    .dataframe tbody tr th:only-of-type {\n",
       "        vertical-align: middle;\n",
       "    }\n",
       "\n",
       "    .dataframe tbody tr th {\n",
       "        vertical-align: top;\n",
       "    }\n",
       "\n",
       "    .dataframe thead th {\n",
       "        text-align: right;\n",
       "    }\n",
       "</style>\n",
       "<table border=\"1\" class=\"dataframe\">\n",
       "  <thead>\n",
       "    <tr style=\"text-align: right;\">\n",
       "      <th></th>\n",
       "      <th>TF-IDF - Support Vector Machine (SVM) (Before)</th>\n",
       "      <th>TF-IDF - Support Vector Machine (SVM) (After)</th>\n",
       "      <th>delta</th>\n",
       "    </tr>\n",
       "  </thead>\n",
       "  <tbody>\n",
       "    <tr>\n",
       "      <th>Train Accuracy (Original)</th>\n",
       "      <td>0.864662</td>\n",
       "      <td>0.984962</td>\n",
       "      <td>0.120301</td>\n",
       "    </tr>\n",
       "    <tr>\n",
       "      <th>Test Accuracy (Original)</th>\n",
       "      <td>0.823529</td>\n",
       "      <td>0.558824</td>\n",
       "      <td>-0.264706</td>\n",
       "    </tr>\n",
       "    <tr>\n",
       "      <th>Train Accuracy (Merged)</th>\n",
       "      <td>0.981132</td>\n",
       "      <td>0.995283</td>\n",
       "      <td>0.014151</td>\n",
       "    </tr>\n",
       "    <tr>\n",
       "      <th>Test Accuracy (Merged)</th>\n",
       "      <td>0.509434</td>\n",
       "      <td>0.754717</td>\n",
       "      <td>0.245283</td>\n",
       "    </tr>\n",
       "    <tr>\n",
       "      <th>Train Precision (Original)</th>\n",
       "      <td>0.911236</td>\n",
       "      <td>0.987970</td>\n",
       "      <td>0.076734</td>\n",
       "    </tr>\n",
       "    <tr>\n",
       "      <th>Test Precision (Original)</th>\n",
       "      <td>0.840686</td>\n",
       "      <td>0.656863</td>\n",
       "      <td>-0.183824</td>\n",
       "    </tr>\n",
       "    <tr>\n",
       "      <th>Train Precision (Merged)</th>\n",
       "      <td>0.979565</td>\n",
       "      <td>0.996226</td>\n",
       "      <td>0.016661</td>\n",
       "    </tr>\n",
       "    <tr>\n",
       "      <th>Test Precision (Merged)</th>\n",
       "      <td>0.565813</td>\n",
       "      <td>0.892453</td>\n",
       "      <td>0.326640</td>\n",
       "    </tr>\n",
       "    <tr>\n",
       "      <th>Train Recall (Original)</th>\n",
       "      <td>0.864662</td>\n",
       "      <td>0.984962</td>\n",
       "      <td>0.120301</td>\n",
       "    </tr>\n",
       "    <tr>\n",
       "      <th>Test Recall (Original)</th>\n",
       "      <td>0.823529</td>\n",
       "      <td>0.558824</td>\n",
       "      <td>-0.264706</td>\n",
       "    </tr>\n",
       "    <tr>\n",
       "      <th>Train Recall (Merged)</th>\n",
       "      <td>0.981132</td>\n",
       "      <td>0.995283</td>\n",
       "      <td>0.014151</td>\n",
       "    </tr>\n",
       "    <tr>\n",
       "      <th>Test Recall (Merged)</th>\n",
       "      <td>0.509434</td>\n",
       "      <td>0.754717</td>\n",
       "      <td>0.245283</td>\n",
       "    </tr>\n",
       "    <tr>\n",
       "      <th>Train F1 Score (Original)</th>\n",
       "      <td>0.860855</td>\n",
       "      <td>0.984962</td>\n",
       "      <td>0.124108</td>\n",
       "    </tr>\n",
       "    <tr>\n",
       "      <th>Test F1 Score (Original)</th>\n",
       "      <td>0.810784</td>\n",
       "      <td>0.580392</td>\n",
       "      <td>-0.230392</td>\n",
       "    </tr>\n",
       "    <tr>\n",
       "      <th>Train F1 Score (Merged)</th>\n",
       "      <td>0.978176</td>\n",
       "      <td>0.995331</td>\n",
       "      <td>0.017154</td>\n",
       "    </tr>\n",
       "    <tr>\n",
       "      <th>Test F1 Score (Merged)</th>\n",
       "      <td>0.493321</td>\n",
       "      <td>0.763792</td>\n",
       "      <td>0.270470</td>\n",
       "    </tr>\n",
       "  </tbody>\n",
       "</table>\n",
       "</div>"
      ],
      "text/plain": [
       "                            TF-IDF - Support Vector Machine (SVM) (Before)  \\\n",
       "Train Accuracy (Original)                                         0.864662   \n",
       "Test Accuracy (Original)                                          0.823529   \n",
       "Train Accuracy (Merged)                                           0.981132   \n",
       "Test Accuracy (Merged)                                            0.509434   \n",
       "Train Precision (Original)                                        0.911236   \n",
       "Test Precision (Original)                                         0.840686   \n",
       "Train Precision (Merged)                                          0.979565   \n",
       "Test Precision (Merged)                                           0.565813   \n",
       "Train Recall (Original)                                           0.864662   \n",
       "Test Recall (Original)                                            0.823529   \n",
       "Train Recall (Merged)                                             0.981132   \n",
       "Test Recall (Merged)                                              0.509434   \n",
       "Train F1 Score (Original)                                         0.860855   \n",
       "Test F1 Score (Original)                                          0.810784   \n",
       "Train F1 Score (Merged)                                           0.978176   \n",
       "Test F1 Score (Merged)                                            0.493321   \n",
       "\n",
       "                            TF-IDF - Support Vector Machine (SVM) (After)  \\\n",
       "Train Accuracy (Original)                                        0.984962   \n",
       "Test Accuracy (Original)                                         0.558824   \n",
       "Train Accuracy (Merged)                                          0.995283   \n",
       "Test Accuracy (Merged)                                           0.754717   \n",
       "Train Precision (Original)                                       0.987970   \n",
       "Test Precision (Original)                                        0.656863   \n",
       "Train Precision (Merged)                                         0.996226   \n",
       "Test Precision (Merged)                                          0.892453   \n",
       "Train Recall (Original)                                          0.984962   \n",
       "Test Recall (Original)                                           0.558824   \n",
       "Train Recall (Merged)                                            0.995283   \n",
       "Test Recall (Merged)                                             0.754717   \n",
       "Train F1 Score (Original)                                        0.984962   \n",
       "Test F1 Score (Original)                                         0.580392   \n",
       "Train F1 Score (Merged)                                          0.995331   \n",
       "Test F1 Score (Merged)                                           0.763792   \n",
       "\n",
       "                               delta  \n",
       "Train Accuracy (Original)   0.120301  \n",
       "Test Accuracy (Original)   -0.264706  \n",
       "Train Accuracy (Merged)     0.014151  \n",
       "Test Accuracy (Merged)      0.245283  \n",
       "Train Precision (Original)  0.076734  \n",
       "Test Precision (Original)  -0.183824  \n",
       "Train Precision (Merged)    0.016661  \n",
       "Test Precision (Merged)     0.326640  \n",
       "Train Recall (Original)     0.120301  \n",
       "Test Recall (Original)     -0.264706  \n",
       "Train Recall (Merged)       0.014151  \n",
       "Test Recall (Merged)        0.245283  \n",
       "Train F1 Score (Original)   0.124108  \n",
       "Test F1 Score (Original)   -0.230392  \n",
       "Train F1 Score (Merged)     0.017154  \n",
       "Test F1 Score (Merged)      0.270470  "
      ]
     },
     "execution_count": 160,
     "metadata": {},
     "output_type": "execute_result"
    }
   ],
   "source": [
    "tfidf_svm = pd.DataFrame(model_tfidf_svm_scores, index=['TF-IDF - Support Vector Machine (SVM) (Before)'])\n",
    "tfidf_svm_tuning = pd.DataFrame(model_tfidf_svm_tuning_scores, index=['TF-IDF - Support Vector Machine (SVM) (After)'])\n",
    "\n",
    "tfidf_svm_result = pd.concat([tfidf_svm, tfidf_svm_tuning]).T\n",
    "tfidf_svm_result['delta'] = tfidf_svm_result['TF-IDF - Support Vector Machine (SVM) (After)'] - tfidf_svm_result['TF-IDF - Support Vector Machine (SVM) (Before)']\n",
    "\n",
    "tfidf_svm_result"
   ]
  },
  {
   "cell_type": "markdown",
   "metadata": {},
   "source": [
    "### Hyperparameter tuning K-Nearest Neighbors (KNN)"
   ]
  },
  {
   "cell_type": "code",
   "execution_count": 161,
   "metadata": {},
   "outputs": [],
   "source": [
    "# Creating instances for TF-IDF Vectorizer and KNeighborsClassifier\n",
    "tfidf = TfidfVectorizer() # Term Frequency-Inverse Document Frequency Vectorizer\n",
    "knn = KNeighborsClassifier() # K-Nearest Neighbors (KNN)"
   ]
  },
  {
   "cell_type": "code",
   "execution_count": 162,
   "metadata": {},
   "outputs": [],
   "source": [
    "# Creating a Pipeline for K-Nearest Neighbors (KNN) with TF-IDF Vectorizer\n",
    "tuning_tfidf_knn = Pipeline([\n",
    "    ('tfidf', tfidf),  # TF-IDF Vectorizer as the first step in the pipeline\n",
    "    ('knn', knn)        # K-Nearest Neighbors (KNN) as the second step in the pipeline\n",
    "])"
   ]
  },
  {
   "cell_type": "code",
   "execution_count": 163,
   "metadata": {},
   "outputs": [],
   "source": [
    "# Hyperparameters to tune for K-Nearest Neighbors (KNN) within the Pipeline\n",
    "params_tfidf_knn = {\n",
    "    'knn__n_neighbors': [1, 2, 3],      # Number of neighbors to consider\n",
    "    'knn__weights': ['uniform', 'distance'],   # Weight function used in prediction\n",
    "    'knn__leaf_size': [1, 2, 3],             # Leaf size for tree-based algorithms\n",
    "    #'knn__random_state': [42]                       # Random seed for reproducibility\n",
    "}"
   ]
  },
  {
   "cell_type": "code",
   "execution_count": 164,
   "metadata": {},
   "outputs": [],
   "source": [
    "# GridSearchCV instantiation for hyperparameter tuning on the original dataset using KNN\n",
    "model_tfidf_knn_grid = GridSearchCV(estimator=tuning_tfidf_knn, param_grid=params_tfidf_knn)\n",
    "\n",
    "# GridSearchCV instantiation for hyperparameter tuning on the merged dataset using KNN\n",
    "model_tfidf_knn_grid_merged = GridSearchCV(estimator=tuning_tfidf_knn, param_grid=params_tfidf_knn)"
   ]
  },
  {
   "cell_type": "code",
   "execution_count": 165,
   "metadata": {},
   "outputs": [
    {
     "data": {
      "text/html": [
       "<style>#sk-container-id-15 {color: black;}#sk-container-id-15 pre{padding: 0;}#sk-container-id-15 div.sk-toggleable {background-color: white;}#sk-container-id-15 label.sk-toggleable__label {cursor: pointer;display: block;width: 100%;margin-bottom: 0;padding: 0.3em;box-sizing: border-box;text-align: center;}#sk-container-id-15 label.sk-toggleable__label-arrow:before {content: \"▸\";float: left;margin-right: 0.25em;color: #696969;}#sk-container-id-15 label.sk-toggleable__label-arrow:hover:before {color: black;}#sk-container-id-15 div.sk-estimator:hover label.sk-toggleable__label-arrow:before {color: black;}#sk-container-id-15 div.sk-toggleable__content {max-height: 0;max-width: 0;overflow: hidden;text-align: left;background-color: #f0f8ff;}#sk-container-id-15 div.sk-toggleable__content pre {margin: 0.2em;color: black;border-radius: 0.25em;background-color: #f0f8ff;}#sk-container-id-15 input.sk-toggleable__control:checked~div.sk-toggleable__content {max-height: 200px;max-width: 100%;overflow: auto;}#sk-container-id-15 input.sk-toggleable__control:checked~label.sk-toggleable__label-arrow:before {content: \"▾\";}#sk-container-id-15 div.sk-estimator input.sk-toggleable__control:checked~label.sk-toggleable__label {background-color: #d4ebff;}#sk-container-id-15 div.sk-label input.sk-toggleable__control:checked~label.sk-toggleable__label {background-color: #d4ebff;}#sk-container-id-15 input.sk-hidden--visually {border: 0;clip: rect(1px 1px 1px 1px);clip: rect(1px, 1px, 1px, 1px);height: 1px;margin: -1px;overflow: hidden;padding: 0;position: absolute;width: 1px;}#sk-container-id-15 div.sk-estimator {font-family: monospace;background-color: #f0f8ff;border: 1px dotted black;border-radius: 0.25em;box-sizing: border-box;margin-bottom: 0.5em;}#sk-container-id-15 div.sk-estimator:hover {background-color: #d4ebff;}#sk-container-id-15 div.sk-parallel-item::after {content: \"\";width: 100%;border-bottom: 1px solid gray;flex-grow: 1;}#sk-container-id-15 div.sk-label:hover label.sk-toggleable__label {background-color: #d4ebff;}#sk-container-id-15 div.sk-serial::before {content: \"\";position: absolute;border-left: 1px solid gray;box-sizing: border-box;top: 0;bottom: 0;left: 50%;z-index: 0;}#sk-container-id-15 div.sk-serial {display: flex;flex-direction: column;align-items: center;background-color: white;padding-right: 0.2em;padding-left: 0.2em;position: relative;}#sk-container-id-15 div.sk-item {position: relative;z-index: 1;}#sk-container-id-15 div.sk-parallel {display: flex;align-items: stretch;justify-content: center;background-color: white;position: relative;}#sk-container-id-15 div.sk-item::before, #sk-container-id-15 div.sk-parallel-item::before {content: \"\";position: absolute;border-left: 1px solid gray;box-sizing: border-box;top: 0;bottom: 0;left: 50%;z-index: -1;}#sk-container-id-15 div.sk-parallel-item {display: flex;flex-direction: column;z-index: 1;position: relative;background-color: white;}#sk-container-id-15 div.sk-parallel-item:first-child::after {align-self: flex-end;width: 50%;}#sk-container-id-15 div.sk-parallel-item:last-child::after {align-self: flex-start;width: 50%;}#sk-container-id-15 div.sk-parallel-item:only-child::after {width: 0;}#sk-container-id-15 div.sk-dashed-wrapped {border: 1px dashed gray;margin: 0 0.4em 0.5em 0.4em;box-sizing: border-box;padding-bottom: 0.4em;background-color: white;}#sk-container-id-15 div.sk-label label {font-family: monospace;font-weight: bold;display: inline-block;line-height: 1.2em;}#sk-container-id-15 div.sk-label-container {text-align: center;}#sk-container-id-15 div.sk-container {/* jupyter's `normalize.less` sets `[hidden] { display: none; }` but bootstrap.min.css set `[hidden] { display: none !important; }` so we also need the `!important` here to be able to override the default hidden behavior on the sphinx rendered scikit-learn.org. See: https://github.com/scikit-learn/scikit-learn/issues/21755 */display: inline-block !important;position: relative;}#sk-container-id-15 div.sk-text-repr-fallback {display: none;}</style><div id=\"sk-container-id-15\" class=\"sk-top-container\"><div class=\"sk-text-repr-fallback\"><pre>GridSearchCV(estimator=Pipeline(steps=[(&#x27;tfidf&#x27;, TfidfVectorizer()),\n",
       "                                       (&#x27;knn&#x27;, KNeighborsClassifier())]),\n",
       "             param_grid={&#x27;knn__leaf_size&#x27;: [1, 2, 3],\n",
       "                         &#x27;knn__n_neighbors&#x27;: [1, 2, 3],\n",
       "                         &#x27;knn__weights&#x27;: [&#x27;uniform&#x27;, &#x27;distance&#x27;]})</pre><b>In a Jupyter environment, please rerun this cell to show the HTML representation or trust the notebook. <br />On GitHub, the HTML representation is unable to render, please try loading this page with nbviewer.org.</b></div><div class=\"sk-container\" hidden><div class=\"sk-item sk-dashed-wrapped\"><div class=\"sk-label-container\"><div class=\"sk-label sk-toggleable\"><input class=\"sk-toggleable__control sk-hidden--visually\" id=\"sk-estimator-id-37\" type=\"checkbox\" ><label for=\"sk-estimator-id-37\" class=\"sk-toggleable__label sk-toggleable__label-arrow\">GridSearchCV</label><div class=\"sk-toggleable__content\"><pre>GridSearchCV(estimator=Pipeline(steps=[(&#x27;tfidf&#x27;, TfidfVectorizer()),\n",
       "                                       (&#x27;knn&#x27;, KNeighborsClassifier())]),\n",
       "             param_grid={&#x27;knn__leaf_size&#x27;: [1, 2, 3],\n",
       "                         &#x27;knn__n_neighbors&#x27;: [1, 2, 3],\n",
       "                         &#x27;knn__weights&#x27;: [&#x27;uniform&#x27;, &#x27;distance&#x27;]})</pre></div></div></div><div class=\"sk-parallel\"><div class=\"sk-parallel-item\"><div class=\"sk-item\"><div class=\"sk-label-container\"><div class=\"sk-label sk-toggleable\"><input class=\"sk-toggleable__control sk-hidden--visually\" id=\"sk-estimator-id-38\" type=\"checkbox\" ><label for=\"sk-estimator-id-38\" class=\"sk-toggleable__label sk-toggleable__label-arrow\">estimator: Pipeline</label><div class=\"sk-toggleable__content\"><pre>Pipeline(steps=[(&#x27;tfidf&#x27;, TfidfVectorizer()), (&#x27;knn&#x27;, KNeighborsClassifier())])</pre></div></div></div><div class=\"sk-serial\"><div class=\"sk-item\"><div class=\"sk-serial\"><div class=\"sk-item\"><div class=\"sk-estimator sk-toggleable\"><input class=\"sk-toggleable__control sk-hidden--visually\" id=\"sk-estimator-id-39\" type=\"checkbox\" ><label for=\"sk-estimator-id-39\" class=\"sk-toggleable__label sk-toggleable__label-arrow\">TfidfVectorizer</label><div class=\"sk-toggleable__content\"><pre>TfidfVectorizer()</pre></div></div></div><div class=\"sk-item\"><div class=\"sk-estimator sk-toggleable\"><input class=\"sk-toggleable__control sk-hidden--visually\" id=\"sk-estimator-id-40\" type=\"checkbox\" ><label for=\"sk-estimator-id-40\" class=\"sk-toggleable__label sk-toggleable__label-arrow\">KNeighborsClassifier</label><div class=\"sk-toggleable__content\"><pre>KNeighborsClassifier()</pre></div></div></div></div></div></div></div></div></div></div></div></div>"
      ],
      "text/plain": [
       "GridSearchCV(estimator=Pipeline(steps=[('tfidf', TfidfVectorizer()),\n",
       "                                       ('knn', KNeighborsClassifier())]),\n",
       "             param_grid={'knn__leaf_size': [1, 2, 3],\n",
       "                         'knn__n_neighbors': [1, 2, 3],\n",
       "                         'knn__weights': ['uniform', 'distance']})"
      ]
     },
     "execution_count": 165,
     "metadata": {},
     "output_type": "execute_result"
    }
   ],
   "source": [
    "# Fitting the KNN model with GridSearchCV for hyperparameter tuning on the original dataset\n",
    "model_tfidf_knn_grid.fit(X_train, y_train)\n",
    "\n",
    "# Fitting the KNN model with GridSearchCV for hyperparameter tuning on the merged dataset\n",
    "model_tfidf_knn_grid_merged.fit(X_train_merged, y_train_merged)"
   ]
  },
  {
   "cell_type": "code",
   "execution_count": 166,
   "metadata": {},
   "outputs": [
    {
     "name": "stdout",
     "output_type": "stream",
     "text": [
      "Train Accuracy : 1.000\n",
      "Test Accuracy : 0.618\n",
      "Merged Train Accuracy : 1.000\n",
      "Merged Test Accuracy : 0.717\n",
      "Best Accuracy Through Grid Search : 0.556\n",
      "Merged Best Accuracy Through Grid Search : 0.595\n",
      "Best Parameters :  {'knn__leaf_size': 1, 'knn__n_neighbors': 2, 'knn__weights': 'distance'}\n",
      "Merged Best Parameters :  {'knn__leaf_size': 1, 'knn__n_neighbors': 3, 'knn__weights': 'distance'}\n"
     ]
    }
   ],
   "source": [
    "# Displaying the model accuracies and best parameters for KNeighborsClassifier after GridSearchCV\n",
    "\n",
    "# Training and Test accuracy for the best estimator found in the original dataset\n",
    "print('Train Accuracy : %.3f'%model_tfidf_knn_grid.best_estimator_.score(X_train, y_train))\n",
    "print('Test Accuracy : %.3f'%model_tfidf_knn_grid.best_estimator_.score(X_test, y_test))\n",
    "\n",
    "# Training and Test accuracy for the best estimator found in the merged dataset\n",
    "print('Merged Train Accuracy : %.3f'%model_tfidf_knn_grid_merged.best_estimator_.score(X_train_merged, y_train_merged))\n",
    "print('Merged Test Accuracy : %.3f'%model_tfidf_knn_grid_merged.best_estimator_.score(X_test_merged, y_test_merged))\n",
    "\n",
    "# Best accuracy achieved through GridSearchCV on the original dataset\n",
    "print('Best Accuracy Through Grid Search : %.3f'%model_tfidf_knn_grid.best_score_)\n",
    "\n",
    "# Best accuracy achieved through GridSearchCV on the merged dataset\n",
    "print('Merged Best Accuracy Through Grid Search : %.3f'%model_tfidf_knn_grid_merged.best_score_)\n",
    "\n",
    "# Best parameters for the original dataset\n",
    "print('Best Parameters : ',model_tfidf_knn_grid.best_params_)\n",
    "\n",
    "# Best parameters for the merged dataset\n",
    "print('Merged Best Parameters : ',model_tfidf_knn_grid_merged.best_params_)"
   ]
  },
  {
   "cell_type": "code",
   "execution_count": 167,
   "metadata": {},
   "outputs": [],
   "source": [
    "model_tfidf_knn_tuning_scores = {\n",
    "    'Train Accuracy (Original)': model_tfidf_knn_grid.best_estimator_.score(X_train, y_train),\n",
    "    'Test Accuracy (Original)': model_tfidf_knn_grid.best_estimator_.score(X_test, y_test),\n",
    "    'Train Accuracy (Merged)': model_tfidf_knn_grid_merged.best_estimator_.score(X_train_merged, y_train_merged),\n",
    "    'Test Accuracy (Merged)': model_tfidf_knn_grid_merged.best_estimator_.score(X_test_merged, y_test_merged),\n",
    "\n",
    "    'Train Precision (Original)': precision_score(y_train, model_tfidf_knn_grid.best_estimator_.predict(X_train), average='weighted'),\n",
    "    'Test Precision (Original)': precision_score(y_test, model_tfidf_knn_grid.best_estimator_.predict(X_test), average='weighted'),\n",
    "    'Train Precision (Merged)': precision_score(y_train_merged, model_tfidf_knn_grid_merged.best_estimator_.predict(X_train_merged), average='weighted'),\n",
    "    'Test Precision (Merged)': precision_score(y_test_merged, model_tfidf_knn_grid_merged.best_estimator_.predict(X_test_merged), average='weighted'),\n",
    "\n",
    "    'Train Recall (Original)': recall_score(y_train, model_tfidf_knn_grid.best_estimator_.predict(X_train), average='weighted'),\n",
    "    'Test Recall (Original)': recall_score(y_test, model_tfidf_knn_grid.best_estimator_.predict(X_test), average='weighted'),\n",
    "    'Train Recall (Merged)': recall_score(y_train_merged, model_tfidf_knn_grid_merged.best_estimator_.predict(X_train_merged), average='weighted'),\n",
    "    'Test Recall (Merged)': recall_score(y_test_merged, model_tfidf_knn_grid_merged.best_estimator_.predict(X_test_merged), average='weighted'),\n",
    "\n",
    "    'Train F1 Score (Original)': f1_score(y_train, model_tfidf_knn_grid.best_estimator_.predict(X_train), average='weighted'),\n",
    "    'Test F1 Score (Original)': f1_score(y_test, model_tfidf_knn_grid.best_estimator_.predict(X_test), average='weighted'),\n",
    "    'Train F1 Score (Merged)': f1_score(y_train_merged, model_tfidf_knn_grid_merged.best_estimator_.predict(X_train_merged), average='weighted'),\n",
    "    'Test F1 Score (Merged)': f1_score(y_test_merged, model_tfidf_knn_grid_merged.best_estimator_.predict(X_test_merged), average='weighted')\n",
    "}\n"
   ]
  },
  {
   "cell_type": "code",
   "execution_count": 168,
   "metadata": {},
   "outputs": [
    {
     "data": {
      "text/html": [
       "<div>\n",
       "<style scoped>\n",
       "    .dataframe tbody tr th:only-of-type {\n",
       "        vertical-align: middle;\n",
       "    }\n",
       "\n",
       "    .dataframe tbody tr th {\n",
       "        vertical-align: top;\n",
       "    }\n",
       "\n",
       "    .dataframe thead th {\n",
       "        text-align: right;\n",
       "    }\n",
       "</style>\n",
       "<table border=\"1\" class=\"dataframe\">\n",
       "  <thead>\n",
       "    <tr style=\"text-align: right;\">\n",
       "      <th></th>\n",
       "      <th>TF-IDF - K-Nearest Neighbors (KNN) (Before)</th>\n",
       "      <th>TF-IDF - K-Nearest Neighbors (KNN) (After)</th>\n",
       "      <th>delta</th>\n",
       "    </tr>\n",
       "  </thead>\n",
       "  <tbody>\n",
       "    <tr>\n",
       "      <th>Train Accuracy (Original)</th>\n",
       "      <td>0.714286</td>\n",
       "      <td>1.000000</td>\n",
       "      <td>0.285714</td>\n",
       "    </tr>\n",
       "    <tr>\n",
       "      <th>Test Accuracy (Original)</th>\n",
       "      <td>0.705882</td>\n",
       "      <td>0.617647</td>\n",
       "      <td>-0.088235</td>\n",
       "    </tr>\n",
       "    <tr>\n",
       "      <th>Train Accuracy (Merged)</th>\n",
       "      <td>0.750000</td>\n",
       "      <td>1.000000</td>\n",
       "      <td>0.250000</td>\n",
       "    </tr>\n",
       "    <tr>\n",
       "      <th>Test Accuracy (Merged)</th>\n",
       "      <td>0.603774</td>\n",
       "      <td>0.716981</td>\n",
       "      <td>0.113208</td>\n",
       "    </tr>\n",
       "    <tr>\n",
       "      <th>Train Precision (Original)</th>\n",
       "      <td>0.752560</td>\n",
       "      <td>1.000000</td>\n",
       "      <td>0.247440</td>\n",
       "    </tr>\n",
       "    <tr>\n",
       "      <th>Test Precision (Original)</th>\n",
       "      <td>0.791667</td>\n",
       "      <td>0.691176</td>\n",
       "      <td>-0.100490</td>\n",
       "    </tr>\n",
       "    <tr>\n",
       "      <th>Train Precision (Merged)</th>\n",
       "      <td>0.764019</td>\n",
       "      <td>1.000000</td>\n",
       "      <td>0.235981</td>\n",
       "    </tr>\n",
       "    <tr>\n",
       "      <th>Test Precision (Merged)</th>\n",
       "      <td>0.651887</td>\n",
       "      <td>0.805660</td>\n",
       "      <td>0.153774</td>\n",
       "    </tr>\n",
       "    <tr>\n",
       "      <th>Train Recall (Original)</th>\n",
       "      <td>0.714286</td>\n",
       "      <td>1.000000</td>\n",
       "      <td>0.285714</td>\n",
       "    </tr>\n",
       "    <tr>\n",
       "      <th>Test Recall (Original)</th>\n",
       "      <td>0.705882</td>\n",
       "      <td>0.617647</td>\n",
       "      <td>-0.088235</td>\n",
       "    </tr>\n",
       "    <tr>\n",
       "      <th>Train Recall (Merged)</th>\n",
       "      <td>0.750000</td>\n",
       "      <td>1.000000</td>\n",
       "      <td>0.250000</td>\n",
       "    </tr>\n",
       "    <tr>\n",
       "      <th>Test Recall (Merged)</th>\n",
       "      <td>0.603774</td>\n",
       "      <td>0.716981</td>\n",
       "      <td>0.113208</td>\n",
       "    </tr>\n",
       "    <tr>\n",
       "      <th>Train F1 Score (Original)</th>\n",
       "      <td>0.684263</td>\n",
       "      <td>1.000000</td>\n",
       "      <td>0.315737</td>\n",
       "    </tr>\n",
       "    <tr>\n",
       "      <th>Test F1 Score (Original)</th>\n",
       "      <td>0.714846</td>\n",
       "      <td>0.629412</td>\n",
       "      <td>-0.085434</td>\n",
       "    </tr>\n",
       "    <tr>\n",
       "      <th>Train F1 Score (Merged)</th>\n",
       "      <td>0.724126</td>\n",
       "      <td>1.000000</td>\n",
       "      <td>0.275874</td>\n",
       "    </tr>\n",
       "    <tr>\n",
       "      <th>Test F1 Score (Merged)</th>\n",
       "      <td>0.569587</td>\n",
       "      <td>0.716981</td>\n",
       "      <td>0.147394</td>\n",
       "    </tr>\n",
       "  </tbody>\n",
       "</table>\n",
       "</div>"
      ],
      "text/plain": [
       "                            TF-IDF - K-Nearest Neighbors (KNN) (Before)  \\\n",
       "Train Accuracy (Original)                                      0.714286   \n",
       "Test Accuracy (Original)                                       0.705882   \n",
       "Train Accuracy (Merged)                                        0.750000   \n",
       "Test Accuracy (Merged)                                         0.603774   \n",
       "Train Precision (Original)                                     0.752560   \n",
       "Test Precision (Original)                                      0.791667   \n",
       "Train Precision (Merged)                                       0.764019   \n",
       "Test Precision (Merged)                                        0.651887   \n",
       "Train Recall (Original)                                        0.714286   \n",
       "Test Recall (Original)                                         0.705882   \n",
       "Train Recall (Merged)                                          0.750000   \n",
       "Test Recall (Merged)                                           0.603774   \n",
       "Train F1 Score (Original)                                      0.684263   \n",
       "Test F1 Score (Original)                                       0.714846   \n",
       "Train F1 Score (Merged)                                        0.724126   \n",
       "Test F1 Score (Merged)                                         0.569587   \n",
       "\n",
       "                            TF-IDF - K-Nearest Neighbors (KNN) (After)  \\\n",
       "Train Accuracy (Original)                                     1.000000   \n",
       "Test Accuracy (Original)                                      0.617647   \n",
       "Train Accuracy (Merged)                                       1.000000   \n",
       "Test Accuracy (Merged)                                        0.716981   \n",
       "Train Precision (Original)                                    1.000000   \n",
       "Test Precision (Original)                                     0.691176   \n",
       "Train Precision (Merged)                                      1.000000   \n",
       "Test Precision (Merged)                                       0.805660   \n",
       "Train Recall (Original)                                       1.000000   \n",
       "Test Recall (Original)                                        0.617647   \n",
       "Train Recall (Merged)                                         1.000000   \n",
       "Test Recall (Merged)                                          0.716981   \n",
       "Train F1 Score (Original)                                     1.000000   \n",
       "Test F1 Score (Original)                                      0.629412   \n",
       "Train F1 Score (Merged)                                       1.000000   \n",
       "Test F1 Score (Merged)                                        0.716981   \n",
       "\n",
       "                               delta  \n",
       "Train Accuracy (Original)   0.285714  \n",
       "Test Accuracy (Original)   -0.088235  \n",
       "Train Accuracy (Merged)     0.250000  \n",
       "Test Accuracy (Merged)      0.113208  \n",
       "Train Precision (Original)  0.247440  \n",
       "Test Precision (Original)  -0.100490  \n",
       "Train Precision (Merged)    0.235981  \n",
       "Test Precision (Merged)     0.153774  \n",
       "Train Recall (Original)     0.285714  \n",
       "Test Recall (Original)     -0.088235  \n",
       "Train Recall (Merged)       0.250000  \n",
       "Test Recall (Merged)        0.113208  \n",
       "Train F1 Score (Original)   0.315737  \n",
       "Test F1 Score (Original)   -0.085434  \n",
       "Train F1 Score (Merged)     0.275874  \n",
       "Test F1 Score (Merged)      0.147394  "
      ]
     },
     "execution_count": 168,
     "metadata": {},
     "output_type": "execute_result"
    }
   ],
   "source": [
    "tfidf_knn = pd.DataFrame(model_tfidf_knn_scores, index=['TF-IDF - K-Nearest Neighbors (KNN) (Before)'])\n",
    "tfidf_knn_tuning = pd.DataFrame(model_tfidf_knn_tuning_scores, index=['TF-IDF - K-Nearest Neighbors (KNN) (After)'])\n",
    "\n",
    "tfidf_knn_result = pd.concat([tfidf_knn, tfidf_knn_tuning]).T\n",
    "tfidf_knn_result['delta'] = tfidf_knn_result['TF-IDF - K-Nearest Neighbors (KNN) (After)'] - tfidf_knn_result['TF-IDF - K-Nearest Neighbors (KNN) (Before)']\n",
    "\n",
    "tfidf_knn_result"
   ]
  },
  {
   "cell_type": "markdown",
   "metadata": {},
   "source": [
    "### Hyperparameter tuning Random Forests"
   ]
  },
  {
   "cell_type": "code",
   "execution_count": 169,
   "metadata": {},
   "outputs": [],
   "source": [
    "# Creating instances for TF-IDF Vectorizer and RandomForestClassifier\n",
    "tfidf = TfidfVectorizer() # Term Frequency-Inverse Document Frequency Vectorizer\n",
    "rf = RandomForestClassifier() # Random Forest Classifier"
   ]
  },
  {
   "cell_type": "code",
   "execution_count": 170,
   "metadata": {},
   "outputs": [],
   "source": [
    "# Creating a Pipeline for K-RandomForestClassifier with TF-IDF Vectorizer\n",
    "tuning_tfidf_rf = Pipeline([\n",
    "    ('tfidf', tfidf),  # TF-IDF Vectorizer as the first step in the pipeline\n",
    "    ('rf', rf)         # KRandom Forest Classifier as the second step in the pipeline\n",
    "])"
   ]
  },
  {
   "cell_type": "code",
   "execution_count": 171,
   "metadata": {},
   "outputs": [],
   "source": [
    "# Hyperparameters to tune for Random Forest within the Pipeline\n",
    "params_rf_tf = {\n",
    "    'rf__n_estimators': [120, 130, 140, 150],            # Number of trees in the forest\n",
    "    'rf__min_samples_split': [6, 7, 8, 9, 10],           # Minimum number of samples required to split an internal node\n",
    "    'rf__max_features': ['auto', 'sqrt', 'log2'],  # Number of features to consider for the best split\n",
    "    'rf__bootstrap': [True, False],                # Whether to bootstrap samples\n",
    "    'rf__random_state': [42]                       # Random seed for reproducibility\n",
    "}"
   ]
  },
  {
   "cell_type": "code",
   "execution_count": 172,
   "metadata": {},
   "outputs": [],
   "source": [
    "# GridSearchCV instantiation for hyperparameter tuning on the original dataset using RandomForestClassifier\n",
    "model_tfidf_rf_grid = GridSearchCV(estimator=tuning_tfidf_rf, param_grid=params_rf_tf)\n",
    "\n",
    "# GridSearchCV instantiation for hyperparameter tuning on the merged dataset using RandomForestClassifier\n",
    "model_tfidf_rf_grid_merged = GridSearchCV(estimator=tuning_tfidf_rf, param_grid=params_rf_tf)"
   ]
  },
  {
   "cell_type": "code",
   "execution_count": 173,
   "metadata": {},
   "outputs": [
    {
     "data": {
      "text/html": [
       "<style>#sk-container-id-16 {color: black;}#sk-container-id-16 pre{padding: 0;}#sk-container-id-16 div.sk-toggleable {background-color: white;}#sk-container-id-16 label.sk-toggleable__label {cursor: pointer;display: block;width: 100%;margin-bottom: 0;padding: 0.3em;box-sizing: border-box;text-align: center;}#sk-container-id-16 label.sk-toggleable__label-arrow:before {content: \"▸\";float: left;margin-right: 0.25em;color: #696969;}#sk-container-id-16 label.sk-toggleable__label-arrow:hover:before {color: black;}#sk-container-id-16 div.sk-estimator:hover label.sk-toggleable__label-arrow:before {color: black;}#sk-container-id-16 div.sk-toggleable__content {max-height: 0;max-width: 0;overflow: hidden;text-align: left;background-color: #f0f8ff;}#sk-container-id-16 div.sk-toggleable__content pre {margin: 0.2em;color: black;border-radius: 0.25em;background-color: #f0f8ff;}#sk-container-id-16 input.sk-toggleable__control:checked~div.sk-toggleable__content {max-height: 200px;max-width: 100%;overflow: auto;}#sk-container-id-16 input.sk-toggleable__control:checked~label.sk-toggleable__label-arrow:before {content: \"▾\";}#sk-container-id-16 div.sk-estimator input.sk-toggleable__control:checked~label.sk-toggleable__label {background-color: #d4ebff;}#sk-container-id-16 div.sk-label input.sk-toggleable__control:checked~label.sk-toggleable__label {background-color: #d4ebff;}#sk-container-id-16 input.sk-hidden--visually {border: 0;clip: rect(1px 1px 1px 1px);clip: rect(1px, 1px, 1px, 1px);height: 1px;margin: -1px;overflow: hidden;padding: 0;position: absolute;width: 1px;}#sk-container-id-16 div.sk-estimator {font-family: monospace;background-color: #f0f8ff;border: 1px dotted black;border-radius: 0.25em;box-sizing: border-box;margin-bottom: 0.5em;}#sk-container-id-16 div.sk-estimator:hover {background-color: #d4ebff;}#sk-container-id-16 div.sk-parallel-item::after {content: \"\";width: 100%;border-bottom: 1px solid gray;flex-grow: 1;}#sk-container-id-16 div.sk-label:hover label.sk-toggleable__label {background-color: #d4ebff;}#sk-container-id-16 div.sk-serial::before {content: \"\";position: absolute;border-left: 1px solid gray;box-sizing: border-box;top: 0;bottom: 0;left: 50%;z-index: 0;}#sk-container-id-16 div.sk-serial {display: flex;flex-direction: column;align-items: center;background-color: white;padding-right: 0.2em;padding-left: 0.2em;position: relative;}#sk-container-id-16 div.sk-item {position: relative;z-index: 1;}#sk-container-id-16 div.sk-parallel {display: flex;align-items: stretch;justify-content: center;background-color: white;position: relative;}#sk-container-id-16 div.sk-item::before, #sk-container-id-16 div.sk-parallel-item::before {content: \"\";position: absolute;border-left: 1px solid gray;box-sizing: border-box;top: 0;bottom: 0;left: 50%;z-index: -1;}#sk-container-id-16 div.sk-parallel-item {display: flex;flex-direction: column;z-index: 1;position: relative;background-color: white;}#sk-container-id-16 div.sk-parallel-item:first-child::after {align-self: flex-end;width: 50%;}#sk-container-id-16 div.sk-parallel-item:last-child::after {align-self: flex-start;width: 50%;}#sk-container-id-16 div.sk-parallel-item:only-child::after {width: 0;}#sk-container-id-16 div.sk-dashed-wrapped {border: 1px dashed gray;margin: 0 0.4em 0.5em 0.4em;box-sizing: border-box;padding-bottom: 0.4em;background-color: white;}#sk-container-id-16 div.sk-label label {font-family: monospace;font-weight: bold;display: inline-block;line-height: 1.2em;}#sk-container-id-16 div.sk-label-container {text-align: center;}#sk-container-id-16 div.sk-container {/* jupyter's `normalize.less` sets `[hidden] { display: none; }` but bootstrap.min.css set `[hidden] { display: none !important; }` so we also need the `!important` here to be able to override the default hidden behavior on the sphinx rendered scikit-learn.org. See: https://github.com/scikit-learn/scikit-learn/issues/21755 */display: inline-block !important;position: relative;}#sk-container-id-16 div.sk-text-repr-fallback {display: none;}</style><div id=\"sk-container-id-16\" class=\"sk-top-container\"><div class=\"sk-text-repr-fallback\"><pre>GridSearchCV(estimator=Pipeline(steps=[(&#x27;tfidf&#x27;, TfidfVectorizer()),\n",
       "                                       (&#x27;rf&#x27;, RandomForestClassifier())]),\n",
       "             param_grid={&#x27;rf__bootstrap&#x27;: [True, False],\n",
       "                         &#x27;rf__max_features&#x27;: [&#x27;auto&#x27;, &#x27;sqrt&#x27;, &#x27;log2&#x27;],\n",
       "                         &#x27;rf__min_samples_split&#x27;: [6, 7, 8, 9, 10],\n",
       "                         &#x27;rf__n_estimators&#x27;: [120, 130, 140, 150],\n",
       "                         &#x27;rf__random_state&#x27;: [42]})</pre><b>In a Jupyter environment, please rerun this cell to show the HTML representation or trust the notebook. <br />On GitHub, the HTML representation is unable to render, please try loading this page with nbviewer.org.</b></div><div class=\"sk-container\" hidden><div class=\"sk-item sk-dashed-wrapped\"><div class=\"sk-label-container\"><div class=\"sk-label sk-toggleable\"><input class=\"sk-toggleable__control sk-hidden--visually\" id=\"sk-estimator-id-41\" type=\"checkbox\" ><label for=\"sk-estimator-id-41\" class=\"sk-toggleable__label sk-toggleable__label-arrow\">GridSearchCV</label><div class=\"sk-toggleable__content\"><pre>GridSearchCV(estimator=Pipeline(steps=[(&#x27;tfidf&#x27;, TfidfVectorizer()),\n",
       "                                       (&#x27;rf&#x27;, RandomForestClassifier())]),\n",
       "             param_grid={&#x27;rf__bootstrap&#x27;: [True, False],\n",
       "                         &#x27;rf__max_features&#x27;: [&#x27;auto&#x27;, &#x27;sqrt&#x27;, &#x27;log2&#x27;],\n",
       "                         &#x27;rf__min_samples_split&#x27;: [6, 7, 8, 9, 10],\n",
       "                         &#x27;rf__n_estimators&#x27;: [120, 130, 140, 150],\n",
       "                         &#x27;rf__random_state&#x27;: [42]})</pre></div></div></div><div class=\"sk-parallel\"><div class=\"sk-parallel-item\"><div class=\"sk-item\"><div class=\"sk-label-container\"><div class=\"sk-label sk-toggleable\"><input class=\"sk-toggleable__control sk-hidden--visually\" id=\"sk-estimator-id-42\" type=\"checkbox\" ><label for=\"sk-estimator-id-42\" class=\"sk-toggleable__label sk-toggleable__label-arrow\">estimator: Pipeline</label><div class=\"sk-toggleable__content\"><pre>Pipeline(steps=[(&#x27;tfidf&#x27;, TfidfVectorizer()), (&#x27;rf&#x27;, RandomForestClassifier())])</pre></div></div></div><div class=\"sk-serial\"><div class=\"sk-item\"><div class=\"sk-serial\"><div class=\"sk-item\"><div class=\"sk-estimator sk-toggleable\"><input class=\"sk-toggleable__control sk-hidden--visually\" id=\"sk-estimator-id-43\" type=\"checkbox\" ><label for=\"sk-estimator-id-43\" class=\"sk-toggleable__label sk-toggleable__label-arrow\">TfidfVectorizer</label><div class=\"sk-toggleable__content\"><pre>TfidfVectorizer()</pre></div></div></div><div class=\"sk-item\"><div class=\"sk-estimator sk-toggleable\"><input class=\"sk-toggleable__control sk-hidden--visually\" id=\"sk-estimator-id-44\" type=\"checkbox\" ><label for=\"sk-estimator-id-44\" class=\"sk-toggleable__label sk-toggleable__label-arrow\">RandomForestClassifier</label><div class=\"sk-toggleable__content\"><pre>RandomForestClassifier()</pre></div></div></div></div></div></div></div></div></div></div></div></div>"
      ],
      "text/plain": [
       "GridSearchCV(estimator=Pipeline(steps=[('tfidf', TfidfVectorizer()),\n",
       "                                       ('rf', RandomForestClassifier())]),\n",
       "             param_grid={'rf__bootstrap': [True, False],\n",
       "                         'rf__max_features': ['auto', 'sqrt', 'log2'],\n",
       "                         'rf__min_samples_split': [6, 7, 8, 9, 10],\n",
       "                         'rf__n_estimators': [120, 130, 140, 150],\n",
       "                         'rf__random_state': [42]})"
      ]
     },
     "execution_count": 173,
     "metadata": {},
     "output_type": "execute_result"
    }
   ],
   "source": [
    "# Fitting the RandomForestClassifier model with GridSearchCV for hyperparameter tuning on the original dataset\n",
    "model_tfidf_rf_grid.fit(X_train, y_train)\n",
    "\n",
    "# Fitting the RandomForestClassifier model with GridSearchCV for hyperparameter tuning on the merged dataset\n",
    "model_tfidf_rf_grid_merged.fit(X_train_merged, y_train_merged)"
   ]
  },
  {
   "cell_type": "code",
   "execution_count": 174,
   "metadata": {},
   "outputs": [
    {
     "name": "stdout",
     "output_type": "stream",
     "text": [
      "Train Accuracy : 0.977\n",
      "Test Accuracy : 0.412\n",
      "Merged Train Accuracy : 1.000\n",
      "Merged Test Accuracy : 0.698\n",
      "Best Accuracy Through Grid Search : 0.548\n",
      "Merged Best Accuracy Through Grid Search : 0.646\n",
      "Best Parameters :  {'rf__bootstrap': False, 'rf__max_features': 'log2', 'rf__min_samples_split': 9, 'rf__n_estimators': 140, 'rf__random_state': 42}\n",
      "Merged Best Parameters :  {'rf__bootstrap': False, 'rf__max_features': 'log2', 'rf__min_samples_split': 8, 'rf__n_estimators': 150, 'rf__random_state': 42}\n"
     ]
    }
   ],
   "source": [
    "# Displaying the model accuracies and best parameters for RandomForestClassifier after GridSearchCV\n",
    "\n",
    "# Training and Test accuracy for the best estimator found in the original dataset\n",
    "print('Train Accuracy : %.3f'%model_tfidf_rf_grid.best_estimator_.score(X_train, y_train))\n",
    "print('Test Accuracy : %.3f'%model_tfidf_rf_grid.best_estimator_.score(X_test, y_test))\n",
    "\n",
    "# Training and Test accuracy for the best estimator found in the merged dataset\n",
    "print('Merged Train Accuracy : %.3f'%model_tfidf_rf_grid_merged.best_estimator_.score(X_train_merged, y_train_merged))\n",
    "print('Merged Test Accuracy : %.3f'%model_tfidf_rf_grid_merged.best_estimator_.score(X_test_merged, y_test_merged))\n",
    "\n",
    "# Best accuracy achieved through GridSearchCV on the original dataset\n",
    "print('Best Accuracy Through Grid Search : %.3f'%model_tfidf_rf_grid.best_score_)\n",
    "\n",
    "# Best accuracy achieved through GridSearchCV on the merged dataset\n",
    "print('Merged Best Accuracy Through Grid Search : %.3f'%model_tfidf_rf_grid_merged.best_score_)\n",
    "\n",
    "# Best parameters for the original dataset\n",
    "print('Best Parameters : ',model_tfidf_rf_grid.best_params_)\n",
    "\n",
    "# Best parameters for the merged dataset\n",
    "print('Merged Best Parameters : ',model_tfidf_rf_grid_merged.best_params_)"
   ]
  },
  {
   "cell_type": "code",
   "execution_count": 175,
   "metadata": {},
   "outputs": [],
   "source": [
    "model_tfidf_rf_tuning_scores = {\n",
    "    'Train Accuracy (Original)': model_tfidf_rf_grid.best_estimator_.score(X_train, y_train),\n",
    "    'Test Accuracy (Original)': model_tfidf_rf_grid.best_estimator_.score(X_test, y_test),\n",
    "    'Train Accuracy (Merged)': model_tfidf_rf_grid_merged.best_estimator_.score(X_train_merged, y_train_merged),\n",
    "    'Test Accuracy (Merged)': model_tfidf_rf_grid_merged.best_estimator_.score(X_test_merged, y_test_merged),\n",
    "\n",
    "    'Train Precision (Original)': precision_score(y_train, model_tfidf_rf_grid.best_estimator_.predict(X_train), average='weighted'),\n",
    "    'Test Precision (Original)': precision_score(y_test, model_tfidf_rf_grid.best_estimator_.predict(X_test), average='weighted'),\n",
    "    'Train Precision (Merged)': precision_score(y_train_merged, model_tfidf_rf_grid_merged.best_estimator_.predict(X_train_merged), average='weighted'),\n",
    "    'Test Precision (Merged)': precision_score(y_test_merged, model_tfidf_rf_grid_merged.best_estimator_.predict(X_test_merged), average='weighted'),\n",
    "\n",
    "    'Train Recall (Original)': recall_score(y_train, model_tfidf_rf_grid.best_estimator_.predict(X_train), average='weighted'),\n",
    "    'Test Recall (Original)': recall_score(y_test, model_tfidf_rf_grid.best_estimator_.predict(X_test), average='weighted'),\n",
    "    'Train Recall (Merged)': recall_score(y_train_merged, model_tfidf_rf_grid_merged.best_estimator_.predict(X_train_merged), average='weighted'),\n",
    "    'Test Recall (Merged)': recall_score(y_test_merged, model_tfidf_rf_grid_merged.best_estimator_.predict(X_test_merged), average='weighted'),\n",
    "\n",
    "    'Train F1 Score (Original)': f1_score(y_train, model_tfidf_rf_grid.best_estimator_.predict(X_train), average='weighted'),\n",
    "    'Test F1 Score (Original)': f1_score(y_test, model_tfidf_rf_grid.best_estimator_.predict(X_test), average='weighted'),\n",
    "    'Train F1 Score (Merged)': f1_score(y_train_merged, model_tfidf_rf_grid_merged.best_estimator_.predict(X_train_merged), average='weighted'),\n",
    "    'Test F1 Score (Merged)': f1_score(y_test_merged, model_tfidf_rf_grid_merged.best_estimator_.predict(X_test_merged), average='weighted')\n",
    "}\n"
   ]
  },
  {
   "cell_type": "code",
   "execution_count": 176,
   "metadata": {},
   "outputs": [
    {
     "data": {
      "text/html": [
       "<div>\n",
       "<style scoped>\n",
       "    .dataframe tbody tr th:only-of-type {\n",
       "        vertical-align: middle;\n",
       "    }\n",
       "\n",
       "    .dataframe tbody tr th {\n",
       "        vertical-align: top;\n",
       "    }\n",
       "\n",
       "    .dataframe thead th {\n",
       "        text-align: right;\n",
       "    }\n",
       "</style>\n",
       "<table border=\"1\" class=\"dataframe\">\n",
       "  <thead>\n",
       "    <tr style=\"text-align: right;\">\n",
       "      <th></th>\n",
       "      <th>TF-IDF - Random Forest (Before)</th>\n",
       "      <th>TF-IDF - Random Forest (After)</th>\n",
       "      <th>delta</th>\n",
       "    </tr>\n",
       "  </thead>\n",
       "  <tbody>\n",
       "    <tr>\n",
       "      <th>Train Accuracy (Original)</th>\n",
       "      <td>0.924812</td>\n",
       "      <td>0.977444</td>\n",
       "      <td>0.052632</td>\n",
       "    </tr>\n",
       "    <tr>\n",
       "      <th>Test Accuracy (Original)</th>\n",
       "      <td>0.941176</td>\n",
       "      <td>0.411765</td>\n",
       "      <td>-0.529412</td>\n",
       "    </tr>\n",
       "    <tr>\n",
       "      <th>Train Accuracy (Merged)</th>\n",
       "      <td>1.000000</td>\n",
       "      <td>1.000000</td>\n",
       "      <td>0.000000</td>\n",
       "    </tr>\n",
       "    <tr>\n",
       "      <th>Test Accuracy (Merged)</th>\n",
       "      <td>0.641509</td>\n",
       "      <td>0.698113</td>\n",
       "      <td>0.056604</td>\n",
       "    </tr>\n",
       "    <tr>\n",
       "      <th>Train Precision (Original)</th>\n",
       "      <td>0.947530</td>\n",
       "      <td>0.974436</td>\n",
       "      <td>0.026907</td>\n",
       "    </tr>\n",
       "    <tr>\n",
       "      <th>Test Precision (Original)</th>\n",
       "      <td>0.955882</td>\n",
       "      <td>0.441176</td>\n",
       "      <td>-0.514706</td>\n",
       "    </tr>\n",
       "    <tr>\n",
       "      <th>Train Precision (Merged)</th>\n",
       "      <td>1.000000</td>\n",
       "      <td>1.000000</td>\n",
       "      <td>0.000000</td>\n",
       "    </tr>\n",
       "    <tr>\n",
       "      <th>Test Precision (Merged)</th>\n",
       "      <td>0.742138</td>\n",
       "      <td>0.835849</td>\n",
       "      <td>0.093711</td>\n",
       "    </tr>\n",
       "    <tr>\n",
       "      <th>Train Recall (Original)</th>\n",
       "      <td>0.924812</td>\n",
       "      <td>0.977444</td>\n",
       "      <td>0.052632</td>\n",
       "    </tr>\n",
       "    <tr>\n",
       "      <th>Test Recall (Original)</th>\n",
       "      <td>0.941176</td>\n",
       "      <td>0.411765</td>\n",
       "      <td>-0.529412</td>\n",
       "    </tr>\n",
       "    <tr>\n",
       "      <th>Train Recall (Merged)</th>\n",
       "      <td>1.000000</td>\n",
       "      <td>1.000000</td>\n",
       "      <td>0.000000</td>\n",
       "    </tr>\n",
       "    <tr>\n",
       "      <th>Test Recall (Merged)</th>\n",
       "      <td>0.641509</td>\n",
       "      <td>0.698113</td>\n",
       "      <td>0.056604</td>\n",
       "    </tr>\n",
       "    <tr>\n",
       "      <th>Train F1 Score (Original)</th>\n",
       "      <td>0.921709</td>\n",
       "      <td>0.974102</td>\n",
       "      <td>0.052393</td>\n",
       "    </tr>\n",
       "    <tr>\n",
       "      <th>Test F1 Score (Original)</th>\n",
       "      <td>0.943137</td>\n",
       "      <td>0.406863</td>\n",
       "      <td>-0.536275</td>\n",
       "    </tr>\n",
       "    <tr>\n",
       "      <th>Train F1 Score (Merged)</th>\n",
       "      <td>1.000000</td>\n",
       "      <td>1.000000</td>\n",
       "      <td>0.000000</td>\n",
       "    </tr>\n",
       "    <tr>\n",
       "      <th>Test F1 Score (Merged)</th>\n",
       "      <td>0.654717</td>\n",
       "      <td>0.707727</td>\n",
       "      <td>0.053010</td>\n",
       "    </tr>\n",
       "  </tbody>\n",
       "</table>\n",
       "</div>"
      ],
      "text/plain": [
       "                            TF-IDF - Random Forest (Before)  \\\n",
       "Train Accuracy (Original)                          0.924812   \n",
       "Test Accuracy (Original)                           0.941176   \n",
       "Train Accuracy (Merged)                            1.000000   \n",
       "Test Accuracy (Merged)                             0.641509   \n",
       "Train Precision (Original)                         0.947530   \n",
       "Test Precision (Original)                          0.955882   \n",
       "Train Precision (Merged)                           1.000000   \n",
       "Test Precision (Merged)                            0.742138   \n",
       "Train Recall (Original)                            0.924812   \n",
       "Test Recall (Original)                             0.941176   \n",
       "Train Recall (Merged)                              1.000000   \n",
       "Test Recall (Merged)                               0.641509   \n",
       "Train F1 Score (Original)                          0.921709   \n",
       "Test F1 Score (Original)                           0.943137   \n",
       "Train F1 Score (Merged)                            1.000000   \n",
       "Test F1 Score (Merged)                             0.654717   \n",
       "\n",
       "                            TF-IDF - Random Forest (After)     delta  \n",
       "Train Accuracy (Original)                         0.977444  0.052632  \n",
       "Test Accuracy (Original)                          0.411765 -0.529412  \n",
       "Train Accuracy (Merged)                           1.000000  0.000000  \n",
       "Test Accuracy (Merged)                            0.698113  0.056604  \n",
       "Train Precision (Original)                        0.974436  0.026907  \n",
       "Test Precision (Original)                         0.441176 -0.514706  \n",
       "Train Precision (Merged)                          1.000000  0.000000  \n",
       "Test Precision (Merged)                           0.835849  0.093711  \n",
       "Train Recall (Original)                           0.977444  0.052632  \n",
       "Test Recall (Original)                            0.411765 -0.529412  \n",
       "Train Recall (Merged)                             1.000000  0.000000  \n",
       "Test Recall (Merged)                              0.698113  0.056604  \n",
       "Train F1 Score (Original)                         0.974102  0.052393  \n",
       "Test F1 Score (Original)                          0.406863 -0.536275  \n",
       "Train F1 Score (Merged)                           1.000000  0.000000  \n",
       "Test F1 Score (Merged)                            0.707727  0.053010  "
      ]
     },
     "execution_count": 176,
     "metadata": {},
     "output_type": "execute_result"
    }
   ],
   "source": [
    "tfidf_rf = pd.DataFrame(model_tfidf_rf_scores, index=['TF-IDF - Random Forest (Before)'])\n",
    "tfidf_rf_tuning = pd.DataFrame(model_tfidf_rf_tuning_scores, index=['TF-IDF - Random Forest (After)'])\n",
    "\n",
    "tfidf_rf_result = pd.concat([tfidf_rf, tfidf_rf_tuning]).T\n",
    "tfidf_rf_result['delta'] = tfidf_rf_result['TF-IDF - Random Forest (After)'] - tfidf_rf_result['TF-IDF - Random Forest (Before)']\n",
    "\n",
    "tfidf_rf_result"
   ]
  },
  {
   "cell_type": "markdown",
   "metadata": {},
   "source": [
    "# Evaluation"
   ]
  },
  {
   "cell_type": "markdown",
   "metadata": {},
   "source": [
    "## Testing on Synthetic Data "
   ]
  },
  {
   "cell_type": "code",
   "execution_count": 177,
   "metadata": {},
   "outputs": [],
   "source": [
    "X_val = df_synthetic['txt_p']\n",
    "y_val = df_synthetic['label']"
   ]
  },
  {
   "cell_type": "markdown",
   "metadata": {},
   "source": [
    "### W2V + LogisticRegression"
   ]
  },
  {
   "cell_type": "code",
   "execution_count": 178,
   "metadata": {},
   "outputs": [],
   "source": [
    "# Vectorize X_val\n",
    "X_val_W2V = np.vstack([txt.vector for txt in nlp.pipe(X_val, disable=[\"parser\", \"ner\"])])"
   ]
  },
  {
   "cell_type": "code",
   "execution_count": 179,
   "metadata": {},
   "outputs": [
    {
     "name": "stdout",
     "output_type": "stream",
     "text": [
      "Accuracy: 0.592\n"
     ]
    }
   ],
   "source": [
    "# Assuming model_w2v_lr_grid.predict(X_val) gives predictions on validation data\n",
    "predictions = model_w2v_lr_grid.predict(X_val_W2V)\n",
    "\n",
    "# Print the accuracy score with three decimal places\n",
    "print('Accuracy: %.3f' % accuracy_score(y_val, predictions))"
   ]
  },
  {
   "cell_type": "markdown",
   "metadata": {},
   "source": [
    "### TF-IDF + LogisticRegression"
   ]
  },
  {
   "cell_type": "code",
   "execution_count": 180,
   "metadata": {},
   "outputs": [
    {
     "name": "stdout",
     "output_type": "stream",
     "text": [
      "Accuracy: 0.684\n"
     ]
    }
   ],
   "source": [
    "# Assuming model_tfidf_lr_grid.predict(X_val) gives predictions on validation data\n",
    "predictions = model_tfidf_lr_grid.predict(X_val)\n",
    "\n",
    "# Print the accuracy score with three decimal places\n",
    "print('Accuracy: %.3f' % accuracy_score(y_val, predictions))"
   ]
  },
  {
   "cell_type": "markdown",
   "metadata": {},
   "source": [
    "### TF-IDF + SVM"
   ]
  },
  {
   "cell_type": "code",
   "execution_count": 181,
   "metadata": {},
   "outputs": [
    {
     "name": "stdout",
     "output_type": "stream",
     "text": [
      "Accuracy: 0.684\n"
     ]
    }
   ],
   "source": [
    "# Assuming model_tfidf_svm_grid.predict(X_val) gives predictions on validation data\n",
    "predictions = model_tfidf_svm_grid.predict(X_val)\n",
    "\n",
    "# Print the accuracy score with three decimal places\n",
    "print('Accuracy: %.3f' % accuracy_score(y_val, predictions))"
   ]
  },
  {
   "cell_type": "markdown",
   "metadata": {},
   "source": [
    "### TF-IDF + Random Forrest"
   ]
  },
  {
   "cell_type": "code",
   "execution_count": 182,
   "metadata": {},
   "outputs": [
    {
     "name": "stdout",
     "output_type": "stream",
     "text": [
      "Accuracy: 0.929\n"
     ]
    }
   ],
   "source": [
    "# Assuming model_tfidf_rf.predict(X_val) gives predictions on validation data\n",
    "predictions = model_tfidf_rf.predict(X_val)\n",
    "\n",
    "# Print the accuracy score with three decimal places\n",
    "print('Accuracy: %.3f' % accuracy_score(y_val, predictions))"
   ]
  },
  {
   "cell_type": "markdown",
   "metadata": {},
   "source": [
    "## Pandas df to compare"
   ]
  },
  {
   "cell_type": "code",
   "execution_count": 183,
   "metadata": {},
   "outputs": [
    {
     "data": {
      "text/html": [
       "<div>\n",
       "<style scoped>\n",
       "    .dataframe tbody tr th:only-of-type {\n",
       "        vertical-align: middle;\n",
       "    }\n",
       "\n",
       "    .dataframe tbody tr th {\n",
       "        vertical-align: top;\n",
       "    }\n",
       "\n",
       "    .dataframe thead th {\n",
       "        text-align: right;\n",
       "    }\n",
       "</style>\n",
       "<table border=\"1\" class=\"dataframe\">\n",
       "  <thead>\n",
       "    <tr style=\"text-align: right;\">\n",
       "      <th></th>\n",
       "      <th>Train Accuracy (Original)</th>\n",
       "      <th>Test Accuracy (Original)</th>\n",
       "      <th>Train Accuracy (Merged)</th>\n",
       "      <th>Test Accuracy (Merged)</th>\n",
       "      <th>Train Precision (Original)</th>\n",
       "      <th>Test Precision (Original)</th>\n",
       "      <th>Train Precision (Merged)</th>\n",
       "      <th>Test Precision (Merged)</th>\n",
       "      <th>Train Recall (Original)</th>\n",
       "      <th>Test Recall (Original)</th>\n",
       "      <th>Train Recall (Merged)</th>\n",
       "      <th>Test Recall (Merged)</th>\n",
       "      <th>Train F1 Score (Original)</th>\n",
       "      <th>Test F1 Score (Original)</th>\n",
       "      <th>Train F1 Score (Merged)</th>\n",
       "      <th>Test F1 Score (Merged)</th>\n",
       "    </tr>\n",
       "  </thead>\n",
       "  <tbody>\n",
       "    <tr>\n",
       "      <th>W2V - Logistic Regression</th>\n",
       "      <td>0.984962</td>\n",
       "      <td>0.411765</td>\n",
       "      <td>0.981132</td>\n",
       "      <td>0.660377</td>\n",
       "      <td>0.988346</td>\n",
       "      <td>0.455882</td>\n",
       "      <td>0.985714</td>\n",
       "      <td>0.693396</td>\n",
       "      <td>0.984962</td>\n",
       "      <td>0.411765</td>\n",
       "      <td>0.981132</td>\n",
       "      <td>0.660377</td>\n",
       "      <td>0.984628</td>\n",
       "      <td>0.403922</td>\n",
       "      <td>0.981505</td>\n",
       "      <td>0.659119</td>\n",
       "    </tr>\n",
       "    <tr>\n",
       "      <th>W2V - Support Vector Machine (SVM)</th>\n",
       "      <td>0.578947</td>\n",
       "      <td>0.088235</td>\n",
       "      <td>0.608491</td>\n",
       "      <td>0.207547</td>\n",
       "      <td>0.488124</td>\n",
       "      <td>0.117647</td>\n",
       "      <td>0.568422</td>\n",
       "      <td>0.205076</td>\n",
       "      <td>0.578947</td>\n",
       "      <td>0.088235</td>\n",
       "      <td>0.608491</td>\n",
       "      <td>0.207547</td>\n",
       "      <td>0.491536</td>\n",
       "      <td>0.098039</td>\n",
       "      <td>0.537834</td>\n",
       "      <td>0.171429</td>\n",
       "    </tr>\n",
       "    <tr>\n",
       "      <th>W2V - K-Nearest Neighbors (KNN)</th>\n",
       "      <td>0.511278</td>\n",
       "      <td>0.205882</td>\n",
       "      <td>0.514151</td>\n",
       "      <td>0.301887</td>\n",
       "      <td>0.479540</td>\n",
       "      <td>0.220588</td>\n",
       "      <td>0.520489</td>\n",
       "      <td>0.232704</td>\n",
       "      <td>0.511278</td>\n",
       "      <td>0.205882</td>\n",
       "      <td>0.514151</td>\n",
       "      <td>0.301887</td>\n",
       "      <td>0.446781</td>\n",
       "      <td>0.205882</td>\n",
       "      <td>0.471180</td>\n",
       "      <td>0.245597</td>\n",
       "    </tr>\n",
       "    <tr>\n",
       "      <th>W2V - Random Forest</th>\n",
       "      <td>0.984962</td>\n",
       "      <td>0.294118</td>\n",
       "      <td>0.981132</td>\n",
       "      <td>0.509434</td>\n",
       "      <td>0.988346</td>\n",
       "      <td>0.362745</td>\n",
       "      <td>0.985714</td>\n",
       "      <td>0.644025</td>\n",
       "      <td>0.984962</td>\n",
       "      <td>0.294118</td>\n",
       "      <td>0.981132</td>\n",
       "      <td>0.509434</td>\n",
       "      <td>0.984628</td>\n",
       "      <td>0.297059</td>\n",
       "      <td>0.981505</td>\n",
       "      <td>0.524079</td>\n",
       "    </tr>\n",
       "    <tr>\n",
       "      <th>TF-IDF - Logistic Regression</th>\n",
       "      <td>0.736842</td>\n",
       "      <td>0.705882</td>\n",
       "      <td>0.858491</td>\n",
       "      <td>0.509434</td>\n",
       "      <td>0.738364</td>\n",
       "      <td>0.656863</td>\n",
       "      <td>0.816941</td>\n",
       "      <td>0.483962</td>\n",
       "      <td>0.736842</td>\n",
       "      <td>0.705882</td>\n",
       "      <td>0.858491</td>\n",
       "      <td>0.509434</td>\n",
       "      <td>0.690767</td>\n",
       "      <td>0.671569</td>\n",
       "      <td>0.819206</td>\n",
       "      <td>0.457833</td>\n",
       "    </tr>\n",
       "    <tr>\n",
       "      <th>TF-IDF - Support Vector Machine (SVM)</th>\n",
       "      <td>0.864662</td>\n",
       "      <td>0.823529</td>\n",
       "      <td>0.981132</td>\n",
       "      <td>0.509434</td>\n",
       "      <td>0.911236</td>\n",
       "      <td>0.840686</td>\n",
       "      <td>0.979565</td>\n",
       "      <td>0.565813</td>\n",
       "      <td>0.864662</td>\n",
       "      <td>0.823529</td>\n",
       "      <td>0.981132</td>\n",
       "      <td>0.509434</td>\n",
       "      <td>0.860855</td>\n",
       "      <td>0.810784</td>\n",
       "      <td>0.978176</td>\n",
       "      <td>0.493321</td>\n",
       "    </tr>\n",
       "    <tr>\n",
       "      <th>TF-IDF K-Nearest Neighbors (KNN)</th>\n",
       "      <td>0.714286</td>\n",
       "      <td>0.705882</td>\n",
       "      <td>0.750000</td>\n",
       "      <td>0.603774</td>\n",
       "      <td>0.752560</td>\n",
       "      <td>0.791667</td>\n",
       "      <td>0.764019</td>\n",
       "      <td>0.651887</td>\n",
       "      <td>0.714286</td>\n",
       "      <td>0.705882</td>\n",
       "      <td>0.750000</td>\n",
       "      <td>0.603774</td>\n",
       "      <td>0.684263</td>\n",
       "      <td>0.714846</td>\n",
       "      <td>0.724126</td>\n",
       "      <td>0.569587</td>\n",
       "    </tr>\n",
       "    <tr>\n",
       "      <th>TF-IDF - Random Forest</th>\n",
       "      <td>0.924812</td>\n",
       "      <td>0.941176</td>\n",
       "      <td>1.000000</td>\n",
       "      <td>0.641509</td>\n",
       "      <td>0.947530</td>\n",
       "      <td>0.955882</td>\n",
       "      <td>1.000000</td>\n",
       "      <td>0.742138</td>\n",
       "      <td>0.924812</td>\n",
       "      <td>0.941176</td>\n",
       "      <td>1.000000</td>\n",
       "      <td>0.641509</td>\n",
       "      <td>0.921709</td>\n",
       "      <td>0.943137</td>\n",
       "      <td>1.000000</td>\n",
       "      <td>0.654717</td>\n",
       "    </tr>\n",
       "  </tbody>\n",
       "</table>\n",
       "</div>"
      ],
      "text/plain": [
       "                                       Train Accuracy (Original)  \\\n",
       "W2V - Logistic Regression                               0.984962   \n",
       "W2V - Support Vector Machine (SVM)                      0.578947   \n",
       "W2V - K-Nearest Neighbors (KNN)                         0.511278   \n",
       "W2V - Random Forest                                     0.984962   \n",
       "TF-IDF - Logistic Regression                            0.736842   \n",
       "TF-IDF - Support Vector Machine (SVM)                   0.864662   \n",
       "TF-IDF K-Nearest Neighbors (KNN)                        0.714286   \n",
       "TF-IDF - Random Forest                                  0.924812   \n",
       "\n",
       "                                       Test Accuracy (Original)  \\\n",
       "W2V - Logistic Regression                              0.411765   \n",
       "W2V - Support Vector Machine (SVM)                     0.088235   \n",
       "W2V - K-Nearest Neighbors (KNN)                        0.205882   \n",
       "W2V - Random Forest                                    0.294118   \n",
       "TF-IDF - Logistic Regression                           0.705882   \n",
       "TF-IDF - Support Vector Machine (SVM)                  0.823529   \n",
       "TF-IDF K-Nearest Neighbors (KNN)                       0.705882   \n",
       "TF-IDF - Random Forest                                 0.941176   \n",
       "\n",
       "                                       Train Accuracy (Merged)  \\\n",
       "W2V - Logistic Regression                             0.981132   \n",
       "W2V - Support Vector Machine (SVM)                    0.608491   \n",
       "W2V - K-Nearest Neighbors (KNN)                       0.514151   \n",
       "W2V - Random Forest                                   0.981132   \n",
       "TF-IDF - Logistic Regression                          0.858491   \n",
       "TF-IDF - Support Vector Machine (SVM)                 0.981132   \n",
       "TF-IDF K-Nearest Neighbors (KNN)                      0.750000   \n",
       "TF-IDF - Random Forest                                1.000000   \n",
       "\n",
       "                                       Test Accuracy (Merged)  \\\n",
       "W2V - Logistic Regression                            0.660377   \n",
       "W2V - Support Vector Machine (SVM)                   0.207547   \n",
       "W2V - K-Nearest Neighbors (KNN)                      0.301887   \n",
       "W2V - Random Forest                                  0.509434   \n",
       "TF-IDF - Logistic Regression                         0.509434   \n",
       "TF-IDF - Support Vector Machine (SVM)                0.509434   \n",
       "TF-IDF K-Nearest Neighbors (KNN)                     0.603774   \n",
       "TF-IDF - Random Forest                               0.641509   \n",
       "\n",
       "                                       Train Precision (Original)  \\\n",
       "W2V - Logistic Regression                                0.988346   \n",
       "W2V - Support Vector Machine (SVM)                       0.488124   \n",
       "W2V - K-Nearest Neighbors (KNN)                          0.479540   \n",
       "W2V - Random Forest                                      0.988346   \n",
       "TF-IDF - Logistic Regression                             0.738364   \n",
       "TF-IDF - Support Vector Machine (SVM)                    0.911236   \n",
       "TF-IDF K-Nearest Neighbors (KNN)                         0.752560   \n",
       "TF-IDF - Random Forest                                   0.947530   \n",
       "\n",
       "                                       Test Precision (Original)  \\\n",
       "W2V - Logistic Regression                               0.455882   \n",
       "W2V - Support Vector Machine (SVM)                      0.117647   \n",
       "W2V - K-Nearest Neighbors (KNN)                         0.220588   \n",
       "W2V - Random Forest                                     0.362745   \n",
       "TF-IDF - Logistic Regression                            0.656863   \n",
       "TF-IDF - Support Vector Machine (SVM)                   0.840686   \n",
       "TF-IDF K-Nearest Neighbors (KNN)                        0.791667   \n",
       "TF-IDF - Random Forest                                  0.955882   \n",
       "\n",
       "                                       Train Precision (Merged)  \\\n",
       "W2V - Logistic Regression                              0.985714   \n",
       "W2V - Support Vector Machine (SVM)                     0.568422   \n",
       "W2V - K-Nearest Neighbors (KNN)                        0.520489   \n",
       "W2V - Random Forest                                    0.985714   \n",
       "TF-IDF - Logistic Regression                           0.816941   \n",
       "TF-IDF - Support Vector Machine (SVM)                  0.979565   \n",
       "TF-IDF K-Nearest Neighbors (KNN)                       0.764019   \n",
       "TF-IDF - Random Forest                                 1.000000   \n",
       "\n",
       "                                       Test Precision (Merged)  \\\n",
       "W2V - Logistic Regression                             0.693396   \n",
       "W2V - Support Vector Machine (SVM)                    0.205076   \n",
       "W2V - K-Nearest Neighbors (KNN)                       0.232704   \n",
       "W2V - Random Forest                                   0.644025   \n",
       "TF-IDF - Logistic Regression                          0.483962   \n",
       "TF-IDF - Support Vector Machine (SVM)                 0.565813   \n",
       "TF-IDF K-Nearest Neighbors (KNN)                      0.651887   \n",
       "TF-IDF - Random Forest                                0.742138   \n",
       "\n",
       "                                       Train Recall (Original)  \\\n",
       "W2V - Logistic Regression                             0.984962   \n",
       "W2V - Support Vector Machine (SVM)                    0.578947   \n",
       "W2V - K-Nearest Neighbors (KNN)                       0.511278   \n",
       "W2V - Random Forest                                   0.984962   \n",
       "TF-IDF - Logistic Regression                          0.736842   \n",
       "TF-IDF - Support Vector Machine (SVM)                 0.864662   \n",
       "TF-IDF K-Nearest Neighbors (KNN)                      0.714286   \n",
       "TF-IDF - Random Forest                                0.924812   \n",
       "\n",
       "                                       Test Recall (Original)  \\\n",
       "W2V - Logistic Regression                            0.411765   \n",
       "W2V - Support Vector Machine (SVM)                   0.088235   \n",
       "W2V - K-Nearest Neighbors (KNN)                      0.205882   \n",
       "W2V - Random Forest                                  0.294118   \n",
       "TF-IDF - Logistic Regression                         0.705882   \n",
       "TF-IDF - Support Vector Machine (SVM)                0.823529   \n",
       "TF-IDF K-Nearest Neighbors (KNN)                     0.705882   \n",
       "TF-IDF - Random Forest                               0.941176   \n",
       "\n",
       "                                       Train Recall (Merged)  \\\n",
       "W2V - Logistic Regression                           0.981132   \n",
       "W2V - Support Vector Machine (SVM)                  0.608491   \n",
       "W2V - K-Nearest Neighbors (KNN)                     0.514151   \n",
       "W2V - Random Forest                                 0.981132   \n",
       "TF-IDF - Logistic Regression                        0.858491   \n",
       "TF-IDF - Support Vector Machine (SVM)               0.981132   \n",
       "TF-IDF K-Nearest Neighbors (KNN)                    0.750000   \n",
       "TF-IDF - Random Forest                              1.000000   \n",
       "\n",
       "                                       Test Recall (Merged)  \\\n",
       "W2V - Logistic Regression                          0.660377   \n",
       "W2V - Support Vector Machine (SVM)                 0.207547   \n",
       "W2V - K-Nearest Neighbors (KNN)                    0.301887   \n",
       "W2V - Random Forest                                0.509434   \n",
       "TF-IDF - Logistic Regression                       0.509434   \n",
       "TF-IDF - Support Vector Machine (SVM)              0.509434   \n",
       "TF-IDF K-Nearest Neighbors (KNN)                   0.603774   \n",
       "TF-IDF - Random Forest                             0.641509   \n",
       "\n",
       "                                       Train F1 Score (Original)  \\\n",
       "W2V - Logistic Regression                               0.984628   \n",
       "W2V - Support Vector Machine (SVM)                      0.491536   \n",
       "W2V - K-Nearest Neighbors (KNN)                         0.446781   \n",
       "W2V - Random Forest                                     0.984628   \n",
       "TF-IDF - Logistic Regression                            0.690767   \n",
       "TF-IDF - Support Vector Machine (SVM)                   0.860855   \n",
       "TF-IDF K-Nearest Neighbors (KNN)                        0.684263   \n",
       "TF-IDF - Random Forest                                  0.921709   \n",
       "\n",
       "                                       Test F1 Score (Original)  \\\n",
       "W2V - Logistic Regression                              0.403922   \n",
       "W2V - Support Vector Machine (SVM)                     0.098039   \n",
       "W2V - K-Nearest Neighbors (KNN)                        0.205882   \n",
       "W2V - Random Forest                                    0.297059   \n",
       "TF-IDF - Logistic Regression                           0.671569   \n",
       "TF-IDF - Support Vector Machine (SVM)                  0.810784   \n",
       "TF-IDF K-Nearest Neighbors (KNN)                       0.714846   \n",
       "TF-IDF - Random Forest                                 0.943137   \n",
       "\n",
       "                                       Train F1 Score (Merged)  \\\n",
       "W2V - Logistic Regression                             0.981505   \n",
       "W2V - Support Vector Machine (SVM)                    0.537834   \n",
       "W2V - K-Nearest Neighbors (KNN)                       0.471180   \n",
       "W2V - Random Forest                                   0.981505   \n",
       "TF-IDF - Logistic Regression                          0.819206   \n",
       "TF-IDF - Support Vector Machine (SVM)                 0.978176   \n",
       "TF-IDF K-Nearest Neighbors (KNN)                      0.724126   \n",
       "TF-IDF - Random Forest                                1.000000   \n",
       "\n",
       "                                       Test F1 Score (Merged)  \n",
       "W2V - Logistic Regression                            0.659119  \n",
       "W2V - Support Vector Machine (SVM)                   0.171429  \n",
       "W2V - K-Nearest Neighbors (KNN)                      0.245597  \n",
       "W2V - Random Forest                                  0.524079  \n",
       "TF-IDF - Logistic Regression                         0.457833  \n",
       "TF-IDF - Support Vector Machine (SVM)                0.493321  \n",
       "TF-IDF K-Nearest Neighbors (KNN)                     0.569587  \n",
       "TF-IDF - Random Forest                               0.654717  "
      ]
     },
     "execution_count": 183,
     "metadata": {},
     "output_type": "execute_result"
    }
   ],
   "source": [
    "# Creating DataFrames for each model's scores\n",
    "lr_w2v_df = pd.DataFrame(model_w2v_lr_scores, index=['W2V - Logistic Regression'])\n",
    "svm_w2v_df = pd.DataFrame(model_w2v_svm_scores, index=['W2V - Support Vector Machine (SVM)'])\n",
    "knn_w2v_df = pd.DataFrame(model_w2v_knn_scores, index=['W2V - K-Nearest Neighbors (KNN)'])\n",
    "rf_w2v_df = pd.DataFrame(model_w2v_rf_scores, index=['W2V - Random Forest'])\n",
    "lr_tfidf_df = pd.DataFrame(model_tfidf_lr_scores, index=['TF-IDF - Logistic Regression'])\n",
    "svm_tfidf_df = pd.DataFrame(model_tfidf_svm_scores, index=['TF-IDF - Support Vector Machine (SVM)'])\n",
    "knn_tfidf_df = pd.DataFrame(model_tfidf_knn_scores, index=['TF-IDF K-Nearest Neighbors (KNN)'])\n",
    "rf_tfidf_df = pd.DataFrame(model_tfidf_rf_scores, index=['TF-IDF - Random Forest'])\n",
    "\n",
    "# Concatenating all DataFrames into a single DataFrame\n",
    "result_before_tuning = pd.concat([lr_w2v_df, svm_w2v_df, knn_w2v_df, rf_w2v_df, lr_tfidf_df, svm_tfidf_df, knn_tfidf_df, rf_tfidf_df])\n",
    "\n",
    "result_before_tuning"
   ]
  },
  {
   "cell_type": "code",
   "execution_count": 184,
   "metadata": {},
   "outputs": [],
   "source": [
    "# Copy the contents of the DataFrame 'result' to the system clipboard\n",
    "result_before_tuning.to_clipboard()"
   ]
  },
  {
   "cell_type": "code",
   "execution_count": 185,
   "metadata": {},
   "outputs": [
    {
     "data": {
      "text/html": [
       "<div>\n",
       "<style scoped>\n",
       "    .dataframe tbody tr th:only-of-type {\n",
       "        vertical-align: middle;\n",
       "    }\n",
       "\n",
       "    .dataframe tbody tr th {\n",
       "        vertical-align: top;\n",
       "    }\n",
       "\n",
       "    .dataframe thead th {\n",
       "        text-align: right;\n",
       "    }\n",
       "</style>\n",
       "<table border=\"1\" class=\"dataframe\">\n",
       "  <thead>\n",
       "    <tr style=\"text-align: right;\">\n",
       "      <th></th>\n",
       "      <th>Train Accuracy (Original)</th>\n",
       "      <th>Test Accuracy (Original)</th>\n",
       "      <th>Train Accuracy (Merged)</th>\n",
       "      <th>Test Accuracy (Merged)</th>\n",
       "      <th>Train Precision (Original)</th>\n",
       "      <th>Test Precision (Original)</th>\n",
       "      <th>Train Precision (Merged)</th>\n",
       "      <th>Test Precision (Merged)</th>\n",
       "      <th>Train Recall (Original)</th>\n",
       "      <th>Test Recall (Original)</th>\n",
       "      <th>Train Recall (Merged)</th>\n",
       "      <th>Test Recall (Merged)</th>\n",
       "      <th>Train F1 Score (Original)</th>\n",
       "      <th>Test F1 Score (Original)</th>\n",
       "      <th>Train F1 Score (Merged)</th>\n",
       "      <th>Test F1 Score (Merged)</th>\n",
       "    </tr>\n",
       "  </thead>\n",
       "  <tbody>\n",
       "    <tr>\n",
       "      <th>W2V - Logistic Regression</th>\n",
       "      <td>0.984962</td>\n",
       "      <td>0.470588</td>\n",
       "      <td>0.981132</td>\n",
       "      <td>0.679245</td>\n",
       "      <td>0.988346</td>\n",
       "      <td>0.529412</td>\n",
       "      <td>0.985714</td>\n",
       "      <td>0.693396</td>\n",
       "      <td>0.984962</td>\n",
       "      <td>0.470588</td>\n",
       "      <td>0.981132</td>\n",
       "      <td>0.679245</td>\n",
       "      <td>0.984628</td>\n",
       "      <td>0.464706</td>\n",
       "      <td>0.981505</td>\n",
       "      <td>0.671698</td>\n",
       "    </tr>\n",
       "    <tr>\n",
       "      <th>W2V - Support Vector Machine (SVM)</th>\n",
       "      <td>0.984962</td>\n",
       "      <td>0.382353</td>\n",
       "      <td>0.981132</td>\n",
       "      <td>0.660377</td>\n",
       "      <td>0.988722</td>\n",
       "      <td>0.411765</td>\n",
       "      <td>0.985714</td>\n",
       "      <td>0.768868</td>\n",
       "      <td>0.984962</td>\n",
       "      <td>0.382353</td>\n",
       "      <td>0.981132</td>\n",
       "      <td>0.660377</td>\n",
       "      <td>0.984962</td>\n",
       "      <td>0.376471</td>\n",
       "      <td>0.981505</td>\n",
       "      <td>0.691195</td>\n",
       "    </tr>\n",
       "    <tr>\n",
       "      <th>W2V - K-Nearest Neighbors (KNN)</th>\n",
       "      <td>0.984962</td>\n",
       "      <td>0.294118</td>\n",
       "      <td>0.981132</td>\n",
       "      <td>0.528302</td>\n",
       "      <td>0.988346</td>\n",
       "      <td>0.372549</td>\n",
       "      <td>0.985115</td>\n",
       "      <td>0.587736</td>\n",
       "      <td>0.984962</td>\n",
       "      <td>0.294118</td>\n",
       "      <td>0.981132</td>\n",
       "      <td>0.528302</td>\n",
       "      <td>0.984628</td>\n",
       "      <td>0.298039</td>\n",
       "      <td>0.981228</td>\n",
       "      <td>0.531447</td>\n",
       "    </tr>\n",
       "    <tr>\n",
       "      <th>W2V - Random Forest</th>\n",
       "      <td>0.984962</td>\n",
       "      <td>0.294118</td>\n",
       "      <td>0.981132</td>\n",
       "      <td>0.490566</td>\n",
       "      <td>0.988346</td>\n",
       "      <td>0.382353</td>\n",
       "      <td>0.985714</td>\n",
       "      <td>0.630503</td>\n",
       "      <td>0.984962</td>\n",
       "      <td>0.294118</td>\n",
       "      <td>0.981132</td>\n",
       "      <td>0.490566</td>\n",
       "      <td>0.984628</td>\n",
       "      <td>0.308824</td>\n",
       "      <td>0.981505</td>\n",
       "      <td>0.513387</td>\n",
       "    </tr>\n",
       "    <tr>\n",
       "      <th>TF-IDF - Logistic Regression</th>\n",
       "      <td>1.000000</td>\n",
       "      <td>0.529412</td>\n",
       "      <td>1.000000</td>\n",
       "      <td>0.773585</td>\n",
       "      <td>1.000000</td>\n",
       "      <td>0.691176</td>\n",
       "      <td>1.000000</td>\n",
       "      <td>0.861006</td>\n",
       "      <td>1.000000</td>\n",
       "      <td>0.529412</td>\n",
       "      <td>1.000000</td>\n",
       "      <td>0.773585</td>\n",
       "      <td>1.000000</td>\n",
       "      <td>0.575490</td>\n",
       "      <td>1.000000</td>\n",
       "      <td>0.777673</td>\n",
       "    </tr>\n",
       "    <tr>\n",
       "      <th>TF-IDF - Support Vector Machine (SVM)</th>\n",
       "      <td>0.984962</td>\n",
       "      <td>0.558824</td>\n",
       "      <td>0.995283</td>\n",
       "      <td>0.754717</td>\n",
       "      <td>0.987970</td>\n",
       "      <td>0.656863</td>\n",
       "      <td>0.996226</td>\n",
       "      <td>0.892453</td>\n",
       "      <td>0.984962</td>\n",
       "      <td>0.558824</td>\n",
       "      <td>0.995283</td>\n",
       "      <td>0.754717</td>\n",
       "      <td>0.984962</td>\n",
       "      <td>0.580392</td>\n",
       "      <td>0.995331</td>\n",
       "      <td>0.763792</td>\n",
       "    </tr>\n",
       "    <tr>\n",
       "      <th>TF-IDF K-Nearest Neighbors (KNN)</th>\n",
       "      <td>1.000000</td>\n",
       "      <td>0.617647</td>\n",
       "      <td>1.000000</td>\n",
       "      <td>0.716981</td>\n",
       "      <td>1.000000</td>\n",
       "      <td>0.691176</td>\n",
       "      <td>1.000000</td>\n",
       "      <td>0.805660</td>\n",
       "      <td>1.000000</td>\n",
       "      <td>0.617647</td>\n",
       "      <td>1.000000</td>\n",
       "      <td>0.716981</td>\n",
       "      <td>1.000000</td>\n",
       "      <td>0.629412</td>\n",
       "      <td>1.000000</td>\n",
       "      <td>0.716981</td>\n",
       "    </tr>\n",
       "    <tr>\n",
       "      <th>TF-IDF - Random Forest</th>\n",
       "      <td>0.977444</td>\n",
       "      <td>0.411765</td>\n",
       "      <td>1.000000</td>\n",
       "      <td>0.698113</td>\n",
       "      <td>0.974436</td>\n",
       "      <td>0.441176</td>\n",
       "      <td>1.000000</td>\n",
       "      <td>0.835849</td>\n",
       "      <td>0.977444</td>\n",
       "      <td>0.411765</td>\n",
       "      <td>1.000000</td>\n",
       "      <td>0.698113</td>\n",
       "      <td>0.974102</td>\n",
       "      <td>0.406863</td>\n",
       "      <td>1.000000</td>\n",
       "      <td>0.707727</td>\n",
       "    </tr>\n",
       "  </tbody>\n",
       "</table>\n",
       "</div>"
      ],
      "text/plain": [
       "                                       Train Accuracy (Original)  \\\n",
       "W2V - Logistic Regression                               0.984962   \n",
       "W2V - Support Vector Machine (SVM)                      0.984962   \n",
       "W2V - K-Nearest Neighbors (KNN)                         0.984962   \n",
       "W2V - Random Forest                                     0.984962   \n",
       "TF-IDF - Logistic Regression                            1.000000   \n",
       "TF-IDF - Support Vector Machine (SVM)                   0.984962   \n",
       "TF-IDF K-Nearest Neighbors (KNN)                        1.000000   \n",
       "TF-IDF - Random Forest                                  0.977444   \n",
       "\n",
       "                                       Test Accuracy (Original)  \\\n",
       "W2V - Logistic Regression                              0.470588   \n",
       "W2V - Support Vector Machine (SVM)                     0.382353   \n",
       "W2V - K-Nearest Neighbors (KNN)                        0.294118   \n",
       "W2V - Random Forest                                    0.294118   \n",
       "TF-IDF - Logistic Regression                           0.529412   \n",
       "TF-IDF - Support Vector Machine (SVM)                  0.558824   \n",
       "TF-IDF K-Nearest Neighbors (KNN)                       0.617647   \n",
       "TF-IDF - Random Forest                                 0.411765   \n",
       "\n",
       "                                       Train Accuracy (Merged)  \\\n",
       "W2V - Logistic Regression                             0.981132   \n",
       "W2V - Support Vector Machine (SVM)                    0.981132   \n",
       "W2V - K-Nearest Neighbors (KNN)                       0.981132   \n",
       "W2V - Random Forest                                   0.981132   \n",
       "TF-IDF - Logistic Regression                          1.000000   \n",
       "TF-IDF - Support Vector Machine (SVM)                 0.995283   \n",
       "TF-IDF K-Nearest Neighbors (KNN)                      1.000000   \n",
       "TF-IDF - Random Forest                                1.000000   \n",
       "\n",
       "                                       Test Accuracy (Merged)  \\\n",
       "W2V - Logistic Regression                            0.679245   \n",
       "W2V - Support Vector Machine (SVM)                   0.660377   \n",
       "W2V - K-Nearest Neighbors (KNN)                      0.528302   \n",
       "W2V - Random Forest                                  0.490566   \n",
       "TF-IDF - Logistic Regression                         0.773585   \n",
       "TF-IDF - Support Vector Machine (SVM)                0.754717   \n",
       "TF-IDF K-Nearest Neighbors (KNN)                     0.716981   \n",
       "TF-IDF - Random Forest                               0.698113   \n",
       "\n",
       "                                       Train Precision (Original)  \\\n",
       "W2V - Logistic Regression                                0.988346   \n",
       "W2V - Support Vector Machine (SVM)                       0.988722   \n",
       "W2V - K-Nearest Neighbors (KNN)                          0.988346   \n",
       "W2V - Random Forest                                      0.988346   \n",
       "TF-IDF - Logistic Regression                             1.000000   \n",
       "TF-IDF - Support Vector Machine (SVM)                    0.987970   \n",
       "TF-IDF K-Nearest Neighbors (KNN)                         1.000000   \n",
       "TF-IDF - Random Forest                                   0.974436   \n",
       "\n",
       "                                       Test Precision (Original)  \\\n",
       "W2V - Logistic Regression                               0.529412   \n",
       "W2V - Support Vector Machine (SVM)                      0.411765   \n",
       "W2V - K-Nearest Neighbors (KNN)                         0.372549   \n",
       "W2V - Random Forest                                     0.382353   \n",
       "TF-IDF - Logistic Regression                            0.691176   \n",
       "TF-IDF - Support Vector Machine (SVM)                   0.656863   \n",
       "TF-IDF K-Nearest Neighbors (KNN)                        0.691176   \n",
       "TF-IDF - Random Forest                                  0.441176   \n",
       "\n",
       "                                       Train Precision (Merged)  \\\n",
       "W2V - Logistic Regression                              0.985714   \n",
       "W2V - Support Vector Machine (SVM)                     0.985714   \n",
       "W2V - K-Nearest Neighbors (KNN)                        0.985115   \n",
       "W2V - Random Forest                                    0.985714   \n",
       "TF-IDF - Logistic Regression                           1.000000   \n",
       "TF-IDF - Support Vector Machine (SVM)                  0.996226   \n",
       "TF-IDF K-Nearest Neighbors (KNN)                       1.000000   \n",
       "TF-IDF - Random Forest                                 1.000000   \n",
       "\n",
       "                                       Test Precision (Merged)  \\\n",
       "W2V - Logistic Regression                             0.693396   \n",
       "W2V - Support Vector Machine (SVM)                    0.768868   \n",
       "W2V - K-Nearest Neighbors (KNN)                       0.587736   \n",
       "W2V - Random Forest                                   0.630503   \n",
       "TF-IDF - Logistic Regression                          0.861006   \n",
       "TF-IDF - Support Vector Machine (SVM)                 0.892453   \n",
       "TF-IDF K-Nearest Neighbors (KNN)                      0.805660   \n",
       "TF-IDF - Random Forest                                0.835849   \n",
       "\n",
       "                                       Train Recall (Original)  \\\n",
       "W2V - Logistic Regression                             0.984962   \n",
       "W2V - Support Vector Machine (SVM)                    0.984962   \n",
       "W2V - K-Nearest Neighbors (KNN)                       0.984962   \n",
       "W2V - Random Forest                                   0.984962   \n",
       "TF-IDF - Logistic Regression                          1.000000   \n",
       "TF-IDF - Support Vector Machine (SVM)                 0.984962   \n",
       "TF-IDF K-Nearest Neighbors (KNN)                      1.000000   \n",
       "TF-IDF - Random Forest                                0.977444   \n",
       "\n",
       "                                       Test Recall (Original)  \\\n",
       "W2V - Logistic Regression                            0.470588   \n",
       "W2V - Support Vector Machine (SVM)                   0.382353   \n",
       "W2V - K-Nearest Neighbors (KNN)                      0.294118   \n",
       "W2V - Random Forest                                  0.294118   \n",
       "TF-IDF - Logistic Regression                         0.529412   \n",
       "TF-IDF - Support Vector Machine (SVM)                0.558824   \n",
       "TF-IDF K-Nearest Neighbors (KNN)                     0.617647   \n",
       "TF-IDF - Random Forest                               0.411765   \n",
       "\n",
       "                                       Train Recall (Merged)  \\\n",
       "W2V - Logistic Regression                           0.981132   \n",
       "W2V - Support Vector Machine (SVM)                  0.981132   \n",
       "W2V - K-Nearest Neighbors (KNN)                     0.981132   \n",
       "W2V - Random Forest                                 0.981132   \n",
       "TF-IDF - Logistic Regression                        1.000000   \n",
       "TF-IDF - Support Vector Machine (SVM)               0.995283   \n",
       "TF-IDF K-Nearest Neighbors (KNN)                    1.000000   \n",
       "TF-IDF - Random Forest                              1.000000   \n",
       "\n",
       "                                       Test Recall (Merged)  \\\n",
       "W2V - Logistic Regression                          0.679245   \n",
       "W2V - Support Vector Machine (SVM)                 0.660377   \n",
       "W2V - K-Nearest Neighbors (KNN)                    0.528302   \n",
       "W2V - Random Forest                                0.490566   \n",
       "TF-IDF - Logistic Regression                       0.773585   \n",
       "TF-IDF - Support Vector Machine (SVM)              0.754717   \n",
       "TF-IDF K-Nearest Neighbors (KNN)                   0.716981   \n",
       "TF-IDF - Random Forest                             0.698113   \n",
       "\n",
       "                                       Train F1 Score (Original)  \\\n",
       "W2V - Logistic Regression                               0.984628   \n",
       "W2V - Support Vector Machine (SVM)                      0.984962   \n",
       "W2V - K-Nearest Neighbors (KNN)                         0.984628   \n",
       "W2V - Random Forest                                     0.984628   \n",
       "TF-IDF - Logistic Regression                            1.000000   \n",
       "TF-IDF - Support Vector Machine (SVM)                   0.984962   \n",
       "TF-IDF K-Nearest Neighbors (KNN)                        1.000000   \n",
       "TF-IDF - Random Forest                                  0.974102   \n",
       "\n",
       "                                       Test F1 Score (Original)  \\\n",
       "W2V - Logistic Regression                              0.464706   \n",
       "W2V - Support Vector Machine (SVM)                     0.376471   \n",
       "W2V - K-Nearest Neighbors (KNN)                        0.298039   \n",
       "W2V - Random Forest                                    0.308824   \n",
       "TF-IDF - Logistic Regression                           0.575490   \n",
       "TF-IDF - Support Vector Machine (SVM)                  0.580392   \n",
       "TF-IDF K-Nearest Neighbors (KNN)                       0.629412   \n",
       "TF-IDF - Random Forest                                 0.406863   \n",
       "\n",
       "                                       Train F1 Score (Merged)  \\\n",
       "W2V - Logistic Regression                             0.981505   \n",
       "W2V - Support Vector Machine (SVM)                    0.981505   \n",
       "W2V - K-Nearest Neighbors (KNN)                       0.981228   \n",
       "W2V - Random Forest                                   0.981505   \n",
       "TF-IDF - Logistic Regression                          1.000000   \n",
       "TF-IDF - Support Vector Machine (SVM)                 0.995331   \n",
       "TF-IDF K-Nearest Neighbors (KNN)                      1.000000   \n",
       "TF-IDF - Random Forest                                1.000000   \n",
       "\n",
       "                                       Test F1 Score (Merged)  \n",
       "W2V - Logistic Regression                            0.671698  \n",
       "W2V - Support Vector Machine (SVM)                   0.691195  \n",
       "W2V - K-Nearest Neighbors (KNN)                      0.531447  \n",
       "W2V - Random Forest                                  0.513387  \n",
       "TF-IDF - Logistic Regression                         0.777673  \n",
       "TF-IDF - Support Vector Machine (SVM)                0.763792  \n",
       "TF-IDF K-Nearest Neighbors (KNN)                     0.716981  \n",
       "TF-IDF - Random Forest                               0.707727  "
      ]
     },
     "execution_count": 185,
     "metadata": {},
     "output_type": "execute_result"
    }
   ],
   "source": [
    "# Creating DataFrames for each model's scores\n",
    "lr_w2v_tuning_df = pd.DataFrame(model_w2v_lr_tuning_scores, index=['W2V - Logistic Regression'])\n",
    "svm_w2v_tuning_df = pd.DataFrame(model_w2v_svm_tuning_scores, index=['W2V - Support Vector Machine (SVM)'])\n",
    "knn_w2v_tuning_df = pd.DataFrame(model_w2v_knn_tuning_scores, index=['W2V - K-Nearest Neighbors (KNN)'])\n",
    "rf_w2v_tuning_df = pd.DataFrame(model_w2v_rf_tuning_scores, index=['W2V - Random Forest'])\n",
    "lr_tfidf_tuning_df = pd.DataFrame(model_tfidf_lr_tuning_scores, index=['TF-IDF - Logistic Regression'])\n",
    "svm_tfidf_tuning_df = pd.DataFrame(model_tfidf_svm_tuning_scores, index=['TF-IDF - Support Vector Machine (SVM)'])\n",
    "knn_tfidf_tuning_df = pd.DataFrame(model_tfidf_knn_tuning_scores, index=['TF-IDF K-Nearest Neighbors (KNN)'])\n",
    "rf_tfidf_tuning_df = pd.DataFrame(model_tfidf_rf_tuning_scores, index=['TF-IDF - Random Forest'])\n",
    "\n",
    "# Concatenating all DataFrames into a single DataFrame\n",
    "result_after_tuning = pd.concat([lr_w2v_tuning_df, svm_w2v_tuning_df, knn_w2v_tuning_df, rf_w2v_tuning_df, lr_tfidf_tuning_df, svm_tfidf_tuning_df, knn_tfidf_tuning_df, rf_tfidf_tuning_df])\n",
    "\n",
    "result_after_tuning"
   ]
  },
  {
   "cell_type": "code",
   "execution_count": 186,
   "metadata": {},
   "outputs": [],
   "source": [
    "# Copy the contents of the DataFrame 'result_tuning' to the system clipboard\n",
    "result_after_tuning.to_clipboard()"
   ]
  },
  {
   "cell_type": "markdown",
   "metadata": {},
   "source": [
    "## Model loading"
   ]
  },
  {
   "cell_type": "code",
   "execution_count": 187,
   "metadata": {},
   "outputs": [],
   "source": [
    "# Define the name for the chatbot\n",
    "bot_name = '💬 SNT Bot'"
   ]
  },
  {
   "cell_type": "markdown",
   "metadata": {},
   "source": [
    "### W2V Test"
   ]
  },
  {
   "cell_type": "code",
   "execution_count": 188,
   "metadata": {},
   "outputs": [],
   "source": [
    "text_to_reply = 'Hvordan fungerer gavekort?'"
   ]
  },
  {
   "cell_type": "code",
   "execution_count": 189,
   "metadata": {},
   "outputs": [
    {
     "name": "stdout",
     "output_type": "stream",
     "text": [
      "33.47922000945706\n",
      "['Gavekort']\n"
     ]
    }
   ],
   "source": [
    "model_w2v_lr_merged.predict([nlp(text_to_reply).vector])\n",
    "model_w2v_lr_merged.predict_proba([nlp(text_to_reply).vector])\n",
    "print(np.max(model_w2v_lr_merged.predict_proba([nlp(text_to_reply).vector])) * 100)\n",
    "print(model_w2v_lr_merged.predict([nlp(text_to_reply).vector]))"
   ]
  },
  {
   "cell_type": "code",
   "execution_count": 190,
   "metadata": {},
   "outputs": [
    {
     "name": "stdout",
     "output_type": "stream",
     "text": [
      "6.538461538461539\n",
      "['Leveringsmuligheder - DHL Express']\n"
     ]
    }
   ],
   "source": [
    "model_w2v_rf_grid_merged.predict([nlp(text_to_reply).vector])\n",
    "model_w2v_rf_grid_merged.predict_proba([nlp(text_to_reply).vector])\n",
    "print(np.max(model_w2v_rf_grid_merged.predict_proba([nlp(text_to_reply).vector])) * 100)\n",
    "print(model_w2v_rf_grid_merged.predict([nlp(text_to_reply).vector]))"
   ]
  },
  {
   "cell_type": "code",
   "execution_count": 191,
   "metadata": {},
   "outputs": [],
   "source": [
    "# List our different w2v models\n",
    "\n",
    "model_w2v= model_w2v_lr_merged\n",
    "#model_w2v = model_w2v_rf_grid_merged"
   ]
  },
  {
   "cell_type": "code",
   "execution_count": 192,
   "metadata": {},
   "outputs": [],
   "source": [
    "def chatbotreply_w2v(txt):\n",
    "    # Preprocess the input text\n",
    "    clean_text = text_prepro([txt])[0]  # Assuming text_prepro returns a list with a single element\n",
    "\n",
    "    # Tokenize the text and retrieve word vectors for each token in the text\n",
    "    word_vectors = np.vstack([txt.vector for txt in nlp.pipe(df_original['txt_p'], disable=[\"parser\", \"ner\"]) if txt.has_vector])\n",
    "\n",
    "    if word_vectors.any():  # Check if there are any word vectors\n",
    "        # Calculate the aggregated vector (e.g., by averaging word vectors)\n",
    "        aggregated_vector = np.mean(word_vectors, axis=0).reshape(1, -1)\n",
    "\n",
    "        # Predict probabilities using the classification model\n",
    "        prediction_probs = model_w2v.predict_proba(aggregated_vector)\n",
    "\n",
    "        # Get the maximum prediction probability and predicted tag\n",
    "        max_prob = np.max(prediction_probs)\n",
    "        predicted_tag = np.argmax(prediction_probs)\n",
    "\n",
    "        # Check if the maximum probability is below the threshold\n",
    "        if max_prob < 0.7:\n",
    "            return f\"{bot_name}: Jeg beklager, men jeg forstår ikke din forespørgsel fuldt ud. Prøv at spørge på en anden måde 😊 \\n\\n Hvis det forekommer flere gange. Vil jeg anbefale, at du kontakter mine kolleger i kundeservice for at få den bedst mulige hjælp\"\n",
    "\n",
    "        # Iterate through intents in the original JSON data to find a matching tag\n",
    "        for intent in original_json_data['intents']:\n",
    "            # Check if the predicted tag matches an intent tag\n",
    "            if predicted_tag == intent[\"tag\"]:\n",
    "                # Return a response from the matched intent\n",
    "                return f\"{bot_name}: {random.choice(intent['responses'])}\"  # Select a random response from the matched intent\n",
    "\n",
    "    # If no intent matches the predicted tag or no word vectors found, return a default message\n",
    "    return f\"{bot_name}: Jeg beklager, men jeg forstår ikke din forespørgsel fuldt ud. 😊 Jeg vil anbefale, at du kontakter mine kolleger i kundeservice for at få den bedst mulige hjælp\"\n"
   ]
  },
  {
   "cell_type": "code",
   "execution_count": 193,
   "metadata": {},
   "outputs": [
    {
     "name": "stdout",
     "output_type": "stream",
     "text": [
      "59.70%\n",
      "💬 SNT Bot: Jeg beklager, men jeg forstår ikke din forespørgsel fuldt ud. Prøv at spørge på en anden måde 😊 \n",
      "\n",
      " Hvis det forekommer flere gange. Vil jeg anbefale, at du kontakter mine kolleger i kundeservice for at få den bedst mulige hjælp\n"
     ]
    }
   ],
   "source": [
    "# This line makes a prediction and extracts the maximum probability of the predicted classes using the best_model.\n",
    "# First, 'text_prepro([text_to_reply])' preprocesses the 'text_to_reply' using a function called 'text_prepro'.\n",
    "# It converts 'text_to_reply' into a format suitable for model input.\n",
    "\n",
    "# Then, 'best_model.predict_proba()' is used to predict the probabilities of each class/tag for the preprocessed text.\n",
    "# This function typically returns the probability distribution across different classes/tags for the given input.\n",
    "\n",
    "# Finally, 'np.max()' from the NumPy library extracts the maximum probability value from the obtained probabilities.\n",
    "# This will give the highest probability among the predicted classes/tags for 'text_to_reply'.\n",
    "\n",
    "# First example text\n",
    "text_to_reply = 'Hvordan?'\n",
    "\n",
    "word_vectors = np.vstack([txt.vector for txt in nlp.pipe(text_prepro([text_to_reply]), disable=[\"parser\", \"ner\"]) if txt.has_vector])\n",
    "aggregated_vector = np.mean(word_vectors, axis=0).reshape(1, -1)\n",
    "prediction_probs = model_w2v.predict_proba(aggregated_vector)\n",
    "\n",
    "# Predict probabilities and convert the maximum probability to percentage format\n",
    "max_probability = np.max(prediction_probs) * 100\n",
    "\n",
    "# Format the max probability as a percentage with two decimal places\n",
    "formatted_probability = \"{:.2f}%\".format(max_probability)\n",
    "\n",
    "# Print the formatted probability\n",
    "print(formatted_probability)\n",
    "\n",
    "# Calling the chatbotreply function with an example text\n",
    "print(chatbotreply_w2v(text_to_reply))"
   ]
  },
  {
   "cell_type": "code",
   "execution_count": 194,
   "metadata": {},
   "outputs": [
    {
     "name": "stdout",
     "output_type": "stream",
     "text": [
      "62.80%\n",
      "💬 SNT Bot: Jeg beklager, men jeg forstår ikke din forespørgsel fuldt ud. Prøv at spørge på en anden måde 😊 \n",
      "\n",
      " Hvis det forekommer flere gange. Vil jeg anbefale, at du kontakter mine kolleger i kundeservice for at få den bedst mulige hjælp\n"
     ]
    }
   ],
   "source": [
    "# Second example text\n",
    "text_to_reply = 'Hvordan fungerer indløsning af gavekort?'\n",
    "\n",
    "# Print probability\n",
    "word_vectors = np.vstack([txt.vector for txt in nlp.pipe(text_prepro([text_to_reply]), disable=[\"parser\", \"ner\"]) if txt.has_vector])\n",
    "aggregated_vector = np.mean(word_vectors, axis=0).reshape(1, -1)\n",
    "prediction_probs = model_w2v.predict_proba(aggregated_vector)\n",
    "max_probability = np.max(prediction_probs) * 100\n",
    "formatted_probability = \"{:.2f}%\".format(max_probability)\n",
    "print(formatted_probability)\n",
    "\n",
    "# Print chatbot reply\n",
    "print(chatbotreply_w2v(text_to_reply))"
   ]
  },
  {
   "cell_type": "markdown",
   "metadata": {},
   "source": [
    "### TF-IDF Test"
   ]
  },
  {
   "cell_type": "code",
   "execution_count": 195,
   "metadata": {},
   "outputs": [],
   "source": [
    "text_to_reply = 'Hvordan fungerer gavekort?'"
   ]
  },
  {
   "cell_type": "code",
   "execution_count": 196,
   "metadata": {},
   "outputs": [
    {
     "name": "stdout",
     "output_type": "stream",
     "text": [
      "45.0\n",
      "['Refundering']\n"
     ]
    }
   ],
   "source": [
    "model_tfidf_rf.predict(text_prepro([text_to_reply]))\n",
    "model_tfidf_rf.predict_proba(text_prepro([text_to_reply]))\n",
    "print(np.max(model_tfidf_rf.predict_proba(text_prepro([text_to_reply]))) * 100)\n",
    "print(model_tfidf_rf.predict(text_prepro([text_to_reply])))"
   ]
  },
  {
   "cell_type": "code",
   "execution_count": 197,
   "metadata": {},
   "outputs": [
    {
     "name": "stdout",
     "output_type": "stream",
     "text": [
      "85.2940233008781\n",
      "['Gavekort']\n"
     ]
    }
   ],
   "source": [
    "model_tfidf_lr_grid_merged.predict(text_prepro([text_to_reply]))\n",
    "model_tfidf_lr_grid_merged.predict_proba(text_prepro([text_to_reply]))\n",
    "print(np.max(model_tfidf_lr_grid_merged.predict_proba(text_prepro([text_to_reply]))) * 100)\n",
    "print(model_tfidf_lr_grid_merged.predict(text_prepro([text_to_reply])))"
   ]
  },
  {
   "cell_type": "code",
   "execution_count": 198,
   "metadata": {},
   "outputs": [],
   "source": [
    "# List our different tf-idf models\n",
    "\n",
    "#model_tfidf = model_tfidf_rf\n",
    "model_tfidf = model_tfidf_lr_grid_merged"
   ]
  },
  {
   "cell_type": "code",
   "execution_count": 199,
   "metadata": {},
   "outputs": [],
   "source": [
    "def chatbotreply_tfidf(txt):\n",
    "\n",
    "    # Preprocess the input text\n",
    "    clean_text = text_prepro([txt])  # Assuming text_prepro is a function for text preprocessing\n",
    "\n",
    "    # Predict the tag and get prediction probabilities using the best_model\n",
    "    prediction_probs = model_tfidf.predict_proba(clean_text)\n",
    "    tag = model_tfidf.predict(clean_text)[0]  # Assuming best_model is previously trained\n",
    "\n",
    "    # Get the maximum prediction probability\n",
    "    max_prob = np.max(prediction_probs)\n",
    "\n",
    "    # Check if the maximum probability is below 70%\n",
    "    if max_prob < 0.7:\n",
    "        return f\"{bot_name}: Jeg beklager, men jeg forstår ikke din forespørgsel fuldt ud. Prøv at spørge på en anden måde 😊 \\n\\n Hvis det forekommer flere gange. Vil jeg anbefale, at du kontakter mine kolleger i kundeservice for at få den bedst mulige hjælp\"\n",
    "\n",
    "    # Iterate through intents in the original JSON data to find a matching tag\n",
    "    for intent in original_json_data['intents']:\n",
    "        # Check if the predicted tag matches an intent tag\n",
    "        if tag == intent[\"tag\"]:\n",
    "            # Return a response from the matched intent\n",
    "            return f\"{bot_name}: {random.choice(intent['responses'])}\"  # Select a random response from the matched intent\n"
   ]
  },
  {
   "cell_type": "code",
   "execution_count": 200,
   "metadata": {},
   "outputs": [
    {
     "name": "stdout",
     "output_type": "stream",
     "text": [
      "67.98%\n",
      "💬 SNT Bot: Jeg beklager, men jeg forstår ikke din forespørgsel fuldt ud. Prøv at spørge på en anden måde 😊 \n",
      "\n",
      " Hvis det forekommer flere gange. Vil jeg anbefale, at du kontakter mine kolleger i kundeservice for at få den bedst mulige hjælp\n"
     ]
    }
   ],
   "source": [
    "# This line makes a prediction and extracts the maximum probability of the predicted classes using the best_model.\n",
    "# First, 'text_prepro([text_to_reply])' preprocesses the 'text_to_reply' using a function called 'text_prepro'.\n",
    "# It converts 'text_to_reply' into a format suitable for model input.\n",
    "\n",
    "# Then, 'best_model.predict_proba()' is used to predict the probabilities of each class/tag for the preprocessed text.\n",
    "# This function typically returns the probability distribution across different classes/tags for the given input.\n",
    "\n",
    "# Finally, 'np.max()' from the NumPy library extracts the maximum probability value from the obtained probabilities.\n",
    "# This will give the highest probability among the predicted classes/tags for 'text_to_reply'.\n",
    "\n",
    "# First example text\n",
    "text_to_reply = 'Hvordan?'\n",
    "\n",
    "# Predict probabilities and convert the maximum probability to percentage format\n",
    "max_probability = np.max(model_tfidf.predict_proba(text_prepro([text_to_reply]))) * 100\n",
    "\n",
    "# Format the max probability as a percentage with two decimal places\n",
    "formatted_probability = \"{:.2f}%\".format(max_probability)\n",
    "\n",
    "# Print the formatted probability\n",
    "print(formatted_probability)\n",
    "\n",
    "# Calling the chatbotreply function with an example text\n",
    "print(chatbotreply_tfidf(text_to_reply))"
   ]
  },
  {
   "cell_type": "code",
   "execution_count": 201,
   "metadata": {},
   "outputs": [
    {
     "name": "stdout",
     "output_type": "stream",
     "text": [
      "60.13%\n",
      "💬 SNT Bot: Jeg beklager, men jeg forstår ikke din forespørgsel fuldt ud. Prøv at spørge på en anden måde 😊 \n",
      "\n",
      " Hvis det forekommer flere gange. Vil jeg anbefale, at du kontakter mine kolleger i kundeservice for at få den bedst mulige hjælp\n"
     ]
    }
   ],
   "source": [
    "# Second example text\n",
    "text_to_reply = 'Hvordan fungerer indløsning af gavekort?'\n",
    "\n",
    "# Print probability\n",
    "max_probability = np.max(model_tfidf.predict_proba(text_prepro([text_to_reply]))) * 100\n",
    "formatted_probability = \"{:.2f}%\".format(max_probability)\n",
    "print(formatted_probability)\n",
    "\n",
    "# Print chatbot reply\n",
    "print(chatbotreply_tfidf(text_to_reply))"
   ]
  },
  {
   "cell_type": "markdown",
   "metadata": {},
   "source": [
    "# Deployment of application"
   ]
  },
  {
   "cell_type": "code",
   "execution_count": 202,
   "metadata": {},
   "outputs": [
    {
     "data": {
      "text/html": [
       "<style>#sk-container-id-17 {color: black;}#sk-container-id-17 pre{padding: 0;}#sk-container-id-17 div.sk-toggleable {background-color: white;}#sk-container-id-17 label.sk-toggleable__label {cursor: pointer;display: block;width: 100%;margin-bottom: 0;padding: 0.3em;box-sizing: border-box;text-align: center;}#sk-container-id-17 label.sk-toggleable__label-arrow:before {content: \"▸\";float: left;margin-right: 0.25em;color: #696969;}#sk-container-id-17 label.sk-toggleable__label-arrow:hover:before {color: black;}#sk-container-id-17 div.sk-estimator:hover label.sk-toggleable__label-arrow:before {color: black;}#sk-container-id-17 div.sk-toggleable__content {max-height: 0;max-width: 0;overflow: hidden;text-align: left;background-color: #f0f8ff;}#sk-container-id-17 div.sk-toggleable__content pre {margin: 0.2em;color: black;border-radius: 0.25em;background-color: #f0f8ff;}#sk-container-id-17 input.sk-toggleable__control:checked~div.sk-toggleable__content {max-height: 200px;max-width: 100%;overflow: auto;}#sk-container-id-17 input.sk-toggleable__control:checked~label.sk-toggleable__label-arrow:before {content: \"▾\";}#sk-container-id-17 div.sk-estimator input.sk-toggleable__control:checked~label.sk-toggleable__label {background-color: #d4ebff;}#sk-container-id-17 div.sk-label input.sk-toggleable__control:checked~label.sk-toggleable__label {background-color: #d4ebff;}#sk-container-id-17 input.sk-hidden--visually {border: 0;clip: rect(1px 1px 1px 1px);clip: rect(1px, 1px, 1px, 1px);height: 1px;margin: -1px;overflow: hidden;padding: 0;position: absolute;width: 1px;}#sk-container-id-17 div.sk-estimator {font-family: monospace;background-color: #f0f8ff;border: 1px dotted black;border-radius: 0.25em;box-sizing: border-box;margin-bottom: 0.5em;}#sk-container-id-17 div.sk-estimator:hover {background-color: #d4ebff;}#sk-container-id-17 div.sk-parallel-item::after {content: \"\";width: 100%;border-bottom: 1px solid gray;flex-grow: 1;}#sk-container-id-17 div.sk-label:hover label.sk-toggleable__label {background-color: #d4ebff;}#sk-container-id-17 div.sk-serial::before {content: \"\";position: absolute;border-left: 1px solid gray;box-sizing: border-box;top: 0;bottom: 0;left: 50%;z-index: 0;}#sk-container-id-17 div.sk-serial {display: flex;flex-direction: column;align-items: center;background-color: white;padding-right: 0.2em;padding-left: 0.2em;position: relative;}#sk-container-id-17 div.sk-item {position: relative;z-index: 1;}#sk-container-id-17 div.sk-parallel {display: flex;align-items: stretch;justify-content: center;background-color: white;position: relative;}#sk-container-id-17 div.sk-item::before, #sk-container-id-17 div.sk-parallel-item::before {content: \"\";position: absolute;border-left: 1px solid gray;box-sizing: border-box;top: 0;bottom: 0;left: 50%;z-index: -1;}#sk-container-id-17 div.sk-parallel-item {display: flex;flex-direction: column;z-index: 1;position: relative;background-color: white;}#sk-container-id-17 div.sk-parallel-item:first-child::after {align-self: flex-end;width: 50%;}#sk-container-id-17 div.sk-parallel-item:last-child::after {align-self: flex-start;width: 50%;}#sk-container-id-17 div.sk-parallel-item:only-child::after {width: 0;}#sk-container-id-17 div.sk-dashed-wrapped {border: 1px dashed gray;margin: 0 0.4em 0.5em 0.4em;box-sizing: border-box;padding-bottom: 0.4em;background-color: white;}#sk-container-id-17 div.sk-label label {font-family: monospace;font-weight: bold;display: inline-block;line-height: 1.2em;}#sk-container-id-17 div.sk-label-container {text-align: center;}#sk-container-id-17 div.sk-container {/* jupyter's `normalize.less` sets `[hidden] { display: none; }` but bootstrap.min.css set `[hidden] { display: none !important; }` so we also need the `!important` here to be able to override the default hidden behavior on the sphinx rendered scikit-learn.org. See: https://github.com/scikit-learn/scikit-learn/issues/21755 */display: inline-block !important;position: relative;}#sk-container-id-17 div.sk-text-repr-fallback {display: none;}</style><div id=\"sk-container-id-17\" class=\"sk-top-container\"><div class=\"sk-text-repr-fallback\"><pre>GridSearchCV(estimator=Pipeline(steps=[(&#x27;tfidf&#x27;, TfidfVectorizer()),\n",
       "                                       (&#x27;lr&#x27;,\n",
       "                                        LogisticRegression(multi_class=&#x27;multinomial&#x27;))]),\n",
       "             param_grid={&#x27;lr__C&#x27;: [0.01, 0.1, 0.3, 0.5, 1.0],\n",
       "                         &#x27;lr__penalty&#x27;: [&#x27;l1&#x27;, &#x27;l2&#x27;, &#x27;elasticnet&#x27;, &#x27;none&#x27;],\n",
       "                         &#x27;lr__random_state&#x27;: [42],\n",
       "                         &#x27;lr__solver&#x27;: [&#x27;lbfgs&#x27;, &#x27;newton-cg&#x27;, &#x27;sag&#x27;, &#x27;saga&#x27;]})</pre><b>In a Jupyter environment, please rerun this cell to show the HTML representation or trust the notebook. <br />On GitHub, the HTML representation is unable to render, please try loading this page with nbviewer.org.</b></div><div class=\"sk-container\" hidden><div class=\"sk-item sk-dashed-wrapped\"><div class=\"sk-label-container\"><div class=\"sk-label sk-toggleable\"><input class=\"sk-toggleable__control sk-hidden--visually\" id=\"sk-estimator-id-45\" type=\"checkbox\" ><label for=\"sk-estimator-id-45\" class=\"sk-toggleable__label sk-toggleable__label-arrow\">GridSearchCV</label><div class=\"sk-toggleable__content\"><pre>GridSearchCV(estimator=Pipeline(steps=[(&#x27;tfidf&#x27;, TfidfVectorizer()),\n",
       "                                       (&#x27;lr&#x27;,\n",
       "                                        LogisticRegression(multi_class=&#x27;multinomial&#x27;))]),\n",
       "             param_grid={&#x27;lr__C&#x27;: [0.01, 0.1, 0.3, 0.5, 1.0],\n",
       "                         &#x27;lr__penalty&#x27;: [&#x27;l1&#x27;, &#x27;l2&#x27;, &#x27;elasticnet&#x27;, &#x27;none&#x27;],\n",
       "                         &#x27;lr__random_state&#x27;: [42],\n",
       "                         &#x27;lr__solver&#x27;: [&#x27;lbfgs&#x27;, &#x27;newton-cg&#x27;, &#x27;sag&#x27;, &#x27;saga&#x27;]})</pre></div></div></div><div class=\"sk-parallel\"><div class=\"sk-parallel-item\"><div class=\"sk-item\"><div class=\"sk-label-container\"><div class=\"sk-label sk-toggleable\"><input class=\"sk-toggleable__control sk-hidden--visually\" id=\"sk-estimator-id-46\" type=\"checkbox\" ><label for=\"sk-estimator-id-46\" class=\"sk-toggleable__label sk-toggleable__label-arrow\">estimator: Pipeline</label><div class=\"sk-toggleable__content\"><pre>Pipeline(steps=[(&#x27;tfidf&#x27;, TfidfVectorizer()),\n",
       "                (&#x27;lr&#x27;, LogisticRegression(multi_class=&#x27;multinomial&#x27;))])</pre></div></div></div><div class=\"sk-serial\"><div class=\"sk-item\"><div class=\"sk-serial\"><div class=\"sk-item\"><div class=\"sk-estimator sk-toggleable\"><input class=\"sk-toggleable__control sk-hidden--visually\" id=\"sk-estimator-id-47\" type=\"checkbox\" ><label for=\"sk-estimator-id-47\" class=\"sk-toggleable__label sk-toggleable__label-arrow\">TfidfVectorizer</label><div class=\"sk-toggleable__content\"><pre>TfidfVectorizer()</pre></div></div></div><div class=\"sk-item\"><div class=\"sk-estimator sk-toggleable\"><input class=\"sk-toggleable__control sk-hidden--visually\" id=\"sk-estimator-id-48\" type=\"checkbox\" ><label for=\"sk-estimator-id-48\" class=\"sk-toggleable__label sk-toggleable__label-arrow\">LogisticRegression</label><div class=\"sk-toggleable__content\"><pre>LogisticRegression(multi_class=&#x27;multinomial&#x27;)</pre></div></div></div></div></div></div></div></div></div></div></div></div>"
      ],
      "text/plain": [
       "GridSearchCV(estimator=Pipeline(steps=[('tfidf', TfidfVectorizer()),\n",
       "                                       ('lr',\n",
       "                                        LogisticRegression(multi_class='multinomial'))]),\n",
       "             param_grid={'lr__C': [0.01, 0.1, 0.3, 0.5, 1.0],\n",
       "                         'lr__penalty': ['l1', 'l2', 'elasticnet', 'none'],\n",
       "                         'lr__random_state': [42],\n",
       "                         'lr__solver': ['lbfgs', 'newton-cg', 'sag', 'saga']})"
      ]
     },
     "execution_count": 202,
     "metadata": {},
     "output_type": "execute_result"
    }
   ],
   "source": [
    "# Assign the best model obtained from grid search to a variable\n",
    "best_model = model_tfidf_lr_grid_merged\n",
    "\n",
    "# Fit the best model on the original dataset\n",
    "# Assuming 'df_original.txt_p' contains the text data and 'df_original.label' contains the corresponding labels\n",
    "best_model.fit(df_original.txt_p, df_original.label)"
   ]
  },
  {
   "cell_type": "markdown",
   "metadata": {},
   "source": [
    "## Application"
   ]
  },
  {
   "cell_type": "code",
   "execution_count": 203,
   "metadata": {},
   "outputs": [],
   "source": [
    "description = '''\n",
    "### Chatbot for Shaping New Tommorrow\n",
    "\n",
    "'''"
   ]
  },
  {
   "cell_type": "code",
   "execution_count": 204,
   "metadata": {},
   "outputs": [],
   "source": [
    "intro = '''\n",
    "Velkommen til Shaping New Tomorrow chatbot kanal 👋. \\n\\nJeg er din assistent SNT Bot. \\nHvad kan jeg hjælpe dig med? 😊\n",
    "'''"
   ]
  },
  {
   "cell_type": "code",
   "execution_count": 205,
   "metadata": {},
   "outputs": [],
   "source": [
    "def chatbotreply_best_model(txt):\n",
    "\n",
    "    # Preprocess the input text\n",
    "    clean_text = text_prepro([txt])  # Assuming text_prepro is a function for text preprocessing\n",
    "\n",
    "    # Predict the tag and get prediction probabilities using the best_model\n",
    "    prediction_probs = best_model.predict_proba(clean_text)\n",
    "    tag = best_model.predict(clean_text)[0]  # Assuming best_model is previously trained\n",
    "\n",
    "    # Get the maximum prediction probability\n",
    "    max_prob = np.max(prediction_probs)\n",
    "\n",
    "    # Check if the maximum probability is below 70%\n",
    "    if max_prob < 0.7:\n",
    "        return f\"{bot_name}: Jeg beklager, men jeg forstår ikke din forespørgsel fuldt ud. Prøv at spørge på en anden måde 😊 \\n\\n Hvis det forekommer flere gange. Vil jeg anbefale, at du kontakter mine kolleger i kundeservice for at få den bedst mulige hjælp\"\n",
    "\n",
    "    # Iterate through intents in the original JSON data to find a matching tag\n",
    "    for intent in original_json_data['intents']:\n",
    "        # Check if the predicted tag matches an intent tag\n",
    "        if tag == intent[\"tag\"]:\n",
    "            # Return a response from the matched intent\n",
    "            return f\"{bot_name}: {random.choice(intent['responses'])}\"  # Select a random response from the matched intent\n"
   ]
  },
  {
   "cell_type": "code",
   "execution_count": 206,
   "metadata": {},
   "outputs": [],
   "source": [
    "# Set the theme for the gradio app to 'Monochrome'\n",
    "theme = gr.themes.Monochrome()"
   ]
  },
  {
   "cell_type": "code",
   "execution_count": 207,
   "metadata": {},
   "outputs": [
    {
     "name": "stdout",
     "output_type": "stream",
     "text": [
      "Running on local URL:  http://127.0.0.1:7860\n",
      "Running on public URL: https://78c8a60461a797d293.gradio.live\n",
      "\n",
      "This share link expires in 72 hours. For free permanent hosting and GPU upgrades, run `gradio deploy` from Terminal to deploy to Spaces (https://huggingface.co/spaces)\n"
     ]
    },
    {
     "data": {
      "text/html": [
       "<div><iframe src=\"https://78c8a60461a797d293.gradio.live\" width=\"100%\" height=\"500\" allow=\"autoplay; camera; microphone; clipboard-read; clipboard-write;\" frameborder=\"0\" allowfullscreen></iframe></div>"
      ],
      "text/plain": [
       "<IPython.core.display.HTML object>"
      ]
     },
     "metadata": {},
     "output_type": "display_data"
    },
    {
     "data": {
      "text/plain": []
     },
     "execution_count": 207,
     "metadata": {},
     "output_type": "execute_result"
    }
   ],
   "source": [
    "# Create a GUI interface using the gr package\n",
    "with gr.Blocks(theme=theme) as demo:\n",
    "    #with gr.Row():\n",
    "        #with gr.Column():\n",
    "        #    gr.Markdown(description)\n",
    "\n",
    "        #with gr.Column():\n",
    "        #    gr.Markdown(\"\"\"\n",
    "        #    ### Customer Service Chatbot for Shaping New Tommorrow\n",
    "        #    \"\"\")    \n",
    "            # Initialize a chatbot and a text box for messages\n",
    "            # chatbot = gr.Chatbot()\n",
    "            chatbot=gr.Chatbot(value=[(None, intro)],)\n",
    "            msg = gr.Textbox(label=\"Tast dine spørgsmål her:\")\n",
    "\n",
    "            # Create a clear button to reset the conversation\n",
    "            clear = gr.ClearButton([msg, chatbot])\n",
    "\n",
    "            # Define a function to respond to user messages\n",
    "            def respond(message, chat_history):\n",
    "                # Use the chatbotreply function to generate a response\n",
    "                bot_message = chatbotreply_best_model(message)  # Assuming chatbotreply is defined and returns a response\n",
    "                # Append the user's message and the bot's response to the chat history\n",
    "                chat_history.append((message, bot_message))\n",
    "                # Delay the response for 2 seconds for a more conversational feel\n",
    "                time.sleep(2)\n",
    "                # Return an empty string (no immediate response) and the updated chat history\n",
    "                return \"\", chat_history\n",
    "\n",
    "            # Use the submit method of the text box to trigger the response function when a message is submitted\n",
    "            msg.submit(respond, [msg, chatbot], [msg, chatbot])\n",
    "\n",
    "# Launch the GUI demo with the specified components and enable sharing\n",
    "#demo.launch()\n",
    "demo.launch(share=True)"
   ]
  },
  {
   "cell_type": "code",
   "execution_count": null,
   "metadata": {},
   "outputs": [],
   "source": []
  }
 ],
 "metadata": {
  "kernelspec": {
   "display_name": "bds-chatbot",
   "language": "python",
   "name": "python3"
  },
  "language_info": {
   "codemirror_mode": {
    "name": "ipython",
    "version": 3
   },
   "file_extension": ".py",
   "mimetype": "text/x-python",
   "name": "python",
   "nbconvert_exporter": "python",
   "pygments_lexer": "ipython3",
   "version": "3.11.4"
  }
 },
 "nbformat": 4,
 "nbformat_minor": 2
}
