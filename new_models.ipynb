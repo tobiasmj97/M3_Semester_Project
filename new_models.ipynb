{
 "cells": [
  {
   "cell_type": "code",
   "execution_count": 1,
   "metadata": {},
   "outputs": [],
   "source": [
    "import pandas as pd\n",
    "import numpy as np\n",
    "import matplotlib.pyplot as plt\n",
    "import seaborn as sns\n",
    "import gradio as gr\n",
    "\n",
    "# utils...\n",
    "import json\n",
    "import requests\n",
    "import random\n",
    "import time\n",
    "\n",
    "import spacy #spacy for quick language prepro\n",
    "nlp = spacy.load('da_core_news_md') #instantiating Danish module\n",
    "\n",
    "from sklearn.model_selection import train_test_split\n",
    "\n",
    "from imblearn.pipeline import Pipeline, make_pipeline\n",
    " #pipeline creation\n",
    "from sklearn.feature_extraction.text import TfidfVectorizer #transforms text to sparse matrix\n",
    "from sklearn.linear_model import LogisticRegression #Logit model\n",
    "\n",
    "# For controlling warnings in the code\n",
    "import warnings\n",
    "from sklearn.exceptions import ConvergenceWarning"
   ]
  },
  {
   "cell_type": "code",
   "execution_count": 2,
   "metadata": {},
   "outputs": [],
   "source": [
    "# We will call the below code to ignore all selected warnings in the code for getting more clearn outputs\n",
    "warnings.filterwarnings(\"ignore\", category=FutureWarning)\n",
    "warnings.filterwarnings(\"ignore\", category=ConvergenceWarning)\n",
    "warnings.filterwarnings(\"ignore\", category=UserWarning)\n",
    "warnings.filterwarnings(\"ignore\", category=RuntimeWarning)"
   ]
  },
  {
   "cell_type": "code",
   "execution_count": 3,
   "metadata": {},
   "outputs": [],
   "source": [
    "# stream file from remote online\n",
    "r = requests.get('https://raw.githubusercontent.com/tobiasmj97/M3_Semester_Project/main/convo_snt_chatbot.json')\n",
    "json_data = json.loads(r.text)"
   ]
  },
  {
   "cell_type": "code",
   "execution_count": 4,
   "metadata": {},
   "outputs": [],
   "source": [
    "# Reformating data and reformatting into useable data\n",
    "data_1 = []\n",
    "\n",
    "for i in json_data['intents']:\n",
    "  l = len(i['patterns'])\n",
    "  tuples = list(zip(i['patterns'], l*[i['tag']]))\n",
    "  data_1.extend(tuples)"
   ]
  },
  {
   "cell_type": "code",
   "execution_count": 5,
   "metadata": {},
   "outputs": [],
   "source": [
    "# Created a pandas DataFrame from our data\n",
    "df = pd.DataFrame(data_1, columns=['txt','label'])"
   ]
  },
  {
   "cell_type": "code",
   "execution_count": 6,
   "metadata": {},
   "outputs": [
    {
     "data": {
      "text/html": [
       "<div>\n",
       "<style scoped>\n",
       "    .dataframe tbody tr th:only-of-type {\n",
       "        vertical-align: middle;\n",
       "    }\n",
       "\n",
       "    .dataframe tbody tr th {\n",
       "        vertical-align: top;\n",
       "    }\n",
       "\n",
       "    .dataframe thead th {\n",
       "        text-align: right;\n",
       "    }\n",
       "</style>\n",
       "<table border=\"1\" class=\"dataframe\">\n",
       "  <thead>\n",
       "    <tr style=\"text-align: right;\">\n",
       "      <th></th>\n",
       "      <th>txt</th>\n",
       "      <th>label</th>\n",
       "    </tr>\n",
       "  </thead>\n",
       "  <tbody>\n",
       "    <tr>\n",
       "      <th>0</th>\n",
       "      <td>Hej</td>\n",
       "      <td>hilsen</td>\n",
       "    </tr>\n",
       "    <tr>\n",
       "      <th>1</th>\n",
       "      <td>Halløj</td>\n",
       "      <td>hilsen</td>\n",
       "    </tr>\n",
       "    <tr>\n",
       "      <th>2</th>\n",
       "      <td>Goddag</td>\n",
       "      <td>hilsen</td>\n",
       "    </tr>\n",
       "    <tr>\n",
       "      <th>3</th>\n",
       "      <td>God dag</td>\n",
       "      <td>hilsen</td>\n",
       "    </tr>\n",
       "    <tr>\n",
       "      <th>4</th>\n",
       "      <td>Går det godt?</td>\n",
       "      <td>svar</td>\n",
       "    </tr>\n",
       "  </tbody>\n",
       "</table>\n",
       "</div>"
      ],
      "text/plain": [
       "             txt   label\n",
       "0            Hej  hilsen\n",
       "1         Halløj  hilsen\n",
       "2         Goddag  hilsen\n",
       "3        God dag  hilsen\n",
       "4  Går det godt?    svar"
      ]
     },
     "execution_count": 6,
     "metadata": {},
     "output_type": "execute_result"
    }
   ],
   "source": [
    "df.head(5)"
   ]
  },
  {
   "cell_type": "code",
   "execution_count": 7,
   "metadata": {},
   "outputs": [],
   "source": [
    "filepath = 'revised_synthetic_data_copy.json'\n",
    "revised_data = json.load(open(filepath,'r'))"
   ]
  },
  {
   "cell_type": "code",
   "execution_count": 8,
   "metadata": {},
   "outputs": [],
   "source": [
    "# Reformating data and reformatting into useable data\n",
    "data_revised = []\n",
    "\n",
    "for i in revised_data['intents']:\n",
    "  l = len(i['patterns'])\n",
    "  tuples = list(zip(i['patterns'], l*[i['tag']]))\n",
    "  data_revised.extend(tuples)"
   ]
  },
  {
   "cell_type": "code",
   "execution_count": 9,
   "metadata": {},
   "outputs": [],
   "source": [
    "df_revised = pd.DataFrame(data_revised, columns=['txt','label'])"
   ]
  },
  {
   "cell_type": "code",
   "execution_count": 10,
   "metadata": {},
   "outputs": [
    {
     "data": {
      "text/html": [
       "<div>\n",
       "<style scoped>\n",
       "    .dataframe tbody tr th:only-of-type {\n",
       "        vertical-align: middle;\n",
       "    }\n",
       "\n",
       "    .dataframe tbody tr th {\n",
       "        vertical-align: top;\n",
       "    }\n",
       "\n",
       "    .dataframe thead th {\n",
       "        text-align: right;\n",
       "    }\n",
       "</style>\n",
       "<table border=\"1\" class=\"dataframe\">\n",
       "  <thead>\n",
       "    <tr style=\"text-align: right;\">\n",
       "      <th></th>\n",
       "      <th>txt</th>\n",
       "      <th>label</th>\n",
       "    </tr>\n",
       "  </thead>\n",
       "  <tbody>\n",
       "    <tr>\n",
       "      <th>0</th>\n",
       "      <td>Hejsa</td>\n",
       "      <td>hilsen</td>\n",
       "    </tr>\n",
       "    <tr>\n",
       "      <th>1</th>\n",
       "      <td>Godmorgen</td>\n",
       "      <td>hilsen</td>\n",
       "    </tr>\n",
       "    <tr>\n",
       "      <th>2</th>\n",
       "      <td>Hej der</td>\n",
       "      <td>hilsen</td>\n",
       "    </tr>\n",
       "    <tr>\n",
       "      <th>3</th>\n",
       "      <td>Goddag til dig</td>\n",
       "      <td>hilsen</td>\n",
       "    </tr>\n",
       "    <tr>\n",
       "      <th>4</th>\n",
       "      <td>Alt vel?</td>\n",
       "      <td>svar</td>\n",
       "    </tr>\n",
       "  </tbody>\n",
       "</table>\n",
       "</div>"
      ],
      "text/plain": [
       "              txt   label\n",
       "0           Hejsa  hilsen\n",
       "1       Godmorgen  hilsen\n",
       "2         Hej der  hilsen\n",
       "3  Goddag til dig  hilsen\n",
       "4        Alt vel?    svar"
      ]
     },
     "execution_count": 10,
     "metadata": {},
     "output_type": "execute_result"
    }
   ],
   "source": [
    "df_revised.head(5)"
   ]
  },
  {
   "cell_type": "markdown",
   "metadata": {},
   "source": [
    "### Merge Dataset"
   ]
  },
  {
   "cell_type": "code",
   "execution_count": 11,
   "metadata": {},
   "outputs": [],
   "source": [
    "# Concatenate along the rows (axis=0)\n",
    "merged_df = pd.concat([df, df_revised], axis=0, ignore_index=True)"
   ]
  },
  {
   "cell_type": "code",
   "execution_count": 12,
   "metadata": {},
   "outputs": [
    {
     "data": {
      "text/plain": [
       "(265, 2)"
      ]
     },
     "execution_count": 12,
     "metadata": {},
     "output_type": "execute_result"
    }
   ],
   "source": [
    "merged_df.shape"
   ]
  },
  {
   "cell_type": "code",
   "execution_count": 13,
   "metadata": {},
   "outputs": [
    {
     "data": {
      "text/plain": [
       "'hilsen'"
      ]
     },
     "execution_count": 13,
     "metadata": {},
     "output_type": "execute_result"
    }
   ],
   "source": [
    "merged_df['label'][170]"
   ]
  },
  {
   "cell_type": "markdown",
   "metadata": {},
   "source": [
    "# Text Preprocessing"
   ]
  },
  {
   "cell_type": "code",
   "execution_count": 14,
   "metadata": {},
   "outputs": [],
   "source": [
    "def text_prepro(texts):\n",
    "  \"\"\"\n",
    "  takes in a list/iterable of texts\n",
    "  lowercases, normalizes text\n",
    "  \"\"\"\n",
    "\n",
    "  clean_container = []\n",
    "\n",
    "  for text in nlp.pipe(texts, disable=[\"parser\", \"ner\"]):\n",
    "\n",
    "    txt = [token.lemma_.lower() for token in text # lemmatize and lower\n",
    "          if token.is_alpha # remove numbers\n",
    "          and not token.is_punct] # remove punctoation\n",
    "\n",
    "    clean_container.append(\" \".join(txt))\n",
    "\n",
    "  return clean_container"
   ]
  },
  {
   "cell_type": "code",
   "execution_count": 15,
   "metadata": {},
   "outputs": [
    {
     "data": {
      "text/plain": [
       "(300,)"
      ]
     },
     "execution_count": 15,
     "metadata": {},
     "output_type": "execute_result"
    }
   ],
   "source": [
    "nlp(df['txt'][15]).vector.shape"
   ]
  },
  {
   "cell_type": "code",
   "execution_count": 16,
   "metadata": {},
   "outputs": [
    {
     "data": {
      "text/plain": [
       "'Hvordan bestiller jeg produkter fra butikken?'"
      ]
     },
     "execution_count": 16,
     "metadata": {},
     "output_type": "execute_result"
    }
   ],
   "source": [
    "df['txt'][15]"
   ]
  },
  {
   "cell_type": "markdown",
   "metadata": {},
   "source": [
    "# Modelling"
   ]
  },
  {
   "cell_type": "code",
   "execution_count": 108,
   "metadata": {},
   "outputs": [],
   "source": [
    "from sklearn.metrics import confusion_matrix, ConfusionMatrixDisplay\n",
    "from sklearn.metrics import classification_report, confusion_matrix, accuracy_score\n",
    "from sklearn.model_selection import GridSearchCV\n",
    "from sklearn.linear_model import LogisticRegression\n",
    "from sklearn import svm\n",
    "from sklearn.ensemble import RandomForestClassifier\n",
    "from sklearn.neighbors import KNeighborsClassifier\n",
    "from sklearn.naive_bayes import MultinomialNB\n",
    "from sklearn import svm\n",
    "from sklearn.svm import SVC\n",
    "from sklearn.tree import DecisionTreeClassifier\n"
   ]
  },
  {
   "cell_type": "code",
   "execution_count": 18,
   "metadata": {},
   "outputs": [],
   "source": [
    "# new df.txt_p\n",
    "df.txt_p = text_prepro(df.txt)\n",
    "df_revised.txt_p = text_prepro(df_revised.txt)\n",
    "\n",
    "\n",
    "# Divide data between training and test data\n",
    "X = df.txt_p\n",
    "y = df['label']\n",
    "X_train, X_test, y_train, y_test = train_test_split(X, y, test_size = .2, random_state = 42)"
   ]
  },
  {
   "cell_type": "markdown",
   "metadata": {},
   "source": [
    "#### Merged data split"
   ]
  },
  {
   "cell_type": "code",
   "execution_count": 19,
   "metadata": {},
   "outputs": [],
   "source": [
    "merged_df.txt_p = text_prepro(merged_df.txt)\n",
    "# Divide merged data between training and test data\n",
    "X_merged = merged_df.txt_p\n",
    "y_merged = merged_df['label']\n",
    "X_train_merged, X_test_merged, y_train_merged, y_test_merged = train_test_split(X_merged, y_merged, test_size = .2, random_state = 42)"
   ]
  },
  {
   "cell_type": "markdown",
   "metadata": {},
   "source": [
    "#### Synthetic data"
   ]
  },
  {
   "cell_type": "code",
   "execution_count": 20,
   "metadata": {},
   "outputs": [],
   "source": [
    "X_val = df_revised.txt_p\n",
    "y_val = df_revised['label']"
   ]
  },
  {
   "cell_type": "markdown",
   "metadata": {},
   "source": [
    "# Word2Vec Models"
   ]
  },
  {
   "cell_type": "code",
   "execution_count": 21,
   "metadata": {},
   "outputs": [],
   "source": [
    "# we grab the vectors for all texts and stack them into a matrix\n",
    "X_train_W2V = np.vstack([txt.vector for txt in nlp.pipe(X_train, disable=[\"parser\", \"ner\"])])"
   ]
  },
  {
   "cell_type": "code",
   "execution_count": 22,
   "metadata": {},
   "outputs": [],
   "source": [
    "X_test_W2V = np.vstack([txt.vector for txt in nlp.pipe(X_test, disable=[\"parser\", \"ner\"])])"
   ]
  },
  {
   "cell_type": "code",
   "execution_count": 23,
   "metadata": {},
   "outputs": [],
   "source": [
    "X_train_merged_W2V = np.vstack([txt.vector for txt in nlp.pipe(X_train_merged, disable=[\"parser\", \"ner\"])])"
   ]
  },
  {
   "cell_type": "code",
   "execution_count": 24,
   "metadata": {},
   "outputs": [],
   "source": [
    "X_test_merged_W2V = np.vstack([txt.vector for txt in nlp.pipe(X_test_merged, disable=[\"parser\", \"ner\"])])"
   ]
  },
  {
   "cell_type": "markdown",
   "metadata": {},
   "source": [
    "### LogisticRegression"
   ]
  },
  {
   "cell_type": "code",
   "execution_count": 25,
   "metadata": {},
   "outputs": [],
   "source": [
    "# LogisticRegression Model\n",
    "model_lr = LogisticRegression(multi_class='multinomial')\n",
    "# fit the model\n",
    "model_lr.fit(X_train_W2V, y_train)\n",
    "\n",
    "# predicting for train\n",
    "y_pred_train = model_lr.predict(X_train_W2V)\n",
    "# predicting for test\n",
    "y_pred_test = model_lr.predict(X_test_W2V)\n",
    "# predicting for merged train\n",
    "y_pred_train_merged = model_lr.predict(X_train_merged_W2V)\n",
    "# predicting for merged test\n",
    "y_pred_test_merged = model_lr.predict(X_test_merged_W2V)\n"
   ]
  },
  {
   "cell_type": "code",
   "execution_count": 26,
   "metadata": {},
   "outputs": [
    {
     "name": "stdout",
     "output_type": "stream",
     "text": [
      "classification_report train orginal\n",
      "                                                              precision    recall  f1-score   support\n",
      "\n",
      "                                          Afhentning i butik       1.00      1.00      1.00         4\n",
      "                                        Annullering af ordre       1.00      1.00      1.00         4\n",
      "                                          Bestilling i butik       1.00      1.00      1.00         2\n",
      "                                         Betaling med Klarna       1.00      1.00      1.00         4\n",
      "                                         Betalingsmuligheder       1.00      1.00      1.00         2\n",
      "                                     Defekt produkt modtaget       1.00      1.00      1.00         4\n",
      "                                                     Erhverv       1.00      1.00      1.00         3\n",
      "                                    Forkert produkt modtaget       1.00      1.00      1.00         4\n",
      "                                                    Gavekort       1.00      1.00      1.00         2\n",
      "       Hvor kan man købe produkter fra Shaping New Tomorrow?       1.00      1.00      1.00         4\n",
      "                       Hvornår modtager jeg min refundering?       1.00      1.00      1.00         4\n",
      "Kan jeg få besked, når en udsolgt vare kommer på lager igen?       1.00      1.00      1.00         2\n",
      "                                        Levering i weekenden       1.00      1.00      1.00         3\n",
      "                                      Leveringsinformationer       0.80      1.00      0.89         4\n",
      "                                         Leveringsmuligheder       1.00      1.00      1.00         3\n",
      "                           Leveringsmuligheder - DHL Express       1.00      1.00      1.00         1\n",
      "                         Leveringsmuligheder - GLS Pakkeshop       1.00      1.00      1.00         2\n",
      "                    Leveringsmuligheder - GLS Privatlevering       1.00      1.00      1.00         2\n",
      "                               Leveringstid bestilling butik       1.00      1.00      1.00         1\n",
      "                                                      Lynlås       1.00      1.00      1.00         3\n",
      "                             Manglende produkter i min ordre       1.00      1.00      1.00         3\n",
      "            Ombytning eller returnering af gave købt i butik       1.00      1.00      1.00         3\n",
      "             Ombytning eller returnering af gave købt online       1.00      1.00      1.00         3\n",
      "                              Ordrebekræftelse ikke modtaget       1.00      1.00      1.00         3\n",
      "                                 Ordrenummer ved returnering       1.00      1.00      1.00         2\n",
      "                                                 Refundering       1.00      1.00      1.00         5\n",
      "                         Returnering af bestilling fra butik       1.00      1.00      1.00         1\n",
      "             Returnering af produkter fra forskellige ordrer       1.00      1.00      1.00         4\n",
      "                     Returnering fra fysisk butik til online       1.00      1.00      1.00         2\n",
      "                                              Spor min ordre       1.00      1.00      1.00         4\n",
      "         Sådan indtaster du din rabatkode eller dit gavekort       1.00      1.00      1.00         6\n",
      "                                        Told- og importgebyr       1.00      1.00      1.00         2\n",
      "                                        Vaske- og Care Guide       1.00      0.67      0.80         3\n",
      "                                                   baglommer       1.00      1.00      1.00         1\n",
      "                                                      farvel       0.75      1.00      0.86         3\n",
      "                                                      hilsen       1.00      0.75      0.86         4\n",
      "                                                        moms       1.00      1.00      1.00         3\n",
      "                                         regular og slim fit       1.00      1.00      1.00         3\n",
      "                                                 reklamation       1.00      1.00      1.00         5\n",
      "                                              skrædderpriser       1.00      1.00      1.00         3\n",
      "                                                   store lår       1.00      1.00      1.00         4\n",
      "                                            størrelsesguides       1.00      1.00      1.00         3\n",
      "                                                        svar       1.00      1.00      1.00         1\n",
      "                                                         tak       1.00      1.00      1.00         3\n",
      "                                            Ændring af ordre       1.00      1.00      1.00         1\n",
      "\n",
      "                                                    accuracy                           0.98       133\n",
      "                                                   macro avg       0.99      0.99      0.99       133\n",
      "                                                weighted avg       0.99      0.98      0.98       133\n",
      "\n"
     ]
    }
   ],
   "source": [
    "print(\"classification_report train orginal\")\n",
    "print(classification_report(y_train,y_pred_train))"
   ]
  },
  {
   "cell_type": "code",
   "execution_count": 27,
   "metadata": {},
   "outputs": [
    {
     "name": "stdout",
     "output_type": "stream",
     "text": [
      "classification_report test orginal\n",
      "                                                              precision    recall  f1-score   support\n",
      "\n",
      "                                        Annullering af ordre       0.00      0.00      0.00         0\n",
      "                                          Bestilling i butik       1.00      0.67      0.80         3\n",
      "                                         Betaling med Klarna       0.00      0.00      0.00         0\n",
      "                                         Betalingsmuligheder       0.00      0.00      0.00         1\n",
      "                                     Defekt produkt modtaget       0.00      0.00      0.00         0\n",
      "                                                     Erhverv       0.50      1.00      0.67         1\n",
      "                                                    Gavekort       0.00      0.00      0.00         1\n",
      "Kan jeg få besked, når en udsolgt vare kommer på lager igen?       1.00      1.00      1.00         1\n",
      "                                        Levering i weekenden       1.00      1.00      1.00         1\n",
      "                                      Leveringsinformationer       0.00      0.00      0.00         0\n",
      "                                         Leveringsmuligheder       0.50      1.00      0.67         1\n",
      "                           Leveringsmuligheder - DHL Express       0.00      0.00      0.00         1\n",
      "                           Leveringsmuligheder - GLS Erhverv       0.00      0.00      0.00         2\n",
      "                         Leveringsmuligheder - GLS Pakkeshop       0.00      0.00      0.00         0\n",
      "                    Leveringsmuligheder - GLS Privatlevering       0.00      0.00      0.00         0\n",
      "                             Manglende produkter i min ordre       0.00      0.00      0.00         1\n",
      "            Ombytning eller returnering af gave købt i butik       0.00      0.00      0.00         1\n",
      "             Ombytning eller returnering af gave købt online       0.50      1.00      0.67         1\n",
      "                              Ordrebekræftelse ikke modtaget       1.00      1.00      1.00         1\n",
      "                                 Ordrenummer ved returnering       1.00      0.50      0.67         2\n",
      "                         Returnering af bestilling fra butik       0.00      0.00      0.00         2\n",
      "             Returnering af produkter fra forskellige ordrer       0.00      0.00      0.00         0\n",
      "                     Returnering fra fysisk butik til online       0.50      1.00      0.67         2\n",
      "         Sådan indtaster du din rabatkode eller dit gavekort       0.00      0.00      0.00         0\n",
      "                                        Told- og importgebyr       0.00      0.00      0.00         2\n",
      "                                        Vaske- og Care Guide       1.00      1.00      1.00         1\n",
      "                                                   baglommer       1.00      0.50      0.67         2\n",
      "                                                        moms       1.00      0.50      0.67         2\n",
      "                                                 reklamation       0.00      0.00      0.00         0\n",
      "                                              skrædderpriser       0.00      0.00      0.00         1\n",
      "                                                         tak       0.00      0.00      0.00         1\n",
      "                                            Ændring af ordre       0.00      0.00      0.00         3\n",
      "\n",
      "                                                    accuracy                           0.41        34\n",
      "                                                   macro avg       0.31      0.32      0.30        34\n",
      "                                                weighted avg       0.46      0.41      0.40        34\n",
      "\n"
     ]
    }
   ],
   "source": [
    "print(\"classification_report test orginal\")\n",
    "print(classification_report(y_test,y_pred_test))\n"
   ]
  },
  {
   "cell_type": "code",
   "execution_count": 28,
   "metadata": {},
   "outputs": [
    {
     "name": "stdout",
     "output_type": "stream",
     "text": [
      "classification_report train merged\n",
      "                                                              precision    recall  f1-score   support\n",
      "\n",
      "                                          Afhentning i butik       0.55      0.86      0.67         7\n",
      "                                        Annullering af ordre       0.56      0.71      0.63         7\n",
      "                                          Bestilling i butik       0.67      0.86      0.75         7\n",
      "                                         Betaling med Klarna       0.75      1.00      0.86         3\n",
      "                                         Betalingsmuligheder       0.67      0.67      0.67         3\n",
      "                                     Defekt produkt modtaget       0.88      1.00      0.93         7\n",
      "                                                     Erhverv       0.67      1.00      0.80         4\n",
      "                                    Forkert produkt modtaget       0.88      0.88      0.88         8\n",
      "                                                    Gavekort       0.67      0.67      0.67         3\n",
      "       Hvor kan man købe produkter fra Shaping New Tomorrow?       1.00      1.00      1.00         4\n",
      "                       Hvornår modtager jeg min refundering?       0.50      0.80      0.62         5\n",
      "Kan jeg få besked, når en udsolgt vare kommer på lager igen?       0.67      1.00      0.80         2\n",
      "                                        Levering i weekenden       1.00      0.60      0.75         5\n",
      "                                      Leveringsinformationer       0.25      0.80      0.38         5\n",
      "                                         Leveringsmuligheder       0.80      0.50      0.62         8\n",
      "                           Leveringsmuligheder - DHL Express       1.00      0.67      0.80         3\n",
      "                           Leveringsmuligheder - GLS Erhverv       0.00      0.00      0.00         4\n",
      "                         Leveringsmuligheder - GLS Pakkeshop       0.80      1.00      0.89         4\n",
      "                    Leveringsmuligheder - GLS Privatlevering       0.75      0.75      0.75         4\n",
      "                               Leveringstid bestilling butik       1.00      1.00      1.00         2\n",
      "                                                      Lynlås       1.00      1.00      1.00         3\n",
      "                             Manglende produkter i min ordre       1.00      0.83      0.91         6\n",
      "            Ombytning eller returnering af gave købt i butik       0.80      0.67      0.73         6\n",
      "             Ombytning eller returnering af gave købt online       0.75      0.75      0.75         4\n",
      "                              Ordrebekræftelse ikke modtaget       1.00      0.71      0.83         7\n",
      "                                 Ordrenummer ved returnering       0.50      0.67      0.57         3\n",
      "                                                 Refundering       1.00      0.78      0.88         9\n",
      "                         Returnering af bestilling fra butik       1.00      0.50      0.67         4\n",
      "             Returnering af produkter fra forskellige ordrer       0.75      0.86      0.80         7\n",
      "                     Returnering fra fysisk butik til online       0.75      1.00      0.86         3\n",
      "                                              Spor min ordre       1.00      0.86      0.92         7\n",
      "         Sådan indtaster du din rabatkode eller dit gavekort       0.40      1.00      0.57         2\n",
      "                                        Told- og importgebyr       1.00      0.50      0.67         6\n",
      "                                        Vaske- og Care Guide       1.00      0.67      0.80         3\n",
      "                                                   baglommer       1.00      0.67      0.80         3\n",
      "                                                      farvel       0.75      0.75      0.75         4\n",
      "                                                      hilsen       1.00      0.50      0.67         8\n",
      "                                                        moms       1.00      0.80      0.89         5\n",
      "                                         regular og slim fit       0.67      1.00      0.80         2\n",
      "                                                 reklamation       0.80      1.00      0.89         4\n",
      "                                              skrædderpriser       1.00      0.75      0.86         4\n",
      "                                                   store lår       1.00      1.00      1.00         3\n",
      "                                            størrelsesguides       1.00      1.00      1.00         1\n",
      "                                                        svar       1.00      0.50      0.67         2\n",
      "                                                         tak       1.00      1.00      1.00         5\n",
      "                                            Ændring af ordre       1.00      0.17      0.29         6\n",
      "\n",
      "                                                    accuracy                           0.75       212\n",
      "                                                   macro avg       0.81      0.78      0.76       212\n",
      "                                                weighted avg       0.82      0.75      0.75       212\n",
      "\n"
     ]
    }
   ],
   "source": [
    "print(\"classification_report train merged\")\n",
    "print(classification_report(y_train_merged,y_pred_train_merged))"
   ]
  },
  {
   "cell_type": "code",
   "execution_count": 29,
   "metadata": {},
   "outputs": [
    {
     "name": "stdout",
     "output_type": "stream",
     "text": [
      "classification_report test merged\n",
      "                                                              precision    recall  f1-score   support\n",
      "\n",
      "                                          Afhentning i butik       0.50      1.00      0.67         1\n",
      "                                        Annullering af ordre       0.50      1.00      0.67         1\n",
      "                                          Bestilling i butik       1.00      0.67      0.80         3\n",
      "                                         Betaling med Klarna       1.00      1.00      1.00         1\n",
      "                                     Defekt produkt modtaget       1.00      1.00      1.00         1\n",
      "                                                     Erhverv       0.00      0.00      0.00         0\n",
      "                       Hvornår modtager jeg min refundering?       0.75      1.00      0.86         3\n",
      "Kan jeg få besked, når en udsolgt vare kommer på lager igen?       1.00      1.00      1.00         1\n",
      "                                        Levering i weekenden       1.00      1.00      1.00         3\n",
      "                                      Leveringsinformationer       1.00      0.67      0.80         3\n",
      "                           Leveringsmuligheder - DHL Express       0.00      0.00      0.00         1\n",
      "                    Leveringsmuligheder - GLS Privatlevering       0.00      0.00      0.00         0\n",
      "                             Manglende produkter i min ordre       1.00      1.00      1.00         2\n",
      "            Ombytning eller returnering af gave købt i butik       1.00      0.50      0.67         2\n",
      "             Ombytning eller returnering af gave købt online       0.80      1.00      0.89         4\n",
      "                              Ordrebekræftelse ikke modtaget       1.00      1.00      1.00         1\n",
      "                                 Ordrenummer ved returnering       1.00      1.00      1.00         1\n",
      "                                                 Refundering       0.00      0.00      0.00         1\n",
      "                         Returnering af bestilling fra butik       0.00      0.00      0.00         2\n",
      "             Returnering af produkter fra forskellige ordrer       0.50      1.00      0.67         1\n",
      "                     Returnering fra fysisk butik til online       0.33      1.00      0.50         1\n",
      "                                              Spor min ordre       1.00      1.00      1.00         1\n",
      "         Sådan indtaster du din rabatkode eller dit gavekort       0.80      1.00      0.89         4\n",
      "                                        Told- og importgebyr       1.00      0.50      0.67         2\n",
      "                                        Vaske- og Care Guide       1.00      1.00      1.00         1\n",
      "                                                      farvel       1.00      1.00      1.00         2\n",
      "                                         regular og slim fit       1.00      1.00      1.00         1\n",
      "                                                 reklamation       1.00      1.00      1.00         1\n",
      "                                              skrædderpriser       0.00      0.00      0.00         0\n",
      "                                                   store lår       1.00      1.00      1.00         1\n",
      "                                            størrelsesguides       1.00      1.00      1.00         2\n",
      "                                                         tak       1.00      0.67      0.80         3\n",
      "                                            Ændring af ordre       0.00      0.00      0.00         2\n",
      "\n",
      "                                                    accuracy                           0.79        53\n",
      "                                                   macro avg       0.70      0.73      0.69        53\n",
      "                                                weighted avg       0.80      0.79      0.77        53\n",
      "\n"
     ]
    }
   ],
   "source": [
    "print(\"classification_report test merged\")\n",
    "print(classification_report(y_test_merged,y_pred_test_merged))"
   ]
  },
  {
   "cell_type": "code",
   "execution_count": 30,
   "metadata": {},
   "outputs": [
    {
     "name": "stdout",
     "output_type": "stream",
     "text": [
      "accuracy_score for train\n",
      "0.9849624060150376\n",
      "accuracy_score for test\n",
      "0.4117647058823529\n",
      "accuracy_score for train merged\n",
      "0.7547169811320755\n",
      "accuracy_score for test merged\n",
      "0.7924528301886793\n"
     ]
    }
   ],
   "source": [
    "# accuracy score for train\n",
    "print(\"accuracy_score for train\")\n",
    "print(accuracy_score(y_train, y_pred_train))\n",
    "# accuracy score for test\n",
    "print(\"accuracy_score for test\")\n",
    "print(accuracy_score(y_test, y_pred_test))\n",
    "# accuracy score for validation\n",
    "print(\"accuracy_score for train merged\")\n",
    "print(accuracy_score(y_train_merged, y_pred_train_merged))\n",
    "# accuracy score for validation\n",
    "print(\"accuracy_score for test merged\")\n",
    "print(accuracy_score(y_test_merged, y_pred_test_merged))"
   ]
  },
  {
   "cell_type": "markdown",
   "metadata": {},
   "source": [
    "### SVM"
   ]
  },
  {
   "cell_type": "code",
   "execution_count": 31,
   "metadata": {},
   "outputs": [],
   "source": [
    "# SVM Model\n",
    "model_svm = svm.SVC()\n",
    "# fit the model\n",
    "model_svm.fit(X_train_W2V, y_train)\n",
    "\n",
    "# predicting for train\n",
    "y_pred_train = model_svm.predict(X_train_W2V)\n",
    "# predicting for test\n",
    "y_pred_test = model_svm.predict(X_test_W2V)\n",
    "# predicting for merged train\n",
    "y_pred_train_merged = model_svm.predict(X_train_merged_W2V)\n",
    "# predicting for merged test\n",
    "y_pred_test_merged = model_svm.predict(X_test_merged_W2V)\n",
    "\n"
   ]
  },
  {
   "cell_type": "code",
   "execution_count": 32,
   "metadata": {},
   "outputs": [
    {
     "name": "stdout",
     "output_type": "stream",
     "text": [
      "classification_report train orginal\n",
      "                                                              precision    recall  f1-score   support\n",
      "\n",
      "                                          Afhentning i butik       0.40      1.00      0.57         4\n",
      "                                        Annullering af ordre       0.00      0.00      0.00         4\n",
      "                                          Bestilling i butik       0.00      0.00      0.00         2\n",
      "                                         Betaling med Klarna       0.80      1.00      0.89         4\n",
      "                                         Betalingsmuligheder       0.00      0.00      0.00         2\n",
      "                                     Defekt produkt modtaget       1.00      0.50      0.67         4\n",
      "                                                     Erhverv       1.00      1.00      1.00         3\n",
      "                                    Forkert produkt modtaget       0.67      1.00      0.80         4\n",
      "                                                    Gavekort       0.00      0.00      0.00         2\n",
      "       Hvor kan man købe produkter fra Shaping New Tomorrow?       1.00      1.00      1.00         4\n",
      "                       Hvornår modtager jeg min refundering?       0.50      0.25      0.33         4\n",
      "Kan jeg få besked, når en udsolgt vare kommer på lager igen?       0.00      0.00      0.00         2\n",
      "                                        Levering i weekenden       0.00      0.00      0.00         3\n",
      "                                      Leveringsinformationer       0.67      1.00      0.80         4\n",
      "                                         Leveringsmuligheder       0.00      0.00      0.00         3\n",
      "                           Leveringsmuligheder - DHL Express       0.00      0.00      0.00         1\n",
      "                         Leveringsmuligheder - GLS Pakkeshop       1.00      0.50      0.67         2\n",
      "                    Leveringsmuligheder - GLS Privatlevering       1.00      0.50      0.67         2\n",
      "                               Leveringstid bestilling butik       0.00      0.00      0.00         1\n",
      "                                                      Lynlås       1.00      1.00      1.00         3\n",
      "                             Manglende produkter i min ordre       1.00      1.00      1.00         3\n",
      "            Ombytning eller returnering af gave købt i butik       0.00      0.00      0.00         3\n",
      "             Ombytning eller returnering af gave købt online       1.00      0.67      0.80         3\n",
      "                              Ordrebekræftelse ikke modtaget       0.00      0.00      0.00         3\n",
      "                                 Ordrenummer ved returnering       0.00      0.00      0.00         2\n",
      "                                                 Refundering       0.38      1.00      0.56         5\n",
      "                         Returnering af bestilling fra butik       0.00      0.00      0.00         1\n",
      "             Returnering af produkter fra forskellige ordrer       0.67      1.00      0.80         4\n",
      "                     Returnering fra fysisk butik til online       0.00      0.00      0.00         2\n",
      "                                              Spor min ordre       0.44      1.00      0.62         4\n",
      "         Sådan indtaster du din rabatkode eller dit gavekort       0.27      1.00      0.43         6\n",
      "                                        Told- og importgebyr       0.00      0.00      0.00         2\n",
      "                                        Vaske- og Care Guide       0.00      0.00      0.00         3\n",
      "                                                   baglommer       0.00      0.00      0.00         1\n",
      "                                                      farvel       0.75      1.00      0.86         3\n",
      "                                                      hilsen       1.00      0.75      0.86         4\n",
      "                                                        moms       1.00      0.33      0.50         3\n",
      "                                         regular og slim fit       1.00      1.00      1.00         3\n",
      "                                                 reklamation       0.27      0.80      0.40         5\n",
      "                                              skrædderpriser       0.00      0.00      0.00         3\n",
      "                                                   store lår       0.80      1.00      0.89         4\n",
      "                                            størrelsesguides       0.00      0.00      0.00         3\n",
      "                                                        svar       1.00      1.00      1.00         1\n",
      "                                                         tak       1.00      1.00      1.00         3\n",
      "                                            Ændring af ordre       0.00      0.00      0.00         1\n",
      "\n",
      "                                                    accuracy                           0.58       133\n",
      "                                                   macro avg       0.44      0.47      0.42       133\n",
      "                                                weighted avg       0.49      0.58      0.49       133\n",
      "\n"
     ]
    }
   ],
   "source": [
    "print(\"classification_report train orginal\")\n",
    "print(classification_report(y_train,y_pred_train))"
   ]
  },
  {
   "cell_type": "code",
   "execution_count": 33,
   "metadata": {},
   "outputs": [
    {
     "name": "stdout",
     "output_type": "stream",
     "text": [
      "classification_report test orginal\n",
      "                                                              precision    recall  f1-score   support\n",
      "\n",
      "                                          Afhentning i butik       0.00      0.00      0.00         0\n",
      "                                          Bestilling i butik       0.00      0.00      0.00         3\n",
      "                                         Betaling med Klarna       0.00      0.00      0.00         0\n",
      "                                         Betalingsmuligheder       0.00      0.00      0.00         1\n",
      "                                                     Erhverv       1.00      1.00      1.00         1\n",
      "                                                    Gavekort       0.00      0.00      0.00         1\n",
      "                       Hvornår modtager jeg min refundering?       0.00      0.00      0.00         0\n",
      "Kan jeg få besked, når en udsolgt vare kommer på lager igen?       0.00      0.00      0.00         1\n",
      "                                        Levering i weekenden       0.00      0.00      0.00         1\n",
      "                                         Leveringsmuligheder       0.00      0.00      0.00         1\n",
      "                           Leveringsmuligheder - DHL Express       0.00      0.00      0.00         1\n",
      "                           Leveringsmuligheder - GLS Erhverv       0.00      0.00      0.00         2\n",
      "                    Leveringsmuligheder - GLS Privatlevering       0.00      0.00      0.00         0\n",
      "                             Manglende produkter i min ordre       0.00      0.00      0.00         1\n",
      "            Ombytning eller returnering af gave købt i butik       0.00      0.00      0.00         1\n",
      "             Ombytning eller returnering af gave købt online       1.00      1.00      1.00         1\n",
      "                              Ordrebekræftelse ikke modtaget       0.00      0.00      0.00         1\n",
      "                                 Ordrenummer ved returnering       0.00      0.00      0.00         2\n",
      "                                                 Refundering       0.00      0.00      0.00         0\n",
      "                         Returnering af bestilling fra butik       0.00      0.00      0.00         2\n",
      "             Returnering af produkter fra forskellige ordrer       0.00      0.00      0.00         0\n",
      "                     Returnering fra fysisk butik til online       0.00      0.00      0.00         2\n",
      "                                              Spor min ordre       0.00      0.00      0.00         0\n",
      "         Sådan indtaster du din rabatkode eller dit gavekort       0.00      0.00      0.00         0\n",
      "                                        Told- og importgebyr       0.00      0.00      0.00         2\n",
      "                                        Vaske- og Care Guide       0.00      0.00      0.00         1\n",
      "                                                   baglommer       0.00      0.00      0.00         2\n",
      "                                                        moms       1.00      0.50      0.67         2\n",
      "                                                 reklamation       0.00      0.00      0.00         0\n",
      "                                              skrædderpriser       0.00      0.00      0.00         1\n",
      "                                                   store lår       0.00      0.00      0.00         0\n",
      "                                                         tak       0.00      0.00      0.00         1\n",
      "                                            Ændring af ordre       0.00      0.00      0.00         3\n",
      "\n",
      "                                                    accuracy                           0.09        34\n",
      "                                                   macro avg       0.09      0.08      0.08        34\n",
      "                                                weighted avg       0.12      0.09      0.10        34\n",
      "\n"
     ]
    }
   ],
   "source": [
    "print(\"classification_report test orginal\")\n",
    "print(classification_report(y_test,y_pred_test))"
   ]
  },
  {
   "cell_type": "code",
   "execution_count": 34,
   "metadata": {},
   "outputs": [
    {
     "name": "stdout",
     "output_type": "stream",
     "text": [
      "classification_report train merged\n",
      "                                                              precision    recall  f1-score   support\n",
      "\n",
      "                                          Afhentning i butik       0.40      0.86      0.55         7\n",
      "                                        Annullering af ordre       0.00      0.00      0.00         7\n",
      "                                          Bestilling i butik       0.00      0.00      0.00         7\n",
      "                                         Betaling med Klarna       0.43      1.00      0.60         3\n",
      "                                         Betalingsmuligheder       0.00      0.00      0.00         3\n",
      "                                     Defekt produkt modtaget       1.00      0.14      0.25         7\n",
      "                                                     Erhverv       1.00      1.00      1.00         4\n",
      "                                    Forkert produkt modtaget       0.75      0.75      0.75         8\n",
      "                                                    Gavekort       0.00      0.00      0.00         3\n",
      "       Hvor kan man købe produkter fra Shaping New Tomorrow?       1.00      1.00      1.00         4\n",
      "                       Hvornår modtager jeg min refundering?       0.33      0.20      0.25         5\n",
      "Kan jeg få besked, når en udsolgt vare kommer på lager igen?       0.00      0.00      0.00         2\n",
      "                                        Levering i weekenden       0.00      0.00      0.00         5\n",
      "                                      Leveringsinformationer       0.33      0.60      0.43         5\n",
      "                                         Leveringsmuligheder       0.00      0.00      0.00         8\n",
      "                           Leveringsmuligheder - DHL Express       0.00      0.00      0.00         3\n",
      "                           Leveringsmuligheder - GLS Erhverv       0.00      0.00      0.00         4\n",
      "                         Leveringsmuligheder - GLS Pakkeshop       1.00      0.50      0.67         4\n",
      "                    Leveringsmuligheder - GLS Privatlevering       0.50      0.25      0.33         4\n",
      "                               Leveringstid bestilling butik       0.00      0.00      0.00         2\n",
      "                                                      Lynlås       1.00      1.00      1.00         3\n",
      "                             Manglende produkter i min ordre       1.00      0.67      0.80         6\n",
      "            Ombytning eller returnering af gave købt i butik       0.00      0.00      0.00         6\n",
      "             Ombytning eller returnering af gave købt online       0.00      0.00      0.00         4\n",
      "                              Ordrebekræftelse ikke modtaget       0.00      0.00      0.00         7\n",
      "                                 Ordrenummer ved returnering       0.00      0.00      0.00         3\n",
      "                                                 Refundering       0.26      1.00      0.41         9\n",
      "                         Returnering af bestilling fra butik       0.00      0.00      0.00         4\n",
      "             Returnering af produkter fra forskellige ordrer       0.44      1.00      0.61         7\n",
      "                     Returnering fra fysisk butik til online       0.00      0.00      0.00         3\n",
      "                                              Spor min ordre       0.38      0.86      0.52         7\n",
      "         Sådan indtaster du din rabatkode eller dit gavekort       0.09      1.00      0.16         2\n",
      "                                        Told- og importgebyr       0.00      0.00      0.00         6\n",
      "                                        Vaske- og Care Guide       0.00      0.00      0.00         3\n",
      "                                                   baglommer       0.00      0.00      0.00         3\n",
      "                                                      farvel       0.75      0.75      0.75         4\n",
      "                                                      hilsen       0.86      0.75      0.80         8\n",
      "                                                        moms       1.00      0.40      0.57         5\n",
      "                                         regular og slim fit       1.00      1.00      1.00         2\n",
      "                                                 reklamation       0.09      0.75      0.17         4\n",
      "                                              skrædderpriser       0.00      0.00      0.00         4\n",
      "                                                   store lår       0.60      1.00      0.75         3\n",
      "                                            størrelsesguides       0.00      0.00      0.00         1\n",
      "                                                        svar       1.00      0.50      0.67         2\n",
      "                                                         tak       1.00      1.00      1.00         5\n",
      "                                            Ændring af ordre       0.00      0.00      0.00         6\n",
      "\n",
      "                                                    accuracy                           0.41       212\n",
      "                                                   macro avg       0.35      0.39      0.33       212\n",
      "                                                weighted avg       0.37      0.41      0.34       212\n",
      "\n"
     ]
    }
   ],
   "source": [
    "print(\"classification_report train merged\")\n",
    "print(classification_report(y_train_merged,y_pred_train_merged))"
   ]
  },
  {
   "cell_type": "code",
   "execution_count": 35,
   "metadata": {},
   "outputs": [
    {
     "name": "stdout",
     "output_type": "stream",
     "text": [
      "classification_report test merged\n",
      "                                                              precision    recall  f1-score   support\n",
      "\n",
      "                                          Afhentning i butik       0.17      1.00      0.29         1\n",
      "                                        Annullering af ordre       0.00      0.00      0.00         1\n",
      "                                          Bestilling i butik       0.00      0.00      0.00         3\n",
      "                                         Betaling med Klarna       1.00      1.00      1.00         1\n",
      "                                     Defekt produkt modtaget       1.00      1.00      1.00         1\n",
      "                       Hvornår modtager jeg min refundering?       0.67      0.67      0.67         3\n",
      "Kan jeg få besked, når en udsolgt vare kommer på lager igen?       0.00      0.00      0.00         1\n",
      "                                        Levering i weekenden       0.00      0.00      0.00         3\n",
      "                                      Leveringsinformationer       1.00      0.67      0.80         3\n",
      "                           Leveringsmuligheder - DHL Express       0.00      0.00      0.00         1\n",
      "                             Manglende produkter i min ordre       1.00      1.00      1.00         2\n",
      "            Ombytning eller returnering af gave købt i butik       0.00      0.00      0.00         2\n",
      "             Ombytning eller returnering af gave købt online       1.00      0.75      0.86         4\n",
      "                              Ordrebekræftelse ikke modtaget       0.00      0.00      0.00         1\n",
      "                                 Ordrenummer ved returnering       0.00      0.00      0.00         1\n",
      "                                                 Refundering       0.17      1.00      0.29         1\n",
      "                         Returnering af bestilling fra butik       0.00      0.00      0.00         2\n",
      "             Returnering af produkter fra forskellige ordrer       0.17      1.00      0.29         1\n",
      "                     Returnering fra fysisk butik til online       0.00      0.00      0.00         1\n",
      "                                              Spor min ordre       0.00      0.00      0.00         1\n",
      "         Sådan indtaster du din rabatkode eller dit gavekort       0.44      1.00      0.62         4\n",
      "                                        Told- og importgebyr       0.00      0.00      0.00         2\n",
      "                                        Vaske- og Care Guide       0.00      0.00      0.00         1\n",
      "                                                      farvel       1.00      0.50      0.67         2\n",
      "                                                      hilsen       0.00      0.00      0.00         0\n",
      "                                         regular og slim fit       1.00      1.00      1.00         1\n",
      "                                                 reklamation       0.25      1.00      0.40         1\n",
      "                                                   store lår       1.00      1.00      1.00         1\n",
      "                                            størrelsesguides       0.00      0.00      0.00         2\n",
      "                                                         tak       1.00      0.67      0.80         3\n",
      "                                            Ændring af ordre       0.00      0.00      0.00         2\n",
      "\n",
      "                                                    accuracy                           0.45        53\n",
      "                                                   macro avg       0.35      0.43      0.34        53\n",
      "                                                weighted avg       0.43      0.45      0.40        53\n",
      "\n"
     ]
    }
   ],
   "source": [
    "print(\"classification_report test merged\")\n",
    "print(classification_report(y_test_merged,y_pred_test_merged))"
   ]
  },
  {
   "cell_type": "code",
   "execution_count": 36,
   "metadata": {},
   "outputs": [
    {
     "name": "stdout",
     "output_type": "stream",
     "text": [
      "accuracy_score for train\n",
      "0.5789473684210527\n",
      "accuracy_score for test\n",
      "0.08823529411764706\n",
      "accuracy_score for train merged\n",
      "0.41037735849056606\n",
      "accuracy_score for test merged\n",
      "0.4528301886792453\n"
     ]
    }
   ],
   "source": [
    "# accuracy score for train\n",
    "print(\"accuracy_score for train\")\n",
    "print(accuracy_score(y_train, y_pred_train))\n",
    "# accuracy score for test\n",
    "print(\"accuracy_score for test\")\n",
    "print(accuracy_score(y_test, y_pred_test))\n",
    "# accuracy score for validation\n",
    "print(\"accuracy_score for train merged\")\n",
    "print(accuracy_score(y_train_merged, y_pred_train_merged))\n",
    "# accuracy score for validation\n",
    "print(\"accuracy_score for test merged\")\n",
    "print(accuracy_score(y_test_merged, y_pred_test_merged))"
   ]
  },
  {
   "cell_type": "markdown",
   "metadata": {},
   "source": [
    "### KNeighbors"
   ]
  },
  {
   "cell_type": "code",
   "execution_count": 37,
   "metadata": {},
   "outputs": [],
   "source": [
    "#  Multinomial Naive Bayers Model\n",
    "model_kn = KNeighborsClassifier()\n",
    "\n",
    "# fit the model\n",
    "model_kn.fit(X_train_W2V, y_train)\n",
    "\n",
    "# predicting for train\n",
    "y_pred_train = model_kn.predict(X_train_W2V)\n",
    "# predicting for test\n",
    "y_pred_test = model_kn.predict(X_test_W2V)\n",
    "# predicting for merged train\n",
    "y_pred_train_merged = model_kn.predict(X_train_merged_W2V)\n",
    "# predicting for merged test\n",
    "y_pred_test_merged = model_kn.predict(X_test_merged_W2V)"
   ]
  },
  {
   "cell_type": "code",
   "execution_count": 38,
   "metadata": {},
   "outputs": [
    {
     "name": "stdout",
     "output_type": "stream",
     "text": [
      "classification_report train orginal\n",
      "                                                              precision    recall  f1-score   support\n",
      "\n",
      "                                          Afhentning i butik       0.38      0.75      0.50         4\n",
      "                                        Annullering af ordre       0.38      0.75      0.50         4\n",
      "                                          Bestilling i butik       0.33      1.00      0.50         2\n",
      "                                         Betaling med Klarna       0.50      0.50      0.50         4\n",
      "                                         Betalingsmuligheder       0.00      0.00      0.00         2\n",
      "                                     Defekt produkt modtaget       0.43      0.75      0.55         4\n",
      "                                                     Erhverv       1.00      1.00      1.00         3\n",
      "                                    Forkert produkt modtaget       0.36      1.00      0.53         4\n",
      "                                                    Gavekort       0.50      1.00      0.67         2\n",
      "       Hvor kan man købe produkter fra Shaping New Tomorrow?       0.57      1.00      0.73         4\n",
      "                       Hvornår modtager jeg min refundering?       0.33      0.25      0.29         4\n",
      "Kan jeg få besked, når en udsolgt vare kommer på lager igen?       0.67      1.00      0.80         2\n",
      "                                        Levering i weekenden       1.00      0.33      0.50         3\n",
      "                                      Leveringsinformationer       0.50      0.50      0.50         4\n",
      "                                         Leveringsmuligheder       0.00      0.00      0.00         3\n",
      "                           Leveringsmuligheder - DHL Express       0.00      0.00      0.00         1\n",
      "                         Leveringsmuligheder - GLS Pakkeshop       0.50      0.50      0.50         2\n",
      "                    Leveringsmuligheder - GLS Privatlevering       0.00      0.00      0.00         2\n",
      "                               Leveringstid bestilling butik       0.00      0.00      0.00         1\n",
      "                                                      Lynlås       0.50      0.33      0.40         3\n",
      "                             Manglende produkter i min ordre       0.75      1.00      0.86         3\n",
      "            Ombytning eller returnering af gave købt i butik       0.67      0.67      0.67         3\n",
      "             Ombytning eller returnering af gave købt online       0.00      0.00      0.00         3\n",
      "                              Ordrebekræftelse ikke modtaget       0.50      0.33      0.40         3\n",
      "                                 Ordrenummer ved returnering       0.00      0.00      0.00         2\n",
      "                                                 Refundering       0.50      0.20      0.29         5\n",
      "                         Returnering af bestilling fra butik       0.00      0.00      0.00         1\n",
      "             Returnering af produkter fra forskellige ordrer       0.27      0.75      0.40         4\n",
      "                     Returnering fra fysisk butik til online       0.00      0.00      0.00         2\n",
      "                                              Spor min ordre       1.00      0.25      0.40         4\n",
      "         Sådan indtaster du din rabatkode eller dit gavekort       0.60      1.00      0.75         6\n",
      "                                        Told- og importgebyr       0.00      0.00      0.00         2\n",
      "                                        Vaske- og Care Guide       1.00      0.33      0.50         3\n",
      "                                                   baglommer       0.00      0.00      0.00         1\n",
      "                                                      farvel       0.75      1.00      0.86         3\n",
      "                                                      hilsen       1.00      0.25      0.40         4\n",
      "                                                        moms       1.00      0.67      0.80         3\n",
      "                                         regular og slim fit       0.60      1.00      0.75         3\n",
      "                                                 reklamation       0.00      0.00      0.00         5\n",
      "                                              skrædderpriser       0.00      0.00      0.00         3\n",
      "                                                   store lår       0.75      0.75      0.75         4\n",
      "                                            størrelsesguides       0.50      0.33      0.40         3\n",
      "                                                        svar       0.00      0.00      0.00         1\n",
      "                                                         tak       1.00      1.00      1.00         3\n",
      "                                            Ændring af ordre       0.00      0.00      0.00         1\n",
      "\n",
      "                                                    accuracy                           0.51       133\n",
      "                                                   macro avg       0.42      0.45      0.39       133\n",
      "                                                weighted avg       0.48      0.51      0.45       133\n",
      "\n"
     ]
    }
   ],
   "source": [
    "print(\"classification_report train orginal\")\n",
    "print(classification_report(y_train,y_pred_train))"
   ]
  },
  {
   "cell_type": "code",
   "execution_count": 39,
   "metadata": {},
   "outputs": [
    {
     "name": "stdout",
     "output_type": "stream",
     "text": [
      "classification_report test orginal\n",
      "                                                              precision    recall  f1-score   support\n",
      "\n",
      "                                          Afhentning i butik       0.00      0.00      0.00         0\n",
      "                                        Annullering af ordre       0.00      0.00      0.00         0\n",
      "                                          Bestilling i butik       0.67      0.67      0.67         3\n",
      "                                         Betaling med Klarna       0.00      0.00      0.00         0\n",
      "                                         Betalingsmuligheder       0.00      0.00      0.00         1\n",
      "                                     Defekt produkt modtaget       0.00      0.00      0.00         0\n",
      "                                                     Erhverv       0.50      1.00      0.67         1\n",
      "                                    Forkert produkt modtaget       0.00      0.00      0.00         0\n",
      "                                                    Gavekort       0.00      0.00      0.00         1\n",
      "       Hvor kan man købe produkter fra Shaping New Tomorrow?       0.00      0.00      0.00         0\n",
      "                       Hvornår modtager jeg min refundering?       0.00      0.00      0.00         0\n",
      "Kan jeg få besked, når en udsolgt vare kommer på lager igen?       1.00      1.00      1.00         1\n",
      "                                        Levering i weekenden       1.00      1.00      1.00         1\n",
      "                                      Leveringsinformationer       0.00      0.00      0.00         0\n",
      "                                         Leveringsmuligheder       0.00      0.00      0.00         1\n",
      "                           Leveringsmuligheder - DHL Express       0.00      0.00      0.00         1\n",
      "                           Leveringsmuligheder - GLS Erhverv       0.00      0.00      0.00         2\n",
      "                         Leveringsmuligheder - GLS Pakkeshop       0.00      0.00      0.00         0\n",
      "                    Leveringsmuligheder - GLS Privatlevering       0.00      0.00      0.00         0\n",
      "                             Manglende produkter i min ordre       0.00      0.00      0.00         1\n",
      "            Ombytning eller returnering af gave købt i butik       0.00      0.00      0.00         1\n",
      "             Ombytning eller returnering af gave købt online       1.00      1.00      1.00         1\n",
      "                              Ordrebekræftelse ikke modtaget       0.00      0.00      0.00         1\n",
      "                                 Ordrenummer ved returnering       0.00      0.00      0.00         2\n",
      "                         Returnering af bestilling fra butik       0.00      0.00      0.00         2\n",
      "             Returnering af produkter fra forskellige ordrer       0.00      0.00      0.00         0\n",
      "                     Returnering fra fysisk butik til online       0.00      0.00      0.00         2\n",
      "                                              Spor min ordre       0.00      0.00      0.00         0\n",
      "         Sådan indtaster du din rabatkode eller dit gavekort       0.00      0.00      0.00         0\n",
      "                                        Told- og importgebyr       0.00      0.00      0.00         2\n",
      "                                        Vaske- og Care Guide       0.00      0.00      0.00         1\n",
      "                                                   baglommer       0.00      0.00      0.00         2\n",
      "                                                        moms       1.00      0.50      0.67         2\n",
      "                                              skrædderpriser       0.00      0.00      0.00         1\n",
      "                                                         tak       0.00      0.00      0.00         1\n",
      "                                            Ændring af ordre       0.00      0.00      0.00         3\n",
      "\n",
      "                                                    accuracy                           0.21        34\n",
      "                                                   macro avg       0.14      0.14      0.14        34\n",
      "                                                weighted avg       0.22      0.21      0.21        34\n",
      "\n"
     ]
    }
   ],
   "source": [
    "print(\"classification_report test orginal\")\n",
    "print(classification_report(y_test,y_pred_test))"
   ]
  },
  {
   "cell_type": "code",
   "execution_count": 40,
   "metadata": {},
   "outputs": [
    {
     "name": "stdout",
     "output_type": "stream",
     "text": [
      "classification_report train merged\n",
      "                                                              precision    recall  f1-score   support\n",
      "\n",
      "                                          Afhentning i butik       0.26      0.71      0.38         7\n",
      "                                        Annullering af ordre       0.27      0.43      0.33         7\n",
      "                                          Bestilling i butik       0.50      1.00      0.67         7\n",
      "                                         Betaling med Klarna       0.17      0.33      0.22         3\n",
      "                                         Betalingsmuligheder       0.00      0.00      0.00         3\n",
      "                                     Defekt produkt modtaget       0.40      0.57      0.47         7\n",
      "                                                     Erhverv       0.67      1.00      0.80         4\n",
      "                                    Forkert produkt modtaget       0.32      0.75      0.44         8\n",
      "                                                    Gavekort       0.67      0.67      0.67         3\n",
      "       Hvor kan man købe produkter fra Shaping New Tomorrow?       0.40      1.00      0.57         4\n",
      "                       Hvornår modtager jeg min refundering?       0.25      0.40      0.31         5\n",
      "Kan jeg få besked, når en udsolgt vare kommer på lager igen?       0.67      1.00      0.80         2\n",
      "                                        Levering i weekenden       1.00      0.20      0.33         5\n",
      "                                      Leveringsinformationer       0.38      0.60      0.46         5\n",
      "                                         Leveringsmuligheder       0.00      0.00      0.00         8\n",
      "                           Leveringsmuligheder - DHL Express       0.00      0.00      0.00         3\n",
      "                           Leveringsmuligheder - GLS Erhverv       0.00      0.00      0.00         4\n",
      "                         Leveringsmuligheder - GLS Pakkeshop       0.40      0.50      0.44         4\n",
      "                    Leveringsmuligheder - GLS Privatlevering       0.25      0.25      0.25         4\n",
      "                               Leveringstid bestilling butik       0.00      0.00      0.00         2\n",
      "                                                      Lynlås       0.50      0.33      0.40         3\n",
      "                             Manglende produkter i min ordre       0.71      0.83      0.77         6\n",
      "            Ombytning eller returnering af gave købt i butik       1.00      0.50      0.67         6\n",
      "             Ombytning eller returnering af gave købt online       1.00      0.25      0.40         4\n",
      "                              Ordrebekræftelse ikke modtaget       0.67      0.29      0.40         7\n",
      "                                 Ordrenummer ved returnering       0.00      0.00      0.00         3\n",
      "                                                 Refundering       1.00      0.22      0.36         9\n",
      "                         Returnering af bestilling fra butik       0.00      0.00      0.00         4\n",
      "             Returnering af produkter fra forskellige ordrer       0.15      0.57      0.24         7\n",
      "                     Returnering fra fysisk butik til online       0.00      0.00      0.00         3\n",
      "                                              Spor min ordre       0.50      0.29      0.36         7\n",
      "         Sådan indtaster du din rabatkode eller dit gavekort       0.22      1.00      0.36         2\n",
      "                                        Told- og importgebyr       0.00      0.00      0.00         6\n",
      "                                        Vaske- og Care Guide       1.00      0.33      0.50         3\n",
      "                                                   baglommer       0.00      0.00      0.00         3\n",
      "                                                      farvel       0.67      0.50      0.57         4\n",
      "                                                      hilsen       1.00      0.12      0.22         8\n",
      "                                                        moms       0.75      0.60      0.67         5\n",
      "                                         regular og slim fit       0.50      1.00      0.67         2\n",
      "                                                 reklamation       0.00      0.00      0.00         4\n",
      "                                              skrædderpriser       0.00      0.00      0.00         4\n",
      "                                                   store lår       0.60      1.00      0.75         3\n",
      "                                            størrelsesguides       0.00      0.00      0.00         1\n",
      "                                                        svar       0.00      0.00      0.00         2\n",
      "                                                         tak       1.00      0.80      0.89         5\n",
      "                                            Ændring af ordre       0.00      0.00      0.00         6\n",
      "\n",
      "                                                    accuracy                           0.40       212\n",
      "                                                   macro avg       0.39      0.39      0.33       212\n",
      "                                                weighted avg       0.43      0.40      0.35       212\n",
      "\n"
     ]
    }
   ],
   "source": [
    "print(\"classification_report train merged\")\n",
    "print(classification_report(y_train_merged,y_pred_train_merged))"
   ]
  },
  {
   "cell_type": "code",
   "execution_count": 41,
   "metadata": {},
   "outputs": [
    {
     "name": "stdout",
     "output_type": "stream",
     "text": [
      "classification_report test merged\n",
      "                                                              precision    recall  f1-score   support\n",
      "\n",
      "                                          Afhentning i butik       0.00      0.00      0.00         1\n",
      "                                        Annullering af ordre       0.50      1.00      0.67         1\n",
      "                                          Bestilling i butik       0.33      0.33      0.33         3\n",
      "                                         Betaling med Klarna       1.00      1.00      1.00         1\n",
      "                                         Betalingsmuligheder       0.00      0.00      0.00         0\n",
      "                                     Defekt produkt modtaget       1.00      1.00      1.00         1\n",
      "                                                     Erhverv       0.00      0.00      0.00         0\n",
      "                                                    Gavekort       0.00      0.00      0.00         0\n",
      "                       Hvornår modtager jeg min refundering?       0.50      0.33      0.40         3\n",
      "Kan jeg få besked, når en udsolgt vare kommer på lager igen?       1.00      1.00      1.00         1\n",
      "                                        Levering i weekenden       1.00      1.00      1.00         3\n",
      "                                      Leveringsinformationer       1.00      0.33      0.50         3\n",
      "                           Leveringsmuligheder - DHL Express       0.00      0.00      0.00         1\n",
      "                         Leveringsmuligheder - GLS Pakkeshop       0.00      0.00      0.00         0\n",
      "                             Manglende produkter i min ordre       1.00      1.00      1.00         2\n",
      "            Ombytning eller returnering af gave købt i butik       0.33      0.50      0.40         2\n",
      "             Ombytning eller returnering af gave købt online       1.00      0.25      0.40         4\n",
      "                              Ordrebekræftelse ikke modtaget       0.00      0.00      0.00         1\n",
      "                                 Ordrenummer ved returnering       0.00      0.00      0.00         1\n",
      "                                                 Refundering       0.00      0.00      0.00         1\n",
      "                         Returnering af bestilling fra butik       0.00      0.00      0.00         2\n",
      "             Returnering af produkter fra forskellige ordrer       0.11      1.00      0.20         1\n",
      "                     Returnering fra fysisk butik til online       0.00      0.00      0.00         1\n",
      "                                              Spor min ordre       0.00      0.00      0.00         1\n",
      "         Sådan indtaster du din rabatkode eller dit gavekort       0.57      1.00      0.73         4\n",
      "                                        Told- og importgebyr       0.00      0.00      0.00         2\n",
      "                                        Vaske- og Care Guide       0.00      0.00      0.00         1\n",
      "                                                      farvel       1.00      0.50      0.67         2\n",
      "                                         regular og slim fit       0.50      1.00      0.67         1\n",
      "                                                 reklamation       0.00      0.00      0.00         1\n",
      "                                              skrædderpriser       0.00      0.00      0.00         0\n",
      "                                                   store lår       0.00      0.00      0.00         1\n",
      "                                            størrelsesguides       1.00      0.50      0.67         2\n",
      "                                                         tak       1.00      0.67      0.80         3\n",
      "                                            Ændring af ordre       0.00      0.00      0.00         2\n",
      "\n",
      "                                                    accuracy                           0.45        53\n",
      "                                                   macro avg       0.37      0.35      0.33        53\n",
      "                                                weighted avg       0.54      0.45      0.45        53\n",
      "\n"
     ]
    }
   ],
   "source": [
    "print(\"classification_report test merged\")\n",
    "print(classification_report(y_test_merged,y_pred_test_merged))"
   ]
  },
  {
   "cell_type": "code",
   "execution_count": 42,
   "metadata": {},
   "outputs": [
    {
     "name": "stdout",
     "output_type": "stream",
     "text": [
      "accuracy_score for train\n",
      "0.5112781954887218\n",
      "accuracy_score for test\n",
      "0.20588235294117646\n",
      "accuracy_score for train merged\n",
      "0.4009433962264151\n",
      "accuracy_score for test merged\n",
      "0.4528301886792453\n"
     ]
    }
   ],
   "source": [
    "# accuracy score for train\n",
    "print(\"accuracy_score for train\")\n",
    "print(accuracy_score(y_train, y_pred_train))\n",
    "# accuracy score for test\n",
    "print(\"accuracy_score for test\")\n",
    "print(accuracy_score(y_test, y_pred_test))\n",
    "# accuracy score for validation\n",
    "print(\"accuracy_score for train merged\")\n",
    "print(accuracy_score(y_train_merged, y_pred_train_merged))\n",
    "# accuracy score for validation\n",
    "print(\"accuracy_score for test merged\")\n",
    "print(accuracy_score(y_test_merged, y_pred_test_merged))"
   ]
  },
  {
   "cell_type": "markdown",
   "metadata": {},
   "source": [
    "### Random Forrest"
   ]
  },
  {
   "cell_type": "code",
   "execution_count": 43,
   "metadata": {},
   "outputs": [],
   "source": [
    "#  Random Forest Model\n",
    "model_rf = RandomForestClassifier()\n",
    "\n",
    "# fit the model\n",
    "model_rf.fit(X_train_W2V, y_train)\n",
    "\n",
    "# predicting for train\n",
    "y_pred_train = model_rf.predict(X_train_W2V)\n",
    "# predicting for test\n",
    "y_pred_test = model_rf.predict(X_test_W2V)\n",
    "# predicting for merged train\n",
    "y_pred_train_merged = model_rf.predict(X_train_merged_W2V)\n",
    "# predicting for merged test\n",
    "y_pred_test_merged = model_rf.predict(X_test_merged_W2V)"
   ]
  },
  {
   "cell_type": "code",
   "execution_count": 44,
   "metadata": {},
   "outputs": [
    {
     "name": "stdout",
     "output_type": "stream",
     "text": [
      "classification_report train orginal\n",
      "                                                              precision    recall  f1-score   support\n",
      "\n",
      "                                          Afhentning i butik       1.00      1.00      1.00         4\n",
      "                                        Annullering af ordre       1.00      1.00      1.00         4\n",
      "                                          Bestilling i butik       1.00      1.00      1.00         2\n",
      "                                         Betaling med Klarna       1.00      1.00      1.00         4\n",
      "                                         Betalingsmuligheder       1.00      1.00      1.00         2\n",
      "                                     Defekt produkt modtaget       1.00      1.00      1.00         4\n",
      "                                                     Erhverv       1.00      1.00      1.00         3\n",
      "                                    Forkert produkt modtaget       1.00      1.00      1.00         4\n",
      "                                                    Gavekort       1.00      1.00      1.00         2\n",
      "       Hvor kan man købe produkter fra Shaping New Tomorrow?       1.00      1.00      1.00         4\n",
      "                       Hvornår modtager jeg min refundering?       1.00      1.00      1.00         4\n",
      "Kan jeg få besked, når en udsolgt vare kommer på lager igen?       1.00      1.00      1.00         2\n",
      "                                        Levering i weekenden       1.00      1.00      1.00         3\n",
      "                                      Leveringsinformationer       0.80      1.00      0.89         4\n",
      "                                         Leveringsmuligheder       1.00      1.00      1.00         3\n",
      "                           Leveringsmuligheder - DHL Express       1.00      1.00      1.00         1\n",
      "                         Leveringsmuligheder - GLS Pakkeshop       1.00      1.00      1.00         2\n",
      "                    Leveringsmuligheder - GLS Privatlevering       1.00      1.00      1.00         2\n",
      "                               Leveringstid bestilling butik       1.00      1.00      1.00         1\n",
      "                                                      Lynlås       1.00      1.00      1.00         3\n",
      "                             Manglende produkter i min ordre       1.00      1.00      1.00         3\n",
      "            Ombytning eller returnering af gave købt i butik       1.00      1.00      1.00         3\n",
      "             Ombytning eller returnering af gave købt online       1.00      1.00      1.00         3\n",
      "                              Ordrebekræftelse ikke modtaget       1.00      1.00      1.00         3\n",
      "                                 Ordrenummer ved returnering       1.00      1.00      1.00         2\n",
      "                                                 Refundering       1.00      1.00      1.00         5\n",
      "                         Returnering af bestilling fra butik       1.00      1.00      1.00         1\n",
      "             Returnering af produkter fra forskellige ordrer       1.00      1.00      1.00         4\n",
      "                     Returnering fra fysisk butik til online       1.00      1.00      1.00         2\n",
      "                                              Spor min ordre       1.00      1.00      1.00         4\n",
      "         Sådan indtaster du din rabatkode eller dit gavekort       1.00      1.00      1.00         6\n",
      "                                        Told- og importgebyr       1.00      1.00      1.00         2\n",
      "                                        Vaske- og Care Guide       1.00      0.67      0.80         3\n",
      "                                                   baglommer       1.00      1.00      1.00         1\n",
      "                                                      farvel       0.75      1.00      0.86         3\n",
      "                                                      hilsen       1.00      0.75      0.86         4\n",
      "                                                        moms       1.00      1.00      1.00         3\n",
      "                                         regular og slim fit       1.00      1.00      1.00         3\n",
      "                                                 reklamation       1.00      1.00      1.00         5\n",
      "                                              skrædderpriser       1.00      1.00      1.00         3\n",
      "                                                   store lår       1.00      1.00      1.00         4\n",
      "                                            størrelsesguides       1.00      1.00      1.00         3\n",
      "                                                        svar       1.00      1.00      1.00         1\n",
      "                                                         tak       1.00      1.00      1.00         3\n",
      "                                            Ændring af ordre       1.00      1.00      1.00         1\n",
      "\n",
      "                                                    accuracy                           0.98       133\n",
      "                                                   macro avg       0.99      0.99      0.99       133\n",
      "                                                weighted avg       0.99      0.98      0.98       133\n",
      "\n"
     ]
    }
   ],
   "source": [
    "print(\"classification_report train orginal\")\n",
    "print(classification_report(y_train,y_pred_train))"
   ]
  },
  {
   "cell_type": "code",
   "execution_count": 45,
   "metadata": {},
   "outputs": [
    {
     "name": "stdout",
     "output_type": "stream",
     "text": [
      "classification_report test orginal\n",
      "                                                              precision    recall  f1-score   support\n",
      "\n",
      "                                        Annullering af ordre       0.00      0.00      0.00         0\n",
      "                                          Bestilling i butik       1.00      0.33      0.50         3\n",
      "                                         Betaling med Klarna       0.00      0.00      0.00         0\n",
      "                                         Betalingsmuligheder       0.00      0.00      0.00         1\n",
      "                                     Defekt produkt modtaget       0.00      0.00      0.00         0\n",
      "                                                     Erhverv       0.50      1.00      0.67         1\n",
      "                                                    Gavekort       0.00      0.00      0.00         1\n",
      "       Hvor kan man købe produkter fra Shaping New Tomorrow?       0.00      0.00      0.00         0\n",
      "                       Hvornår modtager jeg min refundering?       0.00      0.00      0.00         0\n",
      "Kan jeg få besked, når en udsolgt vare kommer på lager igen?       1.00      1.00      1.00         1\n",
      "                                        Levering i weekenden       1.00      1.00      1.00         1\n",
      "                                      Leveringsinformationer       0.00      0.00      0.00         0\n",
      "                                         Leveringsmuligheder       0.00      0.00      0.00         1\n",
      "                           Leveringsmuligheder - DHL Express       0.00      0.00      0.00         1\n",
      "                           Leveringsmuligheder - GLS Erhverv       0.00      0.00      0.00         2\n",
      "                         Leveringsmuligheder - GLS Pakkeshop       0.00      0.00      0.00         0\n",
      "                    Leveringsmuligheder - GLS Privatlevering       0.00      0.00      0.00         0\n",
      "                             Manglende produkter i min ordre       0.00      0.00      0.00         1\n",
      "            Ombytning eller returnering af gave købt i butik       0.00      0.00      0.00         1\n",
      "             Ombytning eller returnering af gave købt online       0.50      1.00      0.67         1\n",
      "                              Ordrebekræftelse ikke modtaget       0.00      0.00      0.00         1\n",
      "                                 Ordrenummer ved returnering       1.00      0.50      0.67         2\n",
      "                                                 Refundering       0.00      0.00      0.00         0\n",
      "                         Returnering af bestilling fra butik       0.00      0.00      0.00         2\n",
      "             Returnering af produkter fra forskellige ordrer       0.00      0.00      0.00         0\n",
      "                     Returnering fra fysisk butik til online       0.67      1.00      0.80         2\n",
      "                                              Spor min ordre       0.00      0.00      0.00         0\n",
      "         Sådan indtaster du din rabatkode eller dit gavekort       0.00      0.00      0.00         0\n",
      "                                        Told- og importgebyr       0.00      0.00      0.00         2\n",
      "                                        Vaske- og Care Guide       0.00      0.00      0.00         1\n",
      "                                                   baglommer       0.00      0.00      0.00         2\n",
      "                                                        moms       1.00      0.50      0.67         2\n",
      "                                         regular og slim fit       0.00      0.00      0.00         0\n",
      "                                              skrædderpriser       0.00      0.00      0.00         1\n",
      "                                                         tak       1.00      1.00      1.00         1\n",
      "                                            Ændring af ordre       0.00      0.00      0.00         3\n",
      "\n",
      "                                                    accuracy                           0.29        34\n",
      "                                                   macro avg       0.21      0.20      0.19        34\n",
      "                                                weighted avg       0.36      0.29      0.30        34\n",
      "\n"
     ]
    }
   ],
   "source": [
    "print(\"classification_report test orginal\")\n",
    "print(classification_report(y_test,y_pred_test))"
   ]
  },
  {
   "cell_type": "code",
   "execution_count": 46,
   "metadata": {},
   "outputs": [
    {
     "name": "stdout",
     "output_type": "stream",
     "text": [
      "classification_report train merged\n",
      "                                                              precision    recall  f1-score   support\n",
      "\n",
      "                                          Afhentning i butik       0.67      0.86      0.75         7\n",
      "                                        Annullering af ordre       0.56      0.71      0.63         7\n",
      "                                          Bestilling i butik       1.00      0.57      0.73         7\n",
      "                                         Betaling med Klarna       0.43      1.00      0.60         3\n",
      "                                         Betalingsmuligheder       0.67      0.67      0.67         3\n",
      "                                     Defekt produkt modtaget       0.67      0.57      0.62         7\n",
      "                                                     Erhverv       0.67      1.00      0.80         4\n",
      "                                    Forkert produkt modtaget       0.86      0.75      0.80         8\n",
      "                                                    Gavekort       1.00      0.67      0.80         3\n",
      "       Hvor kan man købe produkter fra Shaping New Tomorrow?       0.80      1.00      0.89         4\n",
      "                       Hvornår modtager jeg min refundering?       0.30      0.60      0.40         5\n",
      "Kan jeg få besked, når en udsolgt vare kommer på lager igen?       0.67      1.00      0.80         2\n",
      "                                        Levering i weekenden       1.00      0.60      0.75         5\n",
      "                                      Leveringsinformationer       0.36      0.80      0.50         5\n",
      "                                         Leveringsmuligheder       1.00      0.38      0.55         8\n",
      "                           Leveringsmuligheder - DHL Express       1.00      0.33      0.50         3\n",
      "                           Leveringsmuligheder - GLS Erhverv       0.00      0.00      0.00         4\n",
      "                         Leveringsmuligheder - GLS Pakkeshop       0.80      1.00      0.89         4\n",
      "                    Leveringsmuligheder - GLS Privatlevering       0.60      0.75      0.67         4\n",
      "                               Leveringstid bestilling butik       1.00      1.00      1.00         2\n",
      "                                                      Lynlås       1.00      1.00      1.00         3\n",
      "                             Manglende produkter i min ordre       0.83      0.83      0.83         6\n",
      "            Ombytning eller returnering af gave købt i butik       1.00      0.67      0.80         6\n",
      "             Ombytning eller returnering af gave købt online       0.67      0.50      0.57         4\n",
      "                              Ordrebekræftelse ikke modtaget       1.00      0.57      0.73         7\n",
      "                                 Ordrenummer ved returnering       1.00      0.67      0.80         3\n",
      "                                                 Refundering       0.70      0.78      0.74         9\n",
      "                         Returnering af bestilling fra butik       1.00      0.25      0.40         4\n",
      "             Returnering af produkter fra forskellige ordrer       0.64      1.00      0.78         7\n",
      "                     Returnering fra fysisk butik til online       0.75      1.00      0.86         3\n",
      "                                              Spor min ordre       0.67      0.86      0.75         7\n",
      "         Sådan indtaster du din rabatkode eller dit gavekort       0.25      1.00      0.40         2\n",
      "                                        Told- og importgebyr       1.00      0.50      0.67         6\n",
      "                                        Vaske- og Care Guide       1.00      0.33      0.50         3\n",
      "                                                   baglommer       1.00      0.33      0.50         3\n",
      "                                                      farvel       0.75      0.75      0.75         4\n",
      "                                                      hilsen       0.86      0.75      0.80         8\n",
      "                                                        moms       1.00      0.80      0.89         5\n",
      "                                         regular og slim fit       0.67      1.00      0.80         2\n",
      "                                                 reklamation       0.80      1.00      0.89         4\n",
      "                                              skrædderpriser       0.50      0.75      0.60         4\n",
      "                                                   store lår       1.00      1.00      1.00         3\n",
      "                                            størrelsesguides       0.50      1.00      0.67         1\n",
      "                                                        svar       1.00      0.50      0.67         2\n",
      "                                                         tak       1.00      1.00      1.00         5\n",
      "                                            Ændring af ordre       1.00      0.17      0.29         6\n",
      "\n",
      "                                                    accuracy                           0.70       212\n",
      "                                                   macro avg       0.77      0.72      0.70       212\n",
      "                                                weighted avg       0.78      0.70      0.69       212\n",
      "\n"
     ]
    }
   ],
   "source": [
    "print(\"classification_report train merged\")\n",
    "print(classification_report(y_train_merged,y_pred_train_merged))"
   ]
  },
  {
   "cell_type": "code",
   "execution_count": 47,
   "metadata": {},
   "outputs": [
    {
     "name": "stdout",
     "output_type": "stream",
     "text": [
      "classification_report test merged\n",
      "                                                              precision    recall  f1-score   support\n",
      "\n",
      "                                          Afhentning i butik       1.00      1.00      1.00         1\n",
      "                                        Annullering af ordre       0.50      1.00      0.67         1\n",
      "                                          Bestilling i butik       0.00      0.00      0.00         3\n",
      "                                         Betaling med Klarna       1.00      1.00      1.00         1\n",
      "                                     Defekt produkt modtaget       1.00      1.00      1.00         1\n",
      "                                                     Erhverv       0.00      0.00      0.00         0\n",
      "       Hvor kan man købe produkter fra Shaping New Tomorrow?       0.00      0.00      0.00         0\n",
      "                       Hvornår modtager jeg min refundering?       0.75      1.00      0.86         3\n",
      "Kan jeg få besked, når en udsolgt vare kommer på lager igen?       1.00      1.00      1.00         1\n",
      "                                        Levering i weekenden       1.00      1.00      1.00         3\n",
      "                                      Leveringsinformationer       1.00      0.67      0.80         3\n",
      "                           Leveringsmuligheder - DHL Express       0.00      0.00      0.00         1\n",
      "                    Leveringsmuligheder - GLS Privatlevering       0.00      0.00      0.00         0\n",
      "                             Manglende produkter i min ordre       0.67      1.00      0.80         2\n",
      "            Ombytning eller returnering af gave købt i butik       1.00      0.50      0.67         2\n",
      "             Ombytning eller returnering af gave købt online       0.80      1.00      0.89         4\n",
      "                              Ordrebekræftelse ikke modtaget       0.00      0.00      0.00         1\n",
      "                                 Ordrenummer ved returnering       1.00      1.00      1.00         1\n",
      "                                                 Refundering       0.50      1.00      0.67         1\n",
      "                         Returnering af bestilling fra butik       0.00      0.00      0.00         2\n",
      "             Returnering af produkter fra forskellige ordrer       0.33      1.00      0.50         1\n",
      "                     Returnering fra fysisk butik til online       1.00      1.00      1.00         1\n",
      "                                              Spor min ordre       0.50      1.00      0.67         1\n",
      "         Sådan indtaster du din rabatkode eller dit gavekort       1.00      1.00      1.00         4\n",
      "                                        Told- og importgebyr       1.00      0.50      0.67         2\n",
      "                                        Vaske- og Care Guide       1.00      1.00      1.00         1\n",
      "                                                      farvel       1.00      0.50      0.67         2\n",
      "                                         regular og slim fit       1.00      1.00      1.00         1\n",
      "                                                 reklamation       1.00      1.00      1.00         1\n",
      "                                                   store lår       1.00      1.00      1.00         1\n",
      "                                            størrelsesguides       1.00      1.00      1.00         2\n",
      "                                                         tak       1.00      1.00      1.00         3\n",
      "                                            Ændring af ordre       0.00      0.00      0.00         2\n",
      "\n",
      "                                                    accuracy                           0.75        53\n",
      "                                                   macro avg       0.67      0.70      0.66        53\n",
      "                                                weighted avg       0.75      0.75      0.73        53\n",
      "\n"
     ]
    }
   ],
   "source": [
    "print(\"classification_report test merged\")\n",
    "print(classification_report(y_test_merged,y_pred_test_merged))"
   ]
  },
  {
   "cell_type": "code",
   "execution_count": 48,
   "metadata": {},
   "outputs": [
    {
     "name": "stdout",
     "output_type": "stream",
     "text": [
      "accuracy_score for train\n",
      "0.9849624060150376\n",
      "accuracy_score for test\n",
      "0.29411764705882354\n",
      "accuracy_score for train merged\n",
      "0.7028301886792453\n",
      "accuracy_score for test merged\n",
      "0.7547169811320755\n"
     ]
    }
   ],
   "source": [
    "# accuracy score for train\n",
    "print(\"accuracy_score for train\")\n",
    "print(accuracy_score(y_train, y_pred_train))\n",
    "# accuracy score for test\n",
    "print(\"accuracy_score for test\")\n",
    "print(accuracy_score(y_test, y_pred_test))\n",
    "# accuracy score for validation\n",
    "print(\"accuracy_score for train merged\")\n",
    "print(accuracy_score(y_train_merged, y_pred_train_merged))\n",
    "# accuracy score for validation\n",
    "print(\"accuracy_score for test merged\")\n",
    "print(accuracy_score(y_test_merged, y_pred_test_merged))"
   ]
  },
  {
   "cell_type": "markdown",
   "metadata": {},
   "source": [
    "# TF IDF + ML"
   ]
  },
  {
   "cell_type": "markdown",
   "metadata": {},
   "source": [
    "### Pipeline TFIDF + LR"
   ]
  },
  {
   "cell_type": "code",
   "execution_count": 49,
   "metadata": {},
   "outputs": [],
   "source": [
    "# Making Pipeline TFIDF + LR\n",
    "tfidf = TfidfVectorizer()\n",
    "cls = LogisticRegression()\n",
    "\n",
    "pipe = make_pipeline(tfidf, cls)\n"
   ]
  },
  {
   "cell_type": "code",
   "execution_count": 50,
   "metadata": {},
   "outputs": [
    {
     "data": {
      "text/html": [
       "<style>#sk-container-id-1 {color: black;background-color: white;}#sk-container-id-1 pre{padding: 0;}#sk-container-id-1 div.sk-toggleable {background-color: white;}#sk-container-id-1 label.sk-toggleable__label {cursor: pointer;display: block;width: 100%;margin-bottom: 0;padding: 0.3em;box-sizing: border-box;text-align: center;}#sk-container-id-1 label.sk-toggleable__label-arrow:before {content: \"▸\";float: left;margin-right: 0.25em;color: #696969;}#sk-container-id-1 label.sk-toggleable__label-arrow:hover:before {color: black;}#sk-container-id-1 div.sk-estimator:hover label.sk-toggleable__label-arrow:before {color: black;}#sk-container-id-1 div.sk-toggleable__content {max-height: 0;max-width: 0;overflow: hidden;text-align: left;background-color: #f0f8ff;}#sk-container-id-1 div.sk-toggleable__content pre {margin: 0.2em;color: black;border-radius: 0.25em;background-color: #f0f8ff;}#sk-container-id-1 input.sk-toggleable__control:checked~div.sk-toggleable__content {max-height: 200px;max-width: 100%;overflow: auto;}#sk-container-id-1 input.sk-toggleable__control:checked~label.sk-toggleable__label-arrow:before {content: \"▾\";}#sk-container-id-1 div.sk-estimator input.sk-toggleable__control:checked~label.sk-toggleable__label {background-color: #d4ebff;}#sk-container-id-1 div.sk-label input.sk-toggleable__control:checked~label.sk-toggleable__label {background-color: #d4ebff;}#sk-container-id-1 input.sk-hidden--visually {border: 0;clip: rect(1px 1px 1px 1px);clip: rect(1px, 1px, 1px, 1px);height: 1px;margin: -1px;overflow: hidden;padding: 0;position: absolute;width: 1px;}#sk-container-id-1 div.sk-estimator {font-family: monospace;background-color: #f0f8ff;border: 1px dotted black;border-radius: 0.25em;box-sizing: border-box;margin-bottom: 0.5em;}#sk-container-id-1 div.sk-estimator:hover {background-color: #d4ebff;}#sk-container-id-1 div.sk-parallel-item::after {content: \"\";width: 100%;border-bottom: 1px solid gray;flex-grow: 1;}#sk-container-id-1 div.sk-label:hover label.sk-toggleable__label {background-color: #d4ebff;}#sk-container-id-1 div.sk-serial::before {content: \"\";position: absolute;border-left: 1px solid gray;box-sizing: border-box;top: 0;bottom: 0;left: 50%;z-index: 0;}#sk-container-id-1 div.sk-serial {display: flex;flex-direction: column;align-items: center;background-color: white;padding-right: 0.2em;padding-left: 0.2em;position: relative;}#sk-container-id-1 div.sk-item {position: relative;z-index: 1;}#sk-container-id-1 div.sk-parallel {display: flex;align-items: stretch;justify-content: center;background-color: white;position: relative;}#sk-container-id-1 div.sk-item::before, #sk-container-id-1 div.sk-parallel-item::before {content: \"\";position: absolute;border-left: 1px solid gray;box-sizing: border-box;top: 0;bottom: 0;left: 50%;z-index: -1;}#sk-container-id-1 div.sk-parallel-item {display: flex;flex-direction: column;z-index: 1;position: relative;background-color: white;}#sk-container-id-1 div.sk-parallel-item:first-child::after {align-self: flex-end;width: 50%;}#sk-container-id-1 div.sk-parallel-item:last-child::after {align-self: flex-start;width: 50%;}#sk-container-id-1 div.sk-parallel-item:only-child::after {width: 0;}#sk-container-id-1 div.sk-dashed-wrapped {border: 1px dashed gray;margin: 0 0.4em 0.5em 0.4em;box-sizing: border-box;padding-bottom: 0.4em;background-color: white;}#sk-container-id-1 div.sk-label label {font-family: monospace;font-weight: bold;display: inline-block;line-height: 1.2em;}#sk-container-id-1 div.sk-label-container {text-align: center;}#sk-container-id-1 div.sk-container {/* jupyter's `normalize.less` sets `[hidden] { display: none; }` but bootstrap.min.css set `[hidden] { display: none !important; }` so we also need the `!important` here to be able to override the default hidden behavior on the sphinx rendered scikit-learn.org. See: https://github.com/scikit-learn/scikit-learn/issues/21755 */display: inline-block !important;position: relative;}#sk-container-id-1 div.sk-text-repr-fallback {display: none;}</style><div id=\"sk-container-id-1\" class=\"sk-top-container\"><div class=\"sk-text-repr-fallback\"><pre>Pipeline(steps=[(&#x27;tfidfvectorizer&#x27;, TfidfVectorizer()),\n",
       "                (&#x27;logisticregression&#x27;, LogisticRegression())])</pre><b>In a Jupyter environment, please rerun this cell to show the HTML representation or trust the notebook. <br />On GitHub, the HTML representation is unable to render, please try loading this page with nbviewer.org.</b></div><div class=\"sk-container\" hidden><div class=\"sk-item sk-dashed-wrapped\"><div class=\"sk-label-container\"><div class=\"sk-label sk-toggleable\"><input class=\"sk-toggleable__control sk-hidden--visually\" id=\"sk-estimator-id-1\" type=\"checkbox\" ><label for=\"sk-estimator-id-1\" class=\"sk-toggleable__label sk-toggleable__label-arrow\">Pipeline</label><div class=\"sk-toggleable__content\"><pre>Pipeline(steps=[(&#x27;tfidfvectorizer&#x27;, TfidfVectorizer()),\n",
       "                (&#x27;logisticregression&#x27;, LogisticRegression())])</pre></div></div></div><div class=\"sk-serial\"><div class=\"sk-item\"><div class=\"sk-estimator sk-toggleable\"><input class=\"sk-toggleable__control sk-hidden--visually\" id=\"sk-estimator-id-2\" type=\"checkbox\" ><label for=\"sk-estimator-id-2\" class=\"sk-toggleable__label sk-toggleable__label-arrow\">TfidfVectorizer</label><div class=\"sk-toggleable__content\"><pre>TfidfVectorizer()</pre></div></div></div><div class=\"sk-item\"><div class=\"sk-estimator sk-toggleable\"><input class=\"sk-toggleable__control sk-hidden--visually\" id=\"sk-estimator-id-3\" type=\"checkbox\" ><label for=\"sk-estimator-id-3\" class=\"sk-toggleable__label sk-toggleable__label-arrow\">LogisticRegression</label><div class=\"sk-toggleable__content\"><pre>LogisticRegression()</pre></div></div></div></div></div></div></div>"
      ],
      "text/plain": [
       "Pipeline(steps=[('tfidfvectorizer', TfidfVectorizer()),\n",
       "                ('logisticregression', LogisticRegression())])"
      ]
     },
     "execution_count": 50,
     "metadata": {},
     "output_type": "execute_result"
    }
   ],
   "source": [
    "# fit the model \n",
    "pipe.fit(X_train, y_train)\n",
    "pipe.fit(X_train_merged, y_train_merged)"
   ]
  },
  {
   "cell_type": "code",
   "execution_count": 51,
   "metadata": {},
   "outputs": [],
   "source": [
    "# making prediction for train, test and validation\n",
    "y_pred_train = pipe.predict(X_train)\n",
    "\n",
    "y_pred_test = pipe.predict(X_test)\n",
    "\n",
    "y_pred_train_merged = pipe.predict(X_train_merged)\n",
    "\n",
    "y_pred_test_merged = pipe.predict(X_test_merged)"
   ]
  },
  {
   "cell_type": "code",
   "execution_count": 52,
   "metadata": {},
   "outputs": [
    {
     "name": "stdout",
     "output_type": "stream",
     "text": [
      "classification_report\n",
      "                                                              precision    recall  f1-score   support\n",
      "\n",
      "                                          Afhentning i butik       0.00      0.00      0.00         0\n",
      "                                          Bestilling i butik       1.00      1.00      1.00         3\n",
      "                                         Betalingsmuligheder       0.00      0.00      0.00         1\n",
      "                                                     Erhverv       1.00      1.00      1.00         1\n",
      "                                    Forkert produkt modtaget       0.00      0.00      0.00         0\n",
      "                                                    Gavekort       1.00      1.00      1.00         1\n",
      "Kan jeg få besked, når en udsolgt vare kommer på lager igen?       0.00      0.00      0.00         1\n",
      "                                        Levering i weekenden       1.00      1.00      1.00         1\n",
      "                                         Leveringsmuligheder       0.50      1.00      0.67         1\n",
      "                           Leveringsmuligheder - DHL Express       1.00      1.00      1.00         1\n",
      "                           Leveringsmuligheder - GLS Erhverv       1.00      1.00      1.00         2\n",
      "                             Manglende produkter i min ordre       1.00      1.00      1.00         1\n",
      "            Ombytning eller returnering af gave købt i butik       0.33      1.00      0.50         1\n",
      "             Ombytning eller returnering af gave købt online       0.00      0.00      0.00         1\n",
      "                              Ordrebekræftelse ikke modtaget       0.50      1.00      0.67         1\n",
      "                                 Ordrenummer ved returnering       1.00      1.00      1.00         2\n",
      "                                                 Refundering       0.00      0.00      0.00         0\n",
      "                         Returnering af bestilling fra butik       0.00      0.00      0.00         2\n",
      "             Returnering af produkter fra forskellige ordrer       0.00      0.00      0.00         0\n",
      "                     Returnering fra fysisk butik til online       0.00      0.00      0.00         2\n",
      "                                              Spor min ordre       0.00      0.00      0.00         0\n",
      "                                        Told- og importgebyr       1.00      1.00      1.00         2\n",
      "                                        Vaske- og Care Guide       0.00      0.00      0.00         1\n",
      "                                                   baglommer       0.00      0.00      0.00         2\n",
      "                                                        moms       1.00      1.00      1.00         2\n",
      "                                              skrædderpriser       1.00      1.00      1.00         1\n",
      "                                                         tak       1.00      1.00      1.00         1\n",
      "                                            Ændring af ordre       1.00      1.00      1.00         3\n",
      "\n",
      "                                                    accuracy                           0.71        34\n",
      "                                                   macro avg       0.51      0.57      0.53        34\n",
      "                                                weighted avg       0.66      0.71      0.67        34\n",
      "\n"
     ]
    }
   ],
   "source": [
    "# Classification report\n",
    "print(\"classification_report\")\n",
    "print(classification_report(y_test,y_pred_test))"
   ]
  },
  {
   "cell_type": "code",
   "execution_count": 53,
   "metadata": {},
   "outputs": [
    {
     "name": "stdout",
     "output_type": "stream",
     "text": [
      "accuracy_score for train\n",
      "0.7368421052631579\n",
      "accuracy_score for test\n",
      "0.7058823529411765\n",
      "accuracy_score for merged train\n",
      "0.8584905660377359\n",
      "accuracy_score for merged test\n",
      "0.5094339622641509\n"
     ]
    }
   ],
   "source": [
    "# evaluating the accuracy for train, test and validation\n",
    "print(\"accuracy_score for train\")\n",
    "print(accuracy_score(y_train, y_pred_train))\n",
    "\n",
    "print(\"accuracy_score for test\")\n",
    "print(accuracy_score(y_test, y_pred_test))\n",
    "\n",
    "print(\"accuracy_score for merged train\")\n",
    "print(accuracy_score(y_train_merged, y_pred_train_merged))\n",
    "\n",
    "print(\"accuracy_score for merged test\")\n",
    "print(accuracy_score(y_test_merged, y_pred_test_merged))\n",
    "\n"
   ]
  },
  {
   "cell_type": "markdown",
   "metadata": {},
   "source": [
    "### Pipeline  TFIDF + SVM"
   ]
  },
  {
   "cell_type": "code",
   "execution_count": 54,
   "metadata": {},
   "outputs": [],
   "source": [
    "tfidf = TfidfVectorizer()\n",
    "svm = svm.SVC()\n",
    "\n",
    "pipe_svm = make_pipeline(tfidf, svm)"
   ]
  },
  {
   "cell_type": "code",
   "execution_count": 55,
   "metadata": {},
   "outputs": [
    {
     "data": {
      "text/html": [
       "<style>#sk-container-id-2 {color: black;background-color: white;}#sk-container-id-2 pre{padding: 0;}#sk-container-id-2 div.sk-toggleable {background-color: white;}#sk-container-id-2 label.sk-toggleable__label {cursor: pointer;display: block;width: 100%;margin-bottom: 0;padding: 0.3em;box-sizing: border-box;text-align: center;}#sk-container-id-2 label.sk-toggleable__label-arrow:before {content: \"▸\";float: left;margin-right: 0.25em;color: #696969;}#sk-container-id-2 label.sk-toggleable__label-arrow:hover:before {color: black;}#sk-container-id-2 div.sk-estimator:hover label.sk-toggleable__label-arrow:before {color: black;}#sk-container-id-2 div.sk-toggleable__content {max-height: 0;max-width: 0;overflow: hidden;text-align: left;background-color: #f0f8ff;}#sk-container-id-2 div.sk-toggleable__content pre {margin: 0.2em;color: black;border-radius: 0.25em;background-color: #f0f8ff;}#sk-container-id-2 input.sk-toggleable__control:checked~div.sk-toggleable__content {max-height: 200px;max-width: 100%;overflow: auto;}#sk-container-id-2 input.sk-toggleable__control:checked~label.sk-toggleable__label-arrow:before {content: \"▾\";}#sk-container-id-2 div.sk-estimator input.sk-toggleable__control:checked~label.sk-toggleable__label {background-color: #d4ebff;}#sk-container-id-2 div.sk-label input.sk-toggleable__control:checked~label.sk-toggleable__label {background-color: #d4ebff;}#sk-container-id-2 input.sk-hidden--visually {border: 0;clip: rect(1px 1px 1px 1px);clip: rect(1px, 1px, 1px, 1px);height: 1px;margin: -1px;overflow: hidden;padding: 0;position: absolute;width: 1px;}#sk-container-id-2 div.sk-estimator {font-family: monospace;background-color: #f0f8ff;border: 1px dotted black;border-radius: 0.25em;box-sizing: border-box;margin-bottom: 0.5em;}#sk-container-id-2 div.sk-estimator:hover {background-color: #d4ebff;}#sk-container-id-2 div.sk-parallel-item::after {content: \"\";width: 100%;border-bottom: 1px solid gray;flex-grow: 1;}#sk-container-id-2 div.sk-label:hover label.sk-toggleable__label {background-color: #d4ebff;}#sk-container-id-2 div.sk-serial::before {content: \"\";position: absolute;border-left: 1px solid gray;box-sizing: border-box;top: 0;bottom: 0;left: 50%;z-index: 0;}#sk-container-id-2 div.sk-serial {display: flex;flex-direction: column;align-items: center;background-color: white;padding-right: 0.2em;padding-left: 0.2em;position: relative;}#sk-container-id-2 div.sk-item {position: relative;z-index: 1;}#sk-container-id-2 div.sk-parallel {display: flex;align-items: stretch;justify-content: center;background-color: white;position: relative;}#sk-container-id-2 div.sk-item::before, #sk-container-id-2 div.sk-parallel-item::before {content: \"\";position: absolute;border-left: 1px solid gray;box-sizing: border-box;top: 0;bottom: 0;left: 50%;z-index: -1;}#sk-container-id-2 div.sk-parallel-item {display: flex;flex-direction: column;z-index: 1;position: relative;background-color: white;}#sk-container-id-2 div.sk-parallel-item:first-child::after {align-self: flex-end;width: 50%;}#sk-container-id-2 div.sk-parallel-item:last-child::after {align-self: flex-start;width: 50%;}#sk-container-id-2 div.sk-parallel-item:only-child::after {width: 0;}#sk-container-id-2 div.sk-dashed-wrapped {border: 1px dashed gray;margin: 0 0.4em 0.5em 0.4em;box-sizing: border-box;padding-bottom: 0.4em;background-color: white;}#sk-container-id-2 div.sk-label label {font-family: monospace;font-weight: bold;display: inline-block;line-height: 1.2em;}#sk-container-id-2 div.sk-label-container {text-align: center;}#sk-container-id-2 div.sk-container {/* jupyter's `normalize.less` sets `[hidden] { display: none; }` but bootstrap.min.css set `[hidden] { display: none !important; }` so we also need the `!important` here to be able to override the default hidden behavior on the sphinx rendered scikit-learn.org. See: https://github.com/scikit-learn/scikit-learn/issues/21755 */display: inline-block !important;position: relative;}#sk-container-id-2 div.sk-text-repr-fallback {display: none;}</style><div id=\"sk-container-id-2\" class=\"sk-top-container\"><div class=\"sk-text-repr-fallback\"><pre>Pipeline(steps=[(&#x27;tfidfvectorizer&#x27;, TfidfVectorizer()), (&#x27;svc&#x27;, SVC())])</pre><b>In a Jupyter environment, please rerun this cell to show the HTML representation or trust the notebook. <br />On GitHub, the HTML representation is unable to render, please try loading this page with nbviewer.org.</b></div><div class=\"sk-container\" hidden><div class=\"sk-item sk-dashed-wrapped\"><div class=\"sk-label-container\"><div class=\"sk-label sk-toggleable\"><input class=\"sk-toggleable__control sk-hidden--visually\" id=\"sk-estimator-id-4\" type=\"checkbox\" ><label for=\"sk-estimator-id-4\" class=\"sk-toggleable__label sk-toggleable__label-arrow\">Pipeline</label><div class=\"sk-toggleable__content\"><pre>Pipeline(steps=[(&#x27;tfidfvectorizer&#x27;, TfidfVectorizer()), (&#x27;svc&#x27;, SVC())])</pre></div></div></div><div class=\"sk-serial\"><div class=\"sk-item\"><div class=\"sk-estimator sk-toggleable\"><input class=\"sk-toggleable__control sk-hidden--visually\" id=\"sk-estimator-id-5\" type=\"checkbox\" ><label for=\"sk-estimator-id-5\" class=\"sk-toggleable__label sk-toggleable__label-arrow\">TfidfVectorizer</label><div class=\"sk-toggleable__content\"><pre>TfidfVectorizer()</pre></div></div></div><div class=\"sk-item\"><div class=\"sk-estimator sk-toggleable\"><input class=\"sk-toggleable__control sk-hidden--visually\" id=\"sk-estimator-id-6\" type=\"checkbox\" ><label for=\"sk-estimator-id-6\" class=\"sk-toggleable__label sk-toggleable__label-arrow\">SVC</label><div class=\"sk-toggleable__content\"><pre>SVC()</pre></div></div></div></div></div></div></div>"
      ],
      "text/plain": [
       "Pipeline(steps=[('tfidfvectorizer', TfidfVectorizer()), ('svc', SVC())])"
      ]
     },
     "execution_count": 55,
     "metadata": {},
     "output_type": "execute_result"
    }
   ],
   "source": [
    "pipe_svm.fit(X_train, y_train)\n",
    "pipe_svm.fit(X_train_merged, y_train_merged)"
   ]
  },
  {
   "cell_type": "code",
   "execution_count": 56,
   "metadata": {},
   "outputs": [],
   "source": [
    "# making prediction for train, test and validation\n",
    "y_pred_train = pipe_svm.predict(X_train)\n",
    "\n",
    "y_pred_test = pipe_svm.predict(X_test)\n",
    "\n",
    "y_pred_train_merged = pipe_svm.predict(X_train_merged)\n",
    "\n",
    "y_pred_test_merged = pipe_svm.predict(X_test_merged)"
   ]
  },
  {
   "cell_type": "code",
   "execution_count": 57,
   "metadata": {},
   "outputs": [
    {
     "name": "stdout",
     "output_type": "stream",
     "text": [
      "classification_report\n",
      "                                                              precision    recall  f1-score   support\n",
      "\n",
      "                                          Afhentning i butik       0.00      0.00      0.00         0\n",
      "                                          Bestilling i butik       1.00      1.00      1.00         3\n",
      "                                         Betalingsmuligheder       1.00      1.00      1.00         1\n",
      "                                                     Erhverv       1.00      1.00      1.00         1\n",
      "                                                    Gavekort       1.00      1.00      1.00         1\n",
      "Kan jeg få besked, når en udsolgt vare kommer på lager igen?       1.00      1.00      1.00         1\n",
      "                                        Levering i weekenden       1.00      1.00      1.00         1\n",
      "                                         Leveringsmuligheder       0.25      1.00      0.40         1\n",
      "                           Leveringsmuligheder - DHL Express       1.00      1.00      1.00         1\n",
      "                           Leveringsmuligheder - GLS Erhverv       1.00      1.00      1.00         2\n",
      "                             Manglende produkter i min ordre       1.00      1.00      1.00         1\n",
      "            Ombytning eller returnering af gave købt i butik       0.33      1.00      0.50         1\n",
      "             Ombytning eller returnering af gave købt online       0.00      0.00      0.00         1\n",
      "                              Ordrebekræftelse ikke modtaget       1.00      1.00      1.00         1\n",
      "                                 Ordrenummer ved returnering       1.00      0.50      0.67         2\n",
      "                         Returnering af bestilling fra butik       0.00      0.00      0.00         2\n",
      "                     Returnering fra fysisk butik til online       1.00      0.50      0.67         2\n",
      "                                        Told- og importgebyr       1.00      1.00      1.00         2\n",
      "                                        Vaske- og Care Guide       1.00      1.00      1.00         1\n",
      "                                                   baglommer       1.00      1.00      1.00         2\n",
      "                                                        moms       1.00      1.00      1.00         2\n",
      "                                              skrædderpriser       1.00      1.00      1.00         1\n",
      "                                                         tak       0.00      0.00      0.00         1\n",
      "                                            Ændring af ordre       1.00      1.00      1.00         3\n",
      "\n",
      "                                                    accuracy                           0.82        34\n",
      "                                                   macro avg       0.77      0.79      0.76        34\n",
      "                                                weighted avg       0.84      0.82      0.81        34\n",
      "\n"
     ]
    }
   ],
   "source": [
    "# Classification report\n",
    "print(\"classification_report\")\n",
    "print(classification_report(y_test,y_pred_test))"
   ]
  },
  {
   "cell_type": "code",
   "execution_count": 58,
   "metadata": {},
   "outputs": [
    {
     "name": "stdout",
     "output_type": "stream",
     "text": [
      "accuracy_score for train\n",
      "0.8646616541353384\n",
      "accuracy_score for test\n",
      "0.8235294117647058\n",
      "accuracy_score for merged train\n",
      "0.9811320754716981\n",
      "accuracy_score for merged test\n",
      "0.5094339622641509\n"
     ]
    }
   ],
   "source": [
    "# evaluating the accuracy for train, test and validation\n",
    "print(\"accuracy_score for train\")\n",
    "print(accuracy_score(y_train, y_pred_train))\n",
    "\n",
    "print(\"accuracy_score for test\")\n",
    "print(accuracy_score(y_test, y_pred_test))\n",
    "\n",
    "print(\"accuracy_score for merged train\")\n",
    "print(accuracy_score(y_train_merged, y_pred_train_merged))\n",
    "\n",
    "print(\"accuracy_score for merged test\")\n",
    "print(accuracy_score(y_test_merged, y_pred_test_merged))"
   ]
  },
  {
   "cell_type": "markdown",
   "metadata": {},
   "source": [
    "### Pipeline  TFIDF + KNeighbors"
   ]
  },
  {
   "cell_type": "code",
   "execution_count": 59,
   "metadata": {},
   "outputs": [],
   "source": [
    "tfidf = TfidfVectorizer()\n",
    "kn = KNeighborsClassifier()\n",
    "\n",
    "pipe_kn = make_pipeline(tfidf, kn)"
   ]
  },
  {
   "cell_type": "code",
   "execution_count": 60,
   "metadata": {},
   "outputs": [
    {
     "data": {
      "text/html": [
       "<style>#sk-container-id-3 {color: black;background-color: white;}#sk-container-id-3 pre{padding: 0;}#sk-container-id-3 div.sk-toggleable {background-color: white;}#sk-container-id-3 label.sk-toggleable__label {cursor: pointer;display: block;width: 100%;margin-bottom: 0;padding: 0.3em;box-sizing: border-box;text-align: center;}#sk-container-id-3 label.sk-toggleable__label-arrow:before {content: \"▸\";float: left;margin-right: 0.25em;color: #696969;}#sk-container-id-3 label.sk-toggleable__label-arrow:hover:before {color: black;}#sk-container-id-3 div.sk-estimator:hover label.sk-toggleable__label-arrow:before {color: black;}#sk-container-id-3 div.sk-toggleable__content {max-height: 0;max-width: 0;overflow: hidden;text-align: left;background-color: #f0f8ff;}#sk-container-id-3 div.sk-toggleable__content pre {margin: 0.2em;color: black;border-radius: 0.25em;background-color: #f0f8ff;}#sk-container-id-3 input.sk-toggleable__control:checked~div.sk-toggleable__content {max-height: 200px;max-width: 100%;overflow: auto;}#sk-container-id-3 input.sk-toggleable__control:checked~label.sk-toggleable__label-arrow:before {content: \"▾\";}#sk-container-id-3 div.sk-estimator input.sk-toggleable__control:checked~label.sk-toggleable__label {background-color: #d4ebff;}#sk-container-id-3 div.sk-label input.sk-toggleable__control:checked~label.sk-toggleable__label {background-color: #d4ebff;}#sk-container-id-3 input.sk-hidden--visually {border: 0;clip: rect(1px 1px 1px 1px);clip: rect(1px, 1px, 1px, 1px);height: 1px;margin: -1px;overflow: hidden;padding: 0;position: absolute;width: 1px;}#sk-container-id-3 div.sk-estimator {font-family: monospace;background-color: #f0f8ff;border: 1px dotted black;border-radius: 0.25em;box-sizing: border-box;margin-bottom: 0.5em;}#sk-container-id-3 div.sk-estimator:hover {background-color: #d4ebff;}#sk-container-id-3 div.sk-parallel-item::after {content: \"\";width: 100%;border-bottom: 1px solid gray;flex-grow: 1;}#sk-container-id-3 div.sk-label:hover label.sk-toggleable__label {background-color: #d4ebff;}#sk-container-id-3 div.sk-serial::before {content: \"\";position: absolute;border-left: 1px solid gray;box-sizing: border-box;top: 0;bottom: 0;left: 50%;z-index: 0;}#sk-container-id-3 div.sk-serial {display: flex;flex-direction: column;align-items: center;background-color: white;padding-right: 0.2em;padding-left: 0.2em;position: relative;}#sk-container-id-3 div.sk-item {position: relative;z-index: 1;}#sk-container-id-3 div.sk-parallel {display: flex;align-items: stretch;justify-content: center;background-color: white;position: relative;}#sk-container-id-3 div.sk-item::before, #sk-container-id-3 div.sk-parallel-item::before {content: \"\";position: absolute;border-left: 1px solid gray;box-sizing: border-box;top: 0;bottom: 0;left: 50%;z-index: -1;}#sk-container-id-3 div.sk-parallel-item {display: flex;flex-direction: column;z-index: 1;position: relative;background-color: white;}#sk-container-id-3 div.sk-parallel-item:first-child::after {align-self: flex-end;width: 50%;}#sk-container-id-3 div.sk-parallel-item:last-child::after {align-self: flex-start;width: 50%;}#sk-container-id-3 div.sk-parallel-item:only-child::after {width: 0;}#sk-container-id-3 div.sk-dashed-wrapped {border: 1px dashed gray;margin: 0 0.4em 0.5em 0.4em;box-sizing: border-box;padding-bottom: 0.4em;background-color: white;}#sk-container-id-3 div.sk-label label {font-family: monospace;font-weight: bold;display: inline-block;line-height: 1.2em;}#sk-container-id-3 div.sk-label-container {text-align: center;}#sk-container-id-3 div.sk-container {/* jupyter's `normalize.less` sets `[hidden] { display: none; }` but bootstrap.min.css set `[hidden] { display: none !important; }` so we also need the `!important` here to be able to override the default hidden behavior on the sphinx rendered scikit-learn.org. See: https://github.com/scikit-learn/scikit-learn/issues/21755 */display: inline-block !important;position: relative;}#sk-container-id-3 div.sk-text-repr-fallback {display: none;}</style><div id=\"sk-container-id-3\" class=\"sk-top-container\"><div class=\"sk-text-repr-fallback\"><pre>Pipeline(steps=[(&#x27;tfidfvectorizer&#x27;, TfidfVectorizer()),\n",
       "                (&#x27;kneighborsclassifier&#x27;, KNeighborsClassifier())])</pre><b>In a Jupyter environment, please rerun this cell to show the HTML representation or trust the notebook. <br />On GitHub, the HTML representation is unable to render, please try loading this page with nbviewer.org.</b></div><div class=\"sk-container\" hidden><div class=\"sk-item sk-dashed-wrapped\"><div class=\"sk-label-container\"><div class=\"sk-label sk-toggleable\"><input class=\"sk-toggleable__control sk-hidden--visually\" id=\"sk-estimator-id-7\" type=\"checkbox\" ><label for=\"sk-estimator-id-7\" class=\"sk-toggleable__label sk-toggleable__label-arrow\">Pipeline</label><div class=\"sk-toggleable__content\"><pre>Pipeline(steps=[(&#x27;tfidfvectorizer&#x27;, TfidfVectorizer()),\n",
       "                (&#x27;kneighborsclassifier&#x27;, KNeighborsClassifier())])</pre></div></div></div><div class=\"sk-serial\"><div class=\"sk-item\"><div class=\"sk-estimator sk-toggleable\"><input class=\"sk-toggleable__control sk-hidden--visually\" id=\"sk-estimator-id-8\" type=\"checkbox\" ><label for=\"sk-estimator-id-8\" class=\"sk-toggleable__label sk-toggleable__label-arrow\">TfidfVectorizer</label><div class=\"sk-toggleable__content\"><pre>TfidfVectorizer()</pre></div></div></div><div class=\"sk-item\"><div class=\"sk-estimator sk-toggleable\"><input class=\"sk-toggleable__control sk-hidden--visually\" id=\"sk-estimator-id-9\" type=\"checkbox\" ><label for=\"sk-estimator-id-9\" class=\"sk-toggleable__label sk-toggleable__label-arrow\">KNeighborsClassifier</label><div class=\"sk-toggleable__content\"><pre>KNeighborsClassifier()</pre></div></div></div></div></div></div></div>"
      ],
      "text/plain": [
       "Pipeline(steps=[('tfidfvectorizer', TfidfVectorizer()),\n",
       "                ('kneighborsclassifier', KNeighborsClassifier())])"
      ]
     },
     "execution_count": 60,
     "metadata": {},
     "output_type": "execute_result"
    }
   ],
   "source": [
    "pipe_kn.fit(X_train, y_train)\n",
    "pipe_kn.fit(X_train_merged, y_train_merged)"
   ]
  },
  {
   "cell_type": "code",
   "execution_count": 61,
   "metadata": {},
   "outputs": [],
   "source": [
    "# making prediction for train, test and validation\n",
    "y_pred_train = pipe_kn.predict(X_train)\n",
    "\n",
    "y_pred_test = pipe_kn.predict(X_test)\n",
    "\n",
    "y_pred_train_merged = pipe_kn.predict(X_train_merged)\n",
    "\n",
    "y_pred_test_merged = pipe_kn.predict(X_test_merged)"
   ]
  },
  {
   "cell_type": "code",
   "execution_count": 62,
   "metadata": {},
   "outputs": [
    {
     "name": "stdout",
     "output_type": "stream",
     "text": [
      "classification_report\n",
      "                                                              precision    recall  f1-score   support\n",
      "\n",
      "                                          Afhentning i butik       0.00      0.00      0.00         0\n",
      "                                        Annullering af ordre       0.00      0.00      0.00         0\n",
      "                                          Bestilling i butik       0.75      1.00      0.86         3\n",
      "                                         Betalingsmuligheder       0.00      0.00      0.00         1\n",
      "                                     Defekt produkt modtaget       0.00      0.00      0.00         0\n",
      "                                                     Erhverv       1.00      1.00      1.00         1\n",
      "                                                    Gavekort       1.00      1.00      1.00         1\n",
      "Kan jeg få besked, når en udsolgt vare kommer på lager igen?       1.00      1.00      1.00         1\n",
      "                                        Levering i weekenden       1.00      1.00      1.00         1\n",
      "                                         Leveringsmuligheder       0.00      0.00      0.00         1\n",
      "                           Leveringsmuligheder - DHL Express       1.00      1.00      1.00         1\n",
      "                           Leveringsmuligheder - GLS Erhverv       1.00      1.00      1.00         2\n",
      "                             Manglende produkter i min ordre       1.00      1.00      1.00         1\n",
      "            Ombytning eller returnering af gave købt i butik       0.33      1.00      0.50         1\n",
      "             Ombytning eller returnering af gave købt online       0.00      0.00      0.00         1\n",
      "                              Ordrebekræftelse ikke modtaget       0.33      1.00      0.50         1\n",
      "                                 Ordrenummer ved returnering       1.00      1.00      1.00         2\n",
      "                         Returnering af bestilling fra butik       1.00      0.50      0.67         2\n",
      "                     Returnering fra fysisk butik til online       1.00      0.50      0.67         2\n",
      "                                        Told- og importgebyr       1.00      0.50      0.67         2\n",
      "                                        Vaske- og Care Guide       0.00      0.00      0.00         1\n",
      "                                                   baglommer       1.00      0.50      0.67         2\n",
      "                                                        moms       1.00      1.00      1.00         2\n",
      "                                              skrædderpriser       0.00      0.00      0.00         1\n",
      "                                                         tak       1.00      1.00      1.00         1\n",
      "                                            Ændring af ordre       1.00      0.67      0.80         3\n",
      "\n",
      "                                                    accuracy                           0.71        34\n",
      "                                                   macro avg       0.63      0.60      0.59        34\n",
      "                                                weighted avg       0.79      0.71      0.71        34\n",
      "\n"
     ]
    }
   ],
   "source": [
    "# Classification report\n",
    "print(\"classification_report\")\n",
    "print(classification_report(y_test,y_pred_test))"
   ]
  },
  {
   "cell_type": "code",
   "execution_count": 63,
   "metadata": {},
   "outputs": [
    {
     "name": "stdout",
     "output_type": "stream",
     "text": [
      "accuracy_score for train\n",
      "0.7142857142857143\n",
      "accuracy_score for test\n",
      "0.7058823529411765\n",
      "accuracy_score for merged train\n",
      "0.75\n",
      "accuracy_score for merged test\n",
      "0.6037735849056604\n"
     ]
    }
   ],
   "source": [
    "# evaluating the accuracy for train, test and validation\n",
    "print(\"accuracy_score for train\")\n",
    "print(accuracy_score(y_train, y_pred_train))\n",
    "\n",
    "print(\"accuracy_score for test\")\n",
    "print(accuracy_score(y_test, y_pred_test))\n",
    "\n",
    "print(\"accuracy_score for merged train\")\n",
    "print(accuracy_score(y_train_merged, y_pred_train_merged))\n",
    "\n",
    "print(\"accuracy_score for merged test\")\n",
    "print(accuracy_score(y_test_merged, y_pred_test_merged))"
   ]
  },
  {
   "cell_type": "markdown",
   "metadata": {},
   "source": [
    "### Pipeline  TFIDF + Random Forest"
   ]
  },
  {
   "cell_type": "code",
   "execution_count": 64,
   "metadata": {},
   "outputs": [],
   "source": [
    "tfidf = TfidfVectorizer()\n",
    "rf = RandomForestClassifier()\n",
    "\n",
    "pipe_rf = make_pipeline(tfidf, rf)"
   ]
  },
  {
   "cell_type": "code",
   "execution_count": 65,
   "metadata": {},
   "outputs": [
    {
     "data": {
      "text/html": [
       "<style>#sk-container-id-4 {color: black;background-color: white;}#sk-container-id-4 pre{padding: 0;}#sk-container-id-4 div.sk-toggleable {background-color: white;}#sk-container-id-4 label.sk-toggleable__label {cursor: pointer;display: block;width: 100%;margin-bottom: 0;padding: 0.3em;box-sizing: border-box;text-align: center;}#sk-container-id-4 label.sk-toggleable__label-arrow:before {content: \"▸\";float: left;margin-right: 0.25em;color: #696969;}#sk-container-id-4 label.sk-toggleable__label-arrow:hover:before {color: black;}#sk-container-id-4 div.sk-estimator:hover label.sk-toggleable__label-arrow:before {color: black;}#sk-container-id-4 div.sk-toggleable__content {max-height: 0;max-width: 0;overflow: hidden;text-align: left;background-color: #f0f8ff;}#sk-container-id-4 div.sk-toggleable__content pre {margin: 0.2em;color: black;border-radius: 0.25em;background-color: #f0f8ff;}#sk-container-id-4 input.sk-toggleable__control:checked~div.sk-toggleable__content {max-height: 200px;max-width: 100%;overflow: auto;}#sk-container-id-4 input.sk-toggleable__control:checked~label.sk-toggleable__label-arrow:before {content: \"▾\";}#sk-container-id-4 div.sk-estimator input.sk-toggleable__control:checked~label.sk-toggleable__label {background-color: #d4ebff;}#sk-container-id-4 div.sk-label input.sk-toggleable__control:checked~label.sk-toggleable__label {background-color: #d4ebff;}#sk-container-id-4 input.sk-hidden--visually {border: 0;clip: rect(1px 1px 1px 1px);clip: rect(1px, 1px, 1px, 1px);height: 1px;margin: -1px;overflow: hidden;padding: 0;position: absolute;width: 1px;}#sk-container-id-4 div.sk-estimator {font-family: monospace;background-color: #f0f8ff;border: 1px dotted black;border-radius: 0.25em;box-sizing: border-box;margin-bottom: 0.5em;}#sk-container-id-4 div.sk-estimator:hover {background-color: #d4ebff;}#sk-container-id-4 div.sk-parallel-item::after {content: \"\";width: 100%;border-bottom: 1px solid gray;flex-grow: 1;}#sk-container-id-4 div.sk-label:hover label.sk-toggleable__label {background-color: #d4ebff;}#sk-container-id-4 div.sk-serial::before {content: \"\";position: absolute;border-left: 1px solid gray;box-sizing: border-box;top: 0;bottom: 0;left: 50%;z-index: 0;}#sk-container-id-4 div.sk-serial {display: flex;flex-direction: column;align-items: center;background-color: white;padding-right: 0.2em;padding-left: 0.2em;position: relative;}#sk-container-id-4 div.sk-item {position: relative;z-index: 1;}#sk-container-id-4 div.sk-parallel {display: flex;align-items: stretch;justify-content: center;background-color: white;position: relative;}#sk-container-id-4 div.sk-item::before, #sk-container-id-4 div.sk-parallel-item::before {content: \"\";position: absolute;border-left: 1px solid gray;box-sizing: border-box;top: 0;bottom: 0;left: 50%;z-index: -1;}#sk-container-id-4 div.sk-parallel-item {display: flex;flex-direction: column;z-index: 1;position: relative;background-color: white;}#sk-container-id-4 div.sk-parallel-item:first-child::after {align-self: flex-end;width: 50%;}#sk-container-id-4 div.sk-parallel-item:last-child::after {align-self: flex-start;width: 50%;}#sk-container-id-4 div.sk-parallel-item:only-child::after {width: 0;}#sk-container-id-4 div.sk-dashed-wrapped {border: 1px dashed gray;margin: 0 0.4em 0.5em 0.4em;box-sizing: border-box;padding-bottom: 0.4em;background-color: white;}#sk-container-id-4 div.sk-label label {font-family: monospace;font-weight: bold;display: inline-block;line-height: 1.2em;}#sk-container-id-4 div.sk-label-container {text-align: center;}#sk-container-id-4 div.sk-container {/* jupyter's `normalize.less` sets `[hidden] { display: none; }` but bootstrap.min.css set `[hidden] { display: none !important; }` so we also need the `!important` here to be able to override the default hidden behavior on the sphinx rendered scikit-learn.org. See: https://github.com/scikit-learn/scikit-learn/issues/21755 */display: inline-block !important;position: relative;}#sk-container-id-4 div.sk-text-repr-fallback {display: none;}</style><div id=\"sk-container-id-4\" class=\"sk-top-container\"><div class=\"sk-text-repr-fallback\"><pre>Pipeline(steps=[(&#x27;tfidfvectorizer&#x27;, TfidfVectorizer()),\n",
       "                (&#x27;randomforestclassifier&#x27;, RandomForestClassifier())])</pre><b>In a Jupyter environment, please rerun this cell to show the HTML representation or trust the notebook. <br />On GitHub, the HTML representation is unable to render, please try loading this page with nbviewer.org.</b></div><div class=\"sk-container\" hidden><div class=\"sk-item sk-dashed-wrapped\"><div class=\"sk-label-container\"><div class=\"sk-label sk-toggleable\"><input class=\"sk-toggleable__control sk-hidden--visually\" id=\"sk-estimator-id-10\" type=\"checkbox\" ><label for=\"sk-estimator-id-10\" class=\"sk-toggleable__label sk-toggleable__label-arrow\">Pipeline</label><div class=\"sk-toggleable__content\"><pre>Pipeline(steps=[(&#x27;tfidfvectorizer&#x27;, TfidfVectorizer()),\n",
       "                (&#x27;randomforestclassifier&#x27;, RandomForestClassifier())])</pre></div></div></div><div class=\"sk-serial\"><div class=\"sk-item\"><div class=\"sk-estimator sk-toggleable\"><input class=\"sk-toggleable__control sk-hidden--visually\" id=\"sk-estimator-id-11\" type=\"checkbox\" ><label for=\"sk-estimator-id-11\" class=\"sk-toggleable__label sk-toggleable__label-arrow\">TfidfVectorizer</label><div class=\"sk-toggleable__content\"><pre>TfidfVectorizer()</pre></div></div></div><div class=\"sk-item\"><div class=\"sk-estimator sk-toggleable\"><input class=\"sk-toggleable__control sk-hidden--visually\" id=\"sk-estimator-id-12\" type=\"checkbox\" ><label for=\"sk-estimator-id-12\" class=\"sk-toggleable__label sk-toggleable__label-arrow\">RandomForestClassifier</label><div class=\"sk-toggleable__content\"><pre>RandomForestClassifier()</pre></div></div></div></div></div></div></div>"
      ],
      "text/plain": [
       "Pipeline(steps=[('tfidfvectorizer', TfidfVectorizer()),\n",
       "                ('randomforestclassifier', RandomForestClassifier())])"
      ]
     },
     "execution_count": 65,
     "metadata": {},
     "output_type": "execute_result"
    }
   ],
   "source": [
    "pipe_rf.fit(X_train, y_train)\n",
    "pipe_rf.fit(X_train_merged, y_train_merged)"
   ]
  },
  {
   "cell_type": "code",
   "execution_count": 66,
   "metadata": {},
   "outputs": [],
   "source": [
    "# making prediction for train, test and validation\n",
    "y_pred_train = pipe_rf.predict(X_train)\n",
    "\n",
    "y_pred_test = pipe_rf.predict(X_test)\n",
    "\n",
    "y_pred_train_merged = pipe_rf.predict(X_train_merged)\n",
    "\n",
    "y_pred_test_merged = pipe_rf.predict(X_test_merged)"
   ]
  },
  {
   "cell_type": "code",
   "execution_count": 67,
   "metadata": {},
   "outputs": [
    {
     "name": "stdout",
     "output_type": "stream",
     "text": [
      "classification_report\n",
      "                                                              precision    recall  f1-score   support\n",
      "\n",
      "                                          Bestilling i butik       1.00      1.00      1.00         3\n",
      "                                         Betalingsmuligheder       1.00      1.00      1.00         1\n",
      "                                                     Erhverv       1.00      1.00      1.00         1\n",
      "                                                    Gavekort       1.00      1.00      1.00         1\n",
      "Kan jeg få besked, når en udsolgt vare kommer på lager igen?       1.00      1.00      1.00         1\n",
      "                                        Levering i weekenden       1.00      1.00      1.00         1\n",
      "                                         Leveringsmuligheder       1.00      1.00      1.00         1\n",
      "                           Leveringsmuligheder - DHL Express       1.00      1.00      1.00         1\n",
      "                           Leveringsmuligheder - GLS Erhverv       1.00      1.00      1.00         2\n",
      "                             Manglende produkter i min ordre       1.00      1.00      1.00         1\n",
      "            Ombytning eller returnering af gave købt i butik       0.50      1.00      0.67         1\n",
      "             Ombytning eller returnering af gave købt online       0.00      0.00      0.00         1\n",
      "                              Ordrebekræftelse ikke modtaget       1.00      1.00      1.00         1\n",
      "                                 Ordrenummer ved returnering       1.00      1.00      1.00         2\n",
      "                         Returnering af bestilling fra butik       1.00      1.00      1.00         2\n",
      "                     Returnering fra fysisk butik til online       1.00      1.00      1.00         2\n",
      "                                        Told- og importgebyr       1.00      1.00      1.00         2\n",
      "                                        Vaske- og Care Guide       1.00      1.00      1.00         1\n",
      "                                                   baglommer       1.00      1.00      1.00         2\n",
      "                                                        moms       1.00      1.00      1.00         2\n",
      "                                              skrædderpriser       1.00      1.00      1.00         1\n",
      "                                                         tak       1.00      1.00      1.00         1\n",
      "                                            Ændring af ordre       1.00      1.00      1.00         3\n",
      "\n",
      "                                                    accuracy                           0.97        34\n",
      "                                                   macro avg       0.93      0.96      0.94        34\n",
      "                                                weighted avg       0.96      0.97      0.96        34\n",
      "\n"
     ]
    }
   ],
   "source": [
    "# Classification report\n",
    "print(\"classification_report\")\n",
    "print(classification_report(y_test,y_pred_test))"
   ]
  },
  {
   "cell_type": "code",
   "execution_count": 68,
   "metadata": {},
   "outputs": [
    {
     "name": "stdout",
     "output_type": "stream",
     "text": [
      "accuracy_score for train\n",
      "0.9323308270676691\n",
      "accuracy_score for test\n",
      "0.9705882352941176\n",
      "accuracy_score for merged train\n",
      "1.0\n",
      "accuracy_score for merged test\n",
      "0.6792452830188679\n"
     ]
    }
   ],
   "source": [
    "# evaluating the accuracy for train, test and validation\n",
    "print(\"accuracy_score for train\")\n",
    "print(accuracy_score(y_train, y_pred_train))\n",
    "\n",
    "print(\"accuracy_score for test\")\n",
    "print(accuracy_score(y_test, y_pred_test))\n",
    "\n",
    "print(\"accuracy_score for merged train\")\n",
    "print(accuracy_score(y_train_merged, y_pred_train_merged))\n",
    "\n",
    "print(\"accuracy_score for merged test\")\n",
    "print(accuracy_score(y_test_merged, y_pred_test_merged))"
   ]
  },
  {
   "cell_type": "markdown",
   "metadata": {},
   "source": [
    "# Hyperparameter Tuning"
   ]
  },
  {
   "cell_type": "markdown",
   "metadata": {},
   "source": [
    "## Word2Vec pipelines"
   ]
  },
  {
   "cell_type": "markdown",
   "metadata": {},
   "source": [
    "### Hyperparameter tuning Logistic Regression"
   ]
  },
  {
   "cell_type": "code",
   "execution_count": 69,
   "metadata": {},
   "outputs": [],
   "source": [
    "params_lg = {'penalty': ['l1', 'l2', 'elasticnet', 'none' ],\n",
    "          'C': [0.01, 0.1, 0.3, 0.5, 1.0,],\n",
    "          'solver': ['lbfgs', 'newton-cg', 'sag', 'saga'], # List of compatible solver for multi_class = multinomial\n",
    "          'random_state': [42]\n",
    "         }"
   ]
  },
  {
   "cell_type": "code",
   "execution_count": 70,
   "metadata": {},
   "outputs": [],
   "source": [
    "lg_grid = GridSearchCV(estimator=model_lr, param_grid=params_lg)"
   ]
  },
  {
   "cell_type": "code",
   "execution_count": 71,
   "metadata": {},
   "outputs": [],
   "source": [
    "lg_grid_merged = GridSearchCV(estimator=model_lr, param_grid=params_lg)"
   ]
  },
  {
   "cell_type": "code",
   "execution_count": 72,
   "metadata": {},
   "outputs": [
    {
     "data": {
      "text/html": [
       "<style>#sk-container-id-5 {color: black;background-color: white;}#sk-container-id-5 pre{padding: 0;}#sk-container-id-5 div.sk-toggleable {background-color: white;}#sk-container-id-5 label.sk-toggleable__label {cursor: pointer;display: block;width: 100%;margin-bottom: 0;padding: 0.3em;box-sizing: border-box;text-align: center;}#sk-container-id-5 label.sk-toggleable__label-arrow:before {content: \"▸\";float: left;margin-right: 0.25em;color: #696969;}#sk-container-id-5 label.sk-toggleable__label-arrow:hover:before {color: black;}#sk-container-id-5 div.sk-estimator:hover label.sk-toggleable__label-arrow:before {color: black;}#sk-container-id-5 div.sk-toggleable__content {max-height: 0;max-width: 0;overflow: hidden;text-align: left;background-color: #f0f8ff;}#sk-container-id-5 div.sk-toggleable__content pre {margin: 0.2em;color: black;border-radius: 0.25em;background-color: #f0f8ff;}#sk-container-id-5 input.sk-toggleable__control:checked~div.sk-toggleable__content {max-height: 200px;max-width: 100%;overflow: auto;}#sk-container-id-5 input.sk-toggleable__control:checked~label.sk-toggleable__label-arrow:before {content: \"▾\";}#sk-container-id-5 div.sk-estimator input.sk-toggleable__control:checked~label.sk-toggleable__label {background-color: #d4ebff;}#sk-container-id-5 div.sk-label input.sk-toggleable__control:checked~label.sk-toggleable__label {background-color: #d4ebff;}#sk-container-id-5 input.sk-hidden--visually {border: 0;clip: rect(1px 1px 1px 1px);clip: rect(1px, 1px, 1px, 1px);height: 1px;margin: -1px;overflow: hidden;padding: 0;position: absolute;width: 1px;}#sk-container-id-5 div.sk-estimator {font-family: monospace;background-color: #f0f8ff;border: 1px dotted black;border-radius: 0.25em;box-sizing: border-box;margin-bottom: 0.5em;}#sk-container-id-5 div.sk-estimator:hover {background-color: #d4ebff;}#sk-container-id-5 div.sk-parallel-item::after {content: \"\";width: 100%;border-bottom: 1px solid gray;flex-grow: 1;}#sk-container-id-5 div.sk-label:hover label.sk-toggleable__label {background-color: #d4ebff;}#sk-container-id-5 div.sk-serial::before {content: \"\";position: absolute;border-left: 1px solid gray;box-sizing: border-box;top: 0;bottom: 0;left: 50%;z-index: 0;}#sk-container-id-5 div.sk-serial {display: flex;flex-direction: column;align-items: center;background-color: white;padding-right: 0.2em;padding-left: 0.2em;position: relative;}#sk-container-id-5 div.sk-item {position: relative;z-index: 1;}#sk-container-id-5 div.sk-parallel {display: flex;align-items: stretch;justify-content: center;background-color: white;position: relative;}#sk-container-id-5 div.sk-item::before, #sk-container-id-5 div.sk-parallel-item::before {content: \"\";position: absolute;border-left: 1px solid gray;box-sizing: border-box;top: 0;bottom: 0;left: 50%;z-index: -1;}#sk-container-id-5 div.sk-parallel-item {display: flex;flex-direction: column;z-index: 1;position: relative;background-color: white;}#sk-container-id-5 div.sk-parallel-item:first-child::after {align-self: flex-end;width: 50%;}#sk-container-id-5 div.sk-parallel-item:last-child::after {align-self: flex-start;width: 50%;}#sk-container-id-5 div.sk-parallel-item:only-child::after {width: 0;}#sk-container-id-5 div.sk-dashed-wrapped {border: 1px dashed gray;margin: 0 0.4em 0.5em 0.4em;box-sizing: border-box;padding-bottom: 0.4em;background-color: white;}#sk-container-id-5 div.sk-label label {font-family: monospace;font-weight: bold;display: inline-block;line-height: 1.2em;}#sk-container-id-5 div.sk-label-container {text-align: center;}#sk-container-id-5 div.sk-container {/* jupyter's `normalize.less` sets `[hidden] { display: none; }` but bootstrap.min.css set `[hidden] { display: none !important; }` so we also need the `!important` here to be able to override the default hidden behavior on the sphinx rendered scikit-learn.org. See: https://github.com/scikit-learn/scikit-learn/issues/21755 */display: inline-block !important;position: relative;}#sk-container-id-5 div.sk-text-repr-fallback {display: none;}</style><div id=\"sk-container-id-5\" class=\"sk-top-container\"><div class=\"sk-text-repr-fallback\"><pre>GridSearchCV(estimator=LogisticRegression(multi_class=&#x27;multinomial&#x27;),\n",
       "             param_grid={&#x27;C&#x27;: [0.01, 0.1, 0.3, 0.5, 1.0],\n",
       "                         &#x27;penalty&#x27;: [&#x27;l1&#x27;, &#x27;l2&#x27;, &#x27;elasticnet&#x27;, &#x27;none&#x27;],\n",
       "                         &#x27;random_state&#x27;: [42],\n",
       "                         &#x27;solver&#x27;: [&#x27;lbfgs&#x27;, &#x27;newton-cg&#x27;, &#x27;sag&#x27;, &#x27;saga&#x27;]})</pre><b>In a Jupyter environment, please rerun this cell to show the HTML representation or trust the notebook. <br />On GitHub, the HTML representation is unable to render, please try loading this page with nbviewer.org.</b></div><div class=\"sk-container\" hidden><div class=\"sk-item sk-dashed-wrapped\"><div class=\"sk-label-container\"><div class=\"sk-label sk-toggleable\"><input class=\"sk-toggleable__control sk-hidden--visually\" id=\"sk-estimator-id-13\" type=\"checkbox\" ><label for=\"sk-estimator-id-13\" class=\"sk-toggleable__label sk-toggleable__label-arrow\">GridSearchCV</label><div class=\"sk-toggleable__content\"><pre>GridSearchCV(estimator=LogisticRegression(multi_class=&#x27;multinomial&#x27;),\n",
       "             param_grid={&#x27;C&#x27;: [0.01, 0.1, 0.3, 0.5, 1.0],\n",
       "                         &#x27;penalty&#x27;: [&#x27;l1&#x27;, &#x27;l2&#x27;, &#x27;elasticnet&#x27;, &#x27;none&#x27;],\n",
       "                         &#x27;random_state&#x27;: [42],\n",
       "                         &#x27;solver&#x27;: [&#x27;lbfgs&#x27;, &#x27;newton-cg&#x27;, &#x27;sag&#x27;, &#x27;saga&#x27;]})</pre></div></div></div><div class=\"sk-parallel\"><div class=\"sk-parallel-item\"><div class=\"sk-item\"><div class=\"sk-label-container\"><div class=\"sk-label sk-toggleable\"><input class=\"sk-toggleable__control sk-hidden--visually\" id=\"sk-estimator-id-14\" type=\"checkbox\" ><label for=\"sk-estimator-id-14\" class=\"sk-toggleable__label sk-toggleable__label-arrow\">estimator: LogisticRegression</label><div class=\"sk-toggleable__content\"><pre>LogisticRegression(multi_class=&#x27;multinomial&#x27;)</pre></div></div></div><div class=\"sk-serial\"><div class=\"sk-item\"><div class=\"sk-estimator sk-toggleable\"><input class=\"sk-toggleable__control sk-hidden--visually\" id=\"sk-estimator-id-15\" type=\"checkbox\" ><label for=\"sk-estimator-id-15\" class=\"sk-toggleable__label sk-toggleable__label-arrow\">LogisticRegression</label><div class=\"sk-toggleable__content\"><pre>LogisticRegression(multi_class=&#x27;multinomial&#x27;)</pre></div></div></div></div></div></div></div></div></div></div>"
      ],
      "text/plain": [
       "GridSearchCV(estimator=LogisticRegression(multi_class='multinomial'),\n",
       "             param_grid={'C': [0.01, 0.1, 0.3, 0.5, 1.0],\n",
       "                         'penalty': ['l1', 'l2', 'elasticnet', 'none'],\n",
       "                         'random_state': [42],\n",
       "                         'solver': ['lbfgs', 'newton-cg', 'sag', 'saga']})"
      ]
     },
     "execution_count": 72,
     "metadata": {},
     "output_type": "execute_result"
    }
   ],
   "source": [
    "lg_grid.fit(X_train_W2V, y_train)\n"
   ]
  },
  {
   "cell_type": "code",
   "execution_count": 73,
   "metadata": {},
   "outputs": [
    {
     "data": {
      "text/html": [
       "<style>#sk-container-id-6 {color: black;background-color: white;}#sk-container-id-6 pre{padding: 0;}#sk-container-id-6 div.sk-toggleable {background-color: white;}#sk-container-id-6 label.sk-toggleable__label {cursor: pointer;display: block;width: 100%;margin-bottom: 0;padding: 0.3em;box-sizing: border-box;text-align: center;}#sk-container-id-6 label.sk-toggleable__label-arrow:before {content: \"▸\";float: left;margin-right: 0.25em;color: #696969;}#sk-container-id-6 label.sk-toggleable__label-arrow:hover:before {color: black;}#sk-container-id-6 div.sk-estimator:hover label.sk-toggleable__label-arrow:before {color: black;}#sk-container-id-6 div.sk-toggleable__content {max-height: 0;max-width: 0;overflow: hidden;text-align: left;background-color: #f0f8ff;}#sk-container-id-6 div.sk-toggleable__content pre {margin: 0.2em;color: black;border-radius: 0.25em;background-color: #f0f8ff;}#sk-container-id-6 input.sk-toggleable__control:checked~div.sk-toggleable__content {max-height: 200px;max-width: 100%;overflow: auto;}#sk-container-id-6 input.sk-toggleable__control:checked~label.sk-toggleable__label-arrow:before {content: \"▾\";}#sk-container-id-6 div.sk-estimator input.sk-toggleable__control:checked~label.sk-toggleable__label {background-color: #d4ebff;}#sk-container-id-6 div.sk-label input.sk-toggleable__control:checked~label.sk-toggleable__label {background-color: #d4ebff;}#sk-container-id-6 input.sk-hidden--visually {border: 0;clip: rect(1px 1px 1px 1px);clip: rect(1px, 1px, 1px, 1px);height: 1px;margin: -1px;overflow: hidden;padding: 0;position: absolute;width: 1px;}#sk-container-id-6 div.sk-estimator {font-family: monospace;background-color: #f0f8ff;border: 1px dotted black;border-radius: 0.25em;box-sizing: border-box;margin-bottom: 0.5em;}#sk-container-id-6 div.sk-estimator:hover {background-color: #d4ebff;}#sk-container-id-6 div.sk-parallel-item::after {content: \"\";width: 100%;border-bottom: 1px solid gray;flex-grow: 1;}#sk-container-id-6 div.sk-label:hover label.sk-toggleable__label {background-color: #d4ebff;}#sk-container-id-6 div.sk-serial::before {content: \"\";position: absolute;border-left: 1px solid gray;box-sizing: border-box;top: 0;bottom: 0;left: 50%;z-index: 0;}#sk-container-id-6 div.sk-serial {display: flex;flex-direction: column;align-items: center;background-color: white;padding-right: 0.2em;padding-left: 0.2em;position: relative;}#sk-container-id-6 div.sk-item {position: relative;z-index: 1;}#sk-container-id-6 div.sk-parallel {display: flex;align-items: stretch;justify-content: center;background-color: white;position: relative;}#sk-container-id-6 div.sk-item::before, #sk-container-id-6 div.sk-parallel-item::before {content: \"\";position: absolute;border-left: 1px solid gray;box-sizing: border-box;top: 0;bottom: 0;left: 50%;z-index: -1;}#sk-container-id-6 div.sk-parallel-item {display: flex;flex-direction: column;z-index: 1;position: relative;background-color: white;}#sk-container-id-6 div.sk-parallel-item:first-child::after {align-self: flex-end;width: 50%;}#sk-container-id-6 div.sk-parallel-item:last-child::after {align-self: flex-start;width: 50%;}#sk-container-id-6 div.sk-parallel-item:only-child::after {width: 0;}#sk-container-id-6 div.sk-dashed-wrapped {border: 1px dashed gray;margin: 0 0.4em 0.5em 0.4em;box-sizing: border-box;padding-bottom: 0.4em;background-color: white;}#sk-container-id-6 div.sk-label label {font-family: monospace;font-weight: bold;display: inline-block;line-height: 1.2em;}#sk-container-id-6 div.sk-label-container {text-align: center;}#sk-container-id-6 div.sk-container {/* jupyter's `normalize.less` sets `[hidden] { display: none; }` but bootstrap.min.css set `[hidden] { display: none !important; }` so we also need the `!important` here to be able to override the default hidden behavior on the sphinx rendered scikit-learn.org. See: https://github.com/scikit-learn/scikit-learn/issues/21755 */display: inline-block !important;position: relative;}#sk-container-id-6 div.sk-text-repr-fallback {display: none;}</style><div id=\"sk-container-id-6\" class=\"sk-top-container\"><div class=\"sk-text-repr-fallback\"><pre>GridSearchCV(estimator=LogisticRegression(multi_class=&#x27;multinomial&#x27;),\n",
       "             param_grid={&#x27;C&#x27;: [0.01, 0.1, 0.3, 0.5, 1.0],\n",
       "                         &#x27;penalty&#x27;: [&#x27;l1&#x27;, &#x27;l2&#x27;, &#x27;elasticnet&#x27;, &#x27;none&#x27;],\n",
       "                         &#x27;random_state&#x27;: [42],\n",
       "                         &#x27;solver&#x27;: [&#x27;lbfgs&#x27;, &#x27;newton-cg&#x27;, &#x27;sag&#x27;, &#x27;saga&#x27;]})</pre><b>In a Jupyter environment, please rerun this cell to show the HTML representation or trust the notebook. <br />On GitHub, the HTML representation is unable to render, please try loading this page with nbviewer.org.</b></div><div class=\"sk-container\" hidden><div class=\"sk-item sk-dashed-wrapped\"><div class=\"sk-label-container\"><div class=\"sk-label sk-toggleable\"><input class=\"sk-toggleable__control sk-hidden--visually\" id=\"sk-estimator-id-16\" type=\"checkbox\" ><label for=\"sk-estimator-id-16\" class=\"sk-toggleable__label sk-toggleable__label-arrow\">GridSearchCV</label><div class=\"sk-toggleable__content\"><pre>GridSearchCV(estimator=LogisticRegression(multi_class=&#x27;multinomial&#x27;),\n",
       "             param_grid={&#x27;C&#x27;: [0.01, 0.1, 0.3, 0.5, 1.0],\n",
       "                         &#x27;penalty&#x27;: [&#x27;l1&#x27;, &#x27;l2&#x27;, &#x27;elasticnet&#x27;, &#x27;none&#x27;],\n",
       "                         &#x27;random_state&#x27;: [42],\n",
       "                         &#x27;solver&#x27;: [&#x27;lbfgs&#x27;, &#x27;newton-cg&#x27;, &#x27;sag&#x27;, &#x27;saga&#x27;]})</pre></div></div></div><div class=\"sk-parallel\"><div class=\"sk-parallel-item\"><div class=\"sk-item\"><div class=\"sk-label-container\"><div class=\"sk-label sk-toggleable\"><input class=\"sk-toggleable__control sk-hidden--visually\" id=\"sk-estimator-id-17\" type=\"checkbox\" ><label for=\"sk-estimator-id-17\" class=\"sk-toggleable__label sk-toggleable__label-arrow\">estimator: LogisticRegression</label><div class=\"sk-toggleable__content\"><pre>LogisticRegression(multi_class=&#x27;multinomial&#x27;)</pre></div></div></div><div class=\"sk-serial\"><div class=\"sk-item\"><div class=\"sk-estimator sk-toggleable\"><input class=\"sk-toggleable__control sk-hidden--visually\" id=\"sk-estimator-id-18\" type=\"checkbox\" ><label for=\"sk-estimator-id-18\" class=\"sk-toggleable__label sk-toggleable__label-arrow\">LogisticRegression</label><div class=\"sk-toggleable__content\"><pre>LogisticRegression(multi_class=&#x27;multinomial&#x27;)</pre></div></div></div></div></div></div></div></div></div></div>"
      ],
      "text/plain": [
       "GridSearchCV(estimator=LogisticRegression(multi_class='multinomial'),\n",
       "             param_grid={'C': [0.01, 0.1, 0.3, 0.5, 1.0],\n",
       "                         'penalty': ['l1', 'l2', 'elasticnet', 'none'],\n",
       "                         'random_state': [42],\n",
       "                         'solver': ['lbfgs', 'newton-cg', 'sag', 'saga']})"
      ]
     },
     "execution_count": 73,
     "metadata": {},
     "output_type": "execute_result"
    }
   ],
   "source": [
    "lg_grid_merged.fit(X_train_merged_W2V, y_train_merged)"
   ]
  },
  {
   "cell_type": "code",
   "execution_count": 74,
   "metadata": {},
   "outputs": [
    {
     "name": "stdout",
     "output_type": "stream",
     "text": [
      "Train Accuracy : 0.985\n",
      "Test Accuracy : 0.441\n",
      "Merged Train Accuracy : 0.981\n",
      "Merged Test Accuracy : 0.717\n",
      "Best Accuracy Through Grid Search : 0.556\n",
      "Merged Best Accuracy Through Grid Search : 0.556\n",
      "Best Parameters :  {'C': 0.01, 'penalty': 'none', 'random_state': 42, 'solver': 'newton-cg'}\n",
      "Merged Best Parameters :  {'C': 0.01, 'penalty': 'none', 'random_state': 42, 'solver': 'newton-cg'}\n"
     ]
    }
   ],
   "source": [
    "print('Train Accuracy : %.3f'%lg_grid.best_estimator_.score(X_train_W2V, y_train))\n",
    "print('Test Accuracy : %.3f'%lg_grid.best_estimator_.score(X_test_W2V, y_test))\n",
    "print('Merged Train Accuracy : %.3f'%lg_grid_merged.best_estimator_.score(X_train_merged_W2V, y_train_merged))\n",
    "print('Merged Test Accuracy : %.3f'%lg_grid_merged.best_estimator_.score(X_test_merged_W2V, y_test_merged))\n",
    "print('Best Accuracy Through Grid Search : %.3f'%lg_grid.best_score_)\n",
    "print('Merged Best Accuracy Through Grid Search : %.3f'%lg_grid.best_score_)\n",
    "print('Best Parameters : ',lg_grid.best_params_)\n",
    "print('Merged Best Parameters : ',lg_grid.best_params_)"
   ]
  },
  {
   "cell_type": "markdown",
   "metadata": {},
   "source": [
    "### Hyperparameter tuning SVM"
   ]
  },
  {
   "cell_type": "code",
   "execution_count": 75,
   "metadata": {},
   "outputs": [],
   "source": [
    "# Hyperparameters to tune\n",
    "params_svm = {\n",
    "    'C': [1.0, 1.5, 2.0, 3.0],\n",
    "    'kernel': ['linear', 'rbf', 'poly'],  # Different kernel functions\n",
    "    'degree': [2, 3, 4],  # Degree of the polynomial kernel (for 'poly' kernel)\n",
    "    'class_weight': [None, 'balanced'],  # Adjusting class weights\n",
    "    'decision_function_shape': ['ovr','ovo'],  # One-vs-Rest\n",
    "    'random_state': [42]\n",
    "}"
   ]
  },
  {
   "cell_type": "code",
   "execution_count": 76,
   "metadata": {},
   "outputs": [],
   "source": [
    "svm_grid = GridSearchCV(estimator=model_svm, param_grid=params_svm)\n",
    "svm_grid_merged = GridSearchCV(estimator=model_svm, param_grid=params_svm)"
   ]
  },
  {
   "cell_type": "code",
   "execution_count": 77,
   "metadata": {},
   "outputs": [
    {
     "data": {
      "text/html": [
       "<style>#sk-container-id-7 {color: black;background-color: white;}#sk-container-id-7 pre{padding: 0;}#sk-container-id-7 div.sk-toggleable {background-color: white;}#sk-container-id-7 label.sk-toggleable__label {cursor: pointer;display: block;width: 100%;margin-bottom: 0;padding: 0.3em;box-sizing: border-box;text-align: center;}#sk-container-id-7 label.sk-toggleable__label-arrow:before {content: \"▸\";float: left;margin-right: 0.25em;color: #696969;}#sk-container-id-7 label.sk-toggleable__label-arrow:hover:before {color: black;}#sk-container-id-7 div.sk-estimator:hover label.sk-toggleable__label-arrow:before {color: black;}#sk-container-id-7 div.sk-toggleable__content {max-height: 0;max-width: 0;overflow: hidden;text-align: left;background-color: #f0f8ff;}#sk-container-id-7 div.sk-toggleable__content pre {margin: 0.2em;color: black;border-radius: 0.25em;background-color: #f0f8ff;}#sk-container-id-7 input.sk-toggleable__control:checked~div.sk-toggleable__content {max-height: 200px;max-width: 100%;overflow: auto;}#sk-container-id-7 input.sk-toggleable__control:checked~label.sk-toggleable__label-arrow:before {content: \"▾\";}#sk-container-id-7 div.sk-estimator input.sk-toggleable__control:checked~label.sk-toggleable__label {background-color: #d4ebff;}#sk-container-id-7 div.sk-label input.sk-toggleable__control:checked~label.sk-toggleable__label {background-color: #d4ebff;}#sk-container-id-7 input.sk-hidden--visually {border: 0;clip: rect(1px 1px 1px 1px);clip: rect(1px, 1px, 1px, 1px);height: 1px;margin: -1px;overflow: hidden;padding: 0;position: absolute;width: 1px;}#sk-container-id-7 div.sk-estimator {font-family: monospace;background-color: #f0f8ff;border: 1px dotted black;border-radius: 0.25em;box-sizing: border-box;margin-bottom: 0.5em;}#sk-container-id-7 div.sk-estimator:hover {background-color: #d4ebff;}#sk-container-id-7 div.sk-parallel-item::after {content: \"\";width: 100%;border-bottom: 1px solid gray;flex-grow: 1;}#sk-container-id-7 div.sk-label:hover label.sk-toggleable__label {background-color: #d4ebff;}#sk-container-id-7 div.sk-serial::before {content: \"\";position: absolute;border-left: 1px solid gray;box-sizing: border-box;top: 0;bottom: 0;left: 50%;z-index: 0;}#sk-container-id-7 div.sk-serial {display: flex;flex-direction: column;align-items: center;background-color: white;padding-right: 0.2em;padding-left: 0.2em;position: relative;}#sk-container-id-7 div.sk-item {position: relative;z-index: 1;}#sk-container-id-7 div.sk-parallel {display: flex;align-items: stretch;justify-content: center;background-color: white;position: relative;}#sk-container-id-7 div.sk-item::before, #sk-container-id-7 div.sk-parallel-item::before {content: \"\";position: absolute;border-left: 1px solid gray;box-sizing: border-box;top: 0;bottom: 0;left: 50%;z-index: -1;}#sk-container-id-7 div.sk-parallel-item {display: flex;flex-direction: column;z-index: 1;position: relative;background-color: white;}#sk-container-id-7 div.sk-parallel-item:first-child::after {align-self: flex-end;width: 50%;}#sk-container-id-7 div.sk-parallel-item:last-child::after {align-self: flex-start;width: 50%;}#sk-container-id-7 div.sk-parallel-item:only-child::after {width: 0;}#sk-container-id-7 div.sk-dashed-wrapped {border: 1px dashed gray;margin: 0 0.4em 0.5em 0.4em;box-sizing: border-box;padding-bottom: 0.4em;background-color: white;}#sk-container-id-7 div.sk-label label {font-family: monospace;font-weight: bold;display: inline-block;line-height: 1.2em;}#sk-container-id-7 div.sk-label-container {text-align: center;}#sk-container-id-7 div.sk-container {/* jupyter's `normalize.less` sets `[hidden] { display: none; }` but bootstrap.min.css set `[hidden] { display: none !important; }` so we also need the `!important` here to be able to override the default hidden behavior on the sphinx rendered scikit-learn.org. See: https://github.com/scikit-learn/scikit-learn/issues/21755 */display: inline-block !important;position: relative;}#sk-container-id-7 div.sk-text-repr-fallback {display: none;}</style><div id=\"sk-container-id-7\" class=\"sk-top-container\"><div class=\"sk-text-repr-fallback\"><pre>GridSearchCV(estimator=SVC(),\n",
       "             param_grid={&#x27;C&#x27;: [1.0, 1.5, 2.0, 3.0],\n",
       "                         &#x27;class_weight&#x27;: [None, &#x27;balanced&#x27;],\n",
       "                         &#x27;decision_function_shape&#x27;: [&#x27;ovr&#x27;, &#x27;ovo&#x27;],\n",
       "                         &#x27;degree&#x27;: [2, 3, 4],\n",
       "                         &#x27;kernel&#x27;: [&#x27;linear&#x27;, &#x27;rbf&#x27;, &#x27;poly&#x27;],\n",
       "                         &#x27;random_state&#x27;: [42]})</pre><b>In a Jupyter environment, please rerun this cell to show the HTML representation or trust the notebook. <br />On GitHub, the HTML representation is unable to render, please try loading this page with nbviewer.org.</b></div><div class=\"sk-container\" hidden><div class=\"sk-item sk-dashed-wrapped\"><div class=\"sk-label-container\"><div class=\"sk-label sk-toggleable\"><input class=\"sk-toggleable__control sk-hidden--visually\" id=\"sk-estimator-id-19\" type=\"checkbox\" ><label for=\"sk-estimator-id-19\" class=\"sk-toggleable__label sk-toggleable__label-arrow\">GridSearchCV</label><div class=\"sk-toggleable__content\"><pre>GridSearchCV(estimator=SVC(),\n",
       "             param_grid={&#x27;C&#x27;: [1.0, 1.5, 2.0, 3.0],\n",
       "                         &#x27;class_weight&#x27;: [None, &#x27;balanced&#x27;],\n",
       "                         &#x27;decision_function_shape&#x27;: [&#x27;ovr&#x27;, &#x27;ovo&#x27;],\n",
       "                         &#x27;degree&#x27;: [2, 3, 4],\n",
       "                         &#x27;kernel&#x27;: [&#x27;linear&#x27;, &#x27;rbf&#x27;, &#x27;poly&#x27;],\n",
       "                         &#x27;random_state&#x27;: [42]})</pre></div></div></div><div class=\"sk-parallel\"><div class=\"sk-parallel-item\"><div class=\"sk-item\"><div class=\"sk-label-container\"><div class=\"sk-label sk-toggleable\"><input class=\"sk-toggleable__control sk-hidden--visually\" id=\"sk-estimator-id-20\" type=\"checkbox\" ><label for=\"sk-estimator-id-20\" class=\"sk-toggleable__label sk-toggleable__label-arrow\">estimator: SVC</label><div class=\"sk-toggleable__content\"><pre>SVC()</pre></div></div></div><div class=\"sk-serial\"><div class=\"sk-item\"><div class=\"sk-estimator sk-toggleable\"><input class=\"sk-toggleable__control sk-hidden--visually\" id=\"sk-estimator-id-21\" type=\"checkbox\" ><label for=\"sk-estimator-id-21\" class=\"sk-toggleable__label sk-toggleable__label-arrow\">SVC</label><div class=\"sk-toggleable__content\"><pre>SVC()</pre></div></div></div></div></div></div></div></div></div></div>"
      ],
      "text/plain": [
       "GridSearchCV(estimator=SVC(),\n",
       "             param_grid={'C': [1.0, 1.5, 2.0, 3.0],\n",
       "                         'class_weight': [None, 'balanced'],\n",
       "                         'decision_function_shape': ['ovr', 'ovo'],\n",
       "                         'degree': [2, 3, 4],\n",
       "                         'kernel': ['linear', 'rbf', 'poly'],\n",
       "                         'random_state': [42]})"
      ]
     },
     "execution_count": 77,
     "metadata": {},
     "output_type": "execute_result"
    }
   ],
   "source": [
    "svm_grid.fit(X_train_W2V, y_train)"
   ]
  },
  {
   "cell_type": "code",
   "execution_count": 78,
   "metadata": {},
   "outputs": [
    {
     "data": {
      "text/html": [
       "<style>#sk-container-id-8 {color: black;background-color: white;}#sk-container-id-8 pre{padding: 0;}#sk-container-id-8 div.sk-toggleable {background-color: white;}#sk-container-id-8 label.sk-toggleable__label {cursor: pointer;display: block;width: 100%;margin-bottom: 0;padding: 0.3em;box-sizing: border-box;text-align: center;}#sk-container-id-8 label.sk-toggleable__label-arrow:before {content: \"▸\";float: left;margin-right: 0.25em;color: #696969;}#sk-container-id-8 label.sk-toggleable__label-arrow:hover:before {color: black;}#sk-container-id-8 div.sk-estimator:hover label.sk-toggleable__label-arrow:before {color: black;}#sk-container-id-8 div.sk-toggleable__content {max-height: 0;max-width: 0;overflow: hidden;text-align: left;background-color: #f0f8ff;}#sk-container-id-8 div.sk-toggleable__content pre {margin: 0.2em;color: black;border-radius: 0.25em;background-color: #f0f8ff;}#sk-container-id-8 input.sk-toggleable__control:checked~div.sk-toggleable__content {max-height: 200px;max-width: 100%;overflow: auto;}#sk-container-id-8 input.sk-toggleable__control:checked~label.sk-toggleable__label-arrow:before {content: \"▾\";}#sk-container-id-8 div.sk-estimator input.sk-toggleable__control:checked~label.sk-toggleable__label {background-color: #d4ebff;}#sk-container-id-8 div.sk-label input.sk-toggleable__control:checked~label.sk-toggleable__label {background-color: #d4ebff;}#sk-container-id-8 input.sk-hidden--visually {border: 0;clip: rect(1px 1px 1px 1px);clip: rect(1px, 1px, 1px, 1px);height: 1px;margin: -1px;overflow: hidden;padding: 0;position: absolute;width: 1px;}#sk-container-id-8 div.sk-estimator {font-family: monospace;background-color: #f0f8ff;border: 1px dotted black;border-radius: 0.25em;box-sizing: border-box;margin-bottom: 0.5em;}#sk-container-id-8 div.sk-estimator:hover {background-color: #d4ebff;}#sk-container-id-8 div.sk-parallel-item::after {content: \"\";width: 100%;border-bottom: 1px solid gray;flex-grow: 1;}#sk-container-id-8 div.sk-label:hover label.sk-toggleable__label {background-color: #d4ebff;}#sk-container-id-8 div.sk-serial::before {content: \"\";position: absolute;border-left: 1px solid gray;box-sizing: border-box;top: 0;bottom: 0;left: 50%;z-index: 0;}#sk-container-id-8 div.sk-serial {display: flex;flex-direction: column;align-items: center;background-color: white;padding-right: 0.2em;padding-left: 0.2em;position: relative;}#sk-container-id-8 div.sk-item {position: relative;z-index: 1;}#sk-container-id-8 div.sk-parallel {display: flex;align-items: stretch;justify-content: center;background-color: white;position: relative;}#sk-container-id-8 div.sk-item::before, #sk-container-id-8 div.sk-parallel-item::before {content: \"\";position: absolute;border-left: 1px solid gray;box-sizing: border-box;top: 0;bottom: 0;left: 50%;z-index: -1;}#sk-container-id-8 div.sk-parallel-item {display: flex;flex-direction: column;z-index: 1;position: relative;background-color: white;}#sk-container-id-8 div.sk-parallel-item:first-child::after {align-self: flex-end;width: 50%;}#sk-container-id-8 div.sk-parallel-item:last-child::after {align-self: flex-start;width: 50%;}#sk-container-id-8 div.sk-parallel-item:only-child::after {width: 0;}#sk-container-id-8 div.sk-dashed-wrapped {border: 1px dashed gray;margin: 0 0.4em 0.5em 0.4em;box-sizing: border-box;padding-bottom: 0.4em;background-color: white;}#sk-container-id-8 div.sk-label label {font-family: monospace;font-weight: bold;display: inline-block;line-height: 1.2em;}#sk-container-id-8 div.sk-label-container {text-align: center;}#sk-container-id-8 div.sk-container {/* jupyter's `normalize.less` sets `[hidden] { display: none; }` but bootstrap.min.css set `[hidden] { display: none !important; }` so we also need the `!important` here to be able to override the default hidden behavior on the sphinx rendered scikit-learn.org. See: https://github.com/scikit-learn/scikit-learn/issues/21755 */display: inline-block !important;position: relative;}#sk-container-id-8 div.sk-text-repr-fallback {display: none;}</style><div id=\"sk-container-id-8\" class=\"sk-top-container\"><div class=\"sk-text-repr-fallback\"><pre>GridSearchCV(estimator=SVC(),\n",
       "             param_grid={&#x27;C&#x27;: [1.0, 1.5, 2.0, 3.0],\n",
       "                         &#x27;class_weight&#x27;: [None, &#x27;balanced&#x27;],\n",
       "                         &#x27;decision_function_shape&#x27;: [&#x27;ovr&#x27;, &#x27;ovo&#x27;],\n",
       "                         &#x27;degree&#x27;: [2, 3, 4],\n",
       "                         &#x27;kernel&#x27;: [&#x27;linear&#x27;, &#x27;rbf&#x27;, &#x27;poly&#x27;],\n",
       "                         &#x27;random_state&#x27;: [42]})</pre><b>In a Jupyter environment, please rerun this cell to show the HTML representation or trust the notebook. <br />On GitHub, the HTML representation is unable to render, please try loading this page with nbviewer.org.</b></div><div class=\"sk-container\" hidden><div class=\"sk-item sk-dashed-wrapped\"><div class=\"sk-label-container\"><div class=\"sk-label sk-toggleable\"><input class=\"sk-toggleable__control sk-hidden--visually\" id=\"sk-estimator-id-22\" type=\"checkbox\" ><label for=\"sk-estimator-id-22\" class=\"sk-toggleable__label sk-toggleable__label-arrow\">GridSearchCV</label><div class=\"sk-toggleable__content\"><pre>GridSearchCV(estimator=SVC(),\n",
       "             param_grid={&#x27;C&#x27;: [1.0, 1.5, 2.0, 3.0],\n",
       "                         &#x27;class_weight&#x27;: [None, &#x27;balanced&#x27;],\n",
       "                         &#x27;decision_function_shape&#x27;: [&#x27;ovr&#x27;, &#x27;ovo&#x27;],\n",
       "                         &#x27;degree&#x27;: [2, 3, 4],\n",
       "                         &#x27;kernel&#x27;: [&#x27;linear&#x27;, &#x27;rbf&#x27;, &#x27;poly&#x27;],\n",
       "                         &#x27;random_state&#x27;: [42]})</pre></div></div></div><div class=\"sk-parallel\"><div class=\"sk-parallel-item\"><div class=\"sk-item\"><div class=\"sk-label-container\"><div class=\"sk-label sk-toggleable\"><input class=\"sk-toggleable__control sk-hidden--visually\" id=\"sk-estimator-id-23\" type=\"checkbox\" ><label for=\"sk-estimator-id-23\" class=\"sk-toggleable__label sk-toggleable__label-arrow\">estimator: SVC</label><div class=\"sk-toggleable__content\"><pre>SVC()</pre></div></div></div><div class=\"sk-serial\"><div class=\"sk-item\"><div class=\"sk-estimator sk-toggleable\"><input class=\"sk-toggleable__control sk-hidden--visually\" id=\"sk-estimator-id-24\" type=\"checkbox\" ><label for=\"sk-estimator-id-24\" class=\"sk-toggleable__label sk-toggleable__label-arrow\">SVC</label><div class=\"sk-toggleable__content\"><pre>SVC()</pre></div></div></div></div></div></div></div></div></div></div>"
      ],
      "text/plain": [
       "GridSearchCV(estimator=SVC(),\n",
       "             param_grid={'C': [1.0, 1.5, 2.0, 3.0],\n",
       "                         'class_weight': [None, 'balanced'],\n",
       "                         'decision_function_shape': ['ovr', 'ovo'],\n",
       "                         'degree': [2, 3, 4],\n",
       "                         'kernel': ['linear', 'rbf', 'poly'],\n",
       "                         'random_state': [42]})"
      ]
     },
     "execution_count": 78,
     "metadata": {},
     "output_type": "execute_result"
    }
   ],
   "source": [
    "svm_grid_merged.fit(X_train_merged_W2V, y_train_merged)"
   ]
  },
  {
   "cell_type": "code",
   "execution_count": 79,
   "metadata": {},
   "outputs": [
    {
     "name": "stdout",
     "output_type": "stream",
     "text": [
      "Train Accuracy : 0.985\n",
      "Test Accuracy : 0.382\n",
      "Merged Train Accuracy : 0.981\n",
      "Merged Test Accuracy : 0.660\n",
      "Best Accuracy Through Grid Search : 0.436\n",
      "Merged Best Accuracy Through Grid Search : 0.481\n",
      "Best Parameters :  {'C': 1.0, 'class_weight': 'balanced', 'decision_function_shape': 'ovr', 'degree': 2, 'kernel': 'linear', 'random_state': 42}\n",
      "Merged Best Parameters :  {'C': 1.0, 'class_weight': 'balanced', 'decision_function_shape': 'ovr', 'degree': 2, 'kernel': 'linear', 'random_state': 42}\n"
     ]
    }
   ],
   "source": [
    "print('Train Accuracy : %.3f'%svm_grid.best_estimator_.score(X_train_W2V, y_train))\n",
    "print('Test Accuracy : %.3f'%svm_grid.best_estimator_.score(X_test_W2V, y_test))\n",
    "print('Merged Train Accuracy : %.3f'%svm_grid_merged.best_estimator_.score(X_train_merged_W2V, y_train_merged))\n",
    "print('Merged Test Accuracy : %.3f'%svm_grid_merged.best_estimator_.score(X_test_merged_W2V, y_test_merged))\n",
    "print('Best Accuracy Through Grid Search : %.3f'%svm_grid.best_score_)\n",
    "print('Merged Best Accuracy Through Grid Search : %.3f'%svm_grid_merged.best_score_)\n",
    "print('Best Parameters : ',svm_grid.best_params_)\n",
    "print('Merged Best Parameters : ',svm_grid_merged.best_params_)"
   ]
  },
  {
   "cell_type": "markdown",
   "metadata": {},
   "source": [
    "### Hyperparameter tuning KN"
   ]
  },
  {
   "cell_type": "code",
   "execution_count": 80,
   "metadata": {},
   "outputs": [],
   "source": [
    "# Hyperparameters to tune for KNN\n",
    "params_kn = {\n",
    "    'n_neighbors': [1, 2, 3],      # Number of neighbors to consider\n",
    "    'weights': ['uniform', 'distance'],   # Weight function used in prediction\n",
    "    'leaf_size': [1, 2, 3],             # Leaf size for tree-based algorithms\n",
    "}"
   ]
  },
  {
   "cell_type": "code",
   "execution_count": 81,
   "metadata": {},
   "outputs": [],
   "source": [
    "kn_grid = GridSearchCV(estimator=model_kn, param_grid=params_kn)\n",
    "kn_grid_merged = GridSearchCV(estimator=model_kn, param_grid=params_kn)"
   ]
  },
  {
   "cell_type": "code",
   "execution_count": 82,
   "metadata": {},
   "outputs": [
    {
     "data": {
      "text/html": [
       "<style>#sk-container-id-9 {color: black;background-color: white;}#sk-container-id-9 pre{padding: 0;}#sk-container-id-9 div.sk-toggleable {background-color: white;}#sk-container-id-9 label.sk-toggleable__label {cursor: pointer;display: block;width: 100%;margin-bottom: 0;padding: 0.3em;box-sizing: border-box;text-align: center;}#sk-container-id-9 label.sk-toggleable__label-arrow:before {content: \"▸\";float: left;margin-right: 0.25em;color: #696969;}#sk-container-id-9 label.sk-toggleable__label-arrow:hover:before {color: black;}#sk-container-id-9 div.sk-estimator:hover label.sk-toggleable__label-arrow:before {color: black;}#sk-container-id-9 div.sk-toggleable__content {max-height: 0;max-width: 0;overflow: hidden;text-align: left;background-color: #f0f8ff;}#sk-container-id-9 div.sk-toggleable__content pre {margin: 0.2em;color: black;border-radius: 0.25em;background-color: #f0f8ff;}#sk-container-id-9 input.sk-toggleable__control:checked~div.sk-toggleable__content {max-height: 200px;max-width: 100%;overflow: auto;}#sk-container-id-9 input.sk-toggleable__control:checked~label.sk-toggleable__label-arrow:before {content: \"▾\";}#sk-container-id-9 div.sk-estimator input.sk-toggleable__control:checked~label.sk-toggleable__label {background-color: #d4ebff;}#sk-container-id-9 div.sk-label input.sk-toggleable__control:checked~label.sk-toggleable__label {background-color: #d4ebff;}#sk-container-id-9 input.sk-hidden--visually {border: 0;clip: rect(1px 1px 1px 1px);clip: rect(1px, 1px, 1px, 1px);height: 1px;margin: -1px;overflow: hidden;padding: 0;position: absolute;width: 1px;}#sk-container-id-9 div.sk-estimator {font-family: monospace;background-color: #f0f8ff;border: 1px dotted black;border-radius: 0.25em;box-sizing: border-box;margin-bottom: 0.5em;}#sk-container-id-9 div.sk-estimator:hover {background-color: #d4ebff;}#sk-container-id-9 div.sk-parallel-item::after {content: \"\";width: 100%;border-bottom: 1px solid gray;flex-grow: 1;}#sk-container-id-9 div.sk-label:hover label.sk-toggleable__label {background-color: #d4ebff;}#sk-container-id-9 div.sk-serial::before {content: \"\";position: absolute;border-left: 1px solid gray;box-sizing: border-box;top: 0;bottom: 0;left: 50%;z-index: 0;}#sk-container-id-9 div.sk-serial {display: flex;flex-direction: column;align-items: center;background-color: white;padding-right: 0.2em;padding-left: 0.2em;position: relative;}#sk-container-id-9 div.sk-item {position: relative;z-index: 1;}#sk-container-id-9 div.sk-parallel {display: flex;align-items: stretch;justify-content: center;background-color: white;position: relative;}#sk-container-id-9 div.sk-item::before, #sk-container-id-9 div.sk-parallel-item::before {content: \"\";position: absolute;border-left: 1px solid gray;box-sizing: border-box;top: 0;bottom: 0;left: 50%;z-index: -1;}#sk-container-id-9 div.sk-parallel-item {display: flex;flex-direction: column;z-index: 1;position: relative;background-color: white;}#sk-container-id-9 div.sk-parallel-item:first-child::after {align-self: flex-end;width: 50%;}#sk-container-id-9 div.sk-parallel-item:last-child::after {align-self: flex-start;width: 50%;}#sk-container-id-9 div.sk-parallel-item:only-child::after {width: 0;}#sk-container-id-9 div.sk-dashed-wrapped {border: 1px dashed gray;margin: 0 0.4em 0.5em 0.4em;box-sizing: border-box;padding-bottom: 0.4em;background-color: white;}#sk-container-id-9 div.sk-label label {font-family: monospace;font-weight: bold;display: inline-block;line-height: 1.2em;}#sk-container-id-9 div.sk-label-container {text-align: center;}#sk-container-id-9 div.sk-container {/* jupyter's `normalize.less` sets `[hidden] { display: none; }` but bootstrap.min.css set `[hidden] { display: none !important; }` so we also need the `!important` here to be able to override the default hidden behavior on the sphinx rendered scikit-learn.org. See: https://github.com/scikit-learn/scikit-learn/issues/21755 */display: inline-block !important;position: relative;}#sk-container-id-9 div.sk-text-repr-fallback {display: none;}</style><div id=\"sk-container-id-9\" class=\"sk-top-container\"><div class=\"sk-text-repr-fallback\"><pre>GridSearchCV(estimator=KNeighborsClassifier(),\n",
       "             param_grid={&#x27;leaf_size&#x27;: [1, 2, 3], &#x27;n_neighbors&#x27;: [1, 2, 3],\n",
       "                         &#x27;weights&#x27;: [&#x27;uniform&#x27;, &#x27;distance&#x27;]})</pre><b>In a Jupyter environment, please rerun this cell to show the HTML representation or trust the notebook. <br />On GitHub, the HTML representation is unable to render, please try loading this page with nbviewer.org.</b></div><div class=\"sk-container\" hidden><div class=\"sk-item sk-dashed-wrapped\"><div class=\"sk-label-container\"><div class=\"sk-label sk-toggleable\"><input class=\"sk-toggleable__control sk-hidden--visually\" id=\"sk-estimator-id-25\" type=\"checkbox\" ><label for=\"sk-estimator-id-25\" class=\"sk-toggleable__label sk-toggleable__label-arrow\">GridSearchCV</label><div class=\"sk-toggleable__content\"><pre>GridSearchCV(estimator=KNeighborsClassifier(),\n",
       "             param_grid={&#x27;leaf_size&#x27;: [1, 2, 3], &#x27;n_neighbors&#x27;: [1, 2, 3],\n",
       "                         &#x27;weights&#x27;: [&#x27;uniform&#x27;, &#x27;distance&#x27;]})</pre></div></div></div><div class=\"sk-parallel\"><div class=\"sk-parallel-item\"><div class=\"sk-item\"><div class=\"sk-label-container\"><div class=\"sk-label sk-toggleable\"><input class=\"sk-toggleable__control sk-hidden--visually\" id=\"sk-estimator-id-26\" type=\"checkbox\" ><label for=\"sk-estimator-id-26\" class=\"sk-toggleable__label sk-toggleable__label-arrow\">estimator: KNeighborsClassifier</label><div class=\"sk-toggleable__content\"><pre>KNeighborsClassifier()</pre></div></div></div><div class=\"sk-serial\"><div class=\"sk-item\"><div class=\"sk-estimator sk-toggleable\"><input class=\"sk-toggleable__control sk-hidden--visually\" id=\"sk-estimator-id-27\" type=\"checkbox\" ><label for=\"sk-estimator-id-27\" class=\"sk-toggleable__label sk-toggleable__label-arrow\">KNeighborsClassifier</label><div class=\"sk-toggleable__content\"><pre>KNeighborsClassifier()</pre></div></div></div></div></div></div></div></div></div></div>"
      ],
      "text/plain": [
       "GridSearchCV(estimator=KNeighborsClassifier(),\n",
       "             param_grid={'leaf_size': [1, 2, 3], 'n_neighbors': [1, 2, 3],\n",
       "                         'weights': ['uniform', 'distance']})"
      ]
     },
     "execution_count": 82,
     "metadata": {},
     "output_type": "execute_result"
    }
   ],
   "source": [
    "kn_grid.fit(X_train_W2V, y_train)\n"
   ]
  },
  {
   "cell_type": "code",
   "execution_count": 83,
   "metadata": {},
   "outputs": [
    {
     "data": {
      "text/html": [
       "<style>#sk-container-id-10 {color: black;background-color: white;}#sk-container-id-10 pre{padding: 0;}#sk-container-id-10 div.sk-toggleable {background-color: white;}#sk-container-id-10 label.sk-toggleable__label {cursor: pointer;display: block;width: 100%;margin-bottom: 0;padding: 0.3em;box-sizing: border-box;text-align: center;}#sk-container-id-10 label.sk-toggleable__label-arrow:before {content: \"▸\";float: left;margin-right: 0.25em;color: #696969;}#sk-container-id-10 label.sk-toggleable__label-arrow:hover:before {color: black;}#sk-container-id-10 div.sk-estimator:hover label.sk-toggleable__label-arrow:before {color: black;}#sk-container-id-10 div.sk-toggleable__content {max-height: 0;max-width: 0;overflow: hidden;text-align: left;background-color: #f0f8ff;}#sk-container-id-10 div.sk-toggleable__content pre {margin: 0.2em;color: black;border-radius: 0.25em;background-color: #f0f8ff;}#sk-container-id-10 input.sk-toggleable__control:checked~div.sk-toggleable__content {max-height: 200px;max-width: 100%;overflow: auto;}#sk-container-id-10 input.sk-toggleable__control:checked~label.sk-toggleable__label-arrow:before {content: \"▾\";}#sk-container-id-10 div.sk-estimator input.sk-toggleable__control:checked~label.sk-toggleable__label {background-color: #d4ebff;}#sk-container-id-10 div.sk-label input.sk-toggleable__control:checked~label.sk-toggleable__label {background-color: #d4ebff;}#sk-container-id-10 input.sk-hidden--visually {border: 0;clip: rect(1px 1px 1px 1px);clip: rect(1px, 1px, 1px, 1px);height: 1px;margin: -1px;overflow: hidden;padding: 0;position: absolute;width: 1px;}#sk-container-id-10 div.sk-estimator {font-family: monospace;background-color: #f0f8ff;border: 1px dotted black;border-radius: 0.25em;box-sizing: border-box;margin-bottom: 0.5em;}#sk-container-id-10 div.sk-estimator:hover {background-color: #d4ebff;}#sk-container-id-10 div.sk-parallel-item::after {content: \"\";width: 100%;border-bottom: 1px solid gray;flex-grow: 1;}#sk-container-id-10 div.sk-label:hover label.sk-toggleable__label {background-color: #d4ebff;}#sk-container-id-10 div.sk-serial::before {content: \"\";position: absolute;border-left: 1px solid gray;box-sizing: border-box;top: 0;bottom: 0;left: 50%;z-index: 0;}#sk-container-id-10 div.sk-serial {display: flex;flex-direction: column;align-items: center;background-color: white;padding-right: 0.2em;padding-left: 0.2em;position: relative;}#sk-container-id-10 div.sk-item {position: relative;z-index: 1;}#sk-container-id-10 div.sk-parallel {display: flex;align-items: stretch;justify-content: center;background-color: white;position: relative;}#sk-container-id-10 div.sk-item::before, #sk-container-id-10 div.sk-parallel-item::before {content: \"\";position: absolute;border-left: 1px solid gray;box-sizing: border-box;top: 0;bottom: 0;left: 50%;z-index: -1;}#sk-container-id-10 div.sk-parallel-item {display: flex;flex-direction: column;z-index: 1;position: relative;background-color: white;}#sk-container-id-10 div.sk-parallel-item:first-child::after {align-self: flex-end;width: 50%;}#sk-container-id-10 div.sk-parallel-item:last-child::after {align-self: flex-start;width: 50%;}#sk-container-id-10 div.sk-parallel-item:only-child::after {width: 0;}#sk-container-id-10 div.sk-dashed-wrapped {border: 1px dashed gray;margin: 0 0.4em 0.5em 0.4em;box-sizing: border-box;padding-bottom: 0.4em;background-color: white;}#sk-container-id-10 div.sk-label label {font-family: monospace;font-weight: bold;display: inline-block;line-height: 1.2em;}#sk-container-id-10 div.sk-label-container {text-align: center;}#sk-container-id-10 div.sk-container {/* jupyter's `normalize.less` sets `[hidden] { display: none; }` but bootstrap.min.css set `[hidden] { display: none !important; }` so we also need the `!important` here to be able to override the default hidden behavior on the sphinx rendered scikit-learn.org. See: https://github.com/scikit-learn/scikit-learn/issues/21755 */display: inline-block !important;position: relative;}#sk-container-id-10 div.sk-text-repr-fallback {display: none;}</style><div id=\"sk-container-id-10\" class=\"sk-top-container\"><div class=\"sk-text-repr-fallback\"><pre>GridSearchCV(estimator=KNeighborsClassifier(),\n",
       "             param_grid={&#x27;leaf_size&#x27;: [1, 2, 3], &#x27;n_neighbors&#x27;: [1, 2, 3],\n",
       "                         &#x27;weights&#x27;: [&#x27;uniform&#x27;, &#x27;distance&#x27;]})</pre><b>In a Jupyter environment, please rerun this cell to show the HTML representation or trust the notebook. <br />On GitHub, the HTML representation is unable to render, please try loading this page with nbviewer.org.</b></div><div class=\"sk-container\" hidden><div class=\"sk-item sk-dashed-wrapped\"><div class=\"sk-label-container\"><div class=\"sk-label sk-toggleable\"><input class=\"sk-toggleable__control sk-hidden--visually\" id=\"sk-estimator-id-28\" type=\"checkbox\" ><label for=\"sk-estimator-id-28\" class=\"sk-toggleable__label sk-toggleable__label-arrow\">GridSearchCV</label><div class=\"sk-toggleable__content\"><pre>GridSearchCV(estimator=KNeighborsClassifier(),\n",
       "             param_grid={&#x27;leaf_size&#x27;: [1, 2, 3], &#x27;n_neighbors&#x27;: [1, 2, 3],\n",
       "                         &#x27;weights&#x27;: [&#x27;uniform&#x27;, &#x27;distance&#x27;]})</pre></div></div></div><div class=\"sk-parallel\"><div class=\"sk-parallel-item\"><div class=\"sk-item\"><div class=\"sk-label-container\"><div class=\"sk-label sk-toggleable\"><input class=\"sk-toggleable__control sk-hidden--visually\" id=\"sk-estimator-id-29\" type=\"checkbox\" ><label for=\"sk-estimator-id-29\" class=\"sk-toggleable__label sk-toggleable__label-arrow\">estimator: KNeighborsClassifier</label><div class=\"sk-toggleable__content\"><pre>KNeighborsClassifier()</pre></div></div></div><div class=\"sk-serial\"><div class=\"sk-item\"><div class=\"sk-estimator sk-toggleable\"><input class=\"sk-toggleable__control sk-hidden--visually\" id=\"sk-estimator-id-30\" type=\"checkbox\" ><label for=\"sk-estimator-id-30\" class=\"sk-toggleable__label sk-toggleable__label-arrow\">KNeighborsClassifier</label><div class=\"sk-toggleable__content\"><pre>KNeighborsClassifier()</pre></div></div></div></div></div></div></div></div></div></div>"
      ],
      "text/plain": [
       "GridSearchCV(estimator=KNeighborsClassifier(),\n",
       "             param_grid={'leaf_size': [1, 2, 3], 'n_neighbors': [1, 2, 3],\n",
       "                         'weights': ['uniform', 'distance']})"
      ]
     },
     "execution_count": 83,
     "metadata": {},
     "output_type": "execute_result"
    }
   ],
   "source": [
    "kn_grid_merged.fit(X_train_merged_W2V, y_train_merged)"
   ]
  },
  {
   "cell_type": "code",
   "execution_count": 84,
   "metadata": {},
   "outputs": [
    {
     "name": "stdout",
     "output_type": "stream",
     "text": [
      "Train Accuracy : 0.985\n",
      "Test Accuracy : 0.294\n",
      "Merged Train Accuracy : 0.981\n",
      "Merged Test Accuracy : 0.528\n",
      "Best Accuracy Through Grid Search : 0.398\n",
      "Merged Best Accuracy Through Grid Search : 0.363\n",
      "Best Parameters :  {'leaf_size': 1, 'n_neighbors': 2, 'weights': 'distance'}\n",
      "Merged Best Parameters :  {'leaf_size': 1, 'n_neighbors': 2, 'weights': 'distance'}\n"
     ]
    }
   ],
   "source": [
    "print('Train Accuracy : %.3f'%kn_grid.best_estimator_.score(X_train_W2V, y_train))\n",
    "print('Test Accuracy : %.3f'%kn_grid.best_estimator_.score(X_test_W2V, y_test))\n",
    "print('Merged Train Accuracy : %.3f'%kn_grid_merged.best_estimator_.score(X_train_merged_W2V, y_train_merged))\n",
    "print('Merged Test Accuracy : %.3f'%kn_grid_merged.best_estimator_.score(X_test_merged_W2V, y_test_merged))\n",
    "print('Best Accuracy Through Grid Search : %.3f'%kn_grid.best_score_)\n",
    "print('Merged Best Accuracy Through Grid Search : %.3f'%kn_grid_merged.best_score_)\n",
    "print('Best Parameters : ',kn_grid.best_params_)\n",
    "print('Merged Best Parameters : ',kn_grid_merged.best_params_)"
   ]
  },
  {
   "cell_type": "markdown",
   "metadata": {},
   "source": [
    "### Hyperparameter tuning Random Forests"
   ]
  },
  {
   "cell_type": "code",
   "execution_count": 85,
   "metadata": {},
   "outputs": [],
   "source": [
    "# Hyperparameters to tune for Random Forest\n",
    "params_rf = {\n",
    "    'n_estimators': [120, 130, 140, 150],            # Number of trees in the forest\n",
    "    'min_samples_split': [6, 7, 8, 9, 10],           # Minimum number of samples required to split an internal node\n",
    "    'max_features': ['auto', 'sqrt', 'log2'],  # Number of features to consider for the best split\n",
    "    'bootstrap': [True, False],                # Whether to bootstrap samples\n",
    "    'random_state': [42]                       # Random seed for reproducibility\n",
    "}"
   ]
  },
  {
   "cell_type": "code",
   "execution_count": 86,
   "metadata": {},
   "outputs": [],
   "source": [
    "rf_grid = GridSearchCV(estimator=model_rf, param_grid=params_rf)"
   ]
  },
  {
   "cell_type": "code",
   "execution_count": 87,
   "metadata": {},
   "outputs": [],
   "source": [
    "rf_grid_merged = GridSearchCV(estimator=model_rf, param_grid=params_rf)"
   ]
  },
  {
   "cell_type": "code",
   "execution_count": 88,
   "metadata": {},
   "outputs": [
    {
     "data": {
      "text/html": [
       "<style>#sk-container-id-11 {color: black;background-color: white;}#sk-container-id-11 pre{padding: 0;}#sk-container-id-11 div.sk-toggleable {background-color: white;}#sk-container-id-11 label.sk-toggleable__label {cursor: pointer;display: block;width: 100%;margin-bottom: 0;padding: 0.3em;box-sizing: border-box;text-align: center;}#sk-container-id-11 label.sk-toggleable__label-arrow:before {content: \"▸\";float: left;margin-right: 0.25em;color: #696969;}#sk-container-id-11 label.sk-toggleable__label-arrow:hover:before {color: black;}#sk-container-id-11 div.sk-estimator:hover label.sk-toggleable__label-arrow:before {color: black;}#sk-container-id-11 div.sk-toggleable__content {max-height: 0;max-width: 0;overflow: hidden;text-align: left;background-color: #f0f8ff;}#sk-container-id-11 div.sk-toggleable__content pre {margin: 0.2em;color: black;border-radius: 0.25em;background-color: #f0f8ff;}#sk-container-id-11 input.sk-toggleable__control:checked~div.sk-toggleable__content {max-height: 200px;max-width: 100%;overflow: auto;}#sk-container-id-11 input.sk-toggleable__control:checked~label.sk-toggleable__label-arrow:before {content: \"▾\";}#sk-container-id-11 div.sk-estimator input.sk-toggleable__control:checked~label.sk-toggleable__label {background-color: #d4ebff;}#sk-container-id-11 div.sk-label input.sk-toggleable__control:checked~label.sk-toggleable__label {background-color: #d4ebff;}#sk-container-id-11 input.sk-hidden--visually {border: 0;clip: rect(1px 1px 1px 1px);clip: rect(1px, 1px, 1px, 1px);height: 1px;margin: -1px;overflow: hidden;padding: 0;position: absolute;width: 1px;}#sk-container-id-11 div.sk-estimator {font-family: monospace;background-color: #f0f8ff;border: 1px dotted black;border-radius: 0.25em;box-sizing: border-box;margin-bottom: 0.5em;}#sk-container-id-11 div.sk-estimator:hover {background-color: #d4ebff;}#sk-container-id-11 div.sk-parallel-item::after {content: \"\";width: 100%;border-bottom: 1px solid gray;flex-grow: 1;}#sk-container-id-11 div.sk-label:hover label.sk-toggleable__label {background-color: #d4ebff;}#sk-container-id-11 div.sk-serial::before {content: \"\";position: absolute;border-left: 1px solid gray;box-sizing: border-box;top: 0;bottom: 0;left: 50%;z-index: 0;}#sk-container-id-11 div.sk-serial {display: flex;flex-direction: column;align-items: center;background-color: white;padding-right: 0.2em;padding-left: 0.2em;position: relative;}#sk-container-id-11 div.sk-item {position: relative;z-index: 1;}#sk-container-id-11 div.sk-parallel {display: flex;align-items: stretch;justify-content: center;background-color: white;position: relative;}#sk-container-id-11 div.sk-item::before, #sk-container-id-11 div.sk-parallel-item::before {content: \"\";position: absolute;border-left: 1px solid gray;box-sizing: border-box;top: 0;bottom: 0;left: 50%;z-index: -1;}#sk-container-id-11 div.sk-parallel-item {display: flex;flex-direction: column;z-index: 1;position: relative;background-color: white;}#sk-container-id-11 div.sk-parallel-item:first-child::after {align-self: flex-end;width: 50%;}#sk-container-id-11 div.sk-parallel-item:last-child::after {align-self: flex-start;width: 50%;}#sk-container-id-11 div.sk-parallel-item:only-child::after {width: 0;}#sk-container-id-11 div.sk-dashed-wrapped {border: 1px dashed gray;margin: 0 0.4em 0.5em 0.4em;box-sizing: border-box;padding-bottom: 0.4em;background-color: white;}#sk-container-id-11 div.sk-label label {font-family: monospace;font-weight: bold;display: inline-block;line-height: 1.2em;}#sk-container-id-11 div.sk-label-container {text-align: center;}#sk-container-id-11 div.sk-container {/* jupyter's `normalize.less` sets `[hidden] { display: none; }` but bootstrap.min.css set `[hidden] { display: none !important; }` so we also need the `!important` here to be able to override the default hidden behavior on the sphinx rendered scikit-learn.org. See: https://github.com/scikit-learn/scikit-learn/issues/21755 */display: inline-block !important;position: relative;}#sk-container-id-11 div.sk-text-repr-fallback {display: none;}</style><div id=\"sk-container-id-11\" class=\"sk-top-container\"><div class=\"sk-text-repr-fallback\"><pre>GridSearchCV(estimator=RandomForestClassifier(),\n",
       "             param_grid={&#x27;bootstrap&#x27;: [True, False],\n",
       "                         &#x27;max_features&#x27;: [&#x27;auto&#x27;, &#x27;sqrt&#x27;, &#x27;log2&#x27;],\n",
       "                         &#x27;min_samples_split&#x27;: [6, 7, 8, 9, 10],\n",
       "                         &#x27;n_estimators&#x27;: [120, 130, 140, 150],\n",
       "                         &#x27;random_state&#x27;: [42]})</pre><b>In a Jupyter environment, please rerun this cell to show the HTML representation or trust the notebook. <br />On GitHub, the HTML representation is unable to render, please try loading this page with nbviewer.org.</b></div><div class=\"sk-container\" hidden><div class=\"sk-item sk-dashed-wrapped\"><div class=\"sk-label-container\"><div class=\"sk-label sk-toggleable\"><input class=\"sk-toggleable__control sk-hidden--visually\" id=\"sk-estimator-id-31\" type=\"checkbox\" ><label for=\"sk-estimator-id-31\" class=\"sk-toggleable__label sk-toggleable__label-arrow\">GridSearchCV</label><div class=\"sk-toggleable__content\"><pre>GridSearchCV(estimator=RandomForestClassifier(),\n",
       "             param_grid={&#x27;bootstrap&#x27;: [True, False],\n",
       "                         &#x27;max_features&#x27;: [&#x27;auto&#x27;, &#x27;sqrt&#x27;, &#x27;log2&#x27;],\n",
       "                         &#x27;min_samples_split&#x27;: [6, 7, 8, 9, 10],\n",
       "                         &#x27;n_estimators&#x27;: [120, 130, 140, 150],\n",
       "                         &#x27;random_state&#x27;: [42]})</pre></div></div></div><div class=\"sk-parallel\"><div class=\"sk-parallel-item\"><div class=\"sk-item\"><div class=\"sk-label-container\"><div class=\"sk-label sk-toggleable\"><input class=\"sk-toggleable__control sk-hidden--visually\" id=\"sk-estimator-id-32\" type=\"checkbox\" ><label for=\"sk-estimator-id-32\" class=\"sk-toggleable__label sk-toggleable__label-arrow\">estimator: RandomForestClassifier</label><div class=\"sk-toggleable__content\"><pre>RandomForestClassifier()</pre></div></div></div><div class=\"sk-serial\"><div class=\"sk-item\"><div class=\"sk-estimator sk-toggleable\"><input class=\"sk-toggleable__control sk-hidden--visually\" id=\"sk-estimator-id-33\" type=\"checkbox\" ><label for=\"sk-estimator-id-33\" class=\"sk-toggleable__label sk-toggleable__label-arrow\">RandomForestClassifier</label><div class=\"sk-toggleable__content\"><pre>RandomForestClassifier()</pre></div></div></div></div></div></div></div></div></div></div>"
      ],
      "text/plain": [
       "GridSearchCV(estimator=RandomForestClassifier(),\n",
       "             param_grid={'bootstrap': [True, False],\n",
       "                         'max_features': ['auto', 'sqrt', 'log2'],\n",
       "                         'min_samples_split': [6, 7, 8, 9, 10],\n",
       "                         'n_estimators': [120, 130, 140, 150],\n",
       "                         'random_state': [42]})"
      ]
     },
     "execution_count": 88,
     "metadata": {},
     "output_type": "execute_result"
    }
   ],
   "source": [
    "rf_grid.fit(X_train_W2V, y_train)\n"
   ]
  },
  {
   "cell_type": "code",
   "execution_count": 89,
   "metadata": {},
   "outputs": [
    {
     "data": {
      "text/html": [
       "<style>#sk-container-id-12 {color: black;background-color: white;}#sk-container-id-12 pre{padding: 0;}#sk-container-id-12 div.sk-toggleable {background-color: white;}#sk-container-id-12 label.sk-toggleable__label {cursor: pointer;display: block;width: 100%;margin-bottom: 0;padding: 0.3em;box-sizing: border-box;text-align: center;}#sk-container-id-12 label.sk-toggleable__label-arrow:before {content: \"▸\";float: left;margin-right: 0.25em;color: #696969;}#sk-container-id-12 label.sk-toggleable__label-arrow:hover:before {color: black;}#sk-container-id-12 div.sk-estimator:hover label.sk-toggleable__label-arrow:before {color: black;}#sk-container-id-12 div.sk-toggleable__content {max-height: 0;max-width: 0;overflow: hidden;text-align: left;background-color: #f0f8ff;}#sk-container-id-12 div.sk-toggleable__content pre {margin: 0.2em;color: black;border-radius: 0.25em;background-color: #f0f8ff;}#sk-container-id-12 input.sk-toggleable__control:checked~div.sk-toggleable__content {max-height: 200px;max-width: 100%;overflow: auto;}#sk-container-id-12 input.sk-toggleable__control:checked~label.sk-toggleable__label-arrow:before {content: \"▾\";}#sk-container-id-12 div.sk-estimator input.sk-toggleable__control:checked~label.sk-toggleable__label {background-color: #d4ebff;}#sk-container-id-12 div.sk-label input.sk-toggleable__control:checked~label.sk-toggleable__label {background-color: #d4ebff;}#sk-container-id-12 input.sk-hidden--visually {border: 0;clip: rect(1px 1px 1px 1px);clip: rect(1px, 1px, 1px, 1px);height: 1px;margin: -1px;overflow: hidden;padding: 0;position: absolute;width: 1px;}#sk-container-id-12 div.sk-estimator {font-family: monospace;background-color: #f0f8ff;border: 1px dotted black;border-radius: 0.25em;box-sizing: border-box;margin-bottom: 0.5em;}#sk-container-id-12 div.sk-estimator:hover {background-color: #d4ebff;}#sk-container-id-12 div.sk-parallel-item::after {content: \"\";width: 100%;border-bottom: 1px solid gray;flex-grow: 1;}#sk-container-id-12 div.sk-label:hover label.sk-toggleable__label {background-color: #d4ebff;}#sk-container-id-12 div.sk-serial::before {content: \"\";position: absolute;border-left: 1px solid gray;box-sizing: border-box;top: 0;bottom: 0;left: 50%;z-index: 0;}#sk-container-id-12 div.sk-serial {display: flex;flex-direction: column;align-items: center;background-color: white;padding-right: 0.2em;padding-left: 0.2em;position: relative;}#sk-container-id-12 div.sk-item {position: relative;z-index: 1;}#sk-container-id-12 div.sk-parallel {display: flex;align-items: stretch;justify-content: center;background-color: white;position: relative;}#sk-container-id-12 div.sk-item::before, #sk-container-id-12 div.sk-parallel-item::before {content: \"\";position: absolute;border-left: 1px solid gray;box-sizing: border-box;top: 0;bottom: 0;left: 50%;z-index: -1;}#sk-container-id-12 div.sk-parallel-item {display: flex;flex-direction: column;z-index: 1;position: relative;background-color: white;}#sk-container-id-12 div.sk-parallel-item:first-child::after {align-self: flex-end;width: 50%;}#sk-container-id-12 div.sk-parallel-item:last-child::after {align-self: flex-start;width: 50%;}#sk-container-id-12 div.sk-parallel-item:only-child::after {width: 0;}#sk-container-id-12 div.sk-dashed-wrapped {border: 1px dashed gray;margin: 0 0.4em 0.5em 0.4em;box-sizing: border-box;padding-bottom: 0.4em;background-color: white;}#sk-container-id-12 div.sk-label label {font-family: monospace;font-weight: bold;display: inline-block;line-height: 1.2em;}#sk-container-id-12 div.sk-label-container {text-align: center;}#sk-container-id-12 div.sk-container {/* jupyter's `normalize.less` sets `[hidden] { display: none; }` but bootstrap.min.css set `[hidden] { display: none !important; }` so we also need the `!important` here to be able to override the default hidden behavior on the sphinx rendered scikit-learn.org. See: https://github.com/scikit-learn/scikit-learn/issues/21755 */display: inline-block !important;position: relative;}#sk-container-id-12 div.sk-text-repr-fallback {display: none;}</style><div id=\"sk-container-id-12\" class=\"sk-top-container\"><div class=\"sk-text-repr-fallback\"><pre>GridSearchCV(estimator=RandomForestClassifier(),\n",
       "             param_grid={&#x27;bootstrap&#x27;: [True, False],\n",
       "                         &#x27;max_features&#x27;: [&#x27;auto&#x27;, &#x27;sqrt&#x27;, &#x27;log2&#x27;],\n",
       "                         &#x27;min_samples_split&#x27;: [6, 7, 8, 9, 10],\n",
       "                         &#x27;n_estimators&#x27;: [120, 130, 140, 150],\n",
       "                         &#x27;random_state&#x27;: [42]})</pre><b>In a Jupyter environment, please rerun this cell to show the HTML representation or trust the notebook. <br />On GitHub, the HTML representation is unable to render, please try loading this page with nbviewer.org.</b></div><div class=\"sk-container\" hidden><div class=\"sk-item sk-dashed-wrapped\"><div class=\"sk-label-container\"><div class=\"sk-label sk-toggleable\"><input class=\"sk-toggleable__control sk-hidden--visually\" id=\"sk-estimator-id-34\" type=\"checkbox\" ><label for=\"sk-estimator-id-34\" class=\"sk-toggleable__label sk-toggleable__label-arrow\">GridSearchCV</label><div class=\"sk-toggleable__content\"><pre>GridSearchCV(estimator=RandomForestClassifier(),\n",
       "             param_grid={&#x27;bootstrap&#x27;: [True, False],\n",
       "                         &#x27;max_features&#x27;: [&#x27;auto&#x27;, &#x27;sqrt&#x27;, &#x27;log2&#x27;],\n",
       "                         &#x27;min_samples_split&#x27;: [6, 7, 8, 9, 10],\n",
       "                         &#x27;n_estimators&#x27;: [120, 130, 140, 150],\n",
       "                         &#x27;random_state&#x27;: [42]})</pre></div></div></div><div class=\"sk-parallel\"><div class=\"sk-parallel-item\"><div class=\"sk-item\"><div class=\"sk-label-container\"><div class=\"sk-label sk-toggleable\"><input class=\"sk-toggleable__control sk-hidden--visually\" id=\"sk-estimator-id-35\" type=\"checkbox\" ><label for=\"sk-estimator-id-35\" class=\"sk-toggleable__label sk-toggleable__label-arrow\">estimator: RandomForestClassifier</label><div class=\"sk-toggleable__content\"><pre>RandomForestClassifier()</pre></div></div></div><div class=\"sk-serial\"><div class=\"sk-item\"><div class=\"sk-estimator sk-toggleable\"><input class=\"sk-toggleable__control sk-hidden--visually\" id=\"sk-estimator-id-36\" type=\"checkbox\" ><label for=\"sk-estimator-id-36\" class=\"sk-toggleable__label sk-toggleable__label-arrow\">RandomForestClassifier</label><div class=\"sk-toggleable__content\"><pre>RandomForestClassifier()</pre></div></div></div></div></div></div></div></div></div></div>"
      ],
      "text/plain": [
       "GridSearchCV(estimator=RandomForestClassifier(),\n",
       "             param_grid={'bootstrap': [True, False],\n",
       "                         'max_features': ['auto', 'sqrt', 'log2'],\n",
       "                         'min_samples_split': [6, 7, 8, 9, 10],\n",
       "                         'n_estimators': [120, 130, 140, 150],\n",
       "                         'random_state': [42]})"
      ]
     },
     "execution_count": 89,
     "metadata": {},
     "output_type": "execute_result"
    }
   ],
   "source": [
    "rf_grid_merged.fit(X_train_merged_W2V, y_train_merged)\n"
   ]
  },
  {
   "cell_type": "code",
   "execution_count": 90,
   "metadata": {},
   "outputs": [
    {
     "name": "stdout",
     "output_type": "stream",
     "text": [
      "Train Accuracy : 0.985\n",
      "Test Accuracy : 0.294\n",
      "Merged Train Accuracy : 0.981\n",
      "Merged Test Accuracy : 0.491\n",
      "Best Accuracy Through Grid Search : 0.368\n",
      "Merged Best Accuracy Through Grid Search : 0.400\n",
      "Best Parameters :  {'bootstrap': False, 'max_features': 'log2', 'min_samples_split': 6, 'n_estimators': 120, 'random_state': 42}\n",
      "Merged Best Parameters :  {'bootstrap': False, 'max_features': 'log2', 'min_samples_split': 7, 'n_estimators': 130, 'random_state': 42}\n"
     ]
    }
   ],
   "source": [
    "print('Train Accuracy : %.3f'%rf_grid.best_estimator_.score(X_train_W2V, y_train))\n",
    "print('Test Accuracy : %.3f'%rf_grid.best_estimator_.score(X_test_W2V, y_test))\n",
    "print('Merged Train Accuracy : %.3f'%rf_grid_merged.best_estimator_.score(X_train_merged_W2V, y_train_merged))\n",
    "print('Merged Test Accuracy : %.3f'%rf_grid_merged.best_estimator_.score(X_test_merged_W2V, y_test_merged))\n",
    "print('Best Accuracy Through Grid Search : %.3f'%rf_grid.best_score_)\n",
    "print('Merged Best Accuracy Through Grid Search : %.3f'%rf_grid_merged.best_score_)\n",
    "print('Best Parameters : ',rf_grid.best_params_)\n",
    "print('Merged Best Parameters : ',rf_grid_merged.best_params_)"
   ]
  },
  {
   "cell_type": "markdown",
   "metadata": {},
   "source": [
    "## Hyperparameter Tuning TFIDF pipelines"
   ]
  },
  {
   "cell_type": "markdown",
   "metadata": {},
   "source": [
    "### Logistic Regression"
   ]
  },
  {
   "cell_type": "code",
   "execution_count": 91,
   "metadata": {},
   "outputs": [],
   "source": [
    "# make pipeline for LogisticRegression\n",
    "tuning_lg = Pipeline([\n",
    "    ('tfidf', TfidfVectorizer()),\n",
    "    ('lg', LogisticRegression())\n",
    "])"
   ]
  },
  {
   "cell_type": "code",
   "execution_count": 92,
   "metadata": {},
   "outputs": [],
   "source": [
    "params_lg_tf = {'lg__penalty': ['l1', 'l2', 'elasticnet', 'none' ],\n",
    "          'lg__C': [0.01, 0.1, 0.3, 0.5, 1.0,],\n",
    "          'lg__solver': ['lbfgs', 'newton-cg', 'sag', 'saga'], # List of compatible solver for multi_class = multinomial\n",
    "          'lg__random_state': [42]\n",
    "         }"
   ]
  },
  {
   "cell_type": "code",
   "execution_count": 93,
   "metadata": {},
   "outputs": [],
   "source": [
    "lg_tf_grid = GridSearchCV(estimator=tuning_lg, param_grid=params_lg_tf)\n",
    "lg_tf_grid_merged = GridSearchCV(estimator=tuning_lg, param_grid=params_lg_tf)"
   ]
  },
  {
   "cell_type": "code",
   "execution_count": 94,
   "metadata": {},
   "outputs": [
    {
     "data": {
      "text/html": [
       "<style>#sk-container-id-13 {color: black;background-color: white;}#sk-container-id-13 pre{padding: 0;}#sk-container-id-13 div.sk-toggleable {background-color: white;}#sk-container-id-13 label.sk-toggleable__label {cursor: pointer;display: block;width: 100%;margin-bottom: 0;padding: 0.3em;box-sizing: border-box;text-align: center;}#sk-container-id-13 label.sk-toggleable__label-arrow:before {content: \"▸\";float: left;margin-right: 0.25em;color: #696969;}#sk-container-id-13 label.sk-toggleable__label-arrow:hover:before {color: black;}#sk-container-id-13 div.sk-estimator:hover label.sk-toggleable__label-arrow:before {color: black;}#sk-container-id-13 div.sk-toggleable__content {max-height: 0;max-width: 0;overflow: hidden;text-align: left;background-color: #f0f8ff;}#sk-container-id-13 div.sk-toggleable__content pre {margin: 0.2em;color: black;border-radius: 0.25em;background-color: #f0f8ff;}#sk-container-id-13 input.sk-toggleable__control:checked~div.sk-toggleable__content {max-height: 200px;max-width: 100%;overflow: auto;}#sk-container-id-13 input.sk-toggleable__control:checked~label.sk-toggleable__label-arrow:before {content: \"▾\";}#sk-container-id-13 div.sk-estimator input.sk-toggleable__control:checked~label.sk-toggleable__label {background-color: #d4ebff;}#sk-container-id-13 div.sk-label input.sk-toggleable__control:checked~label.sk-toggleable__label {background-color: #d4ebff;}#sk-container-id-13 input.sk-hidden--visually {border: 0;clip: rect(1px 1px 1px 1px);clip: rect(1px, 1px, 1px, 1px);height: 1px;margin: -1px;overflow: hidden;padding: 0;position: absolute;width: 1px;}#sk-container-id-13 div.sk-estimator {font-family: monospace;background-color: #f0f8ff;border: 1px dotted black;border-radius: 0.25em;box-sizing: border-box;margin-bottom: 0.5em;}#sk-container-id-13 div.sk-estimator:hover {background-color: #d4ebff;}#sk-container-id-13 div.sk-parallel-item::after {content: \"\";width: 100%;border-bottom: 1px solid gray;flex-grow: 1;}#sk-container-id-13 div.sk-label:hover label.sk-toggleable__label {background-color: #d4ebff;}#sk-container-id-13 div.sk-serial::before {content: \"\";position: absolute;border-left: 1px solid gray;box-sizing: border-box;top: 0;bottom: 0;left: 50%;z-index: 0;}#sk-container-id-13 div.sk-serial {display: flex;flex-direction: column;align-items: center;background-color: white;padding-right: 0.2em;padding-left: 0.2em;position: relative;}#sk-container-id-13 div.sk-item {position: relative;z-index: 1;}#sk-container-id-13 div.sk-parallel {display: flex;align-items: stretch;justify-content: center;background-color: white;position: relative;}#sk-container-id-13 div.sk-item::before, #sk-container-id-13 div.sk-parallel-item::before {content: \"\";position: absolute;border-left: 1px solid gray;box-sizing: border-box;top: 0;bottom: 0;left: 50%;z-index: -1;}#sk-container-id-13 div.sk-parallel-item {display: flex;flex-direction: column;z-index: 1;position: relative;background-color: white;}#sk-container-id-13 div.sk-parallel-item:first-child::after {align-self: flex-end;width: 50%;}#sk-container-id-13 div.sk-parallel-item:last-child::after {align-self: flex-start;width: 50%;}#sk-container-id-13 div.sk-parallel-item:only-child::after {width: 0;}#sk-container-id-13 div.sk-dashed-wrapped {border: 1px dashed gray;margin: 0 0.4em 0.5em 0.4em;box-sizing: border-box;padding-bottom: 0.4em;background-color: white;}#sk-container-id-13 div.sk-label label {font-family: monospace;font-weight: bold;display: inline-block;line-height: 1.2em;}#sk-container-id-13 div.sk-label-container {text-align: center;}#sk-container-id-13 div.sk-container {/* jupyter's `normalize.less` sets `[hidden] { display: none; }` but bootstrap.min.css set `[hidden] { display: none !important; }` so we also need the `!important` here to be able to override the default hidden behavior on the sphinx rendered scikit-learn.org. See: https://github.com/scikit-learn/scikit-learn/issues/21755 */display: inline-block !important;position: relative;}#sk-container-id-13 div.sk-text-repr-fallback {display: none;}</style><div id=\"sk-container-id-13\" class=\"sk-top-container\"><div class=\"sk-text-repr-fallback\"><pre>GridSearchCV(estimator=Pipeline(steps=[(&#x27;tfidf&#x27;, TfidfVectorizer()),\n",
       "                                       (&#x27;lg&#x27;, LogisticRegression())]),\n",
       "             param_grid={&#x27;lg__C&#x27;: [0.01, 0.1, 0.3, 0.5, 1.0],\n",
       "                         &#x27;lg__penalty&#x27;: [&#x27;l1&#x27;, &#x27;l2&#x27;, &#x27;elasticnet&#x27;, &#x27;none&#x27;],\n",
       "                         &#x27;lg__random_state&#x27;: [42],\n",
       "                         &#x27;lg__solver&#x27;: [&#x27;lbfgs&#x27;, &#x27;newton-cg&#x27;, &#x27;sag&#x27;, &#x27;saga&#x27;]})</pre><b>In a Jupyter environment, please rerun this cell to show the HTML representation or trust the notebook. <br />On GitHub, the HTML representation is unable to render, please try loading this page with nbviewer.org.</b></div><div class=\"sk-container\" hidden><div class=\"sk-item sk-dashed-wrapped\"><div class=\"sk-label-container\"><div class=\"sk-label sk-toggleable\"><input class=\"sk-toggleable__control sk-hidden--visually\" id=\"sk-estimator-id-37\" type=\"checkbox\" ><label for=\"sk-estimator-id-37\" class=\"sk-toggleable__label sk-toggleable__label-arrow\">GridSearchCV</label><div class=\"sk-toggleable__content\"><pre>GridSearchCV(estimator=Pipeline(steps=[(&#x27;tfidf&#x27;, TfidfVectorizer()),\n",
       "                                       (&#x27;lg&#x27;, LogisticRegression())]),\n",
       "             param_grid={&#x27;lg__C&#x27;: [0.01, 0.1, 0.3, 0.5, 1.0],\n",
       "                         &#x27;lg__penalty&#x27;: [&#x27;l1&#x27;, &#x27;l2&#x27;, &#x27;elasticnet&#x27;, &#x27;none&#x27;],\n",
       "                         &#x27;lg__random_state&#x27;: [42],\n",
       "                         &#x27;lg__solver&#x27;: [&#x27;lbfgs&#x27;, &#x27;newton-cg&#x27;, &#x27;sag&#x27;, &#x27;saga&#x27;]})</pre></div></div></div><div class=\"sk-parallel\"><div class=\"sk-parallel-item\"><div class=\"sk-item\"><div class=\"sk-label-container\"><div class=\"sk-label sk-toggleable\"><input class=\"sk-toggleable__control sk-hidden--visually\" id=\"sk-estimator-id-38\" type=\"checkbox\" ><label for=\"sk-estimator-id-38\" class=\"sk-toggleable__label sk-toggleable__label-arrow\">estimator: Pipeline</label><div class=\"sk-toggleable__content\"><pre>Pipeline(steps=[(&#x27;tfidf&#x27;, TfidfVectorizer()), (&#x27;lg&#x27;, LogisticRegression())])</pre></div></div></div><div class=\"sk-serial\"><div class=\"sk-item\"><div class=\"sk-serial\"><div class=\"sk-item\"><div class=\"sk-estimator sk-toggleable\"><input class=\"sk-toggleable__control sk-hidden--visually\" id=\"sk-estimator-id-39\" type=\"checkbox\" ><label for=\"sk-estimator-id-39\" class=\"sk-toggleable__label sk-toggleable__label-arrow\">TfidfVectorizer</label><div class=\"sk-toggleable__content\"><pre>TfidfVectorizer()</pre></div></div></div><div class=\"sk-item\"><div class=\"sk-estimator sk-toggleable\"><input class=\"sk-toggleable__control sk-hidden--visually\" id=\"sk-estimator-id-40\" type=\"checkbox\" ><label for=\"sk-estimator-id-40\" class=\"sk-toggleable__label sk-toggleable__label-arrow\">LogisticRegression</label><div class=\"sk-toggleable__content\"><pre>LogisticRegression()</pre></div></div></div></div></div></div></div></div></div></div></div></div>"
      ],
      "text/plain": [
       "GridSearchCV(estimator=Pipeline(steps=[('tfidf', TfidfVectorizer()),\n",
       "                                       ('lg', LogisticRegression())]),\n",
       "             param_grid={'lg__C': [0.01, 0.1, 0.3, 0.5, 1.0],\n",
       "                         'lg__penalty': ['l1', 'l2', 'elasticnet', 'none'],\n",
       "                         'lg__random_state': [42],\n",
       "                         'lg__solver': ['lbfgs', 'newton-cg', 'sag', 'saga']})"
      ]
     },
     "execution_count": 94,
     "metadata": {},
     "output_type": "execute_result"
    }
   ],
   "source": [
    "lg_tf_grid.fit(X_train, y_train)\n"
   ]
  },
  {
   "cell_type": "code",
   "execution_count": 95,
   "metadata": {},
   "outputs": [
    {
     "data": {
      "text/html": [
       "<style>#sk-container-id-14 {color: black;background-color: white;}#sk-container-id-14 pre{padding: 0;}#sk-container-id-14 div.sk-toggleable {background-color: white;}#sk-container-id-14 label.sk-toggleable__label {cursor: pointer;display: block;width: 100%;margin-bottom: 0;padding: 0.3em;box-sizing: border-box;text-align: center;}#sk-container-id-14 label.sk-toggleable__label-arrow:before {content: \"▸\";float: left;margin-right: 0.25em;color: #696969;}#sk-container-id-14 label.sk-toggleable__label-arrow:hover:before {color: black;}#sk-container-id-14 div.sk-estimator:hover label.sk-toggleable__label-arrow:before {color: black;}#sk-container-id-14 div.sk-toggleable__content {max-height: 0;max-width: 0;overflow: hidden;text-align: left;background-color: #f0f8ff;}#sk-container-id-14 div.sk-toggleable__content pre {margin: 0.2em;color: black;border-radius: 0.25em;background-color: #f0f8ff;}#sk-container-id-14 input.sk-toggleable__control:checked~div.sk-toggleable__content {max-height: 200px;max-width: 100%;overflow: auto;}#sk-container-id-14 input.sk-toggleable__control:checked~label.sk-toggleable__label-arrow:before {content: \"▾\";}#sk-container-id-14 div.sk-estimator input.sk-toggleable__control:checked~label.sk-toggleable__label {background-color: #d4ebff;}#sk-container-id-14 div.sk-label input.sk-toggleable__control:checked~label.sk-toggleable__label {background-color: #d4ebff;}#sk-container-id-14 input.sk-hidden--visually {border: 0;clip: rect(1px 1px 1px 1px);clip: rect(1px, 1px, 1px, 1px);height: 1px;margin: -1px;overflow: hidden;padding: 0;position: absolute;width: 1px;}#sk-container-id-14 div.sk-estimator {font-family: monospace;background-color: #f0f8ff;border: 1px dotted black;border-radius: 0.25em;box-sizing: border-box;margin-bottom: 0.5em;}#sk-container-id-14 div.sk-estimator:hover {background-color: #d4ebff;}#sk-container-id-14 div.sk-parallel-item::after {content: \"\";width: 100%;border-bottom: 1px solid gray;flex-grow: 1;}#sk-container-id-14 div.sk-label:hover label.sk-toggleable__label {background-color: #d4ebff;}#sk-container-id-14 div.sk-serial::before {content: \"\";position: absolute;border-left: 1px solid gray;box-sizing: border-box;top: 0;bottom: 0;left: 50%;z-index: 0;}#sk-container-id-14 div.sk-serial {display: flex;flex-direction: column;align-items: center;background-color: white;padding-right: 0.2em;padding-left: 0.2em;position: relative;}#sk-container-id-14 div.sk-item {position: relative;z-index: 1;}#sk-container-id-14 div.sk-parallel {display: flex;align-items: stretch;justify-content: center;background-color: white;position: relative;}#sk-container-id-14 div.sk-item::before, #sk-container-id-14 div.sk-parallel-item::before {content: \"\";position: absolute;border-left: 1px solid gray;box-sizing: border-box;top: 0;bottom: 0;left: 50%;z-index: -1;}#sk-container-id-14 div.sk-parallel-item {display: flex;flex-direction: column;z-index: 1;position: relative;background-color: white;}#sk-container-id-14 div.sk-parallel-item:first-child::after {align-self: flex-end;width: 50%;}#sk-container-id-14 div.sk-parallel-item:last-child::after {align-self: flex-start;width: 50%;}#sk-container-id-14 div.sk-parallel-item:only-child::after {width: 0;}#sk-container-id-14 div.sk-dashed-wrapped {border: 1px dashed gray;margin: 0 0.4em 0.5em 0.4em;box-sizing: border-box;padding-bottom: 0.4em;background-color: white;}#sk-container-id-14 div.sk-label label {font-family: monospace;font-weight: bold;display: inline-block;line-height: 1.2em;}#sk-container-id-14 div.sk-label-container {text-align: center;}#sk-container-id-14 div.sk-container {/* jupyter's `normalize.less` sets `[hidden] { display: none; }` but bootstrap.min.css set `[hidden] { display: none !important; }` so we also need the `!important` here to be able to override the default hidden behavior on the sphinx rendered scikit-learn.org. See: https://github.com/scikit-learn/scikit-learn/issues/21755 */display: inline-block !important;position: relative;}#sk-container-id-14 div.sk-text-repr-fallback {display: none;}</style><div id=\"sk-container-id-14\" class=\"sk-top-container\"><div class=\"sk-text-repr-fallback\"><pre>GridSearchCV(estimator=Pipeline(steps=[(&#x27;tfidf&#x27;, TfidfVectorizer()),\n",
       "                                       (&#x27;lg&#x27;, LogisticRegression())]),\n",
       "             param_grid={&#x27;lg__C&#x27;: [0.01, 0.1, 0.3, 0.5, 1.0],\n",
       "                         &#x27;lg__penalty&#x27;: [&#x27;l1&#x27;, &#x27;l2&#x27;, &#x27;elasticnet&#x27;, &#x27;none&#x27;],\n",
       "                         &#x27;lg__random_state&#x27;: [42],\n",
       "                         &#x27;lg__solver&#x27;: [&#x27;lbfgs&#x27;, &#x27;newton-cg&#x27;, &#x27;sag&#x27;, &#x27;saga&#x27;]})</pre><b>In a Jupyter environment, please rerun this cell to show the HTML representation or trust the notebook. <br />On GitHub, the HTML representation is unable to render, please try loading this page with nbviewer.org.</b></div><div class=\"sk-container\" hidden><div class=\"sk-item sk-dashed-wrapped\"><div class=\"sk-label-container\"><div class=\"sk-label sk-toggleable\"><input class=\"sk-toggleable__control sk-hidden--visually\" id=\"sk-estimator-id-41\" type=\"checkbox\" ><label for=\"sk-estimator-id-41\" class=\"sk-toggleable__label sk-toggleable__label-arrow\">GridSearchCV</label><div class=\"sk-toggleable__content\"><pre>GridSearchCV(estimator=Pipeline(steps=[(&#x27;tfidf&#x27;, TfidfVectorizer()),\n",
       "                                       (&#x27;lg&#x27;, LogisticRegression())]),\n",
       "             param_grid={&#x27;lg__C&#x27;: [0.01, 0.1, 0.3, 0.5, 1.0],\n",
       "                         &#x27;lg__penalty&#x27;: [&#x27;l1&#x27;, &#x27;l2&#x27;, &#x27;elasticnet&#x27;, &#x27;none&#x27;],\n",
       "                         &#x27;lg__random_state&#x27;: [42],\n",
       "                         &#x27;lg__solver&#x27;: [&#x27;lbfgs&#x27;, &#x27;newton-cg&#x27;, &#x27;sag&#x27;, &#x27;saga&#x27;]})</pre></div></div></div><div class=\"sk-parallel\"><div class=\"sk-parallel-item\"><div class=\"sk-item\"><div class=\"sk-label-container\"><div class=\"sk-label sk-toggleable\"><input class=\"sk-toggleable__control sk-hidden--visually\" id=\"sk-estimator-id-42\" type=\"checkbox\" ><label for=\"sk-estimator-id-42\" class=\"sk-toggleable__label sk-toggleable__label-arrow\">estimator: Pipeline</label><div class=\"sk-toggleable__content\"><pre>Pipeline(steps=[(&#x27;tfidf&#x27;, TfidfVectorizer()), (&#x27;lg&#x27;, LogisticRegression())])</pre></div></div></div><div class=\"sk-serial\"><div class=\"sk-item\"><div class=\"sk-serial\"><div class=\"sk-item\"><div class=\"sk-estimator sk-toggleable\"><input class=\"sk-toggleable__control sk-hidden--visually\" id=\"sk-estimator-id-43\" type=\"checkbox\" ><label for=\"sk-estimator-id-43\" class=\"sk-toggleable__label sk-toggleable__label-arrow\">TfidfVectorizer</label><div class=\"sk-toggleable__content\"><pre>TfidfVectorizer()</pre></div></div></div><div class=\"sk-item\"><div class=\"sk-estimator sk-toggleable\"><input class=\"sk-toggleable__control sk-hidden--visually\" id=\"sk-estimator-id-44\" type=\"checkbox\" ><label for=\"sk-estimator-id-44\" class=\"sk-toggleable__label sk-toggleable__label-arrow\">LogisticRegression</label><div class=\"sk-toggleable__content\"><pre>LogisticRegression()</pre></div></div></div></div></div></div></div></div></div></div></div></div>"
      ],
      "text/plain": [
       "GridSearchCV(estimator=Pipeline(steps=[('tfidf', TfidfVectorizer()),\n",
       "                                       ('lg', LogisticRegression())]),\n",
       "             param_grid={'lg__C': [0.01, 0.1, 0.3, 0.5, 1.0],\n",
       "                         'lg__penalty': ['l1', 'l2', 'elasticnet', 'none'],\n",
       "                         'lg__random_state': [42],\n",
       "                         'lg__solver': ['lbfgs', 'newton-cg', 'sag', 'saga']})"
      ]
     },
     "execution_count": 95,
     "metadata": {},
     "output_type": "execute_result"
    }
   ],
   "source": [
    "lg_tf_grid_merged.fit(X_train_merged, y_train_merged)"
   ]
  },
  {
   "cell_type": "code",
   "execution_count": 96,
   "metadata": {},
   "outputs": [
    {
     "name": "stdout",
     "output_type": "stream",
     "text": [
      "Train Accuracy : 1.000\n",
      "Test Accuracy : 0.529\n",
      "Merged Train Accuracy : 1.000\n",
      "Merged Test Accuracy : 0.774\n",
      "Best Accuracy Through Grid Search : 0.654\n",
      "Merged Best Accuracy Through Grid Search : 0.712\n",
      "Best Parameters :  {'lg__C': 0.01, 'lg__penalty': 'none', 'lg__random_state': 42, 'lg__solver': 'lbfgs'}\n",
      "Merged Best Parameters :  {'lg__C': 0.01, 'lg__penalty': 'none', 'lg__random_state': 42, 'lg__solver': 'sag'}\n"
     ]
    }
   ],
   "source": [
    "print('Train Accuracy : %.3f'%lg_tf_grid.best_estimator_.score(X_train, y_train))\n",
    "print('Test Accuracy : %.3f'%lg_tf_grid.best_estimator_.score(X_test, y_test))\n",
    "print('Merged Train Accuracy : %.3f'%lg_tf_grid_merged.best_estimator_.score(X_train_merged, y_train_merged))\n",
    "print('Merged Test Accuracy : %.3f'%lg_tf_grid_merged.best_estimator_.score(X_test_merged, y_test_merged))\n",
    "print('Best Accuracy Through Grid Search : %.3f'%lg_tf_grid.best_score_)\n",
    "print('Merged Best Accuracy Through Grid Search : %.3f'%lg_tf_grid_merged.best_score_)\n",
    "print('Best Parameters : ',lg_tf_grid.best_params_)\n",
    "print('Merged Best Parameters : ',lg_tf_grid_merged.best_params_)"
   ]
  },
  {
   "cell_type": "markdown",
   "metadata": {},
   "source": [
    "### SVM"
   ]
  },
  {
   "cell_type": "code",
   "execution_count": 109,
   "metadata": {},
   "outputs": [],
   "source": [
    "# make pipeline for svm\n",
    "tuning_svm = Pipeline([\n",
    "    ('tfidf', TfidfVectorizer()),\n",
    "    ('svm', svm.SVC())\n",
    "])"
   ]
  },
  {
   "cell_type": "code",
   "execution_count": 110,
   "metadata": {},
   "outputs": [],
   "source": [
    "# Hyperparameters to tune\n",
    "params_svm_tf = {\n",
    "    'svm__C': [1.0, 1.5, 2.0, 3.0],\n",
    "    'svm__kernel': ['linear', 'rbf', 'poly'],  # Different kernel functions\n",
    "    'svm__degree': [2, 3, 4],  # Degree of the polynomial kernel (for 'poly' kernel)\n",
    "    'svm__class_weight': [None, 'balanced'],  # Adjusting class weights\n",
    "    'svm__decision_function_shape': ['ovr','ovo'],  # One-vs-Rest\n",
    "    'svm__random_state': [42]\n",
    "}"
   ]
  },
  {
   "cell_type": "code",
   "execution_count": 111,
   "metadata": {},
   "outputs": [],
   "source": [
    "svm_tf_grid = GridSearchCV(estimator=tuning_svm, param_grid=params_svm_tf)\n",
    "svm_tf_grid_merged = GridSearchCV(estimator=tuning_svm, param_grid=params_svm_tf)"
   ]
  },
  {
   "cell_type": "code",
   "execution_count": 112,
   "metadata": {},
   "outputs": [
    {
     "data": {
      "text/html": [
       "<style>#sk-container-id-15 {color: black;background-color: white;}#sk-container-id-15 pre{padding: 0;}#sk-container-id-15 div.sk-toggleable {background-color: white;}#sk-container-id-15 label.sk-toggleable__label {cursor: pointer;display: block;width: 100%;margin-bottom: 0;padding: 0.3em;box-sizing: border-box;text-align: center;}#sk-container-id-15 label.sk-toggleable__label-arrow:before {content: \"▸\";float: left;margin-right: 0.25em;color: #696969;}#sk-container-id-15 label.sk-toggleable__label-arrow:hover:before {color: black;}#sk-container-id-15 div.sk-estimator:hover label.sk-toggleable__label-arrow:before {color: black;}#sk-container-id-15 div.sk-toggleable__content {max-height: 0;max-width: 0;overflow: hidden;text-align: left;background-color: #f0f8ff;}#sk-container-id-15 div.sk-toggleable__content pre {margin: 0.2em;color: black;border-radius: 0.25em;background-color: #f0f8ff;}#sk-container-id-15 input.sk-toggleable__control:checked~div.sk-toggleable__content {max-height: 200px;max-width: 100%;overflow: auto;}#sk-container-id-15 input.sk-toggleable__control:checked~label.sk-toggleable__label-arrow:before {content: \"▾\";}#sk-container-id-15 div.sk-estimator input.sk-toggleable__control:checked~label.sk-toggleable__label {background-color: #d4ebff;}#sk-container-id-15 div.sk-label input.sk-toggleable__control:checked~label.sk-toggleable__label {background-color: #d4ebff;}#sk-container-id-15 input.sk-hidden--visually {border: 0;clip: rect(1px 1px 1px 1px);clip: rect(1px, 1px, 1px, 1px);height: 1px;margin: -1px;overflow: hidden;padding: 0;position: absolute;width: 1px;}#sk-container-id-15 div.sk-estimator {font-family: monospace;background-color: #f0f8ff;border: 1px dotted black;border-radius: 0.25em;box-sizing: border-box;margin-bottom: 0.5em;}#sk-container-id-15 div.sk-estimator:hover {background-color: #d4ebff;}#sk-container-id-15 div.sk-parallel-item::after {content: \"\";width: 100%;border-bottom: 1px solid gray;flex-grow: 1;}#sk-container-id-15 div.sk-label:hover label.sk-toggleable__label {background-color: #d4ebff;}#sk-container-id-15 div.sk-serial::before {content: \"\";position: absolute;border-left: 1px solid gray;box-sizing: border-box;top: 0;bottom: 0;left: 50%;z-index: 0;}#sk-container-id-15 div.sk-serial {display: flex;flex-direction: column;align-items: center;background-color: white;padding-right: 0.2em;padding-left: 0.2em;position: relative;}#sk-container-id-15 div.sk-item {position: relative;z-index: 1;}#sk-container-id-15 div.sk-parallel {display: flex;align-items: stretch;justify-content: center;background-color: white;position: relative;}#sk-container-id-15 div.sk-item::before, #sk-container-id-15 div.sk-parallel-item::before {content: \"\";position: absolute;border-left: 1px solid gray;box-sizing: border-box;top: 0;bottom: 0;left: 50%;z-index: -1;}#sk-container-id-15 div.sk-parallel-item {display: flex;flex-direction: column;z-index: 1;position: relative;background-color: white;}#sk-container-id-15 div.sk-parallel-item:first-child::after {align-self: flex-end;width: 50%;}#sk-container-id-15 div.sk-parallel-item:last-child::after {align-self: flex-start;width: 50%;}#sk-container-id-15 div.sk-parallel-item:only-child::after {width: 0;}#sk-container-id-15 div.sk-dashed-wrapped {border: 1px dashed gray;margin: 0 0.4em 0.5em 0.4em;box-sizing: border-box;padding-bottom: 0.4em;background-color: white;}#sk-container-id-15 div.sk-label label {font-family: monospace;font-weight: bold;display: inline-block;line-height: 1.2em;}#sk-container-id-15 div.sk-label-container {text-align: center;}#sk-container-id-15 div.sk-container {/* jupyter's `normalize.less` sets `[hidden] { display: none; }` but bootstrap.min.css set `[hidden] { display: none !important; }` so we also need the `!important` here to be able to override the default hidden behavior on the sphinx rendered scikit-learn.org. See: https://github.com/scikit-learn/scikit-learn/issues/21755 */display: inline-block !important;position: relative;}#sk-container-id-15 div.sk-text-repr-fallback {display: none;}</style><div id=\"sk-container-id-15\" class=\"sk-top-container\"><div class=\"sk-text-repr-fallback\"><pre>GridSearchCV(estimator=Pipeline(steps=[(&#x27;tfidf&#x27;, TfidfVectorizer()),\n",
       "                                       (&#x27;svm&#x27;, SVC())]),\n",
       "             param_grid={&#x27;svm__C&#x27;: [1.0, 1.5, 2.0, 3.0],\n",
       "                         &#x27;svm__class_weight&#x27;: [None, &#x27;balanced&#x27;],\n",
       "                         &#x27;svm__decision_function_shape&#x27;: [&#x27;ovr&#x27;, &#x27;ovo&#x27;],\n",
       "                         &#x27;svm__degree&#x27;: [2, 3, 4],\n",
       "                         &#x27;svm__kernel&#x27;: [&#x27;linear&#x27;, &#x27;rbf&#x27;, &#x27;poly&#x27;],\n",
       "                         &#x27;svm__random_state&#x27;: [42]})</pre><b>In a Jupyter environment, please rerun this cell to show the HTML representation or trust the notebook. <br />On GitHub, the HTML representation is unable to render, please try loading this page with nbviewer.org.</b></div><div class=\"sk-container\" hidden><div class=\"sk-item sk-dashed-wrapped\"><div class=\"sk-label-container\"><div class=\"sk-label sk-toggleable\"><input class=\"sk-toggleable__control sk-hidden--visually\" id=\"sk-estimator-id-45\" type=\"checkbox\" ><label for=\"sk-estimator-id-45\" class=\"sk-toggleable__label sk-toggleable__label-arrow\">GridSearchCV</label><div class=\"sk-toggleable__content\"><pre>GridSearchCV(estimator=Pipeline(steps=[(&#x27;tfidf&#x27;, TfidfVectorizer()),\n",
       "                                       (&#x27;svm&#x27;, SVC())]),\n",
       "             param_grid={&#x27;svm__C&#x27;: [1.0, 1.5, 2.0, 3.0],\n",
       "                         &#x27;svm__class_weight&#x27;: [None, &#x27;balanced&#x27;],\n",
       "                         &#x27;svm__decision_function_shape&#x27;: [&#x27;ovr&#x27;, &#x27;ovo&#x27;],\n",
       "                         &#x27;svm__degree&#x27;: [2, 3, 4],\n",
       "                         &#x27;svm__kernel&#x27;: [&#x27;linear&#x27;, &#x27;rbf&#x27;, &#x27;poly&#x27;],\n",
       "                         &#x27;svm__random_state&#x27;: [42]})</pre></div></div></div><div class=\"sk-parallel\"><div class=\"sk-parallel-item\"><div class=\"sk-item\"><div class=\"sk-label-container\"><div class=\"sk-label sk-toggleable\"><input class=\"sk-toggleable__control sk-hidden--visually\" id=\"sk-estimator-id-46\" type=\"checkbox\" ><label for=\"sk-estimator-id-46\" class=\"sk-toggleable__label sk-toggleable__label-arrow\">estimator: Pipeline</label><div class=\"sk-toggleable__content\"><pre>Pipeline(steps=[(&#x27;tfidf&#x27;, TfidfVectorizer()), (&#x27;svm&#x27;, SVC())])</pre></div></div></div><div class=\"sk-serial\"><div class=\"sk-item\"><div class=\"sk-serial\"><div class=\"sk-item\"><div class=\"sk-estimator sk-toggleable\"><input class=\"sk-toggleable__control sk-hidden--visually\" id=\"sk-estimator-id-47\" type=\"checkbox\" ><label for=\"sk-estimator-id-47\" class=\"sk-toggleable__label sk-toggleable__label-arrow\">TfidfVectorizer</label><div class=\"sk-toggleable__content\"><pre>TfidfVectorizer()</pre></div></div></div><div class=\"sk-item\"><div class=\"sk-estimator sk-toggleable\"><input class=\"sk-toggleable__control sk-hidden--visually\" id=\"sk-estimator-id-48\" type=\"checkbox\" ><label for=\"sk-estimator-id-48\" class=\"sk-toggleable__label sk-toggleable__label-arrow\">SVC</label><div class=\"sk-toggleable__content\"><pre>SVC()</pre></div></div></div></div></div></div></div></div></div></div></div></div>"
      ],
      "text/plain": [
       "GridSearchCV(estimator=Pipeline(steps=[('tfidf', TfidfVectorizer()),\n",
       "                                       ('svm', SVC())]),\n",
       "             param_grid={'svm__C': [1.0, 1.5, 2.0, 3.0],\n",
       "                         'svm__class_weight': [None, 'balanced'],\n",
       "                         'svm__decision_function_shape': ['ovr', 'ovo'],\n",
       "                         'svm__degree': [2, 3, 4],\n",
       "                         'svm__kernel': ['linear', 'rbf', 'poly'],\n",
       "                         'svm__random_state': [42]})"
      ]
     },
     "execution_count": 112,
     "metadata": {},
     "output_type": "execute_result"
    }
   ],
   "source": [
    "svm_tf_grid.fit(X_train, y_train)"
   ]
  },
  {
   "cell_type": "code",
   "execution_count": 113,
   "metadata": {},
   "outputs": [
    {
     "data": {
      "text/html": [
       "<style>#sk-container-id-16 {color: black;background-color: white;}#sk-container-id-16 pre{padding: 0;}#sk-container-id-16 div.sk-toggleable {background-color: white;}#sk-container-id-16 label.sk-toggleable__label {cursor: pointer;display: block;width: 100%;margin-bottom: 0;padding: 0.3em;box-sizing: border-box;text-align: center;}#sk-container-id-16 label.sk-toggleable__label-arrow:before {content: \"▸\";float: left;margin-right: 0.25em;color: #696969;}#sk-container-id-16 label.sk-toggleable__label-arrow:hover:before {color: black;}#sk-container-id-16 div.sk-estimator:hover label.sk-toggleable__label-arrow:before {color: black;}#sk-container-id-16 div.sk-toggleable__content {max-height: 0;max-width: 0;overflow: hidden;text-align: left;background-color: #f0f8ff;}#sk-container-id-16 div.sk-toggleable__content pre {margin: 0.2em;color: black;border-radius: 0.25em;background-color: #f0f8ff;}#sk-container-id-16 input.sk-toggleable__control:checked~div.sk-toggleable__content {max-height: 200px;max-width: 100%;overflow: auto;}#sk-container-id-16 input.sk-toggleable__control:checked~label.sk-toggleable__label-arrow:before {content: \"▾\";}#sk-container-id-16 div.sk-estimator input.sk-toggleable__control:checked~label.sk-toggleable__label {background-color: #d4ebff;}#sk-container-id-16 div.sk-label input.sk-toggleable__control:checked~label.sk-toggleable__label {background-color: #d4ebff;}#sk-container-id-16 input.sk-hidden--visually {border: 0;clip: rect(1px 1px 1px 1px);clip: rect(1px, 1px, 1px, 1px);height: 1px;margin: -1px;overflow: hidden;padding: 0;position: absolute;width: 1px;}#sk-container-id-16 div.sk-estimator {font-family: monospace;background-color: #f0f8ff;border: 1px dotted black;border-radius: 0.25em;box-sizing: border-box;margin-bottom: 0.5em;}#sk-container-id-16 div.sk-estimator:hover {background-color: #d4ebff;}#sk-container-id-16 div.sk-parallel-item::after {content: \"\";width: 100%;border-bottom: 1px solid gray;flex-grow: 1;}#sk-container-id-16 div.sk-label:hover label.sk-toggleable__label {background-color: #d4ebff;}#sk-container-id-16 div.sk-serial::before {content: \"\";position: absolute;border-left: 1px solid gray;box-sizing: border-box;top: 0;bottom: 0;left: 50%;z-index: 0;}#sk-container-id-16 div.sk-serial {display: flex;flex-direction: column;align-items: center;background-color: white;padding-right: 0.2em;padding-left: 0.2em;position: relative;}#sk-container-id-16 div.sk-item {position: relative;z-index: 1;}#sk-container-id-16 div.sk-parallel {display: flex;align-items: stretch;justify-content: center;background-color: white;position: relative;}#sk-container-id-16 div.sk-item::before, #sk-container-id-16 div.sk-parallel-item::before {content: \"\";position: absolute;border-left: 1px solid gray;box-sizing: border-box;top: 0;bottom: 0;left: 50%;z-index: -1;}#sk-container-id-16 div.sk-parallel-item {display: flex;flex-direction: column;z-index: 1;position: relative;background-color: white;}#sk-container-id-16 div.sk-parallel-item:first-child::after {align-self: flex-end;width: 50%;}#sk-container-id-16 div.sk-parallel-item:last-child::after {align-self: flex-start;width: 50%;}#sk-container-id-16 div.sk-parallel-item:only-child::after {width: 0;}#sk-container-id-16 div.sk-dashed-wrapped {border: 1px dashed gray;margin: 0 0.4em 0.5em 0.4em;box-sizing: border-box;padding-bottom: 0.4em;background-color: white;}#sk-container-id-16 div.sk-label label {font-family: monospace;font-weight: bold;display: inline-block;line-height: 1.2em;}#sk-container-id-16 div.sk-label-container {text-align: center;}#sk-container-id-16 div.sk-container {/* jupyter's `normalize.less` sets `[hidden] { display: none; }` but bootstrap.min.css set `[hidden] { display: none !important; }` so we also need the `!important` here to be able to override the default hidden behavior on the sphinx rendered scikit-learn.org. See: https://github.com/scikit-learn/scikit-learn/issues/21755 */display: inline-block !important;position: relative;}#sk-container-id-16 div.sk-text-repr-fallback {display: none;}</style><div id=\"sk-container-id-16\" class=\"sk-top-container\"><div class=\"sk-text-repr-fallback\"><pre>GridSearchCV(estimator=Pipeline(steps=[(&#x27;tfidf&#x27;, TfidfVectorizer()),\n",
       "                                       (&#x27;svm&#x27;, SVC())]),\n",
       "             param_grid={&#x27;svm__C&#x27;: [1.0, 1.5, 2.0, 3.0],\n",
       "                         &#x27;svm__class_weight&#x27;: [None, &#x27;balanced&#x27;],\n",
       "                         &#x27;svm__decision_function_shape&#x27;: [&#x27;ovr&#x27;, &#x27;ovo&#x27;],\n",
       "                         &#x27;svm__degree&#x27;: [2, 3, 4],\n",
       "                         &#x27;svm__kernel&#x27;: [&#x27;linear&#x27;, &#x27;rbf&#x27;, &#x27;poly&#x27;],\n",
       "                         &#x27;svm__random_state&#x27;: [42]})</pre><b>In a Jupyter environment, please rerun this cell to show the HTML representation or trust the notebook. <br />On GitHub, the HTML representation is unable to render, please try loading this page with nbviewer.org.</b></div><div class=\"sk-container\" hidden><div class=\"sk-item sk-dashed-wrapped\"><div class=\"sk-label-container\"><div class=\"sk-label sk-toggleable\"><input class=\"sk-toggleable__control sk-hidden--visually\" id=\"sk-estimator-id-49\" type=\"checkbox\" ><label for=\"sk-estimator-id-49\" class=\"sk-toggleable__label sk-toggleable__label-arrow\">GridSearchCV</label><div class=\"sk-toggleable__content\"><pre>GridSearchCV(estimator=Pipeline(steps=[(&#x27;tfidf&#x27;, TfidfVectorizer()),\n",
       "                                       (&#x27;svm&#x27;, SVC())]),\n",
       "             param_grid={&#x27;svm__C&#x27;: [1.0, 1.5, 2.0, 3.0],\n",
       "                         &#x27;svm__class_weight&#x27;: [None, &#x27;balanced&#x27;],\n",
       "                         &#x27;svm__decision_function_shape&#x27;: [&#x27;ovr&#x27;, &#x27;ovo&#x27;],\n",
       "                         &#x27;svm__degree&#x27;: [2, 3, 4],\n",
       "                         &#x27;svm__kernel&#x27;: [&#x27;linear&#x27;, &#x27;rbf&#x27;, &#x27;poly&#x27;],\n",
       "                         &#x27;svm__random_state&#x27;: [42]})</pre></div></div></div><div class=\"sk-parallel\"><div class=\"sk-parallel-item\"><div class=\"sk-item\"><div class=\"sk-label-container\"><div class=\"sk-label sk-toggleable\"><input class=\"sk-toggleable__control sk-hidden--visually\" id=\"sk-estimator-id-50\" type=\"checkbox\" ><label for=\"sk-estimator-id-50\" class=\"sk-toggleable__label sk-toggleable__label-arrow\">estimator: Pipeline</label><div class=\"sk-toggleable__content\"><pre>Pipeline(steps=[(&#x27;tfidf&#x27;, TfidfVectorizer()), (&#x27;svm&#x27;, SVC())])</pre></div></div></div><div class=\"sk-serial\"><div class=\"sk-item\"><div class=\"sk-serial\"><div class=\"sk-item\"><div class=\"sk-estimator sk-toggleable\"><input class=\"sk-toggleable__control sk-hidden--visually\" id=\"sk-estimator-id-51\" type=\"checkbox\" ><label for=\"sk-estimator-id-51\" class=\"sk-toggleable__label sk-toggleable__label-arrow\">TfidfVectorizer</label><div class=\"sk-toggleable__content\"><pre>TfidfVectorizer()</pre></div></div></div><div class=\"sk-item\"><div class=\"sk-estimator sk-toggleable\"><input class=\"sk-toggleable__control sk-hidden--visually\" id=\"sk-estimator-id-52\" type=\"checkbox\" ><label for=\"sk-estimator-id-52\" class=\"sk-toggleable__label sk-toggleable__label-arrow\">SVC</label><div class=\"sk-toggleable__content\"><pre>SVC()</pre></div></div></div></div></div></div></div></div></div></div></div></div>"
      ],
      "text/plain": [
       "GridSearchCV(estimator=Pipeline(steps=[('tfidf', TfidfVectorizer()),\n",
       "                                       ('svm', SVC())]),\n",
       "             param_grid={'svm__C': [1.0, 1.5, 2.0, 3.0],\n",
       "                         'svm__class_weight': [None, 'balanced'],\n",
       "                         'svm__decision_function_shape': ['ovr', 'ovo'],\n",
       "                         'svm__degree': [2, 3, 4],\n",
       "                         'svm__kernel': ['linear', 'rbf', 'poly'],\n",
       "                         'svm__random_state': [42]})"
      ]
     },
     "execution_count": 113,
     "metadata": {},
     "output_type": "execute_result"
    }
   ],
   "source": [
    "svm_tf_grid_merged.fit(X_train_merged, y_train_merged)"
   ]
  },
  {
   "cell_type": "code",
   "execution_count": 114,
   "metadata": {},
   "outputs": [
    {
     "name": "stdout",
     "output_type": "stream",
     "text": [
      "Train Accuracy : 0.985\n",
      "Test Accuracy : 0.559\n",
      "Merged Train Accuracy : 0.995\n",
      "Merged Test Accuracy : 0.755\n",
      "Best Accuracy Through Grid Search : 0.631\n",
      "Merged Best Accuracy Through Grid Search : 0.675\n",
      "Best Parameters :  {'svm__C': 1.0, 'svm__class_weight': 'balanced', 'svm__decision_function_shape': 'ovr', 'svm__degree': 2, 'svm__kernel': 'linear', 'svm__random_state': 42}\n",
      "Merged Best Parameters :  {'svm__C': 3.0, 'svm__class_weight': 'balanced', 'svm__decision_function_shape': 'ovr', 'svm__degree': 2, 'svm__kernel': 'linear', 'svm__random_state': 42}\n"
     ]
    }
   ],
   "source": [
    "print('Train Accuracy : %.3f'%svm_tf_grid.best_estimator_.score(X_train, y_train))\n",
    "print('Test Accuracy : %.3f'%svm_tf_grid.best_estimator_.score(X_test, y_test))\n",
    "print('Merged Train Accuracy : %.3f'%svm_tf_grid_merged.best_estimator_.score(X_train_merged, y_train_merged))\n",
    "print('Merged Test Accuracy : %.3f'%svm_tf_grid_merged.best_estimator_.score(X_test_merged, y_test_merged))\n",
    "print('Best Accuracy Through Grid Search : %.3f'%svm_tf_grid.best_score_)\n",
    "print('Merged Best Accuracy Through Grid Search : %.3f'%svm_tf_grid_merged.best_score_)\n",
    "print('Best Parameters : ',svm_tf_grid.best_params_)\n",
    "print('Merged Best Parameters : ',svm_tf_grid_merged.best_params_)"
   ]
  },
  {
   "cell_type": "markdown",
   "metadata": {},
   "source": [
    "### KN"
   ]
  },
  {
   "cell_type": "code",
   "execution_count": 115,
   "metadata": {},
   "outputs": [],
   "source": [
    "# make pipeline for KNeighborsClassifier\n",
    "tuning_kn = Pipeline([\n",
    "    ('tfidf', TfidfVectorizer()),\n",
    "    ('kn', KNeighborsClassifier())\n",
    "])"
   ]
  },
  {
   "cell_type": "code",
   "execution_count": 116,
   "metadata": {},
   "outputs": [],
   "source": [
    "# Hyperparameters to tune for KNN\n",
    "params_kn_tf = {\n",
    "    'kn__n_neighbors': [1, 2, 3],      # Number of neighbors to consider\n",
    "    'kn__weights': ['uniform', 'distance'],   # Weight function used in prediction\n",
    "    'kn__leaf_size': [1, 2, 3],             # Leaf size for tree-based algorithms\n",
    "}"
   ]
  },
  {
   "cell_type": "code",
   "execution_count": 117,
   "metadata": {},
   "outputs": [],
   "source": [
    "kn_tf_grid = GridSearchCV(estimator=tuning_kn, param_grid=params_kn_tf)\n",
    "kn_tf_grid_merged = GridSearchCV(estimator=tuning_kn, param_grid=params_kn_tf)"
   ]
  },
  {
   "cell_type": "code",
   "execution_count": 118,
   "metadata": {},
   "outputs": [
    {
     "data": {
      "text/html": [
       "<style>#sk-container-id-17 {color: black;background-color: white;}#sk-container-id-17 pre{padding: 0;}#sk-container-id-17 div.sk-toggleable {background-color: white;}#sk-container-id-17 label.sk-toggleable__label {cursor: pointer;display: block;width: 100%;margin-bottom: 0;padding: 0.3em;box-sizing: border-box;text-align: center;}#sk-container-id-17 label.sk-toggleable__label-arrow:before {content: \"▸\";float: left;margin-right: 0.25em;color: #696969;}#sk-container-id-17 label.sk-toggleable__label-arrow:hover:before {color: black;}#sk-container-id-17 div.sk-estimator:hover label.sk-toggleable__label-arrow:before {color: black;}#sk-container-id-17 div.sk-toggleable__content {max-height: 0;max-width: 0;overflow: hidden;text-align: left;background-color: #f0f8ff;}#sk-container-id-17 div.sk-toggleable__content pre {margin: 0.2em;color: black;border-radius: 0.25em;background-color: #f0f8ff;}#sk-container-id-17 input.sk-toggleable__control:checked~div.sk-toggleable__content {max-height: 200px;max-width: 100%;overflow: auto;}#sk-container-id-17 input.sk-toggleable__control:checked~label.sk-toggleable__label-arrow:before {content: \"▾\";}#sk-container-id-17 div.sk-estimator input.sk-toggleable__control:checked~label.sk-toggleable__label {background-color: #d4ebff;}#sk-container-id-17 div.sk-label input.sk-toggleable__control:checked~label.sk-toggleable__label {background-color: #d4ebff;}#sk-container-id-17 input.sk-hidden--visually {border: 0;clip: rect(1px 1px 1px 1px);clip: rect(1px, 1px, 1px, 1px);height: 1px;margin: -1px;overflow: hidden;padding: 0;position: absolute;width: 1px;}#sk-container-id-17 div.sk-estimator {font-family: monospace;background-color: #f0f8ff;border: 1px dotted black;border-radius: 0.25em;box-sizing: border-box;margin-bottom: 0.5em;}#sk-container-id-17 div.sk-estimator:hover {background-color: #d4ebff;}#sk-container-id-17 div.sk-parallel-item::after {content: \"\";width: 100%;border-bottom: 1px solid gray;flex-grow: 1;}#sk-container-id-17 div.sk-label:hover label.sk-toggleable__label {background-color: #d4ebff;}#sk-container-id-17 div.sk-serial::before {content: \"\";position: absolute;border-left: 1px solid gray;box-sizing: border-box;top: 0;bottom: 0;left: 50%;z-index: 0;}#sk-container-id-17 div.sk-serial {display: flex;flex-direction: column;align-items: center;background-color: white;padding-right: 0.2em;padding-left: 0.2em;position: relative;}#sk-container-id-17 div.sk-item {position: relative;z-index: 1;}#sk-container-id-17 div.sk-parallel {display: flex;align-items: stretch;justify-content: center;background-color: white;position: relative;}#sk-container-id-17 div.sk-item::before, #sk-container-id-17 div.sk-parallel-item::before {content: \"\";position: absolute;border-left: 1px solid gray;box-sizing: border-box;top: 0;bottom: 0;left: 50%;z-index: -1;}#sk-container-id-17 div.sk-parallel-item {display: flex;flex-direction: column;z-index: 1;position: relative;background-color: white;}#sk-container-id-17 div.sk-parallel-item:first-child::after {align-self: flex-end;width: 50%;}#sk-container-id-17 div.sk-parallel-item:last-child::after {align-self: flex-start;width: 50%;}#sk-container-id-17 div.sk-parallel-item:only-child::after {width: 0;}#sk-container-id-17 div.sk-dashed-wrapped {border: 1px dashed gray;margin: 0 0.4em 0.5em 0.4em;box-sizing: border-box;padding-bottom: 0.4em;background-color: white;}#sk-container-id-17 div.sk-label label {font-family: monospace;font-weight: bold;display: inline-block;line-height: 1.2em;}#sk-container-id-17 div.sk-label-container {text-align: center;}#sk-container-id-17 div.sk-container {/* jupyter's `normalize.less` sets `[hidden] { display: none; }` but bootstrap.min.css set `[hidden] { display: none !important; }` so we also need the `!important` here to be able to override the default hidden behavior on the sphinx rendered scikit-learn.org. See: https://github.com/scikit-learn/scikit-learn/issues/21755 */display: inline-block !important;position: relative;}#sk-container-id-17 div.sk-text-repr-fallback {display: none;}</style><div id=\"sk-container-id-17\" class=\"sk-top-container\"><div class=\"sk-text-repr-fallback\"><pre>GridSearchCV(estimator=Pipeline(steps=[(&#x27;tfidf&#x27;, TfidfVectorizer()),\n",
       "                                       (&#x27;kn&#x27;, KNeighborsClassifier())]),\n",
       "             param_grid={&#x27;kn__leaf_size&#x27;: [1, 2, 3],\n",
       "                         &#x27;kn__n_neighbors&#x27;: [1, 2, 3],\n",
       "                         &#x27;kn__weights&#x27;: [&#x27;uniform&#x27;, &#x27;distance&#x27;]})</pre><b>In a Jupyter environment, please rerun this cell to show the HTML representation or trust the notebook. <br />On GitHub, the HTML representation is unable to render, please try loading this page with nbviewer.org.</b></div><div class=\"sk-container\" hidden><div class=\"sk-item sk-dashed-wrapped\"><div class=\"sk-label-container\"><div class=\"sk-label sk-toggleable\"><input class=\"sk-toggleable__control sk-hidden--visually\" id=\"sk-estimator-id-53\" type=\"checkbox\" ><label for=\"sk-estimator-id-53\" class=\"sk-toggleable__label sk-toggleable__label-arrow\">GridSearchCV</label><div class=\"sk-toggleable__content\"><pre>GridSearchCV(estimator=Pipeline(steps=[(&#x27;tfidf&#x27;, TfidfVectorizer()),\n",
       "                                       (&#x27;kn&#x27;, KNeighborsClassifier())]),\n",
       "             param_grid={&#x27;kn__leaf_size&#x27;: [1, 2, 3],\n",
       "                         &#x27;kn__n_neighbors&#x27;: [1, 2, 3],\n",
       "                         &#x27;kn__weights&#x27;: [&#x27;uniform&#x27;, &#x27;distance&#x27;]})</pre></div></div></div><div class=\"sk-parallel\"><div class=\"sk-parallel-item\"><div class=\"sk-item\"><div class=\"sk-label-container\"><div class=\"sk-label sk-toggleable\"><input class=\"sk-toggleable__control sk-hidden--visually\" id=\"sk-estimator-id-54\" type=\"checkbox\" ><label for=\"sk-estimator-id-54\" class=\"sk-toggleable__label sk-toggleable__label-arrow\">estimator: Pipeline</label><div class=\"sk-toggleable__content\"><pre>Pipeline(steps=[(&#x27;tfidf&#x27;, TfidfVectorizer()), (&#x27;kn&#x27;, KNeighborsClassifier())])</pre></div></div></div><div class=\"sk-serial\"><div class=\"sk-item\"><div class=\"sk-serial\"><div class=\"sk-item\"><div class=\"sk-estimator sk-toggleable\"><input class=\"sk-toggleable__control sk-hidden--visually\" id=\"sk-estimator-id-55\" type=\"checkbox\" ><label for=\"sk-estimator-id-55\" class=\"sk-toggleable__label sk-toggleable__label-arrow\">TfidfVectorizer</label><div class=\"sk-toggleable__content\"><pre>TfidfVectorizer()</pre></div></div></div><div class=\"sk-item\"><div class=\"sk-estimator sk-toggleable\"><input class=\"sk-toggleable__control sk-hidden--visually\" id=\"sk-estimator-id-56\" type=\"checkbox\" ><label for=\"sk-estimator-id-56\" class=\"sk-toggleable__label sk-toggleable__label-arrow\">KNeighborsClassifier</label><div class=\"sk-toggleable__content\"><pre>KNeighborsClassifier()</pre></div></div></div></div></div></div></div></div></div></div></div></div>"
      ],
      "text/plain": [
       "GridSearchCV(estimator=Pipeline(steps=[('tfidf', TfidfVectorizer()),\n",
       "                                       ('kn', KNeighborsClassifier())]),\n",
       "             param_grid={'kn__leaf_size': [1, 2, 3],\n",
       "                         'kn__n_neighbors': [1, 2, 3],\n",
       "                         'kn__weights': ['uniform', 'distance']})"
      ]
     },
     "execution_count": 118,
     "metadata": {},
     "output_type": "execute_result"
    }
   ],
   "source": [
    "kn_tf_grid.fit(X_train, y_train)"
   ]
  },
  {
   "cell_type": "code",
   "execution_count": 119,
   "metadata": {},
   "outputs": [
    {
     "data": {
      "text/html": [
       "<style>#sk-container-id-18 {color: black;background-color: white;}#sk-container-id-18 pre{padding: 0;}#sk-container-id-18 div.sk-toggleable {background-color: white;}#sk-container-id-18 label.sk-toggleable__label {cursor: pointer;display: block;width: 100%;margin-bottom: 0;padding: 0.3em;box-sizing: border-box;text-align: center;}#sk-container-id-18 label.sk-toggleable__label-arrow:before {content: \"▸\";float: left;margin-right: 0.25em;color: #696969;}#sk-container-id-18 label.sk-toggleable__label-arrow:hover:before {color: black;}#sk-container-id-18 div.sk-estimator:hover label.sk-toggleable__label-arrow:before {color: black;}#sk-container-id-18 div.sk-toggleable__content {max-height: 0;max-width: 0;overflow: hidden;text-align: left;background-color: #f0f8ff;}#sk-container-id-18 div.sk-toggleable__content pre {margin: 0.2em;color: black;border-radius: 0.25em;background-color: #f0f8ff;}#sk-container-id-18 input.sk-toggleable__control:checked~div.sk-toggleable__content {max-height: 200px;max-width: 100%;overflow: auto;}#sk-container-id-18 input.sk-toggleable__control:checked~label.sk-toggleable__label-arrow:before {content: \"▾\";}#sk-container-id-18 div.sk-estimator input.sk-toggleable__control:checked~label.sk-toggleable__label {background-color: #d4ebff;}#sk-container-id-18 div.sk-label input.sk-toggleable__control:checked~label.sk-toggleable__label {background-color: #d4ebff;}#sk-container-id-18 input.sk-hidden--visually {border: 0;clip: rect(1px 1px 1px 1px);clip: rect(1px, 1px, 1px, 1px);height: 1px;margin: -1px;overflow: hidden;padding: 0;position: absolute;width: 1px;}#sk-container-id-18 div.sk-estimator {font-family: monospace;background-color: #f0f8ff;border: 1px dotted black;border-radius: 0.25em;box-sizing: border-box;margin-bottom: 0.5em;}#sk-container-id-18 div.sk-estimator:hover {background-color: #d4ebff;}#sk-container-id-18 div.sk-parallel-item::after {content: \"\";width: 100%;border-bottom: 1px solid gray;flex-grow: 1;}#sk-container-id-18 div.sk-label:hover label.sk-toggleable__label {background-color: #d4ebff;}#sk-container-id-18 div.sk-serial::before {content: \"\";position: absolute;border-left: 1px solid gray;box-sizing: border-box;top: 0;bottom: 0;left: 50%;z-index: 0;}#sk-container-id-18 div.sk-serial {display: flex;flex-direction: column;align-items: center;background-color: white;padding-right: 0.2em;padding-left: 0.2em;position: relative;}#sk-container-id-18 div.sk-item {position: relative;z-index: 1;}#sk-container-id-18 div.sk-parallel {display: flex;align-items: stretch;justify-content: center;background-color: white;position: relative;}#sk-container-id-18 div.sk-item::before, #sk-container-id-18 div.sk-parallel-item::before {content: \"\";position: absolute;border-left: 1px solid gray;box-sizing: border-box;top: 0;bottom: 0;left: 50%;z-index: -1;}#sk-container-id-18 div.sk-parallel-item {display: flex;flex-direction: column;z-index: 1;position: relative;background-color: white;}#sk-container-id-18 div.sk-parallel-item:first-child::after {align-self: flex-end;width: 50%;}#sk-container-id-18 div.sk-parallel-item:last-child::after {align-self: flex-start;width: 50%;}#sk-container-id-18 div.sk-parallel-item:only-child::after {width: 0;}#sk-container-id-18 div.sk-dashed-wrapped {border: 1px dashed gray;margin: 0 0.4em 0.5em 0.4em;box-sizing: border-box;padding-bottom: 0.4em;background-color: white;}#sk-container-id-18 div.sk-label label {font-family: monospace;font-weight: bold;display: inline-block;line-height: 1.2em;}#sk-container-id-18 div.sk-label-container {text-align: center;}#sk-container-id-18 div.sk-container {/* jupyter's `normalize.less` sets `[hidden] { display: none; }` but bootstrap.min.css set `[hidden] { display: none !important; }` so we also need the `!important` here to be able to override the default hidden behavior on the sphinx rendered scikit-learn.org. See: https://github.com/scikit-learn/scikit-learn/issues/21755 */display: inline-block !important;position: relative;}#sk-container-id-18 div.sk-text-repr-fallback {display: none;}</style><div id=\"sk-container-id-18\" class=\"sk-top-container\"><div class=\"sk-text-repr-fallback\"><pre>GridSearchCV(estimator=Pipeline(steps=[(&#x27;tfidf&#x27;, TfidfVectorizer()),\n",
       "                                       (&#x27;kn&#x27;, KNeighborsClassifier())]),\n",
       "             param_grid={&#x27;kn__leaf_size&#x27;: [1, 2, 3],\n",
       "                         &#x27;kn__n_neighbors&#x27;: [1, 2, 3],\n",
       "                         &#x27;kn__weights&#x27;: [&#x27;uniform&#x27;, &#x27;distance&#x27;]})</pre><b>In a Jupyter environment, please rerun this cell to show the HTML representation or trust the notebook. <br />On GitHub, the HTML representation is unable to render, please try loading this page with nbviewer.org.</b></div><div class=\"sk-container\" hidden><div class=\"sk-item sk-dashed-wrapped\"><div class=\"sk-label-container\"><div class=\"sk-label sk-toggleable\"><input class=\"sk-toggleable__control sk-hidden--visually\" id=\"sk-estimator-id-57\" type=\"checkbox\" ><label for=\"sk-estimator-id-57\" class=\"sk-toggleable__label sk-toggleable__label-arrow\">GridSearchCV</label><div class=\"sk-toggleable__content\"><pre>GridSearchCV(estimator=Pipeline(steps=[(&#x27;tfidf&#x27;, TfidfVectorizer()),\n",
       "                                       (&#x27;kn&#x27;, KNeighborsClassifier())]),\n",
       "             param_grid={&#x27;kn__leaf_size&#x27;: [1, 2, 3],\n",
       "                         &#x27;kn__n_neighbors&#x27;: [1, 2, 3],\n",
       "                         &#x27;kn__weights&#x27;: [&#x27;uniform&#x27;, &#x27;distance&#x27;]})</pre></div></div></div><div class=\"sk-parallel\"><div class=\"sk-parallel-item\"><div class=\"sk-item\"><div class=\"sk-label-container\"><div class=\"sk-label sk-toggleable\"><input class=\"sk-toggleable__control sk-hidden--visually\" id=\"sk-estimator-id-58\" type=\"checkbox\" ><label for=\"sk-estimator-id-58\" class=\"sk-toggleable__label sk-toggleable__label-arrow\">estimator: Pipeline</label><div class=\"sk-toggleable__content\"><pre>Pipeline(steps=[(&#x27;tfidf&#x27;, TfidfVectorizer()), (&#x27;kn&#x27;, KNeighborsClassifier())])</pre></div></div></div><div class=\"sk-serial\"><div class=\"sk-item\"><div class=\"sk-serial\"><div class=\"sk-item\"><div class=\"sk-estimator sk-toggleable\"><input class=\"sk-toggleable__control sk-hidden--visually\" id=\"sk-estimator-id-59\" type=\"checkbox\" ><label for=\"sk-estimator-id-59\" class=\"sk-toggleable__label sk-toggleable__label-arrow\">TfidfVectorizer</label><div class=\"sk-toggleable__content\"><pre>TfidfVectorizer()</pre></div></div></div><div class=\"sk-item\"><div class=\"sk-estimator sk-toggleable\"><input class=\"sk-toggleable__control sk-hidden--visually\" id=\"sk-estimator-id-60\" type=\"checkbox\" ><label for=\"sk-estimator-id-60\" class=\"sk-toggleable__label sk-toggleable__label-arrow\">KNeighborsClassifier</label><div class=\"sk-toggleable__content\"><pre>KNeighborsClassifier()</pre></div></div></div></div></div></div></div></div></div></div></div></div>"
      ],
      "text/plain": [
       "GridSearchCV(estimator=Pipeline(steps=[('tfidf', TfidfVectorizer()),\n",
       "                                       ('kn', KNeighborsClassifier())]),\n",
       "             param_grid={'kn__leaf_size': [1, 2, 3],\n",
       "                         'kn__n_neighbors': [1, 2, 3],\n",
       "                         'kn__weights': ['uniform', 'distance']})"
      ]
     },
     "execution_count": 119,
     "metadata": {},
     "output_type": "execute_result"
    }
   ],
   "source": [
    "kn_tf_grid_merged.fit(X_train_merged, y_train_merged)"
   ]
  },
  {
   "cell_type": "code",
   "execution_count": 120,
   "metadata": {},
   "outputs": [
    {
     "name": "stdout",
     "output_type": "stream",
     "text": [
      "Train Accuracy : 1.000\n",
      "Test Accuracy : 0.618\n",
      "Merged Train Accuracy : 1.000\n",
      "Merged Test Accuracy : 0.717\n",
      "Best Accuracy Through Grid Search : 0.556\n",
      "Merged Best Accuracy Through Grid Search : 0.595\n",
      "Best Parameters :  {'kn__leaf_size': 1, 'kn__n_neighbors': 2, 'kn__weights': 'distance'}\n",
      "Merged Best Parameters :  {'kn__leaf_size': 1, 'kn__n_neighbors': 3, 'kn__weights': 'distance'}\n"
     ]
    }
   ],
   "source": [
    "print('Train Accuracy : %.3f'%kn_tf_grid.best_estimator_.score(X_train, y_train))\n",
    "print('Test Accuracy : %.3f'%kn_tf_grid.best_estimator_.score(X_test, y_test))\n",
    "print('Merged Train Accuracy : %.3f'%kn_tf_grid_merged.best_estimator_.score(X_train_merged, y_train_merged))\n",
    "print('Merged Test Accuracy : %.3f'%kn_tf_grid_merged.best_estimator_.score(X_test_merged, y_test_merged))\n",
    "print('Best Accuracy Through Grid Search : %.3f'%kn_tf_grid.best_score_)\n",
    "print('Merged Best Accuracy Through Grid Search : %.3f'%kn_tf_grid_merged.best_score_)\n",
    "print('Best Parameters : ',kn_tf_grid.best_params_)\n",
    "print('Merged Best Parameters : ',kn_tf_grid_merged.best_params_)"
   ]
  },
  {
   "cell_type": "markdown",
   "metadata": {},
   "source": [
    "### Random Forests"
   ]
  },
  {
   "cell_type": "code",
   "execution_count": 121,
   "metadata": {},
   "outputs": [],
   "source": [
    "# make pipeline for RandomForestClassifier\n",
    "tuning_rf = Pipeline([\n",
    "    ('tfidf', TfidfVectorizer()),\n",
    "    ('rf', RandomForestClassifier())\n",
    "])"
   ]
  },
  {
   "cell_type": "code",
   "execution_count": 122,
   "metadata": {},
   "outputs": [],
   "source": [
    "# Hyperparameters to tune for Random Forest\n",
    "params_rf_tf = {\n",
    "    'rf__n_estimators': [120, 130, 140, 150],            # Number of trees in the forest\n",
    "    'rf__min_samples_split': [6, 7, 8, 9, 10],           # Minimum number of samples required to split an internal node\n",
    "    'rf__max_features': ['auto', 'sqrt', 'log2'],  # Number of features to consider for the best split\n",
    "    'rf__bootstrap': [True, False],                # Whether to bootstrap samples\n",
    "    'rf__random_state': [42]                       # Random seed for reproducibility\n",
    "}"
   ]
  },
  {
   "cell_type": "code",
   "execution_count": 123,
   "metadata": {},
   "outputs": [],
   "source": [
    "rf_tf_grid = GridSearchCV(estimator=tuning_rf, param_grid=params_rf_tf)\n",
    "rf_tf_grid_merged = GridSearchCV(estimator=tuning_rf, param_grid=params_rf_tf)"
   ]
  },
  {
   "cell_type": "code",
   "execution_count": 124,
   "metadata": {},
   "outputs": [
    {
     "data": {
      "text/html": [
       "<style>#sk-container-id-19 {color: black;background-color: white;}#sk-container-id-19 pre{padding: 0;}#sk-container-id-19 div.sk-toggleable {background-color: white;}#sk-container-id-19 label.sk-toggleable__label {cursor: pointer;display: block;width: 100%;margin-bottom: 0;padding: 0.3em;box-sizing: border-box;text-align: center;}#sk-container-id-19 label.sk-toggleable__label-arrow:before {content: \"▸\";float: left;margin-right: 0.25em;color: #696969;}#sk-container-id-19 label.sk-toggleable__label-arrow:hover:before {color: black;}#sk-container-id-19 div.sk-estimator:hover label.sk-toggleable__label-arrow:before {color: black;}#sk-container-id-19 div.sk-toggleable__content {max-height: 0;max-width: 0;overflow: hidden;text-align: left;background-color: #f0f8ff;}#sk-container-id-19 div.sk-toggleable__content pre {margin: 0.2em;color: black;border-radius: 0.25em;background-color: #f0f8ff;}#sk-container-id-19 input.sk-toggleable__control:checked~div.sk-toggleable__content {max-height: 200px;max-width: 100%;overflow: auto;}#sk-container-id-19 input.sk-toggleable__control:checked~label.sk-toggleable__label-arrow:before {content: \"▾\";}#sk-container-id-19 div.sk-estimator input.sk-toggleable__control:checked~label.sk-toggleable__label {background-color: #d4ebff;}#sk-container-id-19 div.sk-label input.sk-toggleable__control:checked~label.sk-toggleable__label {background-color: #d4ebff;}#sk-container-id-19 input.sk-hidden--visually {border: 0;clip: rect(1px 1px 1px 1px);clip: rect(1px, 1px, 1px, 1px);height: 1px;margin: -1px;overflow: hidden;padding: 0;position: absolute;width: 1px;}#sk-container-id-19 div.sk-estimator {font-family: monospace;background-color: #f0f8ff;border: 1px dotted black;border-radius: 0.25em;box-sizing: border-box;margin-bottom: 0.5em;}#sk-container-id-19 div.sk-estimator:hover {background-color: #d4ebff;}#sk-container-id-19 div.sk-parallel-item::after {content: \"\";width: 100%;border-bottom: 1px solid gray;flex-grow: 1;}#sk-container-id-19 div.sk-label:hover label.sk-toggleable__label {background-color: #d4ebff;}#sk-container-id-19 div.sk-serial::before {content: \"\";position: absolute;border-left: 1px solid gray;box-sizing: border-box;top: 0;bottom: 0;left: 50%;z-index: 0;}#sk-container-id-19 div.sk-serial {display: flex;flex-direction: column;align-items: center;background-color: white;padding-right: 0.2em;padding-left: 0.2em;position: relative;}#sk-container-id-19 div.sk-item {position: relative;z-index: 1;}#sk-container-id-19 div.sk-parallel {display: flex;align-items: stretch;justify-content: center;background-color: white;position: relative;}#sk-container-id-19 div.sk-item::before, #sk-container-id-19 div.sk-parallel-item::before {content: \"\";position: absolute;border-left: 1px solid gray;box-sizing: border-box;top: 0;bottom: 0;left: 50%;z-index: -1;}#sk-container-id-19 div.sk-parallel-item {display: flex;flex-direction: column;z-index: 1;position: relative;background-color: white;}#sk-container-id-19 div.sk-parallel-item:first-child::after {align-self: flex-end;width: 50%;}#sk-container-id-19 div.sk-parallel-item:last-child::after {align-self: flex-start;width: 50%;}#sk-container-id-19 div.sk-parallel-item:only-child::after {width: 0;}#sk-container-id-19 div.sk-dashed-wrapped {border: 1px dashed gray;margin: 0 0.4em 0.5em 0.4em;box-sizing: border-box;padding-bottom: 0.4em;background-color: white;}#sk-container-id-19 div.sk-label label {font-family: monospace;font-weight: bold;display: inline-block;line-height: 1.2em;}#sk-container-id-19 div.sk-label-container {text-align: center;}#sk-container-id-19 div.sk-container {/* jupyter's `normalize.less` sets `[hidden] { display: none; }` but bootstrap.min.css set `[hidden] { display: none !important; }` so we also need the `!important` here to be able to override the default hidden behavior on the sphinx rendered scikit-learn.org. See: https://github.com/scikit-learn/scikit-learn/issues/21755 */display: inline-block !important;position: relative;}#sk-container-id-19 div.sk-text-repr-fallback {display: none;}</style><div id=\"sk-container-id-19\" class=\"sk-top-container\"><div class=\"sk-text-repr-fallback\"><pre>GridSearchCV(estimator=Pipeline(steps=[(&#x27;tfidf&#x27;, TfidfVectorizer()),\n",
       "                                       (&#x27;rf&#x27;, RandomForestClassifier())]),\n",
       "             param_grid={&#x27;rf__bootstrap&#x27;: [True, False],\n",
       "                         &#x27;rf__max_features&#x27;: [&#x27;auto&#x27;, &#x27;sqrt&#x27;, &#x27;log2&#x27;],\n",
       "                         &#x27;rf__min_samples_split&#x27;: [6, 7, 8, 9, 10],\n",
       "                         &#x27;rf__n_estimators&#x27;: [120, 130, 140, 150],\n",
       "                         &#x27;rf__random_state&#x27;: [42]})</pre><b>In a Jupyter environment, please rerun this cell to show the HTML representation or trust the notebook. <br />On GitHub, the HTML representation is unable to render, please try loading this page with nbviewer.org.</b></div><div class=\"sk-container\" hidden><div class=\"sk-item sk-dashed-wrapped\"><div class=\"sk-label-container\"><div class=\"sk-label sk-toggleable\"><input class=\"sk-toggleable__control sk-hidden--visually\" id=\"sk-estimator-id-61\" type=\"checkbox\" ><label for=\"sk-estimator-id-61\" class=\"sk-toggleable__label sk-toggleable__label-arrow\">GridSearchCV</label><div class=\"sk-toggleable__content\"><pre>GridSearchCV(estimator=Pipeline(steps=[(&#x27;tfidf&#x27;, TfidfVectorizer()),\n",
       "                                       (&#x27;rf&#x27;, RandomForestClassifier())]),\n",
       "             param_grid={&#x27;rf__bootstrap&#x27;: [True, False],\n",
       "                         &#x27;rf__max_features&#x27;: [&#x27;auto&#x27;, &#x27;sqrt&#x27;, &#x27;log2&#x27;],\n",
       "                         &#x27;rf__min_samples_split&#x27;: [6, 7, 8, 9, 10],\n",
       "                         &#x27;rf__n_estimators&#x27;: [120, 130, 140, 150],\n",
       "                         &#x27;rf__random_state&#x27;: [42]})</pre></div></div></div><div class=\"sk-parallel\"><div class=\"sk-parallel-item\"><div class=\"sk-item\"><div class=\"sk-label-container\"><div class=\"sk-label sk-toggleable\"><input class=\"sk-toggleable__control sk-hidden--visually\" id=\"sk-estimator-id-62\" type=\"checkbox\" ><label for=\"sk-estimator-id-62\" class=\"sk-toggleable__label sk-toggleable__label-arrow\">estimator: Pipeline</label><div class=\"sk-toggleable__content\"><pre>Pipeline(steps=[(&#x27;tfidf&#x27;, TfidfVectorizer()), (&#x27;rf&#x27;, RandomForestClassifier())])</pre></div></div></div><div class=\"sk-serial\"><div class=\"sk-item\"><div class=\"sk-serial\"><div class=\"sk-item\"><div class=\"sk-estimator sk-toggleable\"><input class=\"sk-toggleable__control sk-hidden--visually\" id=\"sk-estimator-id-63\" type=\"checkbox\" ><label for=\"sk-estimator-id-63\" class=\"sk-toggleable__label sk-toggleable__label-arrow\">TfidfVectorizer</label><div class=\"sk-toggleable__content\"><pre>TfidfVectorizer()</pre></div></div></div><div class=\"sk-item\"><div class=\"sk-estimator sk-toggleable\"><input class=\"sk-toggleable__control sk-hidden--visually\" id=\"sk-estimator-id-64\" type=\"checkbox\" ><label for=\"sk-estimator-id-64\" class=\"sk-toggleable__label sk-toggleable__label-arrow\">RandomForestClassifier</label><div class=\"sk-toggleable__content\"><pre>RandomForestClassifier()</pre></div></div></div></div></div></div></div></div></div></div></div></div>"
      ],
      "text/plain": [
       "GridSearchCV(estimator=Pipeline(steps=[('tfidf', TfidfVectorizer()),\n",
       "                                       ('rf', RandomForestClassifier())]),\n",
       "             param_grid={'rf__bootstrap': [True, False],\n",
       "                         'rf__max_features': ['auto', 'sqrt', 'log2'],\n",
       "                         'rf__min_samples_split': [6, 7, 8, 9, 10],\n",
       "                         'rf__n_estimators': [120, 130, 140, 150],\n",
       "                         'rf__random_state': [42]})"
      ]
     },
     "execution_count": 124,
     "metadata": {},
     "output_type": "execute_result"
    }
   ],
   "source": [
    "rf_tf_grid.fit(X_train, y_train)"
   ]
  },
  {
   "cell_type": "code",
   "execution_count": 125,
   "metadata": {},
   "outputs": [
    {
     "data": {
      "text/html": [
       "<style>#sk-container-id-20 {color: black;background-color: white;}#sk-container-id-20 pre{padding: 0;}#sk-container-id-20 div.sk-toggleable {background-color: white;}#sk-container-id-20 label.sk-toggleable__label {cursor: pointer;display: block;width: 100%;margin-bottom: 0;padding: 0.3em;box-sizing: border-box;text-align: center;}#sk-container-id-20 label.sk-toggleable__label-arrow:before {content: \"▸\";float: left;margin-right: 0.25em;color: #696969;}#sk-container-id-20 label.sk-toggleable__label-arrow:hover:before {color: black;}#sk-container-id-20 div.sk-estimator:hover label.sk-toggleable__label-arrow:before {color: black;}#sk-container-id-20 div.sk-toggleable__content {max-height: 0;max-width: 0;overflow: hidden;text-align: left;background-color: #f0f8ff;}#sk-container-id-20 div.sk-toggleable__content pre {margin: 0.2em;color: black;border-radius: 0.25em;background-color: #f0f8ff;}#sk-container-id-20 input.sk-toggleable__control:checked~div.sk-toggleable__content {max-height: 200px;max-width: 100%;overflow: auto;}#sk-container-id-20 input.sk-toggleable__control:checked~label.sk-toggleable__label-arrow:before {content: \"▾\";}#sk-container-id-20 div.sk-estimator input.sk-toggleable__control:checked~label.sk-toggleable__label {background-color: #d4ebff;}#sk-container-id-20 div.sk-label input.sk-toggleable__control:checked~label.sk-toggleable__label {background-color: #d4ebff;}#sk-container-id-20 input.sk-hidden--visually {border: 0;clip: rect(1px 1px 1px 1px);clip: rect(1px, 1px, 1px, 1px);height: 1px;margin: -1px;overflow: hidden;padding: 0;position: absolute;width: 1px;}#sk-container-id-20 div.sk-estimator {font-family: monospace;background-color: #f0f8ff;border: 1px dotted black;border-radius: 0.25em;box-sizing: border-box;margin-bottom: 0.5em;}#sk-container-id-20 div.sk-estimator:hover {background-color: #d4ebff;}#sk-container-id-20 div.sk-parallel-item::after {content: \"\";width: 100%;border-bottom: 1px solid gray;flex-grow: 1;}#sk-container-id-20 div.sk-label:hover label.sk-toggleable__label {background-color: #d4ebff;}#sk-container-id-20 div.sk-serial::before {content: \"\";position: absolute;border-left: 1px solid gray;box-sizing: border-box;top: 0;bottom: 0;left: 50%;z-index: 0;}#sk-container-id-20 div.sk-serial {display: flex;flex-direction: column;align-items: center;background-color: white;padding-right: 0.2em;padding-left: 0.2em;position: relative;}#sk-container-id-20 div.sk-item {position: relative;z-index: 1;}#sk-container-id-20 div.sk-parallel {display: flex;align-items: stretch;justify-content: center;background-color: white;position: relative;}#sk-container-id-20 div.sk-item::before, #sk-container-id-20 div.sk-parallel-item::before {content: \"\";position: absolute;border-left: 1px solid gray;box-sizing: border-box;top: 0;bottom: 0;left: 50%;z-index: -1;}#sk-container-id-20 div.sk-parallel-item {display: flex;flex-direction: column;z-index: 1;position: relative;background-color: white;}#sk-container-id-20 div.sk-parallel-item:first-child::after {align-self: flex-end;width: 50%;}#sk-container-id-20 div.sk-parallel-item:last-child::after {align-self: flex-start;width: 50%;}#sk-container-id-20 div.sk-parallel-item:only-child::after {width: 0;}#sk-container-id-20 div.sk-dashed-wrapped {border: 1px dashed gray;margin: 0 0.4em 0.5em 0.4em;box-sizing: border-box;padding-bottom: 0.4em;background-color: white;}#sk-container-id-20 div.sk-label label {font-family: monospace;font-weight: bold;display: inline-block;line-height: 1.2em;}#sk-container-id-20 div.sk-label-container {text-align: center;}#sk-container-id-20 div.sk-container {/* jupyter's `normalize.less` sets `[hidden] { display: none; }` but bootstrap.min.css set `[hidden] { display: none !important; }` so we also need the `!important` here to be able to override the default hidden behavior on the sphinx rendered scikit-learn.org. See: https://github.com/scikit-learn/scikit-learn/issues/21755 */display: inline-block !important;position: relative;}#sk-container-id-20 div.sk-text-repr-fallback {display: none;}</style><div id=\"sk-container-id-20\" class=\"sk-top-container\"><div class=\"sk-text-repr-fallback\"><pre>GridSearchCV(estimator=Pipeline(steps=[(&#x27;tfidf&#x27;, TfidfVectorizer()),\n",
       "                                       (&#x27;rf&#x27;, RandomForestClassifier())]),\n",
       "             param_grid={&#x27;rf__bootstrap&#x27;: [True, False],\n",
       "                         &#x27;rf__max_features&#x27;: [&#x27;auto&#x27;, &#x27;sqrt&#x27;, &#x27;log2&#x27;],\n",
       "                         &#x27;rf__min_samples_split&#x27;: [6, 7, 8, 9, 10],\n",
       "                         &#x27;rf__n_estimators&#x27;: [120, 130, 140, 150],\n",
       "                         &#x27;rf__random_state&#x27;: [42]})</pre><b>In a Jupyter environment, please rerun this cell to show the HTML representation or trust the notebook. <br />On GitHub, the HTML representation is unable to render, please try loading this page with nbviewer.org.</b></div><div class=\"sk-container\" hidden><div class=\"sk-item sk-dashed-wrapped\"><div class=\"sk-label-container\"><div class=\"sk-label sk-toggleable\"><input class=\"sk-toggleable__control sk-hidden--visually\" id=\"sk-estimator-id-65\" type=\"checkbox\" ><label for=\"sk-estimator-id-65\" class=\"sk-toggleable__label sk-toggleable__label-arrow\">GridSearchCV</label><div class=\"sk-toggleable__content\"><pre>GridSearchCV(estimator=Pipeline(steps=[(&#x27;tfidf&#x27;, TfidfVectorizer()),\n",
       "                                       (&#x27;rf&#x27;, RandomForestClassifier())]),\n",
       "             param_grid={&#x27;rf__bootstrap&#x27;: [True, False],\n",
       "                         &#x27;rf__max_features&#x27;: [&#x27;auto&#x27;, &#x27;sqrt&#x27;, &#x27;log2&#x27;],\n",
       "                         &#x27;rf__min_samples_split&#x27;: [6, 7, 8, 9, 10],\n",
       "                         &#x27;rf__n_estimators&#x27;: [120, 130, 140, 150],\n",
       "                         &#x27;rf__random_state&#x27;: [42]})</pre></div></div></div><div class=\"sk-parallel\"><div class=\"sk-parallel-item\"><div class=\"sk-item\"><div class=\"sk-label-container\"><div class=\"sk-label sk-toggleable\"><input class=\"sk-toggleable__control sk-hidden--visually\" id=\"sk-estimator-id-66\" type=\"checkbox\" ><label for=\"sk-estimator-id-66\" class=\"sk-toggleable__label sk-toggleable__label-arrow\">estimator: Pipeline</label><div class=\"sk-toggleable__content\"><pre>Pipeline(steps=[(&#x27;tfidf&#x27;, TfidfVectorizer()), (&#x27;rf&#x27;, RandomForestClassifier())])</pre></div></div></div><div class=\"sk-serial\"><div class=\"sk-item\"><div class=\"sk-serial\"><div class=\"sk-item\"><div class=\"sk-estimator sk-toggleable\"><input class=\"sk-toggleable__control sk-hidden--visually\" id=\"sk-estimator-id-67\" type=\"checkbox\" ><label for=\"sk-estimator-id-67\" class=\"sk-toggleable__label sk-toggleable__label-arrow\">TfidfVectorizer</label><div class=\"sk-toggleable__content\"><pre>TfidfVectorizer()</pre></div></div></div><div class=\"sk-item\"><div class=\"sk-estimator sk-toggleable\"><input class=\"sk-toggleable__control sk-hidden--visually\" id=\"sk-estimator-id-68\" type=\"checkbox\" ><label for=\"sk-estimator-id-68\" class=\"sk-toggleable__label sk-toggleable__label-arrow\">RandomForestClassifier</label><div class=\"sk-toggleable__content\"><pre>RandomForestClassifier()</pre></div></div></div></div></div></div></div></div></div></div></div></div>"
      ],
      "text/plain": [
       "GridSearchCV(estimator=Pipeline(steps=[('tfidf', TfidfVectorizer()),\n",
       "                                       ('rf', RandomForestClassifier())]),\n",
       "             param_grid={'rf__bootstrap': [True, False],\n",
       "                         'rf__max_features': ['auto', 'sqrt', 'log2'],\n",
       "                         'rf__min_samples_split': [6, 7, 8, 9, 10],\n",
       "                         'rf__n_estimators': [120, 130, 140, 150],\n",
       "                         'rf__random_state': [42]})"
      ]
     },
     "execution_count": 125,
     "metadata": {},
     "output_type": "execute_result"
    }
   ],
   "source": [
    "rf_tf_grid_merged.fit(X_train_merged, y_train_merged)"
   ]
  },
  {
   "cell_type": "code",
   "execution_count": 126,
   "metadata": {},
   "outputs": [
    {
     "name": "stdout",
     "output_type": "stream",
     "text": [
      "Train Accuracy : 0.977\n",
      "Test Accuracy : 0.412\n",
      "Merged Train Accuracy : 1.000\n",
      "Merged Test Accuracy : 0.698\n",
      "Best Accuracy Through Grid Search : 0.548\n",
      "Merged Best Accuracy Through Grid Search : 0.646\n",
      "Best Parameters :  {'rf__bootstrap': False, 'rf__max_features': 'log2', 'rf__min_samples_split': 9, 'rf__n_estimators': 140, 'rf__random_state': 42}\n",
      "Merged Best Parameters :  {'rf__bootstrap': False, 'rf__max_features': 'log2', 'rf__min_samples_split': 8, 'rf__n_estimators': 150, 'rf__random_state': 42}\n"
     ]
    }
   ],
   "source": [
    "print('Train Accuracy : %.3f'%rf_tf_grid.best_estimator_.score(X_train, y_train))\n",
    "print('Test Accuracy : %.3f'%rf_tf_grid.best_estimator_.score(X_test, y_test))\n",
    "print('Merged Train Accuracy : %.3f'%rf_tf_grid_merged.best_estimator_.score(X_train_merged, y_train_merged))\n",
    "print('Merged Test Accuracy : %.3f'%rf_tf_grid_merged.best_estimator_.score(X_test_merged, y_test_merged))\n",
    "print('Best Accuracy Through Grid Search : %.3f'%rf_tf_grid.best_score_)\n",
    "print('Merged Best Accuracy Through Grid Search : %.3f'%rf_tf_grid_merged.best_score_)\n",
    "print('Best Parameters : ',rf_tf_grid.best_params_)\n",
    "print('Merged Best Parameters : ',rf_tf_grid_merged.best_params_)"
   ]
  },
  {
   "cell_type": "markdown",
   "metadata": {},
   "source": [
    "## Testing on Synthetic Data "
   ]
  },
  {
   "cell_type": "code",
   "execution_count": 127,
   "metadata": {},
   "outputs": [],
   "source": [
    "X_val = df_revised.txt_p\n",
    "y_val = df_revised['label']"
   ]
  },
  {
   "cell_type": "markdown",
   "metadata": {},
   "source": [
    "### Word2Vec + LogisticRegression"
   ]
  },
  {
   "cell_type": "code",
   "execution_count": 128,
   "metadata": {},
   "outputs": [],
   "source": [
    "# Vectorize X_train\n",
    "X_val_W2V= np.vstack([txt.vector for txt in nlp.pipe(X_val, disable=[\"parser\", \"ner\"])])"
   ]
  },
  {
   "cell_type": "code",
   "execution_count": 129,
   "metadata": {},
   "outputs": [
    {
     "name": "stdout",
     "output_type": "stream",
     "text": [
      "Accuracy : 0.582\n"
     ]
    }
   ],
   "source": [
    "print('Accuracy : %.3f'%lg_grid.best_estimator_.score(X_val_W2V, y_val))\n"
   ]
  },
  {
   "cell_type": "markdown",
   "metadata": {},
   "source": [
    "### TFIDF + LogisticRegression"
   ]
  },
  {
   "cell_type": "code",
   "execution_count": 130,
   "metadata": {},
   "outputs": [
    {
     "name": "stdout",
     "output_type": "stream",
     "text": [
      "Accuracy : 0.684\n"
     ]
    }
   ],
   "source": [
    "print('Accuracy : %.3f'%lg_tf_grid.best_estimator_.score(X_val, y_val))"
   ]
  },
  {
   "cell_type": "markdown",
   "metadata": {},
   "source": [
    "### TFIDF + SVM"
   ]
  },
  {
   "cell_type": "code",
   "execution_count": 131,
   "metadata": {},
   "outputs": [
    {
     "name": "stdout",
     "output_type": "stream",
     "text": [
      "Accuracy : 0.684\n"
     ]
    }
   ],
   "source": [
    "print('Accuracy : %.3f'%svm_tf_grid.best_estimator_.score(X_val, y_val))"
   ]
  }
 ],
 "metadata": {
  "kernelspec": {
   "display_name": "base",
   "language": "python",
   "name": "python3"
  },
  "language_info": {
   "codemirror_mode": {
    "name": "ipython",
    "version": 3
   },
   "file_extension": ".py",
   "mimetype": "text/x-python",
   "name": "python",
   "nbconvert_exporter": "python",
   "pygments_lexer": "ipython3",
   "version": "3.11.4"
  }
 },
 "nbformat": 4,
 "nbformat_minor": 2
}
