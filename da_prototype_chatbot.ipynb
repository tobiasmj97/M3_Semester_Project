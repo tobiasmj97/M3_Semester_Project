{
  "cells": [
    {
      "cell_type": "markdown",
      "metadata": {
        "id": "QfFno_5tr0X6"
      },
      "source": [
        "# Customer Service Chatbot Application"
      ]
    },
    {
      "cell_type": "code",
      "source": [
        "!pip install gradio -q\n",
        "!pip install typing_extensions"
      ],
      "metadata": {
        "colab": {
          "base_uri": "https://localhost:8080/"
        },
        "id": "LnwHuSTWsFlS",
        "outputId": "16b6a128-3865-437c-fd66-ad0131e78b51"
      },
      "execution_count": null,
      "outputs": [
        {
          "output_type": "stream",
          "name": "stdout",
          "text": [
            "Requirement already satisfied: typing_extensions in /usr/local/lib/python3.10/dist-packages (4.8.0)\n"
          ]
        }
      ]
    },
    {
      "cell_type": "code",
      "source": [
        "! spacy download da_core_news_md --quiet"
      ],
      "metadata": {
        "colab": {
          "base_uri": "https://localhost:8080/"
        },
        "id": "6NPWxwk4sNXK",
        "outputId": "7c519436-5da1-4e57-bc11-29de90c508c5"
      },
      "execution_count": null,
      "outputs": [
        {
          "output_type": "stream",
          "name": "stdout",
          "text": [
            "2023-12-06 11:09:04.965608: E tensorflow/compiler/xla/stream_executor/cuda/cuda_dnn.cc:9342] Unable to register cuDNN factory: Attempting to register factory for plugin cuDNN when one has already been registered\n",
            "2023-12-06 11:09:04.965760: E tensorflow/compiler/xla/stream_executor/cuda/cuda_fft.cc:609] Unable to register cuFFT factory: Attempting to register factory for plugin cuFFT when one has already been registered\n",
            "2023-12-06 11:09:04.965961: E tensorflow/compiler/xla/stream_executor/cuda/cuda_blas.cc:1518] Unable to register cuBLAS factory: Attempting to register factory for plugin cuBLAS when one has already been registered\n",
            "2023-12-06 11:09:07.028815: W tensorflow/compiler/tf2tensorrt/utils/py_utils.cc:38] TF-TRT Warning: Could not find TensorRT\n",
            "\u001b[2K     \u001b[90m━━━━━━━━━━━━━━━━━━━━━━━━━━━━━━━━━━━━━━━━\u001b[0m \u001b[32m42.2/42.2 MB\u001b[0m \u001b[31m11.9 MB/s\u001b[0m eta \u001b[36m0:00:00\u001b[0m\n",
            "\u001b[?25h\u001b[38;5;2m✔ Download and installation successful\u001b[0m\n",
            "You can now load the package via spacy.load('da_core_news_md')\n"
          ]
        }
      ]
    },
    {
      "cell_type": "markdown",
      "metadata": {
        "id": "dPI295ibr0X8"
      },
      "source": [
        "## Import liberaries and conversation file"
      ]
    },
    {
      "cell_type": "code",
      "execution_count": null,
      "metadata": {
        "id": "QnPf6A2Dr0X8"
      },
      "outputs": [],
      "source": [
        "import pandas as pd\n",
        "import numpy as np\n",
        "import matplotlib.pyplot as plt\n",
        "import seaborn as sns\n",
        "import gradio as gr\n",
        "\n",
        "# utils...\n",
        "import json\n",
        "import requests\n",
        "import random\n",
        "import time\n",
        "\n",
        "import spacy #spacy for quick language prepro\n",
        "nlp = spacy.load('da_core_news_md') #instantiating Danish module\n",
        "\n",
        "from sklearn.model_selection import train_test_split\n",
        "\n",
        "from imblearn.pipeline import Pipeline, make_pipeline\n",
        " #pipeline creation\n",
        "from sklearn.feature_extraction.text import TfidfVectorizer #transforms text to sparse matrix\n",
        "from sklearn.linear_model import LogisticRegression #Logit model\n",
        "\n",
        "# For controlling warnings in the code\n",
        "import warnings\n",
        "from sklearn.exceptions import ConvergenceWarning"
      ]
    },
    {
      "cell_type": "code",
      "execution_count": null,
      "metadata": {
        "id": "LV4QLzRsr0X-"
      },
      "outputs": [],
      "source": [
        "# We will call the below code to ignore all selected warnings in the code for getting more clearn outputs\n",
        "warnings.filterwarnings(\"ignore\", category=FutureWarning)\n",
        "warnings.filterwarnings(\"ignore\", category=ConvergenceWarning)\n",
        "warnings.filterwarnings(\"ignore\", category=UserWarning)\n",
        "warnings.filterwarnings(\"ignore\", category=RuntimeWarning)"
      ]
    },
    {
      "cell_type": "markdown",
      "metadata": {
        "id": "38rjZVAir0X-"
      },
      "source": [
        "A JSON file, like \"convo.json,\" can be useful for organizing conversation flows, storing responses, or defining rules for a customer service chatbot. It's a structured way to manage dialogue trees, intents, entities, and responses within a chatbot framework. However, whether you specifically need a file named \"convo.json\" depends on the framework or platform you're using to build your chatbot.\n",
        "\n",
        "Many chatbot development platforms or frameworks offer their own ways to structure conversations, sometimes using JSON or similar formats. These files help maintain and organize the chatbot's knowledge base, making it easier to update and manage conversations.\n",
        "\n",
        "If you're developing a chatbot from scratch or using a platform that requires such a file, creating a \"convo.json\" or a similar structured file for your customer service chatbot could be beneficial. It allows you to define the chatbot's responses, conversation paths, and logic in a clear, organized manner."
      ]
    },
    {
      "cell_type": "code",
      "execution_count": null,
      "metadata": {
        "id": "c97nSVSOr0X-"
      },
      "outputs": [],
      "source": [
        "# stream file from remote online\n",
        "r = requests.get('https://raw.githubusercontent.com/tobiasmj97/M3_Semester_Project/main/convo_snt_chatbot.json')\n",
        "json_data = json.loads(r.text)"
      ]
    },
    {
      "cell_type": "markdown",
      "source": [
        "# Data description and understanding"
      ],
      "metadata": {
        "id": "_dRPoi2FUlSi"
      }
    },
    {
      "cell_type": "code",
      "source": [
        "json_data"
      ],
      "metadata": {
        "colab": {
          "base_uri": "https://localhost:8080/"
        },
        "id": "4Ai4NUBfWUpo",
        "outputId": "581d81e5-1cd7-45f1-db91-67807737e3ca"
      },
      "execution_count": null,
      "outputs": [
        {
          "output_type": "execute_result",
          "data": {
            "text/plain": [
              "{'intents': [{'tag': 'hilsen',\n",
              "   'patterns': ['Hej', 'Halløj', 'Goddag', 'God dag'],\n",
              "   'responses': ['Hej 😊',\n",
              "    'Hej, hvad kan jeg hjælpe med?',\n",
              "    'Hej, hvordan kan jeg hjælpe?']},\n",
              "  {'tag': 'svar',\n",
              "   'patterns': ['Går det godt?'],\n",
              "   'responses': ['Det går godt. Hvad med dig?']},\n",
              "  {'tag': 'farvel',\n",
              "   'patterns': ['Farvel', 'Vi ses senere', 'Farvel'],\n",
              "   'responses': ['Vi ses senere, tak for besøget',\n",
              "    'Hav en god dag',\n",
              "    'Farvel! Kom tilbage snart.']},\n",
              "  {'tag': 'tak',\n",
              "   'patterns': ['Tak', 'Tak skal du have', 'Tak for hjælpen', 'Mange tak!'],\n",
              "   'responses': ['Glad for at kunne hjælpe!',\n",
              "    'Altid klar til at hjælpe!',\n",
              "    'Det var en fornøjelse']},\n",
              "  {'tag': 'Bestilling i butik',\n",
              "   'patterns': ['Jeg vil gerne bestille en vare til hjemmelevering',\n",
              "    'Kan jeg bestille produkter til levering?',\n",
              "    'Hvordan bestiller jeg varer til levering?',\n",
              "    'Hvordan bestiller jeg produkter fra butikken?',\n",
              "    'Bestilling af vare til hjemmelevering'],\n",
              "   'responses': ['Når du har bestilt produkter i butikken til hjemmelevering, skal du være opmærksom på følgende:\\n Så snart bestillingen er blevet gennemført i butikken, vil du både få en fysisk kvittering samt en kopi pr. e-mail. Herefter vil ordren blive pakket på vores lager og du vil efter afsendelse af ordren modtage et link på mail til trackingen af din ordre. Denne e-mail har GLS som afsender.']},\n",
              "  {'tag': 'Leveringstid bestilling butik',\n",
              "   'patterns': ['Hvor lang leveringstid er der ved køb i butikken?'],\n",
              "   'responses': ['Som udgangspunkt vil du modtage din bestilling inden for 2-5 hverdage på den adresse, som du oplyste ved bestilling. Inden levering af pakken vil du også få mulighed for at ændre levering til en pakkeshop. Dette sker gennem den e-mail/SMS, du modtager fra GLS.']},\n",
              "  {'tag': 'Returnering af bestilling fra butik',\n",
              "   'patterns': ['Returnering fra fysisk butik',\n",
              "    'Returnere ordre fra butik',\n",
              "    'Hvordan returnerer jeg en butikskøbt ordre?'],\n",
              "   'responses': ['Når du afgiver en ordre i en af vores fysiske butikker i Danmark, som bliver sendt hjem til dig, har du mulighed for at returnere den både i butikken samt online via returportalen online.\\n\\nFor at gøre dette skal du indtaste det ordrenummer (f.eks. 184095.0), som du finder på følgesedlen, samt din e-mailadresse i returportalen. Når du har registreret din returnering, modtager du en returlabel, som du kan bruge til returneringen af din ordre.\\n\\nHvis du ønsker at ombytte din ordre, skal du returnere den og foretage en ny bestilling. Beløbet for returneringen vil blive refunderet, så snart vi har modtaget og behandlet din returnering.']},\n",
              "  {'tag': 'Ordrebekræftelse ikke modtaget',\n",
              "   'patterns': ['Jeg har ikke modtaget min ordrebekræftelse',\n",
              "    'Hvor er min ordrebekræftelse?',\n",
              "    'Ordrebekræftelse ikke modtaget efter bestilling',\n",
              "    'Jeg venter stadig på min ordrebekræftelse'],\n",
              "   'responses': ['Når din bestilling er blevet korrekt gennemført, vil du modtage en ordrebekræftelse per e-mail. Denne kommer normalt indenfor få minutter efter, at du har afgivet ordren, men det kan også tage lidt længere tid. Hvis du ikke har modtaget en ordrebekræftelse, kan det skyldes en af følgende årsager: \\n- Din ordre er muligvis ikke blevet gennemført korrekt, og der er derfor ikke blevet oprettet en ordre\\n- Du kan fejlagtigt have lavet en stavefejl, da du indtastede e-mailadressen\\n- E-mailen er blevet sendt, men er endt i ønskede mail/spam\\n- E-mailen er endnu ikke blevet sendt fra vores servere, grundet en teknisk forsinkelse (dette sker normalt kun i Black Week og i julen)\\nKan du stadig ikke finde din ordrebekræftelse? Vores kundeservice vil hjertens gerne hjælpe dig!']},\n",
              "  {'tag': 'Annullering af ordre',\n",
              "   'patterns': ['Jeg vil gerne annullere min ordre',\n",
              "    'Hvordan annullerer jeg min ordre?',\n",
              "    'Annullering af ordre',\n",
              "    'Kan jeg afbestille min ordre?'],\n",
              "   'responses': [\"Ønsker du at annullere din ordre, skal du straks kontakte vores kundeservice.\\nOBS: Hvis du sender os en mail, skal denne markeres i emnefeltet med 'Annullering af DK123456' - så kan vi hurtigst muligt hjælpe dig.\\nVi pakker ordrer mandag-fredag, og oftest er din ordre pakket indenfor 10-30 minutter efter bestilling.\\nSåfremt din ordre allerede er pakket, kan den ikke annulleres. Er dette tilfældet, kan du blot gøre brug af vores 100 dages returret.\\nØnsker du yderligere information om returnering og ombytning, så tryk på knappen herunder:\"]},\n",
              "  {'tag': 'Ændring af ordre',\n",
              "   'patterns': ['Jeg vil ændre min ordre',\n",
              "    'Kan jeg ændre min ordre?',\n",
              "    'Ændring af ordre',\n",
              "    'Hvordan ændrer jeg min ordre?'],\n",
              "   'responses': ['Hvis du har bestilt et forkert produkt eller en forkert størrelse, så bedes du tage kontakt til kundeservice hurtigst muligt.\\nPå nuværende tidspunkt har vi ikke mulighed for at ændre i din ordre, men såfremt din ordre endnu ikke er pakket, er der en chance for, at vi kan nå at annullere den. Vi vil derfor bede dig tage kontakt til os hurtigst muligt. Kundeservice er tilgængelig hverdage 10:00-17:00 samt søndage 10:00-16:00.\\nSkulle din pakke allerede være blevet klargjort, kan vi desværre ikke annullere ordren. Fortvivl ej, du har 100 dages returret og vi tilbyder gratis ombytning.\\nØnsker du yderligere information omkring returnering og ombytning, så tryk på knappen herunder:']},\n",
              "  {'tag': 'Defekt produkt modtaget',\n",
              "   'patterns': ['Jeg har modtaget et defekt produkt',\n",
              "    'Hvad gør jeg med et defekt produkt?',\n",
              "    'Defekt produkt modtaget',\n",
              "    'Mit produkt er beskadiget'],\n",
              "   'responses': ['Vi bestræber os på at levere langtidsholdbare produkter af høj kvalitet. Alle vores produkter gennemgår en nøje kvalitetskontrol. Derudover gør vi vores bedste for at kontrollere kvaliteten af alle produkter, før vi sender dem til dig. Der kan dog forekomme fejl.\\n\\nHvis du modtager et defekt produkt, bedes du straks kontakte vores kundeservice.\\n\\nFor at vi kan løse din sag på bedste og hurtigste vis, vil vi bede dig om at sende os følgende oplysninger: \\n\\n- Ordrenummer\\n- Navnet på det defekte produkt\\n- Et billede af det defekte produkt\\n\\nSå snart vi har modtaget din e-mail, vil vi gøre vores bedste for at vende tilbage til dig så hurtigt som muligt.']},\n",
              "  {'tag': 'Forkert produkt modtaget',\n",
              "   'patterns': ['Jeg har modtaget det forkerte produkt',\n",
              "    'Fejlagtigt produkt modtaget',\n",
              "    'Hvad gør jeg hvis jeg har fået det forkerte produkt?',\n",
              "    'Forkert produkt modtaget'],\n",
              "   'responses': ['Vi gør vores bedste for at sende de bestilte produkter, men skulle du have modtaget et forkert produkt, bedes du venligst tage kontakt til vores kundeservice.\\n\\nFor at løse dette på nemmeste og hurtigste vis, vil vi bede dig sende os følgende informationer:\\n\\n- Ordrenummer\\n- Navnet på produktet som du ikke modtog\\n- Navnet på produktet som du fejlagtigt modtog\\n- Et billede af produktet samt mærket\\n\\nSå snart vi har modtaget din mail, vender vi tilbage til dig hurtigst muligt.']},\n",
              "  {'tag': 'Manglende produkter i min ordre',\n",
              "   'patterns': ['Jeg mangler et produkt i min ordre',\n",
              "    'Hvad gør jeg hvis der mangler et produkt?',\n",
              "    'Manglende produkt i min ordre',\n",
              "    'Et produkt i min ordre er ikke blevet leveret'],\n",
              "   'responses': ['Vi gør vores bedste for at sende de bestilte produkter!\\n\\nSkulle du dog være så uheldig, at et produkt fra din ordre ikke blev leveret, bedes du venligst tage kontakt til vores kundeservice.\\n\\nFor at løse dette på nemmeste og hurtigste vis, vil vi bede dig sende os følgende informationer:\\n\\n- Ordrenummer\\n- Navnet på produktet som du ikke modtog\\n- Et billede af kasse som ordren blev sendt i\\n\\nSå snart vi har modtaget din mail, vender vi tilbage til dig hurtigst muligt.']},\n",
              "  {'tag': 'Leveringsinformationer',\n",
              "   'patterns': ['Jeg vil gerne vide mere om levering',\n",
              "    'Hvad er leveringstiden?',\n",
              "    'Leveringsinformationer',\n",
              "    'Kan jeg få oplysninger om levering?'],\n",
              "   'responses': ['Nedenfor finder du en oversigt over de lande, som vi sender til. Herunder fremgår hvilke fragtfirmaer vi benytter os af, hvornår det seneste bestillingstidspunkt er, hvis pakken skal nå at blive sendt samme dag samt den forventede leveringstid.']},\n",
              "  {'tag': 'Leveringsmuligheder',\n",
              "   'patterns': ['Hvordan kan jeg få mine varer leveret?',\n",
              "    'Hvilke leveringsmuligheder har jeg?',\n",
              "    'Leveringsmuligheder',\n",
              "    'Kan jeg vælge leveringsmetode?'],\n",
              "   'responses': ['Vi sender alle danske ordrer med GLS. Ønsker man levering indenfor 1-2 hverdage, så kan man tilkøbe DHL Express.\\n\\nDu har følgende muligheder hvad angår levering:\\n- GLS Pakkeshop\\n- GLS Erhverv\\n- GLS Privatlevering\\n- DHL Express']},\n",
              "  {'tag': 'Leveringsmuligheder - GLS Pakkeshop',\n",
              "   'patterns': ['GLS Pakkeshop',\n",
              "    'Hvordan bliver det leveret med GLS Pakkeshop'],\n",
              "   'responses': ['Din pakke leveres til en GLS Pakkeshop, som ligger i nærheden af din adresse. Du får valget mellem flere forskellige pakkeshops, så du kan vælge den, der passer dig bedst. Du vil få en SMS, så snart din pakke er klar til afhentning. Denne leveringsmetode er gratis.']},\n",
              "  {'tag': 'Leveringsmuligheder - GLS Erhverv',\n",
              "   'patterns': ['GLS Erhverv', 'Hvordan bliver det leveret med GLS Erhverv'],\n",
              "   'responses': ['Din pakke sendes til en erhvervsadresse, f.eks. din arbejdsplads. For at sikre, at GLS leverer pakken, skal du angive firmanavn. Der skal være en let tilgængelig varemodtagelse samt nogen til at tage i mod pakken i normal åbningstid, ellers leveres den ikke. Denne leveringsmetode er gratis.']},\n",
              "  {'tag': 'Leveringsmuligheder - GLS Privatlevering',\n",
              "   'patterns': ['GLS Privatlevering',\n",
              "    'Hvordan bliver det leveret med GLS Privatlevering'],\n",
              "   'responses': ['Din pakke leveres på din privatadresse. Såfremt du ikke er hjemme til at tage imod pakken, leveres den blot til en GLS Pakkeshop i nærheden af den givne adresse. Denne leveringsmetode koster 19 kr.']},\n",
              "  {'tag': 'Leveringsmuligheder - DHL Express',\n",
              "   'patterns': ['DHL Express', 'Hvordan bliver det leveret med DHL Express'],\n",
              "   'responses': ['Din pakke leveres som udgangspunkt til din angivne adresse. Når pakken er på vej, får du en mail eller SMS med mulighed for at ændre leveringsmetoden. Denne leveringsmetode koster 90 kr.']},\n",
              "  {'tag': 'Spor min ordre',\n",
              "   'patterns': ['Hvordan sporer jeg min ordre?',\n",
              "    'Kan jeg få sporingsoplysninger for min ordre?',\n",
              "    'Spor min ordre',\n",
              "    'Hvordan følger jeg min ordre?'],\n",
              "   'responses': ['Når du har afgivet din ordre, modtager du først en ordrebekræftelse på mail. Denne ordrebekræftelse betyder, at vi har modtaget din ordre og den indeholder alle oplysninger vedrørende dit køb.\\n\\nNår din ordre er blevet pakket og har forladt vores lager, vil du modtage en forsendelsesbekræftelse. Forsendelsesbekræftelsen indeholder alle relevante oplysninger om leveringen af din ordre samt sporingsoplysninger.']},\n",
              "  {'tag': 'Levering i weekenden',\n",
              "   'patterns': ['Kan jeg få levering i weekenden?',\n",
              "    'Hvordan fungerer levering i weekenden?',\n",
              "    'Levering i weekenden',\n",
              "    'Afsendelse i weekenden'],\n",
              "   'responses': ['Vi afsender alle ordrer til Danmark med GLS, der leverer alle hverdage samt lørdage til pakkeshops, som har lørdagsåbent. Leveringstiden er 2-5 hverdage.\\n\\nHvis du bestiller inden kl. 14.00 på en fredag, vil din pakke blive afsendt samme dag, og ligeledes være i transit henover weekenden.\\n\\nLægger du en ordre i weekenden, vil den blive afsendt om mandagen.\\n\\nVær opmærksom på, at du modtager en SMS, når din pakke er klar til afhentning, såfremt du har valgt levering med GLS pakkeshop. Afhentning kan foregå i pakkeshoppens åbningstid, som den givne pakkeshop selv definerer.']},\n",
              "  {'tag': 'Afhentning i butik',\n",
              "   'patterns': ['Kan jeg afhente min ordre i butik?',\n",
              "    'Hvordan fungerer afhentning i butik?',\n",
              "    'Afhentning i butik',\n",
              "    'Er det muligt at hente en ordre i butik?'],\n",
              "   'responses': ['På nuværende tidspunkt er det ikke muligt at afhente en online ordre i en af vores fysiske butikker.\\n\\nHvis du ønsker at lave en bestilling på vores hjemmeside, så vil denne, alt efter den valgte forsendelsesmetode, blive sendt til din privatadresse, firmaadresse eller til den nærmeste pakkeshop.\\n\\nVi kan ikke garantere, at alle produkter vil være tilgængelige i butikkerne, men søger du efter en bestemt vare, skal du være velkommen til at kigge forbi en af vores butikker eller tage kontakt til vores kundeservice.']},\n",
              "  {'tag': 'Told- og importgebyr',\n",
              "   'patterns': ['Skal jeg betale toldgebyrer?',\n",
              "    'Er der importgebyrer?',\n",
              "    'Told- og importgebyr',\n",
              "    'Hvordan håndteres toldomkostninger?'],\n",
              "   'responses': ['Når du handler hos Shaping New Tomorrow, skal du ikke bekymre dig om ekstra omkostninger. Vi tilbyder gratis standardforsendelse og gratis returnering. Vi tager os også af eventuelle told- og importgebyrer.\\n\\nSkulle du af en eller anden grund modtage en opkrævning, bedes du kontakte vores kundeservice, som vil tage et kig på sagen.']},\n",
              "  {'tag': 'Ombytning eller returnering af gave købt online',\n",
              "   'patterns': ['Bytte eller returnere gave købt online',\n",
              "    'Ombytning af gave købt online',\n",
              "    'Returnering af online gave',\n",
              "    'Hvordan returnerer jeg en gave, der er købt online?'],\n",
              "   'responses': [\"Har du modtaget en gave og ønsker at ombytte eller returnere den, så har du forskellige muligheder for at gøre dette.\\n\\nFor at finde ud af, om din gave er købt online eller i en fysisk butik, anbefaler vi, at du spørger gavegiveren. For at kunne bytte eller returnere gaven, vil gavegiveren skulle give dig et ordrenummer eller gavekvittering, alt efter hvor gaven er købt.\\n\\nKlik på den passende overskrift nedenfor for at vide mere om, hvordan du bytter eller returnerer din gave:\\n\\n**Gave købt online**\\n\\nVed ombytning eller returnering online skal du bruge gavegiverens ordrenummer og postnummer. Når du har disse oplysninger, skal du gå til vores returportal via knappen nedenfor og registrere din returnering. Hvis du ønsker at ombytte produktet, skal du vælge enten 'Send den nærmeste størrelse' eller 'Byt for noget lignende'. Ved at vælge en af disse muligheder vil der blive foretaget en direkte ombytning. Når vi har modtaget og behandlet returneringen, vil bytteordren blive behandlet og sendt til dig.\\n\\nHvis du ønsker at ombytte produktet til en anden model eller pasform, skal du returnere det og lave en ny bestilling. Dette kan gøres via returportalen:\\n\\n**Ombyt/returnér i butik**\\n\\nHvis din gave er købt online, kan du også bytte eller returnere den i en af vores fysiske butikker. Til dette skal du blot medbringe produktet samt ordrenummeret.\\n\\nI tilfælde af returnering vil beløbet blive refunderet til gavegiver via den originale betalingsmetode.\\n\\nVær opmærksom på, at vi opererer gennem sikre betalingsmetoder. Dette betyder, at refunderinger kun kan foregå via den originale betalingsmetode. Dette kan ikke ændres.\\n\\nVed ombytning og returnering af gave vil refunderingen ske gennem gavegivers originale betalingsmetode.\"]},\n",
              "  {'tag': 'Ombytning eller returnering af gave købt i butik',\n",
              "   'patterns': ['Bytte eller returnere gave købt i butik',\n",
              "    'Ombytning af butikskøbt gave',\n",
              "    'Returnering i fysisk butik',\n",
              "    'Hvordan returnerer jeg en gave købt i butik?'],\n",
              "   'responses': ['Har du modtaget en gave og ønsker at ombytte eller returnere den, så har du forskellige muligheder for at gøre dette.\\n\\nFor at finde ud af, om din gave er købt online eller i en fysisk butik, anbefaler vi, at du spørger gavegiveren. For at kunne bytte eller returnere gaven, vil gavegiveren skulle give dig et ordrenummer eller gavekvittering, alt efter hvor gaven er købt.\\n\\nKlik på den passende overskrift nedenfor for at vide mere om, hvordan du bytter eller returnerer din gave:\\n\\n**Gave købt i butik**\\n\\nHvis du har modtaget en gave, der er købt i en af vores fysiske butikker, kan gaven også kun ombyttes eller returneres i en af disse.\\n\\nFor at ombytte skal du blot medbringe produktet samt gavekvitteringen til en af vores butikker, og ved returnering vil du skulle fremvise den originale kvittering.\\n\\nØnsker du at læse mere om returnering og ombytning, så klik på knappen nedenfor:']},\n",
              "  {'tag': 'Returnering af produkter fra forskellige ordrer',\n",
              "   'patterns': ['Hvordan returnerer jeg produkter fra forskellige ordrer?',\n",
              "    'Sådan returnerer du produkter fra to ordrer',\n",
              "    'Returnering af produkter fra flere ordrer',\n",
              "    'Hvordan håndterer jeg returnering af varer fra separate ordrer?'],\n",
              "   'responses': ['For at sikre den hurtigst mulige behandling af din returnering bedes du returnere hver enkelte registrering af returneringen separat. Hvis du i din returnering kombinerer varer fra forskellige registrerede returneringer, vil behandlingstiden for returneringen være betydeligt længere.\\n\\nHjælp os med at hjælpe dig, og pak dine registrerede returneringer separat.']},\n",
              "  {'tag': 'Refundering',\n",
              "   'patterns': ['Hvordan foregår en refundering?',\n",
              "    'Kan jeg få en tilbagebetaling?',\n",
              "    'Hvordan får jeg mine penge tilbage?',\n",
              "    'Refundering',\n",
              "    'Hvordan fungerer tilbagebetaling?'],\n",
              "   'responses': ['Hos SHAPING NEW TOMORROW opererer vi gennem sikre betalingsmetoder, og refunderinger foregår derfor via den originale betalingsmetode.\\n\\nHvis du i mellemtiden har skiftet bank, skal du kontakte din gamle bank, som kan overføre beløbet til din nye bankkonto.\\n\\nEr der blevet anvendt et gavekort til betaling, vil beløbet blive refunderet hertil, og gavekortet kan derefter bruges på ny.\\n\\nSåfremt du ikke længere har din gavekortskode, så skal du være mere end velkommen til at kontakte vores kundeservice, som vil kunne være behjælpelige med at finde gavekortskoden og gensende denne til den originale køber af gavekortet.']},\n",
              "  {'tag': 'Hvornår modtager jeg min refundering?',\n",
              "   'patterns': ['Hvor lang tid tager en refundering?',\n",
              "    'Hvornår får jeg mine penge tilbage?',\n",
              "    'Modtagelse af refundering',\n",
              "    'Tidsramme for refundering'],\n",
              "   'responses': ['Vi gør vores bedste for at behandle dine returneringer hurtigst muligt.\\n\\nHvis du beslutter dig for at returnere produkter, kan det tage op til 14 dage, før din returnering er behandlet, og dine penge refunderet.\\n\\nHvis du endnu ikke har modtaget din refundering efter 14 dage, bedes du kontakte vores kundeservice.\\n\\nFor at løse dette på nemmeste og hurtigste vis, vil vi bede dig sende os følgende informationer:\\n- Ordrenummer\\n- Hvilket produkt(er) du har returneret\\n- Trackingnummer\\nSå snart vi har modtaget din mail, vender vi tilbage til dig hurtigst muligt.']},\n",
              "  {'tag': 'Returnering fra fysisk butik til online',\n",
              "   'patterns': ['Kan jeg returnere produkter fra butikken online?',\n",
              "    'Kan jeg bytte butikskøbte varer online?',\n",
              "    'Returnering fra fysisk butik til online',\n",
              "    'Hvordan returnerer jeg butikskøbte varer online?'],\n",
              "   'responses': ['Såfremt du har købt produkter eller fået en gave, der er købt i en af vores butikker, kan de ikke returneres via vores online returportal. Disse skal returneres eller ombyttes i en af vores fysiske butikker i landet, hvor købet blev foretaget.\\n\\nDette er også gældende for ordrer bestilt i vores danske butikker. Hvis du ønsker at bytte eller returnere en af disse, sker dette ved at kigge forbi en af vores fysiske butikker i Danmark. Her skal du enten medbringe den kvittering, du modtog, da du afgav din ordre i butikken, eller den kopi du har modtaget på mail.\\n\\nHusk, at vi tilbyder 100 dages returret fra købsdato, så du har god tid til at foretage en ombytning eller returnering.']},\n",
              "  {'tag': 'Ordrenummer ved returnering',\n",
              "   'patterns': ['Mit ordrenummer virker ikke',\n",
              "    'Problemer med ordrenummer ved returnering',\n",
              "    'Kan ikke finde ordrenummer ved returnering',\n",
              "    'Fejl med ordrenummer under returnering'],\n",
              "   'responses': [\"Såfremt dit ordrenummer ikke virker, når du taster det i returportalen, skyldes det oftest, at det ikke indtastes korrekt. Husk at indsætte 'DK' foran ordrenummeret.\\n\\nVores systemer genkender kun ordrenumre, hvis de indeholder alle cifre, både bogstaver og tal.\\n\\nDit ordrenummer vil altid have et format, som ligner følgende ordrenumre, altså med to bogstaver efterfulgt af seks tal:\\n- DK123456\\n- DK555555\\n- DK654328\\n\\nVores system vil derimod ikke genkende følgende:\\n- 123456\\n- 555555\\n- 654328\\n- DK 123456\\n\\nSåfremt dette stadig ikke virker, kontakt vores kundeservice gennem knappen nedenfor:\"]},\n",
              "  {'tag': 'Gavekort',\n",
              "   'patterns': ['Hvad skal jeg gøre, hvis jeg har problemer med mit gavekort?',\n",
              "    'Jeg har problemer med gavekort',\n",
              "    'Hvordan køber jeg et gavekort?'],\n",
              "   'responses': ['Køb af online gavekort\\nNår du modtager et online gavekort, modtager du det via mail. Gavekortet bliver ikke sendt fysisk.\\n\\nDesuden har du mulighed for at skrive en lille hilsen til modtageren. Denne vil blive vist i mailen med gavekortet, som kan printes ud og/eller videresendes pr. mail til modtageren.\\n\\nKøb af gavekort i butik\\nNår du køber et gavekort i en af vores butikker, modtager du en kvittering med en gavekortskode og en online-version via mail.\\n\\nIndløsning af online gavekort\\nAlle gavekort kan indløses på vores website. Hvis du vil bruge dit gavekort online, skal du blot indtaste gavekortkoden i feltet for gavekort/rabatkode ved kassen. \\nHvis du ikke bruger det fulde beløb, forbliver gavekortet tilgængeligt, indtil du har brugt det fulde beløb. \\nHvis du ønsker at returnere noget fra en ordre, der er betalt med et gavekort, refunderes pengene til det samme gavekort. Gavekortet kan derefter bruges igen.\\nIndløsning af et gavekort i fysiske butikker\\nAlle gavekort kan indløses i vores fysiske butikker.\\n\\nHvis du ikke bruger det fulde beløb på gavekortet, vil der blive udstedt et nyt gavekort.']},\n",
              "  {'tag': 'Betalingsmuligheder',\n",
              "   'patterns': ['Hvilke betalingsmetoder accepterer I?',\n",
              "    'Kan jeg betale med kreditkort/debetkort?',\n",
              "    'Tager I imod mobilbetalinger som Apple Pay eller Google Pay?'],\n",
              "   'responses': ['Hos Shaping New Tomorrow ønsker vi at gøre det nemt og trygt for dig at handle.\\n\\nDu kan bruge følgende betalingsmidler hos os:\\n\\nVisa (alle typer Visa betalingskort)\\nMastercard (alle typer Mastercard betalingskort)\\nKlarna\\nMobilepay\\nAnyday']},\n",
              "  {'tag': 'Sådan indtaster du din rabatkode eller dit gavekort',\n",
              "   'patterns': ['Hvordan indtaster jeg rabatkode?',\n",
              "    'Hvordan indtaster jeg gavekort?',\n",
              "    'Hvordan indløser jeg rabatkode?',\n",
              "    'Hvordan indløser jeg gavekort?',\n",
              "    'Hvordan bruger jeg en rabatkode',\n",
              "    'Hvordan bruger jeg et gavekort'],\n",
              "   'responses': [\"Rabatkoder og gavekort indtastes i samme felt. Følg de få trin herunder for at finde feltet:\\n\\n1. Når du har valgt det ønskede produkt, trykker du på indkøbskurven øverst i højre hjørne\\n2. Acceptér så handelsbetingelserne og tryk 'Gå til betaling'\\n3. Herefter kommer du til siden 'Oplysninger', hvor du skal klikke på 'Vis ordreoversigt'\\n4. Du kan nu indtaste dit gavekort eller din rabatkode i feltet\\n\\nHvis du er i besiddelse af et fysisk gavekort i form af et kreditkort, kan du bruge dette online og i de danske butikker ved at indtaste cifrene undtagen de første fem.\\n\\nBemærk venligst: Det ikke er muligt at tilføje en rabatkode til en ordre, hvis man bestiller noget, der i forvejen er nedsat (sæt- eller kvantumrabat).\"]},\n",
              "  {'tag': 'Kan jeg få besked, når en udsolgt vare kommer på lager igen?',\n",
              "   'patterns': ['Kan jeg få besked, når en udsolgt vare kommer på lager igen?',\n",
              "    'Jeg vil gerne have besked om lagerstatus på en vare',\n",
              "    'Hvordan får jeg besked på udsolgte vare der kommer på lager igen?'],\n",
              "   'responses': ['Du kan skrive dig op til at få besked via SMS, email eller begge dele.\\n\\nDet gør du på følgende måde:\\n\\n1. Gå ind på vores hjemmeside og find det udsolgte produkt, som du ønsker at modtage en notifikation om\\n2. Vælg den ønskede størrelse\\n3. Du vil nu få mulighed for at indtaste dit telefonnummer og/eller din email ved at scrolle ned på siden\\n4. Indtast dit telefonnummer eller din e-mail og tryk på henholdsvis SEND SMS eller SEND E-MAIL']},\n",
              "  {'tag': 'Hvor kan man købe produkter fra Shaping New Tomorrow?',\n",
              "   'patterns': ['Hvor kan man købe produkter fra Shaping New Tomorrow?',\n",
              "    'Hvor kan jeg købe Shaping New Tomorrow produkter?',\n",
              "    'Hvordan kan jeg finde Shaping New Tomorrow produkter til salg?',\n",
              "    'Kan jeg købe Shaping New Tomorrow tøj online?'],\n",
              "   'responses': [\"Man kan udelukkende købe vores produkter i vores egne butikker i Danmark og Tyskland eller på vores hjemmeside http://shapingnewtomorrow.dk/\\n\\nTip: Der er desværre en del falske hjemmesider i omløb, der påstår at sælge Shaping New Tomorrow produkter. For at undgå ærgerlige og skuffende oplevelser kan du med fordel downloade browserudvidelsen 'Sikker shopping' til Google Chrome, som E-mærket har udviklet i samarbejde med Trygfonden.\\n\\n Installerer du denne app, så fortæller appen dig, hvis du er inde på en hjemmeside, der ikke er sikker og hvor du har stor sandsynlighed for enten at ende op med en kopivare eller, i værste fald, med at miste dine penge.\"]},\n",
              "  {'tag': 'Betaling med Klarna',\n",
              "   'patterns': ['Betaling med Klarna?',\n",
              "    'Tilbyder i Klarna service?',\n",
              "    'Har i Klarna?',\n",
              "    'Kan man betale med Klarna?'],\n",
              "   'responses': ['Klarna er en betalingsudbyder, der giver dig forskellige betalingsmetoder.\\nHvis du ønsker at betale med Klarna, har du følgende muligheder:\\n\\nKøb nu - betal senere\\nBetal senere er en betalingsmetode, som giver dig mulighed for at betale 30 dage efter afsendelse af varerne. Klarna sender betalingsoplysningerne til dig i form af et indbetalingskort, så du kan betale direkte til dem. \\n\\nBetal i 3 dele\\nBetal i 3 dele er en alternativ betalingsmetode til traditionel engangstransaktion, men uden renter eller gebyrer, hvis du betaler til tiden. Det giver dig mulighed for at opdele dine køb i 3 betalinger, som automatisk opkræves fra dit kort hver måned.\\n\\nDirekte betaling med kort\\nMed denne betalingsmetode kan du nemt og hurtigt betale direkte med det/de kort, du har tilknyttet din Klarna-konto.\\n\\nDu vælger selv betalingsmetoden, når du fuldfører ordren.\\n\\nHvis du har spørgsmål angående din Klarna-betaling, er vi mere end glade for at hjælpe dig. Dog kan det i nogle tilfælde være nødvendigt at kontakte Klarna direkte, når man eksempelvis har med personfølsomme data at gøre. Dette kan gøres enten via appen eller på deres hjemmeside.']},\n",
              "  {'tag': 'moms',\n",
              "   'patterns': ['Kan jeg få momsen refunderet?',\n",
              "    'Kan jeg trække momsen fra?',\n",
              "    'Hvad skal jeg gøre med moms?',\n",
              "    'Kan jeg få momsrefundering?',\n",
              "    'Kan jeg undværre moms?'],\n",
              "   'responses': ['Ved køb i butik, kan du få refunderet momsen, såfremt du er bosiddende udenfor EU. Få nærmere information om dette, når du handler i butikken.\\n\\nPå nuværende tidspunkt tilbyder vi desværre ikke momsrefundering ved køb på vores website, men vi arbejder på at gøre dette til en realitet.']},\n",
              "  {'tag': 'Erhverv',\n",
              "   'patterns': ['Sælger I til erhverv?',\n",
              "    'Sælger i til virksomheder?',\n",
              "    'Sælger i til erhvervskunder?',\n",
              "    'Hvordan fungerer erhvervssalg hos jer?'],\n",
              "   'responses': [\"På nuværende tidspunkt kan vi ikke tilbyde at sælge momsfrit til erhverv.\\n\\nMed det sagt, kan du henvende dig til Jakob på jby@shapingnewtomorrow.com og oplyse, hvad du overvejer at købe (f.eks.: '10 x Classic Pants Slim og 10 Supima t-shirts'), hvorefter han vil vende tilbage med info om et evt. videre forløb.\"]},\n",
              "  {'tag': 'Vaske- og Care Guide',\n",
              "   'patterns': ['Hvad er vaskeanbefalingerne',\n",
              "    'Hvad er jeres anbefalinger på vaskning og care?',\n",
              "    'Hvordan vasker man jeres produkter?',\n",
              "    'Har i en guide om vaskning og care af jeres produkter?'],\n",
              "   'responses': [\"For at forlænge levetiden på dine Shaping New Tomorrow-produkter og forbedre din samlede oplevelse, anbefaler vi, at du følger vores Vaske- og Care Guide.\\n\\nDu kan finde relevante vaske- og plejeinstruktioner for dit specifikke produkt på den dedikerede produktside på vores hjemmeside ved at klikke på 'MATERIALER OG VASKEANVISNINGER'.\\n\\nDesuden indeholder de fleste af vores produkter vaske- og plejeinstruktioner på vaskemærket i produktet. Dog kan nogle varer have disse instruktioner på emballagen i stedet.\\n\\nGenerelt anbefaler vi at vaske bukser, skjorter, striktrøjer og lignende produkter på vrangen ved temperaturer på 30ºC eller lavere. Blazere og jakker bør ikke vaskes, men sendes til rens for at bevare deres pasform.\\n\\nHvad angår boxershorts og strømper, kan de vaskes ved en højere temperatur på 60ºC.\\n\\nFor hver 5. til 10. vask anbefaler vi at bruge klar eddike, da det blødgør stoffet samt fjerner kalk og sæberester fra produktet. Hæld 0,5 deciliter i skyllemiddelsrummet i din vaskemaskine.\\n\\nVi anbefaler ikke at bruge skyllemiddel, da det indeholder vaskeaktive stoffer, der har en negativ indvirkning på produkterne såvel som miljøet. Brug af blegemiddel og vaskemidler med blegemiddel anbefales heller ikke.\\n\\nHvis du er i tvivl om, hvordan du passer på dit produkt, så tøv ikke med at kontakte vores kundeservice. De vil være mere end glade for at hjælpe dig!\"]},\n",
              "  {'tag': 'reklamation',\n",
              "   'patterns': ['Hvordan reklamerer jeg?',\n",
              "    'Hvordan virker reklamation?',\n",
              "    'Reklamation hos jer?',\n",
              "    'Der er fejl i mit produkt?',\n",
              "    'Mit produkt er defekt'],\n",
              "   'responses': ['Hvis du oplever en fejl eller defekt på dit produkt, har du mulighed for at indsende en reklamation.\\n\\nFor at indsende en reklamation, skal du besøge vores reklamationsportal og følge nogle simple trin for at give os de nødvendige oplysninger. Ved at gøre dette kan vi tilbyde dig hurtig og bekvem hjælp til at løse problemet. \\n\\nKlik på knappen nedenfor for at gå til vores reklamationsportal:']},\n",
              "  {'tag': 'baglommer',\n",
              "   'patterns': ['Hvordan åbner jeg mine baglommer?',\n",
              "    'Baglommen er ikke åben',\n",
              "    'Hvorfor er min baglomme lukket?'],\n",
              "   'responses': ['For at vedligeholde buksernes holdbarhed og integritet anbefaler vi, at man ikke åbner baglommerne. Baglommerne i dine Classic Pants kan dog åbnes, såfremt du ønsker det. \\n\\nInden du vælger at åbne dem, så vær opmærksom på lommernes dybde ved at kigge indvendigt i bukserne. Af æstetiske årsager er baglommerne ikke betydeligt store. Derfor er det en god idé at undersøge, hvorvidt det du ønsker at opbevare i lommen, rent faktisk kan være deri.\\n\\nVi vil hjertens gerne hjælpe dig med at åbne dine bukser og vil derfor anbefale dig at kigge forbi en af vores fysiske butikker, hvor vores professionelle personale vil kunne gøre det for dig.\\n\\nBemærk venligst:\\nÅbning af baglommerne sker på eget ansvar. Når dine lommer er åbnede, kan bukserne ikke ombyttes eller refunderes.']},\n",
              "  {'tag': 'størrelsesguides',\n",
              "   'patterns': ['Hvordan ved jeg at størrelsen passer på mig?',\n",
              "    'Hvilken størrelse bruger jeg?',\n",
              "    'Hvordan tjekker jeg størrelse?'],\n",
              "   'responses': ['Hos Shaping New Tomorrow tilbyder vi forskellige pasformer og størrelser.\\nFor at hjælpe dig bedst muligt med at vælge den rigtige størrelse, tilbyder vi en række størrelsesguides.\\n\\nFit\\nFor nogle produkter tilbyder vi Slim og Regular Fit. For produkter, hvor begge pasformer er tilgængelige, finder du en guide med en beskrivelse af forskellene og billeder, så du kan sammenligne dem.\\n\\nInteraktiv størrelsesguide \\nVores interaktive størrelsesguide bruger rigtige data og maskinlæring til at hjælpe dig med at finde den rigtige størrelse. Følg trinene og vi vil ud fra det angivne komme med vores bedste anbefalinger.\\n\\nStørrelse & Fit\\nEn størrelsesguide med mål er tilgængelig for alle vores produkter. Du kan bruge denne guide til at finde den rigtige størrelse til dig og sammenligne målene med det tøj, du normalt bruger.']},\n",
              "  {'tag': 'store lår',\n",
              "   'patterns': ['Jeg har store lår, kan jeg passe jeres bukser?',\n",
              "    'Jeg har store lægge, kan jeg passe jeres bukser?',\n",
              "    'Hvordan passer jeres bukser til mine lår?',\n",
              "    'Hvordan passer jeres bukser til mine lægge?'],\n",
              "   'responses': ['Hvis du har store lår eller lægge plejer det, som udgangspunkt, ikke at være noget problem. Vi tilbyder nemlig både Slim og Regular fit.\\n\\nDu kan altid prøve vores bukser på i nogle timer og derefter bestemme dig for, om du synes, at de har givet sig tilstrækkeligt og sidder, som du ønsker det.']},\n",
              "  {'tag': 'regular og slim fit',\n",
              "   'patterns': ['Hvad er forskellen på regular og slim fit?',\n",
              "    'Hvordan kender jeg forskellen på regular og slim fit?',\n",
              "    'Hvordan kan jeg se forskellen på regular og slim fit?'],\n",
              "   'responses': [\"Måden hvorpå du kan se, om du har modtaget et par bukser i Regular eller Slim, er ved at kigge på labelen i bukserne.\\n\\nHvis label er hvid er det Slim fit og hvis label er mørkegrå og markeret 'Regular' er det Regular fit.\"]},\n",
              "  {'tag': 'skrædderpriser',\n",
              "   'patterns': ['Har i Skræddersyer?',\n",
              "    'Kan man få skræddersyet?',\n",
              "    'Hvad er prisen for skræddersyning?',\n",
              "    'Hvad er skrædderpriser på jeres produkter?'],\n",
              "   'responses': ['Til alle vores butikker har vi tilknyttet en skrædder, som gør det muligt for dig at få lavet ændringer på dine SNT produkter. Dette er muligt at benytte sig af både ved køb i vores fysiske butikker, men også ved online køb, hvis du efterfølgende møder op i butikken med produktet\\n\\nVores skræddere tilbyder følgende ydelser:  \\n\\nBukser:\\nOplægning: Fra 70,- DKK\\nLynlås, udskiftning: Fra 100,- DKK\\nBukseknap: Fra 20,- DKK\\n\\nBemærk, at ovenstående priser er vejledende.\\n\\nSkjorter:\\nOplægning: Fra 100,- DKK\\n\\nBemærk, at ovenstående pris er vejledende.\\n\\nBlazer:\\nOplægning: Fra 160,- DKK\\nViddejustering: Fra 170,- DKK\\n\\nBemærk, at ovenstående priser er vejledende.\\n\\nPriserne for de forskellige skrædderydelser varierer fra butik til butik. Ønsker du at høre nærmere herom, skal du være velkommen til at henvende dig i vores butikker eller tage kontakt til vores kundeservice']},\n",
              "  {'tag': 'Lynlås',\n",
              "   'patterns': ['Min lynlås går hele tiden ned, hvad gør jeg?',\n",
              "    'Min lynlås er gået i stykker?',\n",
              "    'Lynlåsen kan ikke lynes op?'],\n",
              "   'responses': ['Alle vores bukser er udstyret med en automatisk lukkemekanisme i lynlåsen. Mekanismen låser, når snippen peger nedad.\\n\\nHvis dine bukser er for små, kan det også påvirke lynlåsens evne til at forblive oppe/låst.\\n\\nHvis ovenstående ikke afhjælper dit problem, så send os venligst nogle billeder pr. mail, så skal vi med glæde hjælpe dig med problemet.']}]}"
            ]
          },
          "metadata": {},
          "execution_count": 87
        }
      ]
    },
    {
      "cell_type": "code",
      "source": [
        "# Reformating data and reformatting into useable data\n",
        "data_1 = []\n",
        "\n",
        "for i in json_data['intents']:\n",
        "  l = len(i['patterns'])\n",
        "  tuples = list(zip(i['patterns'], l*[i['tag']]))\n",
        "  data_1.extend(tuples)"
      ],
      "metadata": {
        "id": "iRVRChs6ey-0"
      },
      "execution_count": null,
      "outputs": []
    },
    {
      "cell_type": "code",
      "source": [
        "# Created a pandas DataFrame from our data\n",
        "df = pd.DataFrame(data_1, columns=['txt','label'])\n",
        "df.head(15)"
      ],
      "metadata": {
        "colab": {
          "base_uri": "https://localhost:8080/",
          "height": 520
        },
        "id": "x6EKS-jJfOjM",
        "outputId": "57fe6eef-6e49-48e4-d41a-cdda2be48630"
      },
      "execution_count": null,
      "outputs": [
        {
          "output_type": "execute_result",
          "data": {
            "text/plain": [
              "                                                  txt               label\n",
              "0                                                 Hej              hilsen\n",
              "1                                              Halløj              hilsen\n",
              "2                                              Goddag              hilsen\n",
              "3                                             God dag              hilsen\n",
              "4                                       Går det godt?                svar\n",
              "5                                              Farvel              farvel\n",
              "6                                       Vi ses senere              farvel\n",
              "7                                              Farvel              farvel\n",
              "8                                                 Tak                 tak\n",
              "9                                    Tak skal du have                 tak\n",
              "10                                    Tak for hjælpen                 tak\n",
              "11                                         Mange tak!                 tak\n",
              "12  Jeg vil gerne bestille en vare til hjemmelevering  Bestilling i butik\n",
              "13           Kan jeg bestille produkter til levering?  Bestilling i butik\n",
              "14          Hvordan bestiller jeg varer til levering?  Bestilling i butik"
            ],
            "text/html": [
              "\n",
              "  <div id=\"df-549945da-f552-46f4-8993-5001431a95a5\" class=\"colab-df-container\">\n",
              "    <div>\n",
              "<style scoped>\n",
              "    .dataframe tbody tr th:only-of-type {\n",
              "        vertical-align: middle;\n",
              "    }\n",
              "\n",
              "    .dataframe tbody tr th {\n",
              "        vertical-align: top;\n",
              "    }\n",
              "\n",
              "    .dataframe thead th {\n",
              "        text-align: right;\n",
              "    }\n",
              "</style>\n",
              "<table border=\"1\" class=\"dataframe\">\n",
              "  <thead>\n",
              "    <tr style=\"text-align: right;\">\n",
              "      <th></th>\n",
              "      <th>txt</th>\n",
              "      <th>label</th>\n",
              "    </tr>\n",
              "  </thead>\n",
              "  <tbody>\n",
              "    <tr>\n",
              "      <th>0</th>\n",
              "      <td>Hej</td>\n",
              "      <td>hilsen</td>\n",
              "    </tr>\n",
              "    <tr>\n",
              "      <th>1</th>\n",
              "      <td>Halløj</td>\n",
              "      <td>hilsen</td>\n",
              "    </tr>\n",
              "    <tr>\n",
              "      <th>2</th>\n",
              "      <td>Goddag</td>\n",
              "      <td>hilsen</td>\n",
              "    </tr>\n",
              "    <tr>\n",
              "      <th>3</th>\n",
              "      <td>God dag</td>\n",
              "      <td>hilsen</td>\n",
              "    </tr>\n",
              "    <tr>\n",
              "      <th>4</th>\n",
              "      <td>Går det godt?</td>\n",
              "      <td>svar</td>\n",
              "    </tr>\n",
              "    <tr>\n",
              "      <th>5</th>\n",
              "      <td>Farvel</td>\n",
              "      <td>farvel</td>\n",
              "    </tr>\n",
              "    <tr>\n",
              "      <th>6</th>\n",
              "      <td>Vi ses senere</td>\n",
              "      <td>farvel</td>\n",
              "    </tr>\n",
              "    <tr>\n",
              "      <th>7</th>\n",
              "      <td>Farvel</td>\n",
              "      <td>farvel</td>\n",
              "    </tr>\n",
              "    <tr>\n",
              "      <th>8</th>\n",
              "      <td>Tak</td>\n",
              "      <td>tak</td>\n",
              "    </tr>\n",
              "    <tr>\n",
              "      <th>9</th>\n",
              "      <td>Tak skal du have</td>\n",
              "      <td>tak</td>\n",
              "    </tr>\n",
              "    <tr>\n",
              "      <th>10</th>\n",
              "      <td>Tak for hjælpen</td>\n",
              "      <td>tak</td>\n",
              "    </tr>\n",
              "    <tr>\n",
              "      <th>11</th>\n",
              "      <td>Mange tak!</td>\n",
              "      <td>tak</td>\n",
              "    </tr>\n",
              "    <tr>\n",
              "      <th>12</th>\n",
              "      <td>Jeg vil gerne bestille en vare til hjemmelevering</td>\n",
              "      <td>Bestilling i butik</td>\n",
              "    </tr>\n",
              "    <tr>\n",
              "      <th>13</th>\n",
              "      <td>Kan jeg bestille produkter til levering?</td>\n",
              "      <td>Bestilling i butik</td>\n",
              "    </tr>\n",
              "    <tr>\n",
              "      <th>14</th>\n",
              "      <td>Hvordan bestiller jeg varer til levering?</td>\n",
              "      <td>Bestilling i butik</td>\n",
              "    </tr>\n",
              "  </tbody>\n",
              "</table>\n",
              "</div>\n",
              "    <div class=\"colab-df-buttons\">\n",
              "\n",
              "  <div class=\"colab-df-container\">\n",
              "    <button class=\"colab-df-convert\" onclick=\"convertToInteractive('df-549945da-f552-46f4-8993-5001431a95a5')\"\n",
              "            title=\"Convert this dataframe to an interactive table.\"\n",
              "            style=\"display:none;\">\n",
              "\n",
              "  <svg xmlns=\"http://www.w3.org/2000/svg\" height=\"24px\" viewBox=\"0 -960 960 960\">\n",
              "    <path d=\"M120-120v-720h720v720H120Zm60-500h600v-160H180v160Zm220 220h160v-160H400v160Zm0 220h160v-160H400v160ZM180-400h160v-160H180v160Zm440 0h160v-160H620v160ZM180-180h160v-160H180v160Zm440 0h160v-160H620v160Z\"/>\n",
              "  </svg>\n",
              "    </button>\n",
              "\n",
              "  <style>\n",
              "    .colab-df-container {\n",
              "      display:flex;\n",
              "      gap: 12px;\n",
              "    }\n",
              "\n",
              "    .colab-df-convert {\n",
              "      background-color: #E8F0FE;\n",
              "      border: none;\n",
              "      border-radius: 50%;\n",
              "      cursor: pointer;\n",
              "      display: none;\n",
              "      fill: #1967D2;\n",
              "      height: 32px;\n",
              "      padding: 0 0 0 0;\n",
              "      width: 32px;\n",
              "    }\n",
              "\n",
              "    .colab-df-convert:hover {\n",
              "      background-color: #E2EBFA;\n",
              "      box-shadow: 0px 1px 2px rgba(60, 64, 67, 0.3), 0px 1px 3px 1px rgba(60, 64, 67, 0.15);\n",
              "      fill: #174EA6;\n",
              "    }\n",
              "\n",
              "    .colab-df-buttons div {\n",
              "      margin-bottom: 4px;\n",
              "    }\n",
              "\n",
              "    [theme=dark] .colab-df-convert {\n",
              "      background-color: #3B4455;\n",
              "      fill: #D2E3FC;\n",
              "    }\n",
              "\n",
              "    [theme=dark] .colab-df-convert:hover {\n",
              "      background-color: #434B5C;\n",
              "      box-shadow: 0px 1px 3px 1px rgba(0, 0, 0, 0.15);\n",
              "      filter: drop-shadow(0px 1px 2px rgba(0, 0, 0, 0.3));\n",
              "      fill: #FFFFFF;\n",
              "    }\n",
              "  </style>\n",
              "\n",
              "    <script>\n",
              "      const buttonEl =\n",
              "        document.querySelector('#df-549945da-f552-46f4-8993-5001431a95a5 button.colab-df-convert');\n",
              "      buttonEl.style.display =\n",
              "        google.colab.kernel.accessAllowed ? 'block' : 'none';\n",
              "\n",
              "      async function convertToInteractive(key) {\n",
              "        const element = document.querySelector('#df-549945da-f552-46f4-8993-5001431a95a5');\n",
              "        const dataTable =\n",
              "          await google.colab.kernel.invokeFunction('convertToInteractive',\n",
              "                                                    [key], {});\n",
              "        if (!dataTable) return;\n",
              "\n",
              "        const docLinkHtml = 'Like what you see? Visit the ' +\n",
              "          '<a target=\"_blank\" href=https://colab.research.google.com/notebooks/data_table.ipynb>data table notebook</a>'\n",
              "          + ' to learn more about interactive tables.';\n",
              "        element.innerHTML = '';\n",
              "        dataTable['output_type'] = 'display_data';\n",
              "        await google.colab.output.renderOutput(dataTable, element);\n",
              "        const docLink = document.createElement('div');\n",
              "        docLink.innerHTML = docLinkHtml;\n",
              "        element.appendChild(docLink);\n",
              "      }\n",
              "    </script>\n",
              "  </div>\n",
              "\n",
              "\n",
              "<div id=\"df-2e0c229a-a05e-48ce-86d2-6863c2a5e0ad\">\n",
              "  <button class=\"colab-df-quickchart\" onclick=\"quickchart('df-2e0c229a-a05e-48ce-86d2-6863c2a5e0ad')\"\n",
              "            title=\"Suggest charts\"\n",
              "            style=\"display:none;\">\n",
              "\n",
              "<svg xmlns=\"http://www.w3.org/2000/svg\" height=\"24px\"viewBox=\"0 0 24 24\"\n",
              "     width=\"24px\">\n",
              "    <g>\n",
              "        <path d=\"M19 3H5c-1.1 0-2 .9-2 2v14c0 1.1.9 2 2 2h14c1.1 0 2-.9 2-2V5c0-1.1-.9-2-2-2zM9 17H7v-7h2v7zm4 0h-2V7h2v10zm4 0h-2v-4h2v4z\"/>\n",
              "    </g>\n",
              "</svg>\n",
              "  </button>\n",
              "\n",
              "<style>\n",
              "  .colab-df-quickchart {\n",
              "      --bg-color: #E8F0FE;\n",
              "      --fill-color: #1967D2;\n",
              "      --hover-bg-color: #E2EBFA;\n",
              "      --hover-fill-color: #174EA6;\n",
              "      --disabled-fill-color: #AAA;\n",
              "      --disabled-bg-color: #DDD;\n",
              "  }\n",
              "\n",
              "  [theme=dark] .colab-df-quickchart {\n",
              "      --bg-color: #3B4455;\n",
              "      --fill-color: #D2E3FC;\n",
              "      --hover-bg-color: #434B5C;\n",
              "      --hover-fill-color: #FFFFFF;\n",
              "      --disabled-bg-color: #3B4455;\n",
              "      --disabled-fill-color: #666;\n",
              "  }\n",
              "\n",
              "  .colab-df-quickchart {\n",
              "    background-color: var(--bg-color);\n",
              "    border: none;\n",
              "    border-radius: 50%;\n",
              "    cursor: pointer;\n",
              "    display: none;\n",
              "    fill: var(--fill-color);\n",
              "    height: 32px;\n",
              "    padding: 0;\n",
              "    width: 32px;\n",
              "  }\n",
              "\n",
              "  .colab-df-quickchart:hover {\n",
              "    background-color: var(--hover-bg-color);\n",
              "    box-shadow: 0 1px 2px rgba(60, 64, 67, 0.3), 0 1px 3px 1px rgba(60, 64, 67, 0.15);\n",
              "    fill: var(--button-hover-fill-color);\n",
              "  }\n",
              "\n",
              "  .colab-df-quickchart-complete:disabled,\n",
              "  .colab-df-quickchart-complete:disabled:hover {\n",
              "    background-color: var(--disabled-bg-color);\n",
              "    fill: var(--disabled-fill-color);\n",
              "    box-shadow: none;\n",
              "  }\n",
              "\n",
              "  .colab-df-spinner {\n",
              "    border: 2px solid var(--fill-color);\n",
              "    border-color: transparent;\n",
              "    border-bottom-color: var(--fill-color);\n",
              "    animation:\n",
              "      spin 1s steps(1) infinite;\n",
              "  }\n",
              "\n",
              "  @keyframes spin {\n",
              "    0% {\n",
              "      border-color: transparent;\n",
              "      border-bottom-color: var(--fill-color);\n",
              "      border-left-color: var(--fill-color);\n",
              "    }\n",
              "    20% {\n",
              "      border-color: transparent;\n",
              "      border-left-color: var(--fill-color);\n",
              "      border-top-color: var(--fill-color);\n",
              "    }\n",
              "    30% {\n",
              "      border-color: transparent;\n",
              "      border-left-color: var(--fill-color);\n",
              "      border-top-color: var(--fill-color);\n",
              "      border-right-color: var(--fill-color);\n",
              "    }\n",
              "    40% {\n",
              "      border-color: transparent;\n",
              "      border-right-color: var(--fill-color);\n",
              "      border-top-color: var(--fill-color);\n",
              "    }\n",
              "    60% {\n",
              "      border-color: transparent;\n",
              "      border-right-color: var(--fill-color);\n",
              "    }\n",
              "    80% {\n",
              "      border-color: transparent;\n",
              "      border-right-color: var(--fill-color);\n",
              "      border-bottom-color: var(--fill-color);\n",
              "    }\n",
              "    90% {\n",
              "      border-color: transparent;\n",
              "      border-bottom-color: var(--fill-color);\n",
              "    }\n",
              "  }\n",
              "</style>\n",
              "\n",
              "  <script>\n",
              "    async function quickchart(key) {\n",
              "      const quickchartButtonEl =\n",
              "        document.querySelector('#' + key + ' button');\n",
              "      quickchartButtonEl.disabled = true;  // To prevent multiple clicks.\n",
              "      quickchartButtonEl.classList.add('colab-df-spinner');\n",
              "      try {\n",
              "        const charts = await google.colab.kernel.invokeFunction(\n",
              "            'suggestCharts', [key], {});\n",
              "      } catch (error) {\n",
              "        console.error('Error during call to suggestCharts:', error);\n",
              "      }\n",
              "      quickchartButtonEl.classList.remove('colab-df-spinner');\n",
              "      quickchartButtonEl.classList.add('colab-df-quickchart-complete');\n",
              "    }\n",
              "    (() => {\n",
              "      let quickchartButtonEl =\n",
              "        document.querySelector('#df-2e0c229a-a05e-48ce-86d2-6863c2a5e0ad button');\n",
              "      quickchartButtonEl.style.display =\n",
              "        google.colab.kernel.accessAllowed ? 'block' : 'none';\n",
              "    })();\n",
              "  </script>\n",
              "</div>\n",
              "    </div>\n",
              "  </div>\n"
            ]
          },
          "metadata": {},
          "execution_count": 89
        }
      ]
    },
    {
      "cell_type": "code",
      "source": [
        "# Including response for EDA purposes\n",
        "data_2 = []\n",
        "\n",
        "for i in json_data['intents']:\n",
        "  l = len(i['patterns'])\n",
        "  k = len(i['responses'])\n",
        "  tuples = list(zip(i['patterns'], i['responses'], l*[i['tag']]))\n",
        "  data_2.extend(tuples)"
      ],
      "metadata": {
        "id": "wHVF4lxCe9hu"
      },
      "execution_count": null,
      "outputs": []
    },
    {
      "cell_type": "code",
      "source": [
        "df_EDA = pd.DataFrame(data_2, columns=['txt','response','label'])\n",
        "df_EDA.head(15)"
      ],
      "metadata": {
        "colab": {
          "base_uri": "https://localhost:8080/",
          "height": 520
        },
        "id": "aTHWjWhtfNrm",
        "outputId": "23de0a3d-f44b-4cf8-f4ea-7cb5cac82ffc"
      },
      "execution_count": null,
      "outputs": [
        {
          "output_type": "execute_result",
          "data": {
            "text/plain": [
              "                                                  txt  \\\n",
              "0                                                 Hej   \n",
              "1                                              Halløj   \n",
              "2                                              Goddag   \n",
              "3                                       Går det godt?   \n",
              "4                                              Farvel   \n",
              "5                                       Vi ses senere   \n",
              "6                                              Farvel   \n",
              "7                                                 Tak   \n",
              "8                                    Tak skal du have   \n",
              "9                                     Tak for hjælpen   \n",
              "10  Jeg vil gerne bestille en vare til hjemmelevering   \n",
              "11  Hvor lang leveringstid er der ved køb i butikken?   \n",
              "12                       Returnering fra fysisk butik   \n",
              "13         Jeg har ikke modtaget min ordrebekræftelse   \n",
              "14                  Jeg vil gerne annullere min ordre   \n",
              "\n",
              "                                             response  \\\n",
              "0                                               Hej 😊   \n",
              "1                       Hej, hvad kan jeg hjælpe med?   \n",
              "2                        Hej, hvordan kan jeg hjælpe?   \n",
              "3                         Det går godt. Hvad med dig?   \n",
              "4                      Vi ses senere, tak for besøget   \n",
              "5                                      Hav en god dag   \n",
              "6                          Farvel! Kom tilbage snart.   \n",
              "7                           Glad for at kunne hjælpe!   \n",
              "8                           Altid klar til at hjælpe!   \n",
              "9                               Det var en fornøjelse   \n",
              "10  Når du har bestilt produkter i butikken til hj...   \n",
              "11  Som udgangspunkt vil du modtage din bestilling...   \n",
              "12  Når du afgiver en ordre i en af vores fysiske ...   \n",
              "13  Når din bestilling er blevet korrekt gennemfør...   \n",
              "14  Ønsker du at annullere din ordre, skal du stra...   \n",
              "\n",
              "                                  label  \n",
              "0                                hilsen  \n",
              "1                                hilsen  \n",
              "2                                hilsen  \n",
              "3                                  svar  \n",
              "4                                farvel  \n",
              "5                                farvel  \n",
              "6                                farvel  \n",
              "7                                   tak  \n",
              "8                                   tak  \n",
              "9                                   tak  \n",
              "10                   Bestilling i butik  \n",
              "11        Leveringstid bestilling butik  \n",
              "12  Returnering af bestilling fra butik  \n",
              "13       Ordrebekræftelse ikke modtaget  \n",
              "14                 Annullering af ordre  "
            ],
            "text/html": [
              "\n",
              "  <div id=\"df-06d97373-6af1-426b-b3f6-b90beb7dd9df\" class=\"colab-df-container\">\n",
              "    <div>\n",
              "<style scoped>\n",
              "    .dataframe tbody tr th:only-of-type {\n",
              "        vertical-align: middle;\n",
              "    }\n",
              "\n",
              "    .dataframe tbody tr th {\n",
              "        vertical-align: top;\n",
              "    }\n",
              "\n",
              "    .dataframe thead th {\n",
              "        text-align: right;\n",
              "    }\n",
              "</style>\n",
              "<table border=\"1\" class=\"dataframe\">\n",
              "  <thead>\n",
              "    <tr style=\"text-align: right;\">\n",
              "      <th></th>\n",
              "      <th>txt</th>\n",
              "      <th>response</th>\n",
              "      <th>label</th>\n",
              "    </tr>\n",
              "  </thead>\n",
              "  <tbody>\n",
              "    <tr>\n",
              "      <th>0</th>\n",
              "      <td>Hej</td>\n",
              "      <td>Hej 😊</td>\n",
              "      <td>hilsen</td>\n",
              "    </tr>\n",
              "    <tr>\n",
              "      <th>1</th>\n",
              "      <td>Halløj</td>\n",
              "      <td>Hej, hvad kan jeg hjælpe med?</td>\n",
              "      <td>hilsen</td>\n",
              "    </tr>\n",
              "    <tr>\n",
              "      <th>2</th>\n",
              "      <td>Goddag</td>\n",
              "      <td>Hej, hvordan kan jeg hjælpe?</td>\n",
              "      <td>hilsen</td>\n",
              "    </tr>\n",
              "    <tr>\n",
              "      <th>3</th>\n",
              "      <td>Går det godt?</td>\n",
              "      <td>Det går godt. Hvad med dig?</td>\n",
              "      <td>svar</td>\n",
              "    </tr>\n",
              "    <tr>\n",
              "      <th>4</th>\n",
              "      <td>Farvel</td>\n",
              "      <td>Vi ses senere, tak for besøget</td>\n",
              "      <td>farvel</td>\n",
              "    </tr>\n",
              "    <tr>\n",
              "      <th>5</th>\n",
              "      <td>Vi ses senere</td>\n",
              "      <td>Hav en god dag</td>\n",
              "      <td>farvel</td>\n",
              "    </tr>\n",
              "    <tr>\n",
              "      <th>6</th>\n",
              "      <td>Farvel</td>\n",
              "      <td>Farvel! Kom tilbage snart.</td>\n",
              "      <td>farvel</td>\n",
              "    </tr>\n",
              "    <tr>\n",
              "      <th>7</th>\n",
              "      <td>Tak</td>\n",
              "      <td>Glad for at kunne hjælpe!</td>\n",
              "      <td>tak</td>\n",
              "    </tr>\n",
              "    <tr>\n",
              "      <th>8</th>\n",
              "      <td>Tak skal du have</td>\n",
              "      <td>Altid klar til at hjælpe!</td>\n",
              "      <td>tak</td>\n",
              "    </tr>\n",
              "    <tr>\n",
              "      <th>9</th>\n",
              "      <td>Tak for hjælpen</td>\n",
              "      <td>Det var en fornøjelse</td>\n",
              "      <td>tak</td>\n",
              "    </tr>\n",
              "    <tr>\n",
              "      <th>10</th>\n",
              "      <td>Jeg vil gerne bestille en vare til hjemmelevering</td>\n",
              "      <td>Når du har bestilt produkter i butikken til hj...</td>\n",
              "      <td>Bestilling i butik</td>\n",
              "    </tr>\n",
              "    <tr>\n",
              "      <th>11</th>\n",
              "      <td>Hvor lang leveringstid er der ved køb i butikken?</td>\n",
              "      <td>Som udgangspunkt vil du modtage din bestilling...</td>\n",
              "      <td>Leveringstid bestilling butik</td>\n",
              "    </tr>\n",
              "    <tr>\n",
              "      <th>12</th>\n",
              "      <td>Returnering fra fysisk butik</td>\n",
              "      <td>Når du afgiver en ordre i en af vores fysiske ...</td>\n",
              "      <td>Returnering af bestilling fra butik</td>\n",
              "    </tr>\n",
              "    <tr>\n",
              "      <th>13</th>\n",
              "      <td>Jeg har ikke modtaget min ordrebekræftelse</td>\n",
              "      <td>Når din bestilling er blevet korrekt gennemfør...</td>\n",
              "      <td>Ordrebekræftelse ikke modtaget</td>\n",
              "    </tr>\n",
              "    <tr>\n",
              "      <th>14</th>\n",
              "      <td>Jeg vil gerne annullere min ordre</td>\n",
              "      <td>Ønsker du at annullere din ordre, skal du stra...</td>\n",
              "      <td>Annullering af ordre</td>\n",
              "    </tr>\n",
              "  </tbody>\n",
              "</table>\n",
              "</div>\n",
              "    <div class=\"colab-df-buttons\">\n",
              "\n",
              "  <div class=\"colab-df-container\">\n",
              "    <button class=\"colab-df-convert\" onclick=\"convertToInteractive('df-06d97373-6af1-426b-b3f6-b90beb7dd9df')\"\n",
              "            title=\"Convert this dataframe to an interactive table.\"\n",
              "            style=\"display:none;\">\n",
              "\n",
              "  <svg xmlns=\"http://www.w3.org/2000/svg\" height=\"24px\" viewBox=\"0 -960 960 960\">\n",
              "    <path d=\"M120-120v-720h720v720H120Zm60-500h600v-160H180v160Zm220 220h160v-160H400v160Zm0 220h160v-160H400v160ZM180-400h160v-160H180v160Zm440 0h160v-160H620v160ZM180-180h160v-160H180v160Zm440 0h160v-160H620v160Z\"/>\n",
              "  </svg>\n",
              "    </button>\n",
              "\n",
              "  <style>\n",
              "    .colab-df-container {\n",
              "      display:flex;\n",
              "      gap: 12px;\n",
              "    }\n",
              "\n",
              "    .colab-df-convert {\n",
              "      background-color: #E8F0FE;\n",
              "      border: none;\n",
              "      border-radius: 50%;\n",
              "      cursor: pointer;\n",
              "      display: none;\n",
              "      fill: #1967D2;\n",
              "      height: 32px;\n",
              "      padding: 0 0 0 0;\n",
              "      width: 32px;\n",
              "    }\n",
              "\n",
              "    .colab-df-convert:hover {\n",
              "      background-color: #E2EBFA;\n",
              "      box-shadow: 0px 1px 2px rgba(60, 64, 67, 0.3), 0px 1px 3px 1px rgba(60, 64, 67, 0.15);\n",
              "      fill: #174EA6;\n",
              "    }\n",
              "\n",
              "    .colab-df-buttons div {\n",
              "      margin-bottom: 4px;\n",
              "    }\n",
              "\n",
              "    [theme=dark] .colab-df-convert {\n",
              "      background-color: #3B4455;\n",
              "      fill: #D2E3FC;\n",
              "    }\n",
              "\n",
              "    [theme=dark] .colab-df-convert:hover {\n",
              "      background-color: #434B5C;\n",
              "      box-shadow: 0px 1px 3px 1px rgba(0, 0, 0, 0.15);\n",
              "      filter: drop-shadow(0px 1px 2px rgba(0, 0, 0, 0.3));\n",
              "      fill: #FFFFFF;\n",
              "    }\n",
              "  </style>\n",
              "\n",
              "    <script>\n",
              "      const buttonEl =\n",
              "        document.querySelector('#df-06d97373-6af1-426b-b3f6-b90beb7dd9df button.colab-df-convert');\n",
              "      buttonEl.style.display =\n",
              "        google.colab.kernel.accessAllowed ? 'block' : 'none';\n",
              "\n",
              "      async function convertToInteractive(key) {\n",
              "        const element = document.querySelector('#df-06d97373-6af1-426b-b3f6-b90beb7dd9df');\n",
              "        const dataTable =\n",
              "          await google.colab.kernel.invokeFunction('convertToInteractive',\n",
              "                                                    [key], {});\n",
              "        if (!dataTable) return;\n",
              "\n",
              "        const docLinkHtml = 'Like what you see? Visit the ' +\n",
              "          '<a target=\"_blank\" href=https://colab.research.google.com/notebooks/data_table.ipynb>data table notebook</a>'\n",
              "          + ' to learn more about interactive tables.';\n",
              "        element.innerHTML = '';\n",
              "        dataTable['output_type'] = 'display_data';\n",
              "        await google.colab.output.renderOutput(dataTable, element);\n",
              "        const docLink = document.createElement('div');\n",
              "        docLink.innerHTML = docLinkHtml;\n",
              "        element.appendChild(docLink);\n",
              "      }\n",
              "    </script>\n",
              "  </div>\n",
              "\n",
              "\n",
              "<div id=\"df-f7dd5d5c-5ed1-4065-a002-d1a86e82810e\">\n",
              "  <button class=\"colab-df-quickchart\" onclick=\"quickchart('df-f7dd5d5c-5ed1-4065-a002-d1a86e82810e')\"\n",
              "            title=\"Suggest charts\"\n",
              "            style=\"display:none;\">\n",
              "\n",
              "<svg xmlns=\"http://www.w3.org/2000/svg\" height=\"24px\"viewBox=\"0 0 24 24\"\n",
              "     width=\"24px\">\n",
              "    <g>\n",
              "        <path d=\"M19 3H5c-1.1 0-2 .9-2 2v14c0 1.1.9 2 2 2h14c1.1 0 2-.9 2-2V5c0-1.1-.9-2-2-2zM9 17H7v-7h2v7zm4 0h-2V7h2v10zm4 0h-2v-4h2v4z\"/>\n",
              "    </g>\n",
              "</svg>\n",
              "  </button>\n",
              "\n",
              "<style>\n",
              "  .colab-df-quickchart {\n",
              "      --bg-color: #E8F0FE;\n",
              "      --fill-color: #1967D2;\n",
              "      --hover-bg-color: #E2EBFA;\n",
              "      --hover-fill-color: #174EA6;\n",
              "      --disabled-fill-color: #AAA;\n",
              "      --disabled-bg-color: #DDD;\n",
              "  }\n",
              "\n",
              "  [theme=dark] .colab-df-quickchart {\n",
              "      --bg-color: #3B4455;\n",
              "      --fill-color: #D2E3FC;\n",
              "      --hover-bg-color: #434B5C;\n",
              "      --hover-fill-color: #FFFFFF;\n",
              "      --disabled-bg-color: #3B4455;\n",
              "      --disabled-fill-color: #666;\n",
              "  }\n",
              "\n",
              "  .colab-df-quickchart {\n",
              "    background-color: var(--bg-color);\n",
              "    border: none;\n",
              "    border-radius: 50%;\n",
              "    cursor: pointer;\n",
              "    display: none;\n",
              "    fill: var(--fill-color);\n",
              "    height: 32px;\n",
              "    padding: 0;\n",
              "    width: 32px;\n",
              "  }\n",
              "\n",
              "  .colab-df-quickchart:hover {\n",
              "    background-color: var(--hover-bg-color);\n",
              "    box-shadow: 0 1px 2px rgba(60, 64, 67, 0.3), 0 1px 3px 1px rgba(60, 64, 67, 0.15);\n",
              "    fill: var(--button-hover-fill-color);\n",
              "  }\n",
              "\n",
              "  .colab-df-quickchart-complete:disabled,\n",
              "  .colab-df-quickchart-complete:disabled:hover {\n",
              "    background-color: var(--disabled-bg-color);\n",
              "    fill: var(--disabled-fill-color);\n",
              "    box-shadow: none;\n",
              "  }\n",
              "\n",
              "  .colab-df-spinner {\n",
              "    border: 2px solid var(--fill-color);\n",
              "    border-color: transparent;\n",
              "    border-bottom-color: var(--fill-color);\n",
              "    animation:\n",
              "      spin 1s steps(1) infinite;\n",
              "  }\n",
              "\n",
              "  @keyframes spin {\n",
              "    0% {\n",
              "      border-color: transparent;\n",
              "      border-bottom-color: var(--fill-color);\n",
              "      border-left-color: var(--fill-color);\n",
              "    }\n",
              "    20% {\n",
              "      border-color: transparent;\n",
              "      border-left-color: var(--fill-color);\n",
              "      border-top-color: var(--fill-color);\n",
              "    }\n",
              "    30% {\n",
              "      border-color: transparent;\n",
              "      border-left-color: var(--fill-color);\n",
              "      border-top-color: var(--fill-color);\n",
              "      border-right-color: var(--fill-color);\n",
              "    }\n",
              "    40% {\n",
              "      border-color: transparent;\n",
              "      border-right-color: var(--fill-color);\n",
              "      border-top-color: var(--fill-color);\n",
              "    }\n",
              "    60% {\n",
              "      border-color: transparent;\n",
              "      border-right-color: var(--fill-color);\n",
              "    }\n",
              "    80% {\n",
              "      border-color: transparent;\n",
              "      border-right-color: var(--fill-color);\n",
              "      border-bottom-color: var(--fill-color);\n",
              "    }\n",
              "    90% {\n",
              "      border-color: transparent;\n",
              "      border-bottom-color: var(--fill-color);\n",
              "    }\n",
              "  }\n",
              "</style>\n",
              "\n",
              "  <script>\n",
              "    async function quickchart(key) {\n",
              "      const quickchartButtonEl =\n",
              "        document.querySelector('#' + key + ' button');\n",
              "      quickchartButtonEl.disabled = true;  // To prevent multiple clicks.\n",
              "      quickchartButtonEl.classList.add('colab-df-spinner');\n",
              "      try {\n",
              "        const charts = await google.colab.kernel.invokeFunction(\n",
              "            'suggestCharts', [key], {});\n",
              "      } catch (error) {\n",
              "        console.error('Error during call to suggestCharts:', error);\n",
              "      }\n",
              "      quickchartButtonEl.classList.remove('colab-df-spinner');\n",
              "      quickchartButtonEl.classList.add('colab-df-quickchart-complete');\n",
              "    }\n",
              "    (() => {\n",
              "      let quickchartButtonEl =\n",
              "        document.querySelector('#df-f7dd5d5c-5ed1-4065-a002-d1a86e82810e button');\n",
              "      quickchartButtonEl.style.display =\n",
              "        google.colab.kernel.accessAllowed ? 'block' : 'none';\n",
              "    })();\n",
              "  </script>\n",
              "</div>\n",
              "    </div>\n",
              "  </div>\n"
            ]
          },
          "metadata": {},
          "execution_count": 91
        }
      ]
    },
    {
      "cell_type": "markdown",
      "source": [
        "# Exploratory data analysis / EDA"
      ],
      "metadata": {
        "id": "Nh-U_dIdA-qD"
      }
    },
    {
      "cell_type": "markdown",
      "source": [
        "## Overview of data / Description of the data"
      ],
      "metadata": {
        "id": "sd8Uy5b1qFnJ"
      }
    },
    {
      "cell_type": "code",
      "source": [
        "# How many questions do we have?\n",
        "df['txt'].count()"
      ],
      "metadata": {
        "colab": {
          "base_uri": "https://localhost:8080/"
        },
        "id": "vX7xH_CYfWTz",
        "outputId": "3b705cbd-5642-4ee8-bba0-309646c97c60"
      },
      "execution_count": null,
      "outputs": [
        {
          "output_type": "execute_result",
          "data": {
            "text/plain": [
              "167"
            ]
          },
          "metadata": {},
          "execution_count": 92
        }
      ]
    },
    {
      "cell_type": "code",
      "source": [
        "df.shape"
      ],
      "metadata": {
        "colab": {
          "base_uri": "https://localhost:8080/"
        },
        "id": "mXPHU18pWMHN",
        "outputId": "6f70d713-a0d1-44d5-eaa5-356265282c5e"
      },
      "execution_count": null,
      "outputs": [
        {
          "output_type": "execute_result",
          "data": {
            "text/plain": [
              "(167, 2)"
            ]
          },
          "metadata": {},
          "execution_count": 93
        }
      ]
    },
    {
      "cell_type": "code",
      "source": [
        "# Count number of unique labels\n",
        "df[\"label\"].nunique()"
      ],
      "metadata": {
        "colab": {
          "base_uri": "https://localhost:8080/"
        },
        "id": "-ltRkc19VdsV",
        "outputId": "e8ef5320-f4d5-4dec-ff1e-74e81ba64841"
      },
      "execution_count": null,
      "outputs": [
        {
          "output_type": "execute_result",
          "data": {
            "text/plain": [
              "46"
            ]
          },
          "metadata": {},
          "execution_count": 94
        }
      ]
    },
    {
      "cell_type": "code",
      "source": [
        "# Value counts for each labels\n",
        "df[\"label\"].value_counts()"
      ],
      "metadata": {
        "colab": {
          "base_uri": "https://localhost:8080/"
        },
        "id": "oPpR22O7jfyc",
        "outputId": "0947d0ee-e000-4b8a-e2d7-04e7ccdd48aa"
      },
      "execution_count": null,
      "outputs": [
        {
          "output_type": "execute_result",
          "data": {
            "text/plain": [
              "Sådan indtaster du din rabatkode eller dit gavekort             6\n",
              "Bestilling i butik                                              5\n",
              "reklamation                                                     5\n",
              "Refundering                                                     5\n",
              "moms                                                            5\n",
              "hilsen                                                          4\n",
              "Ordrenummer ved returnering                                     4\n",
              "Told- og importgebyr                                            4\n",
              "Ombytning eller returnering af gave købt i butik                4\n",
              "Returnering af produkter fra forskellige ordrer                 4\n",
              "Hvornår modtager jeg min refundering?                           4\n",
              "Returnering fra fysisk butik til online                         4\n",
              "Hvor kan man købe produkter fra Shaping New Tomorrow?           4\n",
              "Levering i weekenden                                            4\n",
              "Betaling med Klarna                                             4\n",
              "Erhverv                                                         4\n",
              "Vaske- og Care Guide                                            4\n",
              "store lår                                                       4\n",
              "skrædderpriser                                                  4\n",
              "Afhentning i butik                                              4\n",
              "Ombytning eller returnering af gave købt online                 4\n",
              "Spor min ordre                                                  4\n",
              "Annullering af ordre                                            4\n",
              "tak                                                             4\n",
              "Leveringsmuligheder                                             4\n",
              "Leveringsinformationer                                          4\n",
              "Manglende produkter i min ordre                                 4\n",
              "Forkert produkt modtaget                                        4\n",
              "Ordrebekræftelse ikke modtaget                                  4\n",
              "Defekt produkt modtaget                                         4\n",
              "Ændring af ordre                                                4\n",
              "farvel                                                          3\n",
              "regular og slim fit                                             3\n",
              "størrelsesguides                                                3\n",
              "baglommer                                                       3\n",
              "Returnering af bestilling fra butik                             3\n",
              "Kan jeg få besked, når en udsolgt vare kommer på lager igen?    3\n",
              "Betalingsmuligheder                                             3\n",
              "Gavekort                                                        3\n",
              "Lynlås                                                          3\n",
              "Leveringsmuligheder - DHL Express                               2\n",
              "Leveringsmuligheder - GLS Pakkeshop                             2\n",
              "Leveringsmuligheder - GLS Erhverv                               2\n",
              "Leveringsmuligheder - GLS Privatlevering                        2\n",
              "Leveringstid bestilling butik                                   1\n",
              "svar                                                            1\n",
              "Name: label, dtype: int64"
            ]
          },
          "metadata": {},
          "execution_count": 95
        }
      ]
    },
    {
      "cell_type": "code",
      "source": [
        "# Count number of unique response\n",
        "df_EDA[\"response\"].nunique()"
      ],
      "metadata": {
        "colab": {
          "base_uri": "https://localhost:8080/"
        },
        "id": "zFpYPnj3j63w",
        "outputId": "c4b04790-42aa-4f96-88f9-ca44a0651f3c"
      },
      "execution_count": null,
      "outputs": [
        {
          "output_type": "execute_result",
          "data": {
            "text/plain": [
              "52"
            ]
          },
          "metadata": {},
          "execution_count": 96
        }
      ]
    },
    {
      "cell_type": "code",
      "source": [
        "# Statistics for the sentences\n",
        "print(\"Minimum sentence length: \", df['txt'].str.len().min())\n",
        "print(\"Maximum  sentence length: \", df['txt'].str.len().max())\n",
        "print(\"Average sentence length: \", df['txt'].str.len().mean())\n",
        "print(\"Median sentence length: \", df['txt'].str.len().median())\n",
        "print(\"Mode: \", df['txt'].str.len().mode())"
      ],
      "metadata": {
        "colab": {
          "base_uri": "https://localhost:8080/"
        },
        "id": "qy3WPuAXkU5o",
        "outputId": "d121548e-98b3-4767-fcbd-272790b355b6"
      },
      "execution_count": null,
      "outputs": [
        {
          "output_type": "stream",
          "name": "stdout",
          "text": [
            "Minimum sentence length:  3\n",
            "Maximum  sentence length:  65\n",
            "Average sentence length:  32.32335329341317\n",
            "Median sentence length:  31.0\n",
            "Mode:  0    29\n",
            "Name: txt, dtype: int64\n"
          ]
        }
      ]
    },
    {
      "cell_type": "markdown",
      "source": [
        "## EDA on pattern attribute"
      ],
      "metadata": {
        "id": "54g-z9X_q90h"
      }
    },
    {
      "cell_type": "code",
      "source": [
        "# Making a histogram for the question and the length of the question\n",
        "df['txt'].str.len().hist()\n",
        "plt.grid(False)\n",
        "plt.title('Character length of sentence')"
      ],
      "metadata": {
        "id": "1uHfEIHrawI6",
        "colab": {
          "base_uri": "https://localhost:8080/",
          "height": 469
        },
        "outputId": "197e19d1-3d81-4b55-b26b-ae8c85beec9b"
      },
      "execution_count": null,
      "outputs": [
        {
          "output_type": "execute_result",
          "data": {
            "text/plain": [
              "Text(0.5, 1.0, 'Character length of sentence')"
            ]
          },
          "metadata": {},
          "execution_count": 98
        },
        {
          "output_type": "display_data",
          "data": {
            "text/plain": [
              "<Figure size 640x480 with 1 Axes>"
            ],
            "image/png": "[encoded data removed]"
          },
          "metadata": {}
        }
      ]
    },
    {
      "cell_type": "code",
      "source": [
        "# making a histogram for the response lengths\n",
        "df_EDA['response'].str.len().hist()\n",
        "plt.grid(False)\n",
        "plt.title('Character length of response')"
      ],
      "metadata": {
        "colab": {
          "base_uri": "https://localhost:8080/",
          "height": 469
        },
        "id": "UmLM_yhDZlfZ",
        "outputId": "8514491f-fb34-4078-e98b-ff8c7a62df3d"
      },
      "execution_count": null,
      "outputs": [
        {
          "output_type": "execute_result",
          "data": {
            "text/plain": [
              "Text(0.5, 1.0, 'Character length of response')"
            ]
          },
          "metadata": {},
          "execution_count": 99
        },
        {
          "output_type": "display_data",
          "data": {
            "text/plain": [
              "<Figure size 640x480 with 1 Axes>"
            ],
            "image/png": "[encoded data removed]"
          },
          "metadata": {}
        }
      ]
    },
    {
      "cell_type": "code",
      "source": [
        "# making a function for average word length in each sentence\n",
        "def plot_word_length_histogram(text):\n",
        "    text.str.split().\\\n",
        "        apply(lambda x : [len(i) for i in x]). \\\n",
        "        map(lambda x: np.mean(x)).\\\n",
        "        hist()\n",
        "    plt.grid(False)"
      ],
      "metadata": {
        "id": "0AgTB4hNZ867"
      },
      "execution_count": null,
      "outputs": []
    },
    {
      "cell_type": "code",
      "source": [
        "# average word length in each questions sentence\n",
        "plot_word_length_histogram(df['txt'])\n",
        "plt.title('Average word length in questions')"
      ],
      "metadata": {
        "colab": {
          "base_uri": "https://localhost:8080/",
          "height": 469
        },
        "id": "wPi9k9azbLKU",
        "outputId": "4219dd0c-78ec-46a3-86a2-74bb1441e74c"
      },
      "execution_count": null,
      "outputs": [
        {
          "output_type": "execute_result",
          "data": {
            "text/plain": [
              "Text(0.5, 1.0, 'Average word length in questions')"
            ]
          },
          "metadata": {},
          "execution_count": 101
        },
        {
          "output_type": "display_data",
          "data": {
            "text/plain": [
              "<Figure size 640x480 with 1 Axes>"
            ],
            "image/png": "[encoded data removed]"
          },
          "metadata": {}
        }
      ]
    },
    {
      "cell_type": "code",
      "source": [
        "# average word length in each response sentence\n",
        "plot_word_length_histogram(df_EDA['response'])\n",
        "plt.title('Average word length in response')"
      ],
      "metadata": {
        "colab": {
          "base_uri": "https://localhost:8080/",
          "height": 469
        },
        "id": "_W37IK9lbQa4",
        "outputId": "e08b435e-c126-4520-c229-ddd4a448de5b"
      },
      "execution_count": null,
      "outputs": [
        {
          "output_type": "execute_result",
          "data": {
            "text/plain": [
              "Text(0.5, 1.0, 'Average word length in response')"
            ]
          },
          "metadata": {},
          "execution_count": 102
        },
        {
          "output_type": "display_data",
          "data": {
            "text/plain": [
              "<Figure size 640x480 with 1 Axes>"
            ],
            "image/png": "[encoded data removed]"
          },
          "metadata": {}
        }
      ]
    },
    {
      "cell_type": "markdown",
      "source": [
        "### Make additional attributes"
      ],
      "metadata": {
        "id": "3pBSnh1opA4d"
      }
    },
    {
      "cell_type": "code",
      "source": [
        "# Length of questions\n",
        "df['Length_txt'] = df['txt'].str.len()"
      ],
      "metadata": {
        "id": "Ildl2hSo1-jk"
      },
      "execution_count": null,
      "outputs": []
    },
    {
      "cell_type": "code",
      "source": [
        "# count of words for questions\n",
        "def word_count(review):\n",
        "    review_list = review.split()\n",
        "    return len(review_list)\n",
        "\n",
        "df['Word_count'] = df['txt'].apply(word_count)"
      ],
      "metadata": {
        "id": "kXDblfgy20Sb"
      },
      "execution_count": null,
      "outputs": []
    },
    {
      "cell_type": "code",
      "source": [
        "# mean word length for each question\n",
        "df['mean_word_length'] = df['txt'].map(lambda rev: np.mean([len(word) for word in rev.split()]))"
      ],
      "metadata": {
        "id": "msBmqTTl3GEt"
      },
      "execution_count": null,
      "outputs": []
    },
    {
      "cell_type": "code",
      "source": [
        "# import nltk for tokenize the sentences\n",
        "from nltk import tokenize\n",
        "import nltk\n",
        "nltk.download('punkt')"
      ],
      "metadata": {
        "colab": {
          "base_uri": "https://localhost:8080/"
        },
        "id": "GxPn3JbE3OMj",
        "outputId": "5cb18d95-9940-4a88-aa29-90758ed564d6"
      },
      "execution_count": null,
      "outputs": [
        {
          "output_type": "stream",
          "name": "stderr",
          "text": [
            "[nltk_data] Downloading package punkt to /root/nltk_data...\n",
            "[nltk_data]   Package punkt is already up-to-date!\n"
          ]
        },
        {
          "output_type": "execute_result",
          "data": {
            "text/plain": [
              "True"
            ]
          },
          "metadata": {},
          "execution_count": 106
        }
      ]
    },
    {
      "cell_type": "code",
      "source": [
        "# mean sentence length using nltk\n",
        "df['mean_sent_length'] = df['txt'].map(lambda rev: np.mean([len(sent) for sent in tokenize.sent_tokenize(rev)]))"
      ],
      "metadata": {
        "id": "FC7lL4603yfj"
      },
      "execution_count": null,
      "outputs": []
    },
    {
      "cell_type": "code",
      "source": [
        "df.head()"
      ],
      "metadata": {
        "colab": {
          "base_uri": "https://localhost:8080/",
          "height": 206
        },
        "id": "zEuEpBi4pqnC",
        "outputId": "f931a279-596c-449e-d2d0-be543defd4d3"
      },
      "execution_count": null,
      "outputs": [
        {
          "output_type": "execute_result",
          "data": {
            "text/plain": [
              "             txt   label  Length_txt  Word_count  mean_word_length  \\\n",
              "0            Hej  hilsen           3           1          3.000000   \n",
              "1         Halløj  hilsen           6           1          6.000000   \n",
              "2         Goddag  hilsen           6           1          6.000000   \n",
              "3        God dag  hilsen           7           2          3.000000   \n",
              "4  Går det godt?    svar          13           3          3.666667   \n",
              "\n",
              "   mean_sent_length  \n",
              "0               3.0  \n",
              "1               6.0  \n",
              "2               6.0  \n",
              "3               7.0  \n",
              "4              13.0  "
            ],
            "text/html": [
              "\n",
              "  <div id=\"df-6610a2a7-dd15-40f9-a5e5-ce07e14090fd\" class=\"colab-df-container\">\n",
              "    <div>\n",
              "<style scoped>\n",
              "    .dataframe tbody tr th:only-of-type {\n",
              "        vertical-align: middle;\n",
              "    }\n",
              "\n",
              "    .dataframe tbody tr th {\n",
              "        vertical-align: top;\n",
              "    }\n",
              "\n",
              "    .dataframe thead th {\n",
              "        text-align: right;\n",
              "    }\n",
              "</style>\n",
              "<table border=\"1\" class=\"dataframe\">\n",
              "  <thead>\n",
              "    <tr style=\"text-align: right;\">\n",
              "      <th></th>\n",
              "      <th>txt</th>\n",
              "      <th>label</th>\n",
              "      <th>Length_txt</th>\n",
              "      <th>Word_count</th>\n",
              "      <th>mean_word_length</th>\n",
              "      <th>mean_sent_length</th>\n",
              "    </tr>\n",
              "  </thead>\n",
              "  <tbody>\n",
              "    <tr>\n",
              "      <th>0</th>\n",
              "      <td>Hej</td>\n",
              "      <td>hilsen</td>\n",
              "      <td>3</td>\n",
              "      <td>1</td>\n",
              "      <td>3.000000</td>\n",
              "      <td>3.0</td>\n",
              "    </tr>\n",
              "    <tr>\n",
              "      <th>1</th>\n",
              "      <td>Halløj</td>\n",
              "      <td>hilsen</td>\n",
              "      <td>6</td>\n",
              "      <td>1</td>\n",
              "      <td>6.000000</td>\n",
              "      <td>6.0</td>\n",
              "    </tr>\n",
              "    <tr>\n",
              "      <th>2</th>\n",
              "      <td>Goddag</td>\n",
              "      <td>hilsen</td>\n",
              "      <td>6</td>\n",
              "      <td>1</td>\n",
              "      <td>6.000000</td>\n",
              "      <td>6.0</td>\n",
              "    </tr>\n",
              "    <tr>\n",
              "      <th>3</th>\n",
              "      <td>God dag</td>\n",
              "      <td>hilsen</td>\n",
              "      <td>7</td>\n",
              "      <td>2</td>\n",
              "      <td>3.000000</td>\n",
              "      <td>7.0</td>\n",
              "    </tr>\n",
              "    <tr>\n",
              "      <th>4</th>\n",
              "      <td>Går det godt?</td>\n",
              "      <td>svar</td>\n",
              "      <td>13</td>\n",
              "      <td>3</td>\n",
              "      <td>3.666667</td>\n",
              "      <td>13.0</td>\n",
              "    </tr>\n",
              "  </tbody>\n",
              "</table>\n",
              "</div>\n",
              "    <div class=\"colab-df-buttons\">\n",
              "\n",
              "  <div class=\"colab-df-container\">\n",
              "    <button class=\"colab-df-convert\" onclick=\"convertToInteractive('df-6610a2a7-dd15-40f9-a5e5-ce07e14090fd')\"\n",
              "            title=\"Convert this dataframe to an interactive table.\"\n",
              "            style=\"display:none;\">\n",
              "\n",
              "  <svg xmlns=\"http://www.w3.org/2000/svg\" height=\"24px\" viewBox=\"0 -960 960 960\">\n",
              "    <path d=\"M120-120v-720h720v720H120Zm60-500h600v-160H180v160Zm220 220h160v-160H400v160Zm0 220h160v-160H400v160ZM180-400h160v-160H180v160Zm440 0h160v-160H620v160ZM180-180h160v-160H180v160Zm440 0h160v-160H620v160Z\"/>\n",
              "  </svg>\n",
              "    </button>\n",
              "\n",
              "  <style>\n",
              "    .colab-df-container {\n",
              "      display:flex;\n",
              "      gap: 12px;\n",
              "    }\n",
              "\n",
              "    .colab-df-convert {\n",
              "      background-color: #E8F0FE;\n",
              "      border: none;\n",
              "      border-radius: 50%;\n",
              "      cursor: pointer;\n",
              "      display: none;\n",
              "      fill: #1967D2;\n",
              "      height: 32px;\n",
              "      padding: 0 0 0 0;\n",
              "      width: 32px;\n",
              "    }\n",
              "\n",
              "    .colab-df-convert:hover {\n",
              "      background-color: #E2EBFA;\n",
              "      box-shadow: 0px 1px 2px rgba(60, 64, 67, 0.3), 0px 1px 3px 1px rgba(60, 64, 67, 0.15);\n",
              "      fill: #174EA6;\n",
              "    }\n",
              "\n",
              "    .colab-df-buttons div {\n",
              "      margin-bottom: 4px;\n",
              "    }\n",
              "\n",
              "    [theme=dark] .colab-df-convert {\n",
              "      background-color: #3B4455;\n",
              "      fill: #D2E3FC;\n",
              "    }\n",
              "\n",
              "    [theme=dark] .colab-df-convert:hover {\n",
              "      background-color: #434B5C;\n",
              "      box-shadow: 0px 1px 3px 1px rgba(0, 0, 0, 0.15);\n",
              "      filter: drop-shadow(0px 1px 2px rgba(0, 0, 0, 0.3));\n",
              "      fill: #FFFFFF;\n",
              "    }\n",
              "  </style>\n",
              "\n",
              "    <script>\n",
              "      const buttonEl =\n",
              "        document.querySelector('#df-6610a2a7-dd15-40f9-a5e5-ce07e14090fd button.colab-df-convert');\n",
              "      buttonEl.style.display =\n",
              "        google.colab.kernel.accessAllowed ? 'block' : 'none';\n",
              "\n",
              "      async function convertToInteractive(key) {\n",
              "        const element = document.querySelector('#df-6610a2a7-dd15-40f9-a5e5-ce07e14090fd');\n",
              "        const dataTable =\n",
              "          await google.colab.kernel.invokeFunction('convertToInteractive',\n",
              "                                                    [key], {});\n",
              "        if (!dataTable) return;\n",
              "\n",
              "        const docLinkHtml = 'Like what you see? Visit the ' +\n",
              "          '<a target=\"_blank\" href=https://colab.research.google.com/notebooks/data_table.ipynb>data table notebook</a>'\n",
              "          + ' to learn more about interactive tables.';\n",
              "        element.innerHTML = '';\n",
              "        dataTable['output_type'] = 'display_data';\n",
              "        await google.colab.output.renderOutput(dataTable, element);\n",
              "        const docLink = document.createElement('div');\n",
              "        docLink.innerHTML = docLinkHtml;\n",
              "        element.appendChild(docLink);\n",
              "      }\n",
              "    </script>\n",
              "  </div>\n",
              "\n",
              "\n",
              "<div id=\"df-08861efe-d2c6-4bca-a207-8c070d3996d8\">\n",
              "  <button class=\"colab-df-quickchart\" onclick=\"quickchart('df-08861efe-d2c6-4bca-a207-8c070d3996d8')\"\n",
              "            title=\"Suggest charts\"\n",
              "            style=\"display:none;\">\n",
              "\n",
              "<svg xmlns=\"http://www.w3.org/2000/svg\" height=\"24px\"viewBox=\"0 0 24 24\"\n",
              "     width=\"24px\">\n",
              "    <g>\n",
              "        <path d=\"M19 3H5c-1.1 0-2 .9-2 2v14c0 1.1.9 2 2 2h14c1.1 0 2-.9 2-2V5c0-1.1-.9-2-2-2zM9 17H7v-7h2v7zm4 0h-2V7h2v10zm4 0h-2v-4h2v4z\"/>\n",
              "    </g>\n",
              "</svg>\n",
              "  </button>\n",
              "\n",
              "<style>\n",
              "  .colab-df-quickchart {\n",
              "      --bg-color: #E8F0FE;\n",
              "      --fill-color: #1967D2;\n",
              "      --hover-bg-color: #E2EBFA;\n",
              "      --hover-fill-color: #174EA6;\n",
              "      --disabled-fill-color: #AAA;\n",
              "      --disabled-bg-color: #DDD;\n",
              "  }\n",
              "\n",
              "  [theme=dark] .colab-df-quickchart {\n",
              "      --bg-color: #3B4455;\n",
              "      --fill-color: #D2E3FC;\n",
              "      --hover-bg-color: #434B5C;\n",
              "      --hover-fill-color: #FFFFFF;\n",
              "      --disabled-bg-color: #3B4455;\n",
              "      --disabled-fill-color: #666;\n",
              "  }\n",
              "\n",
              "  .colab-df-quickchart {\n",
              "    background-color: var(--bg-color);\n",
              "    border: none;\n",
              "    border-radius: 50%;\n",
              "    cursor: pointer;\n",
              "    display: none;\n",
              "    fill: var(--fill-color);\n",
              "    height: 32px;\n",
              "    padding: 0;\n",
              "    width: 32px;\n",
              "  }\n",
              "\n",
              "  .colab-df-quickchart:hover {\n",
              "    background-color: var(--hover-bg-color);\n",
              "    box-shadow: 0 1px 2px rgba(60, 64, 67, 0.3), 0 1px 3px 1px rgba(60, 64, 67, 0.15);\n",
              "    fill: var(--button-hover-fill-color);\n",
              "  }\n",
              "\n",
              "  .colab-df-quickchart-complete:disabled,\n",
              "  .colab-df-quickchart-complete:disabled:hover {\n",
              "    background-color: var(--disabled-bg-color);\n",
              "    fill: var(--disabled-fill-color);\n",
              "    box-shadow: none;\n",
              "  }\n",
              "\n",
              "  .colab-df-spinner {\n",
              "    border: 2px solid var(--fill-color);\n",
              "    border-color: transparent;\n",
              "    border-bottom-color: var(--fill-color);\n",
              "    animation:\n",
              "      spin 1s steps(1) infinite;\n",
              "  }\n",
              "\n",
              "  @keyframes spin {\n",
              "    0% {\n",
              "      border-color: transparent;\n",
              "      border-bottom-color: var(--fill-color);\n",
              "      border-left-color: var(--fill-color);\n",
              "    }\n",
              "    20% {\n",
              "      border-color: transparent;\n",
              "      border-left-color: var(--fill-color);\n",
              "      border-top-color: var(--fill-color);\n",
              "    }\n",
              "    30% {\n",
              "      border-color: transparent;\n",
              "      border-left-color: var(--fill-color);\n",
              "      border-top-color: var(--fill-color);\n",
              "      border-right-color: var(--fill-color);\n",
              "    }\n",
              "    40% {\n",
              "      border-color: transparent;\n",
              "      border-right-color: var(--fill-color);\n",
              "      border-top-color: var(--fill-color);\n",
              "    }\n",
              "    60% {\n",
              "      border-color: transparent;\n",
              "      border-right-color: var(--fill-color);\n",
              "    }\n",
              "    80% {\n",
              "      border-color: transparent;\n",
              "      border-right-color: var(--fill-color);\n",
              "      border-bottom-color: var(--fill-color);\n",
              "    }\n",
              "    90% {\n",
              "      border-color: transparent;\n",
              "      border-bottom-color: var(--fill-color);\n",
              "    }\n",
              "  }\n",
              "</style>\n",
              "\n",
              "  <script>\n",
              "    async function quickchart(key) {\n",
              "      const quickchartButtonEl =\n",
              "        document.querySelector('#' + key + ' button');\n",
              "      quickchartButtonEl.disabled = true;  // To prevent multiple clicks.\n",
              "      quickchartButtonEl.classList.add('colab-df-spinner');\n",
              "      try {\n",
              "        const charts = await google.colab.kernel.invokeFunction(\n",
              "            'suggestCharts', [key], {});\n",
              "      } catch (error) {\n",
              "        console.error('Error during call to suggestCharts:', error);\n",
              "      }\n",
              "      quickchartButtonEl.classList.remove('colab-df-spinner');\n",
              "      quickchartButtonEl.classList.add('colab-df-quickchart-complete');\n",
              "    }\n",
              "    (() => {\n",
              "      let quickchartButtonEl =\n",
              "        document.querySelector('#df-08861efe-d2c6-4bca-a207-8c070d3996d8 button');\n",
              "      quickchartButtonEl.style.display =\n",
              "        google.colab.kernel.accessAllowed ? 'block' : 'none';\n",
              "    })();\n",
              "  </script>\n",
              "</div>\n",
              "    </div>\n",
              "  </div>\n"
            ]
          },
          "metadata": {},
          "execution_count": 108
        }
      ]
    },
    {
      "cell_type": "code",
      "source": [
        "# Statistics for the sentences\n",
        "print(\"Minimum word count: \", df['Word_count'].min())\n",
        "print(\"Maximum  word count: \", df['Word_count'].max())\n",
        "print(\"Average word count: \", df['Word_count'].mean())\n",
        "print(\"Median word count: \", df['Word_count'].median())\n",
        "print(\"Mode: \", df['Word_count'].mode())"
      ],
      "metadata": {
        "colab": {
          "base_uri": "https://localhost:8080/"
        },
        "id": "AiHFlq9U0IeC",
        "outputId": "4ad7937b-7d6d-4dc7-a840-b3f1257bf629"
      },
      "execution_count": null,
      "outputs": [
        {
          "output_type": "stream",
          "name": "stdout",
          "text": [
            "Minimum word count:  1\n",
            "Maximum  word count:  12\n",
            "Average word count:  5.2155688622754495\n",
            "Median word count:  5.0\n",
            "Mode:  0    5\n",
            "Name: Word_count, dtype: int64\n"
          ]
        }
      ]
    },
    {
      "cell_type": "code",
      "source": [
        "# make a historgram for word count\n",
        "df['Word_count'].hist()\n",
        "plt.grid(False)\n",
        "plt.title('Word Count Histogram')"
      ],
      "metadata": {
        "colab": {
          "base_uri": "https://localhost:8080/",
          "height": 469
        },
        "id": "hktOiB5rIxlQ",
        "outputId": "1c28b8ec-372b-47fd-81df-2ad4a8724293"
      },
      "execution_count": null,
      "outputs": [
        {
          "output_type": "execute_result",
          "data": {
            "text/plain": [
              "Text(0.5, 1.0, 'Word Count Histogram')"
            ]
          },
          "metadata": {},
          "execution_count": 109
        },
        {
          "output_type": "display_data",
          "data": {
            "text/plain": [
              "<Figure size 640x480 with 1 Axes>"
            ],
            "image/png": "[encoded data removed]"
          },
          "metadata": {}
        }
      ]
    },
    {
      "cell_type": "code",
      "source": [
        "# box plot for word count and length of questions\n",
        "sns.boxplot(data=df, x=\"Word_count\", y=\"Length_txt\")\n",
        "plt.title('Boxplot of Word Count and text length')"
      ],
      "metadata": {
        "colab": {
          "base_uri": "https://localhost:8080/",
          "height": 489
        },
        "id": "VuHiy2VnK_JJ",
        "outputId": "96f9d5ec-068f-43d7-dbb8-8b2509483104"
      },
      "execution_count": null,
      "outputs": [
        {
          "output_type": "execute_result",
          "data": {
            "text/plain": [
              "Text(0.5, 1.0, 'Boxplot of Word Count and text length')"
            ]
          },
          "metadata": {},
          "execution_count": 110
        },
        {
          "output_type": "display_data",
          "data": {
            "text/plain": [
              "<Figure size 640x480 with 1 Axes>"
            ],
            "image/png": "[encoded data removed]"
          },
          "metadata": {}
        }
      ]
    },
    {
      "cell_type": "markdown",
      "source": [
        "## EDA on stop words and most frequent words"
      ],
      "metadata": {
        "id": "zk3hyHb-epoN"
      }
    },
    {
      "cell_type": "code",
      "source": [
        "def plot_top_stopwords_barchart(text):\n",
        "    stopwords = list(nlp.Defaults.stop_words)\n",
        "\n",
        "    new= text.str.split()\n",
        "    new=new.values.tolist()\n",
        "    corpus=[word for i in new for word in i]\n",
        "    from collections import defaultdict\n",
        "    dic=defaultdict(int)\n",
        "    for word in corpus:\n",
        "        if word in stopwords:\n",
        "            dic[word]+=1\n",
        "\n",
        "    top=sorted(dic.items(), key=lambda x:x[1],reverse=True)[:10]\n",
        "    x,y=zip(*top)\n",
        "    plt.title('Top 10 stopwords barchart')\n",
        "    plt.bar(x,y)"
      ],
      "metadata": {
        "id": "LbvCO5WUeviG"
      },
      "execution_count": null,
      "outputs": []
    },
    {
      "cell_type": "code",
      "source": [
        "plot_top_stopwords_barchart(df['txt'])"
      ],
      "metadata": {
        "colab": {
          "base_uri": "https://localhost:8080/",
          "height": 454
        },
        "id": "D6TiA9ooe9te",
        "outputId": "f68e03bc-4c64-4cd0-f9a6-afc991cfaa84"
      },
      "execution_count": null,
      "outputs": [
        {
          "output_type": "display_data",
          "data": {
            "text/plain": [
              "<Figure size 640x480 with 1 Axes>"
            ],
            "image/png": "[encoded data removed]"
          },
          "metadata": {}
        }
      ]
    },
    {
      "cell_type": "code",
      "source": [
        "def get_top_stopwords(text):\n",
        "    stopwords = list(nlp.Defaults.stop_words)\n",
        "\n",
        "    new = text.str.split()\n",
        "    new = new.values.tolist()\n",
        "    corpus = [word for i in new for word in i]\n",
        "    from collections import defaultdict\n",
        "    dic = defaultdict(int)\n",
        "    for word in corpus:\n",
        "        if word in stopwords:\n",
        "            dic[word] += 1\n",
        "\n",
        "    top = sorted(dic.items(), key=lambda x: x[1], reverse=True)[:10]\n",
        "    return top"
      ],
      "metadata": {
        "id": "MPpHHAaHTEMq"
      },
      "execution_count": null,
      "outputs": []
    },
    {
      "cell_type": "code",
      "source": [
        "get_top_stopwords(df['txt'])"
      ],
      "metadata": {
        "colab": {
          "base_uri": "https://localhost:8080/"
        },
        "id": "CAB0kjWtTG2f",
        "outputId": "660c6cea-0338-4f6d-f94c-de88847c6b84"
      },
      "execution_count": null,
      "outputs": [
        {
          "output_type": "execute_result",
          "data": {
            "text/plain": [
              "[('jeg', 58),\n",
              " ('i', 23),\n",
              " ('min', 18),\n",
              " ('er', 16),\n",
              " ('med', 13),\n",
              " ('en', 12),\n",
              " ('til', 11),\n",
              " ('på', 11),\n",
              " ('fra', 10),\n",
              " ('af', 10)]"
            ]
          },
          "metadata": {},
          "execution_count": 114
        }
      ]
    },
    {
      "cell_type": "code",
      "source": [
        "from collections import  Counter"
      ],
      "metadata": {
        "id": "lyNFZATg49J1"
      },
      "execution_count": null,
      "outputs": []
    },
    {
      "cell_type": "code",
      "source": [
        "def plot_top_non_stopwords_barchart(text):\n",
        "    stopwords = list(nlp.Defaults.stop_words)\n",
        "\n",
        "    new= text.str.split()\n",
        "    new=new.values.tolist()\n",
        "    corpus=[word for i in new for word in i]\n",
        "\n",
        "    counter=Counter(corpus)\n",
        "    most=counter.most_common()\n",
        "    x, y=[], []\n",
        "    for word,count in most[:40]:\n",
        "        if (word not in stopwords):\n",
        "            x.append(word)\n",
        "            y.append(count)\n",
        "\n",
        "    plt.title('Top non stopwords barchart')\n",
        "    sns.barplot(x=y,y=x)"
      ],
      "metadata": {
        "id": "1ltClM1z4xcW"
      },
      "execution_count": null,
      "outputs": []
    },
    {
      "cell_type": "code",
      "source": [
        "plot_top_non_stopwords_barchart(df['txt'])"
      ],
      "metadata": {
        "colab": {
          "base_uri": "https://localhost:8080/",
          "height": 452
        },
        "id": "460fwRTY5Cwm",
        "outputId": "d4b13437-3ccf-4fd5-fb53-2aaa1f1ce7be"
      },
      "execution_count": null,
      "outputs": [
        {
          "output_type": "display_data",
          "data": {
            "text/plain": [
              "<Figure size 640x480 with 1 Axes>"
            ],
            "image/png": "[encoded data removed]"
          },
          "metadata": {}
        }
      ]
    },
    {
      "cell_type": "code",
      "source": [
        "def get_top_non_stopwords(text):\n",
        "    stopwords = list(nlp.Defaults.stop_words)\n",
        "\n",
        "    new = text.str.split()\n",
        "    new = new.values.tolist()\n",
        "    corpus = [word for i in new for word in i]\n",
        "\n",
        "    counter = Counter(corpus)\n",
        "    most = counter.most_common()\n",
        "\n",
        "    top_non_stopwords = [(word, count) for word, count in most if word not in stopwords][:10]\n",
        "    return top_non_stopwords"
      ],
      "metadata": {
        "id": "yKiHByzzUQC0"
      },
      "execution_count": null,
      "outputs": []
    },
    {
      "cell_type": "code",
      "source": [
        "get_top_non_stopwords(df['txt'])"
      ],
      "metadata": {
        "id": "2TYeuxuLURKW",
        "outputId": "e0277c2d-7759-47e5-c464-bbc00fa47a39",
        "colab": {
          "base_uri": "https://localhost:8080/"
        }
      },
      "execution_count": null,
      "outputs": [
        {
          "output_type": "execute_result",
          "data": {
            "text/plain": [
              "[('Hvordan', 43),\n",
              " ('Kan', 21),\n",
              " ('Jeg', 13),\n",
              " ('ordre', 11),\n",
              " ('Hvad', 11),\n",
              " ('produkt', 10),\n",
              " ('produkter', 8),\n",
              " ('ordre?', 8),\n",
              " ('modtaget', 7),\n",
              " ('butik', 6)]"
            ]
          },
          "metadata": {},
          "execution_count": 119
        }
      ]
    },
    {
      "cell_type": "markdown",
      "source": [
        "# Data cleaning and preparation"
      ],
      "metadata": {
        "id": "4I3i10t9a5y9"
      }
    },
    {
      "cell_type": "markdown",
      "metadata": {
        "id": "eav2fZ28r0X-"
      },
      "source": [
        "## Text Preprocessing"
      ]
    },
    {
      "cell_type": "code",
      "execution_count": null,
      "metadata": {
        "id": "bV-YDLyqr0X_"
      },
      "outputs": [],
      "source": [
        "def text_prepro(texts):\n",
        "  \"\"\"\n",
        "  takes in a list/iterable of texts\n",
        "  lowercases, normalizes text\n",
        "  \"\"\"\n",
        "\n",
        "  clean_container = []\n",
        "\n",
        "  for text in nlp.pipe(texts, disable=[\"parser\", \"ner\"]):\n",
        "\n",
        "    txt = [token.lemma_.lower() for token in text # lemmatize and lower\n",
        "          if token.is_alpha # remove numbers\n",
        "          and not token.is_punct] # remove punctoation\n",
        "\n",
        "    clean_container.append(\" \".join(txt))\n",
        "\n",
        "  return clean_container"
      ]
    },
    {
      "cell_type": "markdown",
      "source": [
        "# Model building"
      ],
      "metadata": {
        "id": "JHwcH1acaCmv"
      }
    },
    {
      "cell_type": "code",
      "source": [
        "from sklearn.metrics import confusion_matrix, ConfusionMatrixDisplay\n",
        "from sklearn.metrics import classification_report, confusion_matrix, accuracy_score\n",
        "from sklearn.model_selection import GridSearchCV\n",
        "from sklearn.linear_model import LogisticRegression\n",
        "from sklearn import svm\n",
        "from sklearn.ensemble import RandomForestClassifier\n",
        "from lightgbm import LGBMClassifier\n",
        "from sklearn.neighbors import KNeighborsClassifier\n",
        "from nltk.classify.scikitlearn import SklearnClassifier\n",
        "from sklearn.naive_bayes import MultinomialNB\n",
        "from sklearn import svm\n",
        "from sklearn.svm import SVC\n",
        "from xgboost.sklearn import XGBClassifier\n",
        "from sklearn.tree import DecisionTreeClassifier"
      ],
      "metadata": {
        "id": "xueOA6DzsdRk"
      },
      "execution_count": null,
      "outputs": []
    },
    {
      "cell_type": "code",
      "source": [
        "# new df.txt_p\n",
        "df.txt_p = text_prepro(df.txt)\n",
        "\n",
        "# Divide data between training and test data\n",
        "X = df.txt_p\n",
        "y = df['label']\n",
        "X_train, X_test, y_train, y_test = train_test_split(X, y, test_size = .2, random_state = 42)"
      ],
      "metadata": {
        "id": "brFpT0qSse4_"
      },
      "execution_count": null,
      "outputs": []
    },
    {
      "cell_type": "markdown",
      "source": [
        "## Model testing\n"
      ],
      "metadata": {
        "id": "y3-zq2CQWqmJ"
      }
    },
    {
      "cell_type": "markdown",
      "source": [
        "### Multinomial LogisticRegression"
      ],
      "metadata": {
        "id": "6c0_7XOuczO8"
      }
    },
    {
      "cell_type": "code",
      "source": [
        "# make pipeline for LogisticRegression\n",
        "textclassifier_mlg = Pipeline([\n",
        "    ('tfidf', TfidfVectorizer()),\n",
        "    ('mlg', LogisticRegression( multi_class='multinomial', # Set algorithm to multinomial since this is a multi class problem\n",
        "                                random_state=0, # Set the seed for the algorithm to make sure there is consistency across multiple runs\n",
        "                                warm_start = True, # To make the model converge faster\n",
        "                                l1_ratio = 0.5)) # Set to the elastic net regularization\n",
        "])"
      ],
      "metadata": {
        "id": "QClVd9rnsh5t"
      },
      "execution_count": null,
      "outputs": []
    },
    {
      "cell_type": "code",
      "source": [
        "# Hyperparameters to tune\n",
        "params = {'mlg__penalty': ['l1', 'l2', 'elasticnet', 'none' ],\n",
        "          'mlg__C': [0.01, 0.1, 0.3, 0.5, 1.0,],\n",
        "          'mlg__solver': ['lbfgs', 'newton-cg', 'sag', 'saga'] # List of compatible solver for multi_class = multinomial\n",
        "         }"
      ],
      "metadata": {
        "id": "zlB7SsBGWwhn"
      },
      "execution_count": null,
      "outputs": []
    },
    {
      "cell_type": "code",
      "source": [
        "# definition of GridSearch for hyperparameter tuning\n",
        "multinomial_lg_grid = GridSearchCV(estimator=textclassifier_mlg, param_grid=params)"
      ],
      "metadata": {
        "id": "KV8yOznYtBwO"
      },
      "execution_count": null,
      "outputs": []
    },
    {
      "cell_type": "code",
      "source": [
        "# fit the model\n",
        "multinomial_lg_grid.fit(X_train, y_train)"
      ],
      "metadata": {
        "id": "UpqGs6MWt2cq",
        "colab": {
          "base_uri": "https://localhost:8080/",
          "height": 152
        },
        "outputId": "d83a9dd2-4369-437d-a6bb-903675abdbe4"
      },
      "execution_count": null,
      "outputs": [
        {
          "output_type": "execute_result",
          "data": {
            "text/plain": [
              "GridSearchCV(estimator=Pipeline(steps=[('tfidf', TfidfVectorizer()),\n",
              "                                       ('mlg',\n",
              "                                        LogisticRegression(l1_ratio=0.5,\n",
              "                                                           multi_class='multinomial',\n",
              "                                                           random_state=0,\n",
              "                                                           warm_start=True))]),\n",
              "             param_grid={'mlg__C': [0.01, 0.1, 0.3, 0.5, 1.0],\n",
              "                         'mlg__penalty': ['l1', 'l2', 'elasticnet', 'none'],\n",
              "                         'mlg__solver': ['lbfgs', 'newton-cg', 'sag', 'saga']})"
            ],
            "text/html": [
              "<style>#sk-container-id-2 {color: black;background-color: white;}#sk-container-id-2 pre{padding: 0;}#sk-container-id-2 div.sk-toggleable {background-color: white;}#sk-container-id-2 label.sk-toggleable__label {cursor: pointer;display: block;width: 100%;margin-bottom: 0;padding: 0.3em;box-sizing: border-box;text-align: center;}#sk-container-id-2 label.sk-toggleable__label-arrow:before {content: \"▸\";float: left;margin-right: 0.25em;color: #696969;}#sk-container-id-2 label.sk-toggleable__label-arrow:hover:before {color: black;}#sk-container-id-2 div.sk-estimator:hover label.sk-toggleable__label-arrow:before {color: black;}#sk-container-id-2 div.sk-toggleable__content {max-height: 0;max-width: 0;overflow: hidden;text-align: left;background-color: #f0f8ff;}#sk-container-id-2 div.sk-toggleable__content pre {margin: 0.2em;color: black;border-radius: 0.25em;background-color: #f0f8ff;}#sk-container-id-2 input.sk-toggleable__control:checked~div.sk-toggleable__content {max-height: 200px;max-width: 100%;overflow: auto;}#sk-container-id-2 input.sk-toggleable__control:checked~label.sk-toggleable__label-arrow:before {content: \"▾\";}#sk-container-id-2 div.sk-estimator input.sk-toggleable__control:checked~label.sk-toggleable__label {background-color: #d4ebff;}#sk-container-id-2 div.sk-label input.sk-toggleable__control:checked~label.sk-toggleable__label {background-color: #d4ebff;}#sk-container-id-2 input.sk-hidden--visually {border: 0;clip: rect(1px 1px 1px 1px);clip: rect(1px, 1px, 1px, 1px);height: 1px;margin: -1px;overflow: hidden;padding: 0;position: absolute;width: 1px;}#sk-container-id-2 div.sk-estimator {font-family: monospace;background-color: #f0f8ff;border: 1px dotted black;border-radius: 0.25em;box-sizing: border-box;margin-bottom: 0.5em;}#sk-container-id-2 div.sk-estimator:hover {background-color: #d4ebff;}#sk-container-id-2 div.sk-parallel-item::after {content: \"\";width: 100%;border-bottom: 1px solid gray;flex-grow: 1;}#sk-container-id-2 div.sk-label:hover label.sk-toggleable__label {background-color: #d4ebff;}#sk-container-id-2 div.sk-serial::before {content: \"\";position: absolute;border-left: 1px solid gray;box-sizing: border-box;top: 0;bottom: 0;left: 50%;z-index: 0;}#sk-container-id-2 div.sk-serial {display: flex;flex-direction: column;align-items: center;background-color: white;padding-right: 0.2em;padding-left: 0.2em;position: relative;}#sk-container-id-2 div.sk-item {position: relative;z-index: 1;}#sk-container-id-2 div.sk-parallel {display: flex;align-items: stretch;justify-content: center;background-color: white;position: relative;}#sk-container-id-2 div.sk-item::before, #sk-container-id-2 div.sk-parallel-item::before {content: \"\";position: absolute;border-left: 1px solid gray;box-sizing: border-box;top: 0;bottom: 0;left: 50%;z-index: -1;}#sk-container-id-2 div.sk-parallel-item {display: flex;flex-direction: column;z-index: 1;position: relative;background-color: white;}#sk-container-id-2 div.sk-parallel-item:first-child::after {align-self: flex-end;width: 50%;}#sk-container-id-2 div.sk-parallel-item:last-child::after {align-self: flex-start;width: 50%;}#sk-container-id-2 div.sk-parallel-item:only-child::after {width: 0;}#sk-container-id-2 div.sk-dashed-wrapped {border: 1px dashed gray;margin: 0 0.4em 0.5em 0.4em;box-sizing: border-box;padding-bottom: 0.4em;background-color: white;}#sk-container-id-2 div.sk-label label {font-family: monospace;font-weight: bold;display: inline-block;line-height: 1.2em;}#sk-container-id-2 div.sk-label-container {text-align: center;}#sk-container-id-2 div.sk-container {/* jupyter's `normalize.less` sets `[hidden] { display: none; }` but bootstrap.min.css set `[hidden] { display: none !important; }` so we also need the `!important` here to be able to override the default hidden behavior on the sphinx rendered scikit-learn.org. See: https://github.com/scikit-learn/scikit-learn/issues/21755 */display: inline-block !important;position: relative;}#sk-container-id-2 div.sk-text-repr-fallback {display: none;}</style><div id=\"sk-container-id-2\" class=\"sk-top-container\"><div class=\"sk-text-repr-fallback\"><pre>GridSearchCV(estimator=Pipeline(steps=[(&#x27;tfidf&#x27;, TfidfVectorizer()),\n",
              "                                       (&#x27;mlg&#x27;,\n",
              "                                        LogisticRegression(l1_ratio=0.5,\n",
              "                                                           multi_class=&#x27;multinomial&#x27;,\n",
              "                                                           random_state=0,\n",
              "                                                           warm_start=True))]),\n",
              "             param_grid={&#x27;mlg__C&#x27;: [0.01, 0.1, 0.3, 0.5, 1.0],\n",
              "                         &#x27;mlg__penalty&#x27;: [&#x27;l1&#x27;, &#x27;l2&#x27;, &#x27;elasticnet&#x27;, &#x27;none&#x27;],\n",
              "                         &#x27;mlg__solver&#x27;: [&#x27;lbfgs&#x27;, &#x27;newton-cg&#x27;, &#x27;sag&#x27;, &#x27;saga&#x27;]})</pre><b>In a Jupyter environment, please rerun this cell to show the HTML representation or trust the notebook. <br />On GitHub, the HTML representation is unable to render, please try loading this page with nbviewer.org.</b></div><div class=\"sk-container\" hidden><div class=\"sk-item sk-dashed-wrapped\"><div class=\"sk-label-container\"><div class=\"sk-label sk-toggleable\"><input class=\"sk-toggleable__control sk-hidden--visually\" id=\"sk-estimator-id-4\" type=\"checkbox\" ><label for=\"sk-estimator-id-4\" class=\"sk-toggleable__label sk-toggleable__label-arrow\">GridSearchCV</label><div class=\"sk-toggleable__content\"><pre>GridSearchCV(estimator=Pipeline(steps=[(&#x27;tfidf&#x27;, TfidfVectorizer()),\n",
              "                                       (&#x27;mlg&#x27;,\n",
              "                                        LogisticRegression(l1_ratio=0.5,\n",
              "                                                           multi_class=&#x27;multinomial&#x27;,\n",
              "                                                           random_state=0,\n",
              "                                                           warm_start=True))]),\n",
              "             param_grid={&#x27;mlg__C&#x27;: [0.01, 0.1, 0.3, 0.5, 1.0],\n",
              "                         &#x27;mlg__penalty&#x27;: [&#x27;l1&#x27;, &#x27;l2&#x27;, &#x27;elasticnet&#x27;, &#x27;none&#x27;],\n",
              "                         &#x27;mlg__solver&#x27;: [&#x27;lbfgs&#x27;, &#x27;newton-cg&#x27;, &#x27;sag&#x27;, &#x27;saga&#x27;]})</pre></div></div></div><div class=\"sk-parallel\"><div class=\"sk-parallel-item\"><div class=\"sk-item\"><div class=\"sk-label-container\"><div class=\"sk-label sk-toggleable\"><input class=\"sk-toggleable__control sk-hidden--visually\" id=\"sk-estimator-id-5\" type=\"checkbox\" ><label for=\"sk-estimator-id-5\" class=\"sk-toggleable__label sk-toggleable__label-arrow\">estimator: Pipeline</label><div class=\"sk-toggleable__content\"><pre>Pipeline(steps=[(&#x27;tfidf&#x27;, TfidfVectorizer()),\n",
              "                (&#x27;mlg&#x27;,\n",
              "                 LogisticRegression(l1_ratio=0.5, multi_class=&#x27;multinomial&#x27;,\n",
              "                                    random_state=0, warm_start=True))])</pre></div></div></div><div class=\"sk-serial\"><div class=\"sk-item\"><div class=\"sk-serial\"><div class=\"sk-item\"><div class=\"sk-estimator sk-toggleable\"><input class=\"sk-toggleable__control sk-hidden--visually\" id=\"sk-estimator-id-6\" type=\"checkbox\" ><label for=\"sk-estimator-id-6\" class=\"sk-toggleable__label sk-toggleable__label-arrow\">TfidfVectorizer</label><div class=\"sk-toggleable__content\"><pre>TfidfVectorizer()</pre></div></div></div><div class=\"sk-item\"><div class=\"sk-estimator sk-toggleable\"><input class=\"sk-toggleable__control sk-hidden--visually\" id=\"sk-estimator-id-7\" type=\"checkbox\" ><label for=\"sk-estimator-id-7\" class=\"sk-toggleable__label sk-toggleable__label-arrow\">LogisticRegression</label><div class=\"sk-toggleable__content\"><pre>LogisticRegression(l1_ratio=0.5, multi_class=&#x27;multinomial&#x27;, random_state=0,\n",
              "                   warm_start=True)</pre></div></div></div></div></div></div></div></div></div></div></div></div>"
            ]
          },
          "metadata": {},
          "execution_count": 126
        }
      ]
    },
    {
      "cell_type": "code",
      "source": [
        "# evaluation\n",
        "print('Train Accuracy : %.3f'%multinomial_lg_grid.best_estimator_.score(X_train, y_train))\n",
        "print('Test Accuracy : %.3f'%multinomial_lg_grid.best_estimator_.score(X_test, y_test))\n",
        "print('Best Accuracy Through Grid Search : %.3f'%multinomial_lg_grid.best_score_)\n",
        "print('Best Parameters : ',multinomial_lg_grid.best_params_)"
      ],
      "metadata": {
        "colab": {
          "base_uri": "https://localhost:8080/"
        },
        "id": "jOSQP0G_tBno",
        "outputId": "c6243330-526a-4cdb-be4e-12af8df1858e"
      },
      "execution_count": null,
      "outputs": [
        {
          "output_type": "stream",
          "name": "stdout",
          "text": [
            "Train Accuracy : 1.000\n",
            "Test Accuracy : 0.529\n",
            "Best Accuracy Through Grid Search : 0.654\n",
            "Best Parameters :  {'mlg__C': 0.01, 'mlg__penalty': 'none', 'mlg__solver': 'lbfgs'}\n"
          ]
        }
      ]
    },
    {
      "cell_type": "code",
      "source": [
        "# defining y_pred\n",
        "y_pred = multinomial_lg_grid.predict(X_test)"
      ],
      "metadata": {
        "id": "NOPGTZ2XtF1b"
      },
      "execution_count": null,
      "outputs": []
    },
    {
      "cell_type": "code",
      "source": [
        "print(\"confusion_matrix\")\n",
        "print(confusion_matrix(y_test,y_pred))"
      ],
      "metadata": {
        "colab": {
          "base_uri": "https://localhost:8080/"
        },
        "id": "26rw2yCztHGM",
        "outputId": "fee50184-53b4-4ac1-80d4-7e670e6039c6"
      },
      "execution_count": null,
      "outputs": [
        {
          "output_type": "stream",
          "name": "stdout",
          "text": [
            "confusion_matrix\n",
            "[[0 0 0 0 0 0 0 0 0 0 0 0 0 0 0 0 0 0 0 0 0 0 0 0 0 0 0 0 0 0 0]\n",
            " [0 0 0 0 0 0 0 0 0 0 0 0 0 0 0 0 0 0 0 0 0 0 0 0 0 0 0 0 0 0 0]\n",
            " [1 0 1 0 0 0 0 1 0 0 0 0 0 0 0 0 0 0 0 0 0 0 0 0 0 0 0 0 0 0 0]\n",
            " [0 0 0 0 0 0 0 0 0 0 1 0 0 0 0 0 0 0 0 0 0 0 0 0 0 0 0 0 0 0 0]\n",
            " [0 0 0 0 0 0 0 0 0 0 0 0 0 0 0 0 0 0 0 0 0 0 0 0 0 0 0 0 0 0 0]\n",
            " [0 0 0 0 0 1 0 0 0 0 0 0 0 0 0 0 0 0 0 0 0 0 0 0 0 0 0 0 0 0 0]\n",
            " [0 0 0 0 0 0 0 0 0 0 0 0 0 0 0 0 0 0 0 0 0 0 1 0 0 0 0 0 0 0 0]\n",
            " [0 0 0 0 0 0 0 0 0 0 0 0 0 0 0 0 0 0 0 0 0 0 0 0 0 0 0 0 0 0 0]\n",
            " [0 0 0 0 0 0 0 0 1 0 0 0 0 0 0 0 0 0 0 0 0 0 0 0 0 0 0 0 0 0 0]\n",
            " [0 0 0 0 0 0 0 0 0 1 0 0 0 0 0 0 0 0 0 0 0 0 0 0 0 0 0 0 0 0 0]\n",
            " [0 0 0 0 0 0 0 0 0 0 0 0 0 0 0 0 0 0 0 0 0 0 0 0 0 0 1 0 0 0 0]\n",
            " [0 0 0 0 0 0 0 0 0 0 0 1 0 0 0 0 0 0 0 0 0 0 0 0 0 0 0 0 0 0 0]\n",
            " [0 0 0 0 0 0 0 0 0 0 0 0 0 2 0 0 0 0 0 0 0 0 0 0 0 0 0 0 0 0 0]\n",
            " [0 0 0 0 0 0 0 0 0 0 0 0 0 0 0 0 0 0 0 0 0 0 0 0 0 0 0 0 0 0 0]\n",
            " [0 0 0 0 1 0 0 0 0 0 0 0 0 0 0 0 0 0 0 0 0 0 0 0 0 0 0 0 0 0 0]\n",
            " [0 0 0 0 0 0 0 0 0 0 0 0 0 0 0 0 0 0 0 1 0 0 0 0 0 0 0 0 0 0 0]\n",
            " [0 0 0 0 0 0 0 0 0 0 0 0 0 0 0 0 1 0 0 0 0 0 0 0 0 0 0 0 0 0 0]\n",
            " [0 0 0 0 0 0 0 0 0 0 0 0 0 0 0 0 0 1 0 0 0 0 0 0 0 0 0 0 0 0 0]\n",
            " [0 0 0 0 0 0 0 0 0 0 0 0 0 0 0 0 0 0 2 0 0 0 0 0 0 0 0 0 0 0 0]\n",
            " [1 0 0 0 0 0 0 0 0 0 0 0 0 0 0 1 0 0 0 0 0 0 0 0 0 0 0 0 0 0 0]\n",
            " [0 0 0 0 0 0 0 0 0 0 0 0 0 0 0 0 0 0 0 0 0 0 0 0 0 0 0 0 0 0 0]\n",
            " [0 0 0 0 0 0 0 0 0 0 0 0 0 0 0 0 0 0 0 0 0 2 0 0 0 0 0 0 0 0 0]\n",
            " [0 0 0 0 0 0 0 0 0 0 0 0 0 0 0 0 0 0 0 0 0 0 0 0 0 0 0 0 0 0 0]\n",
            " [0 0 0 0 0 0 0 0 0 0 0 0 0 0 0 0 0 0 0 0 1 0 0 1 0 0 0 0 0 0 0]\n",
            " [0 0 0 0 0 0 0 0 0 0 0 0 0 0 0 0 0 0 0 0 0 0 0 0 1 0 0 0 0 0 0]\n",
            " [0 0 0 0 0 0 0 0 0 0 0 0 0 0 0 0 0 1 0 0 0 0 0 0 0 1 0 0 0 0 0]\n",
            " [0 0 0 0 0 0 0 0 0 0 0 0 0 0 0 0 0 0 0 0 0 0 0 0 0 0 0 0 0 0 0]\n",
            " [0 0 0 0 0 0 0 0 0 0 1 0 0 0 0 0 0 0 0 0 0 0 0 0 0 0 0 1 0 0 0]\n",
            " [0 0 0 0 0 0 1 0 0 0 0 0 0 0 0 0 0 0 0 0 0 0 0 0 0 0 0 0 0 0 0]\n",
            " [0 0 0 0 0 0 0 0 0 0 0 0 0 0 0 0 0 0 0 0 0 0 0 0 0 0 0 0 0 1 0]\n",
            " [0 1 0 0 0 0 0 0 0 0 0 0 0 0 0 0 0 0 0 0 0 0 0 0 0 0 0 0 0 0 2]]\n"
          ]
        }
      ]
    },
    {
      "cell_type": "code",
      "source": [
        "print(\"classification_report\")\n",
        "print(classification_report(y_test,y_pred))"
      ],
      "metadata": {
        "colab": {
          "base_uri": "https://localhost:8080/"
        },
        "id": "T4ZZ_MJLtH7z",
        "outputId": "d6acab6b-3648-4187-db64-8b6fe7dbc4dc"
      },
      "execution_count": null,
      "outputs": [
        {
          "output_type": "stream",
          "name": "stdout",
          "text": [
            "classification_report\n",
            "                                                              precision    recall  f1-score   support\n",
            "\n",
            "                                          Afhentning i butik       0.00      0.00      0.00         0\n",
            "                                        Annullering af ordre       0.00      0.00      0.00         0\n",
            "                                          Bestilling i butik       1.00      0.33      0.50         3\n",
            "                                         Betalingsmuligheder       0.00      0.00      0.00         1\n",
            "                                     Defekt produkt modtaget       0.00      0.00      0.00         0\n",
            "                                                     Erhverv       1.00      1.00      1.00         1\n",
            "                                                    Gavekort       0.00      0.00      0.00         1\n",
            "                       Hvornår modtager jeg min refundering?       0.00      0.00      0.00         0\n",
            "Kan jeg få besked, når en udsolgt vare kommer på lager igen?       1.00      1.00      1.00         1\n",
            "                                        Levering i weekenden       1.00      1.00      1.00         1\n",
            "                                         Leveringsmuligheder       0.00      0.00      0.00         1\n",
            "                           Leveringsmuligheder - DHL Express       1.00      1.00      1.00         1\n",
            "                           Leveringsmuligheder - GLS Erhverv       0.00      0.00      0.00         2\n",
            "                    Leveringsmuligheder - GLS Privatlevering       0.00      0.00      0.00         0\n",
            "                             Manglende produkter i min ordre       0.00      0.00      0.00         1\n",
            "            Ombytning eller returnering af gave købt i butik       0.00      0.00      0.00         1\n",
            "             Ombytning eller returnering af gave købt online       1.00      1.00      1.00         1\n",
            "                              Ordrebekræftelse ikke modtaget       0.50      1.00      0.67         1\n",
            "                                 Ordrenummer ved returnering       1.00      1.00      1.00         2\n",
            "                         Returnering af bestilling fra butik       0.00      0.00      0.00         2\n",
            "             Returnering af produkter fra forskellige ordrer       0.00      0.00      0.00         0\n",
            "                     Returnering fra fysisk butik til online       1.00      1.00      1.00         2\n",
            "         Sådan indtaster du din rabatkode eller dit gavekort       0.00      0.00      0.00         0\n",
            "                                        Told- og importgebyr       1.00      0.50      0.67         2\n",
            "                                        Vaske- og Care Guide       1.00      1.00      1.00         1\n",
            "                                                   baglommer       1.00      0.50      0.67         2\n",
            "                                                      hilsen       0.00      0.00      0.00         0\n",
            "                                                        moms       1.00      0.50      0.67         2\n",
            "                                              skrædderpriser       0.00      0.00      0.00         1\n",
            "                                                         tak       1.00      1.00      1.00         1\n",
            "                                            Ændring af ordre       1.00      0.67      0.80         3\n",
            "\n",
            "                                                    accuracy                           0.53        34\n",
            "                                                   macro avg       0.47      0.40      0.42        34\n",
            "                                                weighted avg       0.69      0.53      0.58        34\n",
            "\n"
          ]
        }
      ]
    },
    {
      "cell_type": "code",
      "source": [
        "print(\"accuracy_score\")\n",
        "print(accuracy_score(y_test, y_pred))"
      ],
      "metadata": {
        "colab": {
          "base_uri": "https://localhost:8080/"
        },
        "id": "eWcX38r1tI5x",
        "outputId": "cbcd4c52-ff85-4932-fbc3-b8d5f56c059c"
      },
      "execution_count": null,
      "outputs": [
        {
          "output_type": "stream",
          "name": "stdout",
          "text": [
            "accuracy_score\n",
            "0.5294117647058824\n"
          ]
        }
      ]
    },
    {
      "cell_type": "markdown",
      "source": [
        "### SVM"
      ],
      "metadata": {
        "id": "mK3IFfKxc8Mv"
      }
    },
    {
      "cell_type": "code",
      "source": [
        "# make pipeline for svm\n",
        "textclassifier_svm = Pipeline([\n",
        "    ('tfidf', TfidfVectorizer()),\n",
        "    ('svm', svm.SVC(probability = True))\n",
        "])"
      ],
      "metadata": {
        "id": "PIJLgFzOuJFk"
      },
      "execution_count": null,
      "outputs": []
    },
    {
      "cell_type": "code",
      "source": [
        "# Hyperparameters to tune\n",
        "params = {'svm__decision_function_shape': ['ovo', 'ovr'],\n",
        "          'svm__C': [0.01, 0.1, 0.3, 0.5, 1.0,]\n",
        "}"
      ],
      "metadata": {
        "id": "2vATjgG0uJDC"
      },
      "execution_count": null,
      "outputs": []
    },
    {
      "cell_type": "code",
      "source": [
        "# definition of GridSearch for hyperparameter tuning\n",
        "svm_grid = GridSearchCV(estimator=textclassifier_svm, param_grid=params)"
      ],
      "metadata": {
        "id": "t01ERzrVuJAo"
      },
      "execution_count": null,
      "outputs": []
    },
    {
      "cell_type": "code",
      "source": [
        "# fit the model\n",
        "svm_grid.fit(X_train, y_train)"
      ],
      "metadata": {
        "colab": {
          "base_uri": "https://localhost:8080/",
          "height": 152
        },
        "id": "LHBH4FJouI-Y",
        "outputId": "61f013a8-e361-4997-e6c8-de2cee063729"
      },
      "execution_count": null,
      "outputs": [
        {
          "output_type": "execute_result",
          "data": {
            "text/plain": [
              "GridSearchCV(estimator=Pipeline(steps=[('tfidf', TfidfVectorizer()),\n",
              "                                       ('svm', SVC(probability=True))]),\n",
              "             param_grid={'svm__C': [0.01, 0.1, 0.3, 0.5, 1.0],\n",
              "                         'svm__decision_function_shape': ['ovo', 'ovr']})"
            ],
            "text/html": [
              "<style>#sk-container-id-3 {color: black;background-color: white;}#sk-container-id-3 pre{padding: 0;}#sk-container-id-3 div.sk-toggleable {background-color: white;}#sk-container-id-3 label.sk-toggleable__label {cursor: pointer;display: block;width: 100%;margin-bottom: 0;padding: 0.3em;box-sizing: border-box;text-align: center;}#sk-container-id-3 label.sk-toggleable__label-arrow:before {content: \"▸\";float: left;margin-right: 0.25em;color: #696969;}#sk-container-id-3 label.sk-toggleable__label-arrow:hover:before {color: black;}#sk-container-id-3 div.sk-estimator:hover label.sk-toggleable__label-arrow:before {color: black;}#sk-container-id-3 div.sk-toggleable__content {max-height: 0;max-width: 0;overflow: hidden;text-align: left;background-color: #f0f8ff;}#sk-container-id-3 div.sk-toggleable__content pre {margin: 0.2em;color: black;border-radius: 0.25em;background-color: #f0f8ff;}#sk-container-id-3 input.sk-toggleable__control:checked~div.sk-toggleable__content {max-height: 200px;max-width: 100%;overflow: auto;}#sk-container-id-3 input.sk-toggleable__control:checked~label.sk-toggleable__label-arrow:before {content: \"▾\";}#sk-container-id-3 div.sk-estimator input.sk-toggleable__control:checked~label.sk-toggleable__label {background-color: #d4ebff;}#sk-container-id-3 div.sk-label input.sk-toggleable__control:checked~label.sk-toggleable__label {background-color: #d4ebff;}#sk-container-id-3 input.sk-hidden--visually {border: 0;clip: rect(1px 1px 1px 1px);clip: rect(1px, 1px, 1px, 1px);height: 1px;margin: -1px;overflow: hidden;padding: 0;position: absolute;width: 1px;}#sk-container-id-3 div.sk-estimator {font-family: monospace;background-color: #f0f8ff;border: 1px dotted black;border-radius: 0.25em;box-sizing: border-box;margin-bottom: 0.5em;}#sk-container-id-3 div.sk-estimator:hover {background-color: #d4ebff;}#sk-container-id-3 div.sk-parallel-item::after {content: \"\";width: 100%;border-bottom: 1px solid gray;flex-grow: 1;}#sk-container-id-3 div.sk-label:hover label.sk-toggleable__label {background-color: #d4ebff;}#sk-container-id-3 div.sk-serial::before {content: \"\";position: absolute;border-left: 1px solid gray;box-sizing: border-box;top: 0;bottom: 0;left: 50%;z-index: 0;}#sk-container-id-3 div.sk-serial {display: flex;flex-direction: column;align-items: center;background-color: white;padding-right: 0.2em;padding-left: 0.2em;position: relative;}#sk-container-id-3 div.sk-item {position: relative;z-index: 1;}#sk-container-id-3 div.sk-parallel {display: flex;align-items: stretch;justify-content: center;background-color: white;position: relative;}#sk-container-id-3 div.sk-item::before, #sk-container-id-3 div.sk-parallel-item::before {content: \"\";position: absolute;border-left: 1px solid gray;box-sizing: border-box;top: 0;bottom: 0;left: 50%;z-index: -1;}#sk-container-id-3 div.sk-parallel-item {display: flex;flex-direction: column;z-index: 1;position: relative;background-color: white;}#sk-container-id-3 div.sk-parallel-item:first-child::after {align-self: flex-end;width: 50%;}#sk-container-id-3 div.sk-parallel-item:last-child::after {align-self: flex-start;width: 50%;}#sk-container-id-3 div.sk-parallel-item:only-child::after {width: 0;}#sk-container-id-3 div.sk-dashed-wrapped {border: 1px dashed gray;margin: 0 0.4em 0.5em 0.4em;box-sizing: border-box;padding-bottom: 0.4em;background-color: white;}#sk-container-id-3 div.sk-label label {font-family: monospace;font-weight: bold;display: inline-block;line-height: 1.2em;}#sk-container-id-3 div.sk-label-container {text-align: center;}#sk-container-id-3 div.sk-container {/* jupyter's `normalize.less` sets `[hidden] { display: none; }` but bootstrap.min.css set `[hidden] { display: none !important; }` so we also need the `!important` here to be able to override the default hidden behavior on the sphinx rendered scikit-learn.org. See: https://github.com/scikit-learn/scikit-learn/issues/21755 */display: inline-block !important;position: relative;}#sk-container-id-3 div.sk-text-repr-fallback {display: none;}</style><div id=\"sk-container-id-3\" class=\"sk-top-container\"><div class=\"sk-text-repr-fallback\"><pre>GridSearchCV(estimator=Pipeline(steps=[(&#x27;tfidf&#x27;, TfidfVectorizer()),\n",
              "                                       (&#x27;svm&#x27;, SVC(probability=True))]),\n",
              "             param_grid={&#x27;svm__C&#x27;: [0.01, 0.1, 0.3, 0.5, 1.0],\n",
              "                         &#x27;svm__decision_function_shape&#x27;: [&#x27;ovo&#x27;, &#x27;ovr&#x27;]})</pre><b>In a Jupyter environment, please rerun this cell to show the HTML representation or trust the notebook. <br />On GitHub, the HTML representation is unable to render, please try loading this page with nbviewer.org.</b></div><div class=\"sk-container\" hidden><div class=\"sk-item sk-dashed-wrapped\"><div class=\"sk-label-container\"><div class=\"sk-label sk-toggleable\"><input class=\"sk-toggleable__control sk-hidden--visually\" id=\"sk-estimator-id-8\" type=\"checkbox\" ><label for=\"sk-estimator-id-8\" class=\"sk-toggleable__label sk-toggleable__label-arrow\">GridSearchCV</label><div class=\"sk-toggleable__content\"><pre>GridSearchCV(estimator=Pipeline(steps=[(&#x27;tfidf&#x27;, TfidfVectorizer()),\n",
              "                                       (&#x27;svm&#x27;, SVC(probability=True))]),\n",
              "             param_grid={&#x27;svm__C&#x27;: [0.01, 0.1, 0.3, 0.5, 1.0],\n",
              "                         &#x27;svm__decision_function_shape&#x27;: [&#x27;ovo&#x27;, &#x27;ovr&#x27;]})</pre></div></div></div><div class=\"sk-parallel\"><div class=\"sk-parallel-item\"><div class=\"sk-item\"><div class=\"sk-label-container\"><div class=\"sk-label sk-toggleable\"><input class=\"sk-toggleable__control sk-hidden--visually\" id=\"sk-estimator-id-9\" type=\"checkbox\" ><label for=\"sk-estimator-id-9\" class=\"sk-toggleable__label sk-toggleable__label-arrow\">estimator: Pipeline</label><div class=\"sk-toggleable__content\"><pre>Pipeline(steps=[(&#x27;tfidf&#x27;, TfidfVectorizer()), (&#x27;svm&#x27;, SVC(probability=True))])</pre></div></div></div><div class=\"sk-serial\"><div class=\"sk-item\"><div class=\"sk-serial\"><div class=\"sk-item\"><div class=\"sk-estimator sk-toggleable\"><input class=\"sk-toggleable__control sk-hidden--visually\" id=\"sk-estimator-id-10\" type=\"checkbox\" ><label for=\"sk-estimator-id-10\" class=\"sk-toggleable__label sk-toggleable__label-arrow\">TfidfVectorizer</label><div class=\"sk-toggleable__content\"><pre>TfidfVectorizer()</pre></div></div></div><div class=\"sk-item\"><div class=\"sk-estimator sk-toggleable\"><input class=\"sk-toggleable__control sk-hidden--visually\" id=\"sk-estimator-id-11\" type=\"checkbox\" ><label for=\"sk-estimator-id-11\" class=\"sk-toggleable__label sk-toggleable__label-arrow\">SVC</label><div class=\"sk-toggleable__content\"><pre>SVC(probability=True)</pre></div></div></div></div></div></div></div></div></div></div></div></div>"
            ]
          },
          "metadata": {},
          "execution_count": 135
        }
      ]
    },
    {
      "cell_type": "code",
      "source": [
        "# evaluate\n",
        "print('Train Accuracy : %.3f'%svm_grid.best_estimator_.score(X_train, y_train))\n",
        "print('Test Accuracy : %.3f'%svm_grid.best_estimator_.score(X_test, y_test))\n",
        "print('Best Accuracy Through Grid Search : %.3f'%svm_grid.best_score_)\n",
        "print('Best Parameters : ',svm_grid.best_params_)"
      ],
      "metadata": {
        "colab": {
          "base_uri": "https://localhost:8080/"
        },
        "id": "2Kc9OxWUuI8M",
        "outputId": "fb330091-0317-41a1-8c11-2284535d1241"
      },
      "execution_count": null,
      "outputs": [
        {
          "output_type": "stream",
          "name": "stdout",
          "text": [
            "Train Accuracy : 0.985\n",
            "Test Accuracy : 0.176\n",
            "Best Accuracy Through Grid Search : 0.390\n",
            "Best Parameters :  {'svm__C': 1.0, 'svm__decision_function_shape': 'ovo'}\n"
          ]
        }
      ]
    },
    {
      "cell_type": "code",
      "source": [
        "# defining y_pred\n",
        "y_pred = svm_grid.predict(X_test)"
      ],
      "metadata": {
        "id": "d0SaPkYAc1cY"
      },
      "execution_count": null,
      "outputs": []
    },
    {
      "cell_type": "code",
      "source": [
        "print(\"confusion_matrix\")\n",
        "print(confusion_matrix(y_test,y_pred))"
      ],
      "metadata": {
        "colab": {
          "base_uri": "https://localhost:8080/"
        },
        "id": "-kR_5HR8uQi7",
        "outputId": "4411adad-75f5-4999-c187-566ed1d998e6"
      },
      "execution_count": null,
      "outputs": [
        {
          "output_type": "stream",
          "name": "stdout",
          "text": [
            "confusion_matrix\n",
            "[[0 0 0 0 0 0 0 0 0 0 0 0 0 0 0 0 0 0 0 0 0 0 0 0 0 0 0 0 0 0]\n",
            " [0 0 0 0 0 0 0 0 0 0 0 0 0 0 0 0 0 0 0 0 0 0 0 0 0 0 0 0 0 0]\n",
            " [0 0 0 0 0 0 0 0 0 0 0 0 0 0 0 0 0 1 0 0 0 0 0 0 0 0 2 0 0 0]\n",
            " [0 0 0 0 0 0 0 0 0 0 0 0 0 0 0 0 0 0 0 0 0 0 0 0 0 0 0 0 0 0]\n",
            " [0 0 0 0 0 0 0 0 0 0 0 0 0 0 0 0 0 0 0 0 0 0 0 0 0 0 1 0 0 0]\n",
            " [0 0 0 0 0 1 0 0 0 0 0 0 0 0 0 0 0 0 0 0 0 0 0 0 0 0 0 0 0 0]\n",
            " [0 0 0 0 0 0 0 0 0 0 0 0 0 0 0 0 0 0 0 0 0 1 0 0 0 0 0 0 0 0]\n",
            " [0 0 0 0 0 0 0 1 0 0 0 0 0 0 0 0 0 0 0 0 0 0 0 0 0 0 0 0 0 0]\n",
            " [0 0 0 0 0 0 0 0 1 0 0 0 0 0 0 0 0 0 0 0 0 0 0 0 0 0 0 0 0 0]\n",
            " [0 0 0 0 0 0 0 0 0 0 0 0 0 0 0 0 0 0 0 0 0 0 0 0 0 0 1 0 0 0]\n",
            " [0 0 0 0 0 0 0 0 0 0 0 0 0 0 0 0 0 0 0 0 0 0 0 0 0 0 1 0 0 0]\n",
            " [0 0 0 0 0 0 0 0 0 0 0 0 0 0 0 0 0 0 0 0 0 0 0 0 0 0 2 0 0 0]\n",
            " [0 0 0 0 0 0 0 0 0 0 0 0 0 0 0 0 0 0 0 0 0 0 0 0 0 0 1 0 0 0]\n",
            " [0 0 0 0 0 0 0 0 0 0 0 0 0 0 0 0 0 0 0 0 0 0 0 0 0 0 1 0 0 0]\n",
            " [0 0 0 0 0 0 0 0 0 0 0 0 0 0 1 0 0 0 0 0 0 0 0 0 0 0 0 0 0 0]\n",
            " [0 0 0 0 0 0 0 0 0 0 0 0 0 0 0 1 0 0 0 0 0 0 0 0 0 0 0 0 0 0]\n",
            " [0 0 0 0 0 0 0 0 0 0 0 0 0 0 0 0 0 0 0 0 0 0 0 0 0 0 2 0 0 0]\n",
            " [0 0 0 0 0 0 0 0 0 0 0 0 0 0 0 0 0 0 0 0 0 0 0 0 0 0 0 0 0 0]\n",
            " [1 0 0 0 0 0 0 0 0 0 0 0 0 1 0 0 0 0 0 0 0 0 0 0 0 0 0 0 0 0]\n",
            " [0 0 0 0 0 0 0 0 0 0 0 0 0 0 0 0 0 0 0 0 0 0 0 0 0 0 2 0 0 0]\n",
            " [0 0 0 0 0 0 0 0 0 0 0 0 0 0 0 0 0 0 0 0 0 0 0 0 0 0 0 0 0 0]\n",
            " [0 0 0 0 0 0 0 0 0 0 0 0 0 0 0 0 0 0 0 0 0 0 0 0 0 0 0 0 0 0]\n",
            " [0 0 0 0 0 0 0 0 0 0 0 0 0 0 0 0 0 0 0 0 0 0 0 0 0 0 2 0 0 0]\n",
            " [0 0 0 0 0 0 0 0 0 0 0 0 0 0 0 0 0 0 0 0 0 0 0 0 0 0 1 0 0 0]\n",
            " [0 0 0 0 0 0 0 0 0 0 0 0 0 0 0 0 0 0 0 0 0 0 0 0 0 0 2 0 0 0]\n",
            " [0 0 0 0 0 0 0 0 0 0 0 0 0 0 0 0 0 1 0 0 0 0 0 0 0 0 1 0 0 0]\n",
            " [0 0 0 0 0 0 0 0 0 0 0 0 0 0 0 0 0 0 0 0 0 0 0 0 0 0 0 0 0 0]\n",
            " [0 0 0 1 0 0 0 0 0 0 0 0 0 0 0 0 0 0 0 0 0 0 0 0 0 0 0 0 0 0]\n",
            " [0 0 0 0 0 0 0 0 0 0 0 0 0 0 0 0 0 0 0 0 0 0 0 0 0 0 0 0 1 0]\n",
            " [0 2 0 0 0 0 0 0 0 0 0 0 0 0 0 0 0 0 0 0 1 0 0 0 0 0 0 0 0 0]]\n"
          ]
        }
      ]
    },
    {
      "cell_type": "code",
      "source": [
        "print(\"classification_report\")\n",
        "print(classification_report(y_test,y_pred))"
      ],
      "metadata": {
        "colab": {
          "base_uri": "https://localhost:8080/"
        },
        "id": "fOnIhrHBuQYn",
        "outputId": "b87f21a3-8103-46fd-ff87-17f2ea7f69ee"
      },
      "execution_count": null,
      "outputs": [
        {
          "output_type": "stream",
          "name": "stdout",
          "text": [
            "classification_report\n",
            "                                                              precision    recall  f1-score   support\n",
            "\n",
            "                                          Afhentning i butik       0.00      0.00      0.00         0\n",
            "                                        Annullering af ordre       0.00      0.00      0.00         0\n",
            "                                          Bestilling i butik       0.00      0.00      0.00         3\n",
            "                                         Betaling med Klarna       0.00      0.00      0.00         0\n",
            "                                         Betalingsmuligheder       0.00      0.00      0.00         1\n",
            "                                                     Erhverv       1.00      1.00      1.00         1\n",
            "                                                    Gavekort       0.00      0.00      0.00         1\n",
            "Kan jeg få besked, når en udsolgt vare kommer på lager igen?       1.00      1.00      1.00         1\n",
            "                                        Levering i weekenden       1.00      1.00      1.00         1\n",
            "                                         Leveringsmuligheder       0.00      0.00      0.00         1\n",
            "                           Leveringsmuligheder - DHL Express       0.00      0.00      0.00         1\n",
            "                           Leveringsmuligheder - GLS Erhverv       0.00      0.00      0.00         2\n",
            "                             Manglende produkter i min ordre       0.00      0.00      0.00         1\n",
            "            Ombytning eller returnering af gave købt i butik       0.00      0.00      0.00         1\n",
            "             Ombytning eller returnering af gave købt online       1.00      1.00      1.00         1\n",
            "                              Ordrebekræftelse ikke modtaget       1.00      1.00      1.00         1\n",
            "                                 Ordrenummer ved returnering       0.00      0.00      0.00         2\n",
            "                                                 Refundering       0.00      0.00      0.00         0\n",
            "                         Returnering af bestilling fra butik       0.00      0.00      0.00         2\n",
            "                     Returnering fra fysisk butik til online       0.00      0.00      0.00         2\n",
            "                                              Spor min ordre       0.00      0.00      0.00         0\n",
            "         Sådan indtaster du din rabatkode eller dit gavekort       0.00      0.00      0.00         0\n",
            "                                        Told- og importgebyr       0.00      0.00      0.00         2\n",
            "                                        Vaske- og Care Guide       0.00      0.00      0.00         1\n",
            "                                                   baglommer       0.00      0.00      0.00         2\n",
            "                                                        moms       0.00      0.00      0.00         2\n",
            "                                                 reklamation       0.00      0.00      0.00         0\n",
            "                                              skrædderpriser       0.00      0.00      0.00         1\n",
            "                                                         tak       1.00      1.00      1.00         1\n",
            "                                            Ændring af ordre       0.00      0.00      0.00         3\n",
            "\n",
            "                                                    accuracy                           0.18        34\n",
            "                                                   macro avg       0.20      0.20      0.20        34\n",
            "                                                weighted avg       0.18      0.18      0.18        34\n",
            "\n"
          ]
        }
      ]
    },
    {
      "cell_type": "code",
      "source": [
        "print(\"accuracy_score\")\n",
        "print(accuracy_score(y_test, y_pred))"
      ],
      "metadata": {
        "colab": {
          "base_uri": "https://localhost:8080/"
        },
        "id": "oLegf8yFuQVr",
        "outputId": "cfb4c0af-fbb8-49a5-fc71-3c837594f456"
      },
      "execution_count": null,
      "outputs": [
        {
          "output_type": "stream",
          "name": "stdout",
          "text": [
            "accuracy_score\n",
            "0.17647058823529413\n"
          ]
        }
      ]
    },
    {
      "cell_type": "markdown",
      "source": [
        "### RANDOM FORESTS"
      ],
      "metadata": {
        "id": "An-bNbwAd0OG"
      }
    },
    {
      "cell_type": "code",
      "source": [
        "# make pipeline for RandomForestClassifier\n",
        "textclassifier_rn = Pipeline([\n",
        "    ('tfidf', TfidfVectorizer()),\n",
        "    ('rf', RandomForestClassifier(random_state=0))\n",
        "])"
      ],
      "metadata": {
        "id": "u-zjkJcauq7s"
      },
      "execution_count": null,
      "outputs": []
    },
    {
      "cell_type": "code",
      "source": [
        "# Hyperparameters to tune\n",
        "params = {\n",
        "    'rf__n_estimators': [0, 10, 20],            # Number of trees in the forest\n",
        "    'rf__max_depth': [None, 10, 20],               # Maximum depth of the tree\n",
        "    'rf__min_samples_split': [2, 5, 10],           # Minimum number of samples required to split an internal node\n",
        "    'rf__min_samples_leaf': [1, 2, 4]              # Minimum number of samples required to be at a leaf node\n",
        "}"
      ],
      "metadata": {
        "id": "-ODGtQ_guq5J"
      },
      "execution_count": null,
      "outputs": []
    },
    {
      "cell_type": "code",
      "source": [
        "# definition of GridSearch for hyperparameter tuning\n",
        "rf_grid = GridSearchCV(estimator=textclassifier_rn, param_grid=params)"
      ],
      "metadata": {
        "id": "co1Fgn_vuq2w"
      },
      "execution_count": null,
      "outputs": []
    },
    {
      "cell_type": "code",
      "source": [
        "# fit the model\n",
        "rf_grid.fit(X_train, y_train)"
      ],
      "metadata": {
        "colab": {
          "base_uri": "https://localhost:8080/",
          "height": 152
        },
        "id": "_6Cf5TE9uq0F",
        "outputId": "78c2ff98-d603-4dc2-c69f-fcee3c93d219"
      },
      "execution_count": null,
      "outputs": [
        {
          "output_type": "execute_result",
          "data": {
            "text/plain": [
              "GridSearchCV(estimator=Pipeline(steps=[('tfidf', TfidfVectorizer()),\n",
              "                                       ('rf',\n",
              "                                        RandomForestClassifier(random_state=0))]),\n",
              "             param_grid={'rf__max_depth': [None, 10, 20],\n",
              "                         'rf__min_samples_leaf': [1, 2, 4],\n",
              "                         'rf__min_samples_split': [2, 5, 10],\n",
              "                         'rf__n_estimators': [0, 10, 20]})"
            ],
            "text/html": [
              "<style>#sk-container-id-4 {color: black;background-color: white;}#sk-container-id-4 pre{padding: 0;}#sk-container-id-4 div.sk-toggleable {background-color: white;}#sk-container-id-4 label.sk-toggleable__label {cursor: pointer;display: block;width: 100%;margin-bottom: 0;padding: 0.3em;box-sizing: border-box;text-align: center;}#sk-container-id-4 label.sk-toggleable__label-arrow:before {content: \"▸\";float: left;margin-right: 0.25em;color: #696969;}#sk-container-id-4 label.sk-toggleable__label-arrow:hover:before {color: black;}#sk-container-id-4 div.sk-estimator:hover label.sk-toggleable__label-arrow:before {color: black;}#sk-container-id-4 div.sk-toggleable__content {max-height: 0;max-width: 0;overflow: hidden;text-align: left;background-color: #f0f8ff;}#sk-container-id-4 div.sk-toggleable__content pre {margin: 0.2em;color: black;border-radius: 0.25em;background-color: #f0f8ff;}#sk-container-id-4 input.sk-toggleable__control:checked~div.sk-toggleable__content {max-height: 200px;max-width: 100%;overflow: auto;}#sk-container-id-4 input.sk-toggleable__control:checked~label.sk-toggleable__label-arrow:before {content: \"▾\";}#sk-container-id-4 div.sk-estimator input.sk-toggleable__control:checked~label.sk-toggleable__label {background-color: #d4ebff;}#sk-container-id-4 div.sk-label input.sk-toggleable__control:checked~label.sk-toggleable__label {background-color: #d4ebff;}#sk-container-id-4 input.sk-hidden--visually {border: 0;clip: rect(1px 1px 1px 1px);clip: rect(1px, 1px, 1px, 1px);height: 1px;margin: -1px;overflow: hidden;padding: 0;position: absolute;width: 1px;}#sk-container-id-4 div.sk-estimator {font-family: monospace;background-color: #f0f8ff;border: 1px dotted black;border-radius: 0.25em;box-sizing: border-box;margin-bottom: 0.5em;}#sk-container-id-4 div.sk-estimator:hover {background-color: #d4ebff;}#sk-container-id-4 div.sk-parallel-item::after {content: \"\";width: 100%;border-bottom: 1px solid gray;flex-grow: 1;}#sk-container-id-4 div.sk-label:hover label.sk-toggleable__label {background-color: #d4ebff;}#sk-container-id-4 div.sk-serial::before {content: \"\";position: absolute;border-left: 1px solid gray;box-sizing: border-box;top: 0;bottom: 0;left: 50%;z-index: 0;}#sk-container-id-4 div.sk-serial {display: flex;flex-direction: column;align-items: center;background-color: white;padding-right: 0.2em;padding-left: 0.2em;position: relative;}#sk-container-id-4 div.sk-item {position: relative;z-index: 1;}#sk-container-id-4 div.sk-parallel {display: flex;align-items: stretch;justify-content: center;background-color: white;position: relative;}#sk-container-id-4 div.sk-item::before, #sk-container-id-4 div.sk-parallel-item::before {content: \"\";position: absolute;border-left: 1px solid gray;box-sizing: border-box;top: 0;bottom: 0;left: 50%;z-index: -1;}#sk-container-id-4 div.sk-parallel-item {display: flex;flex-direction: column;z-index: 1;position: relative;background-color: white;}#sk-container-id-4 div.sk-parallel-item:first-child::after {align-self: flex-end;width: 50%;}#sk-container-id-4 div.sk-parallel-item:last-child::after {align-self: flex-start;width: 50%;}#sk-container-id-4 div.sk-parallel-item:only-child::after {width: 0;}#sk-container-id-4 div.sk-dashed-wrapped {border: 1px dashed gray;margin: 0 0.4em 0.5em 0.4em;box-sizing: border-box;padding-bottom: 0.4em;background-color: white;}#sk-container-id-4 div.sk-label label {font-family: monospace;font-weight: bold;display: inline-block;line-height: 1.2em;}#sk-container-id-4 div.sk-label-container {text-align: center;}#sk-container-id-4 div.sk-container {/* jupyter's `normalize.less` sets `[hidden] { display: none; }` but bootstrap.min.css set `[hidden] { display: none !important; }` so we also need the `!important` here to be able to override the default hidden behavior on the sphinx rendered scikit-learn.org. See: https://github.com/scikit-learn/scikit-learn/issues/21755 */display: inline-block !important;position: relative;}#sk-container-id-4 div.sk-text-repr-fallback {display: none;}</style><div id=\"sk-container-id-4\" class=\"sk-top-container\"><div class=\"sk-text-repr-fallback\"><pre>GridSearchCV(estimator=Pipeline(steps=[(&#x27;tfidf&#x27;, TfidfVectorizer()),\n",
              "                                       (&#x27;rf&#x27;,\n",
              "                                        RandomForestClassifier(random_state=0))]),\n",
              "             param_grid={&#x27;rf__max_depth&#x27;: [None, 10, 20],\n",
              "                         &#x27;rf__min_samples_leaf&#x27;: [1, 2, 4],\n",
              "                         &#x27;rf__min_samples_split&#x27;: [2, 5, 10],\n",
              "                         &#x27;rf__n_estimators&#x27;: [0, 10, 20]})</pre><b>In a Jupyter environment, please rerun this cell to show the HTML representation or trust the notebook. <br />On GitHub, the HTML representation is unable to render, please try loading this page with nbviewer.org.</b></div><div class=\"sk-container\" hidden><div class=\"sk-item sk-dashed-wrapped\"><div class=\"sk-label-container\"><div class=\"sk-label sk-toggleable\"><input class=\"sk-toggleable__control sk-hidden--visually\" id=\"sk-estimator-id-12\" type=\"checkbox\" ><label for=\"sk-estimator-id-12\" class=\"sk-toggleable__label sk-toggleable__label-arrow\">GridSearchCV</label><div class=\"sk-toggleable__content\"><pre>GridSearchCV(estimator=Pipeline(steps=[(&#x27;tfidf&#x27;, TfidfVectorizer()),\n",
              "                                       (&#x27;rf&#x27;,\n",
              "                                        RandomForestClassifier(random_state=0))]),\n",
              "             param_grid={&#x27;rf__max_depth&#x27;: [None, 10, 20],\n",
              "                         &#x27;rf__min_samples_leaf&#x27;: [1, 2, 4],\n",
              "                         &#x27;rf__min_samples_split&#x27;: [2, 5, 10],\n",
              "                         &#x27;rf__n_estimators&#x27;: [0, 10, 20]})</pre></div></div></div><div class=\"sk-parallel\"><div class=\"sk-parallel-item\"><div class=\"sk-item\"><div class=\"sk-label-container\"><div class=\"sk-label sk-toggleable\"><input class=\"sk-toggleable__control sk-hidden--visually\" id=\"sk-estimator-id-13\" type=\"checkbox\" ><label for=\"sk-estimator-id-13\" class=\"sk-toggleable__label sk-toggleable__label-arrow\">estimator: Pipeline</label><div class=\"sk-toggleable__content\"><pre>Pipeline(steps=[(&#x27;tfidf&#x27;, TfidfVectorizer()),\n",
              "                (&#x27;rf&#x27;, RandomForestClassifier(random_state=0))])</pre></div></div></div><div class=\"sk-serial\"><div class=\"sk-item\"><div class=\"sk-serial\"><div class=\"sk-item\"><div class=\"sk-estimator sk-toggleable\"><input class=\"sk-toggleable__control sk-hidden--visually\" id=\"sk-estimator-id-14\" type=\"checkbox\" ><label for=\"sk-estimator-id-14\" class=\"sk-toggleable__label sk-toggleable__label-arrow\">TfidfVectorizer</label><div class=\"sk-toggleable__content\"><pre>TfidfVectorizer()</pre></div></div></div><div class=\"sk-item\"><div class=\"sk-estimator sk-toggleable\"><input class=\"sk-toggleable__control sk-hidden--visually\" id=\"sk-estimator-id-15\" type=\"checkbox\" ><label for=\"sk-estimator-id-15\" class=\"sk-toggleable__label sk-toggleable__label-arrow\">RandomForestClassifier</label><div class=\"sk-toggleable__content\"><pre>RandomForestClassifier(random_state=0)</pre></div></div></div></div></div></div></div></div></div></div></div></div>"
            ]
          },
          "metadata": {},
          "execution_count": 144
        }
      ]
    },
    {
      "cell_type": "code",
      "source": [
        "# evaluate\n",
        "print('Train Accuracy : %.3f'%rf_grid.best_estimator_.score(X_train, y_train))\n",
        "print('Test Accuracy : %.3f'%rf_grid.best_estimator_.score(X_test, y_test))\n",
        "print('Best Accuracy Through Grid Search : %.3f'%rf_grid.best_score_)\n",
        "print('Best Parameters : ',rf_grid.best_params_)"
      ],
      "metadata": {
        "colab": {
          "base_uri": "https://localhost:8080/"
        },
        "id": "HlC1ayBTuqxw",
        "outputId": "b580f5e0-26ad-42e3-95bf-fc0af30a2a67"
      },
      "execution_count": null,
      "outputs": [
        {
          "output_type": "stream",
          "name": "stdout",
          "text": [
            "Train Accuracy : 0.940\n",
            "Test Accuracy : 0.382\n",
            "Best Accuracy Through Grid Search : 0.466\n",
            "Best Parameters :  {'rf__max_depth': 20, 'rf__min_samples_leaf': 1, 'rf__min_samples_split': 5, 'rf__n_estimators': 20}\n"
          ]
        }
      ]
    },
    {
      "cell_type": "code",
      "source": [
        "# defining y_pred\n",
        "y_pred = rf_grid.predict(X_test)"
      ],
      "metadata": {
        "id": "iMuA1_lHuqvi"
      },
      "execution_count": null,
      "outputs": []
    },
    {
      "cell_type": "code",
      "source": [
        "print(\"confusion_matrix\")\n",
        "print(confusion_matrix(y_test,y_pred))"
      ],
      "metadata": {
        "colab": {
          "base_uri": "https://localhost:8080/"
        },
        "id": "_RcnCnZhuqtY",
        "outputId": "423ed34d-3a91-468d-fd8f-98b51d2b84b0"
      },
      "execution_count": null,
      "outputs": [
        {
          "output_type": "stream",
          "name": "stdout",
          "text": [
            "confusion_matrix\n",
            "[[0 0 0 0 0 0 0 0 0 0 0 0 0 0 0 0 0 0 0 0 0 0 0 0 0 0 0 0]\n",
            " [0 0 0 0 0 0 0 0 0 0 0 0 0 0 0 0 0 0 0 0 0 0 0 0 0 0 0 0]\n",
            " [1 0 2 0 0 0 0 0 0 0 0 0 0 0 0 0 0 0 0 0 0 0 0 0 0 0 0 0]\n",
            " [0 0 0 0 0 0 0 0 0 0 0 0 0 0 0 0 0 0 0 0 0 0 0 1 0 0 0 0]\n",
            " [0 0 0 0 1 0 0 0 0 0 0 0 0 0 0 0 0 0 0 0 0 0 0 0 0 0 0 0]\n",
            " [0 0 0 0 0 0 0 0 0 0 0 0 0 0 0 0 0 0 0 1 0 0 0 0 0 0 0 0]\n",
            " [0 0 0 0 0 0 1 0 0 0 0 0 0 0 0 0 0 0 0 0 0 0 0 0 0 0 0 0]\n",
            " [0 0 0 0 0 0 0 1 0 0 0 0 0 0 0 0 0 0 0 0 0 0 0 0 0 0 0 0]\n",
            " [0 0 0 0 0 0 0 0 0 0 0 0 0 0 0 0 0 0 0 0 0 0 0 1 0 0 0 0]\n",
            " [0 0 0 0 0 0 0 0 0 1 0 0 0 0 0 0 0 0 0 0 0 0 0 0 0 0 0 0]\n",
            " [0 0 0 0 0 0 0 0 0 0 0 2 0 0 0 0 0 0 0 0 0 0 0 0 0 0 0 0]\n",
            " [0 0 0 0 0 0 0 0 0 0 0 0 0 0 0 0 0 0 0 0 0 0 0 0 0 0 0 0]\n",
            " [0 0 0 0 0 0 0 0 0 0 0 0 0 0 0 0 0 0 0 0 0 0 0 0 0 1 0 0]\n",
            " [0 0 0 0 0 0 0 0 0 0 0 0 0 0 1 0 0 0 0 0 0 0 0 0 0 0 0 0]\n",
            " [0 0 0 0 0 0 0 0 0 0 0 0 0 0 1 0 0 0 0 0 0 0 0 0 0 0 0 0]\n",
            " [0 0 0 0 0 0 0 0 0 0 0 0 0 0 0 1 0 0 0 0 0 0 0 0 0 0 0 0]\n",
            " [0 0 0 0 0 0 0 0 0 0 0 0 0 0 0 0 2 0 0 0 0 0 0 0 0 0 0 0]\n",
            " [2 0 0 0 0 0 0 0 0 0 0 0 0 0 0 0 0 0 0 0 0 0 0 0 0 0 0 0]\n",
            " [1 0 0 0 0 0 0 0 0 0 0 0 0 0 0 0 0 0 1 0 0 0 0 0 0 0 0 0]\n",
            " [0 0 0 0 0 0 0 0 0 0 0 0 0 0 0 0 0 0 0 0 0 0 0 0 0 0 0 0]\n",
            " [0 0 0 0 0 0 0 0 0 0 0 0 0 0 0 0 0 0 0 1 0 0 0 1 0 0 0 0]\n",
            " [0 0 0 0 0 0 0 0 0 0 0 0 0 0 0 0 0 0 0 0 0 1 0 0 0 0 0 0]\n",
            " [0 0 0 0 0 0 0 0 0 0 0 0 0 0 0 0 0 0 0 1 0 1 0 0 0 0 0 0]\n",
            " [0 0 0 0 0 0 0 0 0 0 0 0 0 0 0 0 0 0 0 0 0 0 0 0 0 0 0 0]\n",
            " [0 0 0 0 0 0 0 0 0 0 0 0 0 0 0 0 0 0 0 2 0 0 0 0 0 0 0 0]\n",
            " [0 0 0 0 0 0 0 0 0 0 0 0 0 0 0 0 0 0 0 0 0 0 0 1 0 0 0 0]\n",
            " [0 0 0 0 0 0 0 0 0 0 0 0 0 0 0 0 0 0 0 0 0 0 0 0 0 0 1 0]\n",
            " [0 3 0 0 0 0 0 0 0 0 0 0 0 0 0 0 0 0 0 0 0 0 0 0 0 0 0 0]]\n"
          ]
        }
      ]
    },
    {
      "cell_type": "code",
      "source": [
        "print(\"classification_report\")\n",
        "print(classification_report(y_test,y_pred))"
      ],
      "metadata": {
        "colab": {
          "base_uri": "https://localhost:8080/"
        },
        "id": "mftP-u-KuqrD",
        "outputId": "c9ebf0dd-45e2-4a54-9426-fe3d884f634b"
      },
      "execution_count": null,
      "outputs": [
        {
          "output_type": "stream",
          "name": "stdout",
          "text": [
            "classification_report\n",
            "                                                              precision    recall  f1-score   support\n",
            "\n",
            "                                          Afhentning i butik       0.00      0.00      0.00         0\n",
            "                                        Annullering af ordre       0.00      0.00      0.00         0\n",
            "                                          Bestilling i butik       1.00      0.67      0.80         3\n",
            "                                         Betalingsmuligheder       0.00      0.00      0.00         1\n",
            "                                                     Erhverv       1.00      1.00      1.00         1\n",
            "                                                    Gavekort       0.00      0.00      0.00         1\n",
            "Kan jeg få besked, når en udsolgt vare kommer på lager igen?       1.00      1.00      1.00         1\n",
            "                                        Levering i weekenden       1.00      1.00      1.00         1\n",
            "                                         Leveringsmuligheder       0.00      0.00      0.00         1\n",
            "                           Leveringsmuligheder - DHL Express       1.00      1.00      1.00         1\n",
            "                           Leveringsmuligheder - GLS Erhverv       0.00      0.00      0.00         2\n",
            "                         Leveringsmuligheder - GLS Pakkeshop       0.00      0.00      0.00         0\n",
            "                             Manglende produkter i min ordre       0.00      0.00      0.00         1\n",
            "            Ombytning eller returnering af gave købt i butik       0.00      0.00      0.00         1\n",
            "             Ombytning eller returnering af gave købt online       0.50      1.00      0.67         1\n",
            "                              Ordrebekræftelse ikke modtaget       1.00      1.00      1.00         1\n",
            "                                 Ordrenummer ved returnering       1.00      1.00      1.00         2\n",
            "                         Returnering af bestilling fra butik       0.00      0.00      0.00         2\n",
            "                     Returnering fra fysisk butik til online       1.00      0.50      0.67         2\n",
            "         Sådan indtaster du din rabatkode eller dit gavekort       0.00      0.00      0.00         0\n",
            "                                        Told- og importgebyr       0.00      0.00      0.00         2\n",
            "                                        Vaske- og Care Guide       0.50      1.00      0.67         1\n",
            "                                                   baglommer       0.00      0.00      0.00         2\n",
            "                                                      hilsen       0.00      0.00      0.00         0\n",
            "                                                        moms       0.00      0.00      0.00         2\n",
            "                                              skrædderpriser       0.00      0.00      0.00         1\n",
            "                                                         tak       1.00      1.00      1.00         1\n",
            "                                            Ændring af ordre       0.00      0.00      0.00         3\n",
            "\n",
            "                                                    accuracy                           0.38        34\n",
            "                                                   macro avg       0.36      0.36      0.35        34\n",
            "                                                weighted avg       0.41      0.38      0.38        34\n",
            "\n"
          ]
        }
      ]
    },
    {
      "cell_type": "code",
      "source": [
        "print(\"accuracy_score\")\n",
        "print(accuracy_score(y_test, y_pred))"
      ],
      "metadata": {
        "colab": {
          "base_uri": "https://localhost:8080/"
        },
        "id": "7ERiLio0dc5l",
        "outputId": "39271994-e9ac-4833-a497-418c4e4f25bf"
      },
      "execution_count": null,
      "outputs": [
        {
          "output_type": "stream",
          "name": "stdout",
          "text": [
            "accuracy_score\n",
            "0.38235294117647056\n"
          ]
        }
      ]
    },
    {
      "cell_type": "markdown",
      "source": [
        "### KNN"
      ],
      "metadata": {
        "id": "3Ogdtpk_fOi1"
      }
    },
    {
      "cell_type": "code",
      "source": [
        "# make pipeline for KNeighborsClassifier\n",
        "textclassifier_knn = Pipeline([\n",
        "    ('tfidf', TfidfVectorizer()),\n",
        "    ('knn', KNeighborsClassifier())\n",
        "])"
      ],
      "metadata": {
        "id": "v5lVt8GBvMhs"
      },
      "execution_count": null,
      "outputs": []
    },
    {
      "cell_type": "code",
      "source": [
        "# Hyperparameters to tune\n",
        "params = {'knn__n_neighbors': [5,6,7,8,9,10],\n",
        "          'knn__weights': ['uniform', 'distance'],\n",
        "          'knn__p': [1, 2, 3]\n",
        "          }"
      ],
      "metadata": {
        "id": "mCxGdIvuvNyt"
      },
      "execution_count": null,
      "outputs": []
    },
    {
      "cell_type": "code",
      "source": [
        "# definition of GridSearch for hyperparameter tuning\n",
        "knn_grid = GridSearchCV(estimator=textclassifier_knn, param_grid=params)"
      ],
      "metadata": {
        "id": "6TMEnWnQvOq5"
      },
      "execution_count": null,
      "outputs": []
    },
    {
      "cell_type": "code",
      "source": [
        "# fit the model\n",
        "knn_grid.fit(X_train, y_train)"
      ],
      "metadata": {
        "colab": {
          "base_uri": "https://localhost:8080/",
          "height": 152
        },
        "id": "53JBDB0DvPdL",
        "outputId": "ff566e4d-4615-4493-8294-40b519a3a748"
      },
      "execution_count": null,
      "outputs": [
        {
          "output_type": "execute_result",
          "data": {
            "text/plain": [
              "GridSearchCV(estimator=Pipeline(steps=[('tfidf', TfidfVectorizer()),\n",
              "                                       ('knn', KNeighborsClassifier())]),\n",
              "             param_grid={'knn__n_neighbors': [5, 6, 7, 8, 9, 10],\n",
              "                         'knn__p': [1, 2, 3],\n",
              "                         'knn__weights': ['uniform', 'distance']})"
            ],
            "text/html": [
              "<style>#sk-container-id-5 {color: black;background-color: white;}#sk-container-id-5 pre{padding: 0;}#sk-container-id-5 div.sk-toggleable {background-color: white;}#sk-container-id-5 label.sk-toggleable__label {cursor: pointer;display: block;width: 100%;margin-bottom: 0;padding: 0.3em;box-sizing: border-box;text-align: center;}#sk-container-id-5 label.sk-toggleable__label-arrow:before {content: \"▸\";float: left;margin-right: 0.25em;color: #696969;}#sk-container-id-5 label.sk-toggleable__label-arrow:hover:before {color: black;}#sk-container-id-5 div.sk-estimator:hover label.sk-toggleable__label-arrow:before {color: black;}#sk-container-id-5 div.sk-toggleable__content {max-height: 0;max-width: 0;overflow: hidden;text-align: left;background-color: #f0f8ff;}#sk-container-id-5 div.sk-toggleable__content pre {margin: 0.2em;color: black;border-radius: 0.25em;background-color: #f0f8ff;}#sk-container-id-5 input.sk-toggleable__control:checked~div.sk-toggleable__content {max-height: 200px;max-width: 100%;overflow: auto;}#sk-container-id-5 input.sk-toggleable__control:checked~label.sk-toggleable__label-arrow:before {content: \"▾\";}#sk-container-id-5 div.sk-estimator input.sk-toggleable__control:checked~label.sk-toggleable__label {background-color: #d4ebff;}#sk-container-id-5 div.sk-label input.sk-toggleable__control:checked~label.sk-toggleable__label {background-color: #d4ebff;}#sk-container-id-5 input.sk-hidden--visually {border: 0;clip: rect(1px 1px 1px 1px);clip: rect(1px, 1px, 1px, 1px);height: 1px;margin: -1px;overflow: hidden;padding: 0;position: absolute;width: 1px;}#sk-container-id-5 div.sk-estimator {font-family: monospace;background-color: #f0f8ff;border: 1px dotted black;border-radius: 0.25em;box-sizing: border-box;margin-bottom: 0.5em;}#sk-container-id-5 div.sk-estimator:hover {background-color: #d4ebff;}#sk-container-id-5 div.sk-parallel-item::after {content: \"\";width: 100%;border-bottom: 1px solid gray;flex-grow: 1;}#sk-container-id-5 div.sk-label:hover label.sk-toggleable__label {background-color: #d4ebff;}#sk-container-id-5 div.sk-serial::before {content: \"\";position: absolute;border-left: 1px solid gray;box-sizing: border-box;top: 0;bottom: 0;left: 50%;z-index: 0;}#sk-container-id-5 div.sk-serial {display: flex;flex-direction: column;align-items: center;background-color: white;padding-right: 0.2em;padding-left: 0.2em;position: relative;}#sk-container-id-5 div.sk-item {position: relative;z-index: 1;}#sk-container-id-5 div.sk-parallel {display: flex;align-items: stretch;justify-content: center;background-color: white;position: relative;}#sk-container-id-5 div.sk-item::before, #sk-container-id-5 div.sk-parallel-item::before {content: \"\";position: absolute;border-left: 1px solid gray;box-sizing: border-box;top: 0;bottom: 0;left: 50%;z-index: -1;}#sk-container-id-5 div.sk-parallel-item {display: flex;flex-direction: column;z-index: 1;position: relative;background-color: white;}#sk-container-id-5 div.sk-parallel-item:first-child::after {align-self: flex-end;width: 50%;}#sk-container-id-5 div.sk-parallel-item:last-child::after {align-self: flex-start;width: 50%;}#sk-container-id-5 div.sk-parallel-item:only-child::after {width: 0;}#sk-container-id-5 div.sk-dashed-wrapped {border: 1px dashed gray;margin: 0 0.4em 0.5em 0.4em;box-sizing: border-box;padding-bottom: 0.4em;background-color: white;}#sk-container-id-5 div.sk-label label {font-family: monospace;font-weight: bold;display: inline-block;line-height: 1.2em;}#sk-container-id-5 div.sk-label-container {text-align: center;}#sk-container-id-5 div.sk-container {/* jupyter's `normalize.less` sets `[hidden] { display: none; }` but bootstrap.min.css set `[hidden] { display: none !important; }` so we also need the `!important` here to be able to override the default hidden behavior on the sphinx rendered scikit-learn.org. See: https://github.com/scikit-learn/scikit-learn/issues/21755 */display: inline-block !important;position: relative;}#sk-container-id-5 div.sk-text-repr-fallback {display: none;}</style><div id=\"sk-container-id-5\" class=\"sk-top-container\"><div class=\"sk-text-repr-fallback\"><pre>GridSearchCV(estimator=Pipeline(steps=[(&#x27;tfidf&#x27;, TfidfVectorizer()),\n",
              "                                       (&#x27;knn&#x27;, KNeighborsClassifier())]),\n",
              "             param_grid={&#x27;knn__n_neighbors&#x27;: [5, 6, 7, 8, 9, 10],\n",
              "                         &#x27;knn__p&#x27;: [1, 2, 3],\n",
              "                         &#x27;knn__weights&#x27;: [&#x27;uniform&#x27;, &#x27;distance&#x27;]})</pre><b>In a Jupyter environment, please rerun this cell to show the HTML representation or trust the notebook. <br />On GitHub, the HTML representation is unable to render, please try loading this page with nbviewer.org.</b></div><div class=\"sk-container\" hidden><div class=\"sk-item sk-dashed-wrapped\"><div class=\"sk-label-container\"><div class=\"sk-label sk-toggleable\"><input class=\"sk-toggleable__control sk-hidden--visually\" id=\"sk-estimator-id-16\" type=\"checkbox\" ><label for=\"sk-estimator-id-16\" class=\"sk-toggleable__label sk-toggleable__label-arrow\">GridSearchCV</label><div class=\"sk-toggleable__content\"><pre>GridSearchCV(estimator=Pipeline(steps=[(&#x27;tfidf&#x27;, TfidfVectorizer()),\n",
              "                                       (&#x27;knn&#x27;, KNeighborsClassifier())]),\n",
              "             param_grid={&#x27;knn__n_neighbors&#x27;: [5, 6, 7, 8, 9, 10],\n",
              "                         &#x27;knn__p&#x27;: [1, 2, 3],\n",
              "                         &#x27;knn__weights&#x27;: [&#x27;uniform&#x27;, &#x27;distance&#x27;]})</pre></div></div></div><div class=\"sk-parallel\"><div class=\"sk-parallel-item\"><div class=\"sk-item\"><div class=\"sk-label-container\"><div class=\"sk-label sk-toggleable\"><input class=\"sk-toggleable__control sk-hidden--visually\" id=\"sk-estimator-id-17\" type=\"checkbox\" ><label for=\"sk-estimator-id-17\" class=\"sk-toggleable__label sk-toggleable__label-arrow\">estimator: Pipeline</label><div class=\"sk-toggleable__content\"><pre>Pipeline(steps=[(&#x27;tfidf&#x27;, TfidfVectorizer()), (&#x27;knn&#x27;, KNeighborsClassifier())])</pre></div></div></div><div class=\"sk-serial\"><div class=\"sk-item\"><div class=\"sk-serial\"><div class=\"sk-item\"><div class=\"sk-estimator sk-toggleable\"><input class=\"sk-toggleable__control sk-hidden--visually\" id=\"sk-estimator-id-18\" type=\"checkbox\" ><label for=\"sk-estimator-id-18\" class=\"sk-toggleable__label sk-toggleable__label-arrow\">TfidfVectorizer</label><div class=\"sk-toggleable__content\"><pre>TfidfVectorizer()</pre></div></div></div><div class=\"sk-item\"><div class=\"sk-estimator sk-toggleable\"><input class=\"sk-toggleable__control sk-hidden--visually\" id=\"sk-estimator-id-19\" type=\"checkbox\" ><label for=\"sk-estimator-id-19\" class=\"sk-toggleable__label sk-toggleable__label-arrow\">KNeighborsClassifier</label><div class=\"sk-toggleable__content\"><pre>KNeighborsClassifier()</pre></div></div></div></div></div></div></div></div></div></div></div></div>"
            ]
          },
          "metadata": {},
          "execution_count": 153
        }
      ]
    },
    {
      "cell_type": "code",
      "source": [
        "# evaluate\n",
        "print('Train Accuracy : %.3f'%knn_grid.best_estimator_.score(X_train, y_train))\n",
        "print('Test Accuracy : %.3f'%knn_grid.best_estimator_.score(X_test, y_test))\n",
        "print('Best Accuracy Through Grid Search : %.3f'%knn_grid.best_score_)\n",
        "print('Best Parameters : ',knn_grid.best_params_)"
      ],
      "metadata": {
        "colab": {
          "base_uri": "https://localhost:8080/"
        },
        "id": "5A8uMeIovQYD",
        "outputId": "077835ec-b1ee-4270-d32d-ee18c1c2d17c"
      },
      "execution_count": null,
      "outputs": [
        {
          "output_type": "stream",
          "name": "stdout",
          "text": [
            "Train Accuracy : 1.000\n",
            "Test Accuracy : 0.500\n",
            "Best Accuracy Through Grid Search : 0.511\n",
            "Best Parameters :  {'knn__n_neighbors': 5, 'knn__p': 2, 'knn__weights': 'distance'}\n"
          ]
        }
      ]
    },
    {
      "cell_type": "code",
      "source": [
        "# defining y_pred\n",
        "y_pred = knn_grid.predict(X_test)"
      ],
      "metadata": {
        "id": "73GPHd1kvRmJ"
      },
      "execution_count": null,
      "outputs": []
    },
    {
      "cell_type": "code",
      "source": [
        "print(\"confusion_matrix\")\n",
        "print(confusion_matrix(y_test,y_pred))"
      ],
      "metadata": {
        "colab": {
          "base_uri": "https://localhost:8080/"
        },
        "id": "BchPdhzzvSQ3",
        "outputId": "13abaa92-aaa0-4676-9e44-61c67da22e7a"
      },
      "execution_count": null,
      "outputs": [
        {
          "output_type": "stream",
          "name": "stdout",
          "text": [
            "confusion_matrix\n",
            "[[0 0 0 0 0 0 0 0 0 0 0 0 0 0 0 0 0 0 0 0 0 0 0 0 0 0 0 0 0 0]\n",
            " [0 3 0 0 0 0 0 0 0 0 0 0 0 0 0 0 0 0 0 0 0 0 0 0 0 0 0 0 0 0]\n",
            " [0 0 0 0 0 0 0 0 0 0 0 0 0 0 0 0 0 0 0 0 0 0 0 0 0 0 0 0 0 0]\n",
            " [0 0 0 0 0 0 0 0 1 0 0 0 0 0 0 0 0 0 0 0 0 0 0 0 0 0 0 0 0 0]\n",
            " [0 0 0 0 1 0 0 0 0 0 0 0 0 0 0 0 0 0 0 0 0 0 0 0 0 0 0 0 0 0]\n",
            " [0 0 0 0 0 0 0 0 0 0 0 0 0 0 0 0 0 0 0 0 0 1 0 0 0 0 0 0 0 0]\n",
            " [0 0 0 0 0 0 1 0 0 0 0 0 0 0 0 0 0 0 0 0 0 0 0 0 0 0 0 0 0 0]\n",
            " [0 0 0 0 0 0 0 1 0 0 0 0 0 0 0 0 0 0 0 0 0 0 0 0 0 0 0 0 0 0]\n",
            " [0 0 0 1 0 0 0 0 0 0 0 0 0 0 0 0 0 0 0 0 0 0 0 0 0 0 0 0 0 0]\n",
            " [0 0 0 0 0 0 0 0 0 1 0 0 0 0 0 0 0 0 0 0 0 0 0 0 0 0 0 0 0 0]\n",
            " [0 0 0 0 0 0 0 0 0 0 0 2 0 0 0 0 0 0 0 0 0 0 0 0 0 0 0 0 0 0]\n",
            " [0 0 0 0 0 0 0 0 0 0 0 0 0 0 0 0 0 0 0 0 0 0 0 0 0 0 0 0 0 0]\n",
            " [0 0 0 0 0 0 0 0 0 0 0 0 1 0 0 0 0 0 0 0 0 0 0 0 0 0 0 0 0 0]\n",
            " [0 0 0 0 0 0 0 0 0 0 0 0 0 0 1 0 0 0 0 0 0 0 0 0 0 0 0 0 0 0]\n",
            " [0 0 0 0 0 0 0 0 0 0 0 0 0 0 1 0 0 0 0 0 0 0 0 0 0 0 0 0 0 0]\n",
            " [0 0 0 0 0 0 0 0 0 0 0 0 0 0 0 1 0 0 0 0 0 0 0 0 0 0 0 0 0 0]\n",
            " [0 0 0 0 0 0 0 0 0 0 0 0 0 0 0 0 2 0 0 0 0 0 0 0 0 0 0 0 0 0]\n",
            " [0 0 0 0 0 0 0 0 0 0 0 0 0 0 0 0 0 0 0 0 0 0 0 0 0 0 0 0 0 0]\n",
            " [0 0 0 0 0 0 0 0 0 0 0 0 0 2 0 0 0 0 0 0 0 0 0 0 0 0 0 0 0 0]\n",
            " [0 0 0 0 0 0 0 0 0 0 0 0 0 0 1 0 0 0 0 1 0 0 0 0 0 0 0 0 0 0]\n",
            " [0 0 0 0 0 0 0 0 0 0 0 0 0 0 0 0 0 0 0 0 0 0 0 0 0 0 0 0 0 0]\n",
            " [0 0 0 0 0 0 0 0 0 0 0 0 0 0 0 0 0 0 0 0 0 0 0 0 0 0 0 0 0 0]\n",
            " [0 0 0 0 0 0 0 0 0 0 0 0 0 0 0 0 0 0 0 0 0 1 0 0 0 0 1 0 0 0]\n",
            " [0 0 0 0 0 0 0 0 0 0 0 0 0 0 0 0 0 0 0 0 0 0 0 1 0 0 0 0 0 0]\n",
            " [0 0 0 0 0 0 0 0 0 0 0 0 0 0 0 1 0 0 0 0 1 0 0 0 0 0 0 0 0 0]\n",
            " [0 0 0 0 0 0 0 0 0 0 0 0 0 0 0 0 0 1 0 0 0 0 0 0 0 1 0 0 0 0]\n",
            " [0 0 0 0 0 0 0 0 0 0 0 0 0 0 0 0 0 0 0 0 0 0 0 0 0 0 0 0 0 0]\n",
            " [0 0 1 0 0 0 0 0 0 0 0 0 0 0 0 0 0 0 0 0 0 0 0 0 0 0 0 0 0 0]\n",
            " [0 0 0 0 0 0 0 0 0 0 0 0 0 0 0 0 0 0 0 0 0 0 0 0 0 0 0 0 1 0]\n",
            " [2 0 0 0 0 0 0 0 0 0 0 0 0 0 0 0 0 0 0 0 0 0 0 0 0 0 0 0 0 1]]\n"
          ]
        }
      ]
    },
    {
      "cell_type": "code",
      "source": [
        "print(\"classification_report\")\n",
        "print(classification_report(y_test,y_pred))"
      ],
      "metadata": {
        "colab": {
          "base_uri": "https://localhost:8080/"
        },
        "id": "tnwcBRMMvTGh",
        "outputId": "5a7b1fb3-4653-4f77-feda-45e4e44ac7e7"
      },
      "execution_count": null,
      "outputs": [
        {
          "output_type": "stream",
          "name": "stdout",
          "text": [
            "classification_report\n",
            "                                                              precision    recall  f1-score   support\n",
            "\n",
            "                                        Annullering af ordre       0.00      0.00      0.00         0\n",
            "                                          Bestilling i butik       1.00      1.00      1.00         3\n",
            "                                         Betaling med Klarna       0.00      0.00      0.00         0\n",
            "                                         Betalingsmuligheder       0.00      0.00      0.00         1\n",
            "                                                     Erhverv       1.00      1.00      1.00         1\n",
            "                                                    Gavekort       0.00      0.00      0.00         1\n",
            "Kan jeg få besked, når en udsolgt vare kommer på lager igen?       1.00      1.00      1.00         1\n",
            "                                        Levering i weekenden       1.00      1.00      1.00         1\n",
            "                                         Leveringsmuligheder       0.00      0.00      0.00         1\n",
            "                           Leveringsmuligheder - DHL Express       1.00      1.00      1.00         1\n",
            "                           Leveringsmuligheder - GLS Erhverv       0.00      0.00      0.00         2\n",
            "                         Leveringsmuligheder - GLS Pakkeshop       0.00      0.00      0.00         0\n",
            "                             Manglende produkter i min ordre       1.00      1.00      1.00         1\n",
            "            Ombytning eller returnering af gave købt i butik       0.00      0.00      0.00         1\n",
            "             Ombytning eller returnering af gave købt online       0.33      1.00      0.50         1\n",
            "                              Ordrebekræftelse ikke modtaget       0.50      1.00      0.67         1\n",
            "                                 Ordrenummer ved returnering       1.00      1.00      1.00         2\n",
            "                                                 Refundering       0.00      0.00      0.00         0\n",
            "                         Returnering af bestilling fra butik       0.00      0.00      0.00         2\n",
            "                     Returnering fra fysisk butik til online       1.00      0.50      0.67         2\n",
            "                                              Spor min ordre       0.00      0.00      0.00         0\n",
            "         Sådan indtaster du din rabatkode eller dit gavekort       0.00      0.00      0.00         0\n",
            "                                        Told- og importgebyr       0.00      0.00      0.00         2\n",
            "                                        Vaske- og Care Guide       1.00      1.00      1.00         1\n",
            "                                                   baglommer       0.00      0.00      0.00         2\n",
            "                                                        moms       1.00      0.50      0.67         2\n",
            "                                         regular og slim fit       0.00      0.00      0.00         0\n",
            "                                              skrædderpriser       0.00      0.00      0.00         1\n",
            "                                                         tak       1.00      1.00      1.00         1\n",
            "                                            Ændring af ordre       1.00      0.33      0.50         3\n",
            "\n",
            "                                                    accuracy                           0.50        34\n",
            "                                                   macro avg       0.43      0.41      0.40        34\n",
            "                                                weighted avg       0.58      0.50      0.51        34\n",
            "\n"
          ]
        }
      ]
    },
    {
      "cell_type": "code",
      "source": [
        "print(\"accuracy_score\")\n",
        "print(accuracy_score(y_test, y_pred))"
      ],
      "metadata": {
        "colab": {
          "base_uri": "https://localhost:8080/"
        },
        "id": "UL8jTJJPfW6h",
        "outputId": "0995adfd-6a99-43d5-b659-5ef51331dceb"
      },
      "execution_count": null,
      "outputs": [
        {
          "output_type": "stream",
          "name": "stdout",
          "text": [
            "accuracy_score\n",
            "0.5\n"
          ]
        }
      ]
    },
    {
      "cell_type": "markdown",
      "source": [
        "### Multinomial Naive Bayes"
      ],
      "metadata": {
        "id": "bb6UwhHThRe1"
      }
    },
    {
      "cell_type": "code",
      "source": [
        "# make pipeline for MultinomialNB\n",
        "textclassifier_mnb = Pipeline([\n",
        "    ('tfidf', TfidfVectorizer()),\n",
        "    ('mnb', MultinomialNB())\n",
        "])"
      ],
      "metadata": {
        "id": "-Ou47iL_vmd1"
      },
      "execution_count": null,
      "outputs": []
    },
    {
      "cell_type": "code",
      "source": [
        "# Hyperparameters to tune\n",
        "params = {'mnb__alpha': [0.01, 0.1, 0.3, 0.5, 1.0]}"
      ],
      "metadata": {
        "id": "XywakIsHvnTi"
      },
      "execution_count": null,
      "outputs": []
    },
    {
      "cell_type": "code",
      "source": [
        "# definition of GridSearch for hyperparameter tuning\n",
        "multinomial_nb_grid = GridSearchCV(estimator=textclassifier_mnb, param_grid=params)"
      ],
      "metadata": {
        "id": "xc1W1lefvoNC"
      },
      "execution_count": null,
      "outputs": []
    },
    {
      "cell_type": "code",
      "source": [
        "# fit the model\n",
        "multinomial_nb_grid.fit(X_train, y_train)"
      ],
      "metadata": {
        "colab": {
          "base_uri": "https://localhost:8080/",
          "height": 152
        },
        "id": "Pb5GsPPzvpFD",
        "outputId": "5927289b-f653-4952-82b2-1a693df4c8de"
      },
      "execution_count": null,
      "outputs": [
        {
          "output_type": "execute_result",
          "data": {
            "text/plain": [
              "GridSearchCV(estimator=Pipeline(steps=[('tfidf', TfidfVectorizer()),\n",
              "                                       ('mnb', MultinomialNB())]),\n",
              "             param_grid={'mnb__alpha': [0.01, 0.1, 0.3, 0.5, 1.0]})"
            ],
            "text/html": [
              "<style>#sk-container-id-6 {color: black;background-color: white;}#sk-container-id-6 pre{padding: 0;}#sk-container-id-6 div.sk-toggleable {background-color: white;}#sk-container-id-6 label.sk-toggleable__label {cursor: pointer;display: block;width: 100%;margin-bottom: 0;padding: 0.3em;box-sizing: border-box;text-align: center;}#sk-container-id-6 label.sk-toggleable__label-arrow:before {content: \"▸\";float: left;margin-right: 0.25em;color: #696969;}#sk-container-id-6 label.sk-toggleable__label-arrow:hover:before {color: black;}#sk-container-id-6 div.sk-estimator:hover label.sk-toggleable__label-arrow:before {color: black;}#sk-container-id-6 div.sk-toggleable__content {max-height: 0;max-width: 0;overflow: hidden;text-align: left;background-color: #f0f8ff;}#sk-container-id-6 div.sk-toggleable__content pre {margin: 0.2em;color: black;border-radius: 0.25em;background-color: #f0f8ff;}#sk-container-id-6 input.sk-toggleable__control:checked~div.sk-toggleable__content {max-height: 200px;max-width: 100%;overflow: auto;}#sk-container-id-6 input.sk-toggleable__control:checked~label.sk-toggleable__label-arrow:before {content: \"▾\";}#sk-container-id-6 div.sk-estimator input.sk-toggleable__control:checked~label.sk-toggleable__label {background-color: #d4ebff;}#sk-container-id-6 div.sk-label input.sk-toggleable__control:checked~label.sk-toggleable__label {background-color: #d4ebff;}#sk-container-id-6 input.sk-hidden--visually {border: 0;clip: rect(1px 1px 1px 1px);clip: rect(1px, 1px, 1px, 1px);height: 1px;margin: -1px;overflow: hidden;padding: 0;position: absolute;width: 1px;}#sk-container-id-6 div.sk-estimator {font-family: monospace;background-color: #f0f8ff;border: 1px dotted black;border-radius: 0.25em;box-sizing: border-box;margin-bottom: 0.5em;}#sk-container-id-6 div.sk-estimator:hover {background-color: #d4ebff;}#sk-container-id-6 div.sk-parallel-item::after {content: \"\";width: 100%;border-bottom: 1px solid gray;flex-grow: 1;}#sk-container-id-6 div.sk-label:hover label.sk-toggleable__label {background-color: #d4ebff;}#sk-container-id-6 div.sk-serial::before {content: \"\";position: absolute;border-left: 1px solid gray;box-sizing: border-box;top: 0;bottom: 0;left: 50%;z-index: 0;}#sk-container-id-6 div.sk-serial {display: flex;flex-direction: column;align-items: center;background-color: white;padding-right: 0.2em;padding-left: 0.2em;position: relative;}#sk-container-id-6 div.sk-item {position: relative;z-index: 1;}#sk-container-id-6 div.sk-parallel {display: flex;align-items: stretch;justify-content: center;background-color: white;position: relative;}#sk-container-id-6 div.sk-item::before, #sk-container-id-6 div.sk-parallel-item::before {content: \"\";position: absolute;border-left: 1px solid gray;box-sizing: border-box;top: 0;bottom: 0;left: 50%;z-index: -1;}#sk-container-id-6 div.sk-parallel-item {display: flex;flex-direction: column;z-index: 1;position: relative;background-color: white;}#sk-container-id-6 div.sk-parallel-item:first-child::after {align-self: flex-end;width: 50%;}#sk-container-id-6 div.sk-parallel-item:last-child::after {align-self: flex-start;width: 50%;}#sk-container-id-6 div.sk-parallel-item:only-child::after {width: 0;}#sk-container-id-6 div.sk-dashed-wrapped {border: 1px dashed gray;margin: 0 0.4em 0.5em 0.4em;box-sizing: border-box;padding-bottom: 0.4em;background-color: white;}#sk-container-id-6 div.sk-label label {font-family: monospace;font-weight: bold;display: inline-block;line-height: 1.2em;}#sk-container-id-6 div.sk-label-container {text-align: center;}#sk-container-id-6 div.sk-container {/* jupyter's `normalize.less` sets `[hidden] { display: none; }` but bootstrap.min.css set `[hidden] { display: none !important; }` so we also need the `!important` here to be able to override the default hidden behavior on the sphinx rendered scikit-learn.org. See: https://github.com/scikit-learn/scikit-learn/issues/21755 */display: inline-block !important;position: relative;}#sk-container-id-6 div.sk-text-repr-fallback {display: none;}</style><div id=\"sk-container-id-6\" class=\"sk-top-container\"><div class=\"sk-text-repr-fallback\"><pre>GridSearchCV(estimator=Pipeline(steps=[(&#x27;tfidf&#x27;, TfidfVectorizer()),\n",
              "                                       (&#x27;mnb&#x27;, MultinomialNB())]),\n",
              "             param_grid={&#x27;mnb__alpha&#x27;: [0.01, 0.1, 0.3, 0.5, 1.0]})</pre><b>In a Jupyter environment, please rerun this cell to show the HTML representation or trust the notebook. <br />On GitHub, the HTML representation is unable to render, please try loading this page with nbviewer.org.</b></div><div class=\"sk-container\" hidden><div class=\"sk-item sk-dashed-wrapped\"><div class=\"sk-label-container\"><div class=\"sk-label sk-toggleable\"><input class=\"sk-toggleable__control sk-hidden--visually\" id=\"sk-estimator-id-20\" type=\"checkbox\" ><label for=\"sk-estimator-id-20\" class=\"sk-toggleable__label sk-toggleable__label-arrow\">GridSearchCV</label><div class=\"sk-toggleable__content\"><pre>GridSearchCV(estimator=Pipeline(steps=[(&#x27;tfidf&#x27;, TfidfVectorizer()),\n",
              "                                       (&#x27;mnb&#x27;, MultinomialNB())]),\n",
              "             param_grid={&#x27;mnb__alpha&#x27;: [0.01, 0.1, 0.3, 0.5, 1.0]})</pre></div></div></div><div class=\"sk-parallel\"><div class=\"sk-parallel-item\"><div class=\"sk-item\"><div class=\"sk-label-container\"><div class=\"sk-label sk-toggleable\"><input class=\"sk-toggleable__control sk-hidden--visually\" id=\"sk-estimator-id-21\" type=\"checkbox\" ><label for=\"sk-estimator-id-21\" class=\"sk-toggleable__label sk-toggleable__label-arrow\">estimator: Pipeline</label><div class=\"sk-toggleable__content\"><pre>Pipeline(steps=[(&#x27;tfidf&#x27;, TfidfVectorizer()), (&#x27;mnb&#x27;, MultinomialNB())])</pre></div></div></div><div class=\"sk-serial\"><div class=\"sk-item\"><div class=\"sk-serial\"><div class=\"sk-item\"><div class=\"sk-estimator sk-toggleable\"><input class=\"sk-toggleable__control sk-hidden--visually\" id=\"sk-estimator-id-22\" type=\"checkbox\" ><label for=\"sk-estimator-id-22\" class=\"sk-toggleable__label sk-toggleable__label-arrow\">TfidfVectorizer</label><div class=\"sk-toggleable__content\"><pre>TfidfVectorizer()</pre></div></div></div><div class=\"sk-item\"><div class=\"sk-estimator sk-toggleable\"><input class=\"sk-toggleable__control sk-hidden--visually\" id=\"sk-estimator-id-23\" type=\"checkbox\" ><label for=\"sk-estimator-id-23\" class=\"sk-toggleable__label sk-toggleable__label-arrow\">MultinomialNB</label><div class=\"sk-toggleable__content\"><pre>MultinomialNB()</pre></div></div></div></div></div></div></div></div></div></div></div></div>"
            ]
          },
          "metadata": {},
          "execution_count": 162
        }
      ]
    },
    {
      "cell_type": "code",
      "source": [
        "# evaluate\n",
        "print('Train Accuracy : %.3f'%multinomial_nb_grid.best_estimator_.score(X_train, y_train))\n",
        "print('Test Accuracy : %.3f'%multinomial_nb_grid.best_estimator_.score(X_test, y_test))\n",
        "print('Best Accuracy Through Grid Search : %.3f'%multinomial_nb_grid.best_score_)\n",
        "print('Best Parameters : ',multinomial_nb_grid.best_params_)"
      ],
      "metadata": {
        "colab": {
          "base_uri": "https://localhost:8080/"
        },
        "id": "cr2xA9K6vqh_",
        "outputId": "d20a496c-a2b9-4913-f12d-659affc7ecf2"
      },
      "execution_count": null,
      "outputs": [
        {
          "output_type": "stream",
          "name": "stdout",
          "text": [
            "Train Accuracy : 0.992\n",
            "Test Accuracy : 0.559\n",
            "Best Accuracy Through Grid Search : 0.571\n",
            "Best Parameters :  {'mnb__alpha': 0.01}\n"
          ]
        }
      ]
    },
    {
      "cell_type": "code",
      "source": [
        "# defining y_pred\n",
        "y_pred = multinomial_nb_grid.predict(X_test)"
      ],
      "metadata": {
        "id": "pybfIpM9vsVF"
      },
      "execution_count": null,
      "outputs": []
    },
    {
      "cell_type": "code",
      "source": [
        "print(\"confusion_matrix\")\n",
        "print(confusion_matrix(y_test,y_pred))"
      ],
      "metadata": {
        "colab": {
          "base_uri": "https://localhost:8080/"
        },
        "id": "Yx8COx73vtdg",
        "outputId": "bf9b80fe-5176-42a6-b926-5b6aa04efe60"
      },
      "execution_count": null,
      "outputs": [
        {
          "output_type": "stream",
          "name": "stdout",
          "text": [
            "confusion_matrix\n",
            "[[0 0 0 0 0 0 0 0 0 0 0 0 0 0 0 0 0 0 0 0 0 0 0 0 0 0 0 0 0 0]\n",
            " [0 3 0 0 0 0 0 0 0 0 0 0 0 0 0 0 0 0 0 0 0 0 0 0 0 0 0 0 0 0]\n",
            " [0 0 0 0 0 0 0 0 0 0 0 0 0 0 0 0 0 0 0 0 0 0 0 0 0 0 0 0 0 0]\n",
            " [0 0 0 0 0 0 0 0 0 1 0 0 0 0 0 0 0 0 0 0 0 0 0 0 0 0 0 0 0 0]\n",
            " [0 0 0 0 1 0 0 0 0 0 0 0 0 0 0 0 0 0 0 0 0 0 0 0 0 0 0 0 0 0]\n",
            " [0 0 0 0 0 0 0 0 0 0 0 0 0 0 0 0 0 0 0 0 0 0 0 0 0 0 0 0 0 0]\n",
            " [0 0 0 0 0 0 0 0 0 0 0 0 0 0 0 0 0 0 0 0 0 0 1 0 0 0 0 0 0 0]\n",
            " [0 0 0 0 0 0 0 1 0 0 0 0 0 0 0 0 0 0 0 0 0 0 0 0 0 0 0 0 0 0]\n",
            " [0 0 0 0 0 0 0 0 1 0 0 0 0 0 0 0 0 0 0 0 0 0 0 0 0 0 0 0 0 0]\n",
            " [0 0 0 0 0 0 0 0 0 0 0 0 0 0 0 0 0 0 0 0 0 0 1 0 0 0 0 0 0 0]\n",
            " [0 0 0 0 0 0 0 0 0 0 0 0 1 0 0 0 0 0 0 0 0 0 0 0 0 0 0 0 0 0]\n",
            " [0 0 0 0 1 0 0 0 0 0 0 0 1 0 0 0 0 0 0 0 0 0 0 0 0 0 0 0 0 0]\n",
            " [0 0 0 0 0 0 0 0 0 0 0 0 0 0 0 0 0 0 0 0 0 0 0 0 0 0 0 0 0 0]\n",
            " [0 0 0 0 0 1 0 0 0 0 0 0 0 0 0 0 0 0 0 0 0 0 0 0 0 0 0 0 0 0]\n",
            " [0 0 0 0 0 0 0 0 0 0 0 0 0 0 0 1 0 0 0 0 0 0 0 0 0 0 0 0 0 0]\n",
            " [0 0 0 0 0 0 0 0 0 0 0 0 0 0 0 1 0 0 0 0 0 0 0 0 0 0 0 0 0 0]\n",
            " [0 0 0 0 0 0 0 0 0 0 0 0 0 0 0 0 1 0 0 0 0 0 0 0 0 0 0 0 0 0]\n",
            " [0 0 0 0 0 0 0 0 0 0 0 0 0 0 0 0 0 2 0 0 0 0 0 0 0 0 0 0 0 0]\n",
            " [0 0 0 0 0 0 0 0 0 0 0 0 0 0 0 0 0 0 0 0 0 0 0 0 0 0 0 0 0 0]\n",
            " [0 0 0 0 0 0 0 0 0 0 0 0 0 0 1 0 0 0 0 0 0 1 0 0 0 0 0 0 0 0]\n",
            " [0 0 0 0 0 0 0 0 0 0 0 0 0 0 0 0 0 0 0 0 0 0 0 0 0 0 0 0 0 0]\n",
            " [0 0 0 0 0 0 0 0 0 0 0 0 0 0 0 0 0 0 0 0 0 2 0 0 0 0 0 0 0 0]\n",
            " [0 0 0 0 0 0 0 0 0 0 0 0 0 0 0 0 0 0 0 0 0 0 0 0 0 0 0 0 0 0]\n",
            " [0 0 0 0 0 0 0 0 0 0 0 0 0 0 0 0 0 0 0 0 1 0 0 1 0 0 0 0 0 0]\n",
            " [0 0 0 0 0 0 0 0 0 0 0 0 0 0 0 0 0 0 0 0 0 0 0 0 1 0 0 0 0 0]\n",
            " [0 0 0 0 0 0 0 0 0 0 0 0 0 0 0 0 1 0 0 0 0 0 0 0 0 1 0 0 0 0]\n",
            " [0 0 0 0 0 0 0 0 0 0 0 0 0 0 0 0 0 0 1 0 0 0 0 0 0 0 1 0 0 0]\n",
            " [0 0 1 0 0 0 0 0 0 0 0 0 0 0 0 0 0 0 0 0 0 0 0 0 0 0 0 0 0 0]\n",
            " [0 0 0 0 0 0 0 0 0 0 0 0 0 0 0 0 0 0 0 0 0 0 0 0 0 0 0 0 1 0]\n",
            " [1 0 0 0 0 0 0 0 0 0 0 0 0 0 0 0 0 0 0 0 0 0 0 0 0 0 0 0 0 2]]\n"
          ]
        }
      ]
    },
    {
      "cell_type": "code",
      "source": [
        "print(\"classification_report\")\n",
        "print(classification_report(y_test,y_pred))"
      ],
      "metadata": {
        "colab": {
          "base_uri": "https://localhost:8080/"
        },
        "id": "pcd6hnpBvuXY",
        "outputId": "a23a89be-59fa-45a8-caaf-ad554395cd5e"
      },
      "execution_count": null,
      "outputs": [
        {
          "output_type": "stream",
          "name": "stdout",
          "text": [
            "classification_report\n",
            "                                                              precision    recall  f1-score   support\n",
            "\n",
            "                                        Annullering af ordre       0.00      0.00      0.00         0\n",
            "                                          Bestilling i butik       1.00      1.00      1.00         3\n",
            "                                         Betaling med Klarna       0.00      0.00      0.00         0\n",
            "                                         Betalingsmuligheder       0.00      0.00      0.00         1\n",
            "                                                     Erhverv       0.50      1.00      0.67         1\n",
            "                                    Forkert produkt modtaget       0.00      0.00      0.00         0\n",
            "                                                    Gavekort       0.00      0.00      0.00         1\n",
            "Kan jeg få besked, når en udsolgt vare kommer på lager igen?       1.00      1.00      1.00         1\n",
            "                                        Levering i weekenden       1.00      1.00      1.00         1\n",
            "                                         Leveringsmuligheder       0.00      0.00      0.00         1\n",
            "                           Leveringsmuligheder - DHL Express       0.00      0.00      0.00         1\n",
            "                           Leveringsmuligheder - GLS Erhverv       0.00      0.00      0.00         2\n",
            "                         Leveringsmuligheder - GLS Pakkeshop       0.00      0.00      0.00         0\n",
            "                             Manglende produkter i min ordre       0.00      0.00      0.00         1\n",
            "            Ombytning eller returnering af gave købt i butik       0.00      0.00      0.00         1\n",
            "             Ombytning eller returnering af gave købt online       0.50      1.00      0.67         1\n",
            "                              Ordrebekræftelse ikke modtaget       0.50      1.00      0.67         1\n",
            "                                 Ordrenummer ved returnering       1.00      1.00      1.00         2\n",
            "                                                 Refundering       0.00      0.00      0.00         0\n",
            "                         Returnering af bestilling fra butik       0.00      0.00      0.00         2\n",
            "             Returnering af produkter fra forskellige ordrer       0.00      0.00      0.00         0\n",
            "                     Returnering fra fysisk butik til online       0.67      1.00      0.80         2\n",
            "         Sådan indtaster du din rabatkode eller dit gavekort       0.00      0.00      0.00         0\n",
            "                                        Told- og importgebyr       1.00      0.50      0.67         2\n",
            "                                        Vaske- og Care Guide       1.00      1.00      1.00         1\n",
            "                                                   baglommer       1.00      0.50      0.67         2\n",
            "                                                        moms       1.00      0.50      0.67         2\n",
            "                                              skrædderpriser       0.00      0.00      0.00         1\n",
            "                                                         tak       1.00      1.00      1.00         1\n",
            "                                            Ændring af ordre       1.00      0.67      0.80         3\n",
            "\n",
            "                                                    accuracy                           0.56        34\n",
            "                                                   macro avg       0.41      0.41      0.39        34\n",
            "                                                weighted avg       0.61      0.56      0.56        34\n",
            "\n"
          ]
        }
      ]
    },
    {
      "cell_type": "code",
      "source": [
        "print(\"accuracy_score\")\n",
        "print(accuracy_score(y_test, y_pred))"
      ],
      "metadata": {
        "colab": {
          "base_uri": "https://localhost:8080/"
        },
        "id": "TxuSx-c6gvLs",
        "outputId": "e887421b-1de5-489c-f336-52a60846c5cc"
      },
      "execution_count": null,
      "outputs": [
        {
          "output_type": "stream",
          "name": "stdout",
          "text": [
            "accuracy_score\n",
            "0.5588235294117647\n"
          ]
        }
      ]
    },
    {
      "cell_type": "markdown",
      "source": [
        "### Decision Tree"
      ],
      "metadata": {
        "id": "Bp-JLV-JXrrt"
      }
    },
    {
      "cell_type": "code",
      "source": [
        "# make pipeline for DecisionTreeClassifier\n",
        "textclassifier_dt = Pipeline([\n",
        "    ('tfidf', TfidfVectorizer()),\n",
        "    ('dt', DecisionTreeClassifier())\n",
        "])"
      ],
      "metadata": {
        "id": "80VefsxTwFbb"
      },
      "execution_count": null,
      "outputs": []
    },
    {
      "cell_type": "code",
      "source": [
        "# Hyperparameters to tune\n",
        "params = {\n",
        "    'dt__criterion': ['gini', 'entropy'],\n",
        "    'dt__max_depth': [None, 5, 10, 15, 20],\n",
        "    'dt__min_samples_split': [2, 5, 10],\n",
        "    'dt__min_samples_leaf': [1, 2, 4],\n",
        "    'dt__max_features': ['auto', 'sqrt', 'log2', None],\n",
        "    'dt__random_state': [42]\n",
        "}"
      ],
      "metadata": {
        "id": "lkSfy4xuwFYr"
      },
      "execution_count": null,
      "outputs": []
    },
    {
      "cell_type": "code",
      "source": [
        "# definition of GridSearch for hyperparameter tuning\n",
        "dt_grid = GridSearchCV(estimator=textclassifier_dt, param_grid=params)"
      ],
      "metadata": {
        "id": "qOlGIEpFwFWH"
      },
      "execution_count": null,
      "outputs": []
    },
    {
      "cell_type": "code",
      "source": [
        "# fit the model\n",
        "dt_grid.fit(X_train, y_train)"
      ],
      "metadata": {
        "colab": {
          "base_uri": "https://localhost:8080/",
          "height": 152
        },
        "id": "oaCUkw5nwFTz",
        "outputId": "d4eafec0-b3e0-43eb-ee10-44c7a3f40c0d"
      },
      "execution_count": null,
      "outputs": [
        {
          "output_type": "execute_result",
          "data": {
            "text/plain": [
              "GridSearchCV(estimator=Pipeline(steps=[('tfidf', TfidfVectorizer()),\n",
              "                                       ('dt', DecisionTreeClassifier())]),\n",
              "             param_grid={'dt__criterion': ['gini', 'entropy'],\n",
              "                         'dt__max_depth': [None, 5, 10, 15, 20],\n",
              "                         'dt__max_features': ['auto', 'sqrt', 'log2', None],\n",
              "                         'dt__min_samples_leaf': [1, 2, 4],\n",
              "                         'dt__min_samples_split': [2, 5, 10],\n",
              "                         'dt__random_state': [42]})"
            ],
            "text/html": [
              "<style>#sk-container-id-7 {color: black;background-color: white;}#sk-container-id-7 pre{padding: 0;}#sk-container-id-7 div.sk-toggleable {background-color: white;}#sk-container-id-7 label.sk-toggleable__label {cursor: pointer;display: block;width: 100%;margin-bottom: 0;padding: 0.3em;box-sizing: border-box;text-align: center;}#sk-container-id-7 label.sk-toggleable__label-arrow:before {content: \"▸\";float: left;margin-right: 0.25em;color: #696969;}#sk-container-id-7 label.sk-toggleable__label-arrow:hover:before {color: black;}#sk-container-id-7 div.sk-estimator:hover label.sk-toggleable__label-arrow:before {color: black;}#sk-container-id-7 div.sk-toggleable__content {max-height: 0;max-width: 0;overflow: hidden;text-align: left;background-color: #f0f8ff;}#sk-container-id-7 div.sk-toggleable__content pre {margin: 0.2em;color: black;border-radius: 0.25em;background-color: #f0f8ff;}#sk-container-id-7 input.sk-toggleable__control:checked~div.sk-toggleable__content {max-height: 200px;max-width: 100%;overflow: auto;}#sk-container-id-7 input.sk-toggleable__control:checked~label.sk-toggleable__label-arrow:before {content: \"▾\";}#sk-container-id-7 div.sk-estimator input.sk-toggleable__control:checked~label.sk-toggleable__label {background-color: #d4ebff;}#sk-container-id-7 div.sk-label input.sk-toggleable__control:checked~label.sk-toggleable__label {background-color: #d4ebff;}#sk-container-id-7 input.sk-hidden--visually {border: 0;clip: rect(1px 1px 1px 1px);clip: rect(1px, 1px, 1px, 1px);height: 1px;margin: -1px;overflow: hidden;padding: 0;position: absolute;width: 1px;}#sk-container-id-7 div.sk-estimator {font-family: monospace;background-color: #f0f8ff;border: 1px dotted black;border-radius: 0.25em;box-sizing: border-box;margin-bottom: 0.5em;}#sk-container-id-7 div.sk-estimator:hover {background-color: #d4ebff;}#sk-container-id-7 div.sk-parallel-item::after {content: \"\";width: 100%;border-bottom: 1px solid gray;flex-grow: 1;}#sk-container-id-7 div.sk-label:hover label.sk-toggleable__label {background-color: #d4ebff;}#sk-container-id-7 div.sk-serial::before {content: \"\";position: absolute;border-left: 1px solid gray;box-sizing: border-box;top: 0;bottom: 0;left: 50%;z-index: 0;}#sk-container-id-7 div.sk-serial {display: flex;flex-direction: column;align-items: center;background-color: white;padding-right: 0.2em;padding-left: 0.2em;position: relative;}#sk-container-id-7 div.sk-item {position: relative;z-index: 1;}#sk-container-id-7 div.sk-parallel {display: flex;align-items: stretch;justify-content: center;background-color: white;position: relative;}#sk-container-id-7 div.sk-item::before, #sk-container-id-7 div.sk-parallel-item::before {content: \"\";position: absolute;border-left: 1px solid gray;box-sizing: border-box;top: 0;bottom: 0;left: 50%;z-index: -1;}#sk-container-id-7 div.sk-parallel-item {display: flex;flex-direction: column;z-index: 1;position: relative;background-color: white;}#sk-container-id-7 div.sk-parallel-item:first-child::after {align-self: flex-end;width: 50%;}#sk-container-id-7 div.sk-parallel-item:last-child::after {align-self: flex-start;width: 50%;}#sk-container-id-7 div.sk-parallel-item:only-child::after {width: 0;}#sk-container-id-7 div.sk-dashed-wrapped {border: 1px dashed gray;margin: 0 0.4em 0.5em 0.4em;box-sizing: border-box;padding-bottom: 0.4em;background-color: white;}#sk-container-id-7 div.sk-label label {font-family: monospace;font-weight: bold;display: inline-block;line-height: 1.2em;}#sk-container-id-7 div.sk-label-container {text-align: center;}#sk-container-id-7 div.sk-container {/* jupyter's `normalize.less` sets `[hidden] { display: none; }` but bootstrap.min.css set `[hidden] { display: none !important; }` so we also need the `!important` here to be able to override the default hidden behavior on the sphinx rendered scikit-learn.org. See: https://github.com/scikit-learn/scikit-learn/issues/21755 */display: inline-block !important;position: relative;}#sk-container-id-7 div.sk-text-repr-fallback {display: none;}</style><div id=\"sk-container-id-7\" class=\"sk-top-container\"><div class=\"sk-text-repr-fallback\"><pre>GridSearchCV(estimator=Pipeline(steps=[(&#x27;tfidf&#x27;, TfidfVectorizer()),\n",
              "                                       (&#x27;dt&#x27;, DecisionTreeClassifier())]),\n",
              "             param_grid={&#x27;dt__criterion&#x27;: [&#x27;gini&#x27;, &#x27;entropy&#x27;],\n",
              "                         &#x27;dt__max_depth&#x27;: [None, 5, 10, 15, 20],\n",
              "                         &#x27;dt__max_features&#x27;: [&#x27;auto&#x27;, &#x27;sqrt&#x27;, &#x27;log2&#x27;, None],\n",
              "                         &#x27;dt__min_samples_leaf&#x27;: [1, 2, 4],\n",
              "                         &#x27;dt__min_samples_split&#x27;: [2, 5, 10],\n",
              "                         &#x27;dt__random_state&#x27;: [42]})</pre><b>In a Jupyter environment, please rerun this cell to show the HTML representation or trust the notebook. <br />On GitHub, the HTML representation is unable to render, please try loading this page with nbviewer.org.</b></div><div class=\"sk-container\" hidden><div class=\"sk-item sk-dashed-wrapped\"><div class=\"sk-label-container\"><div class=\"sk-label sk-toggleable\"><input class=\"sk-toggleable__control sk-hidden--visually\" id=\"sk-estimator-id-24\" type=\"checkbox\" ><label for=\"sk-estimator-id-24\" class=\"sk-toggleable__label sk-toggleable__label-arrow\">GridSearchCV</label><div class=\"sk-toggleable__content\"><pre>GridSearchCV(estimator=Pipeline(steps=[(&#x27;tfidf&#x27;, TfidfVectorizer()),\n",
              "                                       (&#x27;dt&#x27;, DecisionTreeClassifier())]),\n",
              "             param_grid={&#x27;dt__criterion&#x27;: [&#x27;gini&#x27;, &#x27;entropy&#x27;],\n",
              "                         &#x27;dt__max_depth&#x27;: [None, 5, 10, 15, 20],\n",
              "                         &#x27;dt__max_features&#x27;: [&#x27;auto&#x27;, &#x27;sqrt&#x27;, &#x27;log2&#x27;, None],\n",
              "                         &#x27;dt__min_samples_leaf&#x27;: [1, 2, 4],\n",
              "                         &#x27;dt__min_samples_split&#x27;: [2, 5, 10],\n",
              "                         &#x27;dt__random_state&#x27;: [42]})</pre></div></div></div><div class=\"sk-parallel\"><div class=\"sk-parallel-item\"><div class=\"sk-item\"><div class=\"sk-label-container\"><div class=\"sk-label sk-toggleable\"><input class=\"sk-toggleable__control sk-hidden--visually\" id=\"sk-estimator-id-25\" type=\"checkbox\" ><label for=\"sk-estimator-id-25\" class=\"sk-toggleable__label sk-toggleable__label-arrow\">estimator: Pipeline</label><div class=\"sk-toggleable__content\"><pre>Pipeline(steps=[(&#x27;tfidf&#x27;, TfidfVectorizer()), (&#x27;dt&#x27;, DecisionTreeClassifier())])</pre></div></div></div><div class=\"sk-serial\"><div class=\"sk-item\"><div class=\"sk-serial\"><div class=\"sk-item\"><div class=\"sk-estimator sk-toggleable\"><input class=\"sk-toggleable__control sk-hidden--visually\" id=\"sk-estimator-id-26\" type=\"checkbox\" ><label for=\"sk-estimator-id-26\" class=\"sk-toggleable__label sk-toggleable__label-arrow\">TfidfVectorizer</label><div class=\"sk-toggleable__content\"><pre>TfidfVectorizer()</pre></div></div></div><div class=\"sk-item\"><div class=\"sk-estimator sk-toggleable\"><input class=\"sk-toggleable__control sk-hidden--visually\" id=\"sk-estimator-id-27\" type=\"checkbox\" ><label for=\"sk-estimator-id-27\" class=\"sk-toggleable__label sk-toggleable__label-arrow\">DecisionTreeClassifier</label><div class=\"sk-toggleable__content\"><pre>DecisionTreeClassifier()</pre></div></div></div></div></div></div></div></div></div></div></div></div>"
            ]
          },
          "metadata": {},
          "execution_count": 171
        }
      ]
    },
    {
      "cell_type": "code",
      "source": [
        "# evaluate\n",
        "print('Train Accuracy : %.3f'%dt_grid.best_estimator_.score(X_train, y_train))\n",
        "print('Test Accuracy : %.3f'%dt_grid.best_estimator_.score(X_test, y_test))\n",
        "print('Best Accuracy Through Grid Search : %.3f'%dt_grid.best_score_)\n",
        "print('Best Parameters : ',dt_grid.best_params_)"
      ],
      "metadata": {
        "colab": {
          "base_uri": "https://localhost:8080/"
        },
        "id": "18aEjJi-wFRM",
        "outputId": "605d62d5-25bb-4128-d402-abf25f2a969e"
      },
      "execution_count": null,
      "outputs": [
        {
          "output_type": "stream",
          "name": "stdout",
          "text": [
            "Train Accuracy : 1.000\n",
            "Test Accuracy : 0.294\n",
            "Best Accuracy Through Grid Search : 0.428\n",
            "Best Parameters :  {'dt__criterion': 'gini', 'dt__max_depth': None, 'dt__max_features': None, 'dt__min_samples_leaf': 1, 'dt__min_samples_split': 2, 'dt__random_state': 42}\n"
          ]
        }
      ]
    },
    {
      "cell_type": "code",
      "source": [
        "# defining y_pred\n",
        "y_pred = dt_grid.predict(X_test)"
      ],
      "metadata": {
        "id": "s9O6cmwbwJ0X"
      },
      "execution_count": null,
      "outputs": []
    },
    {
      "cell_type": "code",
      "source": [
        "print(\"confusion_matrix\")\n",
        "print(confusion_matrix(y_test,y_pred))"
      ],
      "metadata": {
        "colab": {
          "base_uri": "https://localhost:8080/"
        },
        "id": "2BQldgu8wK0r",
        "outputId": "156071e1-9818-4558-edfa-d4ed55895855"
      },
      "execution_count": null,
      "outputs": [
        {
          "output_type": "stream",
          "name": "stdout",
          "text": [
            "confusion_matrix\n",
            "[[0 0 0 0 0 0 0 0 0 0 0 0 0 0 0 0 0 0 0 0 0 0 0 0 0 0 0 0 0 0 0]\n",
            " [1 0 0 0 0 1 0 0 0 0 0 0 0 0 0 0 0 0 0 0 0 0 0 0 1 0 0 0 0 0 0]\n",
            " [0 0 0 0 0 0 0 0 0 0 0 0 0 0 0 0 0 0 0 0 0 0 0 0 1 0 0 0 0 0 0]\n",
            " [0 0 0 1 0 0 0 0 0 0 0 0 0 0 0 0 0 0 0 0 0 0 0 0 0 0 0 0 0 0 0]\n",
            " [0 0 0 0 0 0 0 0 0 0 0 0 0 0 0 0 0 0 0 0 1 0 0 0 0 0 0 0 0 0 0]\n",
            " [0 0 0 0 0 0 0 0 0 0 0 0 0 0 0 0 0 0 0 0 0 0 0 0 1 0 0 0 0 0 0]\n",
            " [0 0 0 0 0 0 1 0 0 0 0 0 0 0 0 0 0 0 0 0 0 0 0 0 0 0 0 0 0 0 0]\n",
            " [0 0 0 0 0 0 0 0 0 0 0 0 0 0 0 0 0 0 0 0 0 0 0 0 1 0 0 0 0 0 0]\n",
            " [0 0 0 0 0 0 0 0 0 0 0 0 0 0 0 0 0 0 0 0 0 0 0 0 0 0 0 0 1 0 0]\n",
            " [0 0 0 0 0 0 0 0 0 0 2 0 0 0 0 0 0 0 0 0 0 0 0 0 0 0 0 0 0 0 0]\n",
            " [0 0 0 0 0 0 0 0 0 0 0 0 0 0 0 0 0 0 0 0 0 0 0 0 0 0 0 0 0 0 0]\n",
            " [0 0 0 0 0 1 0 0 0 0 0 0 0 0 0 0 0 0 0 0 0 0 0 0 0 0 0 0 0 0 0]\n",
            " [0 0 0 0 0 0 0 0 0 0 0 0 0 1 0 0 0 0 0 0 0 0 0 0 0 0 0 0 0 0 0]\n",
            " [0 0 0 0 0 0 0 0 0 0 0 0 0 1 0 0 0 0 0 0 0 0 0 0 0 0 0 0 0 0 0]\n",
            " [0 0 0 0 0 0 0 0 0 0 0 0 0 0 1 0 0 0 0 0 0 0 0 0 0 0 0 0 0 0 0]\n",
            " [0 0 0 0 0 0 0 0 0 0 0 0 0 0 0 2 0 0 0 0 0 0 0 0 0 0 0 0 0 0 0]\n",
            " [0 0 0 0 0 0 0 0 0 0 0 0 0 0 0 0 0 0 0 0 0 0 0 0 0 0 0 0 0 0 0]\n",
            " [1 0 0 0 0 0 0 0 0 0 0 0 1 0 0 0 0 0 0 0 0 0 0 0 0 0 0 0 0 0 0]\n",
            " [1 0 0 0 0 0 0 0 0 0 0 0 0 0 0 0 0 0 1 0 0 0 0 0 0 0 0 0 0 0 0]\n",
            " [0 0 0 0 0 0 0 0 0 0 0 0 0 0 0 0 0 0 0 0 0 0 0 0 0 0 0 0 0 0 0]\n",
            " [0 0 0 0 0 0 0 0 0 0 0 0 0 0 0 0 0 0 0 0 0 0 0 0 0 0 0 0 0 0 0]\n",
            " [0 0 0 0 0 0 0 0 0 0 0 0 0 0 0 0 1 0 0 0 0 0 0 0 1 0 0 0 0 0 0]\n",
            " [0 0 0 0 0 1 0 0 0 0 0 0 0 0 0 0 0 0 0 0 0 0 0 0 0 0 0 0 0 0 0]\n",
            " [0 0 0 0 0 0 0 0 0 0 0 0 0 0 0 0 0 0 0 0 1 1 0 0 0 0 0 0 0 0 0]\n",
            " [0 0 0 0 0 0 0 0 0 0 0 0 0 0 0 0 0 0 0 0 0 0 0 0 0 0 0 0 0 0 0]\n",
            " [0 0 0 0 0 0 0 0 0 0 0 0 0 0 0 0 1 0 0 0 0 0 0 0 0 0 0 1 0 0 0]\n",
            " [0 0 0 0 0 0 0 0 0 0 0 0 0 0 0 0 0 0 0 0 0 0 0 0 1 0 0 0 0 0 0]\n",
            " [0 0 0 0 0 0 0 0 0 0 0 0 0 0 0 0 0 0 0 0 0 0 0 0 0 0 0 0 0 0 0]\n",
            " [0 0 0 0 0 0 0 0 0 0 0 0 0 0 0 0 0 0 0 0 0 0 0 0 0 0 0 0 0 0 0]\n",
            " [0 0 0 0 0 0 0 0 0 0 0 0 0 0 0 0 0 0 0 0 0 0 0 0 0 0 0 0 0 1 0]\n",
            " [0 0 0 0 0 0 0 0 0 0 0 0 0 0 0 0 0 0 0 1 0 0 0 0 0 0 0 0 0 0 2]]\n"
          ]
        }
      ]
    },
    {
      "cell_type": "code",
      "source": [
        "print(\"classification_report\")\n",
        "print(classification_report(y_test,y_pred))"
      ],
      "metadata": {
        "colab": {
          "base_uri": "https://localhost:8080/"
        },
        "id": "zckvxudMwLQi",
        "outputId": "44a66115-9941-4e4b-8c51-1e4723df60f1"
      },
      "execution_count": null,
      "outputs": [
        {
          "output_type": "stream",
          "name": "stdout",
          "text": [
            "classification_report\n",
            "                                                              precision    recall  f1-score   support\n",
            "\n",
            "                                          Afhentning i butik       0.00      0.00      0.00         0\n",
            "                                          Bestilling i butik       0.00      0.00      0.00         3\n",
            "                                         Betalingsmuligheder       0.00      0.00      0.00         1\n",
            "                                                     Erhverv       1.00      1.00      1.00         1\n",
            "                                                    Gavekort       0.00      0.00      0.00         1\n",
            "Kan jeg få besked, når en udsolgt vare kommer på lager igen?       0.00      0.00      0.00         1\n",
            "                                        Levering i weekenden       1.00      1.00      1.00         1\n",
            "                                         Leveringsmuligheder       0.00      0.00      0.00         1\n",
            "                           Leveringsmuligheder - DHL Express       0.00      0.00      0.00         1\n",
            "                           Leveringsmuligheder - GLS Erhverv       0.00      0.00      0.00         2\n",
            "                    Leveringsmuligheder - GLS Privatlevering       0.00      0.00      0.00         0\n",
            "                             Manglende produkter i min ordre       0.00      0.00      0.00         1\n",
            "            Ombytning eller returnering af gave købt i butik       0.00      0.00      0.00         1\n",
            "             Ombytning eller returnering af gave købt online       0.50      1.00      0.67         1\n",
            "                              Ordrebekræftelse ikke modtaget       1.00      1.00      1.00         1\n",
            "                                 Ordrenummer ved returnering       1.00      1.00      1.00         2\n",
            "                                                 Refundering       0.00      0.00      0.00         0\n",
            "                         Returnering af bestilling fra butik       0.00      0.00      0.00         2\n",
            "                     Returnering fra fysisk butik til online       1.00      0.50      0.67         2\n",
            "                                              Spor min ordre       0.00      0.00      0.00         0\n",
            "         Sådan indtaster du din rabatkode eller dit gavekort       0.00      0.00      0.00         0\n",
            "                                        Told- og importgebyr       0.00      0.00      0.00         2\n",
            "                                        Vaske- og Care Guide       0.00      0.00      0.00         1\n",
            "                                                   baglommer       0.00      0.00      0.00         2\n",
            "                                                      hilsen       0.00      0.00      0.00         0\n",
            "                                                        moms       0.00      0.00      0.00         2\n",
            "                                              skrædderpriser       0.00      0.00      0.00         1\n",
            "                                            størrelsesguides       0.00      0.00      0.00         0\n",
            "                                                        svar       0.00      0.00      0.00         0\n",
            "                                                         tak       1.00      1.00      1.00         1\n",
            "                                            Ændring af ordre       1.00      0.67      0.80         3\n",
            "\n",
            "                                                    accuracy                           0.29        34\n",
            "                                                   macro avg       0.24      0.23      0.23        34\n",
            "                                                weighted avg       0.34      0.29      0.31        34\n",
            "\n"
          ]
        }
      ]
    },
    {
      "cell_type": "code",
      "source": [
        "print(\"accuracy_score\")\n",
        "print(accuracy_score(y_test, y_pred))"
      ],
      "metadata": {
        "colab": {
          "base_uri": "https://localhost:8080/"
        },
        "id": "pFKwkl6LS1Vw",
        "outputId": "05e45528-62af-49e7-9595-dca03048d898"
      },
      "execution_count": null,
      "outputs": [
        {
          "output_type": "stream",
          "name": "stdout",
          "text": [
            "accuracy_score\n",
            "0.29411764705882354\n"
          ]
        }
      ]
    },
    {
      "cell_type": "markdown",
      "metadata": {
        "id": "5xfwF8Mbr0YA"
      },
      "source": [
        "## Model loading"
      ]
    },
    {
      "cell_type": "markdown",
      "source": [
        "### LogisticRegression"
      ],
      "metadata": {
        "id": "xzsPp8EGyrqf"
      }
    },
    {
      "cell_type": "code",
      "execution_count": null,
      "metadata": {
        "id": "L4tJqGuer0YA",
        "colab": {
          "base_uri": "https://localhost:8080/",
          "height": 126
        },
        "outputId": "0676e80e-4b8d-48bb-84ad-9866d9ddba97"
      },
      "outputs": [
        {
          "output_type": "execute_result",
          "data": {
            "text/plain": [
              "Pipeline(steps=[('tfidfvectorizer', TfidfVectorizer()),\n",
              "                ('logisticregression', LogisticRegression())])"
            ],
            "text/html": [
              "<style>#sk-container-id-8 {color: black;background-color: white;}#sk-container-id-8 pre{padding: 0;}#sk-container-id-8 div.sk-toggleable {background-color: white;}#sk-container-id-8 label.sk-toggleable__label {cursor: pointer;display: block;width: 100%;margin-bottom: 0;padding: 0.3em;box-sizing: border-box;text-align: center;}#sk-container-id-8 label.sk-toggleable__label-arrow:before {content: \"▸\";float: left;margin-right: 0.25em;color: #696969;}#sk-container-id-8 label.sk-toggleable__label-arrow:hover:before {color: black;}#sk-container-id-8 div.sk-estimator:hover label.sk-toggleable__label-arrow:before {color: black;}#sk-container-id-8 div.sk-toggleable__content {max-height: 0;max-width: 0;overflow: hidden;text-align: left;background-color: #f0f8ff;}#sk-container-id-8 div.sk-toggleable__content pre {margin: 0.2em;color: black;border-radius: 0.25em;background-color: #f0f8ff;}#sk-container-id-8 input.sk-toggleable__control:checked~div.sk-toggleable__content {max-height: 200px;max-width: 100%;overflow: auto;}#sk-container-id-8 input.sk-toggleable__control:checked~label.sk-toggleable__label-arrow:before {content: \"▾\";}#sk-container-id-8 div.sk-estimator input.sk-toggleable__control:checked~label.sk-toggleable__label {background-color: #d4ebff;}#sk-container-id-8 div.sk-label input.sk-toggleable__control:checked~label.sk-toggleable__label {background-color: #d4ebff;}#sk-container-id-8 input.sk-hidden--visually {border: 0;clip: rect(1px 1px 1px 1px);clip: rect(1px, 1px, 1px, 1px);height: 1px;margin: -1px;overflow: hidden;padding: 0;position: absolute;width: 1px;}#sk-container-id-8 div.sk-estimator {font-family: monospace;background-color: #f0f8ff;border: 1px dotted black;border-radius: 0.25em;box-sizing: border-box;margin-bottom: 0.5em;}#sk-container-id-8 div.sk-estimator:hover {background-color: #d4ebff;}#sk-container-id-8 div.sk-parallel-item::after {content: \"\";width: 100%;border-bottom: 1px solid gray;flex-grow: 1;}#sk-container-id-8 div.sk-label:hover label.sk-toggleable__label {background-color: #d4ebff;}#sk-container-id-8 div.sk-serial::before {content: \"\";position: absolute;border-left: 1px solid gray;box-sizing: border-box;top: 0;bottom: 0;left: 50%;z-index: 0;}#sk-container-id-8 div.sk-serial {display: flex;flex-direction: column;align-items: center;background-color: white;padding-right: 0.2em;padding-left: 0.2em;position: relative;}#sk-container-id-8 div.sk-item {position: relative;z-index: 1;}#sk-container-id-8 div.sk-parallel {display: flex;align-items: stretch;justify-content: center;background-color: white;position: relative;}#sk-container-id-8 div.sk-item::before, #sk-container-id-8 div.sk-parallel-item::before {content: \"\";position: absolute;border-left: 1px solid gray;box-sizing: border-box;top: 0;bottom: 0;left: 50%;z-index: -1;}#sk-container-id-8 div.sk-parallel-item {display: flex;flex-direction: column;z-index: 1;position: relative;background-color: white;}#sk-container-id-8 div.sk-parallel-item:first-child::after {align-self: flex-end;width: 50%;}#sk-container-id-8 div.sk-parallel-item:last-child::after {align-self: flex-start;width: 50%;}#sk-container-id-8 div.sk-parallel-item:only-child::after {width: 0;}#sk-container-id-8 div.sk-dashed-wrapped {border: 1px dashed gray;margin: 0 0.4em 0.5em 0.4em;box-sizing: border-box;padding-bottom: 0.4em;background-color: white;}#sk-container-id-8 div.sk-label label {font-family: monospace;font-weight: bold;display: inline-block;line-height: 1.2em;}#sk-container-id-8 div.sk-label-container {text-align: center;}#sk-container-id-8 div.sk-container {/* jupyter's `normalize.less` sets `[hidden] { display: none; }` but bootstrap.min.css set `[hidden] { display: none !important; }` so we also need the `!important` here to be able to override the default hidden behavior on the sphinx rendered scikit-learn.org. See: https://github.com/scikit-learn/scikit-learn/issues/21755 */display: inline-block !important;position: relative;}#sk-container-id-8 div.sk-text-repr-fallback {display: none;}</style><div id=\"sk-container-id-8\" class=\"sk-top-container\"><div class=\"sk-text-repr-fallback\"><pre>Pipeline(steps=[(&#x27;tfidfvectorizer&#x27;, TfidfVectorizer()),\n",
              "                (&#x27;logisticregression&#x27;, LogisticRegression())])</pre><b>In a Jupyter environment, please rerun this cell to show the HTML representation or trust the notebook. <br />On GitHub, the HTML representation is unable to render, please try loading this page with nbviewer.org.</b></div><div class=\"sk-container\" hidden><div class=\"sk-item sk-dashed-wrapped\"><div class=\"sk-label-container\"><div class=\"sk-label sk-toggleable\"><input class=\"sk-toggleable__control sk-hidden--visually\" id=\"sk-estimator-id-28\" type=\"checkbox\" ><label for=\"sk-estimator-id-28\" class=\"sk-toggleable__label sk-toggleable__label-arrow\">Pipeline</label><div class=\"sk-toggleable__content\"><pre>Pipeline(steps=[(&#x27;tfidfvectorizer&#x27;, TfidfVectorizer()),\n",
              "                (&#x27;logisticregression&#x27;, LogisticRegression())])</pre></div></div></div><div class=\"sk-serial\"><div class=\"sk-item\"><div class=\"sk-estimator sk-toggleable\"><input class=\"sk-toggleable__control sk-hidden--visually\" id=\"sk-estimator-id-29\" type=\"checkbox\" ><label for=\"sk-estimator-id-29\" class=\"sk-toggleable__label sk-toggleable__label-arrow\">TfidfVectorizer</label><div class=\"sk-toggleable__content\"><pre>TfidfVectorizer()</pre></div></div></div><div class=\"sk-item\"><div class=\"sk-estimator sk-toggleable\"><input class=\"sk-toggleable__control sk-hidden--visually\" id=\"sk-estimator-id-30\" type=\"checkbox\" ><label for=\"sk-estimator-id-30\" class=\"sk-toggleable__label sk-toggleable__label-arrow\">LogisticRegression</label><div class=\"sk-toggleable__content\"><pre>LogisticRegression()</pre></div></div></div></div></div></div></div>"
            ]
          },
          "metadata": {},
          "execution_count": 177
        }
      ],
      "source": [
        "#instantiate models and \"bundle up as pipeline\"\n",
        "\n",
        "tfidf = TfidfVectorizer()\n",
        "cls = LogisticRegression()\n",
        "\n",
        "pipe = make_pipeline(tfidf, cls)\n",
        "pipe.fit(df.txt_p, df.label)"
      ]
    },
    {
      "cell_type": "code",
      "execution_count": null,
      "metadata": {
        "id": "76g5YUtJr0YB",
        "colab": {
          "base_uri": "https://localhost:8080/"
        },
        "outputId": "5ba8d93b-6e31-4364-e46f-357f99946285"
      },
      "outputs": [
        {
          "output_type": "execute_result",
          "data": {
            "text/plain": [
              "array(['Sådan indtaster du din rabatkode eller dit gavekort'],\n",
              "      dtype=object)"
            ]
          },
          "metadata": {},
          "execution_count": 178
        }
      ],
      "source": [
        "pipe.predict(['Hvordan indtaster jeg rabatkode?'])"
      ]
    },
    {
      "cell_type": "code",
      "execution_count": null,
      "metadata": {
        "id": "93Rfn8pKr0YB"
      },
      "outputs": [],
      "source": [
        "bot_name = '💬 SNT Bot'"
      ]
    },
    {
      "cell_type": "code",
      "execution_count": null,
      "metadata": {
        "id": "A1-rJvQsr0YB"
      },
      "outputs": [],
      "source": [
        "def reply(txt):\n",
        "  clean_text = text_prepro([txt])\n",
        "  tag = pipe.predict(clean_text)[0]\n",
        "  for intent in json_data['intents']:\n",
        "    if tag == intent[\"tag\"]:\n",
        "      return f\"{bot_name}: {random.choice(intent['responses'])}\""
      ]
    },
    {
      "cell_type": "code",
      "execution_count": null,
      "metadata": {
        "id": "c5uHGVPvr0YB",
        "colab": {
          "base_uri": "https://localhost:8080/",
          "height": 87
        },
        "outputId": "5b919a1d-b5dc-43f1-8696-5ae630a1a6ff"
      },
      "outputs": [
        {
          "output_type": "execute_result",
          "data": {
            "text/plain": [
              "\"💬 SNT Bot: Rabatkoder og gavekort indtastes i samme felt. Følg de få trin herunder for at finde feltet:\\n\\n1. Når du har valgt det ønskede produkt, trykker du på indkøbskurven øverst i højre hjørne\\n2. Acceptér så handelsbetingelserne og tryk 'Gå til betaling'\\n3. Herefter kommer du til siden 'Oplysninger', hvor du skal klikke på 'Vis ordreoversigt'\\n4. Du kan nu indtaste dit gavekort eller din rabatkode i feltet\\n\\nHvis du er i besiddelse af et fysisk gavekort i form af et kreditkort, kan du bruge dette online og i de danske butikker ved at indtaste cifrene undtagen de første fem.\\n\\nBemærk venligst: Det ikke er muligt at tilføje en rabatkode til en ordre, hvis man bestiller noget, der i forvejen er nedsat (sæt- eller kvantumrabat).\""
            ],
            "application/vnd.google.colaboratory.intrinsic+json": {
              "type": "string"
            }
          },
          "metadata": {},
          "execution_count": 181
        }
      ],
      "source": [
        "reply('Hvordan bruger jeg en rabatkode?')"
      ]
    },
    {
      "cell_type": "code",
      "execution_count": null,
      "metadata": {
        "id": "kGkebo05r0YB",
        "colab": {
          "base_uri": "https://localhost:8080/",
          "height": 53
        },
        "outputId": "98d56dce-cd15-46df-d8dd-2df63b9c6db2"
      },
      "outputs": [
        {
          "output_type": "execute_result",
          "data": {
            "text/plain": [
              "'💬 SNT Bot: Hvis du har store lår eller lægge plejer det, som udgangspunkt, ikke at være noget problem. Vi tilbyder nemlig både Slim og Regular fit.\\n\\nDu kan altid prøve vores bukser på i nogle timer og derefter bestemme dig for, om du synes, at de har givet sig tilstrækkeligt og sidder, som du ønsker det.'"
            ],
            "application/vnd.google.colaboratory.intrinsic+json": {
              "type": "string"
            }
          },
          "metadata": {},
          "execution_count": 182
        }
      ],
      "source": [
        "reply('Kan jeg passe bukserne hvis jeg har store lår?')"
      ]
    },
    {
      "cell_type": "markdown",
      "source": [
        "### Multinomial Logistic Regression"
      ],
      "metadata": {
        "id": "7JFy_NlFyyJS"
      }
    },
    {
      "cell_type": "code",
      "source": [
        "multinomial_lg_grid.predict(['Hvordan indtaster jeg rabatkode?'])"
      ],
      "metadata": {
        "colab": {
          "base_uri": "https://localhost:8080/"
        },
        "id": "ewfG_narzBCl",
        "outputId": "5890acec-893a-4b89-98fb-987c96c1c67b"
      },
      "execution_count": null,
      "outputs": [
        {
          "output_type": "execute_result",
          "data": {
            "text/plain": [
              "array(['Sådan indtaster du din rabatkode eller dit gavekort'],\n",
              "      dtype=object)"
            ]
          },
          "metadata": {},
          "execution_count": 183
        }
      ]
    },
    {
      "cell_type": "code",
      "source": [
        "def reply_mlg(txt):\n",
        "  clean_text = text_prepro([txt])\n",
        "  tag = multinomial_lg_grid.predict(clean_text)[0]\n",
        "  for intent in json_data['intents']:\n",
        "    if tag == intent[\"tag\"]:\n",
        "      return f\"{bot_name}: {random.choice(intent['responses'])}\""
      ],
      "metadata": {
        "id": "imAS45IRzLG0"
      },
      "execution_count": null,
      "outputs": []
    },
    {
      "cell_type": "code",
      "source": [
        "reply_mlg('Hvordan bruger jeg en rabatkode?')"
      ],
      "metadata": {
        "colab": {
          "base_uri": "https://localhost:8080/",
          "height": 87
        },
        "id": "75bvcrlOzTPQ",
        "outputId": "9890bb90-f0f3-41ba-a138-f6caf8b4383e"
      },
      "execution_count": null,
      "outputs": [
        {
          "output_type": "execute_result",
          "data": {
            "text/plain": [
              "\"💬 SNT Bot: Rabatkoder og gavekort indtastes i samme felt. Følg de få trin herunder for at finde feltet:\\n\\n1. Når du har valgt det ønskede produkt, trykker du på indkøbskurven øverst i højre hjørne\\n2. Acceptér så handelsbetingelserne og tryk 'Gå til betaling'\\n3. Herefter kommer du til siden 'Oplysninger', hvor du skal klikke på 'Vis ordreoversigt'\\n4. Du kan nu indtaste dit gavekort eller din rabatkode i feltet\\n\\nHvis du er i besiddelse af et fysisk gavekort i form af et kreditkort, kan du bruge dette online og i de danske butikker ved at indtaste cifrene undtagen de første fem.\\n\\nBemærk venligst: Det ikke er muligt at tilføje en rabatkode til en ordre, hvis man bestiller noget, der i forvejen er nedsat (sæt- eller kvantumrabat).\""
            ],
            "application/vnd.google.colaboratory.intrinsic+json": {
              "type": "string"
            }
          },
          "metadata": {},
          "execution_count": 185
        }
      ]
    },
    {
      "cell_type": "code",
      "source": [
        "reply_mlg('Hvordan benytter jeg en rabatkode?')"
      ],
      "metadata": {
        "colab": {
          "base_uri": "https://localhost:8080/",
          "height": 87
        },
        "id": "G7e56y7lzdP9",
        "outputId": "2e07cb4a-06ac-4cf0-bc14-1dfdea0e71ff"
      },
      "execution_count": null,
      "outputs": [
        {
          "output_type": "execute_result",
          "data": {
            "text/plain": [
              "\"💬 SNT Bot: Rabatkoder og gavekort indtastes i samme felt. Følg de få trin herunder for at finde feltet:\\n\\n1. Når du har valgt det ønskede produkt, trykker du på indkøbskurven øverst i højre hjørne\\n2. Acceptér så handelsbetingelserne og tryk 'Gå til betaling'\\n3. Herefter kommer du til siden 'Oplysninger', hvor du skal klikke på 'Vis ordreoversigt'\\n4. Du kan nu indtaste dit gavekort eller din rabatkode i feltet\\n\\nHvis du er i besiddelse af et fysisk gavekort i form af et kreditkort, kan du bruge dette online og i de danske butikker ved at indtaste cifrene undtagen de første fem.\\n\\nBemærk venligst: Det ikke er muligt at tilføje en rabatkode til en ordre, hvis man bestiller noget, der i forvejen er nedsat (sæt- eller kvantumrabat).\""
            ],
            "application/vnd.google.colaboratory.intrinsic+json": {
              "type": "string"
            }
          },
          "metadata": {},
          "execution_count": 186
        }
      ]
    },
    {
      "cell_type": "code",
      "source": [
        "reply_mlg('Kan man købe som erhverv?')"
      ],
      "metadata": {
        "colab": {
          "base_uri": "https://localhost:8080/",
          "height": 105
        },
        "id": "3_ZC9ixqzynL",
        "outputId": "a24ccf60-df02-4ceb-b646-9a17f3e15e60"
      },
      "execution_count": null,
      "outputs": [
        {
          "output_type": "execute_result",
          "data": {
            "text/plain": [
              "'💬 SNT Bot: Til alle vores butikker har vi tilknyttet en skrædder, som gør det muligt for dig at få lavet ændringer på dine SNT produkter. Dette er muligt at benytte sig af både ved køb i vores fysiske butikker, men også ved online køb, hvis du efterfølgende møder op i butikken med produktet\\n\\nVores skræddere tilbyder følgende ydelser:  \\n\\nBukser:\\nOplægning: Fra 70,- DKK\\nLynlås, udskiftning: Fra 100,- DKK\\nBukseknap: Fra 20,- DKK\\n\\nBemærk, at ovenstående priser er vejledende.\\n\\nSkjorter:\\nOplægning: Fra 100,- DKK\\n\\nBemærk, at ovenstående pris er vejledende.\\n\\nBlazer:\\nOplægning: Fra 160,- DKK\\nViddejustering: Fra 170,- DKK\\n\\nBemærk, at ovenstående priser er vejledende.\\n\\nPriserne for de forskellige skrædderydelser varierer fra butik til butik. Ønsker du at høre nærmere herom, skal du være velkommen til at henvende dig i vores butikker eller tage kontakt til vores kundeservice'"
            ],
            "application/vnd.google.colaboratory.intrinsic+json": {
              "type": "string"
            }
          },
          "metadata": {},
          "execution_count": 187
        }
      ]
    },
    {
      "cell_type": "code",
      "source": [
        "reply('Kan man købe som erhverv?')"
      ],
      "metadata": {
        "colab": {
          "base_uri": "https://localhost:8080/",
          "height": 87
        },
        "id": "o32WIucuz9sE",
        "outputId": "56e04ba8-a103-470f-ec3d-7d58b30109f2"
      },
      "execution_count": null,
      "outputs": [
        {
          "output_type": "execute_result",
          "data": {
            "text/plain": [
              "\"💬 SNT Bot: Man kan udelukkende købe vores produkter i vores egne butikker i Danmark og Tyskland eller på vores hjemmeside http://shapingnewtomorrow.dk/\\n\\nTip: Der er desværre en del falske hjemmesider i omløb, der påstår at sælge Shaping New Tomorrow produkter. For at undgå ærgerlige og skuffende oplevelser kan du med fordel downloade browserudvidelsen 'Sikker shopping' til Google Chrome, som E-mærket har udviklet i samarbejde med Trygfonden.\\n\\n Installerer du denne app, så fortæller appen dig, hvis du er inde på en hjemmeside, der ikke er sikker og hvor du har stor sandsynlighed for enten at ende op med en kopivare eller, i værste fald, med at miste dine penge.\""
            ],
            "application/vnd.google.colaboratory.intrinsic+json": {
              "type": "string"
            }
          },
          "metadata": {},
          "execution_count": 188
        }
      ]
    },
    {
      "cell_type": "markdown",
      "source": [
        "# Evaluation of models"
      ],
      "metadata": {
        "id": "BBho5c6haUSQ"
      }
    },
    {
      "cell_type": "code",
      "source": [],
      "metadata": {
        "id": "X9B4QodaypAV"
      },
      "execution_count": null,
      "outputs": []
    },
    {
      "cell_type": "markdown",
      "source": [
        "# Deployment of application"
      ],
      "metadata": {
        "id": "sN5mAq06Z6L6"
      }
    },
    {
      "cell_type": "code",
      "source": [
        "def reply(txt):\n",
        "  clean_text = text_prepro([txt])\n",
        "  tag = pipe.predict(clean_text)[0] #LogisticRegression\n",
        "  for intent in json_data['intents']:\n",
        "    if tag == intent[\"tag\"]:\n",
        "      return f\"{bot_name}: {random.choice(intent['responses'])}\""
      ],
      "metadata": {
        "id": "UyOvRYaIynE3"
      },
      "execution_count": null,
      "outputs": []
    },
    {
      "cell_type": "code",
      "source": [
        "def reply_mlg(txt):\n",
        "  clean_text = text_prepro([txt])\n",
        "  tag = multinomial_lg_grid.predict(clean_text)[0] #MultinomialLogisticRegression\n",
        "  for intent in json_data['intents']:\n",
        "    if tag == intent[\"tag\"]:\n",
        "      return f\"{bot_name}: {random.choice(intent['responses'])}\""
      ],
      "metadata": {
        "id": "L1476lQrynae"
      },
      "execution_count": null,
      "outputs": []
    },
    {
      "cell_type": "markdown",
      "source": [
        "## Application"
      ],
      "metadata": {
        "id": "TlCdgHX3ykmC"
      }
    },
    {
      "cell_type": "code",
      "execution_count": null,
      "metadata": {
        "id": "izJvKy1Mr0YC",
        "colab": {
          "base_uri": "https://localhost:8080/",
          "height": 626
        },
        "outputId": "66436417-64d1-4c92-8465-083e43b1b24f"
      },
      "outputs": [
        {
          "output_type": "stream",
          "name": "stdout",
          "text": [
            "Setting queue=True in a Colab notebook requires sharing enabled. Setting `share=True` (you can turn this off by setting `share=False` in `launch()` explicitly).\n",
            "\n",
            "Colab notebook detected. To show errors in colab notebook, set debug=True in launch()\n",
            "Running on public URL: https://1c2d586995d408b1a5.gradio.live\n",
            "\n",
            "This share link expires in 72 hours. For free permanent hosting and GPU upgrades, run `gradio deploy` from Terminal to deploy to Spaces (https://huggingface.co/spaces)\n"
          ]
        },
        {
          "output_type": "display_data",
          "data": {
            "text/plain": [
              "<IPython.core.display.HTML object>"
            ],
            "text/html": [
              "<div><iframe src=\"https://1c2d586995d408b1a5.gradio.live\" width=\"100%\" height=\"500\" allow=\"autoplay; camera; microphone; clipboard-read; clipboard-write;\" frameborder=\"0\" allowfullscreen></iframe></div>"
            ]
          },
          "metadata": {}
        },
        {
          "output_type": "execute_result",
          "data": {
            "text/plain": []
          },
          "metadata": {},
          "execution_count": 191
        }
      ],
      "source": [
        "with gr.Blocks() as demo:\n",
        "    chatbot = gr.Chatbot()\n",
        "    msg = gr.Textbox()\n",
        "    clear = gr.ClearButton([msg, chatbot])\n",
        "\n",
        "    def respond(message, chat_history):\n",
        "        # use the reply_da function to get the bot's message\n",
        "        bot_message = reply(message)\n",
        "        chat_history.append((message, bot_message))\n",
        "        time.sleep(2)\n",
        "        return \"\", chat_history\n",
        "\n",
        "    msg.submit(respond, [msg, chatbot], [msg, chatbot])\n",
        "\n",
        "demo.launch()"
      ]
    },
    {
      "cell_type": "markdown",
      "source": [
        "# Topic modelling\n"
      ],
      "metadata": {
        "id": "G-Ftsdj4lkeq"
      }
    },
    {
      "cell_type": "code",
      "execution_count": null,
      "metadata": {
        "id": "nJ-v98Ydr0YC"
      },
      "outputs": [],
      "source": []
    }
  ],
  "metadata": {
    "kernelspec": {
      "display_name": "bds-chatbot",
      "language": "python",
      "name": "python3"
    },
    "language_info": {
      "codemirror_mode": {
        "name": "ipython",
        "version": 3
      },
      "file_extension": ".py",
      "mimetype": "text/x-python",
      "name": "python",
      "nbconvert_exporter": "python",
      "pygments_lexer": "ipython3",
      "version": "3.11.4"
    },
    "colab": {
      "provenance": [],
      "toc_visible": true,
      "collapsed_sections": [
        "G-Ftsdj4lkeq"
      ]
    }
  },
  "nbformat": 4,
  "nbformat_minor": 0
}